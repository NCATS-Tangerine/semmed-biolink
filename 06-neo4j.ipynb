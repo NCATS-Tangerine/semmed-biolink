{
 "cells": [
  {
   "cell_type": "code",
   "execution_count": 1,
   "metadata": {},
   "outputs": [],
   "source": [
    "# make the file headers correct\n",
    "# https://neo4j.com/docs/operations-manual/current/tools/import/file-header-format/"
   ]
  },
  {
   "cell_type": "code",
   "execution_count": 2,
   "metadata": {},
   "outputs": [],
   "source": [
    "import os\n",
    "import pickle\n",
    "%matplotlib inline\n",
    "import pandas as pd\n",
    "import seaborn as sns\n",
    "import shelve\n",
    "import re\n",
    "from collections import defaultdict, Counter\n",
    "from tqdm import tqdm\n",
    "import requests\n",
    "from pyquery import PyQuery as pq"
   ]
  },
  {
   "cell_type": "code",
   "execution_count": 3,
   "metadata": {},
   "outputs": [
    {
     "data": {
      "text/html": [
       "<div>\n",
       "<style scoped>\n",
       "    .dataframe tbody tr th:only-of-type {\n",
       "        vertical-align: middle;\n",
       "    }\n",
       "\n",
       "    .dataframe tbody tr th {\n",
       "        vertical-align: top;\n",
       "    }\n",
       "\n",
       "    .dataframe thead th {\n",
       "        text-align: right;\n",
       "    }\n",
       "</style>\n",
       "<table border=\"1\" class=\"dataframe\">\n",
       "  <thead>\n",
       "    <tr style=\"text-align: right;\">\n",
       "      <th></th>\n",
       "      <th>ID</th>\n",
       "      <th>label</th>\n",
       "      <th>TYPE</th>\n",
       "      <th>bl_type</th>\n",
       "    </tr>\n",
       "  </thead>\n",
       "  <tbody>\n",
       "    <tr>\n",
       "      <th>0</th>\n",
       "      <td>C0038195</td>\n",
       "      <td>State Medicine</td>\n",
       "      <td>Activities &amp; Behaviors</td>\n",
       "      <td>activity_and_behavior</td>\n",
       "    </tr>\n",
       "    <tr>\n",
       "      <th>1</th>\n",
       "      <td>C1290952</td>\n",
       "      <td>Taking medication</td>\n",
       "      <td>Activities &amp; Behaviors</td>\n",
       "      <td>activity_and_behavior</td>\n",
       "    </tr>\n",
       "    <tr>\n",
       "      <th>2</th>\n",
       "      <td>C0085092</td>\n",
       "      <td>Parenting behavior</td>\n",
       "      <td>Activities &amp; Behaviors</td>\n",
       "      <td>activity_and_behavior</td>\n",
       "    </tr>\n",
       "    <tr>\n",
       "      <th>3</th>\n",
       "      <td>C1096771</td>\n",
       "      <td>Murderer</td>\n",
       "      <td>Activities &amp; Behaviors</td>\n",
       "      <td>activity_and_behavior</td>\n",
       "    </tr>\n",
       "    <tr>\n",
       "      <th>4</th>\n",
       "      <td>C1299651</td>\n",
       "      <td>Serious reportable event</td>\n",
       "      <td>Activities &amp; Behaviors</td>\n",
       "      <td>activity_and_behavior</td>\n",
       "    </tr>\n",
       "  </tbody>\n",
       "</table>\n",
       "</div>"
      ],
      "text/plain": [
       "         ID                     label                    TYPE  \\\n",
       "0  C0038195            State Medicine  Activities & Behaviors   \n",
       "1  C1290952         Taking medication  Activities & Behaviors   \n",
       "2  C0085092        Parenting behavior  Activities & Behaviors   \n",
       "3  C1096771                  Murderer  Activities & Behaviors   \n",
       "4  C1299651  Serious reportable event  Activities & Behaviors   \n",
       "\n",
       "                 bl_type  \n",
       "0  activity_and_behavior  \n",
       "1  activity_and_behavior  \n",
       "2  activity_and_behavior  \n",
       "3  activity_and_behavior  \n",
       "4  activity_and_behavior  "
      ]
     },
     "execution_count": 3,
     "metadata": {},
     "output_type": "execute_result"
    }
   ],
   "source": [
    "# https://biolink.github.io/biolink-model/docs/NamedThing.html\n",
    "nodes = pd.read_csv(\"nodes_biolink.csv\")\n",
    "nodes.head()"
   ]
  },
  {
   "cell_type": "code",
   "execution_count": 4,
   "metadata": {},
   "outputs": [
    {
     "data": {
      "text/plain": [
       "chemical_substance       60964\n",
       "individual_organism      41618\n",
       "disease                  38245\n",
       "protein                  28504\n",
       "genomic_entity           22456\n",
       "anatomical_entity        15181\n",
       "biological_process        9163\n",
       "named_thing               1342\n",
       "activity_and_behavior     1011\n",
       "Name: bl_type, dtype: int64"
      ]
     },
     "execution_count": 4,
     "metadata": {},
     "output_type": "execute_result"
    }
   ],
   "source": [
    "nodes.bl_type.value_counts()"
   ]
  },
  {
   "cell_type": "code",
   "execution_count": 5,
   "metadata": {},
   "outputs": [],
   "source": [
    "del nodes['TYPE']"
   ]
  },
  {
   "cell_type": "code",
   "execution_count": 6,
   "metadata": {},
   "outputs": [],
   "source": [
    "nodes.ID = \"UMLS:\" + nodes.ID\n",
    "nodes['category:STRING'] = nodes.bl_type\n",
    "nodes['id:STRING'] = nodes.ID"
   ]
  },
  {
   "cell_type": "code",
   "execution_count": 7,
   "metadata": {},
   "outputs": [],
   "source": [
    "nodes.rename(columns = {'ID': ':ID', 'label': 'name:STRING', 'bl_type': ':LABEL'}, inplace=True)"
   ]
  },
  {
   "cell_type": "code",
   "execution_count": 8,
   "metadata": {},
   "outputs": [
    {
     "data": {
      "text/html": [
       "<div>\n",
       "<style scoped>\n",
       "    .dataframe tbody tr th:only-of-type {\n",
       "        vertical-align: middle;\n",
       "    }\n",
       "\n",
       "    .dataframe tbody tr th {\n",
       "        vertical-align: top;\n",
       "    }\n",
       "\n",
       "    .dataframe thead th {\n",
       "        text-align: right;\n",
       "    }\n",
       "</style>\n",
       "<table border=\"1\" class=\"dataframe\">\n",
       "  <thead>\n",
       "    <tr style=\"text-align: right;\">\n",
       "      <th></th>\n",
       "      <th>:ID</th>\n",
       "      <th>name:STRING</th>\n",
       "      <th>:LABEL</th>\n",
       "      <th>category:STRING</th>\n",
       "      <th>id:STRING</th>\n",
       "    </tr>\n",
       "  </thead>\n",
       "  <tbody>\n",
       "    <tr>\n",
       "      <th>0</th>\n",
       "      <td>UMLS:C0038195</td>\n",
       "      <td>State Medicine</td>\n",
       "      <td>activity_and_behavior</td>\n",
       "      <td>activity_and_behavior</td>\n",
       "      <td>UMLS:C0038195</td>\n",
       "    </tr>\n",
       "    <tr>\n",
       "      <th>1</th>\n",
       "      <td>UMLS:C1290952</td>\n",
       "      <td>Taking medication</td>\n",
       "      <td>activity_and_behavior</td>\n",
       "      <td>activity_and_behavior</td>\n",
       "      <td>UMLS:C1290952</td>\n",
       "    </tr>\n",
       "    <tr>\n",
       "      <th>2</th>\n",
       "      <td>UMLS:C0085092</td>\n",
       "      <td>Parenting behavior</td>\n",
       "      <td>activity_and_behavior</td>\n",
       "      <td>activity_and_behavior</td>\n",
       "      <td>UMLS:C0085092</td>\n",
       "    </tr>\n",
       "    <tr>\n",
       "      <th>3</th>\n",
       "      <td>UMLS:C1096771</td>\n",
       "      <td>Murderer</td>\n",
       "      <td>activity_and_behavior</td>\n",
       "      <td>activity_and_behavior</td>\n",
       "      <td>UMLS:C1096771</td>\n",
       "    </tr>\n",
       "    <tr>\n",
       "      <th>4</th>\n",
       "      <td>UMLS:C1299651</td>\n",
       "      <td>Serious reportable event</td>\n",
       "      <td>activity_and_behavior</td>\n",
       "      <td>activity_and_behavior</td>\n",
       "      <td>UMLS:C1299651</td>\n",
       "    </tr>\n",
       "  </tbody>\n",
       "</table>\n",
       "</div>"
      ],
      "text/plain": [
       "             :ID               name:STRING                 :LABEL  \\\n",
       "0  UMLS:C0038195            State Medicine  activity_and_behavior   \n",
       "1  UMLS:C1290952         Taking medication  activity_and_behavior   \n",
       "2  UMLS:C0085092        Parenting behavior  activity_and_behavior   \n",
       "3  UMLS:C1096771                  Murderer  activity_and_behavior   \n",
       "4  UMLS:C1299651  Serious reportable event  activity_and_behavior   \n",
       "\n",
       "         category:STRING      id:STRING  \n",
       "0  activity_and_behavior  UMLS:C0038195  \n",
       "1  activity_and_behavior  UMLS:C1290952  \n",
       "2  activity_and_behavior  UMLS:C0085092  \n",
       "3  activity_and_behavior  UMLS:C1096771  \n",
       "4  activity_and_behavior  UMLS:C1299651  "
      ]
     },
     "execution_count": 8,
     "metadata": {},
     "output_type": "execute_result"
    }
   ],
   "source": [
    "nodes.head()"
   ]
  },
  {
   "cell_type": "code",
   "execution_count": 9,
   "metadata": {},
   "outputs": [],
   "source": [
    "nodes.to_csv(\"nodes_neo4j.csv\", index=False)"
   ]
  },
  {
   "cell_type": "code",
   "execution_count": 10,
   "metadata": {},
   "outputs": [],
   "source": [
    "###### EDGES"
   ]
  },
  {
   "cell_type": "code",
   "execution_count": 11,
   "metadata": {},
   "outputs": [],
   "source": [
    "# https://biolink.github.io/biolink-model/docs/Association.html\n",
    "edges = pd.read_csv('edges_biolink.csv')"
   ]
  },
  {
   "cell_type": "code",
   "execution_count": 12,
   "metadata": {},
   "outputs": [],
   "source": [
    "edges.START_ID = \"UMLS:\" + edges.START_ID\n",
    "edges.END_ID = \"UMLS:\" + edges.END_ID"
   ]
  },
  {
   "cell_type": "code",
   "execution_count": 13,
   "metadata": {},
   "outputs": [
    {
     "data": {
      "text/html": [
       "<div>\n",
       "<style scoped>\n",
       "    .dataframe tbody tr th:only-of-type {\n",
       "        vertical-align: middle;\n",
       "    }\n",
       "\n",
       "    .dataframe tbody tr th {\n",
       "        vertical-align: top;\n",
       "    }\n",
       "\n",
       "    .dataframe thead th {\n",
       "        text-align: right;\n",
       "    }\n",
       "</style>\n",
       "<table border=\"1\" class=\"dataframe\">\n",
       "  <thead>\n",
       "    <tr style=\"text-align: right;\">\n",
       "      <th></th>\n",
       "      <th>START_ID</th>\n",
       "      <th>END_ID</th>\n",
       "      <th>pmids</th>\n",
       "      <th>n_pmids</th>\n",
       "      <th>NEG</th>\n",
       "      <th>bl_pred</th>\n",
       "      <th>bl_type</th>\n",
       "    </tr>\n",
       "  </thead>\n",
       "  <tbody>\n",
       "    <tr>\n",
       "      <th>0</th>\n",
       "      <td>UMLS:C0086931</td>\n",
       "      <td>UMLS:C0037369</td>\n",
       "      <td>26656404;8816000;19745413;17710714;21412223;19...</td>\n",
       "      <td>6</td>\n",
       "      <td>False</td>\n",
       "      <td>AFFECTS</td>\n",
       "      <td>activity_and_behavior.AFFECTS.activity_and_beh...</td>\n",
       "    </tr>\n",
       "    <tr>\n",
       "      <th>1</th>\n",
       "      <td>UMLS:C0950156</td>\n",
       "      <td>UMLS:C0009671</td>\n",
       "      <td>12584106</td>\n",
       "      <td>1</td>\n",
       "      <td>False</td>\n",
       "      <td>AFFECTS</td>\n",
       "      <td>activity_and_behavior.AFFECTS.activity_and_beh...</td>\n",
       "    </tr>\n",
       "    <tr>\n",
       "      <th>2</th>\n",
       "      <td>UMLS:C0024810</td>\n",
       "      <td>UMLS:C0035651</td>\n",
       "      <td>15775958;11173168</td>\n",
       "      <td>2</td>\n",
       "      <td>False</td>\n",
       "      <td>AFFECTS</td>\n",
       "      <td>activity_and_behavior.AFFECTS.activity_and_beh...</td>\n",
       "    </tr>\n",
       "    <tr>\n",
       "      <th>3</th>\n",
       "      <td>UMLS:C0556297</td>\n",
       "      <td>UMLS:C0037369</td>\n",
       "      <td>12164677;9373700</td>\n",
       "      <td>2</td>\n",
       "      <td>False</td>\n",
       "      <td>AFFECTS</td>\n",
       "      <td>activity_and_behavior.AFFECTS.activity_and_beh...</td>\n",
       "    </tr>\n",
       "    <tr>\n",
       "      <th>4</th>\n",
       "      <td>UMLS:C1154333</td>\n",
       "      <td>UMLS:C0015745</td>\n",
       "      <td>23872405</td>\n",
       "      <td>1</td>\n",
       "      <td>False</td>\n",
       "      <td>AFFECTS</td>\n",
       "      <td>activity_and_behavior.AFFECTS.activity_and_beh...</td>\n",
       "    </tr>\n",
       "  </tbody>\n",
       "</table>\n",
       "</div>"
      ],
      "text/plain": [
       "        START_ID         END_ID  \\\n",
       "0  UMLS:C0086931  UMLS:C0037369   \n",
       "1  UMLS:C0950156  UMLS:C0009671   \n",
       "2  UMLS:C0024810  UMLS:C0035651   \n",
       "3  UMLS:C0556297  UMLS:C0037369   \n",
       "4  UMLS:C1154333  UMLS:C0015745   \n",
       "\n",
       "                                               pmids  n_pmids    NEG  bl_pred  \\\n",
       "0  26656404;8816000;19745413;17710714;21412223;19...        6  False  AFFECTS   \n",
       "1                                           12584106        1  False  AFFECTS   \n",
       "2                                  15775958;11173168        2  False  AFFECTS   \n",
       "3                                   12164677;9373700        2  False  AFFECTS   \n",
       "4                                           23872405        1  False  AFFECTS   \n",
       "\n",
       "                                             bl_type  \n",
       "0  activity_and_behavior.AFFECTS.activity_and_beh...  \n",
       "1  activity_and_behavior.AFFECTS.activity_and_beh...  \n",
       "2  activity_and_behavior.AFFECTS.activity_and_beh...  \n",
       "3  activity_and_behavior.AFFECTS.activity_and_beh...  \n",
       "4  activity_and_behavior.AFFECTS.activity_and_beh...  "
      ]
     },
     "execution_count": 13,
     "metadata": {},
     "output_type": "execute_result"
    }
   ],
   "source": [
    "edges.head()"
   ]
  },
  {
   "cell_type": "code",
   "execution_count": 14,
   "metadata": {},
   "outputs": [],
   "source": [
    "edges.bl_pred = edges.bl_pred.str.lower()\n",
    "edges.rename(columns = {'START_ID': ':START_ID', 'END_ID': ':END_ID', \n",
    "                        'bl_pred': ':TYPE', 'NEG': 'negated'}, inplace=True)"
   ]
  },
  {
   "cell_type": "code",
   "execution_count": 15,
   "metadata": {},
   "outputs": [],
   "source": [
    "edges['is_defined_by'] = \"semmeddb\"\n",
    "edges['relation'] = \"semmeddb:\" + edges[\":TYPE\"].str.lower()\n",
    "edges['provided_by'] = \"semmeddb_sulab\""
   ]
  },
  {
   "cell_type": "code",
   "execution_count": 16,
   "metadata": {},
   "outputs": [
    {
     "data": {
      "text/html": [
       "<div>\n",
       "<style scoped>\n",
       "    .dataframe tbody tr th:only-of-type {\n",
       "        vertical-align: middle;\n",
       "    }\n",
       "\n",
       "    .dataframe tbody tr th {\n",
       "        vertical-align: top;\n",
       "    }\n",
       "\n",
       "    .dataframe thead th {\n",
       "        text-align: right;\n",
       "    }\n",
       "</style>\n",
       "<table border=\"1\" class=\"dataframe\">\n",
       "  <thead>\n",
       "    <tr style=\"text-align: right;\">\n",
       "      <th></th>\n",
       "      <th>:START_ID</th>\n",
       "      <th>:END_ID</th>\n",
       "      <th>pmids</th>\n",
       "      <th>n_pmids</th>\n",
       "      <th>negated</th>\n",
       "      <th>:TYPE</th>\n",
       "      <th>bl_type</th>\n",
       "      <th>is_defined_by</th>\n",
       "      <th>relation</th>\n",
       "      <th>provided_by</th>\n",
       "    </tr>\n",
       "  </thead>\n",
       "  <tbody>\n",
       "    <tr>\n",
       "      <th>0</th>\n",
       "      <td>UMLS:C0086931</td>\n",
       "      <td>UMLS:C0037369</td>\n",
       "      <td>26656404;8816000;19745413;17710714;21412223;19...</td>\n",
       "      <td>6</td>\n",
       "      <td>False</td>\n",
       "      <td>affects</td>\n",
       "      <td>activity_and_behavior.AFFECTS.activity_and_beh...</td>\n",
       "      <td>semmeddb</td>\n",
       "      <td>semmeddb:affects</td>\n",
       "      <td>semmeddb_sulab</td>\n",
       "    </tr>\n",
       "    <tr>\n",
       "      <th>1</th>\n",
       "      <td>UMLS:C0950156</td>\n",
       "      <td>UMLS:C0009671</td>\n",
       "      <td>12584106</td>\n",
       "      <td>1</td>\n",
       "      <td>False</td>\n",
       "      <td>affects</td>\n",
       "      <td>activity_and_behavior.AFFECTS.activity_and_beh...</td>\n",
       "      <td>semmeddb</td>\n",
       "      <td>semmeddb:affects</td>\n",
       "      <td>semmeddb_sulab</td>\n",
       "    </tr>\n",
       "    <tr>\n",
       "      <th>2</th>\n",
       "      <td>UMLS:C0024810</td>\n",
       "      <td>UMLS:C0035651</td>\n",
       "      <td>15775958;11173168</td>\n",
       "      <td>2</td>\n",
       "      <td>False</td>\n",
       "      <td>affects</td>\n",
       "      <td>activity_and_behavior.AFFECTS.activity_and_beh...</td>\n",
       "      <td>semmeddb</td>\n",
       "      <td>semmeddb:affects</td>\n",
       "      <td>semmeddb_sulab</td>\n",
       "    </tr>\n",
       "    <tr>\n",
       "      <th>3</th>\n",
       "      <td>UMLS:C0556297</td>\n",
       "      <td>UMLS:C0037369</td>\n",
       "      <td>12164677;9373700</td>\n",
       "      <td>2</td>\n",
       "      <td>False</td>\n",
       "      <td>affects</td>\n",
       "      <td>activity_and_behavior.AFFECTS.activity_and_beh...</td>\n",
       "      <td>semmeddb</td>\n",
       "      <td>semmeddb:affects</td>\n",
       "      <td>semmeddb_sulab</td>\n",
       "    </tr>\n",
       "    <tr>\n",
       "      <th>4</th>\n",
       "      <td>UMLS:C1154333</td>\n",
       "      <td>UMLS:C0015745</td>\n",
       "      <td>23872405</td>\n",
       "      <td>1</td>\n",
       "      <td>False</td>\n",
       "      <td>affects</td>\n",
       "      <td>activity_and_behavior.AFFECTS.activity_and_beh...</td>\n",
       "      <td>semmeddb</td>\n",
       "      <td>semmeddb:affects</td>\n",
       "      <td>semmeddb_sulab</td>\n",
       "    </tr>\n",
       "  </tbody>\n",
       "</table>\n",
       "</div>"
      ],
      "text/plain": [
       "       :START_ID        :END_ID  \\\n",
       "0  UMLS:C0086931  UMLS:C0037369   \n",
       "1  UMLS:C0950156  UMLS:C0009671   \n",
       "2  UMLS:C0024810  UMLS:C0035651   \n",
       "3  UMLS:C0556297  UMLS:C0037369   \n",
       "4  UMLS:C1154333  UMLS:C0015745   \n",
       "\n",
       "                                               pmids  n_pmids  negated  \\\n",
       "0  26656404;8816000;19745413;17710714;21412223;19...        6    False   \n",
       "1                                           12584106        1    False   \n",
       "2                                  15775958;11173168        2    False   \n",
       "3                                   12164677;9373700        2    False   \n",
       "4                                           23872405        1    False   \n",
       "\n",
       "     :TYPE                                            bl_type is_defined_by  \\\n",
       "0  affects  activity_and_behavior.AFFECTS.activity_and_beh...      semmeddb   \n",
       "1  affects  activity_and_behavior.AFFECTS.activity_and_beh...      semmeddb   \n",
       "2  affects  activity_and_behavior.AFFECTS.activity_and_beh...      semmeddb   \n",
       "3  affects  activity_and_behavior.AFFECTS.activity_and_beh...      semmeddb   \n",
       "4  affects  activity_and_behavior.AFFECTS.activity_and_beh...      semmeddb   \n",
       "\n",
       "           relation     provided_by  \n",
       "0  semmeddb:affects  semmeddb_sulab  \n",
       "1  semmeddb:affects  semmeddb_sulab  \n",
       "2  semmeddb:affects  semmeddb_sulab  \n",
       "3  semmeddb:affects  semmeddb_sulab  \n",
       "4  semmeddb:affects  semmeddb_sulab  "
      ]
     },
     "execution_count": 16,
     "metadata": {},
     "output_type": "execute_result"
    }
   ],
   "source": [
    "edges.head()"
   ]
  },
  {
   "cell_type": "code",
   "execution_count": 17,
   "metadata": {},
   "outputs": [],
   "source": [
    "edges.to_csv(\"edges_neo4j.csv\", index=False)"
   ]
  },
  {
   "cell_type": "code",
   "execution_count": null,
   "metadata": {},
   "outputs": [],
   "source": []
  },
  {
   "cell_type": "raw",
   "metadata": {},
   "source": [
    "# notes to copy and set up neo4j\n",
    "\n",
    "scp -i ~/.ssh/Neo4j-AWSMarketplace-Key.pem nodes_neo4j.csv edges_neo4j.csv ubuntu@34.229.55.225:\n",
    "\n",
    "ssh -i ~/.ssh/Neo4j-AWSMarketplace-Key.pem ubuntu@34.229.55.225\n",
    "# on aws\n",
    "sudo su\n",
    "neo4j stop\n",
    "rm -rf /var/lib/neo4j/data/databases/graph.db\n",
    "mv nodes_neo4j.csv edges_neo4j.csv /var/lib/neo4j/import/\n",
    "cd /var/lib/neo4j/import/\n",
    "neo4j-admin import --nodes nodes_neo4j.csv --relationships edges_neo4j.csv\n",
    "neo4j start\n"
   ]
  }
 ],
 "metadata": {
  "kernelspec": {
   "display_name": "Python 3",
   "language": "python",
   "name": "python3"
  },
  "language_info": {
   "codemirror_mode": {
    "name": "ipython",
    "version": 3
   },
   "file_extension": ".py",
   "mimetype": "text/x-python",
   "name": "python",
   "nbconvert_exporter": "python",
   "pygments_lexer": "ipython3",
   "version": "3.5.2"
  }
 },
 "nbformat": 4,
 "nbformat_minor": 2
}
