{
 "cells": [
  {
   "cell_type": "code",
   "execution_count": 1,
   "metadata": {},
   "outputs": [],
   "source": [
    "# make the file headers correct\n",
    "# https://neo4j.com/docs/operations-manual/current/tools/import/file-header-format/"
   ]
  },
  {
   "cell_type": "code",
   "execution_count": 1,
   "metadata": {},
   "outputs": [],
   "source": [
    "import os\n",
    "import pickle\n",
    "%matplotlib inline\n",
    "import pandas as pd\n",
    "import seaborn as sns\n",
    "import shelve\n",
    "import re\n",
    "from collections import defaultdict, Counter\n",
    "from tqdm import tqdm\n",
    "import requests\n",
    "from pyquery import PyQuery as pq"
   ]
  },
  {
   "cell_type": "code",
   "execution_count": 2,
   "metadata": {},
   "outputs": [
    {
     "data": {
      "text/html": [
       "<div>\n",
       "<style scoped>\n",
       "    .dataframe tbody tr th:only-of-type {\n",
       "        vertical-align: middle;\n",
       "    }\n",
       "\n",
       "    .dataframe tbody tr th {\n",
       "        vertical-align: top;\n",
       "    }\n",
       "\n",
       "    .dataframe thead th {\n",
       "        text-align: right;\n",
       "    }\n",
       "</style>\n",
       "<table border=\"1\" class=\"dataframe\">\n",
       "  <thead>\n",
       "    <tr style=\"text-align: right;\">\n",
       "      <th></th>\n",
       "      <th>ID</th>\n",
       "      <th>label</th>\n",
       "      <th>TYPE</th>\n",
       "      <th>bl_type</th>\n",
       "    </tr>\n",
       "  </thead>\n",
       "  <tbody>\n",
       "    <tr>\n",
       "      <th>0</th>\n",
       "      <td>C0038195</td>\n",
       "      <td>State Medicine</td>\n",
       "      <td>Activities &amp; Behaviors</td>\n",
       "      <td>activity_and_behavior</td>\n",
       "    </tr>\n",
       "    <tr>\n",
       "      <th>1</th>\n",
       "      <td>C1290952</td>\n",
       "      <td>Taking medication</td>\n",
       "      <td>Activities &amp; Behaviors</td>\n",
       "      <td>activity_and_behavior</td>\n",
       "    </tr>\n",
       "    <tr>\n",
       "      <th>2</th>\n",
       "      <td>C0085092</td>\n",
       "      <td>Parenting behavior</td>\n",
       "      <td>Activities &amp; Behaviors</td>\n",
       "      <td>activity_and_behavior</td>\n",
       "    </tr>\n",
       "    <tr>\n",
       "      <th>3</th>\n",
       "      <td>C1096771</td>\n",
       "      <td>Murderer</td>\n",
       "      <td>Activities &amp; Behaviors</td>\n",
       "      <td>activity_and_behavior</td>\n",
       "    </tr>\n",
       "    <tr>\n",
       "      <th>4</th>\n",
       "      <td>C1299651</td>\n",
       "      <td>Serious reportable event</td>\n",
       "      <td>Activities &amp; Behaviors</td>\n",
       "      <td>activity_and_behavior</td>\n",
       "    </tr>\n",
       "  </tbody>\n",
       "</table>\n",
       "</div>"
      ],
      "text/plain": [
       "         ID                     label                    TYPE  \\\n",
       "0  C0038195            State Medicine  Activities & Behaviors   \n",
       "1  C1290952         Taking medication  Activities & Behaviors   \n",
       "2  C0085092        Parenting behavior  Activities & Behaviors   \n",
       "3  C1096771                  Murderer  Activities & Behaviors   \n",
       "4  C1299651  Serious reportable event  Activities & Behaviors   \n",
       "\n",
       "                 bl_type  \n",
       "0  activity_and_behavior  \n",
       "1  activity_and_behavior  \n",
       "2  activity_and_behavior  \n",
       "3  activity_and_behavior  \n",
       "4  activity_and_behavior  "
      ]
     },
     "execution_count": 2,
     "metadata": {},
     "output_type": "execute_result"
    }
   ],
   "source": [
    "# https://biolink.github.io/biolink-model/docs/NamedThing.html\n",
    "nodes = pd.read_csv(\"nodes_biolink.csv\")\n",
    "nodes.head()"
   ]
  },
  {
   "cell_type": "code",
   "execution_count": 3,
   "metadata": {},
   "outputs": [],
   "source": [
    "del nodes['TYPE']"
   ]
  },
  {
   "cell_type": "code",
   "execution_count": 4,
   "metadata": {},
   "outputs": [],
   "source": [
    "nodes.ID = \"UMLS:\" + nodes.ID\n",
    "nodes['category:STRING'] = nodes.bl_type\n",
    "nodes['id:STRING'] = nodes.ID"
   ]
  },
  {
   "cell_type": "code",
   "execution_count": 5,
   "metadata": {},
   "outputs": [],
   "source": [
    "nodes.rename(columns = {'ID': ':ID', 'label': 'name:STRING', 'bl_type': ':LABEL'}, inplace=True)"
   ]
  },
  {
   "cell_type": "code",
   "execution_count": 6,
   "metadata": {},
   "outputs": [
    {
     "data": {
      "text/html": [
       "<div>\n",
       "<style scoped>\n",
       "    .dataframe tbody tr th:only-of-type {\n",
       "        vertical-align: middle;\n",
       "    }\n",
       "\n",
       "    .dataframe tbody tr th {\n",
       "        vertical-align: top;\n",
       "    }\n",
       "\n",
       "    .dataframe thead th {\n",
       "        text-align: right;\n",
       "    }\n",
       "</style>\n",
       "<table border=\"1\" class=\"dataframe\">\n",
       "  <thead>\n",
       "    <tr style=\"text-align: right;\">\n",
       "      <th></th>\n",
       "      <th>:ID</th>\n",
       "      <th>name:STRING</th>\n",
       "      <th>:LABEL</th>\n",
       "      <th>category:STRING</th>\n",
       "      <th>id:STRING</th>\n",
       "    </tr>\n",
       "  </thead>\n",
       "  <tbody>\n",
       "    <tr>\n",
       "      <th>0</th>\n",
       "      <td>UMLS:C0038195</td>\n",
       "      <td>State Medicine</td>\n",
       "      <td>activity_and_behavior</td>\n",
       "      <td>activity_and_behavior</td>\n",
       "      <td>UMLS:C0038195</td>\n",
       "    </tr>\n",
       "    <tr>\n",
       "      <th>1</th>\n",
       "      <td>UMLS:C1290952</td>\n",
       "      <td>Taking medication</td>\n",
       "      <td>activity_and_behavior</td>\n",
       "      <td>activity_and_behavior</td>\n",
       "      <td>UMLS:C1290952</td>\n",
       "    </tr>\n",
       "    <tr>\n",
       "      <th>2</th>\n",
       "      <td>UMLS:C0085092</td>\n",
       "      <td>Parenting behavior</td>\n",
       "      <td>activity_and_behavior</td>\n",
       "      <td>activity_and_behavior</td>\n",
       "      <td>UMLS:C0085092</td>\n",
       "    </tr>\n",
       "    <tr>\n",
       "      <th>3</th>\n",
       "      <td>UMLS:C1096771</td>\n",
       "      <td>Murderer</td>\n",
       "      <td>activity_and_behavior</td>\n",
       "      <td>activity_and_behavior</td>\n",
       "      <td>UMLS:C1096771</td>\n",
       "    </tr>\n",
       "    <tr>\n",
       "      <th>4</th>\n",
       "      <td>UMLS:C1299651</td>\n",
       "      <td>Serious reportable event</td>\n",
       "      <td>activity_and_behavior</td>\n",
       "      <td>activity_and_behavior</td>\n",
       "      <td>UMLS:C1299651</td>\n",
       "    </tr>\n",
       "  </tbody>\n",
       "</table>\n",
       "</div>"
      ],
      "text/plain": [
       "             :ID               name:STRING                 :LABEL  \\\n",
       "0  UMLS:C0038195            State Medicine  activity_and_behavior   \n",
       "1  UMLS:C1290952         Taking medication  activity_and_behavior   \n",
       "2  UMLS:C0085092        Parenting behavior  activity_and_behavior   \n",
       "3  UMLS:C1096771                  Murderer  activity_and_behavior   \n",
       "4  UMLS:C1299651  Serious reportable event  activity_and_behavior   \n",
       "\n",
       "         category:STRING      id:STRING  \n",
       "0  activity_and_behavior  UMLS:C0038195  \n",
       "1  activity_and_behavior  UMLS:C1290952  \n",
       "2  activity_and_behavior  UMLS:C0085092  \n",
       "3  activity_and_behavior  UMLS:C1096771  \n",
       "4  activity_and_behavior  UMLS:C1299651  "
      ]
     },
     "execution_count": 6,
     "metadata": {},
     "output_type": "execute_result"
    }
   ],
   "source": [
    "nodes.head()"
   ]
  },
  {
   "cell_type": "code",
   "execution_count": 7,
   "metadata": {},
   "outputs": [],
   "source": [
    "nodes.to_csv(\"nodes_neo4j.csv\", index=False)"
   ]
  },
  {
   "cell_type": "code",
   "execution_count": 8,
   "metadata": {},
   "outputs": [],
   "source": [
    "###### EDGES"
   ]
  },
  {
   "cell_type": "code",
   "execution_count": null,
   "metadata": {},
   "outputs": [],
   "source": [
    "# https://biolink.github.io/biolink-model/docs/Association.html\n",
    "edges = pd.read_csv('edges_biolink.csv')"
   ]
  },
  {
   "cell_type": "code",
   "execution_count": null,
   "metadata": {},
   "outputs": [],
   "source": [
    "edges.START_ID = \"UMLS:\" + edges.START_ID\n",
    "edges.END_ID = \"UMLS:\" + edges.END_ID"
   ]
  },
  {
   "cell_type": "code",
   "execution_count": null,
   "metadata": {},
   "outputs": [],
   "source": [
    "edges.head()"
   ]
  },
  {
   "cell_type": "code",
   "execution_count": null,
   "metadata": {},
   "outputs": [],
   "source": [
    "edges.bl_pred = edges.bl_pred.str.lower()\n",
    "edges.rename(columns = {'START_ID': ':START_ID', 'END_ID': ':END_ID', \n",
    "                        'bl_pred': ':TYPE', 'NEG': 'negated'}, inplace=True)"
   ]
  },
  {
   "cell_type": "code",
   "execution_count": null,
   "metadata": {},
   "outputs": [],
   "source": [
    "edges['is_defined_by'] = \"semmeddb\"\n",
    "edges['relation'] = \"semmeddb:\" + edges[\":TYPE\"].str.lower()\n",
    "edges['provided_by'] = \"semmeddb_sulab\""
   ]
  },
  {
   "cell_type": "code",
   "execution_count": null,
   "metadata": {},
   "outputs": [],
   "source": [
    "edges.head()"
   ]
  },
  {
   "cell_type": "code",
   "execution_count": null,
   "metadata": {},
   "outputs": [],
   "source": [
    "edges.to_csv(\"edges_neo4j.csv\", index=False)"
   ]
  },
  {
   "cell_type": "code",
   "execution_count": null,
   "metadata": {},
   "outputs": [],
   "source": []
  },
  {
   "cell_type": "raw",
   "metadata": {},
   "source": [
    "# notes to copy and set up neo4j\n",
    "\n",
    "scp -i ~/.ssh/Neo4j-AWSMarketplace-Key.pem nodes_neo4j.csv edges_neo4j.csv ubuntu@34.229.55.225:\n",
    "\n",
    "ssh -i ~/.ssh/Neo4j-AWSMarketplace-Key.pem ubuntu@34.229.55.225\n",
    "# on aws\n",
    "sudo su\n",
    "neo4j stop\n",
    "rm -rf /var/lib/neo4j/data/databases/graph.db\n",
    "mv nodes_neo4j.csv edges_neo4j.csv /var/lib/neo4j/import/\n",
    "cd /var/lib/neo4j/import/\n",
    "neo4j-admin import --nodes nodes_neo4j.csv --relationships edges_neo4j.csv\n",
    "neo4j start\n"
   ]
  }
 ],
 "metadata": {
  "kernelspec": {
   "display_name": "Python 3",
   "language": "python",
   "name": "python3"
  },
  "language_info": {
   "codemirror_mode": {
    "name": "ipython",
    "version": 3
   },
   "file_extension": ".py",
   "mimetype": "text/x-python",
   "name": "python",
   "nbconvert_exporter": "python",
   "pygments_lexer": "ipython3",
   "version": "3.5.2"
  }
 },
 "nbformat": 4,
 "nbformat_minor": 2
}
