{
 "cells": [
  {
   "cell_type": "code",
   "execution_count": 1,
   "metadata": {},
   "outputs": [],
   "source": [
    "import os\n",
    "import pickle\n",
    "%matplotlib inline\n",
    "import pandas as pd\n",
    "import seaborn as sns\n",
    "import re\n",
    "from collections import defaultdict, Counter\n",
    "from tqdm import tqdm"
   ]
  },
  {
   "cell_type": "code",
   "execution_count": 2,
   "metadata": {},
   "outputs": [],
   "source": [
    "edges = pd.read_csv('edges_filtered.csv')"
   ]
  },
  {
   "cell_type": "code",
   "execution_count": 3,
   "metadata": {},
   "outputs": [],
   "source": [
    "nodes = pd.read_csv(\"nodes_filtered.csv\")"
   ]
  },
  {
   "cell_type": "code",
   "execution_count": 4,
   "metadata": {},
   "outputs": [],
   "source": [
    "abv = pd.read_csv(\"abv.csv\")\n",
    "name_abv = dict(zip(abv.full_name, abv.abv))\n",
    "abv_name = dict(zip(abv.abv, abv.full_name))"
   ]
  },
  {
   "cell_type": "code",
   "execution_count": 5,
   "metadata": {},
   "outputs": [
    {
     "data": {
      "text/html": [
       "<div>\n",
       "<style scoped>\n",
       "    .dataframe tbody tr th:only-of-type {\n",
       "        vertical-align: middle;\n",
       "    }\n",
       "\n",
       "    .dataframe tbody tr th {\n",
       "        vertical-align: top;\n",
       "    }\n",
       "\n",
       "    .dataframe thead th {\n",
       "        text-align: right;\n",
       "    }\n",
       "</style>\n",
       "<table border=\"1\" class=\"dataframe\">\n",
       "  <thead>\n",
       "    <tr style=\"text-align: right;\">\n",
       "      <th></th>\n",
       "      <th>START_ID</th>\n",
       "      <th>END_ID</th>\n",
       "      <th>TYPE</th>\n",
       "      <th>pmids</th>\n",
       "      <th>n_pmids</th>\n",
       "      <th>NEG</th>\n",
       "      <th>DOMAIN</th>\n",
       "      <th>PRED</th>\n",
       "      <th>RANGE</th>\n",
       "    </tr>\n",
       "  </thead>\n",
       "  <tbody>\n",
       "    <tr>\n",
       "      <th>0</th>\n",
       "      <td>C0086931</td>\n",
       "      <td>C0037369</td>\n",
       "      <td>ABafAB</td>\n",
       "      <td>26656404;8816000;19745413;17710714;21412223;19...</td>\n",
       "      <td>6</td>\n",
       "      <td>False</td>\n",
       "      <td>AB</td>\n",
       "      <td>af</td>\n",
       "      <td>AB</td>\n",
       "    </tr>\n",
       "    <tr>\n",
       "      <th>1</th>\n",
       "      <td>C0950156</td>\n",
       "      <td>C0009671</td>\n",
       "      <td>ABafAB</td>\n",
       "      <td>12584106</td>\n",
       "      <td>1</td>\n",
       "      <td>False</td>\n",
       "      <td>AB</td>\n",
       "      <td>af</td>\n",
       "      <td>AB</td>\n",
       "    </tr>\n",
       "    <tr>\n",
       "      <th>2</th>\n",
       "      <td>C0024810</td>\n",
       "      <td>C0035651</td>\n",
       "      <td>ABafAB</td>\n",
       "      <td>15775958;11173168</td>\n",
       "      <td>2</td>\n",
       "      <td>False</td>\n",
       "      <td>AB</td>\n",
       "      <td>af</td>\n",
       "      <td>AB</td>\n",
       "    </tr>\n",
       "    <tr>\n",
       "      <th>3</th>\n",
       "      <td>C0556297</td>\n",
       "      <td>C0037369</td>\n",
       "      <td>ABafAB</td>\n",
       "      <td>12164677;9373700</td>\n",
       "      <td>2</td>\n",
       "      <td>False</td>\n",
       "      <td>AB</td>\n",
       "      <td>af</td>\n",
       "      <td>AB</td>\n",
       "    </tr>\n",
       "    <tr>\n",
       "      <th>4</th>\n",
       "      <td>C1154333</td>\n",
       "      <td>C0015745</td>\n",
       "      <td>ABafAB</td>\n",
       "      <td>23872405</td>\n",
       "      <td>1</td>\n",
       "      <td>False</td>\n",
       "      <td>AB</td>\n",
       "      <td>af</td>\n",
       "      <td>AB</td>\n",
       "    </tr>\n",
       "  </tbody>\n",
       "</table>\n",
       "</div>"
      ],
      "text/plain": [
       "   START_ID    END_ID    TYPE  \\\n",
       "0  C0086931  C0037369  ABafAB   \n",
       "1  C0950156  C0009671  ABafAB   \n",
       "2  C0024810  C0035651  ABafAB   \n",
       "3  C0556297  C0037369  ABafAB   \n",
       "4  C1154333  C0015745  ABafAB   \n",
       "\n",
       "                                               pmids  n_pmids    NEG DOMAIN  \\\n",
       "0  26656404;8816000;19745413;17710714;21412223;19...        6  False     AB   \n",
       "1                                           12584106        1  False     AB   \n",
       "2                                  15775958;11173168        2  False     AB   \n",
       "3                                   12164677;9373700        2  False     AB   \n",
       "4                                           23872405        1  False     AB   \n",
       "\n",
       "  PRED RANGE  \n",
       "0   af    AB  \n",
       "1   af    AB  \n",
       "2   af    AB  \n",
       "3   af    AB  \n",
       "4   af    AB  "
      ]
     },
     "execution_count": 5,
     "metadata": {},
     "output_type": "execute_result"
    }
   ],
   "source": [
    "edges.head()"
   ]
  },
  {
   "cell_type": "code",
   "execution_count": 6,
   "metadata": {},
   "outputs": [
    {
     "data": {
      "text/html": [
       "<div>\n",
       "<style scoped>\n",
       "    .dataframe tbody tr th:only-of-type {\n",
       "        vertical-align: middle;\n",
       "    }\n",
       "\n",
       "    .dataframe tbody tr th {\n",
       "        vertical-align: top;\n",
       "    }\n",
       "\n",
       "    .dataframe thead th {\n",
       "        text-align: right;\n",
       "    }\n",
       "</style>\n",
       "<table border=\"1\" class=\"dataframe\">\n",
       "  <thead>\n",
       "    <tr style=\"text-align: right;\">\n",
       "      <th></th>\n",
       "      <th>ID</th>\n",
       "      <th>label</th>\n",
       "      <th>TYPE</th>\n",
       "    </tr>\n",
       "  </thead>\n",
       "  <tbody>\n",
       "    <tr>\n",
       "      <th>0</th>\n",
       "      <td>C0038195</td>\n",
       "      <td>State Medicine</td>\n",
       "      <td>Activities &amp; Behaviors</td>\n",
       "    </tr>\n",
       "    <tr>\n",
       "      <th>1</th>\n",
       "      <td>C1290952</td>\n",
       "      <td>Taking medication</td>\n",
       "      <td>Activities &amp; Behaviors</td>\n",
       "    </tr>\n",
       "    <tr>\n",
       "      <th>2</th>\n",
       "      <td>C0680552</td>\n",
       "      <td>legalization</td>\n",
       "      <td>Activities &amp; Behaviors</td>\n",
       "    </tr>\n",
       "    <tr>\n",
       "      <th>3</th>\n",
       "      <td>C0085092</td>\n",
       "      <td>Parenting behavior</td>\n",
       "      <td>Activities &amp; Behaviors</td>\n",
       "    </tr>\n",
       "    <tr>\n",
       "      <th>4</th>\n",
       "      <td>C1096771</td>\n",
       "      <td>Murderer</td>\n",
       "      <td>Activities &amp; Behaviors</td>\n",
       "    </tr>\n",
       "  </tbody>\n",
       "</table>\n",
       "</div>"
      ],
      "text/plain": [
       "         ID               label                    TYPE\n",
       "0  C0038195      State Medicine  Activities & Behaviors\n",
       "1  C1290952   Taking medication  Activities & Behaviors\n",
       "2  C0680552        legalization  Activities & Behaviors\n",
       "3  C0085092  Parenting behavior  Activities & Behaviors\n",
       "4  C1096771            Murderer  Activities & Behaviors"
      ]
     },
     "execution_count": 6,
     "metadata": {},
     "output_type": "execute_result"
    }
   ],
   "source": [
    "nodes.head()"
   ]
  },
  {
   "cell_type": "code",
   "execution_count": 7,
   "metadata": {},
   "outputs": [
    {
     "data": {
      "text/plain": [
       "Chemicals & Drugs              63783\n",
       "Living Beings                  47222\n",
       "Disorders                      39876\n",
       "protein                        29400\n",
       "Genes & Molecular Sequences    20802\n",
       "Anatomy                        15496\n",
       "Procedures                     13781\n",
       "Physiology                      8048\n",
       "Concepts & Ideas                4265\n",
       "Devices                         3873\n",
       "genomic_entity                  1851\n",
       "Objects                         1437\n",
       "Activities & Behaviors          1386\n",
       "Phenomena                       1159\n",
       "Organizations                    892\n",
       "Geographic Areas                 494\n",
       "Occupations                      457\n",
       "Name: TYPE, dtype: int64"
      ]
     },
     "execution_count": 7,
     "metadata": {},
     "output_type": "execute_result"
    }
   ],
   "source": [
    "nodes.TYPE.value_counts()"
   ]
  },
  {
   "cell_type": "code",
   "execution_count": 8,
   "metadata": {},
   "outputs": [
    {
     "data": {
      "text/plain": [
       "[('CD', 14627962),\n",
       " ('G', 5869982),\n",
       " ('A', 5433270),\n",
       " ('DO', 2991932),\n",
       " ('PR', 1844272),\n",
       " ('LB', 1618726),\n",
       " ('PS', 731956),\n",
       " ('DV', 203056),\n",
       " ('PH', 104548),\n",
       " ('OR', 82326),\n",
       " ('AB', 80390),\n",
       " ('OB', 78912),\n",
       " ('CI', 67118),\n",
       " ('GA', 3998),\n",
       " ('OC', 2870)]"
      ]
     },
     "execution_count": 8,
     "metadata": {},
     "output_type": "execute_result"
    }
   ],
   "source": [
    "# number of edges by node type\n",
    "Counter(list(edges.DOMAIN) + list(edges.DOMAIN)).most_common()"
   ]
  },
  {
   "cell_type": "code",
   "execution_count": 9,
   "metadata": {},
   "outputs": [],
   "source": [
    "def print_most_common(node_type):\n",
    "    x = edges[edges.DOMAIN == node_type].START_ID\n",
    "    y = edges[edges.RANGE == node_type].END_ID\n",
    "    c = [x[0] for x in Counter(list(x) + list(y)).most_common(10)]\n",
    "    print(nodes.loc[c])"
   ]
  },
  {
   "cell_type": "code",
   "execution_count": 10,
   "metadata": {
    "scrolled": false
   },
   "outputs": [],
   "source": [
    "# [print_most_common(x) for x in set(edges.domain)]"
   ]
  },
  {
   "cell_type": "code",
   "execution_count": 11,
   "metadata": {},
   "outputs": [
    {
     "data": {
      "text/plain": [
       "['CI', 'OR', 'GA', 'OC', 'DV', 'PR']"
      ]
     },
     "execution_count": 11,
     "metadata": {},
     "output_type": "execute_result"
    }
   ],
   "source": [
    "# these are not useful or would be very difficult to normalize\n",
    "remove_nodes = ['Concepts & Ideas', 'Organizations', 'Geographic Areas', 'Occupations', 'Devices',\n",
    "               'Procedures']\n",
    "remove_nodes = [name_abv[x] for x in remove_nodes]\n",
    "remove_nodes"
   ]
  },
  {
   "cell_type": "code",
   "execution_count": 12,
   "metadata": {},
   "outputs": [
    {
     "name": "stdout",
     "output_type": "stream",
     "text": [
      "16870659\n",
      "15575145\n"
     ]
    }
   ],
   "source": [
    "def drop_nodes(edges, remove_nodes):\n",
    "    idx = edges[edges.DOMAIN.isin(remove_nodes) | edges.RANGE.isin(remove_nodes)].index\n",
    "    edges.drop(idx, inplace=True)\n",
    "print(len(edges))\n",
    "drop_nodes(edges, remove_nodes)\n",
    "print(len(edges))"
   ]
  },
  {
   "cell_type": "code",
   "execution_count": 13,
   "metadata": {},
   "outputs": [],
   "source": [
    "nodes = nodes[nodes.ID.isin(edges.START_ID) | nodes.ID.isin(edges.END_ID)]"
   ]
  },
  {
   "cell_type": "code",
   "execution_count": 14,
   "metadata": {},
   "outputs": [
    {
     "data": {
      "text/plain": [
       "Chemicals & Drugs              63674\n",
       "Living Beings                  47099\n",
       "Disorders                      38858\n",
       "protein                        29386\n",
       "Genes & Molecular Sequences    20801\n",
       "Anatomy                        15289\n",
       "Physiology                      8023\n",
       "genomic_entity                  1848\n",
       "Objects                         1437\n",
       "Phenomena                       1148\n",
       "Activities & Behaviors          1030\n",
       "Name: TYPE, dtype: int64"
      ]
     },
     "execution_count": 14,
     "metadata": {},
     "output_type": "execute_result"
    }
   ],
   "source": [
    "nodes.TYPE.value_counts()"
   ]
  },
  {
   "cell_type": "code",
   "execution_count": 15,
   "metadata": {},
   "outputs": [],
   "source": [
    "nodes.to_csv(\"nodes_filtered2.csv\", index=False)"
   ]
  },
  {
   "cell_type": "code",
   "execution_count": 16,
   "metadata": {},
   "outputs": [],
   "source": [
    "edges.to_csv(\"edges_filtered2.csv\", index=False)"
   ]
  }
 ],
 "metadata": {
  "kernelspec": {
   "display_name": "Python 3",
   "language": "python",
   "name": "python3"
  },
  "language_info": {
   "codemirror_mode": {
    "name": "ipython",
    "version": 3
   },
   "file_extension": ".py",
   "mimetype": "text/x-python",
   "name": "python",
   "nbconvert_exporter": "python",
   "pygments_lexer": "ipython3",
   "version": "3.5.2"
  }
 },
 "nbformat": 4,
 "nbformat_minor": 2
}
