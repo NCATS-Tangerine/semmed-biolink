{
 "cells": [
  {
   "cell_type": "markdown",
   "metadata": {},
   "source": [
    "# 04-filter_biolink\n",
    " - Filter specific domain and ranges for: CAUSES, LOCATION_OF, TREATS, PREDISPOSES, PREVENTS\n",
    " - rename 'converts_to' edge to 'derives_into'\n",
    " - rename 'isa' edge to 'subclass of'\n",
    " - rename 'disrupts' edge to 'affects'\n",
    " - rename 'associated_with' edge to 'related_to'\n",
    " - rename 'STIMULATES' edge to 'positively_regulates'\n",
    " - rename 'INHIBITS' edge to 'negatively_regulates'\n",
    " - associated_with/related_to edges with domain: gene, range: disease; rename to gene_associated_with_condition\\\n",
    "\n",
    "#### Note: this filtering step may be mildly confused by edges with nodes which have multiple Biolink category types(?)\n",
    " "
   ]
  },
  {
   "cell_type": "code",
   "execution_count": 1,
   "metadata": {},
   "outputs": [],
   "source": [
    "import os\n",
    "import pickle\n",
    "%matplotlib inline\n",
    "import pandas as pd\n",
    "import seaborn as sns\n",
    "import re\n",
    "from collections import defaultdict, Counter\n",
    "from tqdm import tqdm"
   ]
  },
  {
   "cell_type": "code",
   "execution_count": 2,
   "metadata": {},
   "outputs": [],
   "source": [
    "DATA  = 'data/'\n",
    "EDGES_FILTERED_CSV = DATA+\"edges_filtered.csv\"\n",
    "NODES_FILTERED_CSV = DATA+\"nodes_filtered.csv\"\n",
    "EDGES_BIOLINK_CSV = DATA+\"edges_biolink.csv\"\n",
    "NODES_BIOLINK_CSV = DATA+\"nodes_biolink.csv\""
   ]
  },
  {
   "cell_type": "code",
   "execution_count": 3,
   "metadata": {},
   "outputs": [],
   "source": [
    "edges = pd.read_csv(EDGES_FILTERED_CSV)\n",
    "nodes = pd.read_csv(NODES_FILTERED_CSV)\n",
    "node_category = dict(zip(nodes.ID, nodes.blm_category))"
   ]
  },
  {
   "cell_type": "code",
   "execution_count": 4,
   "metadata": {},
   "outputs": [
    {
     "data": {
      "text/plain": [
       "ChemicalSubstance              57100\n",
       "Protein                        27347\n",
       "DiseaseOrPhenotypicFeature     26643\n",
       "Gene                           23741\n",
       "GrossAnatomicalStructure        8211\n",
       "BiologicalProcessOrActivity     7279\n",
       "AnatomicalEntity                2275\n",
       "CellComponent                   1673\n",
       "Cell                            1193\n",
       "ActivityAndBehavior              845\n",
       "PhenotypicFeature                281\n",
       "GenomicEntity                    171\n",
       "Name: blm_category, dtype: int64"
      ]
     },
     "execution_count": 4,
     "metadata": {},
     "output_type": "execute_result"
    }
   ],
   "source": [
    "nodes.blm_category.value_counts()"
   ]
  },
  {
   "cell_type": "code",
   "execution_count": 5,
   "metadata": {},
   "outputs": [
    {
     "data": {
      "text/html": [
       "<div>\n",
       "<style scoped>\n",
       "    .dataframe tbody tr th:only-of-type {\n",
       "        vertical-align: middle;\n",
       "    }\n",
       "\n",
       "    .dataframe tbody tr th {\n",
       "        vertical-align: top;\n",
       "    }\n",
       "\n",
       "    .dataframe thead th {\n",
       "        text-align: right;\n",
       "    }\n",
       "</style>\n",
       "<table border=\"1\" class=\"dataframe\">\n",
       "  <thead>\n",
       "    <tr style=\"text-align: right;\">\n",
       "      <th></th>\n",
       "      <th>SUBJECT_CUI</th>\n",
       "      <th>PREDICATE</th>\n",
       "      <th>OBJECT_CUI</th>\n",
       "      <th>PMID</th>\n",
       "      <th>NEG</th>\n",
       "    </tr>\n",
       "  </thead>\n",
       "  <tbody>\n",
       "    <tr>\n",
       "      <th>0</th>\n",
       "      <td>C1412045</td>\n",
       "      <td>AFFECTS</td>\n",
       "      <td>C0005935</td>\n",
       "      <td>29798367</td>\n",
       "      <td>False</td>\n",
       "    </tr>\n",
       "    <tr>\n",
       "      <th>1</th>\n",
       "      <td>C1412045</td>\n",
       "      <td>AFFECTS</td>\n",
       "      <td>C0028754</td>\n",
       "      <td>19789049</td>\n",
       "      <td>False</td>\n",
       "    </tr>\n",
       "    <tr>\n",
       "      <th>2</th>\n",
       "      <td>C1412045</td>\n",
       "      <td>AFFECTS</td>\n",
       "      <td>C0036421</td>\n",
       "      <td>31505074;31505074</td>\n",
       "      <td>False</td>\n",
       "    </tr>\n",
       "    <tr>\n",
       "      <th>3</th>\n",
       "      <td>C1412045</td>\n",
       "      <td>AFFECTS</td>\n",
       "      <td>C0597304</td>\n",
       "      <td>1409557</td>\n",
       "      <td>False</td>\n",
       "    </tr>\n",
       "    <tr>\n",
       "      <th>4</th>\n",
       "      <td>C1412045</td>\n",
       "      <td>AFFECTS</td>\n",
       "      <td>C0599816</td>\n",
       "      <td>7617239</td>\n",
       "      <td>False</td>\n",
       "    </tr>\n",
       "  </tbody>\n",
       "</table>\n",
       "</div>"
      ],
      "text/plain": [
       "  SUBJECT_CUI PREDICATE OBJECT_CUI               PMID    NEG\n",
       "0    C1412045   AFFECTS   C0005935           29798367  False\n",
       "1    C1412045   AFFECTS   C0028754           19789049  False\n",
       "2    C1412045   AFFECTS   C0036421  31505074;31505074  False\n",
       "3    C1412045   AFFECTS   C0597304            1409557  False\n",
       "4    C1412045   AFFECTS   C0599816            7617239  False"
      ]
     },
     "execution_count": 5,
     "metadata": {},
     "output_type": "execute_result"
    }
   ],
   "source": [
    "edges.head()"
   ]
  },
  {
   "cell_type": "code",
   "execution_count": 6,
   "metadata": {},
   "outputs": [
    {
     "data": {
      "text/html": [
       "<div>\n",
       "<style scoped>\n",
       "    .dataframe tbody tr th:only-of-type {\n",
       "        vertical-align: middle;\n",
       "    }\n",
       "\n",
       "    .dataframe tbody tr th {\n",
       "        vertical-align: top;\n",
       "    }\n",
       "\n",
       "    .dataframe thead th {\n",
       "        text-align: right;\n",
       "    }\n",
       "</style>\n",
       "<table border=\"1\" class=\"dataframe\">\n",
       "  <thead>\n",
       "    <tr style=\"text-align: right;\">\n",
       "      <th></th>\n",
       "      <th>SUBJECT_CUI</th>\n",
       "      <th>PREDICATE</th>\n",
       "      <th>OBJECT_CUI</th>\n",
       "      <th>PMID</th>\n",
       "      <th>NEG</th>\n",
       "      <th>bl_domain</th>\n",
       "      <th>bl_pred</th>\n",
       "      <th>bl_range</th>\n",
       "      <th>bl_type</th>\n",
       "    </tr>\n",
       "  </thead>\n",
       "  <tbody>\n",
       "    <tr>\n",
       "      <th>0</th>\n",
       "      <td>C1412045</td>\n",
       "      <td>AFFECTS</td>\n",
       "      <td>C0005935</td>\n",
       "      <td>29798367</td>\n",
       "      <td>False</td>\n",
       "      <td>Gene</td>\n",
       "      <td>AFFECTS</td>\n",
       "      <td>BiologicalProcessOrActivity</td>\n",
       "      <td>Gene.AFFECTS.BiologicalProcessOrActivity</td>\n",
       "    </tr>\n",
       "    <tr>\n",
       "      <th>1</th>\n",
       "      <td>C1412045</td>\n",
       "      <td>AFFECTS</td>\n",
       "      <td>C0028754</td>\n",
       "      <td>19789049</td>\n",
       "      <td>False</td>\n",
       "      <td>Gene</td>\n",
       "      <td>AFFECTS</td>\n",
       "      <td>DiseaseOrPhenotypicFeature</td>\n",
       "      <td>Gene.AFFECTS.DiseaseOrPhenotypicFeature</td>\n",
       "    </tr>\n",
       "    <tr>\n",
       "      <th>2</th>\n",
       "      <td>C1412045</td>\n",
       "      <td>AFFECTS</td>\n",
       "      <td>C0036421</td>\n",
       "      <td>31505074;31505074</td>\n",
       "      <td>False</td>\n",
       "      <td>Gene</td>\n",
       "      <td>AFFECTS</td>\n",
       "      <td>DiseaseOrPhenotypicFeature</td>\n",
       "      <td>Gene.AFFECTS.DiseaseOrPhenotypicFeature</td>\n",
       "    </tr>\n",
       "    <tr>\n",
       "      <th>3</th>\n",
       "      <td>C1412045</td>\n",
       "      <td>AFFECTS</td>\n",
       "      <td>C0597304</td>\n",
       "      <td>1409557</td>\n",
       "      <td>False</td>\n",
       "      <td>Gene</td>\n",
       "      <td>AFFECTS</td>\n",
       "      <td>BiologicalProcessOrActivity</td>\n",
       "      <td>Gene.AFFECTS.BiologicalProcessOrActivity</td>\n",
       "    </tr>\n",
       "    <tr>\n",
       "      <th>4</th>\n",
       "      <td>C1412045</td>\n",
       "      <td>AFFECTS</td>\n",
       "      <td>C0599816</td>\n",
       "      <td>7617239</td>\n",
       "      <td>False</td>\n",
       "      <td>Gene</td>\n",
       "      <td>AFFECTS</td>\n",
       "      <td>BiologicalProcessOrActivity</td>\n",
       "      <td>Gene.AFFECTS.BiologicalProcessOrActivity</td>\n",
       "    </tr>\n",
       "  </tbody>\n",
       "</table>\n",
       "</div>"
      ],
      "text/plain": [
       "  SUBJECT_CUI PREDICATE OBJECT_CUI               PMID    NEG bl_domain  \\\n",
       "0    C1412045   AFFECTS   C0005935           29798367  False      Gene   \n",
       "1    C1412045   AFFECTS   C0028754           19789049  False      Gene   \n",
       "2    C1412045   AFFECTS   C0036421  31505074;31505074  False      Gene   \n",
       "3    C1412045   AFFECTS   C0597304            1409557  False      Gene   \n",
       "4    C1412045   AFFECTS   C0599816            7617239  False      Gene   \n",
       "\n",
       "   bl_pred                     bl_range  \\\n",
       "0  AFFECTS  BiologicalProcessOrActivity   \n",
       "1  AFFECTS   DiseaseOrPhenotypicFeature   \n",
       "2  AFFECTS   DiseaseOrPhenotypicFeature   \n",
       "3  AFFECTS  BiologicalProcessOrActivity   \n",
       "4  AFFECTS  BiologicalProcessOrActivity   \n",
       "\n",
       "                                    bl_type  \n",
       "0  Gene.AFFECTS.BiologicalProcessOrActivity  \n",
       "1   Gene.AFFECTS.DiseaseOrPhenotypicFeature  \n",
       "2   Gene.AFFECTS.DiseaseOrPhenotypicFeature  \n",
       "3  Gene.AFFECTS.BiologicalProcessOrActivity  \n",
       "4  Gene.AFFECTS.BiologicalProcessOrActivity  "
      ]
     },
     "execution_count": 6,
     "metadata": {},
     "output_type": "execute_result"
    }
   ],
   "source": [
    "# generate domain and range from the biolink node category (may be multiple?)\n",
    "edges['bl_domain'] = edges.SUBJECT_CUI.apply(node_category.get)\n",
    "edges['bl_pred'] = edges.PREDICATE\n",
    "edges['bl_range'] = edges.OBJECT_CUI.apply(node_category.get)\n",
    "edges['bl_type'] = edges['bl_domain'] + \".\" + edges['bl_pred'] + \".\" + edges['bl_range']\n",
    "edges.head()"
   ]
  },
  {
   "cell_type": "code",
   "execution_count": 7,
   "metadata": {},
   "outputs": [],
   "source": [
    "edges.rename(columns={'PREDICATE': 'SEMMED_PRED'}, inplace=True)"
   ]
  },
  {
   "cell_type": "code",
   "execution_count": 8,
   "metadata": {},
   "outputs": [
    {
     "data": {
      "text/plain": [
       "INTERACTS_WITH      2220070\n",
       "LOCATION_OF         2105454\n",
       "COEXISTS_WITH       1780772\n",
       "AFFECTS             1614278\n",
       "STIMULATES          1307942\n",
       "INHIBITS            1106486\n",
       "ASSOCIATED_WITH      939793\n",
       "CAUSES               759205\n",
       "PART_OF              751794\n",
       "DISRUPTS             534850\n",
       "TREATS               484268\n",
       "PRODUCES             480627\n",
       "PREDISPOSES          269523\n",
       "ISA                  237589\n",
       "PREVENTS             145866\n",
       "PRECEDES              52602\n",
       "CONVERTS_TO           48751\n",
       "MANIFESTATION_OF      36672\n",
       "MEASURES               1048\n",
       "MEASUREMENT_OF           38\n",
       "PREP                      3\n",
       "Name: bl_pred, dtype: int64"
      ]
     },
     "execution_count": 8,
     "metadata": {},
     "output_type": "execute_result"
    }
   ],
   "source": [
    "edges.bl_pred.value_counts()"
   ]
  },
  {
   "cell_type": "code",
   "execution_count": 9,
   "metadata": {},
   "outputs": [
    {
     "data": {
      "text/plain": [
       "21"
      ]
     },
     "execution_count": 9,
     "metadata": {},
     "output_type": "execute_result"
    }
   ],
   "source": [
    "len(set(edges.bl_pred))"
   ]
  },
  {
   "cell_type": "code",
   "execution_count": 10,
   "metadata": {},
   "outputs": [],
   "source": [
    "# get the most common domain and ranges for each pred\n",
    "pred_type_count = edges.groupby(\"bl_pred\").bl_type.value_counts()"
   ]
  },
  {
   "cell_type": "code",
   "execution_count": 11,
   "metadata": {},
   "outputs": [
    {
     "data": {
      "text/plain": [
       "bl_type\n",
       "ChemicalSubstance.PREVENTS.DiseaseOrPhenotypicFeature              86698\n",
       "Protein.PREVENTS.DiseaseOrPhenotypicFeature                        34009\n",
       "Gene.PREVENTS.DiseaseOrPhenotypicFeature                           20702\n",
       "ActivityAndBehavior.PREVENTS.DiseaseOrPhenotypicFeature             2870\n",
       "ChemicalSubstance.PREVENTS.BiologicalProcessOrActivity               339\n",
       "DiseaseOrPhenotypicFeature.PREVENTS.DiseaseOrPhenotypicFeature       302\n",
       "ChemicalSubstance.PREVENTS.ActivityAndBehavior                       262\n",
       "Protein.PREVENTS.BiologicalProcessOrActivity                         178\n",
       "Gene.PREVENTS.BiologicalProcessOrActivity                            121\n",
       "BiologicalProcessOrActivity.PREVENTS.DiseaseOrPhenotypicFeature      109\n",
       "Protein.PREVENTS.ActivityAndBehavior                                  75\n",
       "Gene.PREVENTS.ActivityAndBehavior                                     70\n",
       "PhenotypicFeature.PREVENTS.DiseaseOrPhenotypicFeature                 60\n",
       "GenomicEntity.PREVENTS.DiseaseOrPhenotypicFeature                     17\n",
       "GrossAnatomicalStructure.PREVENTS.DiseaseOrPhenotypicFeature          12\n",
       "ActivityAndBehavior.PREVENTS.ActivityAndBehavior                       7\n",
       "ActivityAndBehavior.PREVENTS.BiologicalProcessOrActivity               6\n",
       "ActivityAndBehavior.PREVENTS.PhenotypicFeature                         6\n",
       "ChemicalSubstance.PREVENTS.GrossAnatomicalStructure                    4\n",
       "Cell.PREVENTS.DiseaseOrPhenotypicFeature                               3\n",
       "ChemicalSubstance.PREVENTS.AnatomicalEntity                            3\n",
       "Protein.PREVENTS.ChemicalSubstance                                     3\n",
       "Protein.PREVENTS.Gene                                                  2\n",
       "ActivityAndBehavior.PREVENTS.AnatomicalEntity                          1\n",
       "BiologicalProcessOrActivity.PREVENTS.GenomicEntity                     1\n",
       "ChemicalSubstance.PREVENTS.ChemicalSubstance                           1\n",
       "ChemicalSubstance.PREVENTS.Gene                                        1\n",
       "ChemicalSubstance.PREVENTS.Protein                                     1\n",
       "DiseaseOrPhenotypicFeature.PREVENTS.AnatomicalEntity                   1\n",
       "Protein.PREVENTS.GenomicEntity                                         1\n",
       "Name: bl_type, dtype: int64"
      ]
     },
     "execution_count": 11,
     "metadata": {},
     "output_type": "execute_result"
    }
   ],
   "source": [
    "pred_type_count['PREVENTS'][:30]"
   ]
  },
  {
   "cell_type": "code",
   "execution_count": 12,
   "metadata": {},
   "outputs": [],
   "source": [
    "# working off https://docs.google.com/spreadsheets/d/1zXitcR1QjHyh6WocukgshSR7IoAVg7MJQG-HNh96Jec/edit#gid=579577728\n",
    "allowed_domain_range = {\n",
    "    'CAUSES': (None, {'biological_process_or_activity', 'disease_or_phenotypic_feature'}),\n",
    "    'LOCATION_OF': ({'gross_anatomical_structure', 'anatomical_entity', 'cell_component', 'cell'}, None),\n",
    "    'TREATS': (None, {'disease_or_phenotypic_feature'}),\n",
    "    'PREDISPOSES': (None, {'disease_or_phenotypic_feature'}),\n",
    "    'PREVENTS': (None, {'disease_or_phenotypic_feature'}),\n",
    "}"
   ]
  },
  {
   "cell_type": "code",
   "execution_count": 13,
   "metadata": {},
   "outputs": [],
   "source": [
    "def is_allowed_edge(domain, pred, rnge):\n",
    "    allowed_domain, allowed_range = allowed_domain_range[pred] if pred in allowed_domain_range else (None, None)\n",
    "    return ((domain in allowed_domain if allowed_domain else True) and \n",
    "              (rnge in allowed_range if allowed_range else True))"
   ]
  },
  {
   "cell_type": "code",
   "execution_count": 14,
   "metadata": {},
   "outputs": [],
   "source": [
    "d = {x: is_allowed_edge(*x.split(\".\")) for x in set(edges.bl_type)}\n",
    "allowed_edges = {k for k,v in d.items() if v}"
   ]
  },
  {
   "cell_type": "code",
   "execution_count": 15,
   "metadata": {},
   "outputs": [
    {
     "name": "stdout",
     "output_type": "stream",
     "text": [
      "True     11113315\n",
      "False     3764316\n",
      "Name: bl_type, dtype: int64\n"
     ]
    }
   ],
   "source": [
    "idx = edges.bl_type.isin(allowed_edges)\n",
    "print(idx.value_counts())\n",
    "edges = edges[idx]"
   ]
  },
  {
   "cell_type": "code",
   "execution_count": 16,
   "metadata": {},
   "outputs": [
    {
     "name": "stdout",
     "output_type": "stream",
     "text": [
      "11113315\n"
     ]
    }
   ],
   "source": [
    "print(len(edges))"
   ]
  },
  {
   "cell_type": "code",
   "execution_count": 17,
   "metadata": {},
   "outputs": [
    {
     "data": {
      "text/html": [
       "<div>\n",
       "<style scoped>\n",
       "    .dataframe tbody tr th:only-of-type {\n",
       "        vertical-align: middle;\n",
       "    }\n",
       "\n",
       "    .dataframe tbody tr th {\n",
       "        vertical-align: top;\n",
       "    }\n",
       "\n",
       "    .dataframe thead th {\n",
       "        text-align: right;\n",
       "    }\n",
       "</style>\n",
       "<table border=\"1\" class=\"dataframe\">\n",
       "  <thead>\n",
       "    <tr style=\"text-align: right;\">\n",
       "      <th></th>\n",
       "      <th>SUBJECT_CUI</th>\n",
       "      <th>SEMMED_PRED</th>\n",
       "      <th>OBJECT_CUI</th>\n",
       "      <th>PMID</th>\n",
       "      <th>NEG</th>\n",
       "      <th>bl_domain</th>\n",
       "      <th>bl_pred</th>\n",
       "      <th>bl_range</th>\n",
       "      <th>bl_type</th>\n",
       "    </tr>\n",
       "  </thead>\n",
       "  <tbody>\n",
       "    <tr>\n",
       "      <th>0</th>\n",
       "      <td>C1412045</td>\n",
       "      <td>AFFECTS</td>\n",
       "      <td>C0005935</td>\n",
       "      <td>29798367</td>\n",
       "      <td>False</td>\n",
       "      <td>Gene</td>\n",
       "      <td>AFFECTS</td>\n",
       "      <td>BiologicalProcessOrActivity</td>\n",
       "      <td>Gene.AFFECTS.BiologicalProcessOrActivity</td>\n",
       "    </tr>\n",
       "    <tr>\n",
       "      <th>1</th>\n",
       "      <td>C1412045</td>\n",
       "      <td>AFFECTS</td>\n",
       "      <td>C0028754</td>\n",
       "      <td>19789049</td>\n",
       "      <td>False</td>\n",
       "      <td>Gene</td>\n",
       "      <td>AFFECTS</td>\n",
       "      <td>DiseaseOrPhenotypicFeature</td>\n",
       "      <td>Gene.AFFECTS.DiseaseOrPhenotypicFeature</td>\n",
       "    </tr>\n",
       "    <tr>\n",
       "      <th>2</th>\n",
       "      <td>C1412045</td>\n",
       "      <td>AFFECTS</td>\n",
       "      <td>C0036421</td>\n",
       "      <td>31505074;31505074</td>\n",
       "      <td>False</td>\n",
       "      <td>Gene</td>\n",
       "      <td>AFFECTS</td>\n",
       "      <td>DiseaseOrPhenotypicFeature</td>\n",
       "      <td>Gene.AFFECTS.DiseaseOrPhenotypicFeature</td>\n",
       "    </tr>\n",
       "    <tr>\n",
       "      <th>3</th>\n",
       "      <td>C1412045</td>\n",
       "      <td>AFFECTS</td>\n",
       "      <td>C0597304</td>\n",
       "      <td>1409557</td>\n",
       "      <td>False</td>\n",
       "      <td>Gene</td>\n",
       "      <td>AFFECTS</td>\n",
       "      <td>BiologicalProcessOrActivity</td>\n",
       "      <td>Gene.AFFECTS.BiologicalProcessOrActivity</td>\n",
       "    </tr>\n",
       "    <tr>\n",
       "      <th>4</th>\n",
       "      <td>C1412045</td>\n",
       "      <td>AFFECTS</td>\n",
       "      <td>C0599816</td>\n",
       "      <td>7617239</td>\n",
       "      <td>False</td>\n",
       "      <td>Gene</td>\n",
       "      <td>AFFECTS</td>\n",
       "      <td>BiologicalProcessOrActivity</td>\n",
       "      <td>Gene.AFFECTS.BiologicalProcessOrActivity</td>\n",
       "    </tr>\n",
       "  </tbody>\n",
       "</table>\n",
       "</div>"
      ],
      "text/plain": [
       "  SUBJECT_CUI SEMMED_PRED OBJECT_CUI               PMID    NEG bl_domain  \\\n",
       "0    C1412045     AFFECTS   C0005935           29798367  False      Gene   \n",
       "1    C1412045     AFFECTS   C0028754           19789049  False      Gene   \n",
       "2    C1412045     AFFECTS   C0036421  31505074;31505074  False      Gene   \n",
       "3    C1412045     AFFECTS   C0597304            1409557  False      Gene   \n",
       "4    C1412045     AFFECTS   C0599816            7617239  False      Gene   \n",
       "\n",
       "   bl_pred                     bl_range  \\\n",
       "0  AFFECTS  BiologicalProcessOrActivity   \n",
       "1  AFFECTS   DiseaseOrPhenotypicFeature   \n",
       "2  AFFECTS   DiseaseOrPhenotypicFeature   \n",
       "3  AFFECTS  BiologicalProcessOrActivity   \n",
       "4  AFFECTS  BiologicalProcessOrActivity   \n",
       "\n",
       "                                    bl_type  \n",
       "0  Gene.AFFECTS.BiologicalProcessOrActivity  \n",
       "1   Gene.AFFECTS.DiseaseOrPhenotypicFeature  \n",
       "2   Gene.AFFECTS.DiseaseOrPhenotypicFeature  \n",
       "3  Gene.AFFECTS.BiologicalProcessOrActivity  \n",
       "4  Gene.AFFECTS.BiologicalProcessOrActivity  "
      ]
     },
     "execution_count": 17,
     "metadata": {},
     "output_type": "execute_result"
    }
   ],
   "source": [
    "edges.head()"
   ]
  },
  {
   "cell_type": "code",
   "execution_count": 18,
   "metadata": {},
   "outputs": [],
   "source": [
    "# rename 'converts_to' edge to 'derives_into'\n",
    "edges.loc[lambda df: df['bl_pred'] == \"CONVERTS_TO\", \"bl_pred\"] = \"DERIVES_INTO\""
   ]
  },
  {
   "cell_type": "code",
   "execution_count": 19,
   "metadata": {},
   "outputs": [],
   "source": [
    "# rename 'isa' edge to 'subclass of'\n",
    "edges.loc[lambda df: df['bl_pred'] == \"ISA\", \"bl_pred\"] = \"SUBCLASS_OF\""
   ]
  },
  {
   "cell_type": "code",
   "execution_count": 20,
   "metadata": {},
   "outputs": [],
   "source": [
    "# rename 'disrupts' edge to 'affects'\n",
    "edges.loc[lambda df: df['bl_pred'] == \"DISRUPTS\", \"bl_pred\"] = \"AFFECTS\""
   ]
  },
  {
   "cell_type": "code",
   "execution_count": 21,
   "metadata": {},
   "outputs": [],
   "source": [
    "# rename 'associated_with' edge to 'related_to'\n",
    "edges.loc[lambda df: df['bl_pred'] == \"ASSOCIATED_WITH\", \"bl_pred\"] = \"RELATED_TO\""
   ]
  },
  {
   "cell_type": "code",
   "execution_count": 22,
   "metadata": {},
   "outputs": [],
   "source": [
    "# rename 'STIMULATES' edge to 'positively_regulates'\n",
    "edges.loc[lambda df: df['bl_pred'] == \"STIMULATES\", \"bl_pred\"] = \"positively_regulates\".upper()"
   ]
  },
  {
   "cell_type": "code",
   "execution_count": 23,
   "metadata": {},
   "outputs": [],
   "source": [
    "# rename 'INHIBITS' edge to 'negatively_regulates'\n",
    "edges.loc[lambda df: df['bl_pred'] == \"INHIBITS\", \"bl_pred\"] = \"negatively_regulates\".upper()"
   ]
  },
  {
   "cell_type": "code",
   "execution_count": 24,
   "metadata": {},
   "outputs": [],
   "source": [
    "# associated_with/related_to edges with domain: gene, range: disease; rename to gene_associated_with_condition, \n",
    "# and leave the rest alone\n",
    "edges.loc[lambda df:(df['bl_pred'] == \"RELATED_TO\") & (df['bl_domain'] == \"gene\") & \n",
    "      (df['bl_range'] == \"disease_or_phenotypic_feature\"), \"bl_pred\"] = 'gene_associated_with_condition'.upper()"
   ]
  },
  {
   "cell_type": "code",
   "execution_count": 25,
   "metadata": {},
   "outputs": [
    {
     "data": {
      "text/plain": [
       "INTERACTS_WITH          2220070\n",
       "AFFECTS                 2149128\n",
       "COEXISTS_WITH           1780772\n",
       "POSITIVELY_REGULATES    1307942\n",
       "NEGATIVELY_REGULATES    1106486\n",
       "RELATED_TO               939793\n",
       "PART_OF                  751794\n",
       "PRODUCES                 480627\n",
       "SUBCLASS_OF              237589\n",
       "PRECEDES                  52602\n",
       "DERIVES_INTO              48751\n",
       "MANIFESTATION_OF          36672\n",
       "MEASURES                   1048\n",
       "MEASUREMENT_OF               38\n",
       "PREP                          3\n",
       "Name: bl_pred, dtype: int64"
      ]
     },
     "execution_count": 25,
     "metadata": {},
     "output_type": "execute_result"
    }
   ],
   "source": [
    "edges.bl_pred.value_counts()"
   ]
  },
  {
   "cell_type": "code",
   "execution_count": 26,
   "metadata": {},
   "outputs": [
    {
     "data": {
      "text/plain": [
       "Series([], Name: bl_pred, dtype: int64)"
      ]
     },
     "execution_count": 26,
     "metadata": {},
     "output_type": "execute_result"
    }
   ],
   "source": [
    "edges[(edges.bl_domain == \"gene\") & (edges.bl_range == \"disease_or_phenotypic_feature\")].bl_pred.value_counts()"
   ]
  },
  {
   "cell_type": "code",
   "execution_count": 27,
   "metadata": {},
   "outputs": [
    {
     "name": "stdout",
     "output_type": "stream",
     "text": [
      "156759\n",
      "145058\n"
     ]
    }
   ],
   "source": [
    "print(len(nodes))\n",
    "nodes = nodes[nodes.ID.isin(set(list(edges['SUBJECT_CUI']) + list(edges['OBJECT_CUI'])))]\n",
    "print(len(nodes))"
   ]
  },
  {
   "cell_type": "code",
   "execution_count": 28,
   "metadata": {},
   "outputs": [
    {
     "name": "stdout",
     "output_type": "stream",
     "text": [
      "11113315\n",
      "145058\n",
      "877\n",
      "15\n",
      "12\n"
     ]
    }
   ],
   "source": [
    "## summary\n",
    "edges['bl_type'] = edges['bl_domain'] + \".\" + edges['bl_pred'] + \".\" + edges['bl_range']\n",
    "print(len(edges))\n",
    "print(len(nodes))\n",
    "print(len(set(edges.bl_type)))\n",
    "print(len(set(edges.bl_pred)))\n",
    "print(len(set(nodes.blm_category)))"
   ]
  },
  {
   "cell_type": "code",
   "execution_count": 29,
   "metadata": {},
   "outputs": [],
   "source": [
    "del edges['bl_type']\n",
    "del edges['bl_domain']\n",
    "del edges['bl_range']"
   ]
  },
  {
   "cell_type": "code",
   "execution_count": 30,
   "metadata": {},
   "outputs": [
    {
     "data": {
      "text/html": [
       "<div>\n",
       "<style scoped>\n",
       "    .dataframe tbody tr th:only-of-type {\n",
       "        vertical-align: middle;\n",
       "    }\n",
       "\n",
       "    .dataframe tbody tr th {\n",
       "        vertical-align: top;\n",
       "    }\n",
       "\n",
       "    .dataframe thead th {\n",
       "        text-align: right;\n",
       "    }\n",
       "</style>\n",
       "<table border=\"1\" class=\"dataframe\">\n",
       "  <thead>\n",
       "    <tr style=\"text-align: right;\">\n",
       "      <th></th>\n",
       "      <th>SUBJECT_CUI</th>\n",
       "      <th>SEMMED_PRED</th>\n",
       "      <th>OBJECT_CUI</th>\n",
       "      <th>PMID</th>\n",
       "      <th>NEG</th>\n",
       "      <th>bl_pred</th>\n",
       "    </tr>\n",
       "  </thead>\n",
       "  <tbody>\n",
       "    <tr>\n",
       "      <th>0</th>\n",
       "      <td>C1412045</td>\n",
       "      <td>AFFECTS</td>\n",
       "      <td>C0005935</td>\n",
       "      <td>29798367</td>\n",
       "      <td>False</td>\n",
       "      <td>AFFECTS</td>\n",
       "    </tr>\n",
       "    <tr>\n",
       "      <th>1</th>\n",
       "      <td>C1412045</td>\n",
       "      <td>AFFECTS</td>\n",
       "      <td>C0028754</td>\n",
       "      <td>19789049</td>\n",
       "      <td>False</td>\n",
       "      <td>AFFECTS</td>\n",
       "    </tr>\n",
       "    <tr>\n",
       "      <th>2</th>\n",
       "      <td>C1412045</td>\n",
       "      <td>AFFECTS</td>\n",
       "      <td>C0036421</td>\n",
       "      <td>31505074;31505074</td>\n",
       "      <td>False</td>\n",
       "      <td>AFFECTS</td>\n",
       "    </tr>\n",
       "    <tr>\n",
       "      <th>3</th>\n",
       "      <td>C1412045</td>\n",
       "      <td>AFFECTS</td>\n",
       "      <td>C0597304</td>\n",
       "      <td>1409557</td>\n",
       "      <td>False</td>\n",
       "      <td>AFFECTS</td>\n",
       "    </tr>\n",
       "    <tr>\n",
       "      <th>4</th>\n",
       "      <td>C1412045</td>\n",
       "      <td>AFFECTS</td>\n",
       "      <td>C0599816</td>\n",
       "      <td>7617239</td>\n",
       "      <td>False</td>\n",
       "      <td>AFFECTS</td>\n",
       "    </tr>\n",
       "  </tbody>\n",
       "</table>\n",
       "</div>"
      ],
      "text/plain": [
       "  SUBJECT_CUI SEMMED_PRED OBJECT_CUI               PMID    NEG  bl_pred\n",
       "0    C1412045     AFFECTS   C0005935           29798367  False  AFFECTS\n",
       "1    C1412045     AFFECTS   C0028754           19789049  False  AFFECTS\n",
       "2    C1412045     AFFECTS   C0036421  31505074;31505074  False  AFFECTS\n",
       "3    C1412045     AFFECTS   C0597304            1409557  False  AFFECTS\n",
       "4    C1412045     AFFECTS   C0599816            7617239  False  AFFECTS"
      ]
     },
     "execution_count": 30,
     "metadata": {},
     "output_type": "execute_result"
    }
   ],
   "source": [
    "edges.head()"
   ]
  },
  {
   "cell_type": "code",
   "execution_count": 31,
   "metadata": {},
   "outputs": [],
   "source": [
    "edges.to_csv(EDGES_BIOLINK_CSV, index=None)\n",
    "nodes.to_csv(NODES_BIOLINK_CSV, index=None)"
   ]
  },
  {
   "cell_type": "code",
   "execution_count": null,
   "metadata": {},
   "outputs": [],
   "source": []
  }
 ],
 "metadata": {
  "kernelspec": {
   "display_name": "Python 3",
   "language": "python",
   "name": "python3"
  },
  "language_info": {
   "codemirror_mode": {
    "name": "ipython",
    "version": 3
   },
   "file_extension": ".py",
   "mimetype": "text/x-python",
   "name": "python",
   "nbconvert_exporter": "python",
   "pygments_lexer": "ipython3",
   "version": "3.8.1"
  }
 },
 "nbformat": 4,
 "nbformat_minor": 4
}
