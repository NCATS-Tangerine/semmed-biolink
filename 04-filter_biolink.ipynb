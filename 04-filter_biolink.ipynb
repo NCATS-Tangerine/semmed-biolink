{
 "cells": [
  {
   "cell_type": "markdown",
   "metadata": {},
   "source": [
    "04-filter_biolink\n",
    " - Filter specific domain and ranges for: CAUSES, LOCATION_OF, TREATS, PREDISPOSES, PREVENTS\n",
    " - rename 'converts_to' edge to 'derives_into'\n",
    " - rename 'isa' edge to 'subclass of'\n",
    " - rename 'disrupts' edge to 'affects'\n",
    " - rename 'associated_with' edge to 'related_to'\n",
    " - rename 'STIMULATES' edge to 'positively_regulates'\n",
    " - rename 'INHIBITS' edge to 'negatively_regulates'\n",
    " - associated_with/related_to edges with domain: gene, range: disease; rename to gene_associated_with_condition\n",
    " "
   ]
  },
  {
   "cell_type": "code",
   "execution_count": 1,
   "metadata": {},
   "outputs": [],
   "source": [
    "import os\n",
    "import pickle\n",
    "%matplotlib inline\n",
    "import pandas as pd\n",
    "import seaborn as sns\n",
    "import re\n",
    "from collections import defaultdict, Counter\n",
    "from tqdm import tqdm"
   ]
  },
  {
   "cell_type": "code",
   "execution_count": 2,
   "metadata": {},
   "outputs": [],
   "source": [
    "edges = pd.read_csv('edges_filtered.csv')\n",
    "nodes = pd.read_csv(\"nodes_filtered.csv\")\n",
    "node_type = dict(zip(nodes.ID, nodes.blm_type))"
   ]
  },
  {
   "cell_type": "code",
   "execution_count": 3,
   "metadata": {},
   "outputs": [
    {
     "data": {
      "text/plain": [
       "chemical_substance                58824\n",
       "disease_or_phenotypic_feature     36288\n",
       "gene                              20695\n",
       "biological_entity                 14907\n",
       "protein                           12645\n",
       "gross_anatomical_structure         8472\n",
       "biological_process_or_activity     6888\n",
       "anatomical_entity                  2750\n",
       "cell_component                     1644\n",
       "cell                               1099\n",
       "activity_and_behavior               936\n",
       "phenotypic_feature                  442\n",
       "genomic_entity                      175\n",
       "Name: blm_type, dtype: int64"
      ]
     },
     "execution_count": 3,
     "metadata": {},
     "output_type": "execute_result"
    }
   ],
   "source": [
    "nodes.blm_type.value_counts()"
   ]
  },
  {
   "cell_type": "code",
   "execution_count": 4,
   "metadata": {},
   "outputs": [
    {
     "data": {
      "text/html": [
       "<div>\n",
       "<style scoped>\n",
       "    .dataframe tbody tr th:only-of-type {\n",
       "        vertical-align: middle;\n",
       "    }\n",
       "\n",
       "    .dataframe tbody tr th {\n",
       "        vertical-align: top;\n",
       "    }\n",
       "\n",
       "    .dataframe thead th {\n",
       "        text-align: right;\n",
       "    }\n",
       "</style>\n",
       "<table border=\"1\" class=\"dataframe\">\n",
       "  <thead>\n",
       "    <tr style=\"text-align: right;\">\n",
       "      <th></th>\n",
       "      <th>SUBJECT_CUI</th>\n",
       "      <th>PREDICATE</th>\n",
       "      <th>OBJECT_CUI</th>\n",
       "      <th>PMID</th>\n",
       "      <th>NEG</th>\n",
       "    </tr>\n",
       "  </thead>\n",
       "  <tbody>\n",
       "    <tr>\n",
       "      <th>0</th>\n",
       "      <td>C1412045</td>\n",
       "      <td>AFFECTS</td>\n",
       "      <td>C0023946</td>\n",
       "      <td>20801151</td>\n",
       "      <td>False</td>\n",
       "    </tr>\n",
       "    <tr>\n",
       "      <th>1</th>\n",
       "      <td>C1412045</td>\n",
       "      <td>AFFECTS</td>\n",
       "      <td>C0028754</td>\n",
       "      <td>19789049</td>\n",
       "      <td>False</td>\n",
       "    </tr>\n",
       "    <tr>\n",
       "      <th>2</th>\n",
       "      <td>C1412045</td>\n",
       "      <td>AFFECTS</td>\n",
       "      <td>C0597304</td>\n",
       "      <td>1409557</td>\n",
       "      <td>False</td>\n",
       "    </tr>\n",
       "    <tr>\n",
       "      <th>3</th>\n",
       "      <td>C1412045</td>\n",
       "      <td>AFFECTS</td>\n",
       "      <td>C0599816</td>\n",
       "      <td>7617239</td>\n",
       "      <td>False</td>\n",
       "    </tr>\n",
       "    <tr>\n",
       "      <th>4</th>\n",
       "      <td>C1412045</td>\n",
       "      <td>ASSOCIATED_WITH</td>\n",
       "      <td>C0001807</td>\n",
       "      <td>8503828;8240219</td>\n",
       "      <td>False</td>\n",
       "    </tr>\n",
       "  </tbody>\n",
       "</table>\n",
       "</div>"
      ],
      "text/plain": [
       "  SUBJECT_CUI        PREDICATE OBJECT_CUI             PMID    NEG\n",
       "0    C1412045          AFFECTS   C0023946         20801151  False\n",
       "1    C1412045          AFFECTS   C0028754         19789049  False\n",
       "2    C1412045          AFFECTS   C0597304          1409557  False\n",
       "3    C1412045          AFFECTS   C0599816          7617239  False\n",
       "4    C1412045  ASSOCIATED_WITH   C0001807  8503828;8240219  False"
      ]
     },
     "execution_count": 4,
     "metadata": {},
     "output_type": "execute_result"
    }
   ],
   "source": [
    "edges.head()"
   ]
  },
  {
   "cell_type": "code",
   "execution_count": 5,
   "metadata": {},
   "outputs": [
    {
     "data": {
      "text/html": [
       "<div>\n",
       "<style scoped>\n",
       "    .dataframe tbody tr th:only-of-type {\n",
       "        vertical-align: middle;\n",
       "    }\n",
       "\n",
       "    .dataframe tbody tr th {\n",
       "        vertical-align: top;\n",
       "    }\n",
       "\n",
       "    .dataframe thead th {\n",
       "        text-align: right;\n",
       "    }\n",
       "</style>\n",
       "<table border=\"1\" class=\"dataframe\">\n",
       "  <thead>\n",
       "    <tr style=\"text-align: right;\">\n",
       "      <th></th>\n",
       "      <th>SUBJECT_CUI</th>\n",
       "      <th>PREDICATE</th>\n",
       "      <th>OBJECT_CUI</th>\n",
       "      <th>PMID</th>\n",
       "      <th>NEG</th>\n",
       "      <th>bl_domain</th>\n",
       "      <th>bl_pred</th>\n",
       "      <th>bl_range</th>\n",
       "      <th>bl_type</th>\n",
       "    </tr>\n",
       "  </thead>\n",
       "  <tbody>\n",
       "    <tr>\n",
       "      <th>0</th>\n",
       "      <td>C1412045</td>\n",
       "      <td>AFFECTS</td>\n",
       "      <td>C0023946</td>\n",
       "      <td>20801151</td>\n",
       "      <td>False</td>\n",
       "      <td>gene</td>\n",
       "      <td>AFFECTS</td>\n",
       "      <td>biological_process_or_activity</td>\n",
       "      <td>gene.AFFECTS.biological_process_or_activity</td>\n",
       "    </tr>\n",
       "    <tr>\n",
       "      <th>1</th>\n",
       "      <td>C1412045</td>\n",
       "      <td>AFFECTS</td>\n",
       "      <td>C0028754</td>\n",
       "      <td>19789049</td>\n",
       "      <td>False</td>\n",
       "      <td>gene</td>\n",
       "      <td>AFFECTS</td>\n",
       "      <td>disease_or_phenotypic_feature</td>\n",
       "      <td>gene.AFFECTS.disease_or_phenotypic_feature</td>\n",
       "    </tr>\n",
       "    <tr>\n",
       "      <th>2</th>\n",
       "      <td>C1412045</td>\n",
       "      <td>AFFECTS</td>\n",
       "      <td>C0597304</td>\n",
       "      <td>1409557</td>\n",
       "      <td>False</td>\n",
       "      <td>gene</td>\n",
       "      <td>AFFECTS</td>\n",
       "      <td>biological_process_or_activity</td>\n",
       "      <td>gene.AFFECTS.biological_process_or_activity</td>\n",
       "    </tr>\n",
       "    <tr>\n",
       "      <th>3</th>\n",
       "      <td>C1412045</td>\n",
       "      <td>AFFECTS</td>\n",
       "      <td>C0599816</td>\n",
       "      <td>7617239</td>\n",
       "      <td>False</td>\n",
       "      <td>gene</td>\n",
       "      <td>AFFECTS</td>\n",
       "      <td>biological_process_or_activity</td>\n",
       "      <td>gene.AFFECTS.biological_process_or_activity</td>\n",
       "    </tr>\n",
       "    <tr>\n",
       "      <th>4</th>\n",
       "      <td>C1412045</td>\n",
       "      <td>ASSOCIATED_WITH</td>\n",
       "      <td>C0001807</td>\n",
       "      <td>8503828;8240219</td>\n",
       "      <td>False</td>\n",
       "      <td>gene</td>\n",
       "      <td>ASSOCIATED_WITH</td>\n",
       "      <td>activity_and_behavior</td>\n",
       "      <td>gene.ASSOCIATED_WITH.activity_and_behavior</td>\n",
       "    </tr>\n",
       "  </tbody>\n",
       "</table>\n",
       "</div>"
      ],
      "text/plain": [
       "  SUBJECT_CUI        PREDICATE OBJECT_CUI             PMID    NEG bl_domain  \\\n",
       "0    C1412045          AFFECTS   C0023946         20801151  False      gene   \n",
       "1    C1412045          AFFECTS   C0028754         19789049  False      gene   \n",
       "2    C1412045          AFFECTS   C0597304          1409557  False      gene   \n",
       "3    C1412045          AFFECTS   C0599816          7617239  False      gene   \n",
       "4    C1412045  ASSOCIATED_WITH   C0001807  8503828;8240219  False      gene   \n",
       "\n",
       "           bl_pred                        bl_range  \\\n",
       "0          AFFECTS  biological_process_or_activity   \n",
       "1          AFFECTS   disease_or_phenotypic_feature   \n",
       "2          AFFECTS  biological_process_or_activity   \n",
       "3          AFFECTS  biological_process_or_activity   \n",
       "4  ASSOCIATED_WITH           activity_and_behavior   \n",
       "\n",
       "                                       bl_type  \n",
       "0  gene.AFFECTS.biological_process_or_activity  \n",
       "1   gene.AFFECTS.disease_or_phenotypic_feature  \n",
       "2  gene.AFFECTS.biological_process_or_activity  \n",
       "3  gene.AFFECTS.biological_process_or_activity  \n",
       "4   gene.ASSOCIATED_WITH.activity_and_behavior  "
      ]
     },
     "execution_count": 5,
     "metadata": {},
     "output_type": "execute_result"
    }
   ],
   "source": [
    "# generate domain and range from the biolink node types\n",
    "edges['bl_domain'] = edges.SUBJECT_CUI.apply(node_type.get)\n",
    "edges['bl_pred'] = edges.PREDICATE\n",
    "edges['bl_range'] = edges.OBJECT_CUI.apply(node_type.get)\n",
    "edges['bl_type'] = edges['bl_domain'] + \".\" + edges['bl_pred'] + \".\" + edges['bl_range']\n",
    "edges.head()"
   ]
  },
  {
   "cell_type": "code",
   "execution_count": 7,
   "metadata": {},
   "outputs": [],
   "source": [
    "edges.rename(columns={'PREDICATE': 'SEMMED_PRED'}, inplace=True)"
   ]
  },
  {
   "cell_type": "code",
   "execution_count": 8,
   "metadata": {},
   "outputs": [
    {
     "data": {
      "text/plain": [
       "LOCATION_OF         1863675\n",
       "INTERACTS_WITH      1850601\n",
       "COEXISTS_WITH       1707696\n",
       "AFFECTS             1443544\n",
       "PART_OF             1231194\n",
       "STIMULATES          1159243\n",
       "INHIBITS             925338\n",
       "ASSOCIATED_WITH      813132\n",
       "CAUSES               716141\n",
       "TREATS               612205\n",
       "PRODUCES             553511\n",
       "DISRUPTS             471637\n",
       "ISA                  247356\n",
       "PREDISPOSES          230306\n",
       "PREVENTS             117892\n",
       "CONVERTS_TO           61644\n",
       "MANIFESTATION_OF      36462\n",
       "PRECEDES              24652\n",
       "Name: bl_pred, dtype: int64"
      ]
     },
     "execution_count": 8,
     "metadata": {},
     "output_type": "execute_result"
    }
   ],
   "source": [
    "edges.bl_pred.value_counts()"
   ]
  },
  {
   "cell_type": "code",
   "execution_count": 9,
   "metadata": {},
   "outputs": [
    {
     "data": {
      "text/plain": [
       "18"
      ]
     },
     "execution_count": 9,
     "metadata": {},
     "output_type": "execute_result"
    }
   ],
   "source": [
    "len(set(edges.bl_pred))"
   ]
  },
  {
   "cell_type": "code",
   "execution_count": 10,
   "metadata": {},
   "outputs": [],
   "source": [
    "# get the most common domain and ranges for each pred\n",
    "pred_type_count = edges.groupby(\"bl_pred\").bl_type.value_counts()"
   ]
  },
  {
   "cell_type": "code",
   "execution_count": 11,
   "metadata": {},
   "outputs": [
    {
     "data": {
      "text/plain": [
       "bl_type\n",
       "chemical_substance.PREVENTS.disease_or_phenotypic_feature                73378\n",
       "biological_entity.PREVENTS.disease_or_phenotypic_feature                 20696\n",
       "gene.PREVENTS.disease_or_phenotypic_feature                              15899\n",
       "protein.PREVENTS.disease_or_phenotypic_feature                            3499\n",
       "activity_and_behavior.PREVENTS.disease_or_phenotypic_feature              3289\n",
       "chemical_substance.PREVENTS.biological_process_or_activity                 286\n",
       "disease_or_phenotypic_feature.PREVENTS.disease_or_phenotypic_feature       185\n",
       "chemical_substance.PREVENTS.activity_and_behavior                          163\n",
       "biological_entity.PREVENTS.biological_process_or_activity                  112\n",
       "gene.PREVENTS.biological_process_or_activity                               101\n",
       "biological_process_or_activity.PREVENTS.disease_or_phenotypic_feature       68\n",
       "gene.PREVENTS.activity_and_behavior                                         49\n",
       "biological_entity.PREVENTS.activity_and_behavior                            46\n",
       "protein.PREVENTS.biological_process_or_activity                             38\n",
       "phenotypic_feature.PREVENTS.disease_or_phenotypic_feature                   20\n",
       "gross_anatomical_structure.PREVENTS.disease_or_phenotypic_feature           16\n",
       "genomic_entity.PREVENTS.disease_or_phenotypic_feature                        9\n",
       "protein.PREVENTS.activity_and_behavior                                       7\n",
       "activity_and_behavior.PREVENTS.activity_and_behavior                         6\n",
       "activity_and_behavior.PREVENTS.biological_process_or_activity                4\n",
       "activity_and_behavior.PREVENTS.phenotypic_feature                            4\n",
       "chemical_substance.PREVENTS.gross_anatomical_structure                       3\n",
       "activity_and_behavior.PREVENTS.anatomical_entity                             2\n",
       "chemical_substance.PREVENTS.chemical_substance                               2\n",
       "chemical_substance.PREVENTS.gene                                             2\n",
       "gene.PREVENTS.genomic_entity                                                 2\n",
       "anatomical_entity.PREVENTS.disease_or_phenotypic_feature                     1\n",
       "biological_entity.PREVENTS.chemical_substance                                1\n",
       "biological_entity.PREVENTS.gene                                              1\n",
       "biological_entity.PREVENTS.genomic_entity                                    1\n",
       "Name: bl_type, dtype: int64"
      ]
     },
     "execution_count": 11,
     "metadata": {},
     "output_type": "execute_result"
    }
   ],
   "source": [
    "pred_type_count['PREVENTS'][:30]"
   ]
  },
  {
   "cell_type": "code",
   "execution_count": 12,
   "metadata": {},
   "outputs": [],
   "source": [
    "# working off https://docs.google.com/spreadsheets/d/1zXitcR1QjHyh6WocukgshSR7IoAVg7MJQG-HNh96Jec/edit#gid=579577728\n",
    "allowed_domain_range = {\n",
    "    'CAUSES': (None, {'biological_process_or_activity', 'disease_or_phenotypic_feature'}),\n",
    "    'LOCATION_OF': ({'gross_anatomical_structure', 'anatomical_entity', 'cell_component', 'cell'}, None),\n",
    "    'TREATS': (None, {'disease_or_phenotypic_feature'}),\n",
    "    'PREDISPOSES': (None, {'disease_or_phenotypic_feature'}),\n",
    "    'PREVENTS': (None, {'disease_or_phenotypic_feature'}),\n",
    "}"
   ]
  },
  {
   "cell_type": "code",
   "execution_count": 13,
   "metadata": {},
   "outputs": [],
   "source": [
    "def is_allowed_edge(domain, pred, rnge):\n",
    "    allowed_domain, allowed_range = allowed_domain_range[pred] if pred in allowed_domain_range else (None, None)\n",
    "    return ((domain in allowed_domain if allowed_domain else True) and \n",
    "              (rnge in allowed_range if allowed_range else True))"
   ]
  },
  {
   "cell_type": "code",
   "execution_count": 14,
   "metadata": {},
   "outputs": [],
   "source": [
    "d = {x: is_allowed_edge(*x.split(\".\")) for x in set(edges.bl_type)}\n",
    "allowed_edges = {k for k,v in d.items() if v}"
   ]
  },
  {
   "cell_type": "code",
   "execution_count": 15,
   "metadata": {},
   "outputs": [
    {
     "name": "stdout",
     "output_type": "stream",
     "text": [
      "True     14033126\n",
      "False       33103\n",
      "Name: bl_type, dtype: int64\n"
     ]
    }
   ],
   "source": [
    "idx = edges.bl_type.isin(allowed_edges)\n",
    "print(idx.value_counts())\n",
    "edges = edges[idx]"
   ]
  },
  {
   "cell_type": "code",
   "execution_count": 16,
   "metadata": {},
   "outputs": [
    {
     "name": "stdout",
     "output_type": "stream",
     "text": [
      "14033126\n"
     ]
    }
   ],
   "source": [
    "print(len(edges))"
   ]
  },
  {
   "cell_type": "code",
   "execution_count": 17,
   "metadata": {},
   "outputs": [
    {
     "data": {
      "text/html": [
       "<div>\n",
       "<style scoped>\n",
       "    .dataframe tbody tr th:only-of-type {\n",
       "        vertical-align: middle;\n",
       "    }\n",
       "\n",
       "    .dataframe tbody tr th {\n",
       "        vertical-align: top;\n",
       "    }\n",
       "\n",
       "    .dataframe thead th {\n",
       "        text-align: right;\n",
       "    }\n",
       "</style>\n",
       "<table border=\"1\" class=\"dataframe\">\n",
       "  <thead>\n",
       "    <tr style=\"text-align: right;\">\n",
       "      <th></th>\n",
       "      <th>SUBJECT_CUI</th>\n",
       "      <th>SEMMED_PRED</th>\n",
       "      <th>OBJECT_CUI</th>\n",
       "      <th>PMID</th>\n",
       "      <th>NEG</th>\n",
       "      <th>bl_domain</th>\n",
       "      <th>bl_pred</th>\n",
       "      <th>bl_range</th>\n",
       "      <th>bl_type</th>\n",
       "    </tr>\n",
       "  </thead>\n",
       "  <tbody>\n",
       "    <tr>\n",
       "      <th>0</th>\n",
       "      <td>C1412045</td>\n",
       "      <td>AFFECTS</td>\n",
       "      <td>C0023946</td>\n",
       "      <td>20801151</td>\n",
       "      <td>False</td>\n",
       "      <td>gene</td>\n",
       "      <td>AFFECTS</td>\n",
       "      <td>biological_process_or_activity</td>\n",
       "      <td>gene.AFFECTS.biological_process_or_activity</td>\n",
       "    </tr>\n",
       "    <tr>\n",
       "      <th>1</th>\n",
       "      <td>C1412045</td>\n",
       "      <td>AFFECTS</td>\n",
       "      <td>C0028754</td>\n",
       "      <td>19789049</td>\n",
       "      <td>False</td>\n",
       "      <td>gene</td>\n",
       "      <td>AFFECTS</td>\n",
       "      <td>disease_or_phenotypic_feature</td>\n",
       "      <td>gene.AFFECTS.disease_or_phenotypic_feature</td>\n",
       "    </tr>\n",
       "    <tr>\n",
       "      <th>2</th>\n",
       "      <td>C1412045</td>\n",
       "      <td>AFFECTS</td>\n",
       "      <td>C0597304</td>\n",
       "      <td>1409557</td>\n",
       "      <td>False</td>\n",
       "      <td>gene</td>\n",
       "      <td>AFFECTS</td>\n",
       "      <td>biological_process_or_activity</td>\n",
       "      <td>gene.AFFECTS.biological_process_or_activity</td>\n",
       "    </tr>\n",
       "    <tr>\n",
       "      <th>3</th>\n",
       "      <td>C1412045</td>\n",
       "      <td>AFFECTS</td>\n",
       "      <td>C0599816</td>\n",
       "      <td>7617239</td>\n",
       "      <td>False</td>\n",
       "      <td>gene</td>\n",
       "      <td>AFFECTS</td>\n",
       "      <td>biological_process_or_activity</td>\n",
       "      <td>gene.AFFECTS.biological_process_or_activity</td>\n",
       "    </tr>\n",
       "    <tr>\n",
       "      <th>4</th>\n",
       "      <td>C1412045</td>\n",
       "      <td>ASSOCIATED_WITH</td>\n",
       "      <td>C0001807</td>\n",
       "      <td>8503828;8240219</td>\n",
       "      <td>False</td>\n",
       "      <td>gene</td>\n",
       "      <td>ASSOCIATED_WITH</td>\n",
       "      <td>activity_and_behavior</td>\n",
       "      <td>gene.ASSOCIATED_WITH.activity_and_behavior</td>\n",
       "    </tr>\n",
       "  </tbody>\n",
       "</table>\n",
       "</div>"
      ],
      "text/plain": [
       "  SUBJECT_CUI      SEMMED_PRED OBJECT_CUI             PMID    NEG bl_domain  \\\n",
       "0    C1412045          AFFECTS   C0023946         20801151  False      gene   \n",
       "1    C1412045          AFFECTS   C0028754         19789049  False      gene   \n",
       "2    C1412045          AFFECTS   C0597304          1409557  False      gene   \n",
       "3    C1412045          AFFECTS   C0599816          7617239  False      gene   \n",
       "4    C1412045  ASSOCIATED_WITH   C0001807  8503828;8240219  False      gene   \n",
       "\n",
       "           bl_pred                        bl_range  \\\n",
       "0          AFFECTS  biological_process_or_activity   \n",
       "1          AFFECTS   disease_or_phenotypic_feature   \n",
       "2          AFFECTS  biological_process_or_activity   \n",
       "3          AFFECTS  biological_process_or_activity   \n",
       "4  ASSOCIATED_WITH           activity_and_behavior   \n",
       "\n",
       "                                       bl_type  \n",
       "0  gene.AFFECTS.biological_process_or_activity  \n",
       "1   gene.AFFECTS.disease_or_phenotypic_feature  \n",
       "2  gene.AFFECTS.biological_process_or_activity  \n",
       "3  gene.AFFECTS.biological_process_or_activity  \n",
       "4   gene.ASSOCIATED_WITH.activity_and_behavior  "
      ]
     },
     "execution_count": 17,
     "metadata": {},
     "output_type": "execute_result"
    }
   ],
   "source": [
    "edges.head()"
   ]
  },
  {
   "cell_type": "code",
   "execution_count": 18,
   "metadata": {},
   "outputs": [
    {
     "name": "stderr",
     "output_type": "stream",
     "text": [
      "/usr/local/lib/python3.5/dist-packages/pandas/core/indexing.py:543: SettingWithCopyWarning: \n",
      "A value is trying to be set on a copy of a slice from a DataFrame.\n",
      "Try using .loc[row_indexer,col_indexer] = value instead\n",
      "\n",
      "See the caveats in the documentation: http://pandas.pydata.org/pandas-docs/stable/indexing.html#indexing-view-versus-copy\n",
      "  self.obj[item] = s\n"
     ]
    }
   ],
   "source": [
    "# rename 'converts_to' edge to 'derives_into'\n",
    "edges.loc[edges.bl_pred == \"CONVERTS_TO\", \"bl_pred\"] = \"DERIVES_INTO\""
   ]
  },
  {
   "cell_type": "code",
   "execution_count": 19,
   "metadata": {},
   "outputs": [
    {
     "name": "stderr",
     "output_type": "stream",
     "text": [
      "/usr/local/lib/python3.5/dist-packages/pandas/core/indexing.py:543: SettingWithCopyWarning: \n",
      "A value is trying to be set on a copy of a slice from a DataFrame.\n",
      "Try using .loc[row_indexer,col_indexer] = value instead\n",
      "\n",
      "See the caveats in the documentation: http://pandas.pydata.org/pandas-docs/stable/indexing.html#indexing-view-versus-copy\n",
      "  self.obj[item] = s\n"
     ]
    }
   ],
   "source": [
    "# rename 'isa' edge to 'subclass of'\n",
    "edges.loc[edges.bl_pred == \"ISA\", \"bl_pred\"] = \"SUBCLASS_OF\""
   ]
  },
  {
   "cell_type": "code",
   "execution_count": 20,
   "metadata": {},
   "outputs": [
    {
     "name": "stderr",
     "output_type": "stream",
     "text": [
      "/usr/local/lib/python3.5/dist-packages/pandas/core/indexing.py:543: SettingWithCopyWarning: \n",
      "A value is trying to be set on a copy of a slice from a DataFrame.\n",
      "Try using .loc[row_indexer,col_indexer] = value instead\n",
      "\n",
      "See the caveats in the documentation: http://pandas.pydata.org/pandas-docs/stable/indexing.html#indexing-view-versus-copy\n",
      "  self.obj[item] = s\n"
     ]
    }
   ],
   "source": [
    "# rename 'disrupts' edge to 'affects'\n",
    "edges.loc[edges.bl_pred == \"DISRUPTS\", \"bl_pred\"] = \"AFFECTS\""
   ]
  },
  {
   "cell_type": "code",
   "execution_count": 21,
   "metadata": {},
   "outputs": [
    {
     "name": "stderr",
     "output_type": "stream",
     "text": [
      "/usr/local/lib/python3.5/dist-packages/pandas/core/indexing.py:543: SettingWithCopyWarning: \n",
      "A value is trying to be set on a copy of a slice from a DataFrame.\n",
      "Try using .loc[row_indexer,col_indexer] = value instead\n",
      "\n",
      "See the caveats in the documentation: http://pandas.pydata.org/pandas-docs/stable/indexing.html#indexing-view-versus-copy\n",
      "  self.obj[item] = s\n"
     ]
    }
   ],
   "source": [
    "# rename 'associated_with' edge to 'related_to'\n",
    "edges.loc[edges.bl_pred == \"ASSOCIATED_WITH\", \"bl_pred\"] = \"RELATED_TO\""
   ]
  },
  {
   "cell_type": "code",
   "execution_count": 22,
   "metadata": {},
   "outputs": [
    {
     "name": "stderr",
     "output_type": "stream",
     "text": [
      "/usr/local/lib/python3.5/dist-packages/pandas/core/indexing.py:543: SettingWithCopyWarning: \n",
      "A value is trying to be set on a copy of a slice from a DataFrame.\n",
      "Try using .loc[row_indexer,col_indexer] = value instead\n",
      "\n",
      "See the caveats in the documentation: http://pandas.pydata.org/pandas-docs/stable/indexing.html#indexing-view-versus-copy\n",
      "  self.obj[item] = s\n"
     ]
    }
   ],
   "source": [
    "# rename 'STIMULATES' edge to 'positively_regulates'\n",
    "edges.loc[edges.bl_pred == \"STIMULATES\", \"bl_pred\"] = \"positively_regulates\".upper()"
   ]
  },
  {
   "cell_type": "code",
   "execution_count": 23,
   "metadata": {},
   "outputs": [
    {
     "name": "stderr",
     "output_type": "stream",
     "text": [
      "/usr/local/lib/python3.5/dist-packages/pandas/core/indexing.py:543: SettingWithCopyWarning: \n",
      "A value is trying to be set on a copy of a slice from a DataFrame.\n",
      "Try using .loc[row_indexer,col_indexer] = value instead\n",
      "\n",
      "See the caveats in the documentation: http://pandas.pydata.org/pandas-docs/stable/indexing.html#indexing-view-versus-copy\n",
      "  self.obj[item] = s\n"
     ]
    }
   ],
   "source": [
    "# rename 'INHIBITS' edge to 'negatively_regulates'\n",
    "edges.loc[edges.bl_pred == \"INHIBITS\", \"bl_pred\"] = \"negatively_regulates\".upper()"
   ]
  },
  {
   "cell_type": "code",
   "execution_count": 24,
   "metadata": {},
   "outputs": [
    {
     "name": "stderr",
     "output_type": "stream",
     "text": [
      "/usr/local/lib/python3.5/dist-packages/pandas/core/indexing.py:543: SettingWithCopyWarning: \n",
      "A value is trying to be set on a copy of a slice from a DataFrame.\n",
      "Try using .loc[row_indexer,col_indexer] = value instead\n",
      "\n",
      "See the caveats in the documentation: http://pandas.pydata.org/pandas-docs/stable/indexing.html#indexing-view-versus-copy\n",
      "  self.obj[item] = s\n"
     ]
    }
   ],
   "source": [
    "# associated_with/related_to edges with domain: gene, range: disease; rename to gene_associated_with_condition, \n",
    "# and leave the rest alone\n",
    "edges.loc[(edges.bl_pred == \"RELATED_TO\") & (edges.bl_domain == \"gene\") & \n",
    "      (edges.bl_range == \"disease_or_phenotypic_feature\"), 'bl_pred'] = 'gene_associated_with_condition'.upper()"
   ]
  },
  {
   "cell_type": "code",
   "execution_count": 25,
   "metadata": {},
   "outputs": [
    {
     "data": {
      "text/plain": [
       "AFFECTS                           1915181\n",
       "INTERACTS_WITH                    1850601\n",
       "LOCATION_OF                       1843764\n",
       "COEXISTS_WITH                     1707696\n",
       "PART_OF                           1231194\n",
       "POSITIVELY_REGULATES              1159243\n",
       "NEGATIVELY_REGULATES               925338\n",
       "CAUSES                             708849\n",
       "TREATS                             609398\n",
       "PRODUCES                           553511\n",
       "RELATED_TO                         511024\n",
       "GENE_ASSOCIATED_WITH_CONDITION     302108\n",
       "SUBCLASS_OF                        247356\n",
       "PREDISPOSES                        228045\n",
       "PREVENTS                           117060\n",
       "DERIVES_INTO                        61644\n",
       "MANIFESTATION_OF                    36462\n",
       "PRECEDES                            24652\n",
       "Name: bl_pred, dtype: int64"
      ]
     },
     "execution_count": 25,
     "metadata": {},
     "output_type": "execute_result"
    }
   ],
   "source": [
    "edges.bl_pred.value_counts()"
   ]
  },
  {
   "cell_type": "code",
   "execution_count": 26,
   "metadata": {},
   "outputs": [
    {
     "data": {
      "text/plain": [
       "GENE_ASSOCIATED_WITH_CONDITION    302108\n",
       "AFFECTS                           120203\n",
       "TREATS                            101678\n",
       "CAUSES                             96478\n",
       "PREDISPOSES                        60088\n",
       "PART_OF                            55699\n",
       "PREVENTS                           15899\n",
       "NEGATIVELY_REGULATES                 357\n",
       "PRODUCES                              42\n",
       "COEXISTS_WITH                         28\n",
       "INTERACTS_WITH                        26\n",
       "SUBCLASS_OF                           16\n",
       "PRECEDES                              13\n",
       "POSITIVELY_REGULATES                   9\n",
       "DERIVES_INTO                           4\n",
       "Name: bl_pred, dtype: int64"
      ]
     },
     "execution_count": 26,
     "metadata": {},
     "output_type": "execute_result"
    }
   ],
   "source": [
    "edges[(edges.bl_domain == \"gene\") & (edges.bl_range == \"disease_or_phenotypic_feature\")].bl_pred.value_counts()"
   ]
  },
  {
   "cell_type": "code",
   "execution_count": 28,
   "metadata": {},
   "outputs": [
    {
     "name": "stdout",
     "output_type": "stream",
     "text": [
      "165765\n",
      "165658\n"
     ]
    }
   ],
   "source": [
    "print(len(nodes))\n",
    "nodes = nodes[nodes.ID.isin(set(list(edges['SUBJECT_CUI']) + list(edges['OBJECT_CUI'])))]\n",
    "print(len(nodes))"
   ]
  },
  {
   "cell_type": "code",
   "execution_count": 29,
   "metadata": {},
   "outputs": [
    {
     "name": "stdout",
     "output_type": "stream",
     "text": [
      "14033126\n",
      "165658\n",
      "1179\n",
      "18\n",
      "13\n"
     ]
    }
   ],
   "source": [
    "## summary\n",
    "edges['bl_type'] = edges['bl_domain'] + \".\" + edges['bl_pred'] + \".\" + edges['bl_range']\n",
    "print(len(edges))\n",
    "print(len(nodes))\n",
    "print(len(set(edges.bl_type)))\n",
    "print(len(set(edges.bl_pred)))\n",
    "print(len(set(nodes.blm_type)))"
   ]
  },
  {
   "cell_type": "code",
   "execution_count": 30,
   "metadata": {},
   "outputs": [],
   "source": [
    "del edges['bl_type']\n",
    "del edges['bl_domain']\n",
    "del edges['bl_range']"
   ]
  },
  {
   "cell_type": "code",
   "execution_count": 31,
   "metadata": {},
   "outputs": [
    {
     "data": {
      "text/html": [
       "<div>\n",
       "<style scoped>\n",
       "    .dataframe tbody tr th:only-of-type {\n",
       "        vertical-align: middle;\n",
       "    }\n",
       "\n",
       "    .dataframe tbody tr th {\n",
       "        vertical-align: top;\n",
       "    }\n",
       "\n",
       "    .dataframe thead th {\n",
       "        text-align: right;\n",
       "    }\n",
       "</style>\n",
       "<table border=\"1\" class=\"dataframe\">\n",
       "  <thead>\n",
       "    <tr style=\"text-align: right;\">\n",
       "      <th></th>\n",
       "      <th>SUBJECT_CUI</th>\n",
       "      <th>SEMMED_PRED</th>\n",
       "      <th>OBJECT_CUI</th>\n",
       "      <th>PMID</th>\n",
       "      <th>NEG</th>\n",
       "      <th>bl_pred</th>\n",
       "    </tr>\n",
       "  </thead>\n",
       "  <tbody>\n",
       "    <tr>\n",
       "      <th>0</th>\n",
       "      <td>C1412045</td>\n",
       "      <td>AFFECTS</td>\n",
       "      <td>C0023946</td>\n",
       "      <td>20801151</td>\n",
       "      <td>False</td>\n",
       "      <td>AFFECTS</td>\n",
       "    </tr>\n",
       "    <tr>\n",
       "      <th>1</th>\n",
       "      <td>C1412045</td>\n",
       "      <td>AFFECTS</td>\n",
       "      <td>C0028754</td>\n",
       "      <td>19789049</td>\n",
       "      <td>False</td>\n",
       "      <td>AFFECTS</td>\n",
       "    </tr>\n",
       "    <tr>\n",
       "      <th>2</th>\n",
       "      <td>C1412045</td>\n",
       "      <td>AFFECTS</td>\n",
       "      <td>C0597304</td>\n",
       "      <td>1409557</td>\n",
       "      <td>False</td>\n",
       "      <td>AFFECTS</td>\n",
       "    </tr>\n",
       "    <tr>\n",
       "      <th>3</th>\n",
       "      <td>C1412045</td>\n",
       "      <td>AFFECTS</td>\n",
       "      <td>C0599816</td>\n",
       "      <td>7617239</td>\n",
       "      <td>False</td>\n",
       "      <td>AFFECTS</td>\n",
       "    </tr>\n",
       "    <tr>\n",
       "      <th>4</th>\n",
       "      <td>C1412045</td>\n",
       "      <td>ASSOCIATED_WITH</td>\n",
       "      <td>C0001807</td>\n",
       "      <td>8503828;8240219</td>\n",
       "      <td>False</td>\n",
       "      <td>RELATED_TO</td>\n",
       "    </tr>\n",
       "  </tbody>\n",
       "</table>\n",
       "</div>"
      ],
      "text/plain": [
       "  SUBJECT_CUI      SEMMED_PRED OBJECT_CUI             PMID    NEG     bl_pred\n",
       "0    C1412045          AFFECTS   C0023946         20801151  False     AFFECTS\n",
       "1    C1412045          AFFECTS   C0028754         19789049  False     AFFECTS\n",
       "2    C1412045          AFFECTS   C0597304          1409557  False     AFFECTS\n",
       "3    C1412045          AFFECTS   C0599816          7617239  False     AFFECTS\n",
       "4    C1412045  ASSOCIATED_WITH   C0001807  8503828;8240219  False  RELATED_TO"
      ]
     },
     "execution_count": 31,
     "metadata": {},
     "output_type": "execute_result"
    }
   ],
   "source": [
    "edges.head()"
   ]
  },
  {
   "cell_type": "code",
   "execution_count": 32,
   "metadata": {},
   "outputs": [],
   "source": [
    "edges.to_csv(\"edges_biolink.csv\", index=None)\n",
    "nodes.to_csv(\"nodes_biolink.csv\", index=None)"
   ]
  }
 ],
 "metadata": {
  "kernelspec": {
   "display_name": "Python 3",
   "language": "python",
   "name": "python3"
  },
  "language_info": {
   "codemirror_mode": {
    "name": "ipython",
    "version": 3
   },
   "file_extension": ".py",
   "mimetype": "text/x-python",
   "name": "python",
   "nbconvert_exporter": "python",
   "pygments_lexer": "ipython3",
   "version": "3.5.2"
  }
 },
 "nbformat": 4,
 "nbformat_minor": 2
}
