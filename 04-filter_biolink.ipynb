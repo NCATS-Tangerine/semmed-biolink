{
 "cells": [
  {
   "cell_type": "code",
   "execution_count": 1,
   "metadata": {},
   "outputs": [],
   "source": [
    "import os\n",
    "import pickle\n",
    "%matplotlib inline\n",
    "import pandas as pd\n",
    "import seaborn as sns\n",
    "import re\n",
    "from collections import defaultdict, Counter\n",
    "from tqdm import tqdm"
   ]
  },
  {
   "cell_type": "code",
   "execution_count": 2,
   "metadata": {},
   "outputs": [],
   "source": [
    "edges = pd.read_csv('edges_filtered2.csv')\n",
    "nodes = pd.read_csv(\"nodes_filtered2.csv\")\n",
    "abv = pd.read_csv(\"abv.csv\")\n",
    "name_abv = dict(zip(abv.full_name, abv.abv))\n",
    "abv_name = dict(zip(abv.abv, abv.full_name))"
   ]
  },
  {
   "cell_type": "code",
   "execution_count": 3,
   "metadata": {},
   "outputs": [],
   "source": [
    "#nodes\n",
    "# {name_abv.get(x):x for x in set(nodes.TYPE)}"
   ]
  },
  {
   "cell_type": "code",
   "execution_count": 4,
   "metadata": {},
   "outputs": [],
   "source": [
    "#edges\n",
    "# {abv_name.get(x):x for x in set(edges.PRED)}"
   ]
  },
  {
   "cell_type": "code",
   "execution_count": 5,
   "metadata": {},
   "outputs": [
    {
     "data": {
      "text/plain": [
       "Chemicals & Drugs              63674\n",
       "Living Beings                  47099\n",
       "Disorders                      38858\n",
       "protein                        29386\n",
       "Genes & Molecular Sequences    20801\n",
       "Anatomy                        15289\n",
       "Physiology                      8023\n",
       "genomic_entity                  1848\n",
       "Objects                         1437\n",
       "Phenomena                       1148\n",
       "Activities & Behaviors          1030\n",
       "Name: TYPE, dtype: int64"
      ]
     },
     "execution_count": 5,
     "metadata": {},
     "output_type": "execute_result"
    }
   ],
   "source": [
    "nodes.TYPE.value_counts()"
   ]
  },
  {
   "cell_type": "code",
   "execution_count": 6,
   "metadata": {},
   "outputs": [],
   "source": [
    "node_mapping = {\n",
    " 'Anatomy': 'anatomical_entity',\n",
    " 'Activities & Behaviors': 'activity_and_behavior',\n",
    " 'Chemicals & Drugs': 'chemical_substance',\n",
    " 'Disorders': 'disease',\n",
    " 'Genes & Molecular Sequences': 'genomic_entity',\n",
    " 'Living Beings': 'individual_organism',\n",
    " 'Objects': 'named_thing',\n",
    " 'Phenomena': 'biological_process',\n",
    " 'Physiology': 'biological_process',\n",
    " 'protein': 'protein',\n",
    " 'genomic_entity': 'genomic_entity'\n",
    "}"
   ]
  },
  {
   "cell_type": "code",
   "execution_count": 7,
   "metadata": {},
   "outputs": [
    {
     "data": {
      "text/html": [
       "<div>\n",
       "<style scoped>\n",
       "    .dataframe tbody tr th:only-of-type {\n",
       "        vertical-align: middle;\n",
       "    }\n",
       "\n",
       "    .dataframe tbody tr th {\n",
       "        vertical-align: top;\n",
       "    }\n",
       "\n",
       "    .dataframe thead th {\n",
       "        text-align: right;\n",
       "    }\n",
       "</style>\n",
       "<table border=\"1\" class=\"dataframe\">\n",
       "  <thead>\n",
       "    <tr style=\"text-align: right;\">\n",
       "      <th></th>\n",
       "      <th>ID</th>\n",
       "      <th>label</th>\n",
       "      <th>TYPE</th>\n",
       "      <th>bl_type</th>\n",
       "    </tr>\n",
       "  </thead>\n",
       "  <tbody>\n",
       "    <tr>\n",
       "      <th>0</th>\n",
       "      <td>C0038195</td>\n",
       "      <td>State Medicine</td>\n",
       "      <td>Activities &amp; Behaviors</td>\n",
       "      <td>activity_and_behavior</td>\n",
       "    </tr>\n",
       "    <tr>\n",
       "      <th>1</th>\n",
       "      <td>C1290952</td>\n",
       "      <td>Taking medication</td>\n",
       "      <td>Activities &amp; Behaviors</td>\n",
       "      <td>activity_and_behavior</td>\n",
       "    </tr>\n",
       "    <tr>\n",
       "      <th>2</th>\n",
       "      <td>C0085092</td>\n",
       "      <td>Parenting behavior</td>\n",
       "      <td>Activities &amp; Behaviors</td>\n",
       "      <td>activity_and_behavior</td>\n",
       "    </tr>\n",
       "    <tr>\n",
       "      <th>3</th>\n",
       "      <td>C1096771</td>\n",
       "      <td>Murderer</td>\n",
       "      <td>Activities &amp; Behaviors</td>\n",
       "      <td>activity_and_behavior</td>\n",
       "    </tr>\n",
       "    <tr>\n",
       "      <th>4</th>\n",
       "      <td>C1299651</td>\n",
       "      <td>Serious reportable event</td>\n",
       "      <td>Activities &amp; Behaviors</td>\n",
       "      <td>activity_and_behavior</td>\n",
       "    </tr>\n",
       "  </tbody>\n",
       "</table>\n",
       "</div>"
      ],
      "text/plain": [
       "         ID                     label                    TYPE  \\\n",
       "0  C0038195            State Medicine  Activities & Behaviors   \n",
       "1  C1290952         Taking medication  Activities & Behaviors   \n",
       "2  C0085092        Parenting behavior  Activities & Behaviors   \n",
       "3  C1096771                  Murderer  Activities & Behaviors   \n",
       "4  C1299651  Serious reportable event  Activities & Behaviors   \n",
       "\n",
       "                 bl_type  \n",
       "0  activity_and_behavior  \n",
       "1  activity_and_behavior  \n",
       "2  activity_and_behavior  \n",
       "3  activity_and_behavior  \n",
       "4  activity_and_behavior  "
      ]
     },
     "execution_count": 7,
     "metadata": {},
     "output_type": "execute_result"
    }
   ],
   "source": [
    "nodes['bl_type'] = nodes.TYPE.apply(node_mapping.get)\n",
    "nodes.head()"
   ]
  },
  {
   "cell_type": "code",
   "execution_count": 8,
   "metadata": {},
   "outputs": [
    {
     "data": {
      "text/html": [
       "<div>\n",
       "<style scoped>\n",
       "    .dataframe tbody tr th:only-of-type {\n",
       "        vertical-align: middle;\n",
       "    }\n",
       "\n",
       "    .dataframe tbody tr th {\n",
       "        vertical-align: top;\n",
       "    }\n",
       "\n",
       "    .dataframe thead th {\n",
       "        text-align: right;\n",
       "    }\n",
       "</style>\n",
       "<table border=\"1\" class=\"dataframe\">\n",
       "  <thead>\n",
       "    <tr style=\"text-align: right;\">\n",
       "      <th></th>\n",
       "      <th>START_ID</th>\n",
       "      <th>END_ID</th>\n",
       "      <th>TYPE</th>\n",
       "      <th>pmids</th>\n",
       "      <th>n_pmids</th>\n",
       "      <th>NEG</th>\n",
       "      <th>DOMAIN</th>\n",
       "      <th>PRED</th>\n",
       "      <th>RANGE</th>\n",
       "      <th>bl_domain</th>\n",
       "      <th>bl_pred</th>\n",
       "      <th>bl_range</th>\n",
       "      <th>bl_type</th>\n",
       "    </tr>\n",
       "  </thead>\n",
       "  <tbody>\n",
       "    <tr>\n",
       "      <th>0</th>\n",
       "      <td>C0086931</td>\n",
       "      <td>C0037369</td>\n",
       "      <td>ABafAB</td>\n",
       "      <td>26656404;8816000;19745413;17710714;21412223;19...</td>\n",
       "      <td>6</td>\n",
       "      <td>False</td>\n",
       "      <td>AB</td>\n",
       "      <td>af</td>\n",
       "      <td>AB</td>\n",
       "      <td>activity_and_behavior</td>\n",
       "      <td>AFFECTS</td>\n",
       "      <td>activity_and_behavior</td>\n",
       "      <td>activity_and_behavior.AFFECTS.activity_and_beh...</td>\n",
       "    </tr>\n",
       "    <tr>\n",
       "      <th>1</th>\n",
       "      <td>C0950156</td>\n",
       "      <td>C0009671</td>\n",
       "      <td>ABafAB</td>\n",
       "      <td>12584106</td>\n",
       "      <td>1</td>\n",
       "      <td>False</td>\n",
       "      <td>AB</td>\n",
       "      <td>af</td>\n",
       "      <td>AB</td>\n",
       "      <td>activity_and_behavior</td>\n",
       "      <td>AFFECTS</td>\n",
       "      <td>activity_and_behavior</td>\n",
       "      <td>activity_and_behavior.AFFECTS.activity_and_beh...</td>\n",
       "    </tr>\n",
       "    <tr>\n",
       "      <th>2</th>\n",
       "      <td>C0024810</td>\n",
       "      <td>C0035651</td>\n",
       "      <td>ABafAB</td>\n",
       "      <td>15775958;11173168</td>\n",
       "      <td>2</td>\n",
       "      <td>False</td>\n",
       "      <td>AB</td>\n",
       "      <td>af</td>\n",
       "      <td>AB</td>\n",
       "      <td>activity_and_behavior</td>\n",
       "      <td>AFFECTS</td>\n",
       "      <td>activity_and_behavior</td>\n",
       "      <td>activity_and_behavior.AFFECTS.activity_and_beh...</td>\n",
       "    </tr>\n",
       "    <tr>\n",
       "      <th>3</th>\n",
       "      <td>C0556297</td>\n",
       "      <td>C0037369</td>\n",
       "      <td>ABafAB</td>\n",
       "      <td>12164677;9373700</td>\n",
       "      <td>2</td>\n",
       "      <td>False</td>\n",
       "      <td>AB</td>\n",
       "      <td>af</td>\n",
       "      <td>AB</td>\n",
       "      <td>activity_and_behavior</td>\n",
       "      <td>AFFECTS</td>\n",
       "      <td>activity_and_behavior</td>\n",
       "      <td>activity_and_behavior.AFFECTS.activity_and_beh...</td>\n",
       "    </tr>\n",
       "    <tr>\n",
       "      <th>4</th>\n",
       "      <td>C1154333</td>\n",
       "      <td>C0015745</td>\n",
       "      <td>ABafAB</td>\n",
       "      <td>23872405</td>\n",
       "      <td>1</td>\n",
       "      <td>False</td>\n",
       "      <td>AB</td>\n",
       "      <td>af</td>\n",
       "      <td>AB</td>\n",
       "      <td>activity_and_behavior</td>\n",
       "      <td>AFFECTS</td>\n",
       "      <td>activity_and_behavior</td>\n",
       "      <td>activity_and_behavior.AFFECTS.activity_and_beh...</td>\n",
       "    </tr>\n",
       "  </tbody>\n",
       "</table>\n",
       "</div>"
      ],
      "text/plain": [
       "   START_ID    END_ID    TYPE  \\\n",
       "0  C0086931  C0037369  ABafAB   \n",
       "1  C0950156  C0009671  ABafAB   \n",
       "2  C0024810  C0035651  ABafAB   \n",
       "3  C0556297  C0037369  ABafAB   \n",
       "4  C1154333  C0015745  ABafAB   \n",
       "\n",
       "                                               pmids  n_pmids    NEG DOMAIN  \\\n",
       "0  26656404;8816000;19745413;17710714;21412223;19...        6  False     AB   \n",
       "1                                           12584106        1  False     AB   \n",
       "2                                  15775958;11173168        2  False     AB   \n",
       "3                                   12164677;9373700        2  False     AB   \n",
       "4                                           23872405        1  False     AB   \n",
       "\n",
       "  PRED RANGE              bl_domain  bl_pred               bl_range  \\\n",
       "0   af    AB  activity_and_behavior  AFFECTS  activity_and_behavior   \n",
       "1   af    AB  activity_and_behavior  AFFECTS  activity_and_behavior   \n",
       "2   af    AB  activity_and_behavior  AFFECTS  activity_and_behavior   \n",
       "3   af    AB  activity_and_behavior  AFFECTS  activity_and_behavior   \n",
       "4   af    AB  activity_and_behavior  AFFECTS  activity_and_behavior   \n",
       "\n",
       "                                             bl_type  \n",
       "0  activity_and_behavior.AFFECTS.activity_and_beh...  \n",
       "1  activity_and_behavior.AFFECTS.activity_and_beh...  \n",
       "2  activity_and_behavior.AFFECTS.activity_and_beh...  \n",
       "3  activity_and_behavior.AFFECTS.activity_and_beh...  \n",
       "4  activity_and_behavior.AFFECTS.activity_and_beh...  "
      ]
     },
     "execution_count": 8,
     "metadata": {},
     "output_type": "execute_result"
    }
   ],
   "source": [
    "# rename the edge domain and range to use the biolink types\n",
    "edges['bl_domain'] = edges.DOMAIN.apply(abv_name.get).apply(node_mapping.get)\n",
    "edges['bl_pred'] = edges.PRED.apply(abv_name.get)\n",
    "edges['bl_range'] = edges.RANGE.apply(abv_name.get).apply(node_mapping.get)\n",
    "edges['bl_type'] = edges['bl_domain'] + \".\" + edges['bl_pred'] + \".\" + edges['bl_range']\n",
    "edges.head()"
   ]
  },
  {
   "cell_type": "code",
   "execution_count": 9,
   "metadata": {},
   "outputs": [],
   "source": [
    "# get the most common domain and ranges for each pred\n",
    "pred_type_count = edges.groupby(\"bl_pred\").bl_type.value_counts()"
   ]
  },
  {
   "cell_type": "code",
   "execution_count": 10,
   "metadata": {},
   "outputs": [
    {
     "data": {
      "text/plain": [
       "bl_type\n",
       "chemical_substance.INHIBITS.chemical_substance    459534\n",
       "chemical_substance.INHIBITS.genomic_entity        251465\n",
       "genomic_entity.INHIBITS.genomic_entity             82386\n",
       "chemical_substance.INHIBITS.biological_process     18774\n",
       "chemical_substance.INHIBITS.disease                18285\n",
       "Name: bl_type, dtype: int64"
      ]
     },
     "execution_count": 10,
     "metadata": {},
     "output_type": "execute_result"
    }
   ],
   "source": [
    "pred_type_count['INHIBITS'][:15]"
   ]
  },
  {
   "cell_type": "code",
   "execution_count": 11,
   "metadata": {},
   "outputs": [],
   "source": [
    "# working off https://docs.google.com/spreadsheets/d/1zXitcR1QjHyh6WocukgshSR7IoAVg7MJQG-HNh96Jec/edit#gid=579577728\n",
    "allowed_domain_range = {\n",
    "    \"ADMINISTERED_TO\": ({'chemical_substance', 'procedure', 'genomic_entity', 'protein'}, \n",
    "                        {'individual_organism', 'anatomical_entity'}),\n",
    "    \"AFFECTS\": (None, None), # this means anything,\n",
    "    \"ASSOCIATED_WITH\": ({'chemical_substance', 'disease', 'genomic_entity', 'biological_process', 'protein'}, \n",
    "                         {'disease'}),\n",
    "    'AUGMENTS': ({'chemical_substance', 'genomic_entity', 'disease', 'protein'}, \n",
    "                         {'biological_process', 'disease', 'activity_and_behavior'}),\n",
    "    'CAUSES': ({'chemical_substance', 'genomic_entity', 'disease', 'biological_process', 'activity_and_behavior'}, \n",
    "                         {'biological_process', 'disease'}),\n",
    "    'COEXISTS_WITH': (None, None) ,\n",
    "    'COMPLICATES': ({'disease'}, \n",
    "                    {'disease'}),\n",
    "    'CONVERTS_TO': ({'chemical_substance', 'genomic_entity', 'protein'}, \n",
    "                    {'chemical_substance', 'genomic_entity', 'protein'}),\n",
    "    'DISRUPTS': ({'chemical_substance', 'genomic_entity', 'biological_process', 'protein'}, \n",
    "                 {'biological_process', 'disease'}),\n",
    "    'INHIBITS': ({'chemical_substance', 'genomic_entity', 'protein'}, \n",
    "                 {'chemical_substance', 'genomic_entity', 'biological_process', 'disease', 'protein'}),\n",
    "    'INTERACTS_WITH': ({'chemical_substance', 'genomic_entity', 'protein'}, \n",
    "                       {'chemical_substance', 'genomic_entity', 'protein'}),\n",
    "    'ISA': (None, None),\n",
    "    'LOCATION_OF': ({'anatomical_entity'}, \n",
    "                    None),\n",
    "    'MANIFESTATION_OF': ({'disease'}, \n",
    "                         {'disease', 'biological_process'}),\n",
    "    'OCCURS_IN': ({'disease'}, {'individual_organism'}),\n",
    "    'PART_OF': ({'chemical_substance', 'genomic_entity', 'anatomical_entity'}, \n",
    "                {'anatomical_entity', 'individual_organism', 'chemical_substance', 'genomic_entity'}),\n",
    "    'PRECEDES': ({'disease', 'biological_process'}, \n",
    "                 {'disease', 'biological_process'}),\n",
    "    'PREDISPOSES': (None, \n",
    "                    {'disease'}),\n",
    "    'PREVENTS': ({'chemical_substance', 'genomic_entity', 'activity_and_behavior', 'protein'}, \n",
    "                 {'disease'}),\n",
    "    'PROCESS_OF': ({'disease', 'biological_process', 'activity_and_behavior'}, \n",
    "                   {'individual_organism', 'anatomical_entity', 'disease'}),\n",
    "    'PRODUCES': ({'chemical_substance', 'anatomical_entity', 'genomic_entity', 'biological_process', 'protein'}, \n",
    "                 {'chemical_substance', 'genomic_entity', 'protein'}),\n",
    "    'STIMULATES': ({'chemical_substance', 'genomic_entity', 'protein'},\n",
    "                  {'chemical_substance', 'genomic_entity', 'biological_process', 'disease', 'protein'}),\n",
    "    'TREATS': ({'chemical_substance', 'genomic_entity', 'activity_and_behavior', 'protein'}, \n",
    "               {'disease'}),\n",
    "}"
   ]
  },
  {
   "cell_type": "code",
   "execution_count": 12,
   "metadata": {},
   "outputs": [],
   "source": [
    "def is_allowed_edge(domain, pred, rnge):\n",
    "    allowed_domain, allowed_range = allowed_domain_range[pred]\n",
    "    return ((domain in allowed_domain if allowed_domain else True) and \n",
    "              (rnge in allowed_range if allowed_range else True))"
   ]
  },
  {
   "cell_type": "code",
   "execution_count": 13,
   "metadata": {},
   "outputs": [],
   "source": [
    "d = {x: is_allowed_edge(*x.split(\".\")) for x in set(edges.bl_type)}\n",
    "allowed_edges = {k for k,v in d.items() if v}"
   ]
  },
  {
   "cell_type": "code",
   "execution_count": 14,
   "metadata": {},
   "outputs": [
    {
     "name": "stdout",
     "output_type": "stream",
     "text": [
      "True     14201493\n",
      "False     1373652\n",
      "Name: bl_type, dtype: int64\n"
     ]
    }
   ],
   "source": [
    "idx = edges.bl_type.isin(allowed_edges)\n",
    "print(idx.value_counts())\n",
    "edges = edges[idx]"
   ]
  },
  {
   "cell_type": "code",
   "execution_count": 15,
   "metadata": {},
   "outputs": [
    {
     "name": "stdout",
     "output_type": "stream",
     "text": [
      "14201493\n"
     ]
    }
   ],
   "source": [
    "print(len(edges))"
   ]
  },
  {
   "cell_type": "code",
   "execution_count": 16,
   "metadata": {},
   "outputs": [
    {
     "data": {
      "text/html": [
       "<div>\n",
       "<style scoped>\n",
       "    .dataframe tbody tr th:only-of-type {\n",
       "        vertical-align: middle;\n",
       "    }\n",
       "\n",
       "    .dataframe tbody tr th {\n",
       "        vertical-align: top;\n",
       "    }\n",
       "\n",
       "    .dataframe thead th {\n",
       "        text-align: right;\n",
       "    }\n",
       "</style>\n",
       "<table border=\"1\" class=\"dataframe\">\n",
       "  <thead>\n",
       "    <tr style=\"text-align: right;\">\n",
       "      <th></th>\n",
       "      <th>START_ID</th>\n",
       "      <th>END_ID</th>\n",
       "      <th>TYPE</th>\n",
       "      <th>pmids</th>\n",
       "      <th>n_pmids</th>\n",
       "      <th>NEG</th>\n",
       "      <th>DOMAIN</th>\n",
       "      <th>PRED</th>\n",
       "      <th>RANGE</th>\n",
       "      <th>bl_domain</th>\n",
       "      <th>bl_pred</th>\n",
       "      <th>bl_range</th>\n",
       "      <th>bl_type</th>\n",
       "    </tr>\n",
       "  </thead>\n",
       "  <tbody>\n",
       "    <tr>\n",
       "      <th>0</th>\n",
       "      <td>C0086931</td>\n",
       "      <td>C0037369</td>\n",
       "      <td>ABafAB</td>\n",
       "      <td>26656404;8816000;19745413;17710714;21412223;19...</td>\n",
       "      <td>6</td>\n",
       "      <td>False</td>\n",
       "      <td>AB</td>\n",
       "      <td>af</td>\n",
       "      <td>AB</td>\n",
       "      <td>activity_and_behavior</td>\n",
       "      <td>AFFECTS</td>\n",
       "      <td>activity_and_behavior</td>\n",
       "      <td>activity_and_behavior.AFFECTS.activity_and_beh...</td>\n",
       "    </tr>\n",
       "    <tr>\n",
       "      <th>1</th>\n",
       "      <td>C0950156</td>\n",
       "      <td>C0009671</td>\n",
       "      <td>ABafAB</td>\n",
       "      <td>12584106</td>\n",
       "      <td>1</td>\n",
       "      <td>False</td>\n",
       "      <td>AB</td>\n",
       "      <td>af</td>\n",
       "      <td>AB</td>\n",
       "      <td>activity_and_behavior</td>\n",
       "      <td>AFFECTS</td>\n",
       "      <td>activity_and_behavior</td>\n",
       "      <td>activity_and_behavior.AFFECTS.activity_and_beh...</td>\n",
       "    </tr>\n",
       "    <tr>\n",
       "      <th>2</th>\n",
       "      <td>C0024810</td>\n",
       "      <td>C0035651</td>\n",
       "      <td>ABafAB</td>\n",
       "      <td>15775958;11173168</td>\n",
       "      <td>2</td>\n",
       "      <td>False</td>\n",
       "      <td>AB</td>\n",
       "      <td>af</td>\n",
       "      <td>AB</td>\n",
       "      <td>activity_and_behavior</td>\n",
       "      <td>AFFECTS</td>\n",
       "      <td>activity_and_behavior</td>\n",
       "      <td>activity_and_behavior.AFFECTS.activity_and_beh...</td>\n",
       "    </tr>\n",
       "    <tr>\n",
       "      <th>3</th>\n",
       "      <td>C0556297</td>\n",
       "      <td>C0037369</td>\n",
       "      <td>ABafAB</td>\n",
       "      <td>12164677;9373700</td>\n",
       "      <td>2</td>\n",
       "      <td>False</td>\n",
       "      <td>AB</td>\n",
       "      <td>af</td>\n",
       "      <td>AB</td>\n",
       "      <td>activity_and_behavior</td>\n",
       "      <td>AFFECTS</td>\n",
       "      <td>activity_and_behavior</td>\n",
       "      <td>activity_and_behavior.AFFECTS.activity_and_beh...</td>\n",
       "    </tr>\n",
       "    <tr>\n",
       "      <th>4</th>\n",
       "      <td>C1154333</td>\n",
       "      <td>C0015745</td>\n",
       "      <td>ABafAB</td>\n",
       "      <td>23872405</td>\n",
       "      <td>1</td>\n",
       "      <td>False</td>\n",
       "      <td>AB</td>\n",
       "      <td>af</td>\n",
       "      <td>AB</td>\n",
       "      <td>activity_and_behavior</td>\n",
       "      <td>AFFECTS</td>\n",
       "      <td>activity_and_behavior</td>\n",
       "      <td>activity_and_behavior.AFFECTS.activity_and_beh...</td>\n",
       "    </tr>\n",
       "  </tbody>\n",
       "</table>\n",
       "</div>"
      ],
      "text/plain": [
       "   START_ID    END_ID    TYPE  \\\n",
       "0  C0086931  C0037369  ABafAB   \n",
       "1  C0950156  C0009671  ABafAB   \n",
       "2  C0024810  C0035651  ABafAB   \n",
       "3  C0556297  C0037369  ABafAB   \n",
       "4  C1154333  C0015745  ABafAB   \n",
       "\n",
       "                                               pmids  n_pmids    NEG DOMAIN  \\\n",
       "0  26656404;8816000;19745413;17710714;21412223;19...        6  False     AB   \n",
       "1                                           12584106        1  False     AB   \n",
       "2                                  15775958;11173168        2  False     AB   \n",
       "3                                   12164677;9373700        2  False     AB   \n",
       "4                                           23872405        1  False     AB   \n",
       "\n",
       "  PRED RANGE              bl_domain  bl_pred               bl_range  \\\n",
       "0   af    AB  activity_and_behavior  AFFECTS  activity_and_behavior   \n",
       "1   af    AB  activity_and_behavior  AFFECTS  activity_and_behavior   \n",
       "2   af    AB  activity_and_behavior  AFFECTS  activity_and_behavior   \n",
       "3   af    AB  activity_and_behavior  AFFECTS  activity_and_behavior   \n",
       "4   af    AB  activity_and_behavior  AFFECTS  activity_and_behavior   \n",
       "\n",
       "                                             bl_type  \n",
       "0  activity_and_behavior.AFFECTS.activity_and_beh...  \n",
       "1  activity_and_behavior.AFFECTS.activity_and_beh...  \n",
       "2  activity_and_behavior.AFFECTS.activity_and_beh...  \n",
       "3  activity_and_behavior.AFFECTS.activity_and_beh...  \n",
       "4  activity_and_behavior.AFFECTS.activity_and_beh...  "
      ]
     },
     "execution_count": 16,
     "metadata": {},
     "output_type": "execute_result"
    }
   ],
   "source": [
    "edges.head()"
   ]
  },
  {
   "cell_type": "code",
   "execution_count": 17,
   "metadata": {},
   "outputs": [],
   "source": [
    "del edges['bl_type']\n",
    "del edges['DOMAIN']\n",
    "del edges['PRED']\n",
    "del edges['RANGE']\n",
    "del edges['TYPE']"
   ]
  },
  {
   "cell_type": "code",
   "execution_count": 18,
   "metadata": {},
   "outputs": [],
   "source": [
    "# rename 'converts_to' edge to 'derives_into'\n",
    "edges.bl_pred[edges.bl_pred == \"CONVERTS_TO\"] = \"DERIVES_INTO\""
   ]
  },
  {
   "cell_type": "code",
   "execution_count": 19,
   "metadata": {},
   "outputs": [
    {
     "name": "stderr",
     "output_type": "stream",
     "text": [
      "/usr/local/lib/python3.5/dist-packages/ipykernel/__main__.py:2: SettingWithCopyWarning: \n",
      "A value is trying to be set on a copy of a slice from a DataFrame\n",
      "\n",
      "See the caveats in the documentation: http://pandas.pydata.org/pandas-docs/stable/indexing.html#indexing-view-versus-copy\n",
      "  from ipykernel import kernelapp as app\n"
     ]
    }
   ],
   "source": [
    "# rename 'isa' edge to 'subclass of'\n",
    "edges.bl_pred[edges.bl_pred == \"ISA\"] = \"SUBCLASS_OF\""
   ]
  },
  {
   "cell_type": "code",
   "execution_count": 20,
   "metadata": {},
   "outputs": [
    {
     "name": "stderr",
     "output_type": "stream",
     "text": [
      "/usr/local/lib/python3.5/dist-packages/ipykernel/__main__.py:2: SettingWithCopyWarning: \n",
      "A value is trying to be set on a copy of a slice from a DataFrame\n",
      "\n",
      "See the caveats in the documentation: http://pandas.pydata.org/pandas-docs/stable/indexing.html#indexing-view-versus-copy\n",
      "  from ipykernel import kernelapp as app\n"
     ]
    }
   ],
   "source": [
    "# rename 'disrupts' edge to 'affects'\n",
    "edges.bl_pred[edges.bl_pred == \"DISRUPTS\"] = \"AFFECTS\""
   ]
  },
  {
   "cell_type": "code",
   "execution_count": 21,
   "metadata": {},
   "outputs": [
    {
     "name": "stderr",
     "output_type": "stream",
     "text": [
      "/usr/local/lib/python3.5/dist-packages/ipykernel/__main__.py:2: SettingWithCopyWarning: \n",
      "A value is trying to be set on a copy of a slice from a DataFrame\n",
      "\n",
      "See the caveats in the documentation: http://pandas.pydata.org/pandas-docs/stable/indexing.html#indexing-view-versus-copy\n",
      "  from ipykernel import kernelapp as app\n"
     ]
    }
   ],
   "source": [
    "# rename 'associated_with' edge to 'related_to'\n",
    "edges.bl_pred[edges.bl_pred == \"ASSOCIATED_WITH\"] = \"RELATED_TO\""
   ]
  },
  {
   "cell_type": "code",
   "execution_count": 22,
   "metadata": {},
   "outputs": [
    {
     "name": "stderr",
     "output_type": "stream",
     "text": [
      "/usr/local/lib/python3.5/dist-packages/ipykernel/__main__.py:2: SettingWithCopyWarning: \n",
      "A value is trying to be set on a copy of a slice from a DataFrame\n",
      "\n",
      "See the caveats in the documentation: http://pandas.pydata.org/pandas-docs/stable/indexing.html#indexing-view-versus-copy\n",
      "  from ipykernel import kernelapp as app\n"
     ]
    }
   ],
   "source": [
    "# rename 'STIMULATES' edge to 'positively_regulates'\n",
    "edges.bl_pred[edges.bl_pred == \"STIMULATES\"] = \"positively_regulates\".upper()"
   ]
  },
  {
   "cell_type": "code",
   "execution_count": 23,
   "metadata": {},
   "outputs": [
    {
     "name": "stderr",
     "output_type": "stream",
     "text": [
      "/usr/local/lib/python3.5/dist-packages/ipykernel/__main__.py:2: SettingWithCopyWarning: \n",
      "A value is trying to be set on a copy of a slice from a DataFrame\n",
      "\n",
      "See the caveats in the documentation: http://pandas.pydata.org/pandas-docs/stable/indexing.html#indexing-view-versus-copy\n",
      "  from ipykernel import kernelapp as app\n"
     ]
    }
   ],
   "source": [
    "# rename 'INHIBITS' edge to 'negatively_regulates'\n",
    "edges.bl_pred[edges.bl_pred == \"INHIBITS\"] = \"negatively_regulates\".upper()"
   ]
  },
  {
   "cell_type": "code",
   "execution_count": 24,
   "metadata": {},
   "outputs": [],
   "source": [
    "# associated_with/related_to edges with domain: gene, range: disease; rename to gene_associated_with_condition, \n",
    "# and leave the rest alone\n",
    "edges.loc[(edges.bl_pred == \"RELATED_TO\") & (edges.bl_domain == \"genomic_entity\") & \n",
    "      (edges.bl_range == \"disease\"), 'bl_pred'] = 'gene_associated_with_condition'.upper()"
   ]
  },
  {
   "cell_type": "raw",
   "metadata": {},
   "source": [
    "# inhibits edges with domain: chemical_substance or genomic entity, range: genomic_entity or disease ->\n",
    "# https://biolink.github.io/biolink-model/docs/negatively_regulates_entity_to_entity.html\n",
    "edges.loc[(edges.bl_pred == \"INHIBITS\") & edges.bl_domain.isin({\"genomic_entity\", \"chemical_substance\"}) & \n",
    "      edges.bl_range.isin({\"genomic_entity\", \"disease\", \"chemical_substance\"}), 'bl_pred'] = 'negatively_regulates'.upper()"
   ]
  },
  {
   "cell_type": "raw",
   "metadata": {},
   "source": [
    "# stimulates edges with domain: chemical_substance or genomic entity, range: genomic_entity or disease ->\n",
    "# https://biolink.github.io/biolink-model/docs/positively_regulates_entity_to_entity.html\n",
    "edges.loc[(edges.bl_pred == \"STIMULATES\") & edges.bl_domain.isin({\"genomic_entity\", \"chemical_substance\"}) & \n",
    "      edges.bl_range.isin({\"genomic_entity\", \"disease\", \"chemical_substance\"}), 'bl_pred'] = 'positively_regulates'.upper()"
   ]
  },
  {
   "cell_type": "raw",
   "metadata": {},
   "source": [
    "# inhibits edges with domain: chemical_substance or genomic entity, range: biological_process ->\n",
    "# https://biolink.github.io/biolink-model/docs/negatively_regulates.html\n",
    "edges.loc[(edges.bl_pred == \"INHIBITS\") & edges.bl_domain.isin({\"genomic_entity\", \"chemical_substance\"}) & \n",
    "      edges.bl_range.isin({\"biological_process\"}), 'bl_pred'] = 'negatively_regulates'.upper()"
   ]
  },
  {
   "cell_type": "raw",
   "metadata": {},
   "source": [
    "# stimulates edges with domain: chemical_substance or genomic entity, range: biological_process ->\n",
    "# https://biolink.github.io/biolink-model/docs/positively_regulates.html\n",
    "edges.loc[(edges.bl_pred == \"STIMULATES\") & edges.bl_domain.isin({\"genomic_entity\", \"chemical_substance\"}) & \n",
    "      edges.bl_range.isin({\"biological_process\"}), 'bl_pred'] = 'positively_regulates'.upper()"
   ]
  },
  {
   "cell_type": "code",
   "execution_count": 25,
   "metadata": {},
   "outputs": [
    {
     "data": {
      "text/plain": [
       "AFFECTS                           2063026\n",
       "LOCATION_OF                       1953235\n",
       "INTERACTS_WITH                    1702586\n",
       "COEXISTS_WITH                     1670436\n",
       "PART_OF                           1583418\n",
       "POSITIVELY_REGULATES              1011249\n",
       "NEGATIVELY_REGULATES               830444\n",
       "CAUSES                             744245\n",
       "TREATS                             618788\n",
       "RELATED_TO                         509114\n",
       "PRODUCES                           442266\n",
       "SUBCLASS_OF                        334374\n",
       "GENE_ASSOCIATED_WITH_CONDITION     265186\n",
       "PREDISPOSES                        230042\n",
       "PREVENTS                           120501\n",
       "DERIVES_INTO                        57223\n",
       "MANIFESTATION_OF                    38775\n",
       "PRECEDES                            26585\n",
       "Name: bl_pred, dtype: int64"
      ]
     },
     "execution_count": 25,
     "metadata": {},
     "output_type": "execute_result"
    }
   ],
   "source": [
    "edges.bl_pred.value_counts()"
   ]
  },
  {
   "cell_type": "code",
   "execution_count": 26,
   "metadata": {},
   "outputs": [
    {
     "data": {
      "text/plain": [
       "GENE_ASSOCIATED_WITH_CONDITION    265186\n",
       "AFFECTS                           100636\n",
       "TREATS                             87917\n",
       "CAUSES                             84318\n",
       "PREDISPOSES                        49480\n",
       "PREVENTS                           14385\n",
       "Name: bl_pred, dtype: int64"
      ]
     },
     "execution_count": 26,
     "metadata": {},
     "output_type": "execute_result"
    }
   ],
   "source": [
    "edges[(edges.bl_domain == \"genomic_entity\") & (edges.bl_range == \"disease\")].bl_pred.value_counts()"
   ]
  },
  {
   "cell_type": "code",
   "execution_count": 27,
   "metadata": {},
   "outputs": [
    {
     "name": "stdout",
     "output_type": "stream",
     "text": [
      "228593\n",
      "218484\n"
     ]
    }
   ],
   "source": [
    "print(len(nodes))\n",
    "nodes = nodes[nodes.ID.isin(set(list(edges['START_ID']) + list(edges['END_ID'])))]\n",
    "print(len(nodes))"
   ]
  },
  {
   "cell_type": "code",
   "execution_count": 28,
   "metadata": {},
   "outputs": [
    {
     "name": "stdout",
     "output_type": "stream",
     "text": [
      "14201493\n",
      "218484\n",
      "116\n",
      "9\n",
      "18\n"
     ]
    }
   ],
   "source": [
    "## summary\n",
    "edges['bl_type'] = edges['bl_domain'] + \".\" + edges['bl_pred'] + \".\" + edges['bl_range']\n",
    "print(len(edges))\n",
    "print(len(nodes))\n",
    "print(len(set(edges.bl_type)))\n",
    "print(len(set(nodes.bl_type)))\n",
    "print(len(set(edges.bl_pred)))"
   ]
  },
  {
   "cell_type": "code",
   "execution_count": 29,
   "metadata": {},
   "outputs": [],
   "source": [
    "del edges['bl_domain']\n",
    "del edges['bl_range']"
   ]
  },
  {
   "cell_type": "code",
   "execution_count": 30,
   "metadata": {},
   "outputs": [
    {
     "data": {
      "text/html": [
       "<div>\n",
       "<style scoped>\n",
       "    .dataframe tbody tr th:only-of-type {\n",
       "        vertical-align: middle;\n",
       "    }\n",
       "\n",
       "    .dataframe tbody tr th {\n",
       "        vertical-align: top;\n",
       "    }\n",
       "\n",
       "    .dataframe thead th {\n",
       "        text-align: right;\n",
       "    }\n",
       "</style>\n",
       "<table border=\"1\" class=\"dataframe\">\n",
       "  <thead>\n",
       "    <tr style=\"text-align: right;\">\n",
       "      <th></th>\n",
       "      <th>START_ID</th>\n",
       "      <th>END_ID</th>\n",
       "      <th>pmids</th>\n",
       "      <th>n_pmids</th>\n",
       "      <th>NEG</th>\n",
       "      <th>bl_pred</th>\n",
       "      <th>bl_type</th>\n",
       "    </tr>\n",
       "  </thead>\n",
       "  <tbody>\n",
       "    <tr>\n",
       "      <th>0</th>\n",
       "      <td>C0086931</td>\n",
       "      <td>C0037369</td>\n",
       "      <td>26656404;8816000;19745413;17710714;21412223;19...</td>\n",
       "      <td>6</td>\n",
       "      <td>False</td>\n",
       "      <td>AFFECTS</td>\n",
       "      <td>activity_and_behavior.AFFECTS.activity_and_beh...</td>\n",
       "    </tr>\n",
       "    <tr>\n",
       "      <th>1</th>\n",
       "      <td>C0950156</td>\n",
       "      <td>C0009671</td>\n",
       "      <td>12584106</td>\n",
       "      <td>1</td>\n",
       "      <td>False</td>\n",
       "      <td>AFFECTS</td>\n",
       "      <td>activity_and_behavior.AFFECTS.activity_and_beh...</td>\n",
       "    </tr>\n",
       "    <tr>\n",
       "      <th>2</th>\n",
       "      <td>C0024810</td>\n",
       "      <td>C0035651</td>\n",
       "      <td>15775958;11173168</td>\n",
       "      <td>2</td>\n",
       "      <td>False</td>\n",
       "      <td>AFFECTS</td>\n",
       "      <td>activity_and_behavior.AFFECTS.activity_and_beh...</td>\n",
       "    </tr>\n",
       "    <tr>\n",
       "      <th>3</th>\n",
       "      <td>C0556297</td>\n",
       "      <td>C0037369</td>\n",
       "      <td>12164677;9373700</td>\n",
       "      <td>2</td>\n",
       "      <td>False</td>\n",
       "      <td>AFFECTS</td>\n",
       "      <td>activity_and_behavior.AFFECTS.activity_and_beh...</td>\n",
       "    </tr>\n",
       "    <tr>\n",
       "      <th>4</th>\n",
       "      <td>C1154333</td>\n",
       "      <td>C0015745</td>\n",
       "      <td>23872405</td>\n",
       "      <td>1</td>\n",
       "      <td>False</td>\n",
       "      <td>AFFECTS</td>\n",
       "      <td>activity_and_behavior.AFFECTS.activity_and_beh...</td>\n",
       "    </tr>\n",
       "  </tbody>\n",
       "</table>\n",
       "</div>"
      ],
      "text/plain": [
       "   START_ID    END_ID                                              pmids  \\\n",
       "0  C0086931  C0037369  26656404;8816000;19745413;17710714;21412223;19...   \n",
       "1  C0950156  C0009671                                           12584106   \n",
       "2  C0024810  C0035651                                  15775958;11173168   \n",
       "3  C0556297  C0037369                                   12164677;9373700   \n",
       "4  C1154333  C0015745                                           23872405   \n",
       "\n",
       "   n_pmids    NEG  bl_pred                                            bl_type  \n",
       "0        6  False  AFFECTS  activity_and_behavior.AFFECTS.activity_and_beh...  \n",
       "1        1  False  AFFECTS  activity_and_behavior.AFFECTS.activity_and_beh...  \n",
       "2        2  False  AFFECTS  activity_and_behavior.AFFECTS.activity_and_beh...  \n",
       "3        2  False  AFFECTS  activity_and_behavior.AFFECTS.activity_and_beh...  \n",
       "4        1  False  AFFECTS  activity_and_behavior.AFFECTS.activity_and_beh...  "
      ]
     },
     "execution_count": 30,
     "metadata": {},
     "output_type": "execute_result"
    }
   ],
   "source": [
    "edges.head()"
   ]
  },
  {
   "cell_type": "code",
   "execution_count": 31,
   "metadata": {},
   "outputs": [],
   "source": [
    "edges.to_csv(\"edges_biolink.csv\", index=None)\n",
    "nodes.to_csv(\"nodes_biolink.csv\", index=None)"
   ]
  }
 ],
 "metadata": {
  "kernelspec": {
   "display_name": "Python 3",
   "language": "python",
   "name": "python3"
  },
  "language_info": {
   "codemirror_mode": {
    "name": "ipython",
    "version": 3
   },
   "file_extension": ".py",
   "mimetype": "text/x-python",
   "name": "python",
   "nbconvert_exporter": "python",
   "pygments_lexer": "ipython3",
   "version": "3.5.2"
  }
 },
 "nbformat": 4,
 "nbformat_minor": 2
}
