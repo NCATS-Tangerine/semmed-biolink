{
 "cells": [
  {
   "cell_type": "code",
   "execution_count": 1,
   "metadata": {},
   "outputs": [],
   "source": [
    "import os\n",
    "import pickle\n",
    "%matplotlib inline\n",
    "import pandas as pd\n",
    "import seaborn as sns\n",
    "import re\n",
    "from collections import defaultdict, Counter\n",
    "from tqdm import tqdm"
   ]
  },
  {
   "cell_type": "code",
   "execution_count": 2,
   "metadata": {},
   "outputs": [],
   "source": [
    "edges = pd.read_csv('edges_filtered.csv')\n",
    "nodes = pd.read_csv(\"nodes_filtered.csv\")\n",
    "abv = pd.read_csv(\"abv.csv\")\n",
    "name_abv = dict(zip(abv.full_name, abv.abv))\n",
    "abv_name = dict(zip(abv.abv, abv.full_name))\n",
    "node_type = dict(zip(nodes.ID, nodes.blm_type))"
   ]
  },
  {
   "cell_type": "code",
   "execution_count": 3,
   "metadata": {},
   "outputs": [],
   "source": [
    "#nodes\n",
    "# {name_abv.get(x):x for x in set(nodes.TYPE)}"
   ]
  },
  {
   "cell_type": "code",
   "execution_count": 4,
   "metadata": {},
   "outputs": [],
   "source": [
    "#edges\n",
    "# {abv_name.get(x):x for x in set(edges.PRED)}"
   ]
  },
  {
   "cell_type": "code",
   "execution_count": 5,
   "metadata": {},
   "outputs": [
    {
     "data": {
      "text/plain": [
       "chemical_substance                59088\n",
       "disease_or_phenotypic_feature     36967\n",
       "gene                              18548\n",
       "biological_entity                 15105\n",
       "protein                           12883\n",
       "gross_anatomical_structure         8948\n",
       "biological_process_or_activity     6887\n",
       "anatomical_entity                  2831\n",
       "cell_component                     1636\n",
       "cell                               1173\n",
       "activity_and_behavior               916\n",
       "phenotypic_feature                  416\n",
       "genomic_entity                      179\n",
       "Name: blm_type, dtype: int64"
      ]
     },
     "execution_count": 5,
     "metadata": {},
     "output_type": "execute_result"
    }
   ],
   "source": [
    "nodes.blm_type.value_counts()"
   ]
  },
  {
   "cell_type": "code",
   "execution_count": 6,
   "metadata": {},
   "outputs": [
    {
     "data": {
      "text/html": [
       "<div>\n",
       "<style scoped>\n",
       "    .dataframe tbody tr th:only-of-type {\n",
       "        vertical-align: middle;\n",
       "    }\n",
       "\n",
       "    .dataframe tbody tr th {\n",
       "        vertical-align: top;\n",
       "    }\n",
       "\n",
       "    .dataframe thead th {\n",
       "        text-align: right;\n",
       "    }\n",
       "</style>\n",
       "<table border=\"1\" class=\"dataframe\">\n",
       "  <thead>\n",
       "    <tr style=\"text-align: right;\">\n",
       "      <th></th>\n",
       "      <th>START_ID</th>\n",
       "      <th>END_ID</th>\n",
       "      <th>TYPE</th>\n",
       "      <th>pmids</th>\n",
       "      <th>n_pmids</th>\n",
       "      <th>NEG</th>\n",
       "      <th>DOMAIN</th>\n",
       "      <th>PRED</th>\n",
       "      <th>RANGE</th>\n",
       "    </tr>\n",
       "  </thead>\n",
       "  <tbody>\n",
       "    <tr>\n",
       "      <th>0</th>\n",
       "      <td>C0086931</td>\n",
       "      <td>C0037369</td>\n",
       "      <td>ABafAB</td>\n",
       "      <td>26656404;8816000;19745413;17710714;21412223;19...</td>\n",
       "      <td>6</td>\n",
       "      <td>False</td>\n",
       "      <td>AB</td>\n",
       "      <td>af</td>\n",
       "      <td>AB</td>\n",
       "    </tr>\n",
       "    <tr>\n",
       "      <th>1</th>\n",
       "      <td>C0950156</td>\n",
       "      <td>C0009671</td>\n",
       "      <td>ABafAB</td>\n",
       "      <td>12584106</td>\n",
       "      <td>1</td>\n",
       "      <td>False</td>\n",
       "      <td>AB</td>\n",
       "      <td>af</td>\n",
       "      <td>AB</td>\n",
       "    </tr>\n",
       "    <tr>\n",
       "      <th>2</th>\n",
       "      <td>C0024810</td>\n",
       "      <td>C0035651</td>\n",
       "      <td>ABafAB</td>\n",
       "      <td>15775958;11173168</td>\n",
       "      <td>2</td>\n",
       "      <td>False</td>\n",
       "      <td>AB</td>\n",
       "      <td>af</td>\n",
       "      <td>AB</td>\n",
       "    </tr>\n",
       "    <tr>\n",
       "      <th>3</th>\n",
       "      <td>C0556297</td>\n",
       "      <td>C0037369</td>\n",
       "      <td>ABafAB</td>\n",
       "      <td>12164677;9373700</td>\n",
       "      <td>2</td>\n",
       "      <td>False</td>\n",
       "      <td>AB</td>\n",
       "      <td>af</td>\n",
       "      <td>AB</td>\n",
       "    </tr>\n",
       "    <tr>\n",
       "      <th>4</th>\n",
       "      <td>C1154333</td>\n",
       "      <td>C0015745</td>\n",
       "      <td>ABafAB</td>\n",
       "      <td>23872405</td>\n",
       "      <td>1</td>\n",
       "      <td>False</td>\n",
       "      <td>AB</td>\n",
       "      <td>af</td>\n",
       "      <td>AB</td>\n",
       "    </tr>\n",
       "  </tbody>\n",
       "</table>\n",
       "</div>"
      ],
      "text/plain": [
       "   START_ID    END_ID    TYPE  \\\n",
       "0  C0086931  C0037369  ABafAB   \n",
       "1  C0950156  C0009671  ABafAB   \n",
       "2  C0024810  C0035651  ABafAB   \n",
       "3  C0556297  C0037369  ABafAB   \n",
       "4  C1154333  C0015745  ABafAB   \n",
       "\n",
       "                                               pmids  n_pmids    NEG DOMAIN  \\\n",
       "0  26656404;8816000;19745413;17710714;21412223;19...        6  False     AB   \n",
       "1                                           12584106        1  False     AB   \n",
       "2                                  15775958;11173168        2  False     AB   \n",
       "3                                   12164677;9373700        2  False     AB   \n",
       "4                                           23872405        1  False     AB   \n",
       "\n",
       "  PRED RANGE  \n",
       "0   af    AB  \n",
       "1   af    AB  \n",
       "2   af    AB  \n",
       "3   af    AB  \n",
       "4   af    AB  "
      ]
     },
     "execution_count": 6,
     "metadata": {},
     "output_type": "execute_result"
    }
   ],
   "source": [
    "edges.head()"
   ]
  },
  {
   "cell_type": "code",
   "execution_count": 7,
   "metadata": {},
   "outputs": [
    {
     "data": {
      "text/html": [
       "<div>\n",
       "<style scoped>\n",
       "    .dataframe tbody tr th:only-of-type {\n",
       "        vertical-align: middle;\n",
       "    }\n",
       "\n",
       "    .dataframe tbody tr th {\n",
       "        vertical-align: top;\n",
       "    }\n",
       "\n",
       "    .dataframe thead th {\n",
       "        text-align: right;\n",
       "    }\n",
       "</style>\n",
       "<table border=\"1\" class=\"dataframe\">\n",
       "  <thead>\n",
       "    <tr style=\"text-align: right;\">\n",
       "      <th></th>\n",
       "      <th>START_ID</th>\n",
       "      <th>END_ID</th>\n",
       "      <th>TYPE</th>\n",
       "      <th>pmids</th>\n",
       "      <th>n_pmids</th>\n",
       "      <th>NEG</th>\n",
       "      <th>DOMAIN</th>\n",
       "      <th>PRED</th>\n",
       "      <th>RANGE</th>\n",
       "      <th>bl_domain</th>\n",
       "      <th>bl_pred</th>\n",
       "      <th>bl_range</th>\n",
       "      <th>bl_type</th>\n",
       "    </tr>\n",
       "  </thead>\n",
       "  <tbody>\n",
       "    <tr>\n",
       "      <th>0</th>\n",
       "      <td>C0086931</td>\n",
       "      <td>C0037369</td>\n",
       "      <td>ABafAB</td>\n",
       "      <td>26656404;8816000;19745413;17710714;21412223;19...</td>\n",
       "      <td>6</td>\n",
       "      <td>False</td>\n",
       "      <td>AB</td>\n",
       "      <td>af</td>\n",
       "      <td>AB</td>\n",
       "      <td>activity_and_behavior</td>\n",
       "      <td>AFFECTS</td>\n",
       "      <td>activity_and_behavior</td>\n",
       "      <td>activity_and_behavior.AFFECTS.activity_and_beh...</td>\n",
       "    </tr>\n",
       "    <tr>\n",
       "      <th>1</th>\n",
       "      <td>C0950156</td>\n",
       "      <td>C0009671</td>\n",
       "      <td>ABafAB</td>\n",
       "      <td>12584106</td>\n",
       "      <td>1</td>\n",
       "      <td>False</td>\n",
       "      <td>AB</td>\n",
       "      <td>af</td>\n",
       "      <td>AB</td>\n",
       "      <td>activity_and_behavior</td>\n",
       "      <td>AFFECTS</td>\n",
       "      <td>activity_and_behavior</td>\n",
       "      <td>activity_and_behavior.AFFECTS.activity_and_beh...</td>\n",
       "    </tr>\n",
       "    <tr>\n",
       "      <th>2</th>\n",
       "      <td>C0024810</td>\n",
       "      <td>C0035651</td>\n",
       "      <td>ABafAB</td>\n",
       "      <td>15775958;11173168</td>\n",
       "      <td>2</td>\n",
       "      <td>False</td>\n",
       "      <td>AB</td>\n",
       "      <td>af</td>\n",
       "      <td>AB</td>\n",
       "      <td>activity_and_behavior</td>\n",
       "      <td>AFFECTS</td>\n",
       "      <td>activity_and_behavior</td>\n",
       "      <td>activity_and_behavior.AFFECTS.activity_and_beh...</td>\n",
       "    </tr>\n",
       "    <tr>\n",
       "      <th>3</th>\n",
       "      <td>C0556297</td>\n",
       "      <td>C0037369</td>\n",
       "      <td>ABafAB</td>\n",
       "      <td>12164677;9373700</td>\n",
       "      <td>2</td>\n",
       "      <td>False</td>\n",
       "      <td>AB</td>\n",
       "      <td>af</td>\n",
       "      <td>AB</td>\n",
       "      <td>activity_and_behavior</td>\n",
       "      <td>AFFECTS</td>\n",
       "      <td>activity_and_behavior</td>\n",
       "      <td>activity_and_behavior.AFFECTS.activity_and_beh...</td>\n",
       "    </tr>\n",
       "    <tr>\n",
       "      <th>4</th>\n",
       "      <td>C1154333</td>\n",
       "      <td>C0015745</td>\n",
       "      <td>ABafAB</td>\n",
       "      <td>23872405</td>\n",
       "      <td>1</td>\n",
       "      <td>False</td>\n",
       "      <td>AB</td>\n",
       "      <td>af</td>\n",
       "      <td>AB</td>\n",
       "      <td>activity_and_behavior</td>\n",
       "      <td>AFFECTS</td>\n",
       "      <td>activity_and_behavior</td>\n",
       "      <td>activity_and_behavior.AFFECTS.activity_and_beh...</td>\n",
       "    </tr>\n",
       "  </tbody>\n",
       "</table>\n",
       "</div>"
      ],
      "text/plain": [
       "   START_ID    END_ID    TYPE  \\\n",
       "0  C0086931  C0037369  ABafAB   \n",
       "1  C0950156  C0009671  ABafAB   \n",
       "2  C0024810  C0035651  ABafAB   \n",
       "3  C0556297  C0037369  ABafAB   \n",
       "4  C1154333  C0015745  ABafAB   \n",
       "\n",
       "                                               pmids  n_pmids    NEG DOMAIN  \\\n",
       "0  26656404;8816000;19745413;17710714;21412223;19...        6  False     AB   \n",
       "1                                           12584106        1  False     AB   \n",
       "2                                  15775958;11173168        2  False     AB   \n",
       "3                                   12164677;9373700        2  False     AB   \n",
       "4                                           23872405        1  False     AB   \n",
       "\n",
       "  PRED RANGE              bl_domain  bl_pred               bl_range  \\\n",
       "0   af    AB  activity_and_behavior  AFFECTS  activity_and_behavior   \n",
       "1   af    AB  activity_and_behavior  AFFECTS  activity_and_behavior   \n",
       "2   af    AB  activity_and_behavior  AFFECTS  activity_and_behavior   \n",
       "3   af    AB  activity_and_behavior  AFFECTS  activity_and_behavior   \n",
       "4   af    AB  activity_and_behavior  AFFECTS  activity_and_behavior   \n",
       "\n",
       "                                             bl_type  \n",
       "0  activity_and_behavior.AFFECTS.activity_and_beh...  \n",
       "1  activity_and_behavior.AFFECTS.activity_and_beh...  \n",
       "2  activity_and_behavior.AFFECTS.activity_and_beh...  \n",
       "3  activity_and_behavior.AFFECTS.activity_and_beh...  \n",
       "4  activity_and_behavior.AFFECTS.activity_and_beh...  "
      ]
     },
     "execution_count": 7,
     "metadata": {},
     "output_type": "execute_result"
    }
   ],
   "source": [
    "# regenerate domain and range from the new node types\n",
    "edges['bl_domain'] = edges.START_ID.apply(node_type.get)\n",
    "edges['bl_pred'] = edges.PRED.apply(abv_name.get)\n",
    "edges['bl_range'] = edges.END_ID.apply(node_type.get)\n",
    "edges['bl_type'] = edges['bl_domain'] + \".\" + edges['bl_pred'] + \".\" + edges['bl_range']\n",
    "edges.head()"
   ]
  },
  {
   "cell_type": "code",
   "execution_count": 8,
   "metadata": {},
   "outputs": [],
   "source": [
    "del edges['DOMAIN']\n",
    "del edges['PRED']\n",
    "del edges['RANGE']\n",
    "del edges['TYPE']"
   ]
  },
  {
   "cell_type": "code",
   "execution_count": 9,
   "metadata": {},
   "outputs": [],
   "source": [
    "# get the most common domain and ranges for each pred\n",
    "pred_type_count = edges.groupby(\"bl_pred\").bl_type.value_counts()"
   ]
  },
  {
   "cell_type": "code",
   "execution_count": 10,
   "metadata": {},
   "outputs": [
    {
     "data": {
      "text/plain": [
       "bl_type\n",
       "chemical_substance.INHIBITS.chemical_substance                134550\n",
       "chemical_substance.INHIBITS.gene                              114917\n",
       "chemical_substance.INHIBITS.biological_entity                  89829\n",
       "biological_entity.INHIBITS.gene                                83472\n",
       "gene.INHIBITS.gene                                             76298\n",
       "chemical_substance.INHIBITS.protein                            76266\n",
       "biological_entity.INHIBITS.biological_entity                   49191\n",
       "protein.INHIBITS.gene                                          38363\n",
       "biological_entity.INHIBITS.chemical_substance                  33755\n",
       "biological_entity.INHIBITS.protein                             23778\n",
       "protein.INHIBITS.chemical_substance                            16009\n",
       "chemical_substance.INHIBITS.disease_or_phenotypic_feature      15297\n",
       "protein.INHIBITS.biological_entity                             14677\n",
       "chemical_substance.INHIBITS.biological_process_or_activity     14111\n",
       "protein.INHIBITS.protein                                       13375\n",
       "Name: bl_type, dtype: int64"
      ]
     },
     "execution_count": 10,
     "metadata": {},
     "output_type": "execute_result"
    }
   ],
   "source": [
    "pred_type_count['INHIBITS'][:15]"
   ]
  },
  {
   "cell_type": "code",
   "execution_count": 11,
   "metadata": {},
   "outputs": [],
   "source": [
    "# working off https://docs.google.com/spreadsheets/d/1zXitcR1QjHyh6WocukgshSR7IoAVg7MJQG-HNh96Jec/edit#gid=579577728\n",
    "allowed_domain_range = {\n",
    "    \"ADMINISTERED_TO\": ({'chemical_substance', 'procedure', 'genomic_entity', 'protein'}, \n",
    "                        {'individual_organism', 'anatomical_entity'}),\n",
    "    \"AFFECTS\": (None, None), # this means anything,\n",
    "    \"ASSOCIATED_WITH\": ({'chemical_substance', 'disease', 'genomic_entity', 'biological_process', 'protein'}, \n",
    "                         {'disease'}),\n",
    "    'AUGMENTS': ({'chemical_substance', 'genomic_entity', 'disease', 'protein'}, \n",
    "                         {'biological_process', 'disease', 'activity_and_behavior'}),\n",
    "    'CAUSES': ({'chemical_substance', 'genomic_entity', 'disease', 'biological_process', 'activity_and_behavior'}, \n",
    "                         {'biological_process', 'disease'}),\n",
    "    'COEXISTS_WITH': (None, None) ,\n",
    "    'COMPLICATES': ({'disease'}, \n",
    "                    {'disease'}),\n",
    "    'CONVERTS_TO': ({'chemical_substance', 'genomic_entity', 'protein'}, \n",
    "                    {'chemical_substance', 'genomic_entity', 'protein'}),\n",
    "    'DISRUPTS': ({'chemical_substance', 'genomic_entity', 'biological_process', 'protein'}, \n",
    "                 {'biological_process', 'disease'}),\n",
    "    'INHIBITS': ({'chemical_substance', 'genomic_entity', 'protein'}, \n",
    "                 {'chemical_substance', 'genomic_entity', 'biological_process', 'disease', 'protein'}),\n",
    "    'INTERACTS_WITH': ({'chemical_substance', 'genomic_entity', 'protein'}, \n",
    "                       {'chemical_substance', 'genomic_entity', 'protein'}),\n",
    "    'ISA': (None, None),\n",
    "    'LOCATION_OF': ({'anatomical_entity'}, \n",
    "                    None),\n",
    "    'MANIFESTATION_OF': ({'disease'}, \n",
    "                         {'disease', 'biological_process'}),\n",
    "    'OCCURS_IN': ({'disease'}, {'individual_organism'}),\n",
    "    'PART_OF': ({'chemical_substance', 'genomic_entity', 'anatomical_entity'}, \n",
    "                {'anatomical_entity', 'individual_organism', 'chemical_substance', 'genomic_entity'}),\n",
    "    'PRECEDES': ({'disease', 'biological_process'}, \n",
    "                 {'disease', 'biological_process'}),\n",
    "    'PREDISPOSES': (None, \n",
    "                    {'disease'}),\n",
    "    'PREVENTS': ({'chemical_substance', 'genomic_entity', 'activity_and_behavior', 'protein'}, \n",
    "                 {'disease'}),\n",
    "    'PROCESS_OF': ({'disease', 'biological_process', 'activity_and_behavior'}, \n",
    "                   {'individual_organism', 'anatomical_entity', 'disease'}),\n",
    "    'PRODUCES': ({'chemical_substance', 'anatomical_entity', 'genomic_entity', 'biological_process', 'protein'}, \n",
    "                 {'chemical_substance', 'genomic_entity', 'protein'}),\n",
    "    'STIMULATES': ({'chemical_substance', 'genomic_entity', 'protein'},\n",
    "                  {'chemical_substance', 'genomic_entity', 'biological_process', 'disease', 'protein'}),\n",
    "    'TREATS': ({'chemical_substance', 'genomic_entity', 'activity_and_behavior', 'protein'}, \n",
    "               {'disease'}),\n",
    "}"
   ]
  },
  {
   "cell_type": "code",
   "execution_count": 12,
   "metadata": {},
   "outputs": [],
   "source": [
    "def is_allowed_edge(domain, pred, rnge):\n",
    "    allowed_domain, allowed_range = allowed_domain_range[pred]\n",
    "    return ((domain in allowed_domain if allowed_domain else True) and \n",
    "              (rnge in allowed_range if allowed_range else True))"
   ]
  },
  {
   "cell_type": "code",
   "execution_count": 13,
   "metadata": {},
   "outputs": [],
   "source": [
    "d = {x: is_allowed_edge(*x.split(\".\")) for x in set(edges.bl_type)}\n",
    "allowed_edges = {k for k,v in d.items() if v}"
   ]
  },
  {
   "cell_type": "markdown",
   "metadata": {},
   "source": [
    "### note NOT applying the domain and range restrictions!!"
   ]
  },
  {
   "cell_type": "raw",
   "metadata": {},
   "source": [
    "idx = edges.bl_type.isin(allowed_edges)\n",
    "print(idx.value_counts())\n",
    "edges = edges[idx]"
   ]
  },
  {
   "cell_type": "code",
   "execution_count": 14,
   "metadata": {},
   "outputs": [
    {
     "name": "stdout",
     "output_type": "stream",
     "text": [
      "12880620\n"
     ]
    }
   ],
   "source": [
    "print(len(edges))"
   ]
  },
  {
   "cell_type": "code",
   "execution_count": 15,
   "metadata": {},
   "outputs": [
    {
     "data": {
      "text/html": [
       "<div>\n",
       "<style scoped>\n",
       "    .dataframe tbody tr th:only-of-type {\n",
       "        vertical-align: middle;\n",
       "    }\n",
       "\n",
       "    .dataframe tbody tr th {\n",
       "        vertical-align: top;\n",
       "    }\n",
       "\n",
       "    .dataframe thead th {\n",
       "        text-align: right;\n",
       "    }\n",
       "</style>\n",
       "<table border=\"1\" class=\"dataframe\">\n",
       "  <thead>\n",
       "    <tr style=\"text-align: right;\">\n",
       "      <th></th>\n",
       "      <th>START_ID</th>\n",
       "      <th>END_ID</th>\n",
       "      <th>pmids</th>\n",
       "      <th>n_pmids</th>\n",
       "      <th>NEG</th>\n",
       "      <th>bl_domain</th>\n",
       "      <th>bl_pred</th>\n",
       "      <th>bl_range</th>\n",
       "      <th>bl_type</th>\n",
       "    </tr>\n",
       "  </thead>\n",
       "  <tbody>\n",
       "    <tr>\n",
       "      <th>0</th>\n",
       "      <td>C0086931</td>\n",
       "      <td>C0037369</td>\n",
       "      <td>26656404;8816000;19745413;17710714;21412223;19...</td>\n",
       "      <td>6</td>\n",
       "      <td>False</td>\n",
       "      <td>activity_and_behavior</td>\n",
       "      <td>AFFECTS</td>\n",
       "      <td>activity_and_behavior</td>\n",
       "      <td>activity_and_behavior.AFFECTS.activity_and_beh...</td>\n",
       "    </tr>\n",
       "    <tr>\n",
       "      <th>1</th>\n",
       "      <td>C0950156</td>\n",
       "      <td>C0009671</td>\n",
       "      <td>12584106</td>\n",
       "      <td>1</td>\n",
       "      <td>False</td>\n",
       "      <td>activity_and_behavior</td>\n",
       "      <td>AFFECTS</td>\n",
       "      <td>activity_and_behavior</td>\n",
       "      <td>activity_and_behavior.AFFECTS.activity_and_beh...</td>\n",
       "    </tr>\n",
       "    <tr>\n",
       "      <th>2</th>\n",
       "      <td>C0024810</td>\n",
       "      <td>C0035651</td>\n",
       "      <td>15775958;11173168</td>\n",
       "      <td>2</td>\n",
       "      <td>False</td>\n",
       "      <td>activity_and_behavior</td>\n",
       "      <td>AFFECTS</td>\n",
       "      <td>activity_and_behavior</td>\n",
       "      <td>activity_and_behavior.AFFECTS.activity_and_beh...</td>\n",
       "    </tr>\n",
       "    <tr>\n",
       "      <th>3</th>\n",
       "      <td>C0556297</td>\n",
       "      <td>C0037369</td>\n",
       "      <td>12164677;9373700</td>\n",
       "      <td>2</td>\n",
       "      <td>False</td>\n",
       "      <td>activity_and_behavior</td>\n",
       "      <td>AFFECTS</td>\n",
       "      <td>activity_and_behavior</td>\n",
       "      <td>activity_and_behavior.AFFECTS.activity_and_beh...</td>\n",
       "    </tr>\n",
       "    <tr>\n",
       "      <th>4</th>\n",
       "      <td>C1154333</td>\n",
       "      <td>C0015745</td>\n",
       "      <td>23872405</td>\n",
       "      <td>1</td>\n",
       "      <td>False</td>\n",
       "      <td>activity_and_behavior</td>\n",
       "      <td>AFFECTS</td>\n",
       "      <td>activity_and_behavior</td>\n",
       "      <td>activity_and_behavior.AFFECTS.activity_and_beh...</td>\n",
       "    </tr>\n",
       "  </tbody>\n",
       "</table>\n",
       "</div>"
      ],
      "text/plain": [
       "   START_ID    END_ID                                              pmids  \\\n",
       "0  C0086931  C0037369  26656404;8816000;19745413;17710714;21412223;19...   \n",
       "1  C0950156  C0009671                                           12584106   \n",
       "2  C0024810  C0035651                                  15775958;11173168   \n",
       "3  C0556297  C0037369                                   12164677;9373700   \n",
       "4  C1154333  C0015745                                           23872405   \n",
       "\n",
       "   n_pmids    NEG              bl_domain  bl_pred               bl_range  \\\n",
       "0        6  False  activity_and_behavior  AFFECTS  activity_and_behavior   \n",
       "1        1  False  activity_and_behavior  AFFECTS  activity_and_behavior   \n",
       "2        2  False  activity_and_behavior  AFFECTS  activity_and_behavior   \n",
       "3        2  False  activity_and_behavior  AFFECTS  activity_and_behavior   \n",
       "4        1  False  activity_and_behavior  AFFECTS  activity_and_behavior   \n",
       "\n",
       "                                             bl_type  \n",
       "0  activity_and_behavior.AFFECTS.activity_and_beh...  \n",
       "1  activity_and_behavior.AFFECTS.activity_and_beh...  \n",
       "2  activity_and_behavior.AFFECTS.activity_and_beh...  \n",
       "3  activity_and_behavior.AFFECTS.activity_and_beh...  \n",
       "4  activity_and_behavior.AFFECTS.activity_and_beh...  "
      ]
     },
     "execution_count": 15,
     "metadata": {},
     "output_type": "execute_result"
    }
   ],
   "source": [
    "edges.head()"
   ]
  },
  {
   "cell_type": "code",
   "execution_count": 16,
   "metadata": {},
   "outputs": [],
   "source": [
    "# rename 'converts_to' edge to 'derives_into'\n",
    "edges.loc[edges.bl_pred == \"CONVERTS_TO\", \"bl_pred\"] = \"DERIVES_INTO\""
   ]
  },
  {
   "cell_type": "code",
   "execution_count": 17,
   "metadata": {},
   "outputs": [],
   "source": [
    "# rename 'isa' edge to 'subclass of'\n",
    "edges.loc[edges.bl_pred == \"ISA\", \"bl_pred\"] = \"SUBCLASS_OF\""
   ]
  },
  {
   "cell_type": "code",
   "execution_count": 18,
   "metadata": {},
   "outputs": [],
   "source": [
    "# rename 'disrupts' edge to 'affects'\n",
    "edges.loc[edges.bl_pred == \"DISRUPTS\", \"bl_pred\"] = \"AFFECTS\""
   ]
  },
  {
   "cell_type": "code",
   "execution_count": 19,
   "metadata": {},
   "outputs": [],
   "source": [
    "# rename 'associated_with' edge to 'related_to'\n",
    "edges.loc[edges.bl_pred == \"ASSOCIATED_WITH\", \"bl_pred\"] = \"RELATED_TO\""
   ]
  },
  {
   "cell_type": "code",
   "execution_count": 20,
   "metadata": {},
   "outputs": [],
   "source": [
    "# rename 'STIMULATES' edge to 'positively_regulates'\n",
    "edges.loc[edges.bl_pred == \"STIMULATES\", \"bl_pred\"] = \"positively_regulates\".upper()"
   ]
  },
  {
   "cell_type": "code",
   "execution_count": 21,
   "metadata": {},
   "outputs": [],
   "source": [
    "# rename 'INHIBITS' edge to 'negatively_regulates'\n",
    "edges.loc[edges.bl_pred == \"INHIBITS\", \"bl_pred\"] = \"negatively_regulates\".upper()"
   ]
  },
  {
   "cell_type": "code",
   "execution_count": 22,
   "metadata": {},
   "outputs": [],
   "source": [
    "# associated_with/related_to edges with domain: gene, range: disease; rename to gene_associated_with_condition, \n",
    "# and leave the rest alone\n",
    "edges.loc[(edges.bl_pred == \"RELATED_TO\") & (edges.bl_domain == \"gene\") & \n",
    "      (edges.bl_range == \"disease_or_phenotypic_feature\"), 'bl_pred'] = 'gene_associated_with_condition'.upper()"
   ]
  },
  {
   "cell_type": "code",
   "execution_count": 23,
   "metadata": {},
   "outputs": [
    {
     "data": {
      "text/plain": [
       "LOCATION_OF                       1828906\n",
       "AFFECTS                           1772826\n",
       "INTERACTS_WITH                    1610497\n",
       "COEXISTS_WITH                     1560224\n",
       "PART_OF                           1168114\n",
       "POSITIVELY_REGULATES               975601\n",
       "NEGATIVELY_REGULATES               800502\n",
       "CAUSES                             689445\n",
       "TREATS                             591775\n",
       "PRODUCES                           491415\n",
       "RELATED_TO                         479758\n",
       "SUBCLASS_OF                        239894\n",
       "GENE_ASSOCIATED_WITH_CONDITION     239328\n",
       "PREDISPOSES                        206403\n",
       "PREVENTS                           112275\n",
       "DERIVES_INTO                        55158\n",
       "MANIFESTATION_OF                    35088\n",
       "PRECEDES                            23411\n",
       "Name: bl_pred, dtype: int64"
      ]
     },
     "execution_count": 23,
     "metadata": {},
     "output_type": "execute_result"
    }
   ],
   "source": [
    "edges.bl_pred.value_counts()"
   ]
  },
  {
   "cell_type": "code",
   "execution_count": 25,
   "metadata": {},
   "outputs": [
    {
     "data": {
      "text/plain": [
       "GENE_ASSOCIATED_WITH_CONDITION    239328\n",
       "AFFECTS                            91155\n",
       "TREATS                             80697\n",
       "CAUSES                             77058\n",
       "PREDISPOSES                        44171\n",
       "PART_OF                            41268\n",
       "PREVENTS                           12656\n",
       "LOCATION_OF                         1219\n",
       "Name: bl_pred, dtype: int64"
      ]
     },
     "execution_count": 25,
     "metadata": {},
     "output_type": "execute_result"
    }
   ],
   "source": [
    "edges[(edges.bl_domain == \"gene\") & (edges.bl_range == \"disease_or_phenotypic_feature\")].bl_pred.value_counts()"
   ]
  },
  {
   "cell_type": "code",
   "execution_count": 26,
   "metadata": {},
   "outputs": [
    {
     "name": "stdout",
     "output_type": "stream",
     "text": [
      "165577\n",
      "165577\n"
     ]
    }
   ],
   "source": [
    "print(len(nodes))\n",
    "nodes = nodes[nodes.ID.isin(set(list(edges['START_ID']) + list(edges['END_ID'])))]\n",
    "print(len(nodes))"
   ]
  },
  {
   "cell_type": "code",
   "execution_count": 31,
   "metadata": {},
   "outputs": [
    {
     "ename": "KeyError",
     "evalue": "'bl_domain'",
     "output_type": "error",
     "traceback": [
      "\u001b[0;31m---------------------------------------------------------------------------\u001b[0m",
      "\u001b[0;31mKeyError\u001b[0m                                  Traceback (most recent call last)",
      "\u001b[0;32m/usr/local/lib/python3.5/dist-packages/pandas/core/indexes/base.py\u001b[0m in \u001b[0;36mget_loc\u001b[0;34m(self, key, method, tolerance)\u001b[0m\n\u001b[1;32m   2524\u001b[0m             \u001b[0;32mtry\u001b[0m\u001b[0;34m:\u001b[0m\u001b[0;34m\u001b[0m\u001b[0m\n\u001b[0;32m-> 2525\u001b[0;31m                 \u001b[0;32mreturn\u001b[0m \u001b[0mself\u001b[0m\u001b[0;34m.\u001b[0m\u001b[0m_engine\u001b[0m\u001b[0;34m.\u001b[0m\u001b[0mget_loc\u001b[0m\u001b[0;34m(\u001b[0m\u001b[0mkey\u001b[0m\u001b[0;34m)\u001b[0m\u001b[0;34m\u001b[0m\u001b[0m\n\u001b[0m\u001b[1;32m   2526\u001b[0m             \u001b[0;32mexcept\u001b[0m \u001b[0mKeyError\u001b[0m\u001b[0;34m:\u001b[0m\u001b[0;34m\u001b[0m\u001b[0m\n",
      "\u001b[0;32mpandas/_libs/index.pyx\u001b[0m in \u001b[0;36mpandas._libs.index.IndexEngine.get_loc\u001b[0;34m()\u001b[0m\n",
      "\u001b[0;32mpandas/_libs/index.pyx\u001b[0m in \u001b[0;36mpandas._libs.index.IndexEngine.get_loc\u001b[0;34m()\u001b[0m\n",
      "\u001b[0;32mpandas/_libs/hashtable_class_helper.pxi\u001b[0m in \u001b[0;36mpandas._libs.hashtable.PyObjectHashTable.get_item\u001b[0;34m()\u001b[0m\n",
      "\u001b[0;32mpandas/_libs/hashtable_class_helper.pxi\u001b[0m in \u001b[0;36mpandas._libs.hashtable.PyObjectHashTable.get_item\u001b[0;34m()\u001b[0m\n",
      "\u001b[0;31mKeyError\u001b[0m: 'bl_domain'",
      "\nDuring handling of the above exception, another exception occurred:\n",
      "\u001b[0;31mKeyError\u001b[0m                                  Traceback (most recent call last)",
      "\u001b[0;32m<ipython-input-31-061e9dbdb1c1>\u001b[0m in \u001b[0;36m<module>\u001b[0;34m()\u001b[0m\n\u001b[1;32m      1\u001b[0m \u001b[0;31m## summary\u001b[0m\u001b[0;34m\u001b[0m\u001b[0;34m\u001b[0m\u001b[0m\n\u001b[0;32m----> 2\u001b[0;31m \u001b[0medges\u001b[0m\u001b[0;34m[\u001b[0m\u001b[0;34m'bl_type'\u001b[0m\u001b[0;34m]\u001b[0m \u001b[0;34m=\u001b[0m \u001b[0medges\u001b[0m\u001b[0;34m[\u001b[0m\u001b[0;34m'bl_domain'\u001b[0m\u001b[0;34m]\u001b[0m \u001b[0;34m+\u001b[0m \u001b[0;34m\".\"\u001b[0m \u001b[0;34m+\u001b[0m \u001b[0medges\u001b[0m\u001b[0;34m[\u001b[0m\u001b[0;34m'bl_pred'\u001b[0m\u001b[0;34m]\u001b[0m \u001b[0;34m+\u001b[0m \u001b[0;34m\".\"\u001b[0m \u001b[0;34m+\u001b[0m \u001b[0medges\u001b[0m\u001b[0;34m[\u001b[0m\u001b[0;34m'bl_range'\u001b[0m\u001b[0;34m]\u001b[0m\u001b[0;34m\u001b[0m\u001b[0m\n\u001b[0m\u001b[1;32m      3\u001b[0m \u001b[0mprint\u001b[0m\u001b[0;34m(\u001b[0m\u001b[0mlen\u001b[0m\u001b[0;34m(\u001b[0m\u001b[0medges\u001b[0m\u001b[0;34m)\u001b[0m\u001b[0;34m)\u001b[0m\u001b[0;34m\u001b[0m\u001b[0m\n\u001b[1;32m      4\u001b[0m \u001b[0mprint\u001b[0m\u001b[0;34m(\u001b[0m\u001b[0mlen\u001b[0m\u001b[0;34m(\u001b[0m\u001b[0mnodes\u001b[0m\u001b[0;34m)\u001b[0m\u001b[0;34m)\u001b[0m\u001b[0;34m\u001b[0m\u001b[0m\n\u001b[1;32m      5\u001b[0m \u001b[0mprint\u001b[0m\u001b[0;34m(\u001b[0m\u001b[0mlen\u001b[0m\u001b[0;34m(\u001b[0m\u001b[0mset\u001b[0m\u001b[0;34m(\u001b[0m\u001b[0medges\u001b[0m\u001b[0;34m.\u001b[0m\u001b[0mbl_type\u001b[0m\u001b[0;34m)\u001b[0m\u001b[0;34m)\u001b[0m\u001b[0;34m)\u001b[0m\u001b[0;34m\u001b[0m\u001b[0m\n",
      "\u001b[0;32m/usr/local/lib/python3.5/dist-packages/pandas/core/frame.py\u001b[0m in \u001b[0;36m__getitem__\u001b[0;34m(self, key)\u001b[0m\n\u001b[1;32m   2137\u001b[0m             \u001b[0;32mreturn\u001b[0m \u001b[0mself\u001b[0m\u001b[0;34m.\u001b[0m\u001b[0m_getitem_multilevel\u001b[0m\u001b[0;34m(\u001b[0m\u001b[0mkey\u001b[0m\u001b[0;34m)\u001b[0m\u001b[0;34m\u001b[0m\u001b[0m\n\u001b[1;32m   2138\u001b[0m         \u001b[0;32melse\u001b[0m\u001b[0;34m:\u001b[0m\u001b[0;34m\u001b[0m\u001b[0m\n\u001b[0;32m-> 2139\u001b[0;31m             \u001b[0;32mreturn\u001b[0m \u001b[0mself\u001b[0m\u001b[0;34m.\u001b[0m\u001b[0m_getitem_column\u001b[0m\u001b[0;34m(\u001b[0m\u001b[0mkey\u001b[0m\u001b[0;34m)\u001b[0m\u001b[0;34m\u001b[0m\u001b[0m\n\u001b[0m\u001b[1;32m   2140\u001b[0m \u001b[0;34m\u001b[0m\u001b[0m\n\u001b[1;32m   2141\u001b[0m     \u001b[0;32mdef\u001b[0m \u001b[0m_getitem_column\u001b[0m\u001b[0;34m(\u001b[0m\u001b[0mself\u001b[0m\u001b[0;34m,\u001b[0m \u001b[0mkey\u001b[0m\u001b[0;34m)\u001b[0m\u001b[0;34m:\u001b[0m\u001b[0;34m\u001b[0m\u001b[0m\n",
      "\u001b[0;32m/usr/local/lib/python3.5/dist-packages/pandas/core/frame.py\u001b[0m in \u001b[0;36m_getitem_column\u001b[0;34m(self, key)\u001b[0m\n\u001b[1;32m   2144\u001b[0m         \u001b[0;31m# get column\u001b[0m\u001b[0;34m\u001b[0m\u001b[0;34m\u001b[0m\u001b[0m\n\u001b[1;32m   2145\u001b[0m         \u001b[0;32mif\u001b[0m \u001b[0mself\u001b[0m\u001b[0;34m.\u001b[0m\u001b[0mcolumns\u001b[0m\u001b[0;34m.\u001b[0m\u001b[0mis_unique\u001b[0m\u001b[0;34m:\u001b[0m\u001b[0;34m\u001b[0m\u001b[0m\n\u001b[0;32m-> 2146\u001b[0;31m             \u001b[0;32mreturn\u001b[0m \u001b[0mself\u001b[0m\u001b[0;34m.\u001b[0m\u001b[0m_get_item_cache\u001b[0m\u001b[0;34m(\u001b[0m\u001b[0mkey\u001b[0m\u001b[0;34m)\u001b[0m\u001b[0;34m\u001b[0m\u001b[0m\n\u001b[0m\u001b[1;32m   2147\u001b[0m \u001b[0;34m\u001b[0m\u001b[0m\n\u001b[1;32m   2148\u001b[0m         \u001b[0;31m# duplicate columns & possible reduce dimensionality\u001b[0m\u001b[0;34m\u001b[0m\u001b[0;34m\u001b[0m\u001b[0m\n",
      "\u001b[0;32m/usr/local/lib/python3.5/dist-packages/pandas/core/generic.py\u001b[0m in \u001b[0;36m_get_item_cache\u001b[0;34m(self, item)\u001b[0m\n\u001b[1;32m   1840\u001b[0m         \u001b[0mres\u001b[0m \u001b[0;34m=\u001b[0m \u001b[0mcache\u001b[0m\u001b[0;34m.\u001b[0m\u001b[0mget\u001b[0m\u001b[0;34m(\u001b[0m\u001b[0mitem\u001b[0m\u001b[0;34m)\u001b[0m\u001b[0;34m\u001b[0m\u001b[0m\n\u001b[1;32m   1841\u001b[0m         \u001b[0;32mif\u001b[0m \u001b[0mres\u001b[0m \u001b[0;32mis\u001b[0m \u001b[0;32mNone\u001b[0m\u001b[0;34m:\u001b[0m\u001b[0;34m\u001b[0m\u001b[0m\n\u001b[0;32m-> 1842\u001b[0;31m             \u001b[0mvalues\u001b[0m \u001b[0;34m=\u001b[0m \u001b[0mself\u001b[0m\u001b[0;34m.\u001b[0m\u001b[0m_data\u001b[0m\u001b[0;34m.\u001b[0m\u001b[0mget\u001b[0m\u001b[0;34m(\u001b[0m\u001b[0mitem\u001b[0m\u001b[0;34m)\u001b[0m\u001b[0;34m\u001b[0m\u001b[0m\n\u001b[0m\u001b[1;32m   1843\u001b[0m             \u001b[0mres\u001b[0m \u001b[0;34m=\u001b[0m \u001b[0mself\u001b[0m\u001b[0;34m.\u001b[0m\u001b[0m_box_item_values\u001b[0m\u001b[0;34m(\u001b[0m\u001b[0mitem\u001b[0m\u001b[0;34m,\u001b[0m \u001b[0mvalues\u001b[0m\u001b[0;34m)\u001b[0m\u001b[0;34m\u001b[0m\u001b[0m\n\u001b[1;32m   1844\u001b[0m             \u001b[0mcache\u001b[0m\u001b[0;34m[\u001b[0m\u001b[0mitem\u001b[0m\u001b[0;34m]\u001b[0m \u001b[0;34m=\u001b[0m \u001b[0mres\u001b[0m\u001b[0;34m\u001b[0m\u001b[0m\n",
      "\u001b[0;32m/usr/local/lib/python3.5/dist-packages/pandas/core/internals.py\u001b[0m in \u001b[0;36mget\u001b[0;34m(self, item, fastpath)\u001b[0m\n\u001b[1;32m   3841\u001b[0m \u001b[0;34m\u001b[0m\u001b[0m\n\u001b[1;32m   3842\u001b[0m             \u001b[0;32mif\u001b[0m \u001b[0;32mnot\u001b[0m \u001b[0misna\u001b[0m\u001b[0;34m(\u001b[0m\u001b[0mitem\u001b[0m\u001b[0;34m)\u001b[0m\u001b[0;34m:\u001b[0m\u001b[0;34m\u001b[0m\u001b[0m\n\u001b[0;32m-> 3843\u001b[0;31m                 \u001b[0mloc\u001b[0m \u001b[0;34m=\u001b[0m \u001b[0mself\u001b[0m\u001b[0;34m.\u001b[0m\u001b[0mitems\u001b[0m\u001b[0;34m.\u001b[0m\u001b[0mget_loc\u001b[0m\u001b[0;34m(\u001b[0m\u001b[0mitem\u001b[0m\u001b[0;34m)\u001b[0m\u001b[0;34m\u001b[0m\u001b[0m\n\u001b[0m\u001b[1;32m   3844\u001b[0m             \u001b[0;32melse\u001b[0m\u001b[0;34m:\u001b[0m\u001b[0;34m\u001b[0m\u001b[0m\n\u001b[1;32m   3845\u001b[0m                 \u001b[0mindexer\u001b[0m \u001b[0;34m=\u001b[0m \u001b[0mnp\u001b[0m\u001b[0;34m.\u001b[0m\u001b[0marange\u001b[0m\u001b[0;34m(\u001b[0m\u001b[0mlen\u001b[0m\u001b[0;34m(\u001b[0m\u001b[0mself\u001b[0m\u001b[0;34m.\u001b[0m\u001b[0mitems\u001b[0m\u001b[0;34m)\u001b[0m\u001b[0;34m)\u001b[0m\u001b[0;34m[\u001b[0m\u001b[0misna\u001b[0m\u001b[0;34m(\u001b[0m\u001b[0mself\u001b[0m\u001b[0;34m.\u001b[0m\u001b[0mitems\u001b[0m\u001b[0;34m)\u001b[0m\u001b[0;34m]\u001b[0m\u001b[0;34m\u001b[0m\u001b[0m\n",
      "\u001b[0;32m/usr/local/lib/python3.5/dist-packages/pandas/core/indexes/base.py\u001b[0m in \u001b[0;36mget_loc\u001b[0;34m(self, key, method, tolerance)\u001b[0m\n\u001b[1;32m   2525\u001b[0m                 \u001b[0;32mreturn\u001b[0m \u001b[0mself\u001b[0m\u001b[0;34m.\u001b[0m\u001b[0m_engine\u001b[0m\u001b[0;34m.\u001b[0m\u001b[0mget_loc\u001b[0m\u001b[0;34m(\u001b[0m\u001b[0mkey\u001b[0m\u001b[0;34m)\u001b[0m\u001b[0;34m\u001b[0m\u001b[0m\n\u001b[1;32m   2526\u001b[0m             \u001b[0;32mexcept\u001b[0m \u001b[0mKeyError\u001b[0m\u001b[0;34m:\u001b[0m\u001b[0;34m\u001b[0m\u001b[0m\n\u001b[0;32m-> 2527\u001b[0;31m                 \u001b[0;32mreturn\u001b[0m \u001b[0mself\u001b[0m\u001b[0;34m.\u001b[0m\u001b[0m_engine\u001b[0m\u001b[0;34m.\u001b[0m\u001b[0mget_loc\u001b[0m\u001b[0;34m(\u001b[0m\u001b[0mself\u001b[0m\u001b[0;34m.\u001b[0m\u001b[0m_maybe_cast_indexer\u001b[0m\u001b[0;34m(\u001b[0m\u001b[0mkey\u001b[0m\u001b[0;34m)\u001b[0m\u001b[0;34m)\u001b[0m\u001b[0;34m\u001b[0m\u001b[0m\n\u001b[0m\u001b[1;32m   2528\u001b[0m \u001b[0;34m\u001b[0m\u001b[0m\n\u001b[1;32m   2529\u001b[0m         \u001b[0mindexer\u001b[0m \u001b[0;34m=\u001b[0m \u001b[0mself\u001b[0m\u001b[0;34m.\u001b[0m\u001b[0mget_indexer\u001b[0m\u001b[0;34m(\u001b[0m\u001b[0;34m[\u001b[0m\u001b[0mkey\u001b[0m\u001b[0;34m]\u001b[0m\u001b[0;34m,\u001b[0m \u001b[0mmethod\u001b[0m\u001b[0;34m=\u001b[0m\u001b[0mmethod\u001b[0m\u001b[0;34m,\u001b[0m \u001b[0mtolerance\u001b[0m\u001b[0;34m=\u001b[0m\u001b[0mtolerance\u001b[0m\u001b[0;34m)\u001b[0m\u001b[0;34m\u001b[0m\u001b[0m\n",
      "\u001b[0;32mpandas/_libs/index.pyx\u001b[0m in \u001b[0;36mpandas._libs.index.IndexEngine.get_loc\u001b[0;34m()\u001b[0m\n",
      "\u001b[0;32mpandas/_libs/index.pyx\u001b[0m in \u001b[0;36mpandas._libs.index.IndexEngine.get_loc\u001b[0;34m()\u001b[0m\n",
      "\u001b[0;32mpandas/_libs/hashtable_class_helper.pxi\u001b[0m in \u001b[0;36mpandas._libs.hashtable.PyObjectHashTable.get_item\u001b[0;34m()\u001b[0m\n",
      "\u001b[0;32mpandas/_libs/hashtable_class_helper.pxi\u001b[0m in \u001b[0;36mpandas._libs.hashtable.PyObjectHashTable.get_item\u001b[0;34m()\u001b[0m\n",
      "\u001b[0;31mKeyError\u001b[0m: 'bl_domain'"
     ]
    }
   ],
   "source": [
    "## summary\n",
    "edges['bl_type'] = edges['bl_domain'] + \".\" + edges['bl_pred'] + \".\" + edges['bl_range']\n",
    "print(len(edges))\n",
    "print(len(nodes))\n",
    "print(len(set(edges.bl_type)))\n",
    "print(len(set(edges.bl_pred)))\n",
    "print(len(set(nodes.blm_type)))"
   ]
  },
  {
   "cell_type": "code",
   "execution_count": 29,
   "metadata": {},
   "outputs": [],
   "source": [
    "del edges['bl_type']\n",
    "del edges['bl_domain']\n",
    "del edges['bl_range']"
   ]
  },
  {
   "cell_type": "code",
   "execution_count": 30,
   "metadata": {},
   "outputs": [
    {
     "data": {
      "text/html": [
       "<div>\n",
       "<style scoped>\n",
       "    .dataframe tbody tr th:only-of-type {\n",
       "        vertical-align: middle;\n",
       "    }\n",
       "\n",
       "    .dataframe tbody tr th {\n",
       "        vertical-align: top;\n",
       "    }\n",
       "\n",
       "    .dataframe thead th {\n",
       "        text-align: right;\n",
       "    }\n",
       "</style>\n",
       "<table border=\"1\" class=\"dataframe\">\n",
       "  <thead>\n",
       "    <tr style=\"text-align: right;\">\n",
       "      <th></th>\n",
       "      <th>START_ID</th>\n",
       "      <th>END_ID</th>\n",
       "      <th>pmids</th>\n",
       "      <th>n_pmids</th>\n",
       "      <th>NEG</th>\n",
       "      <th>bl_pred</th>\n",
       "    </tr>\n",
       "  </thead>\n",
       "  <tbody>\n",
       "    <tr>\n",
       "      <th>0</th>\n",
       "      <td>C0086931</td>\n",
       "      <td>C0037369</td>\n",
       "      <td>26656404;8816000;19745413;17710714;21412223;19...</td>\n",
       "      <td>6</td>\n",
       "      <td>False</td>\n",
       "      <td>AFFECTS</td>\n",
       "    </tr>\n",
       "    <tr>\n",
       "      <th>1</th>\n",
       "      <td>C0950156</td>\n",
       "      <td>C0009671</td>\n",
       "      <td>12584106</td>\n",
       "      <td>1</td>\n",
       "      <td>False</td>\n",
       "      <td>AFFECTS</td>\n",
       "    </tr>\n",
       "    <tr>\n",
       "      <th>2</th>\n",
       "      <td>C0024810</td>\n",
       "      <td>C0035651</td>\n",
       "      <td>15775958;11173168</td>\n",
       "      <td>2</td>\n",
       "      <td>False</td>\n",
       "      <td>AFFECTS</td>\n",
       "    </tr>\n",
       "    <tr>\n",
       "      <th>3</th>\n",
       "      <td>C0556297</td>\n",
       "      <td>C0037369</td>\n",
       "      <td>12164677;9373700</td>\n",
       "      <td>2</td>\n",
       "      <td>False</td>\n",
       "      <td>AFFECTS</td>\n",
       "    </tr>\n",
       "    <tr>\n",
       "      <th>4</th>\n",
       "      <td>C1154333</td>\n",
       "      <td>C0015745</td>\n",
       "      <td>23872405</td>\n",
       "      <td>1</td>\n",
       "      <td>False</td>\n",
       "      <td>AFFECTS</td>\n",
       "    </tr>\n",
       "  </tbody>\n",
       "</table>\n",
       "</div>"
      ],
      "text/plain": [
       "   START_ID    END_ID                                              pmids  \\\n",
       "0  C0086931  C0037369  26656404;8816000;19745413;17710714;21412223;19...   \n",
       "1  C0950156  C0009671                                           12584106   \n",
       "2  C0024810  C0035651                                  15775958;11173168   \n",
       "3  C0556297  C0037369                                   12164677;9373700   \n",
       "4  C1154333  C0015745                                           23872405   \n",
       "\n",
       "   n_pmids    NEG  bl_pred  \n",
       "0        6  False  AFFECTS  \n",
       "1        1  False  AFFECTS  \n",
       "2        2  False  AFFECTS  \n",
       "3        2  False  AFFECTS  \n",
       "4        1  False  AFFECTS  "
      ]
     },
     "execution_count": 30,
     "metadata": {},
     "output_type": "execute_result"
    }
   ],
   "source": [
    "edges.head()"
   ]
  },
  {
   "cell_type": "code",
   "execution_count": 32,
   "metadata": {},
   "outputs": [],
   "source": [
    "edges.to_csv(\"edges_biolink.csv\", index=None)\n",
    "nodes.to_csv(\"nodes_biolink.csv\", index=None)"
   ]
  }
 ],
 "metadata": {
  "kernelspec": {
   "display_name": "Python 3",
   "language": "python",
   "name": "python3"
  },
  "language_info": {
   "codemirror_mode": {
    "name": "ipython",
    "version": 3
   },
   "file_extension": ".py",
   "mimetype": "text/x-python",
   "name": "python",
   "nbconvert_exporter": "python",
   "pygments_lexer": "ipython3",
   "version": "3.5.2"
  }
 },
 "nbformat": 4,
 "nbformat_minor": 2
}
