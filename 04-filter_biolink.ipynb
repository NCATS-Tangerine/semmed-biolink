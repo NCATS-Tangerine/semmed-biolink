{
 "cells": [
  {
   "cell_type": "markdown",
   "metadata": {},
   "source": [
    "# 04-filter_biolink\n",
    " - Filter specific domain and ranges for: CAUSES, LOCATION_OF, TREATS, PREDISPOSES, PREVENTS\n",
    " - rename 'converts_to' edge to 'derives_into'\n",
    " - rename 'isa' edge to 'subclass of'\n",
    " - rename 'disrupts' edge to 'affects'\n",
    " - rename 'associated_with' edge to 'related_to'\n",
    " - rename 'STIMULATES' edge to 'positively_regulates'\n",
    " - rename 'INHIBITS' edge to 'negatively_regulates'\n",
    " - associated_with/related_to edges with domain: gene, range: disease; rename to gene_associated_with_condition\\\n",
    "\n",
    "#### Note: this filtering step may be mildly confused by edges with nodes which have multiple Biolink category types(?)\n",
    " "
   ]
  },
  {
   "cell_type": "code",
   "execution_count": 1,
   "metadata": {},
   "outputs": [],
   "source": [
    "import os\n",
    "import pickle\n",
    "%matplotlib inline\n",
    "import pandas as pd\n",
    "from semmed_biolink_environment import *"
   ]
  },
  {
   "cell_type": "code",
   "execution_count": 2,
   "metadata": {},
   "outputs": [],
   "source": [
    "edges = pd.read_csv(EDGES_FILTERED_TSV, sep='\\t')\n",
    "nodes = pd.read_csv(NODES_FILTERED_TSV, sep='\\t')\n",
    "node_category = dict(zip(nodes.ID, nodes.blm_category))"
   ]
  },
  {
   "cell_type": "code",
   "execution_count": 3,
   "metadata": {},
   "outputs": [
    {
     "data": {
      "text/plain": [
       "ChemicalSubstance              58713\n",
       "DiseaseOrPhenotypicFeature     36971\n",
       "Protein                        28092\n",
       "Gene                           23825\n",
       "GrossAnatomicalStructure        9086\n",
       "BiologicalProcessOrActivity     7684\n",
       "AnatomicalEntity                2757\n",
       "CellularComponent               1732\n",
       "Cell                            1255\n",
       "ActivityAndBehavior              882\n",
       "PhenotypicFeature                466\n",
       "GenomicEntity                    173\n",
       "Name: blm_category, dtype: int64"
      ]
     },
     "execution_count": 3,
     "metadata": {},
     "output_type": "execute_result"
    }
   ],
   "source": [
    "nodes.blm_category.value_counts()"
   ]
  },
  {
   "cell_type": "code",
   "execution_count": 4,
   "metadata": {},
   "outputs": [
    {
     "data": {
      "text/html": [
       "<div>\n",
       "<style scoped>\n",
       "    .dataframe tbody tr th:only-of-type {\n",
       "        vertical-align: middle;\n",
       "    }\n",
       "\n",
       "    .dataframe tbody tr th {\n",
       "        vertical-align: top;\n",
       "    }\n",
       "\n",
       "    .dataframe thead th {\n",
       "        text-align: right;\n",
       "    }\n",
       "</style>\n",
       "<table border=\"1\" class=\"dataframe\">\n",
       "  <thead>\n",
       "    <tr style=\"text-align: right;\">\n",
       "      <th></th>\n",
       "      <th>SUBJECT_CUI</th>\n",
       "      <th>PREDICATE</th>\n",
       "      <th>OBJECT_CUI</th>\n",
       "      <th>PMID</th>\n",
       "      <th>NEG</th>\n",
       "    </tr>\n",
       "  </thead>\n",
       "  <tbody>\n",
       "    <tr>\n",
       "      <th>0</th>\n",
       "      <td>C1412045</td>\n",
       "      <td>AFFECTS</td>\n",
       "      <td>C0005935</td>\n",
       "      <td>29798367</td>\n",
       "      <td>False</td>\n",
       "    </tr>\n",
       "    <tr>\n",
       "      <th>1</th>\n",
       "      <td>C1412045</td>\n",
       "      <td>AFFECTS</td>\n",
       "      <td>C0028754</td>\n",
       "      <td>19789049</td>\n",
       "      <td>False</td>\n",
       "    </tr>\n",
       "    <tr>\n",
       "      <th>2</th>\n",
       "      <td>C1412045</td>\n",
       "      <td>AFFECTS</td>\n",
       "      <td>C0036421</td>\n",
       "      <td>31505074;31505074</td>\n",
       "      <td>False</td>\n",
       "    </tr>\n",
       "    <tr>\n",
       "      <th>3</th>\n",
       "      <td>C1412045</td>\n",
       "      <td>AFFECTS</td>\n",
       "      <td>C0597304</td>\n",
       "      <td>1409557</td>\n",
       "      <td>False</td>\n",
       "    </tr>\n",
       "    <tr>\n",
       "      <th>4</th>\n",
       "      <td>C1412045</td>\n",
       "      <td>AFFECTS</td>\n",
       "      <td>C0599816</td>\n",
       "      <td>7617239</td>\n",
       "      <td>False</td>\n",
       "    </tr>\n",
       "  </tbody>\n",
       "</table>\n",
       "</div>"
      ],
      "text/plain": [
       "  SUBJECT_CUI PREDICATE OBJECT_CUI               PMID    NEG\n",
       "0    C1412045   AFFECTS   C0005935           29798367  False\n",
       "1    C1412045   AFFECTS   C0028754           19789049  False\n",
       "2    C1412045   AFFECTS   C0036421  31505074;31505074  False\n",
       "3    C1412045   AFFECTS   C0597304            1409557  False\n",
       "4    C1412045   AFFECTS   C0599816            7617239  False"
      ]
     },
     "execution_count": 4,
     "metadata": {},
     "output_type": "execute_result"
    }
   ],
   "source": [
    "edges.head()"
   ]
  },
  {
   "cell_type": "code",
   "execution_count": 5,
   "metadata": {},
   "outputs": [
    {
     "data": {
      "text/html": [
       "<div>\n",
       "<style scoped>\n",
       "    .dataframe tbody tr th:only-of-type {\n",
       "        vertical-align: middle;\n",
       "    }\n",
       "\n",
       "    .dataframe tbody tr th {\n",
       "        vertical-align: top;\n",
       "    }\n",
       "\n",
       "    .dataframe thead th {\n",
       "        text-align: right;\n",
       "    }\n",
       "</style>\n",
       "<table border=\"1\" class=\"dataframe\">\n",
       "  <thead>\n",
       "    <tr style=\"text-align: right;\">\n",
       "      <th></th>\n",
       "      <th>SUBJECT_CUI</th>\n",
       "      <th>PREDICATE</th>\n",
       "      <th>OBJECT_CUI</th>\n",
       "      <th>PMID</th>\n",
       "      <th>NEG</th>\n",
       "      <th>bl_domain</th>\n",
       "      <th>bl_pred</th>\n",
       "      <th>bl_range</th>\n",
       "      <th>bl_type</th>\n",
       "    </tr>\n",
       "  </thead>\n",
       "  <tbody>\n",
       "    <tr>\n",
       "      <th>0</th>\n",
       "      <td>C1412045</td>\n",
       "      <td>AFFECTS</td>\n",
       "      <td>C0005935</td>\n",
       "      <td>29798367</td>\n",
       "      <td>False</td>\n",
       "      <td>Gene</td>\n",
       "      <td>affects</td>\n",
       "      <td>BiologicalProcessOrActivity</td>\n",
       "      <td>Gene.affects.BiologicalProcessOrActivity</td>\n",
       "    </tr>\n",
       "    <tr>\n",
       "      <th>1</th>\n",
       "      <td>C1412045</td>\n",
       "      <td>AFFECTS</td>\n",
       "      <td>C0028754</td>\n",
       "      <td>19789049</td>\n",
       "      <td>False</td>\n",
       "      <td>Gene</td>\n",
       "      <td>affects</td>\n",
       "      <td>DiseaseOrPhenotypicFeature</td>\n",
       "      <td>Gene.affects.DiseaseOrPhenotypicFeature</td>\n",
       "    </tr>\n",
       "    <tr>\n",
       "      <th>2</th>\n",
       "      <td>C1412045</td>\n",
       "      <td>AFFECTS</td>\n",
       "      <td>C0036421</td>\n",
       "      <td>31505074;31505074</td>\n",
       "      <td>False</td>\n",
       "      <td>Gene</td>\n",
       "      <td>affects</td>\n",
       "      <td>DiseaseOrPhenotypicFeature</td>\n",
       "      <td>Gene.affects.DiseaseOrPhenotypicFeature</td>\n",
       "    </tr>\n",
       "    <tr>\n",
       "      <th>3</th>\n",
       "      <td>C1412045</td>\n",
       "      <td>AFFECTS</td>\n",
       "      <td>C0597304</td>\n",
       "      <td>1409557</td>\n",
       "      <td>False</td>\n",
       "      <td>Gene</td>\n",
       "      <td>affects</td>\n",
       "      <td>BiologicalProcessOrActivity</td>\n",
       "      <td>Gene.affects.BiologicalProcessOrActivity</td>\n",
       "    </tr>\n",
       "    <tr>\n",
       "      <th>4</th>\n",
       "      <td>C1412045</td>\n",
       "      <td>AFFECTS</td>\n",
       "      <td>C0599816</td>\n",
       "      <td>7617239</td>\n",
       "      <td>False</td>\n",
       "      <td>Gene</td>\n",
       "      <td>affects</td>\n",
       "      <td>BiologicalProcessOrActivity</td>\n",
       "      <td>Gene.affects.BiologicalProcessOrActivity</td>\n",
       "    </tr>\n",
       "  </tbody>\n",
       "</table>\n",
       "</div>"
      ],
      "text/plain": [
       "  SUBJECT_CUI PREDICATE OBJECT_CUI               PMID    NEG bl_domain  \\\n",
       "0    C1412045   AFFECTS   C0005935           29798367  False      Gene   \n",
       "1    C1412045   AFFECTS   C0028754           19789049  False      Gene   \n",
       "2    C1412045   AFFECTS   C0036421  31505074;31505074  False      Gene   \n",
       "3    C1412045   AFFECTS   C0597304            1409557  False      Gene   \n",
       "4    C1412045   AFFECTS   C0599816            7617239  False      Gene   \n",
       "\n",
       "   bl_pred                     bl_range  \\\n",
       "0  affects  BiologicalProcessOrActivity   \n",
       "1  affects   DiseaseOrPhenotypicFeature   \n",
       "2  affects   DiseaseOrPhenotypicFeature   \n",
       "3  affects  BiologicalProcessOrActivity   \n",
       "4  affects  BiologicalProcessOrActivity   \n",
       "\n",
       "                                    bl_type  \n",
       "0  Gene.affects.BiologicalProcessOrActivity  \n",
       "1   Gene.affects.DiseaseOrPhenotypicFeature  \n",
       "2   Gene.affects.DiseaseOrPhenotypicFeature  \n",
       "3  Gene.affects.BiologicalProcessOrActivity  \n",
       "4  Gene.affects.BiologicalProcessOrActivity  "
      ]
     },
     "execution_count": 5,
     "metadata": {},
     "output_type": "execute_result"
    }
   ],
   "source": [
    "# generate domain and range from the biolink node category (may be multiple?)\n",
    "edges['bl_domain'] = edges.SUBJECT_CUI.apply(node_category.get)\n",
    "edges['bl_pred'] = edges.PREDICATE.apply(lambda p: p.lower())\n",
    "edges['bl_range'] = edges.OBJECT_CUI.apply(node_category.get)\n",
    "edges['bl_type'] = edges['bl_domain'] + \".\" + edges['bl_pred'] + \".\" + edges['bl_range']\n",
    "edges.head()"
   ]
  },
  {
   "cell_type": "code",
   "execution_count": 6,
   "metadata": {},
   "outputs": [],
   "source": [
    "edges.rename(columns={'PREDICATE': 'SEMMED_PRED'}, inplace=True)"
   ]
  },
  {
   "cell_type": "code",
   "execution_count": 7,
   "metadata": {},
   "outputs": [
    {
     "data": {
      "text/plain": [
       "interacts_with      2229571\n",
       "location_of         2164390\n",
       "coexists_with       1842464\n",
       "affects             1644009\n",
       "stimulates          1312678\n",
       "inhibits            1112598\n",
       "associated_with      962351\n",
       "causes               793698\n",
       "part_of              760353\n",
       "disrupts             542272\n",
       "treats               503437\n",
       "produces             483339\n",
       "predisposes          279729\n",
       "isa                  245915\n",
       "prevents             150134\n",
       "precedes              55586\n",
       "converts_to           49203\n",
       "manifestation_of      38284\n",
       "measures               1066\n",
       "measurement_of           44\n",
       "prep                      3\n",
       "Name: bl_pred, dtype: int64"
      ]
     },
     "execution_count": 7,
     "metadata": {},
     "output_type": "execute_result"
    }
   ],
   "source": [
    "edges.bl_pred.value_counts()"
   ]
  },
  {
   "cell_type": "code",
   "execution_count": 8,
   "metadata": {},
   "outputs": [
    {
     "data": {
      "text/plain": [
       "21"
      ]
     },
     "execution_count": 8,
     "metadata": {},
     "output_type": "execute_result"
    }
   ],
   "source": [
    "len(set(edges.bl_pred))"
   ]
  },
  {
   "cell_type": "code",
   "execution_count": 9,
   "metadata": {},
   "outputs": [],
   "source": [
    "# get the most common domain and ranges for each pred\n",
    "pred_type_count = edges.groupby(\"bl_pred\").bl_type.value_counts()"
   ]
  },
  {
   "cell_type": "code",
   "execution_count": 10,
   "metadata": {},
   "outputs": [
    {
     "data": {
      "text/plain": [
       "bl_type\n",
       "ChemicalSubstance.prevents.DiseaseOrPhenotypicFeature              89504\n",
       "Protein.prevents.DiseaseOrPhenotypicFeature                        35038\n",
       "Gene.prevents.DiseaseOrPhenotypicFeature                           21067\n",
       "ActivityAndBehavior.prevents.DiseaseOrPhenotypicFeature             2923\n",
       "ChemicalSubstance.prevents.BiologicalProcessOrActivity               342\n",
       "DiseaseOrPhenotypicFeature.prevents.DiseaseOrPhenotypicFeature       306\n",
       "ChemicalSubstance.prevents.ActivityAndBehavior                       262\n",
       "Protein.prevents.BiologicalProcessOrActivity                         178\n",
       "Gene.prevents.BiologicalProcessOrActivity                            121\n",
       "BiologicalProcessOrActivity.prevents.DiseaseOrPhenotypicFeature      113\n",
       "Protein.prevents.ActivityAndBehavior                                  75\n",
       "Gene.prevents.ActivityAndBehavior                                     70\n",
       "PhenotypicFeature.prevents.DiseaseOrPhenotypicFeature                 63\n",
       "GenomicEntity.prevents.DiseaseOrPhenotypicFeature                     17\n",
       "GrossAnatomicalStructure.prevents.DiseaseOrPhenotypicFeature          13\n",
       "ActivityAndBehavior.prevents.ActivityAndBehavior                       7\n",
       "ActivityAndBehavior.prevents.PhenotypicFeature                         7\n",
       "ActivityAndBehavior.prevents.BiologicalProcessOrActivity               5\n",
       "ChemicalSubstance.prevents.GrossAnatomicalStructure                    4\n",
       "Cell.prevents.DiseaseOrPhenotypicFeature                               3\n",
       "ChemicalSubstance.prevents.AnatomicalEntity                            3\n",
       "Protein.prevents.ChemicalSubstance                                     3\n",
       "Protein.prevents.Gene                                                  2\n",
       "ActivityAndBehavior.prevents.AnatomicalEntity                          1\n",
       "BiologicalProcessOrActivity.prevents.GenomicEntity                     1\n",
       "ChemicalSubstance.prevents.ChemicalSubstance                           1\n",
       "ChemicalSubstance.prevents.Gene                                        1\n",
       "ChemicalSubstance.prevents.Protein                                     1\n",
       "DiseaseOrPhenotypicFeature.prevents.AnatomicalEntity                   1\n",
       "Protein.prevents.GenomicEntity                                         1\n",
       "Name: bl_type, dtype: int64"
      ]
     },
     "execution_count": 10,
     "metadata": {},
     "output_type": "execute_result"
    }
   ],
   "source": [
    "pred_type_count['prevents'][:30]"
   ]
  },
  {
   "cell_type": "code",
   "execution_count": 11,
   "metadata": {},
   "outputs": [],
   "source": [
    "# working off https://docs.google.com/spreadsheets/d/1zXitcR1QjHyh6WocukgshSR7IoAVg7MJQG-HNh96Jec/edit#gid=579577728\n",
    "allowed_domain_range = {\n",
    "    'causes': (None, {'BiologicalProcessOrActivity', 'DiseaseOrPhenotypicFeature'}),\n",
    "    'location_of': ({'GrossAnatomicalStructure', 'AnatomicalEntity', 'CellularComponent', 'Cell'}, None),\n",
    "    'treats': (None, {'DiseaseOrPhenotypicFeature'}),\n",
    "    'predisposes': (None, {'DiseaseOrPhenotypicFeature'}),\n",
    "    'prevents': (None, {'DiseaseOrPhenotypicFeature'}),\n",
    "}"
   ]
  },
  {
   "cell_type": "code",
   "execution_count": 12,
   "metadata": {},
   "outputs": [],
   "source": [
    "def is_allowed_edge(domain, pred, rnge):\n",
    "    allowed_domain, allowed_range = allowed_domain_range[pred] if pred in allowed_domain_range else (None, None)\n",
    "    return ((domain in allowed_domain if allowed_domain else True) and \n",
    "              (rnge in allowed_range if allowed_range else True))"
   ]
  },
  {
   "cell_type": "code",
   "execution_count": 13,
   "metadata": {},
   "outputs": [],
   "source": [
    "d = {x: is_allowed_edge(*x.split(\".\")) for x in set(edges.bl_type)}\n",
    "allowed_edges = {k for k,v in d.items() if v}"
   ]
  },
  {
   "cell_type": "code",
   "execution_count": 14,
   "metadata": {},
   "outputs": [
    {
     "name": "stdout",
     "output_type": "stream",
     "text": [
      "True     15055795\n",
      "False      115329\n",
      "Name: bl_type, dtype: int64\n"
     ]
    }
   ],
   "source": [
    "idx = edges.bl_type.isin(allowed_edges)\n",
    "print(idx.value_counts())\n",
    "edges = edges[idx]"
   ]
  },
  {
   "cell_type": "code",
   "execution_count": 15,
   "metadata": {},
   "outputs": [
    {
     "name": "stdout",
     "output_type": "stream",
     "text": [
      "15055795\n"
     ]
    }
   ],
   "source": [
    "print(len(edges))"
   ]
  },
  {
   "cell_type": "code",
   "execution_count": 16,
   "metadata": {},
   "outputs": [
    {
     "data": {
      "text/html": [
       "<div>\n",
       "<style scoped>\n",
       "    .dataframe tbody tr th:only-of-type {\n",
       "        vertical-align: middle;\n",
       "    }\n",
       "\n",
       "    .dataframe tbody tr th {\n",
       "        vertical-align: top;\n",
       "    }\n",
       "\n",
       "    .dataframe thead th {\n",
       "        text-align: right;\n",
       "    }\n",
       "</style>\n",
       "<table border=\"1\" class=\"dataframe\">\n",
       "  <thead>\n",
       "    <tr style=\"text-align: right;\">\n",
       "      <th></th>\n",
       "      <th>SUBJECT_CUI</th>\n",
       "      <th>SEMMED_PRED</th>\n",
       "      <th>OBJECT_CUI</th>\n",
       "      <th>PMID</th>\n",
       "      <th>NEG</th>\n",
       "      <th>bl_domain</th>\n",
       "      <th>bl_pred</th>\n",
       "      <th>bl_range</th>\n",
       "      <th>bl_type</th>\n",
       "    </tr>\n",
       "  </thead>\n",
       "  <tbody>\n",
       "    <tr>\n",
       "      <th>0</th>\n",
       "      <td>C1412045</td>\n",
       "      <td>AFFECTS</td>\n",
       "      <td>C0005935</td>\n",
       "      <td>29798367</td>\n",
       "      <td>False</td>\n",
       "      <td>Gene</td>\n",
       "      <td>affects</td>\n",
       "      <td>BiologicalProcessOrActivity</td>\n",
       "      <td>Gene.affects.BiologicalProcessOrActivity</td>\n",
       "    </tr>\n",
       "    <tr>\n",
       "      <th>1</th>\n",
       "      <td>C1412045</td>\n",
       "      <td>AFFECTS</td>\n",
       "      <td>C0028754</td>\n",
       "      <td>19789049</td>\n",
       "      <td>False</td>\n",
       "      <td>Gene</td>\n",
       "      <td>affects</td>\n",
       "      <td>DiseaseOrPhenotypicFeature</td>\n",
       "      <td>Gene.affects.DiseaseOrPhenotypicFeature</td>\n",
       "    </tr>\n",
       "    <tr>\n",
       "      <th>2</th>\n",
       "      <td>C1412045</td>\n",
       "      <td>AFFECTS</td>\n",
       "      <td>C0036421</td>\n",
       "      <td>31505074;31505074</td>\n",
       "      <td>False</td>\n",
       "      <td>Gene</td>\n",
       "      <td>affects</td>\n",
       "      <td>DiseaseOrPhenotypicFeature</td>\n",
       "      <td>Gene.affects.DiseaseOrPhenotypicFeature</td>\n",
       "    </tr>\n",
       "    <tr>\n",
       "      <th>3</th>\n",
       "      <td>C1412045</td>\n",
       "      <td>AFFECTS</td>\n",
       "      <td>C0597304</td>\n",
       "      <td>1409557</td>\n",
       "      <td>False</td>\n",
       "      <td>Gene</td>\n",
       "      <td>affects</td>\n",
       "      <td>BiologicalProcessOrActivity</td>\n",
       "      <td>Gene.affects.BiologicalProcessOrActivity</td>\n",
       "    </tr>\n",
       "    <tr>\n",
       "      <th>4</th>\n",
       "      <td>C1412045</td>\n",
       "      <td>AFFECTS</td>\n",
       "      <td>C0599816</td>\n",
       "      <td>7617239</td>\n",
       "      <td>False</td>\n",
       "      <td>Gene</td>\n",
       "      <td>affects</td>\n",
       "      <td>BiologicalProcessOrActivity</td>\n",
       "      <td>Gene.affects.BiologicalProcessOrActivity</td>\n",
       "    </tr>\n",
       "  </tbody>\n",
       "</table>\n",
       "</div>"
      ],
      "text/plain": [
       "  SUBJECT_CUI SEMMED_PRED OBJECT_CUI               PMID    NEG bl_domain  \\\n",
       "0    C1412045     AFFECTS   C0005935           29798367  False      Gene   \n",
       "1    C1412045     AFFECTS   C0028754           19789049  False      Gene   \n",
       "2    C1412045     AFFECTS   C0036421  31505074;31505074  False      Gene   \n",
       "3    C1412045     AFFECTS   C0597304            1409557  False      Gene   \n",
       "4    C1412045     AFFECTS   C0599816            7617239  False      Gene   \n",
       "\n",
       "   bl_pred                     bl_range  \\\n",
       "0  affects  BiologicalProcessOrActivity   \n",
       "1  affects   DiseaseOrPhenotypicFeature   \n",
       "2  affects   DiseaseOrPhenotypicFeature   \n",
       "3  affects  BiologicalProcessOrActivity   \n",
       "4  affects  BiologicalProcessOrActivity   \n",
       "\n",
       "                                    bl_type  \n",
       "0  Gene.affects.BiologicalProcessOrActivity  \n",
       "1   Gene.affects.DiseaseOrPhenotypicFeature  \n",
       "2   Gene.affects.DiseaseOrPhenotypicFeature  \n",
       "3  Gene.affects.BiologicalProcessOrActivity  \n",
       "4  Gene.affects.BiologicalProcessOrActivity  "
      ]
     },
     "execution_count": 16,
     "metadata": {},
     "output_type": "execute_result"
    }
   ],
   "source": [
    "edges.head()"
   ]
  },
  {
   "cell_type": "code",
   "execution_count": 17,
   "metadata": {},
   "outputs": [],
   "source": [
    "# rename 'converts_to' edge to 'derives_into'\n",
    "edges.loc[lambda df: df['bl_pred'] == \"converts_to\", \"bl_pred\"] = \"derives_into\""
   ]
  },
  {
   "cell_type": "code",
   "execution_count": 18,
   "metadata": {},
   "outputs": [],
   "source": [
    "# rename 'isa' edge to 'subclass of'\n",
    "edges.loc[lambda df: df['bl_pred'] == \"isa\", \"bl_pred\"] = \"subclass_of\""
   ]
  },
  {
   "cell_type": "code",
   "execution_count": 19,
   "metadata": {},
   "outputs": [],
   "source": [
    "# rename 'disrupts' edge to 'affects'\n",
    "edges.loc[lambda df: df['bl_pred'] == \"disrupts\", \"bl_pred\"] = \"affects\""
   ]
  },
  {
   "cell_type": "code",
   "execution_count": 20,
   "metadata": {},
   "outputs": [],
   "source": [
    "# rename 'associated_with' edge to 'related_to'\n",
    "edges.loc[lambda df: df['bl_pred'] == \"associated_with\", \"bl_pred\"] = \"related_to\""
   ]
  },
  {
   "cell_type": "code",
   "execution_count": 21,
   "metadata": {},
   "outputs": [],
   "source": [
    "# rename 'STIMULATES' edge to 'positively_regulates'\n",
    "edges.loc[lambda df: df['bl_pred'] == \"stimulates\", \"bl_pred\"] = \"positively_regulates\""
   ]
  },
  {
   "cell_type": "code",
   "execution_count": 22,
   "metadata": {},
   "outputs": [],
   "source": [
    "# rename 'INHIBITS' edge to 'negatively_regulates'\n",
    "edges.loc[lambda df: df['bl_pred'] == \"inhibits\", \"bl_pred\"] = \"negatively_regulates\""
   ]
  },
  {
   "cell_type": "code",
   "execution_count": 23,
   "metadata": {},
   "outputs": [],
   "source": [
    "# associated_with/related_to edges with domain: gene, range: disease; rename to gene_associated_with_condition, \n",
    "# and leave the rest alone\n",
    "edges.loc[lambda df:(df['bl_pred'] == \"related_to\") & (df['bl_domain'] == \"Gene\") & \n",
    "      (df['bl_range'] == \"DiseaseOrPhenotypicFeature\"), \"bl_pred\"] = 'gene_associated_with_condition'"
   ]
  },
  {
   "cell_type": "code",
   "execution_count": 24,
   "metadata": {},
   "outputs": [
    {
     "data": {
      "text/plain": [
       "interacts_with                    2229571\n",
       "affects                           2186281\n",
       "location_of                       2062312\n",
       "coexists_with                     1842464\n",
       "positively_regulates              1312678\n",
       "negatively_regulates              1112598\n",
       "causes                             787261\n",
       "part_of                            760353\n",
       "related_to                         598317\n",
       "treats                             500524\n",
       "produces                           483339\n",
       "gene_associated_with_condition     364034\n",
       "predisposes                        276915\n",
       "subclass_of                        245915\n",
       "prevents                           149047\n",
       "precedes                            55586\n",
       "derives_into                        49203\n",
       "manifestation_of                    38284\n",
       "measures                             1066\n",
       "measurement_of                         44\n",
       "prep                                    3\n",
       "Name: bl_pred, dtype: int64"
      ]
     },
     "execution_count": 24,
     "metadata": {},
     "output_type": "execute_result"
    }
   ],
   "source": [
    "edges.bl_pred.value_counts()"
   ]
  },
  {
   "cell_type": "code",
   "execution_count": 25,
   "metadata": {},
   "outputs": [
    {
     "data": {
      "text/plain": [
       "gene_associated_with_condition    364034\n",
       "affects                           150084\n",
       "causes                            101421\n",
       "predisposes                        65249\n",
       "prevents                           21067\n",
       "part_of                            19966\n",
       "treats                             13955\n",
       "negatively_regulates                 532\n",
       "produces                              36\n",
       "positively_regulates                  30\n",
       "subclass_of                           16\n",
       "coexists_with                         16\n",
       "interacts_with                        15\n",
       "precedes                               7\n",
       "Name: bl_pred, dtype: int64"
      ]
     },
     "execution_count": 25,
     "metadata": {},
     "output_type": "execute_result"
    }
   ],
   "source": [
    "edges[(edges.bl_domain == \"Gene\") & (edges.bl_range == \"DiseaseOrPhenotypicFeature\")].bl_pred.value_counts()"
   ]
  },
  {
   "cell_type": "code",
   "execution_count": 26,
   "metadata": {},
   "outputs": [
    {
     "name": "stdout",
     "output_type": "stream",
     "text": [
      "171636\n",
      "171431\n"
     ]
    }
   ],
   "source": [
    "print(len(nodes))\n",
    "nodes = nodes[nodes.ID.isin(set(list(edges['SUBJECT_CUI']) + list(edges['OBJECT_CUI'])))]\n",
    "print(len(nodes))"
   ]
  },
  {
   "cell_type": "code",
   "execution_count": 27,
   "metadata": {},
   "outputs": [
    {
     "name": "stdout",
     "output_type": "stream",
     "text": [
      "15055795\n",
      "171431\n",
      "989\n",
      "21\n",
      "12\n"
     ]
    }
   ],
   "source": [
    "## summary\n",
    "edges['bl_type'] = edges['bl_domain'] + \".\" + edges['bl_pred'] + \".\" + edges['bl_range']\n",
    "print(len(edges))\n",
    "print(len(nodes))\n",
    "print(len(set(edges.bl_type)))\n",
    "print(len(set(edges.bl_pred)))\n",
    "print(len(set(nodes.blm_category)))"
   ]
  },
  {
   "cell_type": "code",
   "execution_count": 28,
   "metadata": {},
   "outputs": [],
   "source": [
    "del edges['bl_type']\n",
    "del edges['bl_domain']\n",
    "del edges['bl_range']"
   ]
  },
  {
   "cell_type": "code",
   "execution_count": 29,
   "metadata": {},
   "outputs": [
    {
     "data": {
      "text/html": [
       "<div>\n",
       "<style scoped>\n",
       "    .dataframe tbody tr th:only-of-type {\n",
       "        vertical-align: middle;\n",
       "    }\n",
       "\n",
       "    .dataframe tbody tr th {\n",
       "        vertical-align: top;\n",
       "    }\n",
       "\n",
       "    .dataframe thead th {\n",
       "        text-align: right;\n",
       "    }\n",
       "</style>\n",
       "<table border=\"1\" class=\"dataframe\">\n",
       "  <thead>\n",
       "    <tr style=\"text-align: right;\">\n",
       "      <th></th>\n",
       "      <th>SUBJECT_CUI</th>\n",
       "      <th>SEMMED_PRED</th>\n",
       "      <th>OBJECT_CUI</th>\n",
       "      <th>PMID</th>\n",
       "      <th>NEG</th>\n",
       "      <th>bl_pred</th>\n",
       "    </tr>\n",
       "  </thead>\n",
       "  <tbody>\n",
       "    <tr>\n",
       "      <th>0</th>\n",
       "      <td>C1412045</td>\n",
       "      <td>AFFECTS</td>\n",
       "      <td>C0005935</td>\n",
       "      <td>29798367</td>\n",
       "      <td>False</td>\n",
       "      <td>affects</td>\n",
       "    </tr>\n",
       "    <tr>\n",
       "      <th>1</th>\n",
       "      <td>C1412045</td>\n",
       "      <td>AFFECTS</td>\n",
       "      <td>C0028754</td>\n",
       "      <td>19789049</td>\n",
       "      <td>False</td>\n",
       "      <td>affects</td>\n",
       "    </tr>\n",
       "    <tr>\n",
       "      <th>2</th>\n",
       "      <td>C1412045</td>\n",
       "      <td>AFFECTS</td>\n",
       "      <td>C0036421</td>\n",
       "      <td>31505074;31505074</td>\n",
       "      <td>False</td>\n",
       "      <td>affects</td>\n",
       "    </tr>\n",
       "    <tr>\n",
       "      <th>3</th>\n",
       "      <td>C1412045</td>\n",
       "      <td>AFFECTS</td>\n",
       "      <td>C0597304</td>\n",
       "      <td>1409557</td>\n",
       "      <td>False</td>\n",
       "      <td>affects</td>\n",
       "    </tr>\n",
       "    <tr>\n",
       "      <th>4</th>\n",
       "      <td>C1412045</td>\n",
       "      <td>AFFECTS</td>\n",
       "      <td>C0599816</td>\n",
       "      <td>7617239</td>\n",
       "      <td>False</td>\n",
       "      <td>affects</td>\n",
       "    </tr>\n",
       "  </tbody>\n",
       "</table>\n",
       "</div>"
      ],
      "text/plain": [
       "  SUBJECT_CUI SEMMED_PRED OBJECT_CUI               PMID    NEG  bl_pred\n",
       "0    C1412045     AFFECTS   C0005935           29798367  False  affects\n",
       "1    C1412045     AFFECTS   C0028754           19789049  False  affects\n",
       "2    C1412045     AFFECTS   C0036421  31505074;31505074  False  affects\n",
       "3    C1412045     AFFECTS   C0597304            1409557  False  affects\n",
       "4    C1412045     AFFECTS   C0599816            7617239  False  affects"
      ]
     },
     "execution_count": 29,
     "metadata": {},
     "output_type": "execute_result"
    }
   ],
   "source": [
    "edges.head()"
   ]
  },
  {
   "cell_type": "code",
   "execution_count": 30,
   "metadata": {},
   "outputs": [],
   "source": [
    "edges.to_csv(EDGES_BIOLINK_TSV, sep='\\t', index=None)\n",
    "nodes.to_csv(NODES_BIOLINK_TSV, sep='\\t', index=None)"
   ]
  },
  {
   "cell_type": "code",
   "execution_count": null,
   "metadata": {},
   "outputs": [],
   "source": []
  }
 ],
 "metadata": {
  "kernelspec": {
   "display_name": "Python 3",
   "language": "python",
   "name": "python3"
  },
  "language_info": {
   "codemirror_mode": {
    "name": "ipython",
    "version": 3
   },
   "file_extension": ".py",
   "mimetype": "text/x-python",
   "name": "python",
   "nbconvert_exporter": "python",
   "pygments_lexer": "ipython3",
   "version": "3.8.1"
  }
 },
 "nbformat": 4,
 "nbformat_minor": 4
}
