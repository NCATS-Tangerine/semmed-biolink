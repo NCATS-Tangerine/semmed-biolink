{
 "cells": [
  {
   "cell_type": "markdown",
   "metadata": {},
   "source": [
    "# 04-filter_biolink\n",
    " - Filter specific domain and ranges for: CAUSES, LOCATION_OF, TREATS, PREDISPOSES, PREVENTS\n",
    " - rename 'converts_to' edge to 'derives_into'\n",
    " - rename 'isa' edge to 'subclass of'\n",
    " - rename 'disrupts' edge to 'affects'\n",
    " - rename 'associated_with' edge to 'related_to'\n",
    " - rename 'STIMULATES' edge to 'positively_regulates'\n",
    " - rename 'INHIBITS' edge to 'negatively_regulates'\n",
    " - associated_with/related_to edges with domain: gene, range: disease; rename to gene_associated_with_condition\\\n",
    "\n",
    "#### Note: this filtering step may be mildly confused by edges with nodes which have multiple Biolink category types(?)\n",
    " "
   ]
  },
  {
   "cell_type": "code",
   "execution_count": 1,
   "metadata": {},
   "outputs": [],
   "source": [
    "import os\n",
    "import pickle\n",
    "%matplotlib inline\n",
    "import pandas as pd\n",
    "from semmeddb_biolink_environment import *"
   ]
  },
  {
   "cell_type": "code",
   "execution_count": 2,
   "metadata": {},
   "outputs": [],
   "source": [
    "edges = pd.read_csv(EDGES_FILTERED_TSV, sep='\\t')\n",
    "nodes = pd.read_csv(NODES_FILTERED_TSV, sep='\\t')\n",
    "node_category = dict(zip(nodes.ID, nodes.blm_category))"
   ]
  },
  {
   "cell_type": "code",
   "execution_count": 3,
   "metadata": {},
   "outputs": [
    {
     "data": {
      "text/plain": [
       "MolecularEntity                    68031\n",
       "OrganismTaxon                      49722\n",
       "Disease                            35788\n",
       "NucleicAcidEntity                  26978\n",
       "Polypeptide                        23979\n",
       "Procedure                          15488\n",
       "DiseaseOrPhenotypicFeature         12626\n",
       "GrossAnatomicalStructure           10880\n",
       "Drug                                6185\n",
       "PhysiologicalProcess                5692\n",
       "Device                              4941\n",
       "MolecularActivity                   4541\n",
       "AnatomicalEntity                    3554\n",
       "Activity                            2952\n",
       "PhenotypicFeature                   2805\n",
       "InformationContentEntity            2681\n",
       "CellularComponent                   2535\n",
       "Phenomenon                          1596\n",
       "Cell                                1555\n",
       "Cohort                              1461\n",
       "SmallMolecule                       1392\n",
       "Behavior                            1229\n",
       "Agent                               1163\n",
       "Food                                 833\n",
       "PopulationOfIndividualOrganisms      682\n",
       "PhysicalEntity                       666\n",
       "GeographicLocation                   423\n",
       "ProcessedMaterial                    294\n",
       "Publication                          251\n",
       "ComplexMolecularMixture              161\n",
       "IndividualOrganism                    78\n",
       "BiologicalEntity                      61\n",
       "Protein                               50\n",
       "Vitamin                               43\n",
       "ChemicalMixture                       12\n",
       "Event                                 10\n",
       "NamedThing                             1\n",
       "Name: blm_category, dtype: int64"
      ]
     },
     "execution_count": 3,
     "metadata": {},
     "output_type": "execute_result"
    }
   ],
   "source": [
    "nodes.blm_category.value_counts()"
   ]
  },
  {
   "cell_type": "code",
   "execution_count": 4,
   "metadata": {},
   "outputs": [
    {
     "data": {
      "text/html": [
       "<div>\n",
       "<style scoped>\n",
       "    .dataframe tbody tr th:only-of-type {\n",
       "        vertical-align: middle;\n",
       "    }\n",
       "\n",
       "    .dataframe tbody tr th {\n",
       "        vertical-align: top;\n",
       "    }\n",
       "\n",
       "    .dataframe thead th {\n",
       "        text-align: right;\n",
       "    }\n",
       "</style>\n",
       "<table border=\"1\" class=\"dataframe\">\n",
       "  <thead>\n",
       "    <tr style=\"text-align: right;\">\n",
       "      <th></th>\n",
       "      <th>SUBJECT_CUI</th>\n",
       "      <th>PREDICATE</th>\n",
       "      <th>OBJECT_CUI</th>\n",
       "      <th>PMID</th>\n",
       "      <th>NEG</th>\n",
       "    </tr>\n",
       "  </thead>\n",
       "  <tbody>\n",
       "    <tr>\n",
       "      <th>0</th>\n",
       "      <td>C1412045</td>\n",
       "      <td>AFFECTS</td>\n",
       "      <td>C0005935</td>\n",
       "      <td>29798367</td>\n",
       "      <td>False</td>\n",
       "    </tr>\n",
       "    <tr>\n",
       "      <th>1</th>\n",
       "      <td>C1412045</td>\n",
       "      <td>AFFECTS</td>\n",
       "      <td>C0020291</td>\n",
       "      <td>6298464</td>\n",
       "      <td>False</td>\n",
       "    </tr>\n",
       "    <tr>\n",
       "      <th>2</th>\n",
       "      <td>C1412045</td>\n",
       "      <td>AFFECTS</td>\n",
       "      <td>C0028754</td>\n",
       "      <td>19789049</td>\n",
       "      <td>False</td>\n",
       "    </tr>\n",
       "    <tr>\n",
       "      <th>3</th>\n",
       "      <td>C1412045</td>\n",
       "      <td>AFFECTS</td>\n",
       "      <td>C0036421</td>\n",
       "      <td>31505074;31505074</td>\n",
       "      <td>False</td>\n",
       "    </tr>\n",
       "    <tr>\n",
       "      <th>4</th>\n",
       "      <td>C1412045</td>\n",
       "      <td>AFFECTS</td>\n",
       "      <td>C0597304</td>\n",
       "      <td>1409557</td>\n",
       "      <td>False</td>\n",
       "    </tr>\n",
       "  </tbody>\n",
       "</table>\n",
       "</div>"
      ],
      "text/plain": [
       "  SUBJECT_CUI PREDICATE OBJECT_CUI               PMID    NEG\n",
       "0    C1412045   AFFECTS   C0005935           29798367  False\n",
       "1    C1412045   AFFECTS   C0020291            6298464  False\n",
       "2    C1412045   AFFECTS   C0028754           19789049  False\n",
       "3    C1412045   AFFECTS   C0036421  31505074;31505074  False\n",
       "4    C1412045   AFFECTS   C0597304            1409557  False"
      ]
     },
     "execution_count": 4,
     "metadata": {},
     "output_type": "execute_result"
    }
   ],
   "source": [
    "edges.head()"
   ]
  },
  {
   "cell_type": "code",
   "execution_count": 5,
   "metadata": {},
   "outputs": [
    {
     "data": {
      "text/html": [
       "<div>\n",
       "<style scoped>\n",
       "    .dataframe tbody tr th:only-of-type {\n",
       "        vertical-align: middle;\n",
       "    }\n",
       "\n",
       "    .dataframe tbody tr th {\n",
       "        vertical-align: top;\n",
       "    }\n",
       "\n",
       "    .dataframe thead th {\n",
       "        text-align: right;\n",
       "    }\n",
       "</style>\n",
       "<table border=\"1\" class=\"dataframe\">\n",
       "  <thead>\n",
       "    <tr style=\"text-align: right;\">\n",
       "      <th></th>\n",
       "      <th>SUBJECT_CUI</th>\n",
       "      <th>PREDICATE</th>\n",
       "      <th>OBJECT_CUI</th>\n",
       "      <th>PMID</th>\n",
       "      <th>NEG</th>\n",
       "      <th>bl_domain</th>\n",
       "      <th>bl_pred</th>\n",
       "      <th>bl_range</th>\n",
       "      <th>bl_type</th>\n",
       "    </tr>\n",
       "  </thead>\n",
       "  <tbody>\n",
       "    <tr>\n",
       "      <th>0</th>\n",
       "      <td>C1412045</td>\n",
       "      <td>AFFECTS</td>\n",
       "      <td>C0005935</td>\n",
       "      <td>29798367</td>\n",
       "      <td>False</td>\n",
       "      <td>NucleicAcidEntity</td>\n",
       "      <td>affects</td>\n",
       "      <td>PhysiologicalProcess</td>\n",
       "      <td>NucleicAcidEntity.affects.PhysiologicalProcess</td>\n",
       "    </tr>\n",
       "    <tr>\n",
       "      <th>1</th>\n",
       "      <td>C1412045</td>\n",
       "      <td>AFFECTS</td>\n",
       "      <td>C0020291</td>\n",
       "      <td>6298464</td>\n",
       "      <td>False</td>\n",
       "      <td>NucleicAcidEntity</td>\n",
       "      <td>affects</td>\n",
       "      <td>Phenomenon</td>\n",
       "      <td>NucleicAcidEntity.affects.Phenomenon</td>\n",
       "    </tr>\n",
       "    <tr>\n",
       "      <th>2</th>\n",
       "      <td>C1412045</td>\n",
       "      <td>AFFECTS</td>\n",
       "      <td>C0028754</td>\n",
       "      <td>19789049</td>\n",
       "      <td>False</td>\n",
       "      <td>NucleicAcidEntity</td>\n",
       "      <td>affects</td>\n",
       "      <td>Disease</td>\n",
       "      <td>NucleicAcidEntity.affects.Disease</td>\n",
       "    </tr>\n",
       "    <tr>\n",
       "      <th>3</th>\n",
       "      <td>C1412045</td>\n",
       "      <td>AFFECTS</td>\n",
       "      <td>C0036421</td>\n",
       "      <td>31505074;31505074</td>\n",
       "      <td>False</td>\n",
       "      <td>NucleicAcidEntity</td>\n",
       "      <td>affects</td>\n",
       "      <td>Disease</td>\n",
       "      <td>NucleicAcidEntity.affects.Disease</td>\n",
       "    </tr>\n",
       "    <tr>\n",
       "      <th>4</th>\n",
       "      <td>C1412045</td>\n",
       "      <td>AFFECTS</td>\n",
       "      <td>C0597304</td>\n",
       "      <td>1409557</td>\n",
       "      <td>False</td>\n",
       "      <td>NucleicAcidEntity</td>\n",
       "      <td>affects</td>\n",
       "      <td>MolecularActivity</td>\n",
       "      <td>NucleicAcidEntity.affects.MolecularActivity</td>\n",
       "    </tr>\n",
       "  </tbody>\n",
       "</table>\n",
       "</div>"
      ],
      "text/plain": [
       "  SUBJECT_CUI PREDICATE OBJECT_CUI               PMID    NEG  \\\n",
       "0    C1412045   AFFECTS   C0005935           29798367  False   \n",
       "1    C1412045   AFFECTS   C0020291            6298464  False   \n",
       "2    C1412045   AFFECTS   C0028754           19789049  False   \n",
       "3    C1412045   AFFECTS   C0036421  31505074;31505074  False   \n",
       "4    C1412045   AFFECTS   C0597304            1409557  False   \n",
       "\n",
       "           bl_domain  bl_pred              bl_range  \\\n",
       "0  NucleicAcidEntity  affects  PhysiologicalProcess   \n",
       "1  NucleicAcidEntity  affects            Phenomenon   \n",
       "2  NucleicAcidEntity  affects               Disease   \n",
       "3  NucleicAcidEntity  affects               Disease   \n",
       "4  NucleicAcidEntity  affects     MolecularActivity   \n",
       "\n",
       "                                          bl_type  \n",
       "0  NucleicAcidEntity.affects.PhysiologicalProcess  \n",
       "1            NucleicAcidEntity.affects.Phenomenon  \n",
       "2               NucleicAcidEntity.affects.Disease  \n",
       "3               NucleicAcidEntity.affects.Disease  \n",
       "4     NucleicAcidEntity.affects.MolecularActivity  "
      ]
     },
     "execution_count": 5,
     "metadata": {},
     "output_type": "execute_result"
    }
   ],
   "source": [
    "# generate domain and range from the biolink node category (may be multiple?)\n",
    "edges['bl_domain'] = edges.SUBJECT_CUI.apply(node_category.get)\n",
    "edges['bl_pred'] = edges.PREDICATE.apply(lambda p: p.lower())\n",
    "edges['bl_range'] = edges.OBJECT_CUI.apply(node_category.get)\n",
    "edges['bl_type'] = edges['bl_domain'] + \".\" + edges['bl_pred'] + \".\" + edges['bl_range']\n",
    "edges.head()"
   ]
  },
  {
   "cell_type": "code",
   "execution_count": 6,
   "metadata": {},
   "outputs": [
    {
     "data": {
      "text/html": [
       "<div>\n",
       "<style scoped>\n",
       "    .dataframe tbody tr th:only-of-type {\n",
       "        vertical-align: middle;\n",
       "    }\n",
       "\n",
       "    .dataframe tbody tr th {\n",
       "        vertical-align: top;\n",
       "    }\n",
       "\n",
       "    .dataframe thead th {\n",
       "        text-align: right;\n",
       "    }\n",
       "</style>\n",
       "<table border=\"1\" class=\"dataframe\">\n",
       "  <thead>\n",
       "    <tr style=\"text-align: right;\">\n",
       "      <th></th>\n",
       "      <th>SUBJECT_CUI</th>\n",
       "      <th>PREDICATE</th>\n",
       "      <th>OBJECT_CUI</th>\n",
       "      <th>PMID</th>\n",
       "      <th>NEG</th>\n",
       "      <th>bl_domain</th>\n",
       "      <th>bl_pred</th>\n",
       "      <th>bl_range</th>\n",
       "      <th>bl_type</th>\n",
       "    </tr>\n",
       "  </thead>\n",
       "  <tbody>\n",
       "    <tr>\n",
       "      <th>0</th>\n",
       "      <td>C1412045</td>\n",
       "      <td>AFFECTS</td>\n",
       "      <td>C0005935</td>\n",
       "      <td>29798367</td>\n",
       "      <td>False</td>\n",
       "      <td>NucleicAcidEntity</td>\n",
       "      <td>affects</td>\n",
       "      <td>PhysiologicalProcess</td>\n",
       "      <td>NucleicAcidEntity.affects.PhysiologicalProcess</td>\n",
       "    </tr>\n",
       "    <tr>\n",
       "      <th>1</th>\n",
       "      <td>C1412045</td>\n",
       "      <td>AFFECTS</td>\n",
       "      <td>C0020291</td>\n",
       "      <td>6298464</td>\n",
       "      <td>False</td>\n",
       "      <td>NucleicAcidEntity</td>\n",
       "      <td>affects</td>\n",
       "      <td>Phenomenon</td>\n",
       "      <td>NucleicAcidEntity.affects.Phenomenon</td>\n",
       "    </tr>\n",
       "    <tr>\n",
       "      <th>2</th>\n",
       "      <td>C1412045</td>\n",
       "      <td>AFFECTS</td>\n",
       "      <td>C0028754</td>\n",
       "      <td>19789049</td>\n",
       "      <td>False</td>\n",
       "      <td>NucleicAcidEntity</td>\n",
       "      <td>affects</td>\n",
       "      <td>Disease</td>\n",
       "      <td>NucleicAcidEntity.affects.Disease</td>\n",
       "    </tr>\n",
       "    <tr>\n",
       "      <th>3</th>\n",
       "      <td>C1412045</td>\n",
       "      <td>AFFECTS</td>\n",
       "      <td>C0036421</td>\n",
       "      <td>31505074;31505074</td>\n",
       "      <td>False</td>\n",
       "      <td>NucleicAcidEntity</td>\n",
       "      <td>affects</td>\n",
       "      <td>Disease</td>\n",
       "      <td>NucleicAcidEntity.affects.Disease</td>\n",
       "    </tr>\n",
       "    <tr>\n",
       "      <th>4</th>\n",
       "      <td>C1412045</td>\n",
       "      <td>AFFECTS</td>\n",
       "      <td>C0597304</td>\n",
       "      <td>1409557</td>\n",
       "      <td>False</td>\n",
       "      <td>NucleicAcidEntity</td>\n",
       "      <td>affects</td>\n",
       "      <td>MolecularActivity</td>\n",
       "      <td>NucleicAcidEntity.affects.MolecularActivity</td>\n",
       "    </tr>\n",
       "  </tbody>\n",
       "</table>\n",
       "</div>"
      ],
      "text/plain": [
       "  SUBJECT_CUI PREDICATE OBJECT_CUI               PMID    NEG  \\\n",
       "0    C1412045   AFFECTS   C0005935           29798367  False   \n",
       "1    C1412045   AFFECTS   C0020291            6298464  False   \n",
       "2    C1412045   AFFECTS   C0028754           19789049  False   \n",
       "3    C1412045   AFFECTS   C0036421  31505074;31505074  False   \n",
       "4    C1412045   AFFECTS   C0597304            1409557  False   \n",
       "\n",
       "           bl_domain  bl_pred              bl_range  \\\n",
       "0  NucleicAcidEntity  affects  PhysiologicalProcess   \n",
       "1  NucleicAcidEntity  affects            Phenomenon   \n",
       "2  NucleicAcidEntity  affects               Disease   \n",
       "3  NucleicAcidEntity  affects               Disease   \n",
       "4  NucleicAcidEntity  affects     MolecularActivity   \n",
       "\n",
       "                                          bl_type  \n",
       "0  NucleicAcidEntity.affects.PhysiologicalProcess  \n",
       "1            NucleicAcidEntity.affects.Phenomenon  \n",
       "2               NucleicAcidEntity.affects.Disease  \n",
       "3               NucleicAcidEntity.affects.Disease  \n",
       "4     NucleicAcidEntity.affects.MolecularActivity  "
      ]
     },
     "execution_count": 6,
     "metadata": {},
     "output_type": "execute_result"
    }
   ],
   "source": [
    "# drop edges unmapped to a bl_type\n",
    "edges.dropna(subset=['bl_type'], inplace=True)\n",
    "edges.head()"
   ]
  },
  {
   "cell_type": "code",
   "execution_count": 7,
   "metadata": {},
   "outputs": [],
   "source": [
    "edges.rename(columns={'PREDICATE': 'SEMMED_PRED'}, inplace=True)"
   ]
  },
  {
   "cell_type": "code",
   "execution_count": 8,
   "metadata": {},
   "outputs": [
    {
     "data": {
      "text/plain": [
       "location_of         3308116\n",
       "interacts_with      2536607\n",
       "affects             2355724\n",
       "coexists_with       2113139\n",
       "treats              1517832\n",
       "stimulates          1437115\n",
       "part_of             1371158\n",
       "inhibits            1219056\n",
       "associated_with     1146716\n",
       "causes              1066883\n",
       "disrupts             658150\n",
       "produces             540309\n",
       "predisposes          378655\n",
       "isa                  372949\n",
       "prevents             250853\n",
       "measures             237404\n",
       "precedes             169184\n",
       "converts_to           53282\n",
       "manifestation_of      45009\n",
       "measurement_of         1166\n",
       "Name: bl_pred, dtype: int64"
      ]
     },
     "execution_count": 8,
     "metadata": {},
     "output_type": "execute_result"
    }
   ],
   "source": [
    "edges.bl_pred.value_counts()"
   ]
  },
  {
   "cell_type": "code",
   "execution_count": 9,
   "metadata": {},
   "outputs": [
    {
     "data": {
      "text/plain": [
       "20"
      ]
     },
     "execution_count": 9,
     "metadata": {},
     "output_type": "execute_result"
    }
   ],
   "source": [
    "len(set(edges.bl_pred))"
   ]
  },
  {
   "cell_type": "code",
   "execution_count": 10,
   "metadata": {},
   "outputs": [],
   "source": [
    "# get the most common domain and ranges for each pred\n",
    "pred_type_count = edges.groupby(\"bl_pred\").bl_type.value_counts()"
   ]
  },
  {
   "cell_type": "code",
   "execution_count": 11,
   "metadata": {},
   "outputs": [
    {
     "data": {
      "text/plain": [
       "bl_type\n",
       "MolecularEntity.prevents.Disease                         83665\n",
       "Procedure.prevents.Disease                               49202\n",
       "NucleicAcidEntity.prevents.Disease                       24531\n",
       "Polypeptide.prevents.Disease                             24280\n",
       "Drug.prevents.Disease                                    15220\n",
       "Activity.prevents.Disease                                 8623\n",
       "Device.prevents.Disease                                   7848\n",
       "MolecularEntity.prevents.PhenotypicFeature                6902\n",
       "Procedure.prevents.PhenotypicFeature                      6360\n",
       "Activity.prevents.DiseaseOrPhenotypicFeature              3900\n",
       "Procedure.prevents.DiseaseOrPhenotypicFeature             2293\n",
       "MolecularEntity.prevents.DiseaseOrPhenotypicFeature       2170\n",
       "Activity.prevents.PhenotypicFeature                       1425\n",
       "Drug.prevents.PhenotypicFeature                           1410\n",
       "SmallMolecule.prevents.Disease                            1268\n",
       "Device.prevents.PhenotypicFeature                         1022\n",
       "Polypeptide.prevents.OrganismTaxon                         801\n",
       "Procedure.prevents.OrganismTaxon                           766\n",
       "Polypeptide.prevents.PhenotypicFeature                     684\n",
       "MolecularEntity.prevents.InformationContentEntity          550\n",
       "PhysicalEntity.prevents.Disease                            504\n",
       "Polypeptide.prevents.DiseaseOrPhenotypicFeature            479\n",
       "Drug.prevents.DiseaseOrPhenotypicFeature                   450\n",
       "MolecularEntity.prevents.OrganismTaxon                     450\n",
       "Drug.prevents.OrganismTaxon                                443\n",
       "Vitamin.prevents.Disease                                   419\n",
       "MolecularEntity.prevents.PhysiologicalProcess              356\n",
       "InformationContentEntity.prevents.Disease                  256\n",
       "NucleicAcidEntity.prevents.DiseaseOrPhenotypicFeature      256\n",
       "Device.prevents.DiseaseOrPhenotypicFeature                 250\n",
       "Name: bl_type, dtype: int64"
      ]
     },
     "execution_count": 11,
     "metadata": {},
     "output_type": "execute_result"
    }
   ],
   "source": [
    "pred_type_count['prevents'][:30]"
   ]
  },
  {
   "cell_type": "code",
   "execution_count": 12,
   "metadata": {},
   "outputs": [],
   "source": [
    "# working off https://docs.google.com/spreadsheets/d/1zXitcR1QjHyh6WocukgshSR7IoAVg7MJQG-HNh96Jec/edit#gid=579577728\n",
    "# TODO: Not sure if this needs to be reviewed relative to Biolink 2.0\n",
    "allowed_domain_range = {\n",
    "    'causes': (None, {'BiologicalProcessOrActivity', 'DiseaseOrPhenotypicFeature'}),\n",
    "    'location_of': ({'GrossAnatomicalStructure', 'AnatomicalEntity', 'CellularComponent', 'Cell'}, None),\n",
    "    'treats': (None, {'DiseaseOrPhenotypicFeature'}),\n",
    "    'predisposes': (None, {'DiseaseOrPhenotypicFeature'}),\n",
    "    'prevents': (None, {'DiseaseOrPhenotypicFeature'}),\n",
    "}"
   ]
  },
  {
   "cell_type": "code",
   "execution_count": 13,
   "metadata": {},
   "outputs": [],
   "source": [
    "def is_allowed_edge(domain, pred, rnge):\n",
    "    allowed_domain, allowed_range = allowed_domain_range[pred] if pred in allowed_domain_range else (None, None)\n",
    "    return ((domain in allowed_domain if allowed_domain else True) and \n",
    "              (rnge in allowed_range if allowed_range else True))"
   ]
  },
  {
   "cell_type": "code",
   "execution_count": 14,
   "metadata": {},
   "outputs": [],
   "source": [
    "d = {x: is_allowed_edge(*x.split(\".\")) for x in set(edges.bl_type)}\n",
    "allowed_edges = {k for k,v in d.items() if v}"
   ]
  },
  {
   "cell_type": "code",
   "execution_count": 15,
   "metadata": {},
   "outputs": [
    {
     "name": "stdout",
     "output_type": "stream",
     "text": [
      "True     16981175\n",
      "False     3798132\n",
      "Name: bl_type, dtype: int64\n"
     ]
    }
   ],
   "source": [
    "idx = edges.bl_type.isin(allowed_edges)\n",
    "print(idx.value_counts())\n",
    "edges = edges[idx]"
   ]
  },
  {
   "cell_type": "code",
   "execution_count": 16,
   "metadata": {},
   "outputs": [
    {
     "name": "stdout",
     "output_type": "stream",
     "text": [
      "16981175\n"
     ]
    }
   ],
   "source": [
    "print(len(edges))"
   ]
  },
  {
   "cell_type": "code",
   "execution_count": 17,
   "metadata": {},
   "outputs": [
    {
     "data": {
      "text/html": [
       "<div>\n",
       "<style scoped>\n",
       "    .dataframe tbody tr th:only-of-type {\n",
       "        vertical-align: middle;\n",
       "    }\n",
       "\n",
       "    .dataframe tbody tr th {\n",
       "        vertical-align: top;\n",
       "    }\n",
       "\n",
       "    .dataframe thead th {\n",
       "        text-align: right;\n",
       "    }\n",
       "</style>\n",
       "<table border=\"1\" class=\"dataframe\">\n",
       "  <thead>\n",
       "    <tr style=\"text-align: right;\">\n",
       "      <th></th>\n",
       "      <th>SUBJECT_CUI</th>\n",
       "      <th>SEMMED_PRED</th>\n",
       "      <th>OBJECT_CUI</th>\n",
       "      <th>PMID</th>\n",
       "      <th>NEG</th>\n",
       "      <th>bl_domain</th>\n",
       "      <th>bl_pred</th>\n",
       "      <th>bl_range</th>\n",
       "      <th>bl_type</th>\n",
       "    </tr>\n",
       "  </thead>\n",
       "  <tbody>\n",
       "    <tr>\n",
       "      <th>0</th>\n",
       "      <td>C1412045</td>\n",
       "      <td>AFFECTS</td>\n",
       "      <td>C0005935</td>\n",
       "      <td>29798367</td>\n",
       "      <td>False</td>\n",
       "      <td>NucleicAcidEntity</td>\n",
       "      <td>affects</td>\n",
       "      <td>PhysiologicalProcess</td>\n",
       "      <td>NucleicAcidEntity.affects.PhysiologicalProcess</td>\n",
       "    </tr>\n",
       "    <tr>\n",
       "      <th>1</th>\n",
       "      <td>C1412045</td>\n",
       "      <td>AFFECTS</td>\n",
       "      <td>C0020291</td>\n",
       "      <td>6298464</td>\n",
       "      <td>False</td>\n",
       "      <td>NucleicAcidEntity</td>\n",
       "      <td>affects</td>\n",
       "      <td>Phenomenon</td>\n",
       "      <td>NucleicAcidEntity.affects.Phenomenon</td>\n",
       "    </tr>\n",
       "    <tr>\n",
       "      <th>2</th>\n",
       "      <td>C1412045</td>\n",
       "      <td>AFFECTS</td>\n",
       "      <td>C0028754</td>\n",
       "      <td>19789049</td>\n",
       "      <td>False</td>\n",
       "      <td>NucleicAcidEntity</td>\n",
       "      <td>affects</td>\n",
       "      <td>Disease</td>\n",
       "      <td>NucleicAcidEntity.affects.Disease</td>\n",
       "    </tr>\n",
       "    <tr>\n",
       "      <th>3</th>\n",
       "      <td>C1412045</td>\n",
       "      <td>AFFECTS</td>\n",
       "      <td>C0036421</td>\n",
       "      <td>31505074;31505074</td>\n",
       "      <td>False</td>\n",
       "      <td>NucleicAcidEntity</td>\n",
       "      <td>affects</td>\n",
       "      <td>Disease</td>\n",
       "      <td>NucleicAcidEntity.affects.Disease</td>\n",
       "    </tr>\n",
       "    <tr>\n",
       "      <th>4</th>\n",
       "      <td>C1412045</td>\n",
       "      <td>AFFECTS</td>\n",
       "      <td>C0597304</td>\n",
       "      <td>1409557</td>\n",
       "      <td>False</td>\n",
       "      <td>NucleicAcidEntity</td>\n",
       "      <td>affects</td>\n",
       "      <td>MolecularActivity</td>\n",
       "      <td>NucleicAcidEntity.affects.MolecularActivity</td>\n",
       "    </tr>\n",
       "  </tbody>\n",
       "</table>\n",
       "</div>"
      ],
      "text/plain": [
       "  SUBJECT_CUI SEMMED_PRED OBJECT_CUI               PMID    NEG  \\\n",
       "0    C1412045     AFFECTS   C0005935           29798367  False   \n",
       "1    C1412045     AFFECTS   C0020291            6298464  False   \n",
       "2    C1412045     AFFECTS   C0028754           19789049  False   \n",
       "3    C1412045     AFFECTS   C0036421  31505074;31505074  False   \n",
       "4    C1412045     AFFECTS   C0597304            1409557  False   \n",
       "\n",
       "           bl_domain  bl_pred              bl_range  \\\n",
       "0  NucleicAcidEntity  affects  PhysiologicalProcess   \n",
       "1  NucleicAcidEntity  affects            Phenomenon   \n",
       "2  NucleicAcidEntity  affects               Disease   \n",
       "3  NucleicAcidEntity  affects               Disease   \n",
       "4  NucleicAcidEntity  affects     MolecularActivity   \n",
       "\n",
       "                                          bl_type  \n",
       "0  NucleicAcidEntity.affects.PhysiologicalProcess  \n",
       "1            NucleicAcidEntity.affects.Phenomenon  \n",
       "2               NucleicAcidEntity.affects.Disease  \n",
       "3               NucleicAcidEntity.affects.Disease  \n",
       "4     NucleicAcidEntity.affects.MolecularActivity  "
      ]
     },
     "execution_count": 17,
     "metadata": {},
     "output_type": "execute_result"
    }
   ],
   "source": [
    "edges.head()"
   ]
  },
  {
   "cell_type": "code",
   "execution_count": 18,
   "metadata": {},
   "outputs": [],
   "source": [
    "# rename 'converts_to' edge to 'derives_into'\n",
    "edges.loc[lambda df: df['bl_pred'] == \"converts_to\", \"bl_pred\"] = \"derives_into\""
   ]
  },
  {
   "cell_type": "code",
   "execution_count": 19,
   "metadata": {},
   "outputs": [],
   "source": [
    "# rename 'isa' edge to 'subclass of'\n",
    "edges.loc[lambda df: df['bl_pred'] == \"isa\", \"bl_pred\"] = \"subclass_of\""
   ]
  },
  {
   "cell_type": "code",
   "execution_count": 20,
   "metadata": {},
   "outputs": [],
   "source": [
    "# rename 'disrupts' edge to 'affects'\n",
    "edges.loc[lambda df: df['bl_pred'] == \"disrupts\", \"bl_pred\"] = \"affects\""
   ]
  },
  {
   "cell_type": "code",
   "execution_count": 21,
   "metadata": {},
   "outputs": [],
   "source": [
    "# rename 'associated_with' edge to 'related_to'\n",
    "edges.loc[lambda df: df['bl_pred'] == \"associated_with\", \"bl_pred\"] = \"related_to\""
   ]
  },
  {
   "cell_type": "code",
   "execution_count": 22,
   "metadata": {},
   "outputs": [],
   "source": [
    "# rename 'STIMULATES' edge to 'entity_positively_regulates_entity'\n",
    "edges.loc[lambda df: df['bl_pred'] == \"stimulates\", \"bl_pred\"] = \"entity_positively_regulates_entity\""
   ]
  },
  {
   "cell_type": "code",
   "execution_count": 23,
   "metadata": {},
   "outputs": [],
   "source": [
    "# rename 'INHIBITS' edge to 'entity_negatively_regulates_entity'\n",
    "edges.loc[lambda df: df['bl_pred'] == \"inhibits\", \"bl_pred\"] = \"entity_negatively_regulates_entity\""
   ]
  },
  {
   "cell_type": "code",
   "execution_count": 24,
   "metadata": {},
   "outputs": [],
   "source": [
    "# associated_with/related_to edges with domain: gene, range: disease; rename to gene_associated_with_condition, \n",
    "# and leave the rest alone\n",
    "edges.loc[lambda df:(df['bl_pred'] == \"related_to\") & (df['bl_domain'] == \"Gene\") & \n",
    "      (df['bl_range'] == \"DiseaseOrPhenotypicFeature\"), \"bl_pred\"] = 'gene_associated_with_condition'"
   ]
  },
  {
   "cell_type": "code",
   "execution_count": 25,
   "metadata": {},
   "outputs": [
    {
     "data": {
      "text/plain": [
       "affects                               3013874\n",
       "interacts_with                        2536607\n",
       "location_of                           2442878\n",
       "coexists_with                         2113139\n",
       "entity_positively_regulates_entity    1437115\n",
       "part_of                               1371158\n",
       "entity_negatively_regulates_entity    1219056\n",
       "related_to                            1146716\n",
       "produces                               540309\n",
       "subclass_of                            372949\n",
       "measures                               237404\n",
       "precedes                               169184\n",
       "treats                                 160019\n",
       "causes                                  87507\n",
       "derives_into                            53282\n",
       "manifestation_of                        45009\n",
       "predisposes                             23859\n",
       "prevents                                 9944\n",
       "measurement_of                           1166\n",
       "Name: bl_pred, dtype: int64"
      ]
     },
     "execution_count": 25,
     "metadata": {},
     "output_type": "execute_result"
    }
   ],
   "source": [
    "edges.bl_pred.value_counts()"
   ]
  },
  {
   "cell_type": "code",
   "execution_count": 26,
   "metadata": {},
   "outputs": [
    {
     "data": {
      "text/plain": [
       "Series([], Name: bl_pred, dtype: int64)"
      ]
     },
     "execution_count": 26,
     "metadata": {},
     "output_type": "execute_result"
    }
   ],
   "source": [
    "edges[(edges.bl_domain == \"Gene\") & (edges.bl_range == \"DiseaseOrPhenotypicFeature\")].bl_pred.value_counts()"
   ]
  },
  {
   "cell_type": "code",
   "execution_count": 27,
   "metadata": {},
   "outputs": [
    {
     "name": "stdout",
     "output_type": "stream",
     "text": [
      "291339\n",
      "268561\n"
     ]
    }
   ],
   "source": [
    "print(len(nodes))\n",
    "nodes = nodes[nodes.ID.isin(set(list(edges['SUBJECT_CUI']) + list(edges['OBJECT_CUI'])))]\n",
    "print(len(nodes))"
   ]
  },
  {
   "cell_type": "code",
   "execution_count": 28,
   "metadata": {},
   "outputs": [
    {
     "name": "stdout",
     "output_type": "stream",
     "text": [
      "16981175\n",
      "268561\n",
      "4328\n",
      "19\n",
      "37\n"
     ]
    }
   ],
   "source": [
    "## summary\n",
    "edges['bl_type'] = edges['bl_domain'] + \".\" + edges['bl_pred'] + \".\" + edges['bl_range']\n",
    "print(len(edges))\n",
    "print(len(nodes))\n",
    "print(len(set(edges.bl_type)))\n",
    "print(len(set(edges.bl_pred)))\n",
    "print(len(set(nodes.blm_category)))"
   ]
  },
  {
   "cell_type": "code",
   "execution_count": 29,
   "metadata": {},
   "outputs": [],
   "source": [
    "del edges['bl_type']\n",
    "del edges['bl_domain']\n",
    "del edges['bl_range']"
   ]
  },
  {
   "cell_type": "code",
   "execution_count": 30,
   "metadata": {},
   "outputs": [
    {
     "data": {
      "text/html": [
       "<div>\n",
       "<style scoped>\n",
       "    .dataframe tbody tr th:only-of-type {\n",
       "        vertical-align: middle;\n",
       "    }\n",
       "\n",
       "    .dataframe tbody tr th {\n",
       "        vertical-align: top;\n",
       "    }\n",
       "\n",
       "    .dataframe thead th {\n",
       "        text-align: right;\n",
       "    }\n",
       "</style>\n",
       "<table border=\"1\" class=\"dataframe\">\n",
       "  <thead>\n",
       "    <tr style=\"text-align: right;\">\n",
       "      <th></th>\n",
       "      <th>SUBJECT_CUI</th>\n",
       "      <th>SEMMED_PRED</th>\n",
       "      <th>OBJECT_CUI</th>\n",
       "      <th>PMID</th>\n",
       "      <th>NEG</th>\n",
       "      <th>bl_pred</th>\n",
       "    </tr>\n",
       "  </thead>\n",
       "  <tbody>\n",
       "    <tr>\n",
       "      <th>0</th>\n",
       "      <td>C1412045</td>\n",
       "      <td>AFFECTS</td>\n",
       "      <td>C0005935</td>\n",
       "      <td>29798367</td>\n",
       "      <td>False</td>\n",
       "      <td>affects</td>\n",
       "    </tr>\n",
       "    <tr>\n",
       "      <th>1</th>\n",
       "      <td>C1412045</td>\n",
       "      <td>AFFECTS</td>\n",
       "      <td>C0020291</td>\n",
       "      <td>6298464</td>\n",
       "      <td>False</td>\n",
       "      <td>affects</td>\n",
       "    </tr>\n",
       "    <tr>\n",
       "      <th>2</th>\n",
       "      <td>C1412045</td>\n",
       "      <td>AFFECTS</td>\n",
       "      <td>C0028754</td>\n",
       "      <td>19789049</td>\n",
       "      <td>False</td>\n",
       "      <td>affects</td>\n",
       "    </tr>\n",
       "    <tr>\n",
       "      <th>3</th>\n",
       "      <td>C1412045</td>\n",
       "      <td>AFFECTS</td>\n",
       "      <td>C0036421</td>\n",
       "      <td>31505074;31505074</td>\n",
       "      <td>False</td>\n",
       "      <td>affects</td>\n",
       "    </tr>\n",
       "    <tr>\n",
       "      <th>4</th>\n",
       "      <td>C1412045</td>\n",
       "      <td>AFFECTS</td>\n",
       "      <td>C0597304</td>\n",
       "      <td>1409557</td>\n",
       "      <td>False</td>\n",
       "      <td>affects</td>\n",
       "    </tr>\n",
       "  </tbody>\n",
       "</table>\n",
       "</div>"
      ],
      "text/plain": [
       "  SUBJECT_CUI SEMMED_PRED OBJECT_CUI               PMID    NEG  bl_pred\n",
       "0    C1412045     AFFECTS   C0005935           29798367  False  affects\n",
       "1    C1412045     AFFECTS   C0020291            6298464  False  affects\n",
       "2    C1412045     AFFECTS   C0028754           19789049  False  affects\n",
       "3    C1412045     AFFECTS   C0036421  31505074;31505074  False  affects\n",
       "4    C1412045     AFFECTS   C0597304            1409557  False  affects"
      ]
     },
     "execution_count": 30,
     "metadata": {},
     "output_type": "execute_result"
    }
   ],
   "source": [
    "edges.head()"
   ]
  },
  {
   "cell_type": "code",
   "execution_count": 31,
   "metadata": {},
   "outputs": [],
   "source": [
    "edges.to_csv(EDGES_BIOLINK_TSV, sep='\\t', index=None)\n",
    "nodes.to_csv(NODES_BIOLINK_TSV, sep='\\t', index=None)"
   ]
  },
  {
   "cell_type": "code",
   "execution_count": null,
   "metadata": {},
   "outputs": [],
   "source": []
  }
 ],
 "metadata": {
  "kernelspec": {
   "display_name": "Python 3",
   "language": "python",
   "name": "python3"
  },
  "language_info": {
   "codemirror_mode": {
    "name": "ipython",
    "version": 3
   },
   "file_extension": ".py",
   "mimetype": "text/x-python",
   "name": "python",
   "nbconvert_exporter": "python",
   "pygments_lexer": "ipython3",
   "version": "3.8.1"
  }
 },
 "nbformat": 4,
 "nbformat_minor": 4
}
