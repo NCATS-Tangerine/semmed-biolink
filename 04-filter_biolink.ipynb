{
 "cells": [
  {
   "cell_type": "code",
   "execution_count": 1,
   "metadata": {},
   "outputs": [],
   "source": [
    "import os\n",
    "import pickle\n",
    "%matplotlib inline\n",
    "import pandas as pd\n",
    "import seaborn as sns\n",
    "import re\n",
    "from collections import defaultdict, Counter\n",
    "from tqdm import tqdm"
   ]
  },
  {
   "cell_type": "code",
   "execution_count": 2,
   "metadata": {},
   "outputs": [],
   "source": [
    "edges = pd.read_csv('edges_filtered2.csv')\n",
    "nodes = pd.read_csv(\"nodes_filtered2.csv\")\n",
    "abv = pd.read_csv(\"abv.csv\")\n",
    "name_abv = dict(zip(abv.full_name, abv.abv))\n",
    "abv_name = dict(zip(abv.abv, abv.full_name))"
   ]
  },
  {
   "cell_type": "code",
   "execution_count": 3,
   "metadata": {},
   "outputs": [],
   "source": [
    "#nodes\n",
    "# {name_abv.get(x):x for x in set(nodes.TYPE)}"
   ]
  },
  {
   "cell_type": "code",
   "execution_count": 4,
   "metadata": {},
   "outputs": [],
   "source": [
    "#edges\n",
    "# {abv_name.get(x):x for x in set(edges.PRED)}"
   ]
  },
  {
   "cell_type": "code",
   "execution_count": 5,
   "metadata": {},
   "outputs": [],
   "source": [
    "node_mapping = {\n",
    " 'Anatomy': 'anatomical_entity',\n",
    " 'Activities & Behaviors': 'activity_and_behavior',\n",
    " 'Chemicals & Drugs': 'chemical_substance',\n",
    " 'Disorders': 'disease',\n",
    " 'Genes & Molecular Sequences': 'genomic_entity',\n",
    " 'Living Beings': 'individual_organism',\n",
    " 'Objects': 'named_thing',\n",
    " 'Phenomena': 'biological_process',\n",
    " 'Physiology': 'biological_process',\n",
    "}"
   ]
  },
  {
   "cell_type": "code",
   "execution_count": 6,
   "metadata": {},
   "outputs": [
    {
     "data": {
      "text/html": [
       "<div>\n",
       "<style scoped>\n",
       "    .dataframe tbody tr th:only-of-type {\n",
       "        vertical-align: middle;\n",
       "    }\n",
       "\n",
       "    .dataframe tbody tr th {\n",
       "        vertical-align: top;\n",
       "    }\n",
       "\n",
       "    .dataframe thead th {\n",
       "        text-align: right;\n",
       "    }\n",
       "</style>\n",
       "<table border=\"1\" class=\"dataframe\">\n",
       "  <thead>\n",
       "    <tr style=\"text-align: right;\">\n",
       "      <th></th>\n",
       "      <th>ID</th>\n",
       "      <th>label</th>\n",
       "      <th>TYPE</th>\n",
       "      <th>bl_type</th>\n",
       "    </tr>\n",
       "  </thead>\n",
       "  <tbody>\n",
       "    <tr>\n",
       "      <th>0</th>\n",
       "      <td>C0038195</td>\n",
       "      <td>State Medicine</td>\n",
       "      <td>Activities &amp; Behaviors</td>\n",
       "      <td>activity_and_behavior</td>\n",
       "    </tr>\n",
       "    <tr>\n",
       "      <th>1</th>\n",
       "      <td>C1290952</td>\n",
       "      <td>Taking medication</td>\n",
       "      <td>Activities &amp; Behaviors</td>\n",
       "      <td>activity_and_behavior</td>\n",
       "    </tr>\n",
       "    <tr>\n",
       "      <th>2</th>\n",
       "      <td>C0085092</td>\n",
       "      <td>Parenting behavior</td>\n",
       "      <td>Activities &amp; Behaviors</td>\n",
       "      <td>activity_and_behavior</td>\n",
       "    </tr>\n",
       "    <tr>\n",
       "      <th>3</th>\n",
       "      <td>C1096771</td>\n",
       "      <td>Murderer</td>\n",
       "      <td>Activities &amp; Behaviors</td>\n",
       "      <td>activity_and_behavior</td>\n",
       "    </tr>\n",
       "    <tr>\n",
       "      <th>4</th>\n",
       "      <td>C1299651</td>\n",
       "      <td>Serious reportable event</td>\n",
       "      <td>Activities &amp; Behaviors</td>\n",
       "      <td>activity_and_behavior</td>\n",
       "    </tr>\n",
       "  </tbody>\n",
       "</table>\n",
       "</div>"
      ],
      "text/plain": [
       "         ID                     label                    TYPE  \\\n",
       "0  C0038195            State Medicine  Activities & Behaviors   \n",
       "1  C1290952         Taking medication  Activities & Behaviors   \n",
       "2  C0085092        Parenting behavior  Activities & Behaviors   \n",
       "3  C1096771                  Murderer  Activities & Behaviors   \n",
       "4  C1299651  Serious reportable event  Activities & Behaviors   \n",
       "\n",
       "                 bl_type  \n",
       "0  activity_and_behavior  \n",
       "1  activity_and_behavior  \n",
       "2  activity_and_behavior  \n",
       "3  activity_and_behavior  \n",
       "4  activity_and_behavior  "
      ]
     },
     "execution_count": 6,
     "metadata": {},
     "output_type": "execute_result"
    }
   ],
   "source": [
    "nodes['bl_type'] = nodes.TYPE.apply(node_mapping.get)\n",
    "nodes.head()"
   ]
  },
  {
   "cell_type": "code",
   "execution_count": 7,
   "metadata": {},
   "outputs": [
    {
     "data": {
      "text/html": [
       "<div>\n",
       "<style scoped>\n",
       "    .dataframe tbody tr th:only-of-type {\n",
       "        vertical-align: middle;\n",
       "    }\n",
       "\n",
       "    .dataframe tbody tr th {\n",
       "        vertical-align: top;\n",
       "    }\n",
       "\n",
       "    .dataframe thead th {\n",
       "        text-align: right;\n",
       "    }\n",
       "</style>\n",
       "<table border=\"1\" class=\"dataframe\">\n",
       "  <thead>\n",
       "    <tr style=\"text-align: right;\">\n",
       "      <th></th>\n",
       "      <th>START_ID</th>\n",
       "      <th>END_ID</th>\n",
       "      <th>TYPE</th>\n",
       "      <th>pmids</th>\n",
       "      <th>n_pmids</th>\n",
       "      <th>NEG</th>\n",
       "      <th>DOMAIN</th>\n",
       "      <th>PRED</th>\n",
       "      <th>RANGE</th>\n",
       "      <th>bl_domain</th>\n",
       "      <th>bl_pred</th>\n",
       "      <th>bl_range</th>\n",
       "      <th>bl_type</th>\n",
       "    </tr>\n",
       "  </thead>\n",
       "  <tbody>\n",
       "    <tr>\n",
       "      <th>0</th>\n",
       "      <td>C0021769</td>\n",
       "      <td>C1182654</td>\n",
       "      <td>CDatA</td>\n",
       "      <td>1597294</td>\n",
       "      <td>1</td>\n",
       "      <td>False</td>\n",
       "      <td>CD</td>\n",
       "      <td>at</td>\n",
       "      <td>A</td>\n",
       "      <td>chemical_substance</td>\n",
       "      <td>ADMINISTERED_TO</td>\n",
       "      <td>anatomical_entity</td>\n",
       "      <td>chemical_substance.ADMINISTERED_TO.anatomical_...</td>\n",
       "    </tr>\n",
       "    <tr>\n",
       "      <th>1</th>\n",
       "      <td>C0001271</td>\n",
       "      <td>C0007635</td>\n",
       "      <td>CDatA</td>\n",
       "      <td>6684662;11037792</td>\n",
       "      <td>2</td>\n",
       "      <td>False</td>\n",
       "      <td>CD</td>\n",
       "      <td>at</td>\n",
       "      <td>A</td>\n",
       "      <td>chemical_substance</td>\n",
       "      <td>ADMINISTERED_TO</td>\n",
       "      <td>anatomical_entity</td>\n",
       "      <td>chemical_substance.ADMINISTERED_TO.anatomical_...</td>\n",
       "    </tr>\n",
       "    <tr>\n",
       "      <th>2</th>\n",
       "      <td>C0003339</td>\n",
       "      <td>C0014467</td>\n",
       "      <td>CDatA</td>\n",
       "      <td>11857592</td>\n",
       "      <td>1</td>\n",
       "      <td>False</td>\n",
       "      <td>CD</td>\n",
       "      <td>at</td>\n",
       "      <td>A</td>\n",
       "      <td>chemical_substance</td>\n",
       "      <td>ADMINISTERED_TO</td>\n",
       "      <td>anatomical_entity</td>\n",
       "      <td>chemical_substance.ADMINISTERED_TO.anatomical_...</td>\n",
       "    </tr>\n",
       "    <tr>\n",
       "      <th>3</th>\n",
       "      <td>C0028612</td>\n",
       "      <td>C0085080</td>\n",
       "      <td>CDatA</td>\n",
       "      <td>1985199</td>\n",
       "      <td>1</td>\n",
       "      <td>False</td>\n",
       "      <td>CD</td>\n",
       "      <td>at</td>\n",
       "      <td>A</td>\n",
       "      <td>chemical_substance</td>\n",
       "      <td>ADMINISTERED_TO</td>\n",
       "      <td>anatomical_entity</td>\n",
       "      <td>chemical_substance.ADMINISTERED_TO.anatomical_...</td>\n",
       "    </tr>\n",
       "    <tr>\n",
       "      <th>4</th>\n",
       "      <td>C0059249</td>\n",
       "      <td>C0431085</td>\n",
       "      <td>CDatA</td>\n",
       "      <td>12739069</td>\n",
       "      <td>1</td>\n",
       "      <td>False</td>\n",
       "      <td>CD</td>\n",
       "      <td>at</td>\n",
       "      <td>A</td>\n",
       "      <td>chemical_substance</td>\n",
       "      <td>ADMINISTERED_TO</td>\n",
       "      <td>anatomical_entity</td>\n",
       "      <td>chemical_substance.ADMINISTERED_TO.anatomical_...</td>\n",
       "    </tr>\n",
       "  </tbody>\n",
       "</table>\n",
       "</div>"
      ],
      "text/plain": [
       "   START_ID    END_ID   TYPE             pmids  n_pmids    NEG DOMAIN PRED  \\\n",
       "0  C0021769  C1182654  CDatA           1597294        1  False     CD   at   \n",
       "1  C0001271  C0007635  CDatA  6684662;11037792        2  False     CD   at   \n",
       "2  C0003339  C0014467  CDatA          11857592        1  False     CD   at   \n",
       "3  C0028612  C0085080  CDatA           1985199        1  False     CD   at   \n",
       "4  C0059249  C0431085  CDatA          12739069        1  False     CD   at   \n",
       "\n",
       "  RANGE           bl_domain          bl_pred           bl_range  \\\n",
       "0     A  chemical_substance  ADMINISTERED_TO  anatomical_entity   \n",
       "1     A  chemical_substance  ADMINISTERED_TO  anatomical_entity   \n",
       "2     A  chemical_substance  ADMINISTERED_TO  anatomical_entity   \n",
       "3     A  chemical_substance  ADMINISTERED_TO  anatomical_entity   \n",
       "4     A  chemical_substance  ADMINISTERED_TO  anatomical_entity   \n",
       "\n",
       "                                             bl_type  \n",
       "0  chemical_substance.ADMINISTERED_TO.anatomical_...  \n",
       "1  chemical_substance.ADMINISTERED_TO.anatomical_...  \n",
       "2  chemical_substance.ADMINISTERED_TO.anatomical_...  \n",
       "3  chemical_substance.ADMINISTERED_TO.anatomical_...  \n",
       "4  chemical_substance.ADMINISTERED_TO.anatomical_...  "
      ]
     },
     "execution_count": 7,
     "metadata": {},
     "output_type": "execute_result"
    }
   ],
   "source": [
    "# rename the edge domain and range to use the biolink types\n",
    "edges['bl_domain'] = edges.DOMAIN.apply(abv_name.get).apply(node_mapping.get)\n",
    "edges['bl_pred'] = edges.PRED.apply(abv_name.get)\n",
    "edges['bl_range'] = edges.RANGE.apply(abv_name.get).apply(node_mapping.get)\n",
    "edges['bl_type'] = edges['bl_domain'] + \".\" + edges['bl_pred'] + \".\" + edges['bl_range']\n",
    "edges.head()"
   ]
  },
  {
   "cell_type": "code",
   "execution_count": 8,
   "metadata": {},
   "outputs": [],
   "source": [
    "# get the most common domain and ranges for each pred\n",
    "pred_type_count = edges.groupby(\"bl_pred\").bl_type.value_counts()"
   ]
  },
  {
   "cell_type": "code",
   "execution_count": 9,
   "metadata": {},
   "outputs": [
    {
     "data": {
      "text/plain": [
       "bl_type\n",
       "chemical_substance.ADMINISTERED_TO.individual_organism    99994\n",
       "chemical_substance.ADMINISTERED_TO.anatomical_entity      12618\n",
       "genomic_entity.ADMINISTERED_TO.individual_organism         5801\n",
       "genomic_entity.ADMINISTERED_TO.anatomical_entity           2473\n",
       "Name: bl_type, dtype: int64"
      ]
     },
     "execution_count": 9,
     "metadata": {},
     "output_type": "execute_result"
    }
   ],
   "source": [
    "pred_type_count['ADMINISTERED_TO'][:15]"
   ]
  },
  {
   "cell_type": "code",
   "execution_count": 10,
   "metadata": {},
   "outputs": [
    {
     "data": {
      "text/plain": [
       "['ADMINISTERED_TO',\n",
       " 'AFFECTS',\n",
       " 'ASSOCIATED_WITH',\n",
       " 'AUGMENTS',\n",
       " 'CAUSES',\n",
       " 'COEXISTS_WITH',\n",
       " 'COMPLICATES',\n",
       " 'CONVERTS_TO',\n",
       " 'DISRUPTS',\n",
       " 'INHIBITS',\n",
       " 'INTERACTS_WITH',\n",
       " 'ISA',\n",
       " 'LOCATION_OF',\n",
       " 'MANIFESTATION_OF',\n",
       " 'PART_OF',\n",
       " 'PRECEDES',\n",
       " 'PREDISPOSES',\n",
       " 'PREVENTS',\n",
       " 'PRODUCES',\n",
       " 'STIMULATES',\n",
       " 'TREATS']"
      ]
     },
     "execution_count": 10,
     "metadata": {},
     "output_type": "execute_result"
    }
   ],
   "source": [
    "sorted(edges.bl_pred.value_counts().index)"
   ]
  },
  {
   "cell_type": "code",
   "execution_count": 11,
   "metadata": {},
   "outputs": [],
   "source": [
    "# working off https://docs.google.com/spreadsheets/d/1zXitcR1QjHyh6WocukgshSR7IoAVg7MJQG-HNh96Jec/edit#gid=579577728\n",
    "allowed_domain_range = {\n",
    "    \"ADMINISTERED_TO\": ({'chemical_substance', 'procedure', 'genomic_entity'}, \n",
    "                        {'individual_organism', 'anatomical_entity'}),\n",
    "    \"AFFECTS\": (None, None), # this means anything,\n",
    "    \"ASSOCIATED_WITH\": ({'chemical_substance', 'disease', 'genomic_entity', 'biological_process'}, \n",
    "                         {'disease'}),\n",
    "    'AUGMENTS': ({'chemical_substance', 'genomic_entity', 'disease'}, \n",
    "                         {'biological_process', 'disease', 'activity_and_behavior'}),\n",
    "    'CAUSES': ({'chemical_substance', 'genomic_entity', 'disease', 'biological_process', 'activity_and_behavior'}, \n",
    "                         {'biological_process', 'disease'}),\n",
    "    'COEXISTS_WITH': (None, None) ,\n",
    "    'COMPLICATES': ({'disease'}, \n",
    "                    {'disease'}),\n",
    "    'CONVERTS_TO': ({'chemical_substance', 'genomic_entity'}, \n",
    "                    {'chemical_substance', 'genomic_entity'}),\n",
    "    'DISRUPTS': ({'chemical_substance', 'genomic_entity', 'biological_process'}, \n",
    "                 {'biological_process', 'disease'}),\n",
    "    'INHIBITS': ({'chemical_substance', 'genomic_entity'}, \n",
    "                 {'genomic_entity', 'biological_process', 'disease'}),\n",
    "    'INTERACTS_WITH': ({'chemical_substance', 'genomic_entity'}, \n",
    "                       {'chemical_substance', 'genomic_entity'}),\n",
    "    'ISA': (None, None),\n",
    "    'LOCATION_OF': ({'anatomical_entity'}, \n",
    "                    {'chemical_substance', 'disease', 'genomic_entity', 'anatomical_entity', 'procedure', 'biological_process'}),\n",
    "    'MANIFESTATION_OF': ({'disease'}, \n",
    "                         {'disease', 'biological_process'}),\n",
    "    'OCCURS_IN': ({'disease'}, {'individual_organism'}),\n",
    "    'PART_OF': ({'chemical_substance', 'genomic_entity', 'anatomical_entity'}, \n",
    "                {'anatomical_entity', 'individual_organism', 'chemical_substance', 'genomic_entity'}),\n",
    "    'PRECEDES': ({'disease', 'biological_process'}, \n",
    "                 {'disease', 'biological_process'}),\n",
    "    'PREDISPOSES': ({None}, \n",
    "                    {'disease'}),\n",
    "    'PREVENTS': ({'chemical_substance', 'genomic_entity', 'activity_and_behavior'}, \n",
    "                 {'disease'}),\n",
    "    'PROCESS_OF': ({'disease', 'biological_process', 'activity_and_behavior'}, \n",
    "                   {'individual_organism', 'anatomical_entity', 'disease'}),\n",
    "    'PRODUCES': ({'chemical_substance', 'anatomical_entity', 'genomic_entity', 'biological_process'}, \n",
    "                 {'chemical_substance', 'genomic_entity'}),\n",
    "    'STIMULATES': ({'chemical_substance', 'genomic_entity'},\n",
    "                  {'chemical_substance', 'biological_process', 'genomic_entity'}),\n",
    "    'TREATS': ({'chemical_substance', 'genomic_entity', 'activity_and_behavior'}, \n",
    "               {'disease'}),\n",
    "}"
   ]
  },
  {
   "cell_type": "code",
   "execution_count": 12,
   "metadata": {},
   "outputs": [],
   "source": [
    "def is_allowed_edge(domain, pred, rnge):\n",
    "    allowed_domain, allowed_range = allowed_domain_range[pred]\n",
    "    return ((domain in allowed_domain if allowed_domain else True) and \n",
    "              (rnge in allowed_range if allowed_range else True))"
   ]
  },
  {
   "cell_type": "code",
   "execution_count": 13,
   "metadata": {},
   "outputs": [],
   "source": [
    "d = {x: is_allowed_edge(*x.split(\".\")) for x in set(edges.bl_type)}\n",
    "allowed_edges = {k for k,v in d.items() if v}"
   ]
  },
  {
   "cell_type": "code",
   "execution_count": 14,
   "metadata": {},
   "outputs": [
    {
     "name": "stdout",
     "output_type": "stream",
     "text": [
      "True     14076598\n",
      "False     2345261\n",
      "Name: bl_type, dtype: int64\n"
     ]
    }
   ],
   "source": [
    "idx = edges.bl_type.isin(allowed_edges)\n",
    "print(idx.value_counts())\n",
    "edges = edges[idx]"
   ]
  },
  {
   "cell_type": "code",
   "execution_count": 15,
   "metadata": {},
   "outputs": [
    {
     "name": "stdout",
     "output_type": "stream",
     "text": [
      "14076598\n"
     ]
    }
   ],
   "source": [
    "print(len(edges))"
   ]
  },
  {
   "cell_type": "code",
   "execution_count": 16,
   "metadata": {},
   "outputs": [
    {
     "data": {
      "text/html": [
       "<div>\n",
       "<style scoped>\n",
       "    .dataframe tbody tr th:only-of-type {\n",
       "        vertical-align: middle;\n",
       "    }\n",
       "\n",
       "    .dataframe tbody tr th {\n",
       "        vertical-align: top;\n",
       "    }\n",
       "\n",
       "    .dataframe thead th {\n",
       "        text-align: right;\n",
       "    }\n",
       "</style>\n",
       "<table border=\"1\" class=\"dataframe\">\n",
       "  <thead>\n",
       "    <tr style=\"text-align: right;\">\n",
       "      <th></th>\n",
       "      <th>START_ID</th>\n",
       "      <th>END_ID</th>\n",
       "      <th>TYPE</th>\n",
       "      <th>pmids</th>\n",
       "      <th>n_pmids</th>\n",
       "      <th>NEG</th>\n",
       "      <th>DOMAIN</th>\n",
       "      <th>PRED</th>\n",
       "      <th>RANGE</th>\n",
       "      <th>bl_domain</th>\n",
       "      <th>bl_pred</th>\n",
       "      <th>bl_range</th>\n",
       "      <th>bl_type</th>\n",
       "    </tr>\n",
       "  </thead>\n",
       "  <tbody>\n",
       "    <tr>\n",
       "      <th>0</th>\n",
       "      <td>C0021769</td>\n",
       "      <td>C1182654</td>\n",
       "      <td>CDatA</td>\n",
       "      <td>1597294</td>\n",
       "      <td>1</td>\n",
       "      <td>False</td>\n",
       "      <td>CD</td>\n",
       "      <td>at</td>\n",
       "      <td>A</td>\n",
       "      <td>chemical_substance</td>\n",
       "      <td>ADMINISTERED_TO</td>\n",
       "      <td>anatomical_entity</td>\n",
       "      <td>chemical_substance.ADMINISTERED_TO.anatomical_...</td>\n",
       "    </tr>\n",
       "    <tr>\n",
       "      <th>1</th>\n",
       "      <td>C0001271</td>\n",
       "      <td>C0007635</td>\n",
       "      <td>CDatA</td>\n",
       "      <td>6684662;11037792</td>\n",
       "      <td>2</td>\n",
       "      <td>False</td>\n",
       "      <td>CD</td>\n",
       "      <td>at</td>\n",
       "      <td>A</td>\n",
       "      <td>chemical_substance</td>\n",
       "      <td>ADMINISTERED_TO</td>\n",
       "      <td>anatomical_entity</td>\n",
       "      <td>chemical_substance.ADMINISTERED_TO.anatomical_...</td>\n",
       "    </tr>\n",
       "    <tr>\n",
       "      <th>2</th>\n",
       "      <td>C0003339</td>\n",
       "      <td>C0014467</td>\n",
       "      <td>CDatA</td>\n",
       "      <td>11857592</td>\n",
       "      <td>1</td>\n",
       "      <td>False</td>\n",
       "      <td>CD</td>\n",
       "      <td>at</td>\n",
       "      <td>A</td>\n",
       "      <td>chemical_substance</td>\n",
       "      <td>ADMINISTERED_TO</td>\n",
       "      <td>anatomical_entity</td>\n",
       "      <td>chemical_substance.ADMINISTERED_TO.anatomical_...</td>\n",
       "    </tr>\n",
       "    <tr>\n",
       "      <th>3</th>\n",
       "      <td>C0028612</td>\n",
       "      <td>C0085080</td>\n",
       "      <td>CDatA</td>\n",
       "      <td>1985199</td>\n",
       "      <td>1</td>\n",
       "      <td>False</td>\n",
       "      <td>CD</td>\n",
       "      <td>at</td>\n",
       "      <td>A</td>\n",
       "      <td>chemical_substance</td>\n",
       "      <td>ADMINISTERED_TO</td>\n",
       "      <td>anatomical_entity</td>\n",
       "      <td>chemical_substance.ADMINISTERED_TO.anatomical_...</td>\n",
       "    </tr>\n",
       "    <tr>\n",
       "      <th>4</th>\n",
       "      <td>C0059249</td>\n",
       "      <td>C0431085</td>\n",
       "      <td>CDatA</td>\n",
       "      <td>12739069</td>\n",
       "      <td>1</td>\n",
       "      <td>False</td>\n",
       "      <td>CD</td>\n",
       "      <td>at</td>\n",
       "      <td>A</td>\n",
       "      <td>chemical_substance</td>\n",
       "      <td>ADMINISTERED_TO</td>\n",
       "      <td>anatomical_entity</td>\n",
       "      <td>chemical_substance.ADMINISTERED_TO.anatomical_...</td>\n",
       "    </tr>\n",
       "  </tbody>\n",
       "</table>\n",
       "</div>"
      ],
      "text/plain": [
       "   START_ID    END_ID   TYPE             pmids  n_pmids    NEG DOMAIN PRED  \\\n",
       "0  C0021769  C1182654  CDatA           1597294        1  False     CD   at   \n",
       "1  C0001271  C0007635  CDatA  6684662;11037792        2  False     CD   at   \n",
       "2  C0003339  C0014467  CDatA          11857592        1  False     CD   at   \n",
       "3  C0028612  C0085080  CDatA           1985199        1  False     CD   at   \n",
       "4  C0059249  C0431085  CDatA          12739069        1  False     CD   at   \n",
       "\n",
       "  RANGE           bl_domain          bl_pred           bl_range  \\\n",
       "0     A  chemical_substance  ADMINISTERED_TO  anatomical_entity   \n",
       "1     A  chemical_substance  ADMINISTERED_TO  anatomical_entity   \n",
       "2     A  chemical_substance  ADMINISTERED_TO  anatomical_entity   \n",
       "3     A  chemical_substance  ADMINISTERED_TO  anatomical_entity   \n",
       "4     A  chemical_substance  ADMINISTERED_TO  anatomical_entity   \n",
       "\n",
       "                                             bl_type  \n",
       "0  chemical_substance.ADMINISTERED_TO.anatomical_...  \n",
       "1  chemical_substance.ADMINISTERED_TO.anatomical_...  \n",
       "2  chemical_substance.ADMINISTERED_TO.anatomical_...  \n",
       "3  chemical_substance.ADMINISTERED_TO.anatomical_...  \n",
       "4  chemical_substance.ADMINISTERED_TO.anatomical_...  "
      ]
     },
     "execution_count": 16,
     "metadata": {},
     "output_type": "execute_result"
    }
   ],
   "source": [
    "edges.head()"
   ]
  },
  {
   "cell_type": "code",
   "execution_count": 17,
   "metadata": {},
   "outputs": [],
   "source": [
    "del edges['bl_type']\n",
    "del edges['DOMAIN']\n",
    "del edges['PRED']\n",
    "del edges['RANGE']\n",
    "del edges['TYPE']"
   ]
  },
  {
   "cell_type": "code",
   "execution_count": 18,
   "metadata": {},
   "outputs": [],
   "source": [
    "# rename 'isa' edge to 'subclass of'\n",
    "edges.bl_pred[edges.bl_pred == \"ISA\"] = \"SUBCLASS_OF\""
   ]
  },
  {
   "cell_type": "code",
   "execution_count": 19,
   "metadata": {},
   "outputs": [
    {
     "name": "stderr",
     "output_type": "stream",
     "text": [
      "/usr/local/lib/python3.5/dist-packages/ipykernel/__main__.py:2: SettingWithCopyWarning: \n",
      "A value is trying to be set on a copy of a slice from a DataFrame\n",
      "\n",
      "See the caveats in the documentation: http://pandas.pydata.org/pandas-docs/stable/indexing.html#indexing-view-versus-copy\n",
      "  from ipykernel import kernelapp as app\n"
     ]
    }
   ],
   "source": [
    "# rename 'disrupts' edge to 'affects'\n",
    "edges.bl_pred[edges.bl_pred == \"DISRUPTS\"] = \"AFFECTS\""
   ]
  },
  {
   "cell_type": "code",
   "execution_count": 20,
   "metadata": {},
   "outputs": [
    {
     "name": "stderr",
     "output_type": "stream",
     "text": [
      "/usr/local/lib/python3.5/dist-packages/ipykernel/__main__.py:2: SettingWithCopyWarning: \n",
      "A value is trying to be set on a copy of a slice from a DataFrame\n",
      "\n",
      "See the caveats in the documentation: http://pandas.pydata.org/pandas-docs/stable/indexing.html#indexing-view-versus-copy\n",
      "  from ipykernel import kernelapp as app\n"
     ]
    }
   ],
   "source": [
    "# rename 'associated_with' edge to 'related_to'\n",
    "edges.bl_pred[edges.bl_pred == \"ASSOCIATED_WITH\"] = \"RELATED_TO\""
   ]
  },
  {
   "cell_type": "code",
   "execution_count": 21,
   "metadata": {},
   "outputs": [],
   "source": [
    "# associated_with/related_to edges with domain: gene, range: disease; rename to gene_associated_with_condition, \n",
    "# and leave the rest alone\n",
    "edges.loc[(edges.bl_pred == \"RELATED_TO\") & (edges.bl_domain == \"genomic_entity\") & \n",
    "      (edges.bl_range == \"disease\"), 'bl_pred'] = 'gene_associated_with_condition'.upper()"
   ]
  },
  {
   "cell_type": "code",
   "execution_count": 22,
   "metadata": {},
   "outputs": [],
   "source": [
    "# inhibits edges with domain: chemical_substance or genomic entity, range: genomic_entity or disease ->\n",
    "# https://biolink.github.io/biolink-model/docs/negatively_regulates_entity_to_entity.html\n",
    "edges.loc[(edges.bl_pred == \"INHIBITS\") & edges.bl_domain.isin({\"genomic_entity\", \"chemical_substance\"}) & \n",
    "      edges.bl_range.isin({\"genomic_entity\", \"disease\"}), 'bl_pred'] = 'negatively_regulates_entity_to_entity'.upper()"
   ]
  },
  {
   "cell_type": "code",
   "execution_count": 23,
   "metadata": {},
   "outputs": [],
   "source": [
    "# stimulates edges with domain: chemical_substance or genomic entity, range: genomic_entity or disease ->\n",
    "# https://biolink.github.io/biolink-model/docs/positively_regulates_entity_to_entity.html\n",
    "edges.loc[(edges.bl_pred == \"STIMULATES\") & edges.bl_domain.isin({\"genomic_entity\", \"chemical_substance\"}) & \n",
    "      edges.bl_range.isin({\"genomic_entity\", \"disease\"}), 'bl_pred'] = 'positively_regulates_entity_to_entity'.upper()"
   ]
  },
  {
   "cell_type": "code",
   "execution_count": 24,
   "metadata": {},
   "outputs": [],
   "source": [
    "# inhibits edges with domain: chemical_substance or genomic entity, range: biological_process ->\n",
    "# https://biolink.github.io/biolink-model/docs/negatively_regulates.html\n",
    "edges.loc[(edges.bl_pred == \"INHIBITS\") & edges.bl_domain.isin({\"genomic_entity\", \"chemical_substance\"}) & \n",
    "      edges.bl_range.isin({\"biological_process\"}), 'bl_pred'] = 'negatively_regulates'.upper()"
   ]
  },
  {
   "cell_type": "code",
   "execution_count": 25,
   "metadata": {},
   "outputs": [],
   "source": [
    "# stimulates edges with domain: chemical_substance or genomic entity, range: biological_process ->\n",
    "# https://biolink.github.io/biolink-model/docs/positively_regulates.html\n",
    "edges.loc[(edges.bl_pred == \"STIMULATES\") & edges.bl_domain.isin({\"genomic_entity\", \"chemical_substance\"}) & \n",
    "      edges.bl_range.isin({\"biological_process\"}), 'bl_pred'] = 'positively_regulates'.upper()"
   ]
  },
  {
   "cell_type": "code",
   "execution_count": 26,
   "metadata": {},
   "outputs": [
    {
     "data": {
      "text/plain": [
       "AFFECTS                                  2063026\n",
       "LOCATION_OF                              1907245\n",
       "INTERACTS_WITH                           1702586\n",
       "COEXISTS_WITH                            1670436\n",
       "PART_OF                                  1583418\n",
       "STIMULATES                                868737\n",
       "CAUSES                                    744245\n",
       "TREATS                                    618788\n",
       "RELATED_TO                                509114\n",
       "AUGMENTS                                  459521\n",
       "PRODUCES                                  442266\n",
       "NEGATIVELY_REGULATES_ENTITY_TO_ENTITY     352136\n",
       "SUBCLASS_OF                               334374\n",
       "GENE_ASSOCIATED_WITH_CONDITION            265186\n",
       "POSITIVELY_REGULATES_ENTITY_TO_ENTITY     142512\n",
       "ADMINISTERED_TO                           120886\n",
       "PREVENTS                                  120501\n",
       "CONVERTS_TO                                57223\n",
       "MANIFESTATION_OF                           38775\n",
       "COMPLICATES                                30264\n",
       "PRECEDES                                   26585\n",
       "NEGATIVELY_REGULATES                       18774\n",
       "Name: bl_pred, dtype: int64"
      ]
     },
     "execution_count": 26,
     "metadata": {},
     "output_type": "execute_result"
    }
   ],
   "source": [
    "edges.bl_pred.value_counts()"
   ]
  },
  {
   "cell_type": "code",
   "execution_count": 27,
   "metadata": {},
   "outputs": [
    {
     "data": {
      "text/plain": [
       "GENE_ASSOCIATED_WITH_CONDITION    265186\n",
       "AFFECTS                           100636\n",
       "TREATS                             87917\n",
       "CAUSES                             84318\n",
       "AUGMENTS                           38122\n",
       "PREVENTS                           14385\n",
       "Name: bl_pred, dtype: int64"
      ]
     },
     "execution_count": 27,
     "metadata": {},
     "output_type": "execute_result"
    }
   ],
   "source": [
    "edges[(edges.bl_domain == \"genomic_entity\") & (edges.bl_range == \"disease\")].bl_pred.value_counts()"
   ]
  },
  {
   "cell_type": "code",
   "execution_count": 28,
   "metadata": {},
   "outputs": [
    {
     "name": "stdout",
     "output_type": "stream",
     "text": [
      "117\n",
      "14076598\n",
      "229751\n",
      "8\n",
      "22\n"
     ]
    }
   ],
   "source": [
    "## summary\n",
    "edges['bl_type'] = edges['bl_domain'] + \".\" + edges['bl_pred'] + \".\" + edges['bl_range']\n",
    "print(len(set(edges.bl_type)))\n",
    "print(len(edges))\n",
    "print(len(nodes))\n",
    "print(len(set(nodes.bl_type)))\n",
    "print(len(set(edges.bl_pred)))"
   ]
  },
  {
   "cell_type": "code",
   "execution_count": 29,
   "metadata": {},
   "outputs": [],
   "source": [
    "del edges['bl_domain']\n",
    "del edges['bl_range']"
   ]
  },
  {
   "cell_type": "code",
   "execution_count": 30,
   "metadata": {},
   "outputs": [
    {
     "data": {
      "text/html": [
       "<div>\n",
       "<style scoped>\n",
       "    .dataframe tbody tr th:only-of-type {\n",
       "        vertical-align: middle;\n",
       "    }\n",
       "\n",
       "    .dataframe tbody tr th {\n",
       "        vertical-align: top;\n",
       "    }\n",
       "\n",
       "    .dataframe thead th {\n",
       "        text-align: right;\n",
       "    }\n",
       "</style>\n",
       "<table border=\"1\" class=\"dataframe\">\n",
       "  <thead>\n",
       "    <tr style=\"text-align: right;\">\n",
       "      <th></th>\n",
       "      <th>START_ID</th>\n",
       "      <th>END_ID</th>\n",
       "      <th>pmids</th>\n",
       "      <th>n_pmids</th>\n",
       "      <th>NEG</th>\n",
       "      <th>bl_pred</th>\n",
       "      <th>bl_type</th>\n",
       "    </tr>\n",
       "  </thead>\n",
       "  <tbody>\n",
       "    <tr>\n",
       "      <th>0</th>\n",
       "      <td>C0021769</td>\n",
       "      <td>C1182654</td>\n",
       "      <td>1597294</td>\n",
       "      <td>1</td>\n",
       "      <td>False</td>\n",
       "      <td>ADMINISTERED_TO</td>\n",
       "      <td>chemical_substance.ADMINISTERED_TO.anatomical_...</td>\n",
       "    </tr>\n",
       "    <tr>\n",
       "      <th>1</th>\n",
       "      <td>C0001271</td>\n",
       "      <td>C0007635</td>\n",
       "      <td>6684662;11037792</td>\n",
       "      <td>2</td>\n",
       "      <td>False</td>\n",
       "      <td>ADMINISTERED_TO</td>\n",
       "      <td>chemical_substance.ADMINISTERED_TO.anatomical_...</td>\n",
       "    </tr>\n",
       "    <tr>\n",
       "      <th>2</th>\n",
       "      <td>C0003339</td>\n",
       "      <td>C0014467</td>\n",
       "      <td>11857592</td>\n",
       "      <td>1</td>\n",
       "      <td>False</td>\n",
       "      <td>ADMINISTERED_TO</td>\n",
       "      <td>chemical_substance.ADMINISTERED_TO.anatomical_...</td>\n",
       "    </tr>\n",
       "    <tr>\n",
       "      <th>3</th>\n",
       "      <td>C0028612</td>\n",
       "      <td>C0085080</td>\n",
       "      <td>1985199</td>\n",
       "      <td>1</td>\n",
       "      <td>False</td>\n",
       "      <td>ADMINISTERED_TO</td>\n",
       "      <td>chemical_substance.ADMINISTERED_TO.anatomical_...</td>\n",
       "    </tr>\n",
       "    <tr>\n",
       "      <th>4</th>\n",
       "      <td>C0059249</td>\n",
       "      <td>C0431085</td>\n",
       "      <td>12739069</td>\n",
       "      <td>1</td>\n",
       "      <td>False</td>\n",
       "      <td>ADMINISTERED_TO</td>\n",
       "      <td>chemical_substance.ADMINISTERED_TO.anatomical_...</td>\n",
       "    </tr>\n",
       "  </tbody>\n",
       "</table>\n",
       "</div>"
      ],
      "text/plain": [
       "   START_ID    END_ID             pmids  n_pmids    NEG          bl_pred  \\\n",
       "0  C0021769  C1182654           1597294        1  False  ADMINISTERED_TO   \n",
       "1  C0001271  C0007635  6684662;11037792        2  False  ADMINISTERED_TO   \n",
       "2  C0003339  C0014467          11857592        1  False  ADMINISTERED_TO   \n",
       "3  C0028612  C0085080           1985199        1  False  ADMINISTERED_TO   \n",
       "4  C0059249  C0431085          12739069        1  False  ADMINISTERED_TO   \n",
       "\n",
       "                                             bl_type  \n",
       "0  chemical_substance.ADMINISTERED_TO.anatomical_...  \n",
       "1  chemical_substance.ADMINISTERED_TO.anatomical_...  \n",
       "2  chemical_substance.ADMINISTERED_TO.anatomical_...  \n",
       "3  chemical_substance.ADMINISTERED_TO.anatomical_...  \n",
       "4  chemical_substance.ADMINISTERED_TO.anatomical_...  "
      ]
     },
     "execution_count": 30,
     "metadata": {},
     "output_type": "execute_result"
    }
   ],
   "source": [
    "edges.head()"
   ]
  },
  {
   "cell_type": "code",
   "execution_count": 31,
   "metadata": {},
   "outputs": [],
   "source": [
    "edges.to_csv(\"edges_biolink.csv\", index=None)\n",
    "nodes.to_csv(\"nodes_biolink.csv\", index=None)"
   ]
  },
  {
   "cell_type": "raw",
   "metadata": {},
   "source": []
  }
 ],
 "metadata": {
  "kernelspec": {
   "display_name": "Python 3",
   "language": "python",
   "name": "python3"
  },
  "language_info": {
   "codemirror_mode": {
    "name": "ipython",
    "version": 3
   },
   "file_extension": ".py",
   "mimetype": "text/x-python",
   "name": "python",
   "nbconvert_exporter": "python",
   "pygments_lexer": "ipython3",
   "version": "3.5.2"
  }
 },
 "nbformat": 4,
 "nbformat_minor": 2
}
