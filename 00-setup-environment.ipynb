{
 "cells": [
  {
   "cell_type": "markdown",
   "metadata": {},
   "source": [
    "# Environment Setup and Python Dependencies"
   ]
  },
  {
   "cell_type": "markdown",
   "metadata": {},
   "source": [
    "## Robot Installation"
   ]
  },
  {
   "cell_type": "markdown",
   "metadata": {},
   "source": [
    "The installation of **robot** is not automated here in this Jupyter workbook. Rather, refer to http://robot.obolibrary.org/ for the  installation details. Generally speaking, it  should be installed in  a  location visible by  your Jupyter \\$PATH (e.g. type `echo $PATH` to check).  If running within anaconda, the first path location may be something like **${HOME}/opt/anaconda3/bin**, which would be a sensible location for the `robot.jar` and `robot` script files. Ensure that the robot script is tagged as 'executable'. You  can check if it is properly installed and visible on the path, using by executing the following cell:"
   ]
  },
  {
   "cell_type": "code",
   "execution_count": null,
   "metadata": {},
   "outputs": [],
   "source": [
    "!robot  --version"
   ]
  },
  {
   "cell_type": "markdown",
   "metadata": {},
   "source": [
    "## Python Package Dependencies"
   ]
  },
  {
   "cell_type": "markdown",
   "metadata": {},
   "source": [
    "For Python dependency installation in Jupyter, we follow the helpful guidelines at https://jakevdp.github.io/blog/2017/12/05/installing-python-packages-from-jupyter/."
   ]
  },
  {
   "cell_type": "code",
   "execution_count": null,
   "metadata": {},
   "outputs": [],
   "source": [
    "# Start by importing sys, then the packages using pip\n",
    "import sys\n",
    "!{sys.executable} -m pip install wikidataintegrator pyquery python-dotenv"
   ]
  },
  {
   "cell_type": "markdown",
   "metadata": {},
   "source": [
    "## Environment Setup"
   ]
  },
  {
   "cell_type": "markdown",
   "metadata": {},
   "source": [
    "Next, copy the file `template.env` file into `.env` and customize it to the required release of SemMedDb, UMLS, MetaMap, etc. This file contains environment variables imported by the Python module file `semmed_biolink_environment.py` to identify source (meta-)data to be processed by the Jupyter Notebook data processing pipeline (unfortunately, if you are using JupyterLab to run the Notebook pipeline, the .env file may not  be visible in the JupyterLab file menu, so may need to viewed and modified from outside of Jupyter). After  setting up the .env file, you may  run the following `setup_environment.sh` script:"
   ]
  },
  {
   "cell_type": "code",
   "execution_count": 14,
   "metadata": {},
   "outputs": [
    {
     "name": "stdout",
     "output_type": "stream",
     "text": [
      "-rwxr-xr-x  1 richard  staff  4643 Jul 10  2020 \u001b[31msetup_environment.sh\u001b[m\u001b[m\n"
     ]
    }
   ],
   "source": [
    "!source ./setup_environment.sh"
   ]
  },
  {
   "cell_type": "markdown",
   "metadata": {},
   "source": [
    "## DATA DOWNLOAD"
   ]
  },
  {
   "cell_type": "markdown",
   "metadata": {},
   "source": [
    "Continue the data pipeline preparation by following the instructions for data downloading in the README.md file"
   ]
  },
  {
   "cell_type": "code",
   "execution_count": null,
   "metadata": {},
   "outputs": [],
   "source": []
  }
 ],
 "metadata": {
  "kernelspec": {
   "display_name": "Python 3",
   "language": "python",
   "name": "python3"
  },
  "language_info": {
   "codemirror_mode": {
    "name": "ipython",
    "version": 3
   },
   "file_extension": ".py",
   "mimetype": "text/x-python",
   "name": "python",
   "nbconvert_exporter": "python",
   "pygments_lexer": "ipython3",
   "version": "3.8.1"
  }
 },
 "nbformat": 4,
 "nbformat_minor": 4
}
