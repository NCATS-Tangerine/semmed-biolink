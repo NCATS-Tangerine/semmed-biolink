{
 "cells": [
  {
   "cell_type": "markdown",
   "metadata": {},
   "source": [
    "# Environment Setup and Python Dependencies"
   ]
  },
  {
   "cell_type": "markdown",
   "metadata": {},
   "source": [
    "## Robot Installation"
   ]
  },
  {
   "cell_type": "markdown",
   "metadata": {},
   "source": [
    "The installation of **robot** is not automated here in this Jupyter workbook. Rather, refer to http://robot.obolibrary.org/ for the  installation details. Generally speaking, it  should be installed in  a  location visible by  your Jupyter \\$PATH (e.g. type `echo $PATH` to check).  If running within anaconda, the first path location may be something like **${HOME}/opt/anaconda3/bin**, which would be a sensible location for the `robot.jar` and `robot` script files. Ensure that the robot script is tagged as 'executable'. You  can check if it is properly installed and visible on the path, using by executing the following cell:"
   ]
  },
  {
   "cell_type": "code",
   "execution_count": 1,
   "metadata": {},
   "outputs": [
    {
     "name": "stdout",
     "output_type": "stream",
     "text": [
      "ROBOT version 1.8.1\n"
     ]
    }
   ],
   "source": [
    "!robot  --version"
   ]
  },
  {
   "cell_type": "markdown",
   "metadata": {},
   "source": [
    "## Python Package Dependencies"
   ]
  },
  {
   "cell_type": "markdown",
   "metadata": {},
   "source": [
    "For Python dependency installation in Jupyter, we follow the helpful guidelines at https://jakevdp.github.io/blog/2017/12/05/installing-python-packages-from-jupyter/."
   ]
  },
  {
   "cell_type": "code",
   "execution_count": 2,
   "metadata": {},
   "outputs": [
    {
     "name": "stdout",
     "output_type": "stream",
     "text": [
      "Requirement already satisfied: wikidataintegrator in /Users/richard/opt/anaconda3/lib/python3.8/site-packages (0.6.5)\n",
      "Requirement already satisfied: pyquery in /Users/richard/opt/anaconda3/lib/python3.8/site-packages (1.4.1)\n",
      "Requirement already satisfied: python-dotenv in /Users/richard/opt/anaconda3/lib/python3.8/site-packages (0.14.0)\n",
      "Requirement already satisfied: oauthlib in /Users/richard/opt/anaconda3/lib/python3.8/site-packages (from wikidataintegrator) (3.1.0)\n",
      "Requirement already satisfied: ShExJSG in /Users/richard/opt/anaconda3/lib/python3.8/site-packages (from wikidataintegrator) (0.7.0)\n",
      "Requirement already satisfied: requests in /Users/richard/opt/anaconda3/lib/python3.8/site-packages (from wikidataintegrator) (2.22.0)\n",
      "Requirement already satisfied: mwoauth in /Users/richard/opt/anaconda3/lib/python3.8/site-packages (from wikidataintegrator) (0.3.7)\n",
      "Requirement already satisfied: sparql-slurper in /Users/richard/opt/anaconda3/lib/python3.8/site-packages (from wikidataintegrator) (0.3.4)\n",
      "Requirement already satisfied: pandas in /Users/richard/opt/anaconda3/lib/python3.8/site-packages (from wikidataintegrator) (1.0.1)\n",
      "Requirement already satisfied: backoff in /Users/richard/opt/anaconda3/lib/python3.8/site-packages (from wikidataintegrator) (1.10.0)\n",
      "Requirement already satisfied: tqdm in /Users/richard/opt/anaconda3/lib/python3.8/site-packages (from wikidataintegrator) (4.42.1)\n",
      "Requirement already satisfied: python-dateutil in /Users/richard/opt/anaconda3/lib/python3.8/site-packages (from wikidataintegrator) (2.8.1)\n",
      "Requirement already satisfied: simplejson in /Users/richard/opt/anaconda3/lib/python3.8/site-packages (from wikidataintegrator) (3.17.0)\n",
      "Requirement already satisfied: pyshex in /Users/richard/opt/anaconda3/lib/python3.8/site-packages (from wikidataintegrator) (0.7.14)\n",
      "Requirement already satisfied: jsonasobj in /Users/richard/opt/anaconda3/lib/python3.8/site-packages (from wikidataintegrator) (1.2.1)\n",
      "Requirement already satisfied: lxml>=2.1 in /Users/richard/opt/anaconda3/lib/python3.8/site-packages (from pyquery) (4.5.0)\n",
      "Requirement already satisfied: cssselect>0.7.9 in /Users/richard/opt/anaconda3/lib/python3.8/site-packages (from pyquery) (1.1.0)\n",
      "Requirement already satisfied: pyjsg~=0.10 in /Users/richard/opt/anaconda3/lib/python3.8/site-packages (from ShExJSG->wikidataintegrator) (0.10.0)\n",
      "Requirement already satisfied: idna<2.9,>=2.5 in /Users/richard/opt/anaconda3/lib/python3.8/site-packages (from requests->wikidataintegrator) (2.8)\n",
      "Requirement already satisfied: chardet<3.1.0,>=3.0.2 in /Users/richard/opt/anaconda3/lib/python3.8/site-packages (from requests->wikidataintegrator) (3.0.4)\n",
      "Requirement already satisfied: urllib3!=1.25.0,!=1.25.1,<1.26,>=1.21.1 in /Users/richard/opt/anaconda3/lib/python3.8/site-packages (from requests->wikidataintegrator) (1.25.8)\n",
      "Requirement already satisfied: certifi>=2017.4.17 in /Users/richard/opt/anaconda3/lib/python3.8/site-packages (from requests->wikidataintegrator) (2019.11.28)\n",
      "Requirement already satisfied: requests-oauthlib in /Users/richard/opt/anaconda3/lib/python3.8/site-packages (from mwoauth->wikidataintegrator) (1.3.0)\n",
      "Requirement already satisfied: six in /Users/richard/opt/anaconda3/lib/python3.8/site-packages (from mwoauth->wikidataintegrator) (1.14.0)\n",
      "Requirement already satisfied: PyJWT<2.0.0,>=1.0.1 in /Users/richard/opt/anaconda3/lib/python3.8/site-packages (from mwoauth->wikidataintegrator) (1.7.1)\n",
      "Requirement already satisfied: rdflib>=4.2.2 in /Users/richard/opt/anaconda3/lib/python3.8/site-packages (from sparql-slurper->wikidataintegrator) (5.0.0)\n",
      "Requirement already satisfied: sparqlwrapper>=1.8.2 in /Users/richard/opt/anaconda3/lib/python3.8/site-packages (from sparql-slurper->wikidataintegrator) (1.8.5)\n",
      "Requirement already satisfied: pbr in /Users/richard/opt/anaconda3/lib/python3.8/site-packages (from sparql-slurper->wikidataintegrator) (5.4.5)\n",
      "Requirement already satisfied: numpy>=1.13.3 in /Users/richard/opt/anaconda3/lib/python3.8/site-packages (from pandas->wikidataintegrator) (1.18.1)\n",
      "Requirement already satisfied: pytz>=2017.2 in /Users/richard/opt/anaconda3/lib/python3.8/site-packages (from pandas->wikidataintegrator) (2019.3)\n",
      "Requirement already satisfied: cfgraph>=0.2.1 in /Users/richard/opt/anaconda3/lib/python3.8/site-packages (from pyshex->wikidataintegrator) (0.2.1)\n",
      "Requirement already satisfied: rdflib-jsonld>=0.4.0 in /Users/richard/opt/anaconda3/lib/python3.8/site-packages (from pyshex->wikidataintegrator) (0.5.0)\n",
      "Requirement already satisfied: pyshexc>=0.5.4 in /Users/richard/opt/anaconda3/lib/python3.8/site-packages (from pyshex->wikidataintegrator) (0.8.2)\n",
      "Requirement already satisfied: antlr4-python3-runtime>=4.7 in /Users/richard/opt/anaconda3/lib/python3.8/site-packages (from pyjsg~=0.10->ShExJSG->wikidataintegrator) (4.8)\n",
      "Requirement already satisfied: pyparsing in /Users/richard/opt/anaconda3/lib/python3.8/site-packages (from rdflib>=4.2.2->sparql-slurper->wikidataintegrator) (2.4.6)\n",
      "Requirement already satisfied: isodate in /Users/richard/opt/anaconda3/lib/python3.8/site-packages (from rdflib>=4.2.2->sparql-slurper->wikidataintegrator) (0.6.0)\n"
     ]
    }
   ],
   "source": [
    "# Start by importing sys, then the packages using pip\n",
    "import sys\n",
    "!{sys.executable} -m pip install wikidataintegrator pyquery python-dotenv"
   ]
  },
  {
   "cell_type": "markdown",
   "metadata": {},
   "source": [
    "## Environment Setup"
   ]
  },
  {
   "cell_type": "markdown",
   "metadata": {},
   "source": [
    "Next, copy the file `template.env` file into `.env` and customize it to the required release of SemMedDb, UMLS, MetaMap, etc. This file contains environment variables imported by the Python module file `semmeddb_biolink_environment.py` to identify source (meta-)data to be processed by the Jupyter Notebook data processing pipeline (unfortunately, if you are using JupyterLab to run the Notebook pipeline, the .env file may not  be visible in the JupyterLab file menu, so may need to viewed and modified from outside of Jupyter). After  setting up the .env file, you may  run the following `setup_environment.sh` script:"
   ]
  },
  {
   "cell_type": "code",
   "execution_count": 3,
   "metadata": {},
   "outputs": [
    {
     "name": "stdout",
     "output_type": "stream",
     "text": [
      "\n",
      "SemMedDb Data Parameters (variables that might be overridden from the command line):\n",
      "\n",
      "SEMMEDDB_DOWNLOAD_PATH:  https://ii.nlm.nih.gov/SemRep_SemMedDB_SKR/SemMedDB/download/\n",
      "SEMMEDDB_VERSION: 43\n",
      "SEMMEDDB_PUBMED_RELEASE: 2021\n",
      "SEMMEDDB_FILE_PREFIX: semmedVER43\n",
      "\n",
      "SemMedDb Predication File Variables (normally not overridden but generated from above SemMedDb parameters):\n",
      "\n",
      "SEMMEDDB_PREDICATION_ARCHIVE: semmedVER43_2021_R_PREDICATION.sql.gz\n",
      "SEMMEDDB_PREDICATION_DOWNLOAD: https://ii.nlm.nih.gov/SemRep_SemMedDB_SKR/SemMedDB/download/semmedVER43_2021_R_PREDICATION.sql.gz\n",
      "SEMMEDDB_PREDICATION_CSV: semmedVER43_2021_R_PREDICATION.csv\n",
      "\n",
      "SemMedDb Citation File Variables (normally not overridden but generated from above SemMedDb parameters):\n",
      "\n",
      "SEMMEDDB_CITATIONS_ARCHIVE: semmedVER43_2021_R_CITATIONS.sql.gz\n",
      "SEMMEDDB_CITATIONS_DOWNLOAD: https://ii.nlm.nih.gov/SemRep_SemMedDB_SKR/SemMedDB/download/semmedVER43_2021_R_CITATIONS.sql.gz\n",
      "SEMMEDDB_CITATIONS_CSV: semmedVER43_2021_R_CITATIONS.csv\n",
      "\n",
      "SemMedDb Predication File Variables (normally not overridden but generated from above SemMedDb parameters):\n",
      "\n",
      "SEMMEDDB_PREDICATION_AUX_ARCHIVE: semmedVER43_2021_R_PREDICATION_AUX.sql.gz\n",
      "SEMMEDDB_PREDICATION_AUX_DOWNLOAD: https://ii.nlm.nih.gov/SemRep_SemMedDB_SKR/SemMedDB/download/semmedVER43_2021_R_PREDICATION_AUX.sql.gz\n",
      "SEMMEDDB_PREDICATION_AUX_CSV: semmedVER43_2021_R_PREDICATION_AUX.csv\n",
      "\n",
      "SemMedDb Predication File Variables (normally not overridden but generated from above SemMedDb parameters):\n",
      "\n",
      "SEMMEDDB_SENTENCE_ARCHIVE: semmedVER43_2021_R_SENTENCE.sql.gz\n",
      "SEMMEDDB_SENTENCE_DOWNLOAD: https://ii.nlm.nih.gov/SemRep_SemMedDB_SKR/SemMedDB/download/semmedVER43_2021_R_SENTENCE.sql.gz\n",
      "SEMMEDDB_SENTENCE_CSV: semmedVER43_2021_R_SENTENCE.csv\n",
      "\n",
      "UMLS Metadata version (update to set to latest version, as necessary):\n",
      "\n",
      "UMLS_VERSION: 2020AB\n",
      "\n",
      "UMLS Metadata file variables (normally not overridden but generated for above UMLS_VERSION):\n",
      "\n",
      "UMLS_ARCHIVE: umls-2020AB-full.zip\n",
      "UMLS_DOWNLOAD: https://download.nlm.nih.gov/umls/kss/2020AB/umls-2020AB-full.zip\n",
      "\n",
      "METAMAP_VERSION: 2018AB\n",
      "UNII_VERSION: 12Apr2021\n"
     ]
    }
   ],
   "source": [
    "!source ./setup_environment.sh"
   ]
  },
  {
   "cell_type": "markdown",
   "metadata": {},
   "source": [
    "## DATA DOWNLOAD"
   ]
  },
  {
   "cell_type": "markdown",
   "metadata": {},
   "source": [
    "Continue the data pipeline preparation by following the instructions for data downloading in the README.md file"
   ]
  }
 ],
 "metadata": {
  "kernelspec": {
   "display_name": "Python 3",
   "language": "python",
   "name": "python3"
  },
  "language_info": {
   "codemirror_mode": {
    "name": "ipython",
    "version": 3
   },
   "file_extension": ".py",
   "mimetype": "text/x-python",
   "name": "python",
   "nbconvert_exporter": "python",
   "pygments_lexer": "ipython3",
   "version": "3.8.1"
  }
 },
 "nbformat": 4,
 "nbformat_minor": 4
}
