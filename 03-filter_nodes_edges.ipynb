{
 "cells": [
  {
   "cell_type": "markdown",
   "metadata": {},
   "source": [
    "# 03-filter_nodes_edges.ipynb\n",
    "- Remove edges with nodes with no umls type or label\n",
    "- Remove the following predicates: ['compared_with', 'higher_than', 'lower_than', 'different_from', 'different_than', \n",
    "'same_as','OCCURS_IN', 'PROCESS_OF', 'DIAGNOSES', 'METHOD_OF', 'USES','AUGMENTS', 'ADMINISTERED_TO', 'COMPLICATES']"
   ]
  },
  {
   "cell_type": "code",
   "execution_count": 1,
   "metadata": {},
   "outputs": [
    {
     "name": "stdout",
     "output_type": "stream",
     "text": [
      "Using matplotlib backend: MacOSX\n",
      "Populating the interactive namespace from numpy and matplotlib\n"
     ]
    }
   ],
   "source": [
    "import os\n",
    "import pickle\n",
    "%pylab\n",
    "%matplotlib inline\n",
    "import pandas as pd\n",
    "import seaborn as sns\n",
    "import re\n",
    "from collections import defaultdict\n",
    "from tqdm import tqdm"
   ]
  },
  {
   "cell_type": "code",
   "execution_count": 2,
   "metadata": {},
   "outputs": [],
   "source": [
    "DATA  = 'data/'\n",
    "EDGES4_CSV = DATA+\"edges4.csv\"\n",
    "NODES_BLM_CSV = DATA+\"nodes_blm.csv\"\n",
    "EDGES_FILTERED_CSV = DATA+\"edges_filtered.csv\"\n",
    "NODES_FILTERED_CSV = DATA+\"nodes_filtered.csv\""
   ]
  },
  {
   "cell_type": "code",
   "execution_count": 3,
   "metadata": {},
   "outputs": [
    {
     "name": "stderr",
     "output_type": "stream",
     "text": [
      "/Users/richard/opt/anaconda3/lib/python3.7/site-packages/numpy/lib/arraysetops.py:569: FutureWarning: elementwise comparison failed; returning scalar instead, but in the future will perform elementwise comparison\n",
      "  mask |= (ar1 == a)\n"
     ]
    },
    {
     "data": {
      "text/html": [
       "<div>\n",
       "<style scoped>\n",
       "    .dataframe tbody tr th:only-of-type {\n",
       "        vertical-align: middle;\n",
       "    }\n",
       "\n",
       "    .dataframe tbody tr th {\n",
       "        vertical-align: top;\n",
       "    }\n",
       "\n",
       "    .dataframe thead th {\n",
       "        text-align: right;\n",
       "    }\n",
       "</style>\n",
       "<table border=\"1\" class=\"dataframe\">\n",
       "  <thead>\n",
       "    <tr style=\"text-align: right;\">\n",
       "      <th></th>\n",
       "      <th>SUBJECT_CUI</th>\n",
       "      <th>PREDICATE</th>\n",
       "      <th>OBJECT_CUI</th>\n",
       "      <th>PMID</th>\n",
       "      <th>NEG</th>\n",
       "    </tr>\n",
       "  </thead>\n",
       "  <tbody>\n",
       "    <tr>\n",
       "      <th>588</th>\n",
       "      <td>C1412045</td>\n",
       "      <td>ADMINISTERED_TO</td>\n",
       "      <td>C0007634</td>\n",
       "      <td>24096582</td>\n",
       "      <td>False</td>\n",
       "    </tr>\n",
       "    <tr>\n",
       "      <th>589</th>\n",
       "      <td>C1412045</td>\n",
       "      <td>ADMINISTERED_TO</td>\n",
       "      <td>C0030705</td>\n",
       "      <td>22577025</td>\n",
       "      <td>False</td>\n",
       "    </tr>\n",
       "    <tr>\n",
       "      <th>590</th>\n",
       "      <td>C1412045</td>\n",
       "      <td>AFFECTS</td>\n",
       "      <td>C0005935</td>\n",
       "      <td>29798367</td>\n",
       "      <td>False</td>\n",
       "    </tr>\n",
       "    <tr>\n",
       "      <th>591</th>\n",
       "      <td>C1412045</td>\n",
       "      <td>AFFECTS</td>\n",
       "      <td>C0020291</td>\n",
       "      <td>6298464</td>\n",
       "      <td>False</td>\n",
       "    </tr>\n",
       "    <tr>\n",
       "      <th>592</th>\n",
       "      <td>C1412045</td>\n",
       "      <td>AFFECTS</td>\n",
       "      <td>C0028754</td>\n",
       "      <td>19789049</td>\n",
       "      <td>False</td>\n",
       "    </tr>\n",
       "  </tbody>\n",
       "</table>\n",
       "</div>"
      ],
      "text/plain": [
       "    SUBJECT_CUI        PREDICATE OBJECT_CUI      PMID    NEG\n",
       "588    C1412045  ADMINISTERED_TO   C0007634  24096582  False\n",
       "589    C1412045  ADMINISTERED_TO   C0030705  22577025  False\n",
       "590    C1412045          AFFECTS   C0005935  29798367  False\n",
       "591    C1412045          AFFECTS   C0020291   6298464  False\n",
       "592    C1412045          AFFECTS   C0028754  19789049  False"
      ]
     },
     "execution_count": 3,
     "metadata": {},
     "output_type": "execute_result"
    }
   ],
   "source": [
    "edges = pd.read_csv(EDGES4_CSV, index_col=0)\n",
    "edges.head()"
   ]
  },
  {
   "cell_type": "code",
   "execution_count": 4,
   "metadata": {},
   "outputs": [
    {
     "data": {
      "text/html": [
       "<div>\n",
       "<style scoped>\n",
       "    .dataframe tbody tr th:only-of-type {\n",
       "        vertical-align: middle;\n",
       "    }\n",
       "\n",
       "    .dataframe tbody tr th {\n",
       "        vertical-align: top;\n",
       "    }\n",
       "\n",
       "    .dataframe thead th {\n",
       "        text-align: right;\n",
       "    }\n",
       "</style>\n",
       "<table border=\"1\" class=\"dataframe\">\n",
       "  <thead>\n",
       "    <tr style=\"text-align: right;\">\n",
       "      <th></th>\n",
       "      <th>ID</th>\n",
       "      <th>LABEL</th>\n",
       "      <th>umls_type</th>\n",
       "      <th>umls_type_label</th>\n",
       "      <th>blm_category</th>\n",
       "    </tr>\n",
       "  </thead>\n",
       "  <tbody>\n",
       "    <tr>\n",
       "      <th>0</th>\n",
       "      <td>C3842672</td>\n",
       "      <td>Day 7</td>\n",
       "      <td>T033</td>\n",
       "      <td>Finding</td>\n",
       "      <td>disease_or_phenotypic_feature</td>\n",
       "    </tr>\n",
       "    <tr>\n",
       "      <th>6</th>\n",
       "      <td>C0020684</td>\n",
       "      <td>Hypoxanthine</td>\n",
       "      <td>T123|T109</td>\n",
       "      <td>Biologically Active Substance|Organic Chemical</td>\n",
       "      <td>chemical_substance</td>\n",
       "    </tr>\n",
       "    <tr>\n",
       "      <th>7</th>\n",
       "      <td>C0853225</td>\n",
       "      <td>INR Increased</td>\n",
       "      <td>T033</td>\n",
       "      <td>Finding</td>\n",
       "      <td>disease_or_phenotypic_feature</td>\n",
       "    </tr>\n",
       "    <tr>\n",
       "      <th>8</th>\n",
       "      <td>C1513022</td>\n",
       "      <td>Mature Centriole</td>\n",
       "      <td>T026</td>\n",
       "      <td>Cell Component</td>\n",
       "      <td>cell_component</td>\n",
       "    </tr>\n",
       "    <tr>\n",
       "      <th>10</th>\n",
       "      <td>C0267183</td>\n",
       "      <td>Hourglass stricture or stenosis of stomach</td>\n",
       "      <td>T047</td>\n",
       "      <td>Disease or Syndrome</td>\n",
       "      <td>disease_or_phenotypic_feature</td>\n",
       "    </tr>\n",
       "  </tbody>\n",
       "</table>\n",
       "</div>"
      ],
      "text/plain": [
       "          ID                                       LABEL  umls_type  \\\n",
       "0   C3842672                                       Day 7       T033   \n",
       "6   C0020684                                Hypoxanthine  T123|T109   \n",
       "7   C0853225                               INR Increased       T033   \n",
       "8   C1513022                            Mature Centriole       T026   \n",
       "10  C0267183  Hourglass stricture or stenosis of stomach       T047   \n",
       "\n",
       "                                   umls_type_label  \\\n",
       "0                                          Finding   \n",
       "6   Biologically Active Substance|Organic Chemical   \n",
       "7                                          Finding   \n",
       "8                                   Cell Component   \n",
       "10                             Disease or Syndrome   \n",
       "\n",
       "                     blm_category  \n",
       "0   disease_or_phenotypic_feature  \n",
       "6              chemical_substance  \n",
       "7   disease_or_phenotypic_feature  \n",
       "8                  cell_component  \n",
       "10  disease_or_phenotypic_feature  "
      ]
     },
     "execution_count": 4,
     "metadata": {},
     "output_type": "execute_result"
    }
   ],
   "source": [
    "nodes = pd.read_csv(NODES_BLM_CSV, index_col=0)\n",
    "nodes.head()"
   ]
  },
  {
   "cell_type": "code",
   "execution_count": 5,
   "metadata": {},
   "outputs": [
    {
     "name": "stdout",
     "output_type": "stream",
     "text": [
      "168082\n",
      "23932681\n"
     ]
    }
   ],
   "source": [
    "print(len(nodes))\n",
    "print(len(edges))"
   ]
  },
  {
   "cell_type": "code",
   "execution_count": 6,
   "metadata": {},
   "outputs": [
    {
     "name": "stdout",
     "output_type": "stream",
     "text": [
      "23932681\n",
      "16220205\n"
     ]
    }
   ],
   "source": [
    "# remove edges with no nodes\n",
    "print(len(edges))\n",
    "edges = edges[edges.SUBJECT_CUI.isin(nodes.ID) & edges.OBJECT_CUI.isin(nodes.ID)]\n",
    "print(len(edges))"
   ]
  },
  {
   "cell_type": "code",
   "execution_count": 7,
   "metadata": {},
   "outputs": [
    {
     "data": {
      "text/plain": [
       "INTERACTS_WITH      2220070\n",
       "LOCATION_OF         2105454\n",
       "COEXISTS_WITH       1780772\n",
       "AFFECTS             1614278\n",
       "STIMULATES          1307942\n",
       "INHIBITS            1106486\n",
       "ASSOCIATED_WITH      939793\n",
       "CAUSES               759205\n",
       "PART_OF              751794\n",
       "AUGMENTS             548271\n",
       "DISRUPTS             534850\n",
       "TREATS               484268\n",
       "PRODUCES             480627\n",
       "compared_with        368322\n",
       "PREDISPOSES          269523\n",
       "ISA                  237589\n",
       "PREVENTS             145866\n",
       "PROCESS_OF           141374\n",
       "higher_than          112266\n",
       "ADMINISTERED_TO       66451\n",
       "PRECEDES              52602\n",
       "CONVERTS_TO           48751\n",
       "COMPLICATES           37896\n",
       "MANIFESTATION_OF      36672\n",
       "same_as               24564\n",
       "lower_than            21456\n",
       "USES                  15793\n",
       "DIAGNOSES              4840\n",
       "OCCURS_IN              1197\n",
       "MEASURES               1048\n",
       "METHOD_OF               144\n",
       "MEASUREMENT_OF           38\n",
       "PREP                      3\n",
       "Name: PREDICATE, dtype: int64"
      ]
     },
     "execution_count": 7,
     "metadata": {},
     "output_type": "execute_result"
    }
   ],
   "source": [
    "vc = edges.PREDICATE.value_counts()\n",
    "vc"
   ]
  },
  {
   "cell_type": "code",
   "execution_count": 8,
   "metadata": {},
   "outputs": [],
   "source": [
    "def drop_edges(df, drop_edges):\n",
    "    idx = df.query('PREDICATE in @drop_edges').index\n",
    "    df.drop(idx, inplace=True)"
   ]
  },
  {
   "cell_type": "code",
   "execution_count": 9,
   "metadata": {},
   "outputs": [
    {
     "name": "stdout",
     "output_type": "stream",
     "text": [
      "16220205\n",
      "14877631\n"
     ]
    }
   ],
   "source": [
    "# remove edges we don't need\n",
    "print(len(edges))\n",
    "remove_edges = ['compared_with', 'higher_than', 'lower_than', 'different_from', 'different_than', 'same_as',\n",
    "               'OCCURS_IN', 'PROCESS_OF', 'DIAGNOSES', 'METHOD_OF', 'USES',\n",
    "               'AUGMENTS', 'ADMINISTERED_TO', 'COMPLICATES']\n",
    "drop_edges(edges, remove_edges)\n",
    "print(len(edges))"
   ]
  },
  {
   "cell_type": "code",
   "execution_count": 10,
   "metadata": {},
   "outputs": [
    {
     "name": "stdout",
     "output_type": "stream",
     "text": [
      "168082\n",
      "156759\n"
     ]
    }
   ],
   "source": [
    "# remove nodes with no edges\n",
    "print(len(nodes))\n",
    "nodes = nodes[nodes.ID.isin(set(list(edges.SUBJECT_CUI) + list(edges.OBJECT_CUI)))]\n",
    "print(len(nodes))"
   ]
  },
  {
   "cell_type": "code",
   "execution_count": 11,
   "metadata": {},
   "outputs": [
    {
     "data": {
      "text/plain": [
       "INTERACTS_WITH      2220070\n",
       "LOCATION_OF         2105454\n",
       "COEXISTS_WITH       1780772\n",
       "AFFECTS             1614278\n",
       "STIMULATES          1307942\n",
       "INHIBITS            1106486\n",
       "ASSOCIATED_WITH      939793\n",
       "CAUSES               759205\n",
       "PART_OF              751794\n",
       "DISRUPTS             534850\n",
       "TREATS               484268\n",
       "PRODUCES             480627\n",
       "PREDISPOSES          269523\n",
       "ISA                  237589\n",
       "PREVENTS             145866\n",
       "PRECEDES              52602\n",
       "CONVERTS_TO           48751\n",
       "MANIFESTATION_OF      36672\n",
       "MEASURES               1048\n",
       "MEASUREMENT_OF           38\n",
       "PREP                      3\n",
       "Name: PREDICATE, dtype: int64"
      ]
     },
     "execution_count": 11,
     "metadata": {},
     "output_type": "execute_result"
    }
   ],
   "source": [
    "vc = edges.PREDICATE.value_counts()\n",
    "vc"
   ]
  },
  {
   "cell_type": "code",
   "execution_count": 12,
   "metadata": {},
   "outputs": [],
   "source": [
    "edges.to_csv(EDGES_FILTERED_CSV, index=False)\n",
    "nodes.to_csv(NODES_FILTERED_CSV, index=False)"
   ]
  },
  {
   "cell_type": "code",
   "execution_count": null,
   "metadata": {},
   "outputs": [],
   "source": []
  }
 ],
 "metadata": {
  "kernelspec": {
   "display_name": "Python 3",
   "language": "python",
   "name": "python3"
  },
  "language_info": {
   "codemirror_mode": {
    "name": "ipython",
    "version": 3
   },
   "file_extension": ".py",
   "mimetype": "text/x-python",
   "name": "python",
   "nbconvert_exporter": "python",
   "pygments_lexer": "ipython3",
   "version": "3.7.6"
  }
 },
 "nbformat": 4,
 "nbformat_minor": 4
}
