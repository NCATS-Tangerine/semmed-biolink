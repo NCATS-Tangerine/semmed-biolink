{
 "cells": [
  {
   "cell_type": "code",
   "execution_count": 1,
   "metadata": {},
   "outputs": [],
   "source": [
    "# remove edges with low counts/occurence, or no good mapping, or not useful"
   ]
  },
  {
   "cell_type": "code",
   "execution_count": 1,
   "metadata": {},
   "outputs": [
    {
     "name": "stdout",
     "output_type": "stream",
     "text": [
      "Using matplotlib backend: TkAgg\n",
      "Populating the interactive namespace from numpy and matplotlib\n"
     ]
    }
   ],
   "source": [
    "import os\n",
    "import pickle\n",
    "%pylab\n",
    "%matplotlib inline\n",
    "import pandas as pd\n",
    "import seaborn as sns\n",
    "import re\n",
    "from collections import defaultdict\n",
    "from tqdm import tqdm"
   ]
  },
  {
   "cell_type": "code",
   "execution_count": 2,
   "metadata": {},
   "outputs": [],
   "source": [
    "edges = pd.read_csv('edges_sanitized.csv')"
   ]
  },
  {
   "cell_type": "code",
   "execution_count": 3,
   "metadata": {},
   "outputs": [
    {
     "data": {
      "text/html": [
       "<div>\n",
       "<style scoped>\n",
       "    .dataframe tbody tr th:only-of-type {\n",
       "        vertical-align: middle;\n",
       "    }\n",
       "\n",
       "    .dataframe tbody tr th {\n",
       "        vertical-align: top;\n",
       "    }\n",
       "\n",
       "    .dataframe thead th {\n",
       "        text-align: right;\n",
       "    }\n",
       "</style>\n",
       "<table border=\"1\" class=\"dataframe\">\n",
       "  <thead>\n",
       "    <tr style=\"text-align: right;\">\n",
       "      <th></th>\n",
       "      <th>ID</th>\n",
       "      <th>label</th>\n",
       "      <th>umls_type</th>\n",
       "      <th>umls_type_label</th>\n",
       "      <th>blm_type</th>\n",
       "    </tr>\n",
       "  </thead>\n",
       "  <tbody>\n",
       "    <tr>\n",
       "      <th>1</th>\n",
       "      <td>C1290952</td>\n",
       "      <td>Taking medication</td>\n",
       "      <td>T056</td>\n",
       "      <td>Daily or Recreational Activity</td>\n",
       "      <td>activity_and_behavior</td>\n",
       "    </tr>\n",
       "    <tr>\n",
       "      <th>3</th>\n",
       "      <td>C0085092</td>\n",
       "      <td>Parenting behavior</td>\n",
       "      <td>T054</td>\n",
       "      <td>Social Behavior</td>\n",
       "      <td>activity_and_behavior</td>\n",
       "    </tr>\n",
       "    <tr>\n",
       "      <th>4</th>\n",
       "      <td>C1096771</td>\n",
       "      <td>Murderer</td>\n",
       "      <td>T055</td>\n",
       "      <td>Individual Behavior</td>\n",
       "      <td>activity_and_behavior</td>\n",
       "    </tr>\n",
       "    <tr>\n",
       "      <th>6</th>\n",
       "      <td>C0006875</td>\n",
       "      <td>Cannibalism</td>\n",
       "      <td>T054</td>\n",
       "      <td>Social Behavior</td>\n",
       "      <td>activity_and_behavior</td>\n",
       "    </tr>\n",
       "    <tr>\n",
       "      <th>7</th>\n",
       "      <td>C0871454</td>\n",
       "      <td>Study Habits</td>\n",
       "      <td>T055</td>\n",
       "      <td>Individual Behavior</td>\n",
       "      <td>activity_and_behavior</td>\n",
       "    </tr>\n",
       "  </tbody>\n",
       "</table>\n",
       "</div>"
      ],
      "text/plain": [
       "         ID               label umls_type                 umls_type_label  \\\n",
       "1  C1290952   Taking medication      T056  Daily or Recreational Activity   \n",
       "3  C0085092  Parenting behavior      T054                 Social Behavior   \n",
       "4  C1096771            Murderer      T055             Individual Behavior   \n",
       "6  C0006875         Cannibalism      T054                 Social Behavior   \n",
       "7  C0871454        Study Habits      T055             Individual Behavior   \n",
       "\n",
       "                blm_type  \n",
       "1  activity_and_behavior  \n",
       "3  activity_and_behavior  \n",
       "4  activity_and_behavior  \n",
       "6  activity_and_behavior  \n",
       "7  activity_and_behavior  "
      ]
     },
     "execution_count": 3,
     "metadata": {},
     "output_type": "execute_result"
    }
   ],
   "source": [
    "nodes = pd.read_csv(\"nodes_blm.csv\", index_col=0)\n",
    "nodes.head()"
   ]
  },
  {
   "cell_type": "code",
   "execution_count": 4,
   "metadata": {},
   "outputs": [
    {
     "name": "stdout",
     "output_type": "stream",
     "text": [
      "180151\n",
      "20620112\n"
     ]
    }
   ],
   "source": [
    "print(len(nodes))\n",
    "print(len(edges))"
   ]
  },
  {
   "cell_type": "code",
   "execution_count": 5,
   "metadata": {},
   "outputs": [
    {
     "name": "stdout",
     "output_type": "stream",
     "text": [
      "20620112\n",
      "14145903\n"
     ]
    }
   ],
   "source": [
    "# remove edges with no nodes\n",
    "print(len(edges))\n",
    "edges = edges[edges.START_ID.isin(nodes.ID) & edges.END_ID.isin(nodes.ID)]\n",
    "print(len(edges))"
   ]
  },
  {
   "cell_type": "code",
   "execution_count": 6,
   "metadata": {},
   "outputs": [],
   "source": [
    "abv = pd.read_csv(\"abv.csv\")\n",
    "name_abv = dict(zip(abv.full_name, abv.abv))\n",
    "abv_name = dict(zip(abv.abv, abv.full_name))"
   ]
  },
  {
   "cell_type": "code",
   "execution_count": 7,
   "metadata": {},
   "outputs": [
    {
     "data": {
      "text/html": [
       "<div>\n",
       "<style scoped>\n",
       "    .dataframe tbody tr th:only-of-type {\n",
       "        vertical-align: middle;\n",
       "    }\n",
       "\n",
       "    .dataframe tbody tr th {\n",
       "        vertical-align: top;\n",
       "    }\n",
       "\n",
       "    .dataframe thead th {\n",
       "        text-align: right;\n",
       "    }\n",
       "</style>\n",
       "<table border=\"1\" class=\"dataframe\">\n",
       "  <thead>\n",
       "    <tr style=\"text-align: right;\">\n",
       "      <th></th>\n",
       "      <th>START_ID</th>\n",
       "      <th>END_ID</th>\n",
       "      <th>TYPE</th>\n",
       "      <th>pmids</th>\n",
       "      <th>n_pmids</th>\n",
       "      <th>NEG</th>\n",
       "      <th>DOMAIN</th>\n",
       "      <th>PRED</th>\n",
       "      <th>RANGE</th>\n",
       "    </tr>\n",
       "  </thead>\n",
       "  <tbody>\n",
       "    <tr>\n",
       "      <th>0</th>\n",
       "      <td>C1273870</td>\n",
       "      <td>C0282623</td>\n",
       "      <td>ABatAB</td>\n",
       "      <td>17170614</td>\n",
       "      <td>1</td>\n",
       "      <td>False</td>\n",
       "      <td>AB</td>\n",
       "      <td>at</td>\n",
       "      <td>AB</td>\n",
       "    </tr>\n",
       "    <tr>\n",
       "      <th>7</th>\n",
       "      <td>C1273870</td>\n",
       "      <td>C0021294</td>\n",
       "      <td>ABatDO</td>\n",
       "      <td>22564132</td>\n",
       "      <td>1</td>\n",
       "      <td>False</td>\n",
       "      <td>AB</td>\n",
       "      <td>at</td>\n",
       "      <td>DO</td>\n",
       "    </tr>\n",
       "    <tr>\n",
       "      <th>8</th>\n",
       "      <td>C1273870</td>\n",
       "      <td>C0581876</td>\n",
       "      <td>ABatDO</td>\n",
       "      <td>20937431</td>\n",
       "      <td>1</td>\n",
       "      <td>False</td>\n",
       "      <td>AB</td>\n",
       "      <td>at</td>\n",
       "      <td>DO</td>\n",
       "    </tr>\n",
       "    <tr>\n",
       "      <th>413</th>\n",
       "      <td>C1517631</td>\n",
       "      <td>C1321301</td>\n",
       "      <td>AatA</td>\n",
       "      <td>17302772</td>\n",
       "      <td>1</td>\n",
       "      <td>False</td>\n",
       "      <td>A</td>\n",
       "      <td>at</td>\n",
       "      <td>A</td>\n",
       "    </tr>\n",
       "    <tr>\n",
       "      <th>414</th>\n",
       "      <td>C1167519</td>\n",
       "      <td>C0007634</td>\n",
       "      <td>AatA</td>\n",
       "      <td>19232422</td>\n",
       "      <td>1</td>\n",
       "      <td>False</td>\n",
       "      <td>A</td>\n",
       "      <td>at</td>\n",
       "      <td>A</td>\n",
       "    </tr>\n",
       "  </tbody>\n",
       "</table>\n",
       "</div>"
      ],
      "text/plain": [
       "     START_ID    END_ID    TYPE     pmids  n_pmids    NEG DOMAIN PRED RANGE\n",
       "0    C1273870  C0282623  ABatAB  17170614        1  False     AB   at    AB\n",
       "7    C1273870  C0021294  ABatDO  22564132        1  False     AB   at    DO\n",
       "8    C1273870  C0581876  ABatDO  20937431        1  False     AB   at    DO\n",
       "413  C1517631  C1321301    AatA  17302772        1  False      A   at     A\n",
       "414  C1167519  C0007634    AatA  19232422        1  False      A   at     A"
      ]
     },
     "execution_count": 7,
     "metadata": {},
     "output_type": "execute_result"
    }
   ],
   "source": [
    "edges.head()"
   ]
  },
  {
   "cell_type": "code",
   "execution_count": 8,
   "metadata": {},
   "outputs": [
    {
     "data": {
      "text/plain": [
       "LOCATION_OF         1832484\n",
       "INTERACTS_WITH      1613110\n",
       "COEXISTS_WITH       1565429\n",
       "AFFECTS             1334197\n",
       "PART_OF             1170120\n",
       "STIMULATES           978262\n",
       "INHIBITS             803144\n",
       "ASSOCIATED_WITH      723481\n",
       "CAUSES               691203\n",
       "AUGMENTS             612280\n",
       "TREATS               595909\n",
       "PRODUCES             492690\n",
       "DISRUPTS             444683\n",
       "compared_with        309671\n",
       "ISA                  241195\n",
       "PREDISPOSES          208151\n",
       "PREVENTS             114242\n",
       "higher_than           97908\n",
       "CONVERTS_TO           55314\n",
       "PROCESS_OF            54944\n",
       "MANIFESTATION_OF      36117\n",
       "COMPLICATES           33029\n",
       "USES                  30890\n",
       "PRECEDES              24445\n",
       "lower_than            19562\n",
       "same_as               19549\n",
       "OCCURS_IN             15969\n",
       "ADMINISTERED_TO       14707\n",
       "different_from         5937\n",
       "DIAGNOSES              5409\n",
       "different_than         1434\n",
       "METHOD_OF               438\n",
       "Name: PRED, dtype: int64"
      ]
     },
     "execution_count": 8,
     "metadata": {},
     "output_type": "execute_result"
    }
   ],
   "source": [
    "vc = edges.PRED.value_counts()\n",
    "vc.index = vc.index.map(lambda x:abv_name.get(x))\n",
    "vc"
   ]
  },
  {
   "cell_type": "code",
   "execution_count": 9,
   "metadata": {},
   "outputs": [],
   "source": [
    "def drop_edges(df, drop_edges):\n",
    "    idx = df.query('PRED in @drop_edges').index\n",
    "    df.drop(idx, inplace=True)"
   ]
  },
  {
   "cell_type": "code",
   "execution_count": 10,
   "metadata": {},
   "outputs": [
    {
     "name": "stdout",
     "output_type": "stream",
     "text": [
      "14145903\n",
      "12924176\n"
     ]
    }
   ],
   "source": [
    "# remove edges we don't need\n",
    "print(len(edges))\n",
    "remove_edges = ['compared_with', 'higher_than', 'lower_than', 'different_from', 'different_than', 'same_as',\n",
    "               'OCCURS_IN', 'PROCESS_OF', 'DIAGNOSES', 'METHOD_OF', 'USES',\n",
    "               'AUGMENTS', 'ADMINISTERED_TO', 'COMPLICATES']\n",
    "drop_edges(edges, list(map(name_abv.get, remove_edges)))\n",
    "print(len(edges))"
   ]
  },
  {
   "cell_type": "code",
   "execution_count": 11,
   "metadata": {},
   "outputs": [
    {
     "name": "stdout",
     "output_type": "stream",
     "text": [
      "CDiwCD    1003118\n",
      "AloCD      849621\n",
      "DOcwDO     591441\n",
      "CDcwCD     543724\n",
      "CDstCD     525319\n",
      "Name: TYPE, dtype: int64\n",
      "GiPS      1\n",
      "OBinA     1\n",
      "ABpdDO    1\n",
      "ABstA     1\n",
      "DOpoPH    1\n",
      "Name: TYPE, dtype: int64\n"
     ]
    }
   ],
   "source": [
    "edge_type_counts = edges.TYPE.value_counts()\n",
    "print(edge_type_counts.head())\n",
    "print(edge_type_counts.tail())"
   ]
  },
  {
   "cell_type": "code",
   "execution_count": 12,
   "metadata": {},
   "outputs": [
    {
     "name": "stdout",
     "output_type": "stream",
     "text": [
      "578\n",
      "keeping 141 edges out of 578\n",
      "keeping 12880620 out of 12924176 rows\n"
     ]
    }
   ],
   "source": [
    "# somewhat arbitrarily remove type->pred->type edges with less than 1000 instances\n",
    "print(len(edge_type_counts))\n",
    "idx = edge_type_counts[edge_type_counts>1000]\n",
    "print(\"keeping {} edges out of {}\".format(len(idx), len(edge_type_counts)))\n",
    "orig_len = len(edges)\n",
    "edges = edges[edges.TYPE.isin(idx.index)]\n",
    "print(\"keeping {} out of {} rows\".format(len(edges), orig_len))"
   ]
  },
  {
   "cell_type": "code",
   "execution_count": 13,
   "metadata": {},
   "outputs": [],
   "source": [
    "edge_type_counts = edges.TYPE.value_counts()"
   ]
  },
  {
   "cell_type": "code",
   "execution_count": 14,
   "metadata": {},
   "outputs": [
    {
     "data": {
      "text/plain": [
       "DOcwDO    591441\n",
       "CDcwCD    543724\n",
       "CDcwG     253819\n",
       "GcwG      112263\n",
       "PScwPS     33957\n",
       "PScwDO      9901\n",
       "GcwCD       8453\n",
       "PHcwDO      2327\n",
       "GcwA        1756\n",
       "OBcwCD      1371\n",
       "ABcwDO      1212\n",
       "Name: TYPE, dtype: int64"
      ]
     },
     "execution_count": 14,
     "metadata": {},
     "output_type": "execute_result"
    }
   ],
   "source": [
    "edge_type_counts[edge_type_counts.index.str.contains(\"cw\")]"
   ]
  },
  {
   "cell_type": "code",
   "execution_count": 15,
   "metadata": {},
   "outputs": [
    {
     "name": "stdout",
     "output_type": "stream",
     "text": [
      "180151\n",
      "165577\n"
     ]
    }
   ],
   "source": [
    "# remove nodes with no edges\n",
    "print(len(nodes))\n",
    "nodes = nodes[nodes.ID.isin(set(list(edges.START_ID) + list(edges.END_ID)))]\n",
    "print(len(nodes))"
   ]
  },
  {
   "cell_type": "code",
   "execution_count": 16,
   "metadata": {},
   "outputs": [
    {
     "data": {
      "text/plain": [
       "LOCATION_OF         1828906\n",
       "INTERACTS_WITH      1610497\n",
       "COEXISTS_WITH       1560224\n",
       "AFFECTS             1330905\n",
       "PART_OF             1168114\n",
       "STIMULATES           975601\n",
       "INHIBITS             800502\n",
       "ASSOCIATED_WITH      719086\n",
       "CAUSES               689445\n",
       "TREATS               591775\n",
       "PRODUCES             491415\n",
       "DISRUPTS             441921\n",
       "ISA                  239894\n",
       "PREDISPOSES          206403\n",
       "PREVENTS             112275\n",
       "CONVERTS_TO           55158\n",
       "MANIFESTATION_OF      35088\n",
       "PRECEDES              23411\n",
       "Name: PRED, dtype: int64"
      ]
     },
     "execution_count": 16,
     "metadata": {},
     "output_type": "execute_result"
    }
   ],
   "source": [
    "vc = edges.PRED.value_counts()\n",
    "vc.index = vc.index.map(lambda x:abv_name.get(x))\n",
    "vc"
   ]
  },
  {
   "cell_type": "code",
   "execution_count": 17,
   "metadata": {},
   "outputs": [],
   "source": [
    "edges.to_csv('edges_filtered.csv', index=False)\n",
    "nodes.to_csv(\"nodes_filtered.csv\", index=False)"
   ]
  },
  {
   "cell_type": "code",
   "execution_count": null,
   "metadata": {},
   "outputs": [],
   "source": []
  }
 ],
 "metadata": {
  "kernelspec": {
   "display_name": "Python 3",
   "language": "python",
   "name": "python3"
  },
  "language_info": {
   "codemirror_mode": {
    "name": "ipython",
    "version": 3
   },
   "file_extension": ".py",
   "mimetype": "text/x-python",
   "name": "python",
   "nbconvert_exporter": "python",
   "pygments_lexer": "ipython3",
   "version": "3.5.2"
  }
 },
 "nbformat": 4,
 "nbformat_minor": 2
}
