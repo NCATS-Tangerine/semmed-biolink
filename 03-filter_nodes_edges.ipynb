{
 "cells": [
  {
   "cell_type": "markdown",
   "metadata": {},
   "source": [
    "# 03-filter_nodes_edges.ipynb\n",
    "- Remove edges with nodes with no umls type or label\n",
    "- Remove the following predicates: ['compared_with', 'higher_than', 'lower_than', 'different_from', 'different_than', \n",
    "'same_as','OCCURS_IN', 'PROCESS_OF', 'DIAGNOSES', 'METHOD_OF', 'USES','AUGMENTS', 'ADMINISTERED_TO', 'COMPLICATES']"
   ]
  },
  {
   "cell_type": "code",
   "execution_count": 1,
   "metadata": {},
   "outputs": [
    {
     "name": "stdout",
     "output_type": "stream",
     "text": [
      "Using matplotlib backend: MacOSX\n",
      "Populating the interactive namespace from numpy and matplotlib\n"
     ]
    }
   ],
   "source": [
    "import os\n",
    "import pickle\n",
    "%pylab\n",
    "%matplotlib inline\n",
    "import pandas as pd\n",
    "import seaborn as sns\n",
    "import re\n",
    "from collections import defaultdict\n",
    "from tqdm import tqdm\n",
    "from semmed_biolink_environment import *"
   ]
  },
  {
   "cell_type": "code",
   "execution_count": 2,
   "metadata": {},
   "outputs": [
    {
     "name": "stderr",
     "output_type": "stream",
     "text": [
      "/Users/richard/opt/anaconda3/lib/python3.8/site-packages/numpy/lib/arraysetops.py:569: FutureWarning: elementwise comparison failed; returning scalar instead, but in the future will perform elementwise comparison\n",
      "  mask |= (ar1 == a)\n"
     ]
    },
    {
     "data": {
      "text/html": [
       "<div>\n",
       "<style scoped>\n",
       "    .dataframe tbody tr th:only-of-type {\n",
       "        vertical-align: middle;\n",
       "    }\n",
       "\n",
       "    .dataframe tbody tr th {\n",
       "        vertical-align: top;\n",
       "    }\n",
       "\n",
       "    .dataframe thead th {\n",
       "        text-align: right;\n",
       "    }\n",
       "</style>\n",
       "<table border=\"1\" class=\"dataframe\">\n",
       "  <thead>\n",
       "    <tr style=\"text-align: right;\">\n",
       "      <th></th>\n",
       "      <th>SUBJECT_CUI</th>\n",
       "      <th>PREDICATE</th>\n",
       "      <th>OBJECT_CUI</th>\n",
       "      <th>PMID</th>\n",
       "      <th>NEG</th>\n",
       "    </tr>\n",
       "  </thead>\n",
       "  <tbody>\n",
       "    <tr>\n",
       "      <th>588</th>\n",
       "      <td>C1412045</td>\n",
       "      <td>ADMINISTERED_TO</td>\n",
       "      <td>C0007634</td>\n",
       "      <td>24096582</td>\n",
       "      <td>False</td>\n",
       "    </tr>\n",
       "    <tr>\n",
       "      <th>589</th>\n",
       "      <td>C1412045</td>\n",
       "      <td>ADMINISTERED_TO</td>\n",
       "      <td>C0030705</td>\n",
       "      <td>22577025</td>\n",
       "      <td>False</td>\n",
       "    </tr>\n",
       "    <tr>\n",
       "      <th>590</th>\n",
       "      <td>C1412045</td>\n",
       "      <td>AFFECTS</td>\n",
       "      <td>C0005935</td>\n",
       "      <td>29798367</td>\n",
       "      <td>False</td>\n",
       "    </tr>\n",
       "    <tr>\n",
       "      <th>591</th>\n",
       "      <td>C1412045</td>\n",
       "      <td>AFFECTS</td>\n",
       "      <td>C0020291</td>\n",
       "      <td>6298464</td>\n",
       "      <td>False</td>\n",
       "    </tr>\n",
       "    <tr>\n",
       "      <th>592</th>\n",
       "      <td>C1412045</td>\n",
       "      <td>AFFECTS</td>\n",
       "      <td>C0028754</td>\n",
       "      <td>19789049</td>\n",
       "      <td>False</td>\n",
       "    </tr>\n",
       "  </tbody>\n",
       "</table>\n",
       "</div>"
      ],
      "text/plain": [
       "    SUBJECT_CUI        PREDICATE OBJECT_CUI      PMID    NEG\n",
       "588    C1412045  ADMINISTERED_TO   C0007634  24096582  False\n",
       "589    C1412045  ADMINISTERED_TO   C0030705  22577025  False\n",
       "590    C1412045          AFFECTS   C0005935  29798367  False\n",
       "591    C1412045          AFFECTS   C0020291   6298464  False\n",
       "592    C1412045          AFFECTS   C0028754  19789049  False"
      ]
     },
     "execution_count": 2,
     "metadata": {},
     "output_type": "execute_result"
    }
   ],
   "source": [
    "edges = pd.read_csv(EDGES4_TSV, sep='\\t', index_col=0)\n",
    "edges.head()"
   ]
  },
  {
   "cell_type": "code",
   "execution_count": 3,
   "metadata": {},
   "outputs": [
    {
     "data": {
      "text/html": [
       "<div>\n",
       "<style scoped>\n",
       "    .dataframe tbody tr th:only-of-type {\n",
       "        vertical-align: middle;\n",
       "    }\n",
       "\n",
       "    .dataframe tbody tr th {\n",
       "        vertical-align: top;\n",
       "    }\n",
       "\n",
       "    .dataframe thead th {\n",
       "        text-align: right;\n",
       "    }\n",
       "</style>\n",
       "<table border=\"1\" class=\"dataframe\">\n",
       "  <thead>\n",
       "    <tr style=\"text-align: right;\">\n",
       "      <th></th>\n",
       "      <th>ID</th>\n",
       "      <th>LABEL</th>\n",
       "      <th>umls_type</th>\n",
       "      <th>umls_type_label</th>\n",
       "      <th>blm_category</th>\n",
       "    </tr>\n",
       "  </thead>\n",
       "  <tbody>\n",
       "    <tr>\n",
       "      <th>0</th>\n",
       "      <td>C1516083</td>\n",
       "      <td>Attachment Plaque</td>\n",
       "      <td>T026</td>\n",
       "      <td>Cell Component</td>\n",
       "      <td>CellularComponent</td>\n",
       "    </tr>\n",
       "    <tr>\n",
       "      <th>1</th>\n",
       "      <td>C0656503</td>\n",
       "      <td>4-nonyl-3,5-diethoxycarbonyl-1,4-dihydro-2,6-d...</td>\n",
       "      <td>T121|T109</td>\n",
       "      <td>Organic Chemical|Pharmacologic Substance</td>\n",
       "      <td>ChemicalSubstance</td>\n",
       "    </tr>\n",
       "    <tr>\n",
       "      <th>3</th>\n",
       "      <td>C0234143</td>\n",
       "      <td>Neurological muscle weakness</td>\n",
       "      <td>T047</td>\n",
       "      <td>Disease or Syndrome</td>\n",
       "      <td>DiseaseOrPhenotypicFeature</td>\n",
       "    </tr>\n",
       "    <tr>\n",
       "      <th>5</th>\n",
       "      <td>C0861091</td>\n",
       "      <td>Methanol increased</td>\n",
       "      <td>T033</td>\n",
       "      <td>Finding</td>\n",
       "      <td>DiseaseOrPhenotypicFeature</td>\n",
       "    </tr>\n",
       "    <tr>\n",
       "      <th>6</th>\n",
       "      <td>C0074127</td>\n",
       "      <td>scarlet red</td>\n",
       "      <td>T121|T109|T130</td>\n",
       "      <td>Organic Chemical|Pharmacologic Substance|Indic...</td>\n",
       "      <td>ChemicalSubstance</td>\n",
       "    </tr>\n",
       "  </tbody>\n",
       "</table>\n",
       "</div>"
      ],
      "text/plain": [
       "         ID                                              LABEL  \\\n",
       "0  C1516083                                  Attachment Plaque   \n",
       "1  C0656503  4-nonyl-3,5-diethoxycarbonyl-1,4-dihydro-2,6-d...   \n",
       "3  C0234143                       Neurological muscle weakness   \n",
       "5  C0861091                                 Methanol increased   \n",
       "6  C0074127                                        scarlet red   \n",
       "\n",
       "        umls_type                                    umls_type_label  \\\n",
       "0            T026                                     Cell Component   \n",
       "1       T121|T109           Organic Chemical|Pharmacologic Substance   \n",
       "3            T047                                Disease or Syndrome   \n",
       "5            T033                                            Finding   \n",
       "6  T121|T109|T130  Organic Chemical|Pharmacologic Substance|Indic...   \n",
       "\n",
       "                 blm_category  \n",
       "0           CellularComponent  \n",
       "1           ChemicalSubstance  \n",
       "3  DiseaseOrPhenotypicFeature  \n",
       "5  DiseaseOrPhenotypicFeature  \n",
       "6           ChemicalSubstance  "
      ]
     },
     "execution_count": 3,
     "metadata": {},
     "output_type": "execute_result"
    }
   ],
   "source": [
    "nodes = pd.read_csv(NODES_BLM_TSV, sep='\\t', index_col=0)\n",
    "nodes.head()"
   ]
  },
  {
   "cell_type": "code",
   "execution_count": 4,
   "metadata": {},
   "outputs": [
    {
     "name": "stdout",
     "output_type": "stream",
     "text": [
      "185493\n",
      "23932681\n"
     ]
    }
   ],
   "source": [
    "print(len(nodes))\n",
    "print(len(edges))"
   ]
  },
  {
   "cell_type": "code",
   "execution_count": 5,
   "metadata": {},
   "outputs": [
    {
     "name": "stdout",
     "output_type": "stream",
     "text": [
      "23932681\n",
      "16529669\n"
     ]
    }
   ],
   "source": [
    "# remove edges with no nodes\n",
    "print(len(edges))\n",
    "edges = edges[edges.SUBJECT_CUI.isin(nodes.ID) & edges.OBJECT_CUI.isin(nodes.ID)]\n",
    "print(len(edges))"
   ]
  },
  {
   "cell_type": "code",
   "execution_count": 6,
   "metadata": {},
   "outputs": [
    {
     "data": {
      "text/plain": [
       "INTERACTS_WITH      2229571\n",
       "LOCATION_OF         2164390\n",
       "COEXISTS_WITH       1842464\n",
       "AFFECTS             1644009\n",
       "STIMULATES          1312678\n",
       "INHIBITS            1112598\n",
       "ASSOCIATED_WITH      962351\n",
       "CAUSES               793698\n",
       "PART_OF              760353\n",
       "AUGMENTS             557385\n",
       "DISRUPTS             542272\n",
       "TREATS               503437\n",
       "PRODUCES             483339\n",
       "compared_with        370958\n",
       "PREDISPOSES          279729\n",
       "ISA                  245915\n",
       "PREVENTS             150134\n",
       "PROCESS_OF           142358\n",
       "higher_than          112972\n",
       "ADMINISTERED_TO       66361\n",
       "PRECEDES              55586\n",
       "CONVERTS_TO           49203\n",
       "COMPLICATES           39838\n",
       "MANIFESTATION_OF      38284\n",
       "same_as               24684\n",
       "lower_than            21574\n",
       "USES                  15932\n",
       "DIAGNOSES              5117\n",
       "OCCURS_IN              1222\n",
       "MEASURES               1066\n",
       "METHOD_OF               144\n",
       "MEASUREMENT_OF           44\n",
       "PREP                      3\n",
       "Name: PREDICATE, dtype: int64"
      ]
     },
     "execution_count": 6,
     "metadata": {},
     "output_type": "execute_result"
    }
   ],
   "source": [
    "vc = edges.PREDICATE.value_counts()\n",
    "vc"
   ]
  },
  {
   "cell_type": "code",
   "execution_count": 7,
   "metadata": {},
   "outputs": [],
   "source": [
    "def drop_edges(df, drop_edges):\n",
    "    idx = df.query('PREDICATE in @drop_edges').index\n",
    "    df.drop(idx, inplace=True)"
   ]
  },
  {
   "cell_type": "code",
   "execution_count": 8,
   "metadata": {},
   "outputs": [
    {
     "name": "stdout",
     "output_type": "stream",
     "text": [
      "16529669\n",
      "15171124\n"
     ]
    }
   ],
   "source": [
    "# remove edges we don't need\n",
    "print(len(edges))\n",
    "remove_edges = ['compared_with', 'higher_than', 'lower_than', 'different_from', 'different_than', 'same_as',\n",
    "               'OCCURS_IN', 'PROCESS_OF', 'DIAGNOSES', 'METHOD_OF', 'USES',\n",
    "               'AUGMENTS', 'ADMINISTERED_TO', 'COMPLICATES']\n",
    "drop_edges(edges, remove_edges)\n",
    "print(len(edges))"
   ]
  },
  {
   "cell_type": "code",
   "execution_count": 9,
   "metadata": {},
   "outputs": [
    {
     "name": "stdout",
     "output_type": "stream",
     "text": [
      "185493\n",
      "171636\n"
     ]
    }
   ],
   "source": [
    "# remove nodes with no edges\n",
    "print(len(nodes))\n",
    "nodes = nodes[nodes.ID.isin(set(list(edges.SUBJECT_CUI) + list(edges.OBJECT_CUI)))]\n",
    "print(len(nodes))"
   ]
  },
  {
   "cell_type": "code",
   "execution_count": 10,
   "metadata": {},
   "outputs": [
    {
     "data": {
      "text/plain": [
       "INTERACTS_WITH      2229571\n",
       "LOCATION_OF         2164390\n",
       "COEXISTS_WITH       1842464\n",
       "AFFECTS             1644009\n",
       "STIMULATES          1312678\n",
       "INHIBITS            1112598\n",
       "ASSOCIATED_WITH      962351\n",
       "CAUSES               793698\n",
       "PART_OF              760353\n",
       "DISRUPTS             542272\n",
       "TREATS               503437\n",
       "PRODUCES             483339\n",
       "PREDISPOSES          279729\n",
       "ISA                  245915\n",
       "PREVENTS             150134\n",
       "PRECEDES              55586\n",
       "CONVERTS_TO           49203\n",
       "MANIFESTATION_OF      38284\n",
       "MEASURES               1066\n",
       "MEASUREMENT_OF           44\n",
       "PREP                      3\n",
       "Name: PREDICATE, dtype: int64"
      ]
     },
     "execution_count": 10,
     "metadata": {},
     "output_type": "execute_result"
    }
   ],
   "source": [
    "vc = edges.PREDICATE.value_counts()\n",
    "vc"
   ]
  },
  {
   "cell_type": "code",
   "execution_count": 11,
   "metadata": {},
   "outputs": [],
   "source": [
    "edges.to_csv(EDGES_FILTERED_TSV, sep='\\t', index=False)\n",
    "nodes.to_csv(NODES_FILTERED_TSV, sep='\\t', index=False)"
   ]
  },
  {
   "cell_type": "code",
   "execution_count": null,
   "metadata": {},
   "outputs": [],
   "source": []
  }
 ],
 "metadata": {
  "kernelspec": {
   "display_name": "Python 3",
   "language": "python",
   "name": "python3"
  },
  "language_info": {
   "codemirror_mode": {
    "name": "ipython",
    "version": 3
   },
   "file_extension": ".py",
   "mimetype": "text/x-python",
   "name": "python",
   "nbconvert_exporter": "python",
   "pygments_lexer": "ipython3",
   "version": "3.8.1"
  }
 },
 "nbformat": 4,
 "nbformat_minor": 4
}
