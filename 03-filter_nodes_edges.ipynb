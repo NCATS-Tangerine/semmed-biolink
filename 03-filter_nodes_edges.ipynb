{
 "cells": [
  {
   "cell_type": "markdown",
   "metadata": {},
   "source": [
    "# 03-filter_nodes_edges.ipynb\n",
    "- Remove edges with nodes with no umls type or label\n",
    "- Remove the following predicates: ['compared_with', 'higher_than', 'lower_than', 'different_from', 'different_than', \n",
    "'same_as','OCCURS_IN', 'PROCESS_OF', 'DIAGNOSES', 'METHOD_OF', 'USES','AUGMENTS', 'ADMINISTERED_TO', 'COMPLICATES']"
   ]
  },
  {
   "cell_type": "code",
   "execution_count": 1,
   "metadata": {},
   "outputs": [
    {
     "name": "stdout",
     "output_type": "stream",
     "text": [
      "Using matplotlib backend: MacOSX\n",
      "Populating the interactive namespace from numpy and matplotlib\n"
     ]
    }
   ],
   "source": [
    "import os\n",
    "import pickle\n",
    "%pylab\n",
    "%matplotlib inline\n",
    "import pandas as pd\n",
    "from semmeddb_biolink_environment import *"
   ]
  },
  {
   "cell_type": "code",
   "execution_count": 2,
   "metadata": {},
   "outputs": [
    {
     "name": "stderr",
     "output_type": "stream",
     "text": [
      "/Users/richard/opt/anaconda3/lib/python3.8/site-packages/numpy/lib/arraysetops.py:569: FutureWarning: elementwise comparison failed; returning scalar instead, but in the future will perform elementwise comparison\n",
      "  mask |= (ar1 == a)\n"
     ]
    },
    {
     "data": {
      "text/html": [
       "<div>\n",
       "<style scoped>\n",
       "    .dataframe tbody tr th:only-of-type {\n",
       "        vertical-align: middle;\n",
       "    }\n",
       "\n",
       "    .dataframe tbody tr th {\n",
       "        vertical-align: top;\n",
       "    }\n",
       "\n",
       "    .dataframe thead th {\n",
       "        text-align: right;\n",
       "    }\n",
       "</style>\n",
       "<table border=\"1\" class=\"dataframe\">\n",
       "  <thead>\n",
       "    <tr style=\"text-align: right;\">\n",
       "      <th></th>\n",
       "      <th>SUBJECT_CUI</th>\n",
       "      <th>PREDICATE</th>\n",
       "      <th>OBJECT_CUI</th>\n",
       "      <th>PMID</th>\n",
       "      <th>NEG</th>\n",
       "    </tr>\n",
       "  </thead>\n",
       "  <tbody>\n",
       "    <tr>\n",
       "      <th>766</th>\n",
       "      <td>C1412045</td>\n",
       "      <td>ADMINISTERED_TO</td>\n",
       "      <td>C0007634</td>\n",
       "      <td>24096582</td>\n",
       "      <td>False</td>\n",
       "    </tr>\n",
       "    <tr>\n",
       "      <th>767</th>\n",
       "      <td>C1412045</td>\n",
       "      <td>ADMINISTERED_TO</td>\n",
       "      <td>C0030705</td>\n",
       "      <td>22577025</td>\n",
       "      <td>False</td>\n",
       "    </tr>\n",
       "    <tr>\n",
       "      <th>768</th>\n",
       "      <td>C1412045</td>\n",
       "      <td>AFFECTS</td>\n",
       "      <td>C0005935</td>\n",
       "      <td>29798367</td>\n",
       "      <td>False</td>\n",
       "    </tr>\n",
       "    <tr>\n",
       "      <th>769</th>\n",
       "      <td>C1412045</td>\n",
       "      <td>AFFECTS</td>\n",
       "      <td>C0020291</td>\n",
       "      <td>6298464</td>\n",
       "      <td>False</td>\n",
       "    </tr>\n",
       "    <tr>\n",
       "      <th>770</th>\n",
       "      <td>C1412045</td>\n",
       "      <td>AFFECTS</td>\n",
       "      <td>C0028754</td>\n",
       "      <td>19789049</td>\n",
       "      <td>False</td>\n",
       "    </tr>\n",
       "  </tbody>\n",
       "</table>\n",
       "</div>"
      ],
      "text/plain": [
       "    SUBJECT_CUI        PREDICATE OBJECT_CUI      PMID    NEG\n",
       "766    C1412045  ADMINISTERED_TO   C0007634  24096582  False\n",
       "767    C1412045  ADMINISTERED_TO   C0030705  22577025  False\n",
       "768    C1412045          AFFECTS   C0005935  29798367  False\n",
       "769    C1412045          AFFECTS   C0020291   6298464  False\n",
       "770    C1412045          AFFECTS   C0028754  19789049  False"
      ]
     },
     "execution_count": 2,
     "metadata": {},
     "output_type": "execute_result"
    }
   ],
   "source": [
    "edges = pd.read_csv(EDGES4_TSV, sep='\\t', index_col=0)\n",
    "edges.head()"
   ]
  },
  {
   "cell_type": "code",
   "execution_count": 3,
   "metadata": {},
   "outputs": [
    {
     "data": {
      "text/html": [
       "<div>\n",
       "<style scoped>\n",
       "    .dataframe tbody tr th:only-of-type {\n",
       "        vertical-align: middle;\n",
       "    }\n",
       "\n",
       "    .dataframe tbody tr th {\n",
       "        vertical-align: top;\n",
       "    }\n",
       "\n",
       "    .dataframe thead th {\n",
       "        text-align: right;\n",
       "    }\n",
       "</style>\n",
       "<table border=\"1\" class=\"dataframe\">\n",
       "  <thead>\n",
       "    <tr style=\"text-align: right;\">\n",
       "      <th></th>\n",
       "      <th>ID</th>\n",
       "      <th>LABEL</th>\n",
       "      <th>umls_type</th>\n",
       "      <th>umls_type_label</th>\n",
       "      <th>blm_category</th>\n",
       "    </tr>\n",
       "  </thead>\n",
       "  <tbody>\n",
       "    <tr>\n",
       "      <th>0</th>\n",
       "      <td>C0007952</td>\n",
       "      <td>Personality Character</td>\n",
       "      <td>T041</td>\n",
       "      <td>Mental Process</td>\n",
       "      <td>Behavior</td>\n",
       "    </tr>\n",
       "    <tr>\n",
       "      <th>1</th>\n",
       "      <td>C3574797</td>\n",
       "      <td>Pbunavirus</td>\n",
       "      <td>T005</td>\n",
       "      <td>Virus</td>\n",
       "      <td>OrganismTaxon</td>\n",
       "    </tr>\n",
       "    <tr>\n",
       "      <th>2</th>\n",
       "      <td>C0948102</td>\n",
       "      <td>Salivary gland adenoma</td>\n",
       "      <td>T191</td>\n",
       "      <td>Neoplastic Process</td>\n",
       "      <td>Disease</td>\n",
       "    </tr>\n",
       "    <tr>\n",
       "      <th>3</th>\n",
       "      <td>C0210064</td>\n",
       "      <td>quinotolast</td>\n",
       "      <td>T121|T109</td>\n",
       "      <td>Pharmacologic Substance|Organic Chemical</td>\n",
       "      <td>MolecularEntity</td>\n",
       "    </tr>\n",
       "    <tr>\n",
       "      <th>4</th>\n",
       "      <td>C1008523</td>\n",
       "      <td>Silene viscosa</td>\n",
       "      <td>T002</td>\n",
       "      <td>Plant</td>\n",
       "      <td>OrganismTaxon</td>\n",
       "    </tr>\n",
       "  </tbody>\n",
       "</table>\n",
       "</div>"
      ],
      "text/plain": [
       "         ID                   LABEL  umls_type  \\\n",
       "0  C0007952   Personality Character       T041   \n",
       "1  C3574797              Pbunavirus       T005   \n",
       "2  C0948102  Salivary gland adenoma       T191   \n",
       "3  C0210064             quinotolast  T121|T109   \n",
       "4  C1008523          Silene viscosa       T002   \n",
       "\n",
       "                            umls_type_label     blm_category  \n",
       "0                            Mental Process         Behavior  \n",
       "1                                     Virus    OrganismTaxon  \n",
       "2                        Neoplastic Process          Disease  \n",
       "3  Pharmacologic Substance|Organic Chemical  MolecularEntity  \n",
       "4                                     Plant    OrganismTaxon  "
      ]
     },
     "execution_count": 3,
     "metadata": {},
     "output_type": "execute_result"
    }
   ],
   "source": [
    "nodes = pd.read_csv(NODES_BLM_TSV, sep='\\t', index_col=0)\n",
    "nodes.head()"
   ]
  },
  {
   "cell_type": "code",
   "execution_count": 4,
   "metadata": {},
   "outputs": [
    {
     "name": "stdout",
     "output_type": "stream",
     "text": [
      "310264\n",
      "26370979\n"
     ]
    }
   ],
   "source": [
    "print(len(nodes))\n",
    "print(len(edges))"
   ]
  },
  {
   "cell_type": "code",
   "execution_count": 5,
   "metadata": {},
   "outputs": [
    {
     "name": "stdout",
     "output_type": "stream",
     "text": [
      "26370979\n",
      "24696075\n"
     ]
    }
   ],
   "source": [
    "# remove edges with no nodes\n",
    "print(len(edges))\n",
    "edges = edges[edges.SUBJECT_CUI.isin(nodes.ID) & edges.OBJECT_CUI.isin(nodes.ID)]\n",
    "print(len(edges))"
   ]
  },
  {
   "cell_type": "code",
   "execution_count": 6,
   "metadata": {},
   "outputs": [
    {
     "data": {
      "text/plain": [
       "LOCATION_OF         3308116\n",
       "INTERACTS_WITH      2536607\n",
       "AFFECTS             2355724\n",
       "COEXISTS_WITH       2113139\n",
       "TREATS              1517832\n",
       "STIMULATES          1437115\n",
       "PART_OF             1371158\n",
       "INHIBITS            1219056\n",
       "ASSOCIATED_WITH     1146716\n",
       "PROCESS_OF          1096299\n",
       "CAUSES              1066883\n",
       "AUGMENTS             694213\n",
       "DISRUPTS             658150\n",
       "compared_with        549620\n",
       "PRODUCES             540309\n",
       "USES                 525300\n",
       "PREDISPOSES          378655\n",
       "ISA                  372949\n",
       "DIAGNOSES            318167\n",
       "ADMINISTERED_TO      270170\n",
       "PREVENTS             250853\n",
       "MEASURES             237404\n",
       "PRECEDES             169184\n",
       "higher_than          154528\n",
       "METHOD_OF            139295\n",
       "OCCURS_IN             61291\n",
       "CONVERTS_TO           53282\n",
       "COMPLICATES           47268\n",
       "MANIFESTATION_OF      45009\n",
       "same_as               32353\n",
       "lower_than            28258\n",
       "MEASUREMENT_OF         1166\n",
       "PREP                      4\n",
       "1532                      1\n",
       "NOM                       1\n",
       "Name: PREDICATE, dtype: int64"
      ]
     },
     "execution_count": 6,
     "metadata": {},
     "output_type": "execute_result"
    }
   ],
   "source": [
    "vc = edges.PREDICATE.value_counts()\n",
    "vc"
   ]
  },
  {
   "cell_type": "code",
   "execution_count": 7,
   "metadata": {},
   "outputs": [],
   "source": [
    "def drop_edges(df, drop_edges):\n",
    "    idx = df.query('PREDICATE in @drop_edges').index\n",
    "    df.drop(idx, inplace=True)"
   ]
  },
  {
   "cell_type": "code",
   "execution_count": 8,
   "metadata": {},
   "outputs": [
    {
     "name": "stdout",
     "output_type": "stream",
     "text": [
      "24696075\n",
      "20779307\n"
     ]
    }
   ],
   "source": [
    "# remove edges we don't need\n",
    "print(len(edges))\n",
    "remove_edges = ['compared_with', 'higher_than', 'lower_than', 'different_from', 'different_than', 'same_as',\n",
    "               'OCCURS_IN', 'PROCESS_OF', 'DIAGNOSES', 'METHOD_OF', 'USES',\n",
    "               'AUGMENTS', 'ADMINISTERED_TO', 'COMPLICATES', '1532', 'PREP', 'NOM']\n",
    "drop_edges(edges, remove_edges)\n",
    "print(len(edges))"
   ]
  },
  {
   "cell_type": "code",
   "execution_count": 9,
   "metadata": {},
   "outputs": [
    {
     "name": "stdout",
     "output_type": "stream",
     "text": [
      "310264\n",
      "291339\n"
     ]
    }
   ],
   "source": [
    "# remove nodes with no edges\n",
    "print(len(nodes))\n",
    "nodes = nodes[nodes.ID.isin(set(list(edges.SUBJECT_CUI) + list(edges.OBJECT_CUI)))]\n",
    "print(len(nodes))"
   ]
  },
  {
   "cell_type": "code",
   "execution_count": 10,
   "metadata": {},
   "outputs": [
    {
     "data": {
      "text/plain": [
       "LOCATION_OF         3308116\n",
       "INTERACTS_WITH      2536607\n",
       "AFFECTS             2355724\n",
       "COEXISTS_WITH       2113139\n",
       "TREATS              1517832\n",
       "STIMULATES          1437115\n",
       "PART_OF             1371158\n",
       "INHIBITS            1219056\n",
       "ASSOCIATED_WITH     1146716\n",
       "CAUSES              1066883\n",
       "DISRUPTS             658150\n",
       "PRODUCES             540309\n",
       "PREDISPOSES          378655\n",
       "ISA                  372949\n",
       "PREVENTS             250853\n",
       "MEASURES             237404\n",
       "PRECEDES             169184\n",
       "CONVERTS_TO           53282\n",
       "MANIFESTATION_OF      45009\n",
       "MEASUREMENT_OF         1166\n",
       "Name: PREDICATE, dtype: int64"
      ]
     },
     "execution_count": 10,
     "metadata": {},
     "output_type": "execute_result"
    }
   ],
   "source": [
    "vc = edges.PREDICATE.value_counts()\n",
    "vc"
   ]
  },
  {
   "cell_type": "code",
   "execution_count": 12,
   "metadata": {},
   "outputs": [],
   "source": [
    "edges.to_csv(EDGES_FILTERED_TSV, sep='\\t', index=False)\n",
    "nodes.to_csv(NODES_FILTERED_TSV, sep='\\t', index=False)"
   ]
  },
  {
   "cell_type": "code",
   "execution_count": null,
   "metadata": {},
   "outputs": [],
   "source": []
  }
 ],
 "metadata": {
  "kernelspec": {
   "display_name": "Python 3",
   "language": "python",
   "name": "python3"
  },
  "language_info": {
   "codemirror_mode": {
    "name": "ipython",
    "version": 3
   },
   "file_extension": ".py",
   "mimetype": "text/x-python",
   "name": "python",
   "nbconvert_exporter": "python",
   "pygments_lexer": "ipython3",
   "version": "3.8.1"
  }
 },
 "nbformat": 4,
 "nbformat_minor": 4
}
