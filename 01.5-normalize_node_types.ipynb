{
 "cells": [
  {
   "cell_type": "code",
   "execution_count": 1,
   "metadata": {},
   "outputs": [],
   "source": [
    "# the types in this file are bad.\n",
    "# get types from the UMLS mapping file: MRSTY.RRF\n",
    "# and type->names from: "
   ]
  },
  {
   "cell_type": "code",
   "execution_count": 51,
   "metadata": {},
   "outputs": [],
   "source": [
    "import os\n",
    "import pickle\n",
    "%matplotlib inline\n",
    "import pandas as pd\n",
    "import seaborn as sns\n",
    "import shelve\n",
    "from itertools import chain\n",
    "import re\n",
    "from collections import defaultdict, Counter\n",
    "from tqdm import tqdm\n",
    "import requests"
   ]
  },
  {
   "cell_type": "code",
   "execution_count": 19,
   "metadata": {},
   "outputs": [
    {
     "data": {
      "text/html": [
       "<div>\n",
       "<style scoped>\n",
       "    .dataframe tbody tr th:only-of-type {\n",
       "        vertical-align: middle;\n",
       "    }\n",
       "\n",
       "    .dataframe tbody tr th {\n",
       "        vertical-align: top;\n",
       "    }\n",
       "\n",
       "    .dataframe thead th {\n",
       "        text-align: right;\n",
       "    }\n",
       "</style>\n",
       "<table border=\"1\" class=\"dataframe\">\n",
       "  <thead>\n",
       "    <tr style=\"text-align: right;\">\n",
       "      <th></th>\n",
       "      <th>abv</th>\n",
       "      <th>ID</th>\n",
       "      <th>label</th>\n",
       "    </tr>\n",
       "  </thead>\n",
       "  <tbody>\n",
       "    <tr>\n",
       "      <th>0</th>\n",
       "      <td>aapp</td>\n",
       "      <td>T116</td>\n",
       "      <td>Amino Acid, Peptide, or Protein</td>\n",
       "    </tr>\n",
       "    <tr>\n",
       "      <th>1</th>\n",
       "      <td>acab</td>\n",
       "      <td>T020</td>\n",
       "      <td>Acquired Abnormality</td>\n",
       "    </tr>\n",
       "    <tr>\n",
       "      <th>2</th>\n",
       "      <td>acty</td>\n",
       "      <td>T052</td>\n",
       "      <td>Activity</td>\n",
       "    </tr>\n",
       "    <tr>\n",
       "      <th>3</th>\n",
       "      <td>aggp</td>\n",
       "      <td>T100</td>\n",
       "      <td>Age Group</td>\n",
       "    </tr>\n",
       "    <tr>\n",
       "      <th>4</th>\n",
       "      <td>amas</td>\n",
       "      <td>T087</td>\n",
       "      <td>Amino Acid Sequence</td>\n",
       "    </tr>\n",
       "  </tbody>\n",
       "</table>\n",
       "</div>"
      ],
      "text/plain": [
       "    abv    ID                            label\n",
       "0  aapp  T116  Amino Acid, Peptide, or Protein\n",
       "1  acab  T020             Acquired Abnormality\n",
       "2  acty  T052                         Activity\n",
       "3  aggp  T100                        Age Group\n",
       "4  amas  T087              Amino Acid Sequence"
      ]
     },
     "execution_count": 19,
     "metadata": {},
     "output_type": "execute_result"
    }
   ],
   "source": [
    "names = pd.read_csv(\"https://metamap.nlm.nih.gov/Docs/SemanticTypes_2013AA.txt\", sep=\"|\", \n",
    "                   names=['abv', 'ID', 'label'])\n",
    "names.head()"
   ]
  },
  {
   "cell_type": "code",
   "execution_count": 40,
   "metadata": {},
   "outputs": [],
   "source": [
    "type_label = dict(zip(names.ID, names.label))"
   ]
  },
  {
   "cell_type": "code",
   "execution_count": 13,
   "metadata": {},
   "outputs": [],
   "source": [
    "df = pd.read_csv(\"MRSTY.RRF\", sep=\"|\", names=['ID', 'TYPE', 'who', 'the', 'fuck', 'knows'], index_col=False)"
   ]
  },
  {
   "cell_type": "code",
   "execution_count": 30,
   "metadata": {},
   "outputs": [],
   "source": [
    "id_type = df.groupby(\"ID\").TYPE.apply(set)"
   ]
  },
  {
   "cell_type": "code",
   "execution_count": 34,
   "metadata": {},
   "outputs": [
    {
     "data": {
      "text/plain": [
       "{'T116', 'T121', 'T130'}"
      ]
     },
     "execution_count": 34,
     "metadata": {},
     "output_type": "execute_result"
    }
   ],
   "source": [
    "id_type = id_type.to_dict()\n",
    "id_type['C0000005']"
   ]
  },
  {
   "cell_type": "code",
   "execution_count": 37,
   "metadata": {},
   "outputs": [
    {
     "data": {
      "text/html": [
       "<div>\n",
       "<style scoped>\n",
       "    .dataframe tbody tr th:only-of-type {\n",
       "        vertical-align: middle;\n",
       "    }\n",
       "\n",
       "    .dataframe tbody tr th {\n",
       "        vertical-align: top;\n",
       "    }\n",
       "\n",
       "    .dataframe thead th {\n",
       "        text-align: right;\n",
       "    }\n",
       "</style>\n",
       "<table border=\"1\" class=\"dataframe\">\n",
       "  <thead>\n",
       "    <tr style=\"text-align: right;\">\n",
       "      <th></th>\n",
       "      <th>ID</th>\n",
       "      <th>label</th>\n",
       "      <th>TYPE</th>\n",
       "    </tr>\n",
       "  </thead>\n",
       "  <tbody>\n",
       "    <tr>\n",
       "      <th>0</th>\n",
       "      <td>C0038195</td>\n",
       "      <td>State Medicine</td>\n",
       "      <td>Activities &amp; Behaviors</td>\n",
       "    </tr>\n",
       "    <tr>\n",
       "      <th>1</th>\n",
       "      <td>C1290952</td>\n",
       "      <td>Taking medication</td>\n",
       "      <td>Activities &amp; Behaviors</td>\n",
       "    </tr>\n",
       "    <tr>\n",
       "      <th>2</th>\n",
       "      <td>C0680552</td>\n",
       "      <td>legalization</td>\n",
       "      <td>Activities &amp; Behaviors</td>\n",
       "    </tr>\n",
       "    <tr>\n",
       "      <th>3</th>\n",
       "      <td>C0085092</td>\n",
       "      <td>Parenting behavior</td>\n",
       "      <td>Activities &amp; Behaviors</td>\n",
       "    </tr>\n",
       "    <tr>\n",
       "      <th>4</th>\n",
       "      <td>C1096771</td>\n",
       "      <td>Murderer</td>\n",
       "      <td>Activities &amp; Behaviors</td>\n",
       "    </tr>\n",
       "  </tbody>\n",
       "</table>\n",
       "</div>"
      ],
      "text/plain": [
       "         ID               label                    TYPE\n",
       "0  C0038195      State Medicine  Activities & Behaviors\n",
       "1  C1290952   Taking medication  Activities & Behaviors\n",
       "2  C0680552        legalization  Activities & Behaviors\n",
       "3  C0085092  Parenting behavior  Activities & Behaviors\n",
       "4  C1096771            Murderer  Activities & Behaviors"
      ]
     },
     "execution_count": 37,
     "metadata": {},
     "output_type": "execute_result"
    }
   ],
   "source": [
    "nodes = pd.read_csv(\"nodes_sanitized.csv\", index_col=0)\n",
    "nodes.head()"
   ]
  },
  {
   "cell_type": "code",
   "execution_count": 42,
   "metadata": {},
   "outputs": [],
   "source": [
    "nodes['umls_type'] = nodes.ID.map(lambda x: id_type.get(x, {}))\n",
    "nodes['umls_type_label'] = nodes.umls_type.map(lambda x:{type_label.get(y) for y in x})"
   ]
  },
  {
   "cell_type": "code",
   "execution_count": 44,
   "metadata": {},
   "outputs": [
    {
     "data": {
      "text/html": [
       "<div>\n",
       "<style scoped>\n",
       "    .dataframe tbody tr th:only-of-type {\n",
       "        vertical-align: middle;\n",
       "    }\n",
       "\n",
       "    .dataframe tbody tr th {\n",
       "        vertical-align: top;\n",
       "    }\n",
       "\n",
       "    .dataframe thead th {\n",
       "        text-align: right;\n",
       "    }\n",
       "</style>\n",
       "<table border=\"1\" class=\"dataframe\">\n",
       "  <thead>\n",
       "    <tr style=\"text-align: right;\">\n",
       "      <th></th>\n",
       "      <th>ID</th>\n",
       "      <th>label</th>\n",
       "      <th>TYPE</th>\n",
       "      <th>umls_type</th>\n",
       "      <th>umls_type_label</th>\n",
       "    </tr>\n",
       "  </thead>\n",
       "  <tbody>\n",
       "    <tr>\n",
       "      <th>0</th>\n",
       "      <td>C0038195</td>\n",
       "      <td>State Medicine</td>\n",
       "      <td>Activities &amp; Behaviors</td>\n",
       "      <td>{T064}</td>\n",
       "      <td>{Governmental or Regulatory Activity}</td>\n",
       "    </tr>\n",
       "    <tr>\n",
       "      <th>1</th>\n",
       "      <td>C1290952</td>\n",
       "      <td>Taking medication</td>\n",
       "      <td>Activities &amp; Behaviors</td>\n",
       "      <td>{T056}</td>\n",
       "      <td>{Daily or Recreational Activity}</td>\n",
       "    </tr>\n",
       "    <tr>\n",
       "      <th>2</th>\n",
       "      <td>C0680552</td>\n",
       "      <td>legalization</td>\n",
       "      <td>Activities &amp; Behaviors</td>\n",
       "      <td>{T064}</td>\n",
       "      <td>{Governmental or Regulatory Activity}</td>\n",
       "    </tr>\n",
       "    <tr>\n",
       "      <th>3</th>\n",
       "      <td>C0085092</td>\n",
       "      <td>Parenting behavior</td>\n",
       "      <td>Activities &amp; Behaviors</td>\n",
       "      <td>{T054}</td>\n",
       "      <td>{Social Behavior}</td>\n",
       "    </tr>\n",
       "    <tr>\n",
       "      <th>4</th>\n",
       "      <td>C1096771</td>\n",
       "      <td>Murderer</td>\n",
       "      <td>Activities &amp; Behaviors</td>\n",
       "      <td>{T055}</td>\n",
       "      <td>{Individual Behavior}</td>\n",
       "    </tr>\n",
       "  </tbody>\n",
       "</table>\n",
       "</div>"
      ],
      "text/plain": [
       "         ID               label                    TYPE umls_type  \\\n",
       "0  C0038195      State Medicine  Activities & Behaviors    {T064}   \n",
       "1  C1290952   Taking medication  Activities & Behaviors    {T056}   \n",
       "2  C0680552        legalization  Activities & Behaviors    {T064}   \n",
       "3  C0085092  Parenting behavior  Activities & Behaviors    {T054}   \n",
       "4  C1096771            Murderer  Activities & Behaviors    {T055}   \n",
       "\n",
       "                         umls_type_label  \n",
       "0  {Governmental or Regulatory Activity}  \n",
       "1       {Daily or Recreational Activity}  \n",
       "2  {Governmental or Regulatory Activity}  \n",
       "3                      {Social Behavior}  \n",
       "4                  {Individual Behavior}  "
      ]
     },
     "execution_count": 44,
     "metadata": {},
     "output_type": "execute_result"
    }
   ],
   "source": [
    "nodes.head()"
   ]
  },
  {
   "cell_type": "code",
   "execution_count": 46,
   "metadata": {},
   "outputs": [
    {
     "data": {
      "text/html": [
       "<div>\n",
       "<style scoped>\n",
       "    .dataframe tbody tr th:only-of-type {\n",
       "        vertical-align: middle;\n",
       "    }\n",
       "\n",
       "    .dataframe tbody tr th {\n",
       "        vertical-align: top;\n",
       "    }\n",
       "\n",
       "    .dataframe thead th {\n",
       "        text-align: right;\n",
       "    }\n",
       "</style>\n",
       "<table border=\"1\" class=\"dataframe\">\n",
       "  <thead>\n",
       "    <tr style=\"text-align: right;\">\n",
       "      <th></th>\n",
       "      <th>ID</th>\n",
       "      <th>label</th>\n",
       "      <th>TYPE</th>\n",
       "      <th>umls_type</th>\n",
       "      <th>umls_type_label</th>\n",
       "    </tr>\n",
       "  </thead>\n",
       "  <tbody>\n",
       "    <tr>\n",
       "      <th>34904</th>\n",
       "      <td>C0079904</td>\n",
       "      <td>NF-kappa B</td>\n",
       "      <td>Chemicals &amp; Drugs</td>\n",
       "      <td>{T129, T116}</td>\n",
       "      <td>{Amino Acid, Peptide, or Protein, Immunologic ...</td>\n",
       "    </tr>\n",
       "  </tbody>\n",
       "</table>\n",
       "</div>"
      ],
      "text/plain": [
       "             ID       label               TYPE     umls_type  \\\n",
       "34904  C0079904  NF-kappa B  Chemicals & Drugs  {T129, T116}   \n",
       "\n",
       "                                         umls_type_label  \n",
       "34904  {Amino Acid, Peptide, or Protein, Immunologic ...  "
      ]
     },
     "execution_count": 46,
     "metadata": {},
     "output_type": "execute_result"
    }
   ],
   "source": [
    "nodes.query(\"ID == 'C0079904'\")"
   ]
  },
  {
   "cell_type": "code",
   "execution_count": 49,
   "metadata": {},
   "outputs": [],
   "source": [
    "nodes.to_csv(\"nodes_sanitized.csv\")"
   ]
  },
  {
   "cell_type": "code",
   "execution_count": 91,
   "metadata": {},
   "outputs": [
    {
     "data": {
      "text/html": [
       "<div>\n",
       "<style scoped>\n",
       "    .dataframe tbody tr th:only-of-type {\n",
       "        vertical-align: middle;\n",
       "    }\n",
       "\n",
       "    .dataframe tbody tr th {\n",
       "        vertical-align: top;\n",
       "    }\n",
       "\n",
       "    .dataframe thead th {\n",
       "        text-align: right;\n",
       "    }\n",
       "</style>\n",
       "<table border=\"1\" class=\"dataframe\">\n",
       "  <thead>\n",
       "    <tr style=\"text-align: right;\">\n",
       "      <th></th>\n",
       "      <th>ID</th>\n",
       "      <th>label</th>\n",
       "      <th>TYPE</th>\n",
       "      <th>umls_type</th>\n",
       "      <th>umls_type_label</th>\n",
       "    </tr>\n",
       "  </thead>\n",
       "  <tbody>\n",
       "    <tr>\n",
       "      <th>0</th>\n",
       "      <td>C0038195</td>\n",
       "      <td>State Medicine</td>\n",
       "      <td>Activities &amp; Behaviors</td>\n",
       "      <td>{T064}</td>\n",
       "      <td>{Governmental or Regulatory Activity}</td>\n",
       "    </tr>\n",
       "    <tr>\n",
       "      <th>1</th>\n",
       "      <td>C1290952</td>\n",
       "      <td>Taking medication</td>\n",
       "      <td>Activities &amp; Behaviors</td>\n",
       "      <td>{T056}</td>\n",
       "      <td>{Daily or Recreational Activity}</td>\n",
       "    </tr>\n",
       "    <tr>\n",
       "      <th>2</th>\n",
       "      <td>C0680552</td>\n",
       "      <td>legalization</td>\n",
       "      <td>Activities &amp; Behaviors</td>\n",
       "      <td>{T064}</td>\n",
       "      <td>{Governmental or Regulatory Activity}</td>\n",
       "    </tr>\n",
       "    <tr>\n",
       "      <th>3</th>\n",
       "      <td>C0085092</td>\n",
       "      <td>Parenting behavior</td>\n",
       "      <td>Activities &amp; Behaviors</td>\n",
       "      <td>{T054}</td>\n",
       "      <td>{Social Behavior}</td>\n",
       "    </tr>\n",
       "    <tr>\n",
       "      <th>4</th>\n",
       "      <td>C1096771</td>\n",
       "      <td>Murderer</td>\n",
       "      <td>Activities &amp; Behaviors</td>\n",
       "      <td>{T055}</td>\n",
       "      <td>{Individual Behavior}</td>\n",
       "    </tr>\n",
       "  </tbody>\n",
       "</table>\n",
       "</div>"
      ],
      "text/plain": [
       "         ID               label                    TYPE umls_type  \\\n",
       "0  C0038195      State Medicine  Activities & Behaviors    {T064}   \n",
       "1  C1290952   Taking medication  Activities & Behaviors    {T056}   \n",
       "2  C0680552        legalization  Activities & Behaviors    {T064}   \n",
       "3  C0085092  Parenting behavior  Activities & Behaviors    {T054}   \n",
       "4  C1096771            Murderer  Activities & Behaviors    {T055}   \n",
       "\n",
       "                         umls_type_label  \n",
       "0  {Governmental or Regulatory Activity}  \n",
       "1       {Daily or Recreational Activity}  \n",
       "2  {Governmental or Regulatory Activity}  \n",
       "3                      {Social Behavior}  \n",
       "4                  {Individual Behavior}  "
      ]
     },
     "execution_count": 91,
     "metadata": {},
     "output_type": "execute_result"
    }
   ],
   "source": [
    "nodes = pd.read_csv(\"nodes_sanitized.csv\", index_col=0, converters={'umls_type': eval, 'umls_type_label': eval})\n",
    "nodes.head()"
   ]
  },
  {
   "cell_type": "code",
   "execution_count": 92,
   "metadata": {},
   "outputs": [
    {
     "data": {
      "text/plain": [
       "268917"
      ]
     },
     "execution_count": 92,
     "metadata": {},
     "output_type": "execute_result"
    }
   ],
   "source": [
    "len(nodes)"
   ]
  },
  {
   "cell_type": "code",
   "execution_count": 93,
   "metadata": {},
   "outputs": [
    {
     "data": {
      "text/plain": [
       "9773"
      ]
     },
     "execution_count": 93,
     "metadata": {},
     "output_type": "execute_result"
    }
   ],
   "source": [
    "# number of nodes with no UMLS type\n",
    "len(nodes[nodes.umls_type.map(len) == 0])"
   ]
  },
  {
   "cell_type": "code",
   "execution_count": 94,
   "metadata": {},
   "outputs": [
    {
     "data": {
      "text/plain": [
       "[('Organic Chemical', 53109),\n",
       " ('Pharmacologic Substance', 36750),\n",
       " ('Amino Acid, Peptide, or Protein', 29930),\n",
       " ('Gene or Genome', 18932),\n",
       " ('Disease or Syndrome', 16582),\n",
       " ('Eukaryote', 11772),\n",
       " ('Plant', 11265),\n",
       " ('Biologically Active Substance', 11195),\n",
       " ('Enzyme', 8922),\n",
       " ('Finding', 8702),\n",
       " ('Therapeutic or Preventive Procedure', 8114),\n",
       " ('Body Part, Organ, or Organ Component', 8114),\n",
       " ('Bacterium', 6016),\n",
       " ('Neoplastic Process', 5049),\n",
       " ('Medical Device', 4768),\n",
       " ('Immunologic Factor', 4384),\n",
       " ('Fungus', 3503),\n",
       " ('Laboratory Procedure', 3494),\n",
       " ('Molecular Function', 3260),\n",
       " ('Indicator, Reagent, or Diagnostic Aid', 3062),\n",
       " ('Mammal', 3056),\n",
       " ('Fish', 2888),\n",
       " ('Nucleic Acid, Nucleoside, or Nucleotide', 2804),\n",
       " ('Virus', 2523),\n",
       " ('Clinical Drug', 2498),\n",
       " ('Pathologic Function', 2423),\n",
       " ('Diagnostic Procedure', 2382),\n",
       " ('Hazardous or Poisonous Substance', 2288),\n",
       " ('Injury or Poisoning', 2104),\n",
       " ('Inorganic Chemical', 2084)]"
      ]
     },
     "execution_count": 94,
     "metadata": {},
     "output_type": "execute_result"
    }
   ],
   "source": [
    "Counter(chain(*list(nodes.umls_type_label))).most_common(30)"
   ]
  },
  {
   "cell_type": "code",
   "execution_count": 95,
   "metadata": {},
   "outputs": [
    {
     "data": {
      "text/plain": [
       "Chemicals & Drugs    29930\n",
       "Name: TYPE, dtype: int64"
      ]
     },
     "execution_count": 95,
     "metadata": {},
     "output_type": "execute_result"
    }
   ],
   "source": [
    "# what is the TYPE for those where the umls type is: \n",
    "nodes[nodes.umls_type_label.apply(lambda x:\"Amino Acid, Peptide, or Protein\" in x)].TYPE.value_counts()"
   ]
  },
  {
   "cell_type": "code",
   "execution_count": 96,
   "metadata": {},
   "outputs": [
    {
     "data": {
      "text/plain": [
       "Chemicals & Drugs    2804\n",
       "Name: TYPE, dtype: int64"
      ]
     },
     "execution_count": 96,
     "metadata": {},
     "output_type": "execute_result"
    }
   ],
   "source": [
    "# what is the TYPE for those where the umls type is: \n",
    "nodes[nodes.umls_type_label.apply(lambda x:\"Nucleic Acid, Nucleoside, or Nucleotide\" in x)].TYPE.value_counts()"
   ]
  },
  {
   "cell_type": "code",
   "execution_count": 97,
   "metadata": {},
   "outputs": [],
   "source": [
    "# \"Amino Acid, Peptide, or Protein\" nodes -> \"protein\"\n",
    "nodes.loc[nodes.umls_type_label.apply(lambda x:\"Amino Acid, Peptide, or Protein\" in x), \"TYPE\"] = \"protein\""
   ]
  },
  {
   "cell_type": "code",
   "execution_count": 98,
   "metadata": {},
   "outputs": [],
   "source": [
    "# those that have umls type \"Nucleic Acid, Nucleoside, or Nucleotide\" and NOT \"Pharmacologic Substance\"\n",
    "# -> \"genomic_entity\"\n",
    "nodes.loc[nodes.umls_type_label.apply(lambda x:\"Nucleic Acid, Nucleoside, or Nucleotide\" in x and\n",
    "                                     \"Pharmacologic Substance\" not in x), \"TYPE\"] = \"genomic_entity\""
   ]
  },
  {
   "cell_type": "code",
   "execution_count": 100,
   "metadata": {},
   "outputs": [
    {
     "data": {
      "text/plain": [
       "protein           29865\n",
       "genomic_entity       65\n",
       "Name: TYPE, dtype: int64"
      ]
     },
     "execution_count": 100,
     "metadata": {},
     "output_type": "execute_result"
    }
   ],
   "source": [
    "nodes[nodes.umls_type_label.apply(lambda x:\"Amino Acid, Peptide, or Protein\" in x)].TYPE.value_counts()"
   ]
  },
  {
   "cell_type": "code",
   "execution_count": 101,
   "metadata": {},
   "outputs": [
    {
     "data": {
      "text/plain": [
       "genomic_entity       1906\n",
       "Chemicals & Drugs     888\n",
       "protein                10\n",
       "Name: TYPE, dtype: int64"
      ]
     },
     "execution_count": 101,
     "metadata": {},
     "output_type": "execute_result"
    }
   ],
   "source": [
    "nodes[nodes.umls_type_label.apply(lambda x:\"Nucleic Acid, Nucleoside, or Nucleotide\" in x)].TYPE.value_counts()"
   ]
  },
  {
   "cell_type": "code",
   "execution_count": 102,
   "metadata": {},
   "outputs": [],
   "source": [
    "del nodes['umls_type_label']\n",
    "del nodes['umls_type']"
   ]
  },
  {
   "cell_type": "code",
   "execution_count": 103,
   "metadata": {},
   "outputs": [],
   "source": [
    "nodes.to_csv(\"nodes_fix_types.csv\")"
   ]
  },
  {
   "cell_type": "code",
   "execution_count": null,
   "metadata": {},
   "outputs": [],
   "source": []
  }
 ],
 "metadata": {
  "kernelspec": {
   "display_name": "Python 3",
   "language": "python",
   "name": "python3"
  },
  "language_info": {
   "codemirror_mode": {
    "name": "ipython",
    "version": 3
   },
   "file_extension": ".py",
   "mimetype": "text/x-python",
   "name": "python",
   "nbconvert_exporter": "python",
   "pygments_lexer": "ipython3",
   "version": "3.5.2"
  }
 },
 "nbformat": 4,
 "nbformat_minor": 2
}
