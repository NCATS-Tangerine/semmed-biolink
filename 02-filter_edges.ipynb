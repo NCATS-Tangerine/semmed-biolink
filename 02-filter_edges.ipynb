{
 "cells": [
  {
   "cell_type": "code",
   "execution_count": 1,
   "metadata": {},
   "outputs": [],
   "source": [
    "# remove edges with low counts/occurence, or no good mapping, or not useful"
   ]
  },
  {
   "cell_type": "code",
   "execution_count": 2,
   "metadata": {},
   "outputs": [
    {
     "name": "stdout",
     "output_type": "stream",
     "text": [
      "Using matplotlib backend: TkAgg\n",
      "Populating the interactive namespace from numpy and matplotlib\n"
     ]
    }
   ],
   "source": [
    "import os\n",
    "import pickle\n",
    "%pylab\n",
    "%matplotlib inline\n",
    "import pandas as pd\n",
    "import seaborn as sns\n",
    "import re\n",
    "from collections import defaultdict\n",
    "from tqdm import tqdm"
   ]
  },
  {
   "cell_type": "code",
   "execution_count": 3,
   "metadata": {},
   "outputs": [],
   "source": [
    "edges = pd.read_csv('edges_sanitized.csv')"
   ]
  },
  {
   "cell_type": "code",
   "execution_count": 4,
   "metadata": {},
   "outputs": [
    {
     "data": {
      "text/html": [
       "<div>\n",
       "<style scoped>\n",
       "    .dataframe tbody tr th:only-of-type {\n",
       "        vertical-align: middle;\n",
       "    }\n",
       "\n",
       "    .dataframe tbody tr th {\n",
       "        vertical-align: top;\n",
       "    }\n",
       "\n",
       "    .dataframe thead th {\n",
       "        text-align: right;\n",
       "    }\n",
       "</style>\n",
       "<table border=\"1\" class=\"dataframe\">\n",
       "  <thead>\n",
       "    <tr style=\"text-align: right;\">\n",
       "      <th></th>\n",
       "      <th>ID</th>\n",
       "      <th>label</th>\n",
       "      <th>TYPE</th>\n",
       "    </tr>\n",
       "  </thead>\n",
       "  <tbody>\n",
       "    <tr>\n",
       "      <th>0</th>\n",
       "      <td>C0038195</td>\n",
       "      <td>State Medicine</td>\n",
       "      <td>Activities &amp; Behaviors</td>\n",
       "    </tr>\n",
       "    <tr>\n",
       "      <th>1</th>\n",
       "      <td>C1290952</td>\n",
       "      <td>Taking medication</td>\n",
       "      <td>Activities &amp; Behaviors</td>\n",
       "    </tr>\n",
       "    <tr>\n",
       "      <th>2</th>\n",
       "      <td>C0680552</td>\n",
       "      <td>legalization</td>\n",
       "      <td>Activities &amp; Behaviors</td>\n",
       "    </tr>\n",
       "    <tr>\n",
       "      <th>3</th>\n",
       "      <td>C0085092</td>\n",
       "      <td>Parenting behavior</td>\n",
       "      <td>Activities &amp; Behaviors</td>\n",
       "    </tr>\n",
       "    <tr>\n",
       "      <th>4</th>\n",
       "      <td>C1096771</td>\n",
       "      <td>Murderer</td>\n",
       "      <td>Activities &amp; Behaviors</td>\n",
       "    </tr>\n",
       "  </tbody>\n",
       "</table>\n",
       "</div>"
      ],
      "text/plain": [
       "         ID               label                    TYPE\n",
       "0  C0038195      State Medicine  Activities & Behaviors\n",
       "1  C1290952   Taking medication  Activities & Behaviors\n",
       "2  C0680552        legalization  Activities & Behaviors\n",
       "3  C0085092  Parenting behavior  Activities & Behaviors\n",
       "4  C1096771            Murderer  Activities & Behaviors"
      ]
     },
     "execution_count": 4,
     "metadata": {},
     "output_type": "execute_result"
    }
   ],
   "source": [
    "nodes = pd.read_csv(\"nodes_sanitized.csv\", index_col=0)\n",
    "nodes.head()"
   ]
  },
  {
   "cell_type": "code",
   "execution_count": 5,
   "metadata": {},
   "outputs": [],
   "source": [
    "abv = pd.read_csv(\"abv.csv\")\n",
    "name_abv = dict(zip(abv.full_name, abv.abv))\n",
    "abv_name = dict(zip(abv.abv, abv.full_name))"
   ]
  },
  {
   "cell_type": "code",
   "execution_count": 6,
   "metadata": {},
   "outputs": [
    {
     "data": {
      "text/html": [
       "<div>\n",
       "<style scoped>\n",
       "    .dataframe tbody tr th:only-of-type {\n",
       "        vertical-align: middle;\n",
       "    }\n",
       "\n",
       "    .dataframe tbody tr th {\n",
       "        vertical-align: top;\n",
       "    }\n",
       "\n",
       "    .dataframe thead th {\n",
       "        text-align: right;\n",
       "    }\n",
       "</style>\n",
       "<table border=\"1\" class=\"dataframe\">\n",
       "  <thead>\n",
       "    <tr style=\"text-align: right;\">\n",
       "      <th></th>\n",
       "      <th>START_ID</th>\n",
       "      <th>END_ID</th>\n",
       "      <th>TYPE</th>\n",
       "      <th>pmids</th>\n",
       "      <th>n_pmids</th>\n",
       "      <th>NEG</th>\n",
       "      <th>DOMAIN</th>\n",
       "      <th>PRED</th>\n",
       "      <th>RANGE</th>\n",
       "    </tr>\n",
       "  </thead>\n",
       "  <tbody>\n",
       "    <tr>\n",
       "      <th>0</th>\n",
       "      <td>C1273870</td>\n",
       "      <td>C0282623</td>\n",
       "      <td>ABatAB</td>\n",
       "      <td>17170614</td>\n",
       "      <td>1</td>\n",
       "      <td>False</td>\n",
       "      <td>AB</td>\n",
       "      <td>at</td>\n",
       "      <td>AB</td>\n",
       "    </tr>\n",
       "    <tr>\n",
       "      <th>1</th>\n",
       "      <td>C0935546</td>\n",
       "      <td>C0221192</td>\n",
       "      <td>ABatCI</td>\n",
       "      <td>15856663</td>\n",
       "      <td>1</td>\n",
       "      <td>False</td>\n",
       "      <td>AB</td>\n",
       "      <td>at</td>\n",
       "      <td>CI</td>\n",
       "    </tr>\n",
       "    <tr>\n",
       "      <th>2</th>\n",
       "      <td>C1273870</td>\n",
       "      <td>C1138603</td>\n",
       "      <td>ABatCI</td>\n",
       "      <td>12943031;15842188</td>\n",
       "      <td>2</td>\n",
       "      <td>False</td>\n",
       "      <td>AB</td>\n",
       "      <td>at</td>\n",
       "      <td>CI</td>\n",
       "    </tr>\n",
       "    <tr>\n",
       "      <th>3</th>\n",
       "      <td>C1273870</td>\n",
       "      <td>C0221192</td>\n",
       "      <td>ABatCI</td>\n",
       "      <td>25503364;22250100;24417454;16723949;19337198;2...</td>\n",
       "      <td>53</td>\n",
       "      <td>False</td>\n",
       "      <td>AB</td>\n",
       "      <td>at</td>\n",
       "      <td>CI</td>\n",
       "    </tr>\n",
       "    <tr>\n",
       "      <th>4</th>\n",
       "      <td>C0556656</td>\n",
       "      <td>C0221192</td>\n",
       "      <td>ABatCI</td>\n",
       "      <td>17684606;16230038;17323301;14707659;17530066;1...</td>\n",
       "      <td>7</td>\n",
       "      <td>False</td>\n",
       "      <td>AB</td>\n",
       "      <td>at</td>\n",
       "      <td>CI</td>\n",
       "    </tr>\n",
       "  </tbody>\n",
       "</table>\n",
       "</div>"
      ],
      "text/plain": [
       "   START_ID    END_ID    TYPE  \\\n",
       "0  C1273870  C0282623  ABatAB   \n",
       "1  C0935546  C0221192  ABatCI   \n",
       "2  C1273870  C1138603  ABatCI   \n",
       "3  C1273870  C0221192  ABatCI   \n",
       "4  C0556656  C0221192  ABatCI   \n",
       "\n",
       "                                               pmids  n_pmids    NEG DOMAIN  \\\n",
       "0                                           17170614        1  False     AB   \n",
       "1                                           15856663        1  False     AB   \n",
       "2                                  12943031;15842188        2  False     AB   \n",
       "3  25503364;22250100;24417454;16723949;19337198;2...       53  False     AB   \n",
       "4  17684606;16230038;17323301;14707659;17530066;1...        7  False     AB   \n",
       "\n",
       "  PRED RANGE  \n",
       "0   at    AB  \n",
       "1   at    CI  \n",
       "2   at    CI  \n",
       "3   at    CI  \n",
       "4   at    CI  "
      ]
     },
     "execution_count": 6,
     "metadata": {},
     "output_type": "execute_result"
    }
   ],
   "source": [
    "edges.head()"
   ]
  },
  {
   "cell_type": "code",
   "execution_count": 7,
   "metadata": {},
   "outputs": [
    {
     "data": {
      "text/plain": [
       "LOCATION_OF         2784593\n",
       "AFFECTS             1811542\n",
       "PART_OF             1783262\n",
       "INTERACTS_WITH      1777938\n",
       "COEXISTS_WITH       1720576\n",
       "TREATS              1461120\n",
       "STIMULATES          1022236\n",
       "PROCESS_OF           930313\n",
       "CAUSES               895512\n",
       "INHIBITS             836695\n",
       "ASSOCIATED_WITH      801413\n",
       "AUGMENTS             703490\n",
       "USES                 616047\n",
       "PRODUCES             539846\n",
       "DISRUPTS             508487\n",
       "compared_with        428485\n",
       "ISA                  395398\n",
       "DIAGNOSES            271145\n",
       "PREDISPOSES          252842\n",
       "METHOD_OF            207813\n",
       "PREVENTS             187540\n",
       "ADMINISTERED_TO      187036\n",
       "higher_than          130312\n",
       "PRECEDES             101478\n",
       "OCCURS_IN             67383\n",
       "CONVERTS_TO           57504\n",
       "MANIFESTATION_OF      41592\n",
       "COMPLICATES           37497\n",
       "same_as               26740\n",
       "lower_than            25684\n",
       "different_from         6864\n",
       "different_than         1729\n",
       "Name: PRED, dtype: int64"
      ]
     },
     "execution_count": 7,
     "metadata": {},
     "output_type": "execute_result"
    }
   ],
   "source": [
    "vc = edges.PRED.value_counts()\n",
    "vc.index = vc.index.map(lambda x:abv_name.get(x))\n",
    "vc"
   ]
  },
  {
   "cell_type": "code",
   "execution_count": 8,
   "metadata": {},
   "outputs": [],
   "source": [
    "def drop_edges(df, drop_edges):\n",
    "    idx = df.query('PRED in @drop_edges').index\n",
    "    df.drop(idx, inplace=True)"
   ]
  },
  {
   "cell_type": "code",
   "execution_count": 9,
   "metadata": {},
   "outputs": [
    {
     "name": "stdout",
     "output_type": "stream",
     "text": [
      "20620112\n",
      "17907597\n"
     ]
    }
   ],
   "source": [
    "# remove edges we don't need\n",
    "print(len(edges))\n",
    "remove_edges = ['compared_with', 'higher_than', 'lower_than', 'different_from', 'different_than', 'same_as',\n",
    "               'OCCURS_IN', 'PROCESS_OF', 'DIAGNOSES', 'METHOD_OF', 'USES']\n",
    "drop_edges(edges, list(map(name_abv.get, remove_edges)))\n",
    "print(len(edges))"
   ]
  },
  {
   "cell_type": "code",
   "execution_count": 10,
   "metadata": {},
   "outputs": [
    {
     "name": "stdout",
     "output_type": "stream",
     "text": [
      "CDiwCD    1047376\n",
      "AloCD      881943\n",
      "DOcwDO     636149\n",
      "CDcwCD     556105\n",
      "CDstCD     535258\n",
      "Name: TYPE, dtype: int64\n",
      "OBtG      1\n",
      "GctOR     1\n",
      "ABatPS    1\n",
      "ABawCI    1\n",
      "ORtPS     1\n",
      "Name: TYPE, dtype: int64\n"
     ]
    }
   ],
   "source": [
    "edge_type_counts = edges.TYPE.value_counts()\n",
    "print(edge_type_counts.head())\n",
    "print(edge_type_counts.tail())"
   ]
  },
  {
   "cell_type": "code",
   "execution_count": 11,
   "metadata": {},
   "outputs": [
    {
     "name": "stdout",
     "output_type": "stream",
     "text": [
      "1662\n",
      "keeping 283 edges out of 1662\n",
      "keeping 17789224 out of 17907597 rows\n"
     ]
    }
   ],
   "source": [
    "# somewhat arbitrarily remove type->pred->type edges with less than 1000 instances\n",
    "print(len(edge_type_counts))\n",
    "idx = edge_type_counts[edge_type_counts>1000]\n",
    "print(\"keeping {} edges out of {}\".format(len(idx), len(edge_type_counts)))\n",
    "orig_len = len(edges)\n",
    "edges = edges[edges.TYPE.isin(idx.index)]\n",
    "print(\"keeping {} out of {} rows\".format(len(edges), orig_len))"
   ]
  },
  {
   "cell_type": "code",
   "execution_count": 12,
   "metadata": {},
   "outputs": [],
   "source": [
    "edge_type_counts = edges.TYPE.value_counts()"
   ]
  },
  {
   "cell_type": "code",
   "execution_count": 13,
   "metadata": {},
   "outputs": [
    {
     "data": {
      "text/plain": [
       "Series([], Name: TYPE, dtype: int64)"
      ]
     },
     "execution_count": 13,
     "metadata": {},
     "output_type": "execute_result"
    }
   ],
   "source": [
    "edge_type_counts[edge_type_counts.index.str.contains(\"pro\")]"
   ]
  },
  {
   "cell_type": "code",
   "execution_count": 14,
   "metadata": {},
   "outputs": [
    {
     "name": "stdout",
     "output_type": "stream",
     "text": [
      "268917\n"
     ]
    }
   ],
   "source": [
    "print(len(nodes))"
   ]
  },
  {
   "cell_type": "code",
   "execution_count": 15,
   "metadata": {},
   "outputs": [],
   "source": [
    "# remove nodes with no edges\n",
    "nodes = nodes[nodes.ID.isin(set(list(edges.START_ID) + list(edges.END_ID)))]"
   ]
  },
  {
   "cell_type": "code",
   "execution_count": 16,
   "metadata": {},
   "outputs": [
    {
     "name": "stdout",
     "output_type": "stream",
     "text": [
      "255658\n"
     ]
    }
   ],
   "source": [
    "print(len(nodes))"
   ]
  },
  {
   "cell_type": "code",
   "execution_count": 17,
   "metadata": {},
   "outputs": [],
   "source": [
    "edges.to_csv('edges_filtered.csv', index=False)\n",
    "nodes.to_csv(\"nodes_filtered.csv\", index=False)"
   ]
  },
  {
   "cell_type": "code",
   "execution_count": null,
   "metadata": {},
   "outputs": [],
   "source": []
  }
 ],
 "metadata": {
  "kernelspec": {
   "display_name": "Python 3",
   "language": "python",
   "name": "python3"
  },
  "language_info": {
   "codemirror_mode": {
    "name": "ipython",
    "version": 3
   },
   "file_extension": ".py",
   "mimetype": "text/x-python",
   "name": "python",
   "nbconvert_exporter": "python",
   "pygments_lexer": "ipython3",
   "version": "3.5.2"
  }
 },
 "nbformat": 4,
 "nbformat_minor": 2
}
