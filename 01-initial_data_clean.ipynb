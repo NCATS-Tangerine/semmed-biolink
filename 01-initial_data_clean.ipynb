{
 "cells": [
  {
   "cell_type": "markdown",
   "metadata": {},
   "source": [
    "01-initial_data_clean.ipynb\n",
    "\n",
    "first run download_convert.sh to download sql file and convert to csv\n",
    "- Expand predicates with OR operations into individual predicates\n",
    "- Convert cuis that are entrez ids into cuis\n",
    "- Change neg props to the same prop with a negative flag\n",
    "- Make a separate nodes table"
   ]
  },
  {
   "cell_type": "code",
   "execution_count": 1,
   "metadata": {},
   "outputs": [],
   "source": [
    "import os\n",
    "import pickle\n",
    "%matplotlib inline\n",
    "import pandas as pd\n",
    "import seaborn as sns\n",
    "import matplotlib.pyplot as plt\n",
    "from tqdm import tqdm_notebook\n",
    "from collections import defaultdict\n",
    "import itertools\n",
    "import numpy as np"
   ]
  },
  {
   "cell_type": "code",
   "execution_count": 4,
   "metadata": {},
   "outputs": [],
   "source": [
    "DATA  = 'data/'\n",
    "SEMMEDDB_PREDICATION_CSV = DATA+\"semmedVER42_2020_R_PREDICATION.csv\"\n",
    "EDGES1_CSV = DATA+\"edges1.csv\"\n",
    "EDGES2_CSV = DATA+\"edges2.csv\"\n",
    "EDGES3_CSV = DATA+\"edges3.csv\"\n",
    "NODES1_CSV = DATA+\"nodes1.csv\""
   ]
  },
  {
   "cell_type": "code",
   "execution_count": 5,
   "metadata": {},
   "outputs": [
    {
     "name": "stdout",
     "output_type": "stream",
     "text": [
      "data/semmedVER42_2020_R_PREDICATION.csv\n"
     ]
    }
   ],
   "source": [
    "print(SEMMEDDB_PREDICATION_CSV)"
   ]
  },
  {
   "cell_type": "raw",
   "metadata": {},
   "source": [
    "## This takes too much ram ##\n",
    "sem_df = pd.read_csv(SEMMEDDB_PREDICATION_CSV, \n",
    "                     usecols=['SUBJECT_CUI', 'PREDICATE','OBJECT_CUI'],\n",
    "                     #nrows=int(93876633/10),\n",
    "                     dtype=str\n",
    "                    )\n",
    "print(sem_df.shape)\n",
    "# Group rows together with the same subj -> pred -> obj and keep count of number of pmids\n",
    "sem_df = sem_df.groupby(['SUBJECT_CUI', 'PREDICATE','OBJECT_CUI']).size().reset_index(name='counts')"
   ]
  },
  {
   "cell_type": "code",
   "execution_count": 32,
   "metadata": {},
   "outputs": [
    {
     "data": {
      "application/vnd.jupyter.widget-view+json": {
       "model_id": "8b0dacfa409f42d081a21ac55fe5eba7",
       "version_major": 2,
       "version_minor": 0
      },
      "text/plain": [
       "HBox(children=(IntProgress(value=0, max=10), HTML(value='')))"
      ]
     },
     "metadata": {},
     "output_type": "display_data"
    },
    {
     "name": "stdout",
     "output_type": "stream",
     "text": [
      "\n"
     ]
    }
   ],
   "source": [
    "# read in csv, group rows together with the same subj -> pred -> obj and keep count of number of pmids\n",
    "# done in chunks\n",
    "cols = ['SUBJECT_CUI','PREDICATE','OBJECT_CUI','PMID']\n",
    "gb_cols = ['SUBJECT_CUI','PREDICATE','OBJECT_CUI']\n",
    "sem_df = pd.DataFrame(columns=cols)\n",
    "df_iter = pd.read_csv(SEMMEDDB_PREDICATION_CSV, dtype=str, usecols=cols, chunksize=10000000)\n",
    "for chunk in tqdm_notebook(df_iter, total=10):\n",
    "    chunk.PMID = chunk.PMID.astype(\"str\")\n",
    "    c = chunk.groupby(gb_cols).PMID.agg(\";\".join).reset_index()\n",
    "    sem_df = sem_df.append(c)"
   ]
  },
  {
   "cell_type": "code",
   "execution_count": 39,
   "metadata": {},
   "outputs": [
    {
     "name": "stdout",
     "output_type": "stream",
     "text": [
      "19476062\n",
      "19476062\n"
     ]
    }
   ],
   "source": [
    "# group everything together again\n",
    "print(len(sem_df))\n",
    "sem_df = sem_df.groupby(gb_cols).PMID.agg(\";\".join).reset_index()\n",
    "print(len(sem_df))"
   ]
  },
  {
   "cell_type": "code",
   "execution_count": 40,
   "metadata": {},
   "outputs": [
    {
     "name": "stdout",
     "output_type": "stream",
     "text": [
      "0    13036630\n",
      "1     2739873\n",
      "2     1095890\n",
      "3      592645\n",
      "4      369792\n",
      "Name: PMID, dtype: int64\n"
     ]
    }
   ],
   "source": [
    "print(sem_df.PMID.str.count(\";\").value_counts()[:5])"
   ]
  },
  {
   "cell_type": "code",
   "execution_count": 41,
   "metadata": {},
   "outputs": [
    {
     "data": {
      "text/html": [
       "<div>\n",
       "<style scoped>\n",
       "    .dataframe tbody tr th:only-of-type {\n",
       "        vertical-align: middle;\n",
       "    }\n",
       "\n",
       "    .dataframe tbody tr th {\n",
       "        vertical-align: top;\n",
       "    }\n",
       "\n",
       "    .dataframe thead th {\n",
       "        text-align: right;\n",
       "    }\n",
       "</style>\n",
       "<table border=\"1\" class=\"dataframe\">\n",
       "  <thead>\n",
       "    <tr style=\"text-align: right;\">\n",
       "      <th></th>\n",
       "      <th>SUBJECT_CUI</th>\n",
       "      <th>PREDICATE</th>\n",
       "      <th>OBJECT_CUI</th>\n",
       "      <th>PMID</th>\n",
       "    </tr>\n",
       "  </thead>\n",
       "  <tbody>\n",
       "    <tr>\n",
       "      <th>0</th>\n",
       "      <td>1</td>\n",
       "      <td>AFFECTS</td>\n",
       "      <td>C0020291</td>\n",
       "      <td>6298464</td>\n",
       "    </tr>\n",
       "    <tr>\n",
       "      <th>1</th>\n",
       "      <td>1</td>\n",
       "      <td>AFFECTS</td>\n",
       "      <td>C0023946</td>\n",
       "      <td>20801151</td>\n",
       "    </tr>\n",
       "    <tr>\n",
       "      <th>2</th>\n",
       "      <td>1</td>\n",
       "      <td>AFFECTS</td>\n",
       "      <td>C0028754</td>\n",
       "      <td>19789049</td>\n",
       "    </tr>\n",
       "    <tr>\n",
       "      <th>3</th>\n",
       "      <td>1</td>\n",
       "      <td>AFFECTS</td>\n",
       "      <td>C0597304</td>\n",
       "      <td>1409557</td>\n",
       "    </tr>\n",
       "    <tr>\n",
       "      <th>4</th>\n",
       "      <td>1</td>\n",
       "      <td>AFFECTS</td>\n",
       "      <td>C0599816</td>\n",
       "      <td>7617239</td>\n",
       "    </tr>\n",
       "  </tbody>\n",
       "</table>\n",
       "</div>"
      ],
      "text/plain": [
       "  SUBJECT_CUI PREDICATE OBJECT_CUI      PMID\n",
       "0           1   AFFECTS   C0020291   6298464\n",
       "1           1   AFFECTS   C0023946  20801151\n",
       "2           1   AFFECTS   C0028754  19789049\n",
       "3           1   AFFECTS   C0597304   1409557\n",
       "4           1   AFFECTS   C0599816   7617239"
      ]
     },
     "execution_count": 41,
     "metadata": {},
     "output_type": "execute_result"
    }
   ],
   "source": [
    "sem_df.head()"
   ]
  },
  {
   "cell_type": "code",
   "execution_count": 42,
   "metadata": {},
   "outputs": [],
   "source": [
    "sem_df.to_csv(EDGES1_CSV)"
   ]
  },
  {
   "cell_type": "markdown",
   "metadata": {},
   "source": [
    "#### in semmedDB some subjects and objects of extracted statments contained the pipe character | as an indicator of multiple concepts in the sentence."
   ]
  },
  {
   "cell_type": "code",
   "execution_count": 43,
   "metadata": {},
   "outputs": [
    {
     "name": "stdout",
     "output_type": "stream",
     "text": [
      "Rows with multiple subjects or objects 2,681,265\n",
      "Rows with only 1 subject AND only 1 object 16,794,797\n"
     ]
    }
   ],
   "source": [
    "# separate out lines with pipes from the rest\n",
    "multi_start = sem_df['SUBJECT_CUI'].str.contains('|', regex=False)\n",
    "multi_end = sem_df['OBJECT_CUI'].str.contains('|', regex=False)\n",
    "pipe_lines = sem_df[multi_start | multi_end].copy()\n",
    "sem_df = sem_df[~multi_start & ~multi_end]\n",
    "print('Rows with multiple subjects or objects {:,}'.format(len(pipe_lines)))\n",
    "print('Rows with only 1 subject AND only 1 object {:,}'.format(len(sem_df)))"
   ]
  },
  {
   "cell_type": "code",
   "execution_count": 44,
   "metadata": {},
   "outputs": [
    {
     "data": {
      "text/html": [
       "<div>\n",
       "<style scoped>\n",
       "    .dataframe tbody tr th:only-of-type {\n",
       "        vertical-align: middle;\n",
       "    }\n",
       "\n",
       "    .dataframe tbody tr th {\n",
       "        vertical-align: top;\n",
       "    }\n",
       "\n",
       "    .dataframe thead th {\n",
       "        text-align: right;\n",
       "    }\n",
       "</style>\n",
       "<table border=\"1\" class=\"dataframe\">\n",
       "  <thead>\n",
       "    <tr style=\"text-align: right;\">\n",
       "      <th></th>\n",
       "      <th>SUBJECT_CUI</th>\n",
       "      <th>PREDICATE</th>\n",
       "      <th>OBJECT_CUI</th>\n",
       "      <th>PMID</th>\n",
       "    </tr>\n",
       "  </thead>\n",
       "  <tbody>\n",
       "    <tr>\n",
       "      <th>23</th>\n",
       "      <td>[1]</td>\n",
       "      <td>COEXISTS_WITH</td>\n",
       "      <td>[C0003241, 4099]</td>\n",
       "      <td>24639825;24639825;24639825</td>\n",
       "    </tr>\n",
       "    <tr>\n",
       "      <th>41</th>\n",
       "      <td>[1]</td>\n",
       "      <td>INTERACTS_WITH</td>\n",
       "      <td>[C1333653, 9846]</td>\n",
       "      <td>22865653</td>\n",
       "    </tr>\n",
       "    <tr>\n",
       "      <th>63</th>\n",
       "      <td>[1]</td>\n",
       "      <td>STIMULATES</td>\n",
       "      <td>[C0164786, 207]</td>\n",
       "      <td>22865653</td>\n",
       "    </tr>\n",
       "    <tr>\n",
       "      <th>71</th>\n",
       "      <td>[1]</td>\n",
       "      <td>compared_with</td>\n",
       "      <td>[C0040643, 866, 57733]</td>\n",
       "      <td>28919732</td>\n",
       "    </tr>\n",
       "    <tr>\n",
       "      <th>77</th>\n",
       "      <td>[10]</td>\n",
       "      <td>compared_with</td>\n",
       "      <td>[C0796518, 10]</td>\n",
       "      <td>8631131</td>\n",
       "    </tr>\n",
       "  </tbody>\n",
       "</table>\n",
       "</div>"
      ],
      "text/plain": [
       "   SUBJECT_CUI       PREDICATE              OBJECT_CUI  \\\n",
       "23         [1]   COEXISTS_WITH        [C0003241, 4099]   \n",
       "41         [1]  INTERACTS_WITH        [C1333653, 9846]   \n",
       "63         [1]      STIMULATES         [C0164786, 207]   \n",
       "71         [1]   compared_with  [C0040643, 866, 57733]   \n",
       "77        [10]   compared_with          [C0796518, 10]   \n",
       "\n",
       "                          PMID  \n",
       "23  24639825;24639825;24639825  \n",
       "41                    22865653  \n",
       "63                    22865653  \n",
       "71                    28919732  \n",
       "77                     8631131  "
      ]
     },
     "execution_count": 44,
     "metadata": {},
     "output_type": "execute_result"
    }
   ],
   "source": [
    "pipe_lines.SUBJECT_CUI = pipe_lines.SUBJECT_CUI.str.split('|')\n",
    "pipe_lines.OBJECT_CUI = pipe_lines.OBJECT_CUI.str.split('|')\n",
    "pipe_lines.head()"
   ]
  },
  {
   "cell_type": "code",
   "execution_count": 45,
   "metadata": {},
   "outputs": [
    {
     "data": {
      "application/vnd.jupyter.widget-view+json": {
       "model_id": "664b939c15d740ee8e10ac4602139289",
       "version_major": 2,
       "version_minor": 0
      },
      "text/plain": [
       "HBox(children=(IntProgress(value=0, max=2681265), HTML(value='')))"
      ]
     },
     "metadata": {},
     "output_type": "display_data"
    },
    {
     "name": "stdout",
     "output_type": "stream",
     "text": [
      "\n"
     ]
    }
   ],
   "source": [
    "# do the combinations\n",
    "lines = []\n",
    "for row in tqdm_notebook(pipe_lines.itertuples(), total=len(pipe_lines)):\n",
    "    #print(row)\n",
    "    a = [row.SUBJECT_CUI, row.OBJECT_CUI]\n",
    "    c = list(itertools.product(*a))\n",
    "    lines.extend([{'SUBJECT_CUI':x[0], 'PREDICATE':row.PREDICATE, 'OBJECT_CUI':x[1], 'PMID': row.PMID} for x in c])\n",
    "expanded_df = pd.DataFrame(lines)"
   ]
  },
  {
   "cell_type": "code",
   "execution_count": 46,
   "metadata": {},
   "outputs": [
    {
     "name": "stdout",
     "output_type": "stream",
     "text": [
      "6453951\n"
     ]
    },
    {
     "data": {
      "text/html": [
       "<div>\n",
       "<style scoped>\n",
       "    .dataframe tbody tr th:only-of-type {\n",
       "        vertical-align: middle;\n",
       "    }\n",
       "\n",
       "    .dataframe tbody tr th {\n",
       "        vertical-align: top;\n",
       "    }\n",
       "\n",
       "    .dataframe thead th {\n",
       "        text-align: right;\n",
       "    }\n",
       "</style>\n",
       "<table border=\"1\" class=\"dataframe\">\n",
       "  <thead>\n",
       "    <tr style=\"text-align: right;\">\n",
       "      <th></th>\n",
       "      <th>OBJECT_CUI</th>\n",
       "      <th>PMID</th>\n",
       "      <th>PREDICATE</th>\n",
       "      <th>SUBJECT_CUI</th>\n",
       "    </tr>\n",
       "  </thead>\n",
       "  <tbody>\n",
       "    <tr>\n",
       "      <th>0</th>\n",
       "      <td>C0003241</td>\n",
       "      <td>24639825;24639825;24639825</td>\n",
       "      <td>COEXISTS_WITH</td>\n",
       "      <td>1</td>\n",
       "    </tr>\n",
       "    <tr>\n",
       "      <th>1</th>\n",
       "      <td>4099</td>\n",
       "      <td>24639825;24639825;24639825</td>\n",
       "      <td>COEXISTS_WITH</td>\n",
       "      <td>1</td>\n",
       "    </tr>\n",
       "    <tr>\n",
       "      <th>2</th>\n",
       "      <td>C1333653</td>\n",
       "      <td>22865653</td>\n",
       "      <td>INTERACTS_WITH</td>\n",
       "      <td>1</td>\n",
       "    </tr>\n",
       "    <tr>\n",
       "      <th>3</th>\n",
       "      <td>9846</td>\n",
       "      <td>22865653</td>\n",
       "      <td>INTERACTS_WITH</td>\n",
       "      <td>1</td>\n",
       "    </tr>\n",
       "    <tr>\n",
       "      <th>4</th>\n",
       "      <td>C0164786</td>\n",
       "      <td>22865653</td>\n",
       "      <td>STIMULATES</td>\n",
       "      <td>1</td>\n",
       "    </tr>\n",
       "  </tbody>\n",
       "</table>\n",
       "</div>"
      ],
      "text/plain": [
       "  OBJECT_CUI                        PMID       PREDICATE SUBJECT_CUI\n",
       "0   C0003241  24639825;24639825;24639825   COEXISTS_WITH           1\n",
       "1       4099  24639825;24639825;24639825   COEXISTS_WITH           1\n",
       "2   C1333653                    22865653  INTERACTS_WITH           1\n",
       "3       9846                    22865653  INTERACTS_WITH           1\n",
       "4   C0164786                    22865653      STIMULATES           1"
      ]
     },
     "execution_count": 46,
     "metadata": {},
     "output_type": "execute_result"
    }
   ],
   "source": [
    "print(len(expanded_df))\n",
    "expanded_df.head()"
   ]
  },
  {
   "cell_type": "code",
   "execution_count": 47,
   "metadata": {},
   "outputs": [
    {
     "name": "stdout",
     "output_type": "stream",
     "text": [
      "16794797\n",
      "23248748\n"
     ]
    }
   ],
   "source": [
    "# append the expanded rows to the original df\n",
    "print(len(sem_df))\n",
    "sem_df = sem_df.append(expanded_df, sort=True)\n",
    "print(len(sem_df))"
   ]
  },
  {
   "cell_type": "code",
   "execution_count": 48,
   "metadata": {},
   "outputs": [
    {
     "name": "stdout",
     "output_type": "stream",
     "text": [
      "22322647\n"
     ]
    }
   ],
   "source": [
    "# Group rows together again and aggregate pmids\n",
    "sem_df = sem_df.groupby(gb_cols).PMID.agg(\";\".join).reset_index()\n",
    "print(len(sem_df))"
   ]
  },
  {
   "cell_type": "markdown",
   "metadata": {},
   "source": [
    "### There are many CUIs that are not actually cuis. Mike has determined they are (usually/always?) entrez IDs"
   ]
  },
  {
   "cell_type": "code",
   "execution_count": 49,
   "metadata": {},
   "outputs": [
    {
     "data": {
      "application/vnd.jupyter.widget-view+json": {
       "model_id": "c2ff13c5ad8f4b8882da9652f6eff1a0",
       "version_major": 2,
       "version_minor": 0
      },
      "text/plain": [
       "HBox(children=(IntProgress(value=0, max=67), HTML(value='')))"
      ]
     },
     "metadata": {},
     "output_type": "display_data"
    },
    {
     "name": "stderr",
     "output_type": "stream",
     "text": [
      "/usr/local/lib/python3.5/dist-packages/IPython/core/interactiveshell.py:2963: DtypeWarning: Columns (7,10) have mixed types. Specify dtype option on import or set low_memory=False.\n",
      "  exec(code_obj, self.user_global_ns, self.user_ns)\n",
      "/usr/local/lib/python3.5/dist-packages/IPython/core/interactiveshell.py:2963: DtypeWarning: Columns (7) have mixed types. Specify dtype option on import or set low_memory=False.\n",
      "  exec(code_obj, self.user_global_ns, self.user_ns)\n"
     ]
    },
    {
     "name": "stdout",
     "output_type": "stream",
     "text": [
      "\n"
     ]
    }
   ],
   "source": [
    "# are going to get them out of this MRSAT file (download from UMLS Metathesaurus)\n",
    "# I did: cat MRSAT.RRF.a* | gzip > MRSAT.RRF.gz\n",
    "names = list(\"abcdefghijklmn\")\n",
    "iter_csv = pd.read_csv(\"MRSAT.RRF.gz\", delimiter=\"|\", names=names, index_col=None, chunksize=1000000)\n",
    "chunks = []\n",
    "umls_entrez = dict()\n",
    "for chunk in tqdm_notebook(iter_csv, total=67668372/1000000):\n",
    "    chunk.fillna(method='ffill', inplace=True)\n",
    "    chunk = chunk[chunk.i == \"ENTREZGENE_ID\"]\n",
    "    d = dict(zip(chunk.a, chunk.k))\n",
    "    umls_entrez.update(d)"
   ]
  },
  {
   "cell_type": "code",
   "execution_count": 50,
   "metadata": {},
   "outputs": [
    {
     "data": {
      "text/plain": [
       "'C1415639'"
      ]
     },
     "execution_count": 50,
     "metadata": {},
     "output_type": "execute_result"
    }
   ],
   "source": [
    "entrez_umls = {v:k for k,v in umls_entrez.items()}\n",
    "entrez_umls['9987']"
   ]
  },
  {
   "cell_type": "code",
   "execution_count": 51,
   "metadata": {},
   "outputs": [],
   "source": [
    "sem_df.SUBJECT_CUI = sem_df.SUBJECT_CUI.map(lambda x:entrez_umls[x] if x in entrez_umls else x)\n",
    "sem_df.OBJECT_CUI = sem_df.OBJECT_CUI.map(lambda x:entrez_umls[x] if x in entrez_umls else x)"
   ]
  },
  {
   "cell_type": "code",
   "execution_count": 52,
   "metadata": {},
   "outputs": [
    {
     "name": "stdout",
     "output_type": "stream",
     "text": [
      "21694\n"
     ]
    }
   ],
   "source": [
    "noncdf = sem_df[~sem_df.SUBJECT_CUI.str.startswith(\"C\")]\n",
    "print(len(noncdf))"
   ]
  },
  {
   "cell_type": "code",
   "execution_count": 53,
   "metadata": {},
   "outputs": [
    {
     "name": "stdout",
     "output_type": "stream",
     "text": [
      "22322647\n",
      "22280924\n"
     ]
    }
   ],
   "source": [
    "# dump everything that doesn't starts with a \"C\"\n",
    "print(len(sem_df))\n",
    "sem_df = sem_df[sem_df.SUBJECT_CUI.str.startswith(\"C\")]\n",
    "sem_df = sem_df[sem_df.OBJECT_CUI.str.startswith(\"C\")]\n",
    "print(len(sem_df))"
   ]
  },
  {
   "cell_type": "code",
   "execution_count": 3,
   "metadata": {},
   "outputs": [
    {
     "name": "stderr",
     "output_type": "stream",
     "text": [
      "/usr/local/lib/python3.5/dist-packages/numpy/lib/arraysetops.py:472: FutureWarning: elementwise comparison failed; returning scalar instead, but in the future will perform elementwise comparison\n",
      "  mask |= (ar1 == a)\n"
     ]
    }
   ],
   "source": [
    "# sem_df.to_csv(EDGES2_CSV)\n",
    "# sem_df = pd.read_csv(EDGES2_CSV, index_col=0)"
   ]
  },
  {
   "cell_type": "code",
   "execution_count": 4,
   "metadata": {},
   "outputs": [
    {
     "data": {
      "text/html": [
       "<div>\n",
       "<style scoped>\n",
       "    .dataframe tbody tr th:only-of-type {\n",
       "        vertical-align: middle;\n",
       "    }\n",
       "\n",
       "    .dataframe tbody tr th {\n",
       "        vertical-align: top;\n",
       "    }\n",
       "\n",
       "    .dataframe thead th {\n",
       "        text-align: right;\n",
       "    }\n",
       "</style>\n",
       "<table border=\"1\" class=\"dataframe\">\n",
       "  <thead>\n",
       "    <tr style=\"text-align: right;\">\n",
       "      <th></th>\n",
       "      <th>SUBJECT_CUI</th>\n",
       "      <th>PREDICATE</th>\n",
       "      <th>OBJECT_CUI</th>\n",
       "      <th>PMID</th>\n",
       "      <th>NEG</th>\n",
       "    </tr>\n",
       "  </thead>\n",
       "  <tbody>\n",
       "    <tr>\n",
       "      <th>436</th>\n",
       "      <td>C1412045</td>\n",
       "      <td>AFFECTS</td>\n",
       "      <td>C0031845</td>\n",
       "      <td>19737390</td>\n",
       "      <td>True</td>\n",
       "    </tr>\n",
       "    <tr>\n",
       "      <th>437</th>\n",
       "      <td>C1412045</td>\n",
       "      <td>ASSOCIATED_WITH</td>\n",
       "      <td>C0206754</td>\n",
       "      <td>28792692</td>\n",
       "      <td>True</td>\n",
       "    </tr>\n",
       "    <tr>\n",
       "      <th>438</th>\n",
       "      <td>C1412045</td>\n",
       "      <td>CAUSES</td>\n",
       "      <td>C1457887</td>\n",
       "      <td>18943647</td>\n",
       "      <td>True</td>\n",
       "    </tr>\n",
       "    <tr>\n",
       "      <th>439</th>\n",
       "      <td>C1412045</td>\n",
       "      <td>TREATS</td>\n",
       "      <td>C0001807</td>\n",
       "      <td>1616455</td>\n",
       "      <td>True</td>\n",
       "    </tr>\n",
       "    <tr>\n",
       "      <th>855</th>\n",
       "      <td>C0796518</td>\n",
       "      <td>AFFECTS</td>\n",
       "      <td>C0242379</td>\n",
       "      <td>15808403</td>\n",
       "      <td>True</td>\n",
       "    </tr>\n",
       "  </tbody>\n",
       "</table>\n",
       "</div>"
      ],
      "text/plain": [
       "    SUBJECT_CUI        PREDICATE OBJECT_CUI      PMID   NEG\n",
       "436    C1412045          AFFECTS   C0031845  19737390  True\n",
       "437    C1412045  ASSOCIATED_WITH   C0206754  28792692  True\n",
       "438    C1412045           CAUSES   C1457887  18943647  True\n",
       "439    C1412045           TREATS   C0001807   1616455  True\n",
       "855    C0796518          AFFECTS   C0242379  15808403  True"
      ]
     },
     "execution_count": 4,
     "metadata": {},
     "output_type": "execute_result"
    }
   ],
   "source": [
    "# change the neg to the same prop without neg and add a neg column# chang \n",
    "idx = sem_df[\"PREDICATE\"].str.startswith(\"NEG_\")\n",
    "sem_df['NEG'] = False\n",
    "sem_df.loc[idx, 'NEG'] = True\n",
    "sem_df.loc[idx, 'PREDICATE'] = sem_df[idx].PREDICATE.str.replace(\"NEG_\", \"\")\n",
    "sem_df[sem_df.NEG].head()"
   ]
  },
  {
   "cell_type": "code",
   "execution_count": 5,
   "metadata": {},
   "outputs": [],
   "source": [
    "sem_df.to_csv(EDGES3_CSV)"
   ]
  },
  {
   "cell_type": "code",
   "execution_count": 6,
   "metadata": {},
   "outputs": [
    {
     "name": "stderr",
     "output_type": "stream",
     "text": [
      "/usr/local/lib/python3.5/dist-packages/IPython/core/interactiveshell.py:2785: DtypeWarning: Columns (9,10,13) have mixed types. Specify dtype option on import or set low_memory=False.\n",
      "  interactivity=interactivity, compiler=compiler, result=result)\n"
     ]
    },
    {
     "data": {
      "text/html": [
       "<div>\n",
       "<style scoped>\n",
       "    .dataframe tbody tr th:only-of-type {\n",
       "        vertical-align: middle;\n",
       "    }\n",
       "\n",
       "    .dataframe tbody tr th {\n",
       "        vertical-align: top;\n",
       "    }\n",
       "\n",
       "    .dataframe thead th {\n",
       "        text-align: right;\n",
       "    }\n",
       "</style>\n",
       "<table border=\"1\" class=\"dataframe\">\n",
       "  <thead>\n",
       "    <tr style=\"text-align: right;\">\n",
       "      <th></th>\n",
       "      <th>a</th>\n",
       "      <th>b</th>\n",
       "      <th>c</th>\n",
       "      <th>d</th>\n",
       "      <th>e</th>\n",
       "      <th>f</th>\n",
       "      <th>g</th>\n",
       "      <th>h</th>\n",
       "      <th>i</th>\n",
       "      <th>j</th>\n",
       "      <th>k</th>\n",
       "      <th>l</th>\n",
       "      <th>m</th>\n",
       "      <th>n</th>\n",
       "      <th>o</th>\n",
       "      <th>p</th>\n",
       "      <th>q</th>\n",
       "      <th>r</th>\n",
       "      <th>s</th>\n",
       "    </tr>\n",
       "  </thead>\n",
       "  <tbody>\n",
       "    <tr>\n",
       "      <th>0</th>\n",
       "      <td>C0000005</td>\n",
       "      <td>ENG</td>\n",
       "      <td>P</td>\n",
       "      <td>L0000005</td>\n",
       "      <td>PF</td>\n",
       "      <td>S0007492</td>\n",
       "      <td>Y</td>\n",
       "      <td>A26634265</td>\n",
       "      <td>NaN</td>\n",
       "      <td>M0019694</td>\n",
       "      <td>D012711</td>\n",
       "      <td>MSH</td>\n",
       "      <td>PEP</td>\n",
       "      <td>D012711</td>\n",
       "      <td>(131)I-Macroaggregated Albumin</td>\n",
       "      <td>0</td>\n",
       "      <td>N</td>\n",
       "      <td>256.0</td>\n",
       "      <td>NaN</td>\n",
       "    </tr>\n",
       "    <tr>\n",
       "      <th>2</th>\n",
       "      <td>C0000039</td>\n",
       "      <td>ENG</td>\n",
       "      <td>P</td>\n",
       "      <td>L0000039</td>\n",
       "      <td>PF</td>\n",
       "      <td>S17175117</td>\n",
       "      <td>N</td>\n",
       "      <td>A28315139</td>\n",
       "      <td>9194921.0</td>\n",
       "      <td>1926948</td>\n",
       "      <td>NaN</td>\n",
       "      <td>RXNORM</td>\n",
       "      <td>IN</td>\n",
       "      <td>1926948</td>\n",
       "      <td>1,2-dipalmitoylphosphatidylcholine</td>\n",
       "      <td>0</td>\n",
       "      <td>N</td>\n",
       "      <td>256.0</td>\n",
       "      <td>NaN</td>\n",
       "    </tr>\n",
       "    <tr>\n",
       "      <th>3</th>\n",
       "      <td>C0000039</td>\n",
       "      <td>ENG</td>\n",
       "      <td>P</td>\n",
       "      <td>L0000039</td>\n",
       "      <td>PF</td>\n",
       "      <td>S17175117</td>\n",
       "      <td>Y</td>\n",
       "      <td>A28572604</td>\n",
       "      <td>NaN</td>\n",
       "      <td>NaN</td>\n",
       "      <td>NaN</td>\n",
       "      <td>MTH</td>\n",
       "      <td>PN</td>\n",
       "      <td>NOCODE</td>\n",
       "      <td>1,2-dipalmitoylphosphatidylcholine</td>\n",
       "      <td>0</td>\n",
       "      <td>N</td>\n",
       "      <td>256.0</td>\n",
       "      <td>NaN</td>\n",
       "    </tr>\n",
       "    <tr>\n",
       "      <th>32</th>\n",
       "      <td>C0000052</td>\n",
       "      <td>ENG</td>\n",
       "      <td>P</td>\n",
       "      <td>L0000052</td>\n",
       "      <td>PF</td>\n",
       "      <td>S0007584</td>\n",
       "      <td>N</td>\n",
       "      <td>A0016535</td>\n",
       "      <td>NaN</td>\n",
       "      <td>M0023173</td>\n",
       "      <td>D015061</td>\n",
       "      <td>MSH</td>\n",
       "      <td>MH</td>\n",
       "      <td>D015061</td>\n",
       "      <td>1,4-alpha-Glucan Branching Enzyme</td>\n",
       "      <td>0</td>\n",
       "      <td>N</td>\n",
       "      <td>256.0</td>\n",
       "      <td>NaN</td>\n",
       "    </tr>\n",
       "    <tr>\n",
       "      <th>33</th>\n",
       "      <td>C0000052</td>\n",
       "      <td>ENG</td>\n",
       "      <td>P</td>\n",
       "      <td>L0000052</td>\n",
       "      <td>PF</td>\n",
       "      <td>S0007584</td>\n",
       "      <td>N</td>\n",
       "      <td>A18020417</td>\n",
       "      <td>NaN</td>\n",
       "      <td>N0000168345</td>\n",
       "      <td>NaN</td>\n",
       "      <td>NDFRT</td>\n",
       "      <td>PT</td>\n",
       "      <td>N0000168345</td>\n",
       "      <td>1,4-alpha-Glucan Branching Enzyme</td>\n",
       "      <td>0</td>\n",
       "      <td>N</td>\n",
       "      <td>256.0</td>\n",
       "      <td>NaN</td>\n",
       "    </tr>\n",
       "  </tbody>\n",
       "</table>\n",
       "</div>"
      ],
      "text/plain": [
       "           a    b  c         d   e          f  g          h          i  \\\n",
       "0   C0000005  ENG  P  L0000005  PF   S0007492  Y  A26634265        NaN   \n",
       "2   C0000039  ENG  P  L0000039  PF  S17175117  N  A28315139  9194921.0   \n",
       "3   C0000039  ENG  P  L0000039  PF  S17175117  Y  A28572604        NaN   \n",
       "32  C0000052  ENG  P  L0000052  PF   S0007584  N   A0016535        NaN   \n",
       "33  C0000052  ENG  P  L0000052  PF   S0007584  N  A18020417        NaN   \n",
       "\n",
       "              j        k       l    m            n  \\\n",
       "0      M0019694  D012711     MSH  PEP      D012711   \n",
       "2       1926948      NaN  RXNORM   IN      1926948   \n",
       "3           NaN      NaN     MTH   PN       NOCODE   \n",
       "32     M0023173  D015061     MSH   MH      D015061   \n",
       "33  N0000168345      NaN   NDFRT   PT  N0000168345   \n",
       "\n",
       "                                     o  p  q      r   s  \n",
       "0       (131)I-Macroaggregated Albumin  0  N  256.0 NaN  \n",
       "2   1,2-dipalmitoylphosphatidylcholine  0  N  256.0 NaN  \n",
       "3   1,2-dipalmitoylphosphatidylcholine  0  N  256.0 NaN  \n",
       "32   1,4-alpha-Glucan Branching Enzyme  0  N  256.0 NaN  \n",
       "33   1,4-alpha-Glucan Branching Enzyme  0  N  256.0 NaN  "
      ]
     },
     "execution_count": 6,
     "metadata": {},
     "output_type": "execute_result"
    }
   ],
   "source": [
    "### Make a nodes table\n",
    "conso = pd.read_csv(\"MRCONSO_ENG.RRF.gz\", delimiter=\"|\", index_col=None, names = list(\"abcdefghijklmnopqrs\"))\n",
    "conso = conso[(conso['c'] == \"P\") & (conso['e'] == \"PF\")]\n",
    "conso.head()"
   ]
  },
  {
   "cell_type": "code",
   "execution_count": 7,
   "metadata": {},
   "outputs": [
    {
     "name": "stdout",
     "output_type": "stream",
     "text": [
      "3654581\n"
     ]
    }
   ],
   "source": [
    "node_label = dict(zip(conso.a, conso.o))\n",
    "print(len(node_label))"
   ]
  },
  {
   "cell_type": "code",
   "execution_count": 8,
   "metadata": {},
   "outputs": [
    {
     "name": "stdout",
     "output_type": "stream",
     "text": [
      "271725\n"
     ]
    }
   ],
   "source": [
    "nodes = set(sem_df.SUBJECT_CUI) | set(sem_df.OBJECT_CUI)\n",
    "print(len(nodes))"
   ]
  },
  {
   "cell_type": "code",
   "execution_count": 9,
   "metadata": {},
   "outputs": [
    {
     "name": "stdout",
     "output_type": "stream",
     "text": [
      "259227\n"
     ]
    },
    {
     "data": {
      "text/html": [
       "<div>\n",
       "<style scoped>\n",
       "    .dataframe tbody tr th:only-of-type {\n",
       "        vertical-align: middle;\n",
       "    }\n",
       "\n",
       "    .dataframe tbody tr th {\n",
       "        vertical-align: top;\n",
       "    }\n",
       "\n",
       "    .dataframe thead th {\n",
       "        text-align: right;\n",
       "    }\n",
       "</style>\n",
       "<table border=\"1\" class=\"dataframe\">\n",
       "  <thead>\n",
       "    <tr style=\"text-align: right;\">\n",
       "      <th></th>\n",
       "      <th>ID</th>\n",
       "      <th>LABEL</th>\n",
       "    </tr>\n",
       "  </thead>\n",
       "  <tbody>\n",
       "    <tr>\n",
       "      <th>0</th>\n",
       "      <td>C0061133</td>\n",
       "      <td>gastrin releasing peptide (14-27)</td>\n",
       "    </tr>\n",
       "    <tr>\n",
       "      <th>1</th>\n",
       "      <td>C1523610</td>\n",
       "      <td>regulation of tube length, open tracheal system</td>\n",
       "    </tr>\n",
       "    <tr>\n",
       "      <th>2</th>\n",
       "      <td>C0312636</td>\n",
       "      <td>Antibody to hepatitis E virus</td>\n",
       "    </tr>\n",
       "    <tr>\n",
       "      <th>3</th>\n",
       "      <td>C1532578</td>\n",
       "      <td>mL/cm H2O</td>\n",
       "    </tr>\n",
       "    <tr>\n",
       "      <th>4</th>\n",
       "      <td>C0539817</td>\n",
       "      <td>cytochrome p30</td>\n",
       "    </tr>\n",
       "  </tbody>\n",
       "</table>\n",
       "</div>"
      ],
      "text/plain": [
       "         ID                                            LABEL\n",
       "0  C0061133                gastrin releasing peptide (14-27)\n",
       "1  C1523610  regulation of tube length, open tracheal system\n",
       "2  C0312636                    Antibody to hepatitis E virus\n",
       "3  C1532578                                        mL/cm H2O\n",
       "4  C0539817                                   cytochrome p30"
      ]
     },
     "execution_count": 9,
     "metadata": {},
     "output_type": "execute_result"
    }
   ],
   "source": [
    "nodes = pd.DataFrame({\"ID\":x, \"LABEL\": node_label.get(x)} for x in nodes)\n",
    "nodes = nodes.dropna()\n",
    "print(len(nodes))\n",
    "nodes.head()"
   ]
  },
  {
   "cell_type": "code",
   "execution_count": 10,
   "metadata": {},
   "outputs": [],
   "source": [
    "nodes.to_csv(NODES1_CSV)"
   ]
  }
 ],
 "metadata": {
  "kernelspec": {
   "display_name": "Python 3",
   "language": "python",
   "name": "python3"
  },
  "language_info": {
   "codemirror_mode": {
    "name": "ipython",
    "version": 3
   },
   "file_extension": ".py",
   "mimetype": "text/x-python",
   "name": "python",
   "nbconvert_exporter": "python",
   "pygments_lexer": "ipython3",
   "version": "3.7.6"
  },
  "pycharm": {
   "stem_cell": {
    "cell_type": "raw",
    "source": [],
    "metadata": {
     "collapsed": false
    }
   }
  }
 },
 "nbformat": 4,
 "nbformat_minor": 4
}