{
 "cells": [
  {
   "cell_type": "markdown",
   "metadata": {},
   "source": [
    "01-initial_data_clean.ipynb\n",
    "\n",
    "first run download_convert.sh to download sql file and convert to csv\n",
    "- Expand predicates with OR operations into individual predicates\n",
    "- Convert cuis that are entrez ids into cuis\n",
    "- Change neg props to the same prop with a negative flag\n",
    "- Make a separate nodes table"
   ]
  },
  {
   "cell_type": "code",
   "execution_count": 1,
   "metadata": {},
   "outputs": [],
   "source": [
    "import os\n",
    "import pickle\n",
    "%matplotlib inline\n",
    "import pandas as pd\n",
    "from numpy import NAN\n",
    "import seaborn as sns\n",
    "import matplotlib.pyplot as plt\n",
    "from tqdm.notebook import tqdm\n",
    "from collections import defaultdict\n",
    "import itertools\n",
    "import numpy as np"
   ]
  },
  {
   "cell_type": "code",
   "execution_count": 2,
   "metadata": {},
   "outputs": [],
   "source": [
    "DATA  = 'data/'\n",
    "UMLS  = DATA+\"2020AA-full/2020AA/META/\"\n",
    "SEMMEDDB_PREDICATION_CSV = DATA+\"semmedVER42_2020_R_PREDICATION.csv\"\n",
    "EDGES1_CSV = DATA+\"edges1.csv\"\n",
    "EDGES2_CSV = DATA+\"edges2.csv\"\n",
    "MRSAT_ARCHIVE = UMLS+\"MRSAT.RRF.gz\"\n",
    "MRCONSO_ENG_ARCHIVE = UMLS+\"MRCONSO_ENG.RRF.gz\"\n",
    "EDGES3_CSV = DATA+\"edges3.csv\"\n",
    "EDGES4_CSV = DATA+\"edges4.csv\"\n",
    "NODES1_CSV = DATA+\"nodes1.csv\""
   ]
  },
  {
   "cell_type": "code",
   "execution_count": 3,
   "metadata": {
    "pycharm": {
     "name": "#%%\n"
    }
   },
   "outputs": [
    {
     "data": {
      "application/vnd.jupyter.widget-view+json": {
       "model_id": "ed435975164e4b30a6cdf553d5d1ac15",
       "version_major": 2,
       "version_minor": 0
      },
      "text/plain": [
       "HBox(children=(FloatProgress(value=0.0, max=10.0), HTML(value='')))"
      ]
     },
     "metadata": {},
     "output_type": "display_data"
    },
    {
     "name": "stdout",
     "output_type": "stream",
     "text": [
      "\n"
     ]
    }
   ],
   "source": [
    "# read in csv, group rows together with the same subj -> pred -> obj and keep count of number of pmids\n",
    "# done in chunks\n",
    "cols = ['SUBJECT_CUI','PREDICATE','OBJECT_CUI','PMID']\n",
    "gb_cols = ['SUBJECT_CUI','PREDICATE','OBJECT_CUI']\n",
    "sem_df = pd.DataFrame(columns=cols)\n",
    "df_iter = pd.read_csv(SEMMEDDB_PREDICATION_CSV, dtype=str, usecols=cols, chunksize=10000000)\n",
    "for chunk in tqdm(df_iter, total=10):\n",
    "    chunk.PMID = chunk.PMID.astype(\"str\")\n",
    "    c = chunk.groupby(gb_cols).PMID.agg(\";\".join).reset_index()\n",
    "    sem_df = sem_df.append(c)"
   ]
  },
  {
   "cell_type": "code",
   "execution_count": 4,
   "metadata": {},
   "outputs": [
    {
     "name": "stdout",
     "output_type": "stream",
     "text": [
      "35850848\n",
      "20925800\n"
     ]
    }
   ],
   "source": [
    "# group everything together again\n",
    "print(len(sem_df))\n",
    "sem_df = sem_df.groupby(gb_cols).PMID.agg(\";\".join).reset_index()\n",
    "print(len(sem_df))"
   ]
  },
  {
   "cell_type": "code",
   "execution_count": 5,
   "metadata": {},
   "outputs": [
    {
     "name": "stdout",
     "output_type": "stream",
     "text": [
      "0    14039141\n",
      "1     2904485\n",
      "2     1168860\n",
      "3      636552\n",
      "4      396795\n",
      "Name: PMID, dtype: int64\n"
     ]
    }
   ],
   "source": [
    "print(sem_df.PMID.str.count(\";\").value_counts()[:5])"
   ]
  },
  {
   "cell_type": "code",
   "execution_count": 6,
   "metadata": {},
   "outputs": [
    {
     "data": {
      "text/html": [
       "<div>\n",
       "<style scoped>\n",
       "    .dataframe tbody tr th:only-of-type {\n",
       "        vertical-align: middle;\n",
       "    }\n",
       "\n",
       "    .dataframe tbody tr th {\n",
       "        vertical-align: top;\n",
       "    }\n",
       "\n",
       "    .dataframe thead th {\n",
       "        text-align: right;\n",
       "    }\n",
       "</style>\n",
       "<table border=\"1\" class=\"dataframe\">\n",
       "  <thead>\n",
       "    <tr style=\"text-align: right;\">\n",
       "      <th></th>\n",
       "      <th>SUBJECT_CUI</th>\n",
       "      <th>PREDICATE</th>\n",
       "      <th>OBJECT_CUI</th>\n",
       "      <th>PMID</th>\n",
       "    </tr>\n",
       "  </thead>\n",
       "  <tbody>\n",
       "    <tr>\n",
       "      <th>0</th>\n",
       "      <td>1</td>\n",
       "      <td>ADMINISTERED_TO</td>\n",
       "      <td>C0007634</td>\n",
       "      <td>24096582</td>\n",
       "    </tr>\n",
       "    <tr>\n",
       "      <th>1</th>\n",
       "      <td>1</td>\n",
       "      <td>AFFECTS</td>\n",
       "      <td>C0005935</td>\n",
       "      <td>29798367</td>\n",
       "    </tr>\n",
       "    <tr>\n",
       "      <th>2</th>\n",
       "      <td>1</td>\n",
       "      <td>AFFECTS</td>\n",
       "      <td>C0020291</td>\n",
       "      <td>6298464</td>\n",
       "    </tr>\n",
       "    <tr>\n",
       "      <th>3</th>\n",
       "      <td>1</td>\n",
       "      <td>AFFECTS</td>\n",
       "      <td>C0028754</td>\n",
       "      <td>19789049</td>\n",
       "    </tr>\n",
       "    <tr>\n",
       "      <th>4</th>\n",
       "      <td>1</td>\n",
       "      <td>AFFECTS</td>\n",
       "      <td>C0036421</td>\n",
       "      <td>31505074;31505074</td>\n",
       "    </tr>\n",
       "  </tbody>\n",
       "</table>\n",
       "</div>"
      ],
      "text/plain": [
       "  SUBJECT_CUI        PREDICATE OBJECT_CUI               PMID\n",
       "0           1  ADMINISTERED_TO   C0007634           24096582\n",
       "1           1          AFFECTS   C0005935           29798367\n",
       "2           1          AFFECTS   C0020291            6298464\n",
       "3           1          AFFECTS   C0028754           19789049\n",
       "4           1          AFFECTS   C0036421  31505074;31505074"
      ]
     },
     "execution_count": 6,
     "metadata": {},
     "output_type": "execute_result"
    }
   ],
   "source": [
    "sem_df.head()"
   ]
  },
  {
   "cell_type": "code",
   "execution_count": 7,
   "metadata": {},
   "outputs": [],
   "source": [
    "sem_df.to_csv(EDGES1_CSV)"
   ]
  },
  {
   "cell_type": "markdown",
   "metadata": {
    "pycharm": {
     "name": "#%% md\n"
    }
   },
   "source": [
    "## In semmedDB some subjects and objects of extracted statements contained the pipe character | as an indicator of multiple concepts in the sentence. Here, we normalize to singular concepts."
   ]
  },
  {
   "cell_type": "code",
   "execution_count": 8,
   "metadata": {
    "pycharm": {
     "name": "#%%\n"
    }
   },
   "outputs": [
    {
     "name": "stdout",
     "output_type": "stream",
     "text": [
      "Rows with multiple subjects or objects 2,817,756\n",
      "Rows with only 1 subject AND only 1 object 18,108,044\n"
     ]
    }
   ],
   "source": [
    "# separate out lines with pipes from the rest\n",
    "multi_start = sem_df['SUBJECT_CUI'].str.contains('|', regex=False)\n",
    "multi_end = sem_df['OBJECT_CUI'].str.contains('|', regex=False)\n",
    "pipe_lines = sem_df[multi_start | multi_end].copy()\n",
    "sem_df = sem_df[~multi_start & ~multi_end]\n",
    "print('Rows with multiple subjects or objects {:,}'.format(len(pipe_lines)))\n",
    "print('Rows with only 1 subject AND only 1 object {:,}'.format(len(sem_df)))"
   ]
  },
  {
   "cell_type": "code",
   "execution_count": 9,
   "metadata": {},
   "outputs": [
    {
     "data": {
      "text/html": [
       "<div>\n",
       "<style scoped>\n",
       "    .dataframe tbody tr th:only-of-type {\n",
       "        vertical-align: middle;\n",
       "    }\n",
       "\n",
       "    .dataframe tbody tr th {\n",
       "        vertical-align: top;\n",
       "    }\n",
       "\n",
       "    .dataframe thead th {\n",
       "        text-align: right;\n",
       "    }\n",
       "</style>\n",
       "<table border=\"1\" class=\"dataframe\">\n",
       "  <thead>\n",
       "    <tr style=\"text-align: right;\">\n",
       "      <th></th>\n",
       "      <th>SUBJECT_CUI</th>\n",
       "      <th>PREDICATE</th>\n",
       "      <th>OBJECT_CUI</th>\n",
       "      <th>PMID</th>\n",
       "    </tr>\n",
       "  </thead>\n",
       "  <tbody>\n",
       "    <tr>\n",
       "      <th>26</th>\n",
       "      <td>[1]</td>\n",
       "      <td>COEXISTS_WITH</td>\n",
       "      <td>[C0003241, 4099]</td>\n",
       "      <td>24639825;24639825;24639825</td>\n",
       "    </tr>\n",
       "    <tr>\n",
       "      <th>39</th>\n",
       "      <td>[1]</td>\n",
       "      <td>INHIBITS</td>\n",
       "      <td>[C0034802, 1956]</td>\n",
       "      <td>22865653</td>\n",
       "    </tr>\n",
       "    <tr>\n",
       "      <th>42</th>\n",
       "      <td>[1]</td>\n",
       "      <td>INTERACTS_WITH</td>\n",
       "      <td>[5295, 5296, 8874, 9139, 23368, 54776]</td>\n",
       "      <td>20502503</td>\n",
       "    </tr>\n",
       "    <tr>\n",
       "      <th>45</th>\n",
       "      <td>[1]</td>\n",
       "      <td>INTERACTS_WITH</td>\n",
       "      <td>[C0812252, 1398]</td>\n",
       "      <td>20502503</td>\n",
       "    </tr>\n",
       "    <tr>\n",
       "      <th>47</th>\n",
       "      <td>[1]</td>\n",
       "      <td>INTERACTS_WITH</td>\n",
       "      <td>[C1335280, 5781]</td>\n",
       "      <td>20502503</td>\n",
       "    </tr>\n",
       "  </tbody>\n",
       "</table>\n",
       "</div>"
      ],
      "text/plain": [
       "   SUBJECT_CUI       PREDICATE                              OBJECT_CUI  \\\n",
       "26         [1]   COEXISTS_WITH                        [C0003241, 4099]   \n",
       "39         [1]        INHIBITS                        [C0034802, 1956]   \n",
       "42         [1]  INTERACTS_WITH  [5295, 5296, 8874, 9139, 23368, 54776]   \n",
       "45         [1]  INTERACTS_WITH                        [C0812252, 1398]   \n",
       "47         [1]  INTERACTS_WITH                        [C1335280, 5781]   \n",
       "\n",
       "                          PMID  \n",
       "26  24639825;24639825;24639825  \n",
       "39                    22865653  \n",
       "42                    20502503  \n",
       "45                    20502503  \n",
       "47                    20502503  "
      ]
     },
     "execution_count": 9,
     "metadata": {},
     "output_type": "execute_result"
    }
   ],
   "source": [
    "pipe_lines.SUBJECT_CUI = pipe_lines.SUBJECT_CUI.str.split('|')\n",
    "pipe_lines.OBJECT_CUI = pipe_lines.OBJECT_CUI.str.split('|')\n",
    "pipe_lines.head()"
   ]
  },
  {
   "cell_type": "code",
   "execution_count": 10,
   "metadata": {},
   "outputs": [
    {
     "data": {
      "application/vnd.jupyter.widget-view+json": {
       "model_id": "def5777a32454a51b64ac3012d5c0898",
       "version_major": 2,
       "version_minor": 0
      },
      "text/plain": [
       "HBox(children=(FloatProgress(value=0.0, max=2817756.0), HTML(value='')))"
      ]
     },
     "metadata": {},
     "output_type": "display_data"
    },
    {
     "name": "stdout",
     "output_type": "stream",
     "text": [
      "\n"
     ]
    }
   ],
   "source": [
    "# do the combinations\n",
    "lines = []\n",
    "for row in tqdm(pipe_lines.itertuples(), total=len(pipe_lines)):\n",
    "    #print(row)\n",
    "    a = [row.SUBJECT_CUI, row.OBJECT_CUI]\n",
    "    c = list(itertools.product(*a))\n",
    "    lines.extend([{'SUBJECT_CUI':x[0], 'PREDICATE':row.PREDICATE, 'OBJECT_CUI':x[1], 'PMID': row.PMID} for x in c])\n",
    "expanded_df = pd.DataFrame(lines)"
   ]
  },
  {
   "cell_type": "code",
   "execution_count": 11,
   "metadata": {},
   "outputs": [
    {
     "name": "stdout",
     "output_type": "stream",
     "text": [
      "6859161\n"
     ]
    },
    {
     "data": {
      "text/html": [
       "<div>\n",
       "<style scoped>\n",
       "    .dataframe tbody tr th:only-of-type {\n",
       "        vertical-align: middle;\n",
       "    }\n",
       "\n",
       "    .dataframe tbody tr th {\n",
       "        vertical-align: top;\n",
       "    }\n",
       "\n",
       "    .dataframe thead th {\n",
       "        text-align: right;\n",
       "    }\n",
       "</style>\n",
       "<table border=\"1\" class=\"dataframe\">\n",
       "  <thead>\n",
       "    <tr style=\"text-align: right;\">\n",
       "      <th></th>\n",
       "      <th>SUBJECT_CUI</th>\n",
       "      <th>PREDICATE</th>\n",
       "      <th>OBJECT_CUI</th>\n",
       "      <th>PMID</th>\n",
       "    </tr>\n",
       "  </thead>\n",
       "  <tbody>\n",
       "    <tr>\n",
       "      <th>0</th>\n",
       "      <td>1</td>\n",
       "      <td>COEXISTS_WITH</td>\n",
       "      <td>C0003241</td>\n",
       "      <td>24639825;24639825;24639825</td>\n",
       "    </tr>\n",
       "    <tr>\n",
       "      <th>1</th>\n",
       "      <td>1</td>\n",
       "      <td>COEXISTS_WITH</td>\n",
       "      <td>4099</td>\n",
       "      <td>24639825;24639825;24639825</td>\n",
       "    </tr>\n",
       "    <tr>\n",
       "      <th>2</th>\n",
       "      <td>1</td>\n",
       "      <td>INHIBITS</td>\n",
       "      <td>C0034802</td>\n",
       "      <td>22865653</td>\n",
       "    </tr>\n",
       "    <tr>\n",
       "      <th>3</th>\n",
       "      <td>1</td>\n",
       "      <td>INHIBITS</td>\n",
       "      <td>1956</td>\n",
       "      <td>22865653</td>\n",
       "    </tr>\n",
       "    <tr>\n",
       "      <th>4</th>\n",
       "      <td>1</td>\n",
       "      <td>INTERACTS_WITH</td>\n",
       "      <td>5295</td>\n",
       "      <td>20502503</td>\n",
       "    </tr>\n",
       "  </tbody>\n",
       "</table>\n",
       "</div>"
      ],
      "text/plain": [
       "  SUBJECT_CUI       PREDICATE OBJECT_CUI                        PMID\n",
       "0           1   COEXISTS_WITH   C0003241  24639825;24639825;24639825\n",
       "1           1   COEXISTS_WITH       4099  24639825;24639825;24639825\n",
       "2           1        INHIBITS   C0034802                    22865653\n",
       "3           1        INHIBITS       1956                    22865653\n",
       "4           1  INTERACTS_WITH       5295                    20502503"
      ]
     },
     "execution_count": 11,
     "metadata": {},
     "output_type": "execute_result"
    }
   ],
   "source": [
    "print(len(expanded_df))\n",
    "expanded_df.head()"
   ]
  },
  {
   "cell_type": "code",
   "execution_count": 12,
   "metadata": {},
   "outputs": [
    {
     "name": "stdout",
     "output_type": "stream",
     "text": [
      "18108044\n",
      "24967205\n"
     ]
    }
   ],
   "source": [
    "# append the expanded rows to the original df\n",
    "print(len(sem_df))\n",
    "sem_df = sem_df.append(expanded_df, sort=True)\n",
    "print(len(sem_df))"
   ]
  },
  {
   "cell_type": "code",
   "execution_count": 13,
   "metadata": {},
   "outputs": [
    {
     "name": "stdout",
     "output_type": "stream",
     "text": [
      "23971617\n"
     ]
    }
   ],
   "source": [
    "# Group rows together again and aggregate pmids\n",
    "sem_df = sem_df.groupby(gb_cols).PMID.agg(\";\".join).reset_index()\n",
    "print(len(sem_df))"
   ]
  },
  {
   "cell_type": "code",
   "execution_count": 14,
   "metadata": {},
   "outputs": [
    {
     "data": {
      "text/html": [
       "<div>\n",
       "<style scoped>\n",
       "    .dataframe tbody tr th:only-of-type {\n",
       "        vertical-align: middle;\n",
       "    }\n",
       "\n",
       "    .dataframe tbody tr th {\n",
       "        vertical-align: top;\n",
       "    }\n",
       "\n",
       "    .dataframe thead th {\n",
       "        text-align: right;\n",
       "    }\n",
       "</style>\n",
       "<table border=\"1\" class=\"dataframe\">\n",
       "  <thead>\n",
       "    <tr style=\"text-align: right;\">\n",
       "      <th></th>\n",
       "      <th>SUBJECT_CUI</th>\n",
       "      <th>PREDICATE</th>\n",
       "      <th>OBJECT_CUI</th>\n",
       "      <th>PMID</th>\n",
       "    </tr>\n",
       "  </thead>\n",
       "  <tbody>\n",
       "    <tr>\n",
       "      <th>0</th>\n",
       "      <td></td>\n",
       "      <td>ADMINISTERED_TO</td>\n",
       "      <td>C0007600</td>\n",
       "      <td>14657188;16621368</td>\n",
       "    </tr>\n",
       "    <tr>\n",
       "      <th>1</th>\n",
       "      <td></td>\n",
       "      <td>ADMINISTERED_TO</td>\n",
       "      <td>C0007634</td>\n",
       "      <td>31497221</td>\n",
       "    </tr>\n",
       "    <tr>\n",
       "      <th>2</th>\n",
       "      <td></td>\n",
       "      <td>ADMINISTERED_TO</td>\n",
       "      <td>C0018496</td>\n",
       "      <td>18848895</td>\n",
       "    </tr>\n",
       "    <tr>\n",
       "      <th>3</th>\n",
       "      <td></td>\n",
       "      <td>ADMINISTERED_TO</td>\n",
       "      <td>C1512505</td>\n",
       "      <td>9617575</td>\n",
       "    </tr>\n",
       "    <tr>\n",
       "      <th>4</th>\n",
       "      <td></td>\n",
       "      <td>AFFECTS</td>\n",
       "      <td>C0001272</td>\n",
       "      <td>18096820;19204724</td>\n",
       "    </tr>\n",
       "  </tbody>\n",
       "</table>\n",
       "</div>"
      ],
      "text/plain": [
       "  SUBJECT_CUI        PREDICATE OBJECT_CUI               PMID\n",
       "0              ADMINISTERED_TO   C0007600  14657188;16621368\n",
       "1              ADMINISTERED_TO   C0007634           31497221\n",
       "2              ADMINISTERED_TO   C0018496           18848895\n",
       "3              ADMINISTERED_TO   C1512505            9617575\n",
       "4                      AFFECTS   C0001272  18096820;19204724"
      ]
     },
     "execution_count": 14,
     "metadata": {},
     "output_type": "execute_result"
    }
   ],
   "source": [
    "# Not sure why but some SUBJECT_CUI's and OBJECT_CUI's are empty (or with \"NaN\") at this point\n",
    "sem_df.head()"
   ]
  },
  {
   "cell_type": "code",
   "execution_count": 15,
   "metadata": {},
   "outputs": [],
   "source": [
    "# But we will just ignore them\n",
    "# replace empty string fields with NaN\n",
    "sem_df.replace(\"\", NAN, inplace=True)\n",
    "# Then drop the rows with NaN\n",
    "sem_df.dropna(subset=['SUBJECT_CUI','OBJECT_CUI'], inplace=True)"
   ]
  },
  {
   "cell_type": "code",
   "execution_count": 16,
   "metadata": {},
   "outputs": [
    {
     "name": "stdout",
     "output_type": "stream",
     "text": [
      "23970499\n"
     ]
    },
    {
     "data": {
      "text/html": [
       "<div>\n",
       "<style scoped>\n",
       "    .dataframe tbody tr th:only-of-type {\n",
       "        vertical-align: middle;\n",
       "    }\n",
       "\n",
       "    .dataframe tbody tr th {\n",
       "        vertical-align: top;\n",
       "    }\n",
       "\n",
       "    .dataframe thead th {\n",
       "        text-align: right;\n",
       "    }\n",
       "</style>\n",
       "<table border=\"1\" class=\"dataframe\">\n",
       "  <thead>\n",
       "    <tr style=\"text-align: right;\">\n",
       "      <th></th>\n",
       "      <th>SUBJECT_CUI</th>\n",
       "      <th>PREDICATE</th>\n",
       "      <th>OBJECT_CUI</th>\n",
       "      <th>PMID</th>\n",
       "    </tr>\n",
       "  </thead>\n",
       "  <tbody>\n",
       "    <tr>\n",
       "      <th>588</th>\n",
       "      <td>1</td>\n",
       "      <td>ADMINISTERED_TO</td>\n",
       "      <td>C0007634</td>\n",
       "      <td>24096582</td>\n",
       "    </tr>\n",
       "    <tr>\n",
       "      <th>589</th>\n",
       "      <td>1</td>\n",
       "      <td>ADMINISTERED_TO</td>\n",
       "      <td>C0030705</td>\n",
       "      <td>22577025</td>\n",
       "    </tr>\n",
       "    <tr>\n",
       "      <th>590</th>\n",
       "      <td>1</td>\n",
       "      <td>AFFECTS</td>\n",
       "      <td>C0005935</td>\n",
       "      <td>29798367</td>\n",
       "    </tr>\n",
       "    <tr>\n",
       "      <th>591</th>\n",
       "      <td>1</td>\n",
       "      <td>AFFECTS</td>\n",
       "      <td>C0020291</td>\n",
       "      <td>6298464</td>\n",
       "    </tr>\n",
       "    <tr>\n",
       "      <th>592</th>\n",
       "      <td>1</td>\n",
       "      <td>AFFECTS</td>\n",
       "      <td>C0028754</td>\n",
       "      <td>19789049</td>\n",
       "    </tr>\n",
       "  </tbody>\n",
       "</table>\n",
       "</div>"
      ],
      "text/plain": [
       "    SUBJECT_CUI        PREDICATE OBJECT_CUI      PMID\n",
       "588           1  ADMINISTERED_TO   C0007634  24096582\n",
       "589           1  ADMINISTERED_TO   C0030705  22577025\n",
       "590           1          AFFECTS   C0005935  29798367\n",
       "591           1          AFFECTS   C0020291   6298464\n",
       "592           1          AFFECTS   C0028754  19789049"
      ]
     },
     "execution_count": 16,
     "metadata": {},
     "output_type": "execute_result"
    }
   ],
   "source": [
    "# Dataset purged empty concept entries\n",
    "print(len(sem_df))\n",
    "sem_df.head()"
   ]
  },
  {
   "cell_type": "code",
   "execution_count": 17,
   "metadata": {
    "pycharm": {
     "name": "#%%\n"
    }
   },
   "outputs": [],
   "source": [
    "# Cache a copy of the current dataframe\n",
    "sem_df.to_csv(EDGES2_CSV)"
   ]
  },
  {
   "cell_type": "markdown",
   "metadata": {
    "pycharm": {
     "name": "#%% md\n"
    }
   },
   "source": [
    "### There are many CUIs that are not actually CUIs. Mike has determined they are (usually/always?) Entrez IDs"
   ]
  },
  {
   "cell_type": "code",
   "execution_count": 18,
   "metadata": {},
   "outputs": [
    {
     "data": {
      "application/vnd.jupyter.widget-view+json": {
       "model_id": "1a52bf62968d47c8b4d86f3682f854fb",
       "version_major": 2,
       "version_minor": 0
      },
      "text/plain": [
       "HBox(children=(FloatProgress(value=0.0, max=67.668372), HTML(value='')))"
      ]
     },
     "metadata": {},
     "output_type": "display_data"
    },
    {
     "name": "stderr",
     "output_type": "stream",
     "text": [
      "/Users/richard/opt/anaconda3/lib/python3.7/site-packages/IPython/core/interactiveshell.py:3331: DtypeWarning: Columns (5) have mixed types.Specify dtype option on import or set low_memory=False.\n",
      "  exec(code_obj, self.user_global_ns, self.user_ns)\n",
      "/Users/richard/opt/anaconda3/lib/python3.7/site-packages/IPython/core/interactiveshell.py:3331: DtypeWarning: Columns (1,2,3,5) have mixed types.Specify dtype option on import or set low_memory=False.\n",
      "  exec(code_obj, self.user_global_ns, self.user_ns)\n"
     ]
    },
    {
     "name": "stdout",
     "output_type": "stream",
     "text": [
      "\n"
     ]
    }
   ],
   "source": [
    "# are going to get them out of this MRSAT file (prepared from UMLS Metathesaurus using their Metamorphosys tool)\n",
    "# We have downloaded the UMLS, generated RRF files, and compressed them (for convenient stream access)\n",
    "# Here, we access MRSAT.RRF.gz (other UMLS files used elsewhere). See top of Notebook for file path setting\n",
    "names = list(\"abcdefghijklmn\")\n",
    "iter_csv = pd.read_csv(MRSAT_ARCHIVE, delimiter=\"|\", names=names, index_col=None, chunksize=1000000)\n",
    "chunks = []\n",
    "umls_entrez = dict()\n",
    "for chunk in tqdm(iter_csv, total=67668372/1000000):\n",
    "    chunk.fillna(method='ffill', inplace=True)\n",
    "    chunk = chunk[chunk.i == \"ENTREZGENE_ID\"]\n",
    "    d = dict(zip(chunk.a, chunk.k))\n",
    "    umls_entrez.update(d)"
   ]
  },
  {
   "cell_type": "code",
   "execution_count": 20,
   "metadata": {},
   "outputs": [
    {
     "data": {
      "text/plain": [
       "'C1415639'"
      ]
     },
     "execution_count": 20,
     "metadata": {},
     "output_type": "execute_result"
    }
   ],
   "source": [
    "entrez_umls = {v:k for k,v in umls_entrez.items()}\n",
    "entrez_umls['9987']"
   ]
  },
  {
   "cell_type": "code",
   "execution_count": 21,
   "metadata": {},
   "outputs": [],
   "source": [
    "sem_df.SUBJECT_CUI = sem_df.SUBJECT_CUI.map(lambda x:entrez_umls[x] if x in entrez_umls else x)\n",
    "sem_df.OBJECT_CUI = sem_df.OBJECT_CUI.map(lambda x:entrez_umls[x] if x in entrez_umls else x)"
   ]
  },
  {
   "cell_type": "code",
   "execution_count": 22,
   "metadata": {
    "collapsed": false,
    "jupyter": {
     "outputs_hidden": false
    },
    "pycharm": {
     "name": "#%%\n"
    }
   },
   "outputs": [
    {
     "name": "stdout",
     "output_type": "stream",
     "text": [
      "18249\n"
     ]
    }
   ],
   "source": [
    "noncdf = sem_df[~sem_df.SUBJECT_CUI.str.startswith(\"C\")]\n",
    "print(len(noncdf))"
   ]
  },
  {
   "cell_type": "code",
   "execution_count": 23,
   "metadata": {
    "collapsed": false,
    "jupyter": {
     "outputs_hidden": false
    },
    "pycharm": {
     "name": "#%%\n"
    }
   },
   "outputs": [
    {
     "name": "stdout",
     "output_type": "stream",
     "text": [
      "23970499\n",
      "23932681\n"
     ]
    }
   ],
   "source": [
    "# dump everything that doesn't starts with a \"C\"\n",
    "print(len(sem_df))\n",
    "sem_df = sem_df[sem_df.SUBJECT_CUI.str.startswith(\"C\")]\n",
    "sem_df = sem_df[sem_df.OBJECT_CUI.str.startswith(\"C\")]\n",
    "print(len(sem_df))"
   ]
  },
  {
   "cell_type": "code",
   "execution_count": 24,
   "metadata": {
    "collapsed": false,
    "jupyter": {
     "outputs_hidden": false
    },
    "pycharm": {
     "name": "#%%\n"
    }
   },
   "outputs": [],
   "source": [
    "sem_df.to_csv(EDGES3_CSV)"
   ]
  },
  {
   "cell_type": "markdown",
   "metadata": {},
   "source": [
    "## Some SemMedDb predicates are negations - Biolink tags these as negations of the unnegated predicated, so we tag them as such"
   ]
  },
  {
   "cell_type": "code",
   "execution_count": 26,
   "metadata": {},
   "outputs": [
    {
     "data": {
      "text/html": [
       "<div>\n",
       "<style scoped>\n",
       "    .dataframe tbody tr th:only-of-type {\n",
       "        vertical-align: middle;\n",
       "    }\n",
       "\n",
       "    .dataframe tbody tr th {\n",
       "        vertical-align: top;\n",
       "    }\n",
       "\n",
       "    .dataframe thead th {\n",
       "        text-align: right;\n",
       "    }\n",
       "</style>\n",
       "<table border=\"1\" class=\"dataframe\">\n",
       "  <thead>\n",
       "    <tr style=\"text-align: right;\">\n",
       "      <th></th>\n",
       "      <th>SUBJECT_CUI</th>\n",
       "      <th>PREDICATE</th>\n",
       "      <th>OBJECT_CUI</th>\n",
       "      <th>PMID</th>\n",
       "      <th>NEG</th>\n",
       "    </tr>\n",
       "  </thead>\n",
       "  <tbody>\n",
       "    <tr>\n",
       "      <th>656</th>\n",
       "      <td>C1412045</td>\n",
       "      <td>AFFECTS</td>\n",
       "      <td>C0031845</td>\n",
       "      <td>19737390</td>\n",
       "      <td>True</td>\n",
       "    </tr>\n",
       "    <tr>\n",
       "      <th>657</th>\n",
       "      <td>C1412045</td>\n",
       "      <td>ASSOCIATED_WITH</td>\n",
       "      <td>C0206754</td>\n",
       "      <td>28792692</td>\n",
       "      <td>True</td>\n",
       "    </tr>\n",
       "    <tr>\n",
       "      <th>658</th>\n",
       "      <td>C1412045</td>\n",
       "      <td>CAUSES</td>\n",
       "      <td>C1457887</td>\n",
       "      <td>18943647</td>\n",
       "      <td>True</td>\n",
       "    </tr>\n",
       "    <tr>\n",
       "      <th>659</th>\n",
       "      <td>C1412045</td>\n",
       "      <td>COEXISTS_WITH</td>\n",
       "      <td>C0376261</td>\n",
       "      <td>24009956</td>\n",
       "      <td>True</td>\n",
       "    </tr>\n",
       "    <tr>\n",
       "      <th>1117</th>\n",
       "      <td>C1705514</td>\n",
       "      <td>AFFECTS</td>\n",
       "      <td>C0001038</td>\n",
       "      <td>10030449</td>\n",
       "      <td>True</td>\n",
       "    </tr>\n",
       "  </tbody>\n",
       "</table>\n",
       "</div>"
      ],
      "text/plain": [
       "     SUBJECT_CUI        PREDICATE OBJECT_CUI      PMID   NEG\n",
       "656     C1412045          AFFECTS   C0031845  19737390  True\n",
       "657     C1412045  ASSOCIATED_WITH   C0206754  28792692  True\n",
       "658     C1412045           CAUSES   C1457887  18943647  True\n",
       "659     C1412045    COEXISTS_WITH   C0376261  24009956  True\n",
       "1117    C1705514          AFFECTS   C0001038  10030449  True"
      ]
     },
     "execution_count": 26,
     "metadata": {},
     "output_type": "execute_result"
    }
   ],
   "source": [
    "# change the neg to the same prop without neg and add a neg flag field\n",
    "idx = sem_df[\"PREDICATE\"].str.startswith(\"NEG_\")\n",
    "sem_df['NEG'] = False\n",
    "sem_df.loc[idx, 'NEG'] = True\n",
    "sem_df.loc[idx, 'PREDICATE'] = sem_df[idx].PREDICATE.str.replace(\"NEG_\", \"\")\n",
    "sem_df[sem_df.NEG].head()"
   ]
  },
  {
   "cell_type": "code",
   "execution_count": 27,
   "metadata": {},
   "outputs": [],
   "source": [
    "# Cache updated edges with new neg flag field\n",
    "sem_df.to_csv(EDGES4_CSV)"
   ]
  },
  {
   "cell_type": "code",
   "execution_count": 28,
   "metadata": {},
   "outputs": [
    {
     "name": "stderr",
     "output_type": "stream",
     "text": [
      "/Users/richard/opt/anaconda3/lib/python3.7/site-packages/IPython/core/interactiveshell.py:3063: DtypeWarning: Columns (9,10,13) have mixed types.Specify dtype option on import or set low_memory=False.\n",
      "  interactivity=interactivity, compiler=compiler, result=result)\n"
     ]
    },
    {
     "data": {
      "text/html": [
       "<div>\n",
       "<style scoped>\n",
       "    .dataframe tbody tr th:only-of-type {\n",
       "        vertical-align: middle;\n",
       "    }\n",
       "\n",
       "    .dataframe tbody tr th {\n",
       "        vertical-align: top;\n",
       "    }\n",
       "\n",
       "    .dataframe thead th {\n",
       "        text-align: right;\n",
       "    }\n",
       "</style>\n",
       "<table border=\"1\" class=\"dataframe\">\n",
       "  <thead>\n",
       "    <tr style=\"text-align: right;\">\n",
       "      <th></th>\n",
       "      <th>a</th>\n",
       "      <th>b</th>\n",
       "      <th>c</th>\n",
       "      <th>d</th>\n",
       "      <th>e</th>\n",
       "      <th>f</th>\n",
       "      <th>g</th>\n",
       "      <th>h</th>\n",
       "      <th>i</th>\n",
       "      <th>j</th>\n",
       "      <th>k</th>\n",
       "      <th>l</th>\n",
       "      <th>m</th>\n",
       "      <th>n</th>\n",
       "      <th>o</th>\n",
       "      <th>p</th>\n",
       "      <th>q</th>\n",
       "      <th>r</th>\n",
       "      <th>s</th>\n",
       "    </tr>\n",
       "  </thead>\n",
       "  <tbody>\n",
       "    <tr>\n",
       "      <th>0</th>\n",
       "      <td>C0000005</td>\n",
       "      <td>ENG</td>\n",
       "      <td>P</td>\n",
       "      <td>L0000005</td>\n",
       "      <td>PF</td>\n",
       "      <td>S0007492</td>\n",
       "      <td>Y</td>\n",
       "      <td>A26634265</td>\n",
       "      <td>NaN</td>\n",
       "      <td>M0019694</td>\n",
       "      <td>D012711</td>\n",
       "      <td>MSH</td>\n",
       "      <td>PEP</td>\n",
       "      <td>D012711</td>\n",
       "      <td>(131)I-Macroaggregated Albumin</td>\n",
       "      <td>0</td>\n",
       "      <td>N</td>\n",
       "      <td>256.0</td>\n",
       "      <td>NaN</td>\n",
       "    </tr>\n",
       "    <tr>\n",
       "      <th>2</th>\n",
       "      <td>C0000039</td>\n",
       "      <td>ENG</td>\n",
       "      <td>P</td>\n",
       "      <td>L0000039</td>\n",
       "      <td>PF</td>\n",
       "      <td>S17175117</td>\n",
       "      <td>N</td>\n",
       "      <td>A28315139</td>\n",
       "      <td>9194921.0</td>\n",
       "      <td>1926948</td>\n",
       "      <td>NaN</td>\n",
       "      <td>RXNORM</td>\n",
       "      <td>IN</td>\n",
       "      <td>1926948</td>\n",
       "      <td>1,2-dipalmitoylphosphatidylcholine</td>\n",
       "      <td>0</td>\n",
       "      <td>N</td>\n",
       "      <td>256.0</td>\n",
       "      <td>NaN</td>\n",
       "    </tr>\n",
       "    <tr>\n",
       "      <th>3</th>\n",
       "      <td>C0000039</td>\n",
       "      <td>ENG</td>\n",
       "      <td>P</td>\n",
       "      <td>L0000039</td>\n",
       "      <td>PF</td>\n",
       "      <td>S17175117</td>\n",
       "      <td>Y</td>\n",
       "      <td>A28572604</td>\n",
       "      <td>NaN</td>\n",
       "      <td>NaN</td>\n",
       "      <td>NaN</td>\n",
       "      <td>MTH</td>\n",
       "      <td>PN</td>\n",
       "      <td>NOCODE</td>\n",
       "      <td>1,2-dipalmitoylphosphatidylcholine</td>\n",
       "      <td>0</td>\n",
       "      <td>N</td>\n",
       "      <td>256.0</td>\n",
       "      <td>NaN</td>\n",
       "    </tr>\n",
       "    <tr>\n",
       "      <th>20</th>\n",
       "      <td>C0000052</td>\n",
       "      <td>ENG</td>\n",
       "      <td>P</td>\n",
       "      <td>L0000052</td>\n",
       "      <td>PF</td>\n",
       "      <td>S0007584</td>\n",
       "      <td>N</td>\n",
       "      <td>A0016535</td>\n",
       "      <td>NaN</td>\n",
       "      <td>M0023173</td>\n",
       "      <td>D015061</td>\n",
       "      <td>MSH</td>\n",
       "      <td>MH</td>\n",
       "      <td>D015061</td>\n",
       "      <td>1,4-alpha-Glucan Branching Enzyme</td>\n",
       "      <td>0</td>\n",
       "      <td>N</td>\n",
       "      <td>256.0</td>\n",
       "      <td>NaN</td>\n",
       "    </tr>\n",
       "    <tr>\n",
       "      <th>21</th>\n",
       "      <td>C0000052</td>\n",
       "      <td>ENG</td>\n",
       "      <td>P</td>\n",
       "      <td>L0000052</td>\n",
       "      <td>PF</td>\n",
       "      <td>S0007584</td>\n",
       "      <td>Y</td>\n",
       "      <td>A0016536</td>\n",
       "      <td>NaN</td>\n",
       "      <td>NaN</td>\n",
       "      <td>NaN</td>\n",
       "      <td>MTH</td>\n",
       "      <td>PN</td>\n",
       "      <td>NOCODE</td>\n",
       "      <td>1,4-alpha-Glucan Branching Enzyme</td>\n",
       "      <td>0</td>\n",
       "      <td>N</td>\n",
       "      <td>256.0</td>\n",
       "      <td>NaN</td>\n",
       "    </tr>\n",
       "  </tbody>\n",
       "</table>\n",
       "</div>"
      ],
      "text/plain": [
       "           a    b  c         d   e          f  g          h          i  \\\n",
       "0   C0000005  ENG  P  L0000005  PF   S0007492  Y  A26634265        NaN   \n",
       "2   C0000039  ENG  P  L0000039  PF  S17175117  N  A28315139  9194921.0   \n",
       "3   C0000039  ENG  P  L0000039  PF  S17175117  Y  A28572604        NaN   \n",
       "20  C0000052  ENG  P  L0000052  PF   S0007584  N   A0016535        NaN   \n",
       "21  C0000052  ENG  P  L0000052  PF   S0007584  Y   A0016536        NaN   \n",
       "\n",
       "           j        k       l    m        n  \\\n",
       "0   M0019694  D012711     MSH  PEP  D012711   \n",
       "2    1926948      NaN  RXNORM   IN  1926948   \n",
       "3        NaN      NaN     MTH   PN   NOCODE   \n",
       "20  M0023173  D015061     MSH   MH  D015061   \n",
       "21       NaN      NaN     MTH   PN   NOCODE   \n",
       "\n",
       "                                     o  p  q      r   s  \n",
       "0       (131)I-Macroaggregated Albumin  0  N  256.0 NaN  \n",
       "2   1,2-dipalmitoylphosphatidylcholine  0  N  256.0 NaN  \n",
       "3   1,2-dipalmitoylphosphatidylcholine  0  N  256.0 NaN  \n",
       "20   1,4-alpha-Glucan Branching Enzyme  0  N  256.0 NaN  \n",
       "21   1,4-alpha-Glucan Branching Enzyme  0  N  256.0 NaN  "
      ]
     },
     "execution_count": 28,
     "metadata": {},
     "output_type": "execute_result"
    }
   ],
   "source": [
    "### Make a nodes table\n",
    "conso = pd.read_csv(MRCONSO_ENG_ARCHIVE, delimiter=\"|\", index_col=None, names = list(\"abcdefghijklmnopqrs\"))\n",
    "conso = conso[(conso['c'] == \"P\") & (conso['e'] == \"PF\")]\n",
    "conso.head()"
   ]
  },
  {
   "cell_type": "code",
   "execution_count": 29,
   "metadata": {},
   "outputs": [
    {
     "name": "stdout",
     "output_type": "stream",
     "text": [
      "3376510\n"
     ]
    }
   ],
   "source": [
    "node_label = dict(zip(conso.a, conso.o))\n",
    "print(len(node_label))"
   ]
  },
  {
   "cell_type": "code",
   "execution_count": 30,
   "metadata": {},
   "outputs": [
    {
     "name": "stdout",
     "output_type": "stream",
     "text": [
      "279816\n"
     ]
    }
   ],
   "source": [
    "nodes = set(sem_df.SUBJECT_CUI) | set(sem_df.OBJECT_CUI)\n",
    "print(len(nodes))"
   ]
  },
  {
   "cell_type": "code",
   "execution_count": 31,
   "metadata": {},
   "outputs": [
    {
     "name": "stdout",
     "output_type": "stream",
     "text": [
      "235430\n"
     ]
    },
    {
     "data": {
      "text/html": [
       "<div>\n",
       "<style scoped>\n",
       "    .dataframe tbody tr th:only-of-type {\n",
       "        vertical-align: middle;\n",
       "    }\n",
       "\n",
       "    .dataframe tbody tr th {\n",
       "        vertical-align: top;\n",
       "    }\n",
       "\n",
       "    .dataframe thead th {\n",
       "        text-align: right;\n",
       "    }\n",
       "</style>\n",
       "<table border=\"1\" class=\"dataframe\">\n",
       "  <thead>\n",
       "    <tr style=\"text-align: right;\">\n",
       "      <th></th>\n",
       "      <th>ID</th>\n",
       "      <th>LABEL</th>\n",
       "    </tr>\n",
       "  </thead>\n",
       "  <tbody>\n",
       "    <tr>\n",
       "      <th>0</th>\n",
       "      <td>C3842672</td>\n",
       "      <td>Day 7</td>\n",
       "    </tr>\n",
       "    <tr>\n",
       "      <th>1</th>\n",
       "      <td>C1002758</td>\n",
       "      <td>Brachypodium pinnatum</td>\n",
       "    </tr>\n",
       "    <tr>\n",
       "      <th>6</th>\n",
       "      <td>C0020684</td>\n",
       "      <td>Hypoxanthine</td>\n",
       "    </tr>\n",
       "    <tr>\n",
       "      <th>7</th>\n",
       "      <td>C0853225</td>\n",
       "      <td>INR Increased</td>\n",
       "    </tr>\n",
       "    <tr>\n",
       "      <th>8</th>\n",
       "      <td>C1513022</td>\n",
       "      <td>Mature Centriole</td>\n",
       "    </tr>\n",
       "  </tbody>\n",
       "</table>\n",
       "</div>"
      ],
      "text/plain": [
       "         ID                  LABEL\n",
       "0  C3842672                  Day 7\n",
       "1  C1002758  Brachypodium pinnatum\n",
       "6  C0020684           Hypoxanthine\n",
       "7  C0853225          INR Increased\n",
       "8  C1513022       Mature Centriole"
      ]
     },
     "execution_count": 31,
     "metadata": {},
     "output_type": "execute_result"
    }
   ],
   "source": [
    "nodes = pd.DataFrame({\"ID\":x, \"LABEL\": node_label.get(x)} for x in nodes)\n",
    "nodes = nodes.dropna()\n",
    "print(len(nodes))\n",
    "nodes.head()"
   ]
  },
  {
   "cell_type": "code",
   "execution_count": 32,
   "metadata": {},
   "outputs": [],
   "source": [
    "nodes.to_csv(NODES1_CSV)"
   ]
  },
  {
   "cell_type": "code",
   "execution_count": null,
   "metadata": {},
   "outputs": [],
   "source": []
  }
 ],
 "metadata": {
  "kernelspec": {
   "display_name": "Python 3",
   "language": "python",
   "name": "python3"
  },
  "language_info": {
   "codemirror_mode": {
    "name": "ipython",
    "version": 3
   },
   "file_extension": ".py",
   "mimetype": "text/x-python",
   "name": "python",
   "nbconvert_exporter": "python",
   "pygments_lexer": "ipython3",
   "version": "3.7.6"
  },
  "pycharm": {
   "stem_cell": {
    "cell_type": "raw",
    "metadata": {
     "collapsed": false
    },
    "source": []
   }
  }
 },
 "nbformat": 4,
 "nbformat_minor": 4
}
