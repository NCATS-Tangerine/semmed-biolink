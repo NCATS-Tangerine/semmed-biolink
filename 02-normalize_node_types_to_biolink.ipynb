{
 "cells": [
  {
   "cell_type": "markdown",
   "metadata": {},
   "source": [
    "02-normalize_node_types_to_biolink\n",
    "- For each node, get the UMLS semantic type for each umls cui\n",
    "(get types from the UMLS mapping file: MRSTY.RRF)\n",
    "- Map umls semantic types to biolink node types (blm_to_umls_nodes.json)\n",
    "- Nodes with no matching type are removed\n",
    "and also special mappings for \n",
    "{'protein', 'chemical_substance'} = {\"biological_entity\"}\n",
    "{'cell', 'chemical_substance'} = {\"biological_entity\"}\n",
    "{'genomic_entity', 'chemical_substance'} = {\"biological_entity\"}"
   ]
  },
  {
   "cell_type": "code",
   "execution_count": 7,
   "metadata": {},
   "outputs": [
    {
     "data": {
      "text/html": [
       "<style>.container { width:90% !important; }</style>"
      ],
      "text/plain": [
       "<IPython.core.display.HTML object>"
      ]
     },
     "metadata": {},
     "output_type": "display_data"
    }
   ],
   "source": [
    "import os\n",
    "import pickle\n",
    "%matplotlib inline\n",
    "import pandas as pd\n",
    "import seaborn as sns\n",
    "import shelve\n",
    "from itertools import chain\n",
    "import re\n",
    "from collections import defaultdict, Counter\n",
    "from tqdm import tqdm\n",
    "import requests\n",
    "from IPython.core.display import display, HTML\n",
    "display(HTML(\"<style>.container { width:90% !important; }</style>\"))\n",
    "pd.options.display.max_colwidth = 80"
   ]
  },
  {
   "cell_type": "code",
   "execution_count": 8,
   "metadata": {},
   "outputs": [
    {
     "data": {
      "text/html": [
       "<div>\n",
       "<style scoped>\n",
       "    .dataframe tbody tr th:only-of-type {\n",
       "        vertical-align: middle;\n",
       "    }\n",
       "\n",
       "    .dataframe tbody tr th {\n",
       "        vertical-align: top;\n",
       "    }\n",
       "\n",
       "    .dataframe thead th {\n",
       "        text-align: right;\n",
       "    }\n",
       "</style>\n",
       "<table border=\"1\" class=\"dataframe\">\n",
       "  <thead>\n",
       "    <tr style=\"text-align: right;\">\n",
       "      <th></th>\n",
       "      <th>abv</th>\n",
       "      <th>group</th>\n",
       "      <th>id</th>\n",
       "      <th>label</th>\n",
       "    </tr>\n",
       "  </thead>\n",
       "  <tbody>\n",
       "    <tr>\n",
       "      <th>0</th>\n",
       "      <td>ACTI</td>\n",
       "      <td>Activities &amp; Behaviors</td>\n",
       "      <td>T052</td>\n",
       "      <td>Activity</td>\n",
       "    </tr>\n",
       "    <tr>\n",
       "      <th>1</th>\n",
       "      <td>ACTI</td>\n",
       "      <td>Activities &amp; Behaviors</td>\n",
       "      <td>T053</td>\n",
       "      <td>Behavior</td>\n",
       "    </tr>\n",
       "    <tr>\n",
       "      <th>2</th>\n",
       "      <td>ACTI</td>\n",
       "      <td>Activities &amp; Behaviors</td>\n",
       "      <td>T056</td>\n",
       "      <td>Daily or Recreational Activity</td>\n",
       "    </tr>\n",
       "    <tr>\n",
       "      <th>3</th>\n",
       "      <td>ACTI</td>\n",
       "      <td>Activities &amp; Behaviors</td>\n",
       "      <td>T051</td>\n",
       "      <td>Event</td>\n",
       "    </tr>\n",
       "    <tr>\n",
       "      <th>4</th>\n",
       "      <td>ACTI</td>\n",
       "      <td>Activities &amp; Behaviors</td>\n",
       "      <td>T064</td>\n",
       "      <td>Governmental or Regulatory Activity</td>\n",
       "    </tr>\n",
       "  </tbody>\n",
       "</table>\n",
       "</div>"
      ],
      "text/plain": [
       "    abv                   group    id                                label\n",
       "0  ACTI  Activities & Behaviors  T052                             Activity\n",
       "1  ACTI  Activities & Behaviors  T053                             Behavior\n",
       "2  ACTI  Activities & Behaviors  T056       Daily or Recreational Activity\n",
       "3  ACTI  Activities & Behaviors  T051                                Event\n",
       "4  ACTI  Activities & Behaviors  T064  Governmental or Regulatory Activity"
      ]
     },
     "execution_count": 8,
     "metadata": {},
     "output_type": "execute_result"
    }
   ],
   "source": [
    "groups = pd.read_csv(\"https://metamap.nlm.nih.gov/Docs/SemGroups_2013.txt\", sep=\"|\",\n",
    "                    names=['abv', 'group', 'id', 'label'])\n",
    "groups.head()"
   ]
  },
  {
   "cell_type": "code",
   "execution_count": 9,
   "metadata": {},
   "outputs": [
    {
     "name": "stdout",
     "output_type": "stream",
     "text": [
      "['Acquired Abnormality', 'Anatomical Abnormality', 'Cell or Molecular Dysfunction', 'Congenital Abnormality', 'Disease or Syndrome', 'Experimental Model of Disease', 'Finding', 'Injury or Poisoning', 'Mental or Behavioral Dysfunction', 'Neoplastic Process', 'Pathologic Function', 'Sign or Symptom']\n"
     ]
    }
   ],
   "source": [
    "print(sorted(list(groups.query(\"group == 'Disorders'\").label)))"
   ]
  },
  {
   "cell_type": "code",
   "execution_count": 10,
   "metadata": {},
   "outputs": [
    {
     "data": {
      "text/html": [
       "<div>\n",
       "<style scoped>\n",
       "    .dataframe tbody tr th:only-of-type {\n",
       "        vertical-align: middle;\n",
       "    }\n",
       "\n",
       "    .dataframe tbody tr th {\n",
       "        vertical-align: top;\n",
       "    }\n",
       "\n",
       "    .dataframe thead th {\n",
       "        text-align: right;\n",
       "    }\n",
       "</style>\n",
       "<table border=\"1\" class=\"dataframe\">\n",
       "  <thead>\n",
       "    <tr style=\"text-align: right;\">\n",
       "      <th></th>\n",
       "      <th>abv</th>\n",
       "      <th>ID</th>\n",
       "      <th>label</th>\n",
       "    </tr>\n",
       "  </thead>\n",
       "  <tbody>\n",
       "    <tr>\n",
       "      <th>0</th>\n",
       "      <td>aapp</td>\n",
       "      <td>T116</td>\n",
       "      <td>Amino Acid, Peptide, or Protein</td>\n",
       "    </tr>\n",
       "    <tr>\n",
       "      <th>1</th>\n",
       "      <td>acab</td>\n",
       "      <td>T020</td>\n",
       "      <td>Acquired Abnormality</td>\n",
       "    </tr>\n",
       "    <tr>\n",
       "      <th>2</th>\n",
       "      <td>acty</td>\n",
       "      <td>T052</td>\n",
       "      <td>Activity</td>\n",
       "    </tr>\n",
       "    <tr>\n",
       "      <th>3</th>\n",
       "      <td>aggp</td>\n",
       "      <td>T100</td>\n",
       "      <td>Age Group</td>\n",
       "    </tr>\n",
       "    <tr>\n",
       "      <th>4</th>\n",
       "      <td>amas</td>\n",
       "      <td>T087</td>\n",
       "      <td>Amino Acid Sequence</td>\n",
       "    </tr>\n",
       "  </tbody>\n",
       "</table>\n",
       "</div>"
      ],
      "text/plain": [
       "    abv    ID                            label\n",
       "0  aapp  T116  Amino Acid, Peptide, or Protein\n",
       "1  acab  T020             Acquired Abnormality\n",
       "2  acty  T052                         Activity\n",
       "3  aggp  T100                        Age Group\n",
       "4  amas  T087              Amino Acid Sequence"
      ]
     },
     "execution_count": 10,
     "metadata": {},
     "output_type": "execute_result"
    }
   ],
   "source": [
    "names = pd.read_csv(\"https://metamap.nlm.nih.gov/Docs/SemanticTypes_2013AA.txt\", sep=\"|\", \n",
    "                   names=['abv', 'ID', 'label'])\n",
    "names.head()"
   ]
  },
  {
   "cell_type": "code",
   "execution_count": 11,
   "metadata": {},
   "outputs": [],
   "source": [
    "type_label = dict(zip(names.ID, names.label))"
   ]
  },
  {
   "cell_type": "code",
   "execution_count": 27,
   "metadata": {},
   "outputs": [
    {
     "data": {
      "text/html": [
       "<div>\n",
       "<style scoped>\n",
       "    .dataframe tbody tr th:only-of-type {\n",
       "        vertical-align: middle;\n",
       "    }\n",
       "\n",
       "    .dataframe tbody tr th {\n",
       "        vertical-align: top;\n",
       "    }\n",
       "\n",
       "    .dataframe thead th {\n",
       "        text-align: right;\n",
       "    }\n",
       "</style>\n",
       "<table border=\"1\" class=\"dataframe\">\n",
       "  <thead>\n",
       "    <tr style=\"text-align: right;\">\n",
       "      <th></th>\n",
       "      <th>ID</th>\n",
       "      <th>TYPE</th>\n",
       "    </tr>\n",
       "  </thead>\n",
       "  <tbody>\n",
       "    <tr>\n",
       "      <th>0</th>\n",
       "      <td>C0000005</td>\n",
       "      <td>T116</td>\n",
       "    </tr>\n",
       "    <tr>\n",
       "      <th>1</th>\n",
       "      <td>C0000005</td>\n",
       "      <td>T121</td>\n",
       "    </tr>\n",
       "    <tr>\n",
       "      <th>2</th>\n",
       "      <td>C0000005</td>\n",
       "      <td>T130</td>\n",
       "    </tr>\n",
       "    <tr>\n",
       "      <th>3</th>\n",
       "      <td>C0000039</td>\n",
       "      <td>T109</td>\n",
       "    </tr>\n",
       "    <tr>\n",
       "      <th>4</th>\n",
       "      <td>C0000039</td>\n",
       "      <td>T121</td>\n",
       "    </tr>\n",
       "  </tbody>\n",
       "</table>\n",
       "</div>"
      ],
      "text/plain": [
       "         ID  TYPE\n",
       "0  C0000005  T116\n",
       "1  C0000005  T121\n",
       "2  C0000005  T130\n",
       "3  C0000039  T109\n",
       "4  C0000039  T121"
      ]
     },
     "execution_count": 27,
     "metadata": {},
     "output_type": "execute_result"
    }
   ],
   "source": [
    "df = pd.read_csv(\"MRSTY.RRF.gz\", sep=\"|\", names=['ID', 'TYPE', 'who', 'the', 'fuck', 'knows'], index_col=False, usecols=['ID', 'TYPE'], dtype=str)\n",
    "df.head()"
   ]
  },
  {
   "cell_type": "code",
   "execution_count": 28,
   "metadata": {},
   "outputs": [],
   "source": [
    "id_type = df.groupby(\"ID\").TYPE.aggregate(set).to_dict()"
   ]
  },
  {
   "cell_type": "code",
   "execution_count": 29,
   "metadata": {},
   "outputs": [
    {
     "data": {
      "text/plain": [
       "{'Amino Acid, Peptide, or Protein',\n",
       " 'Indicator, Reagent, or Diagnostic Aid',\n",
       " 'Pharmacologic Substance'}"
      ]
     },
     "execution_count": 29,
     "metadata": {},
     "output_type": "execute_result"
    }
   ],
   "source": [
    "id_type_label = {k:{type_label.get(x) for x in v} for k,v in id_type.items()}\n",
    "id_type_label['C0000005']"
   ]
  },
  {
   "cell_type": "code",
   "execution_count": 30,
   "metadata": {},
   "outputs": [
    {
     "data": {
      "text/html": [
       "<div>\n",
       "<style scoped>\n",
       "    .dataframe tbody tr th:only-of-type {\n",
       "        vertical-align: middle;\n",
       "    }\n",
       "\n",
       "    .dataframe tbody tr th {\n",
       "        vertical-align: top;\n",
       "    }\n",
       "\n",
       "    .dataframe thead th {\n",
       "        text-align: right;\n",
       "    }\n",
       "</style>\n",
       "<table border=\"1\" class=\"dataframe\">\n",
       "  <thead>\n",
       "    <tr style=\"text-align: right;\">\n",
       "      <th></th>\n",
       "      <th>ID</th>\n",
       "      <th>LABEL</th>\n",
       "    </tr>\n",
       "  </thead>\n",
       "  <tbody>\n",
       "    <tr>\n",
       "      <th>0</th>\n",
       "      <td>C0061133</td>\n",
       "      <td>gastrin releasing peptide (14-27)</td>\n",
       "    </tr>\n",
       "    <tr>\n",
       "      <th>1</th>\n",
       "      <td>C1523610</td>\n",
       "      <td>regulation of tube length, open tracheal system</td>\n",
       "    </tr>\n",
       "    <tr>\n",
       "      <th>2</th>\n",
       "      <td>C0312636</td>\n",
       "      <td>Antibody to hepatitis E virus</td>\n",
       "    </tr>\n",
       "    <tr>\n",
       "      <th>3</th>\n",
       "      <td>C1532578</td>\n",
       "      <td>mL/cm H2O</td>\n",
       "    </tr>\n",
       "    <tr>\n",
       "      <th>4</th>\n",
       "      <td>C0539817</td>\n",
       "      <td>cytochrome p30</td>\n",
       "    </tr>\n",
       "  </tbody>\n",
       "</table>\n",
       "</div>"
      ],
      "text/plain": [
       "         ID                                            LABEL\n",
       "0  C0061133                gastrin releasing peptide (14-27)\n",
       "1  C1523610  regulation of tube length, open tracheal system\n",
       "2  C0312636                    Antibody to hepatitis E virus\n",
       "3  C1532578                                        mL/cm H2O\n",
       "4  C0539817                                   cytochrome p30"
      ]
     },
     "execution_count": 30,
     "metadata": {},
     "output_type": "execute_result"
    }
   ],
   "source": [
    "nodes = pd.read_csv(\"nodes1.csv\", index_col=0)\n",
    "nodes.head()"
   ]
  },
  {
   "cell_type": "code",
   "execution_count": 31,
   "metadata": {},
   "outputs": [],
   "source": [
    "nodes['umls_type'] = nodes.ID.map(lambda x: id_type.get(x))\n",
    "nodes['umls_type_label'] = nodes.umls_type.map(lambda x:{type_label.get(y) for y in x} if x else None)"
   ]
  },
  {
   "cell_type": "code",
   "execution_count": 32,
   "metadata": {},
   "outputs": [
    {
     "data": {
      "text/html": [
       "<div>\n",
       "<style scoped>\n",
       "    .dataframe tbody tr th:only-of-type {\n",
       "        vertical-align: middle;\n",
       "    }\n",
       "\n",
       "    .dataframe tbody tr th {\n",
       "        vertical-align: top;\n",
       "    }\n",
       "\n",
       "    .dataframe thead th {\n",
       "        text-align: right;\n",
       "    }\n",
       "</style>\n",
       "<table border=\"1\" class=\"dataframe\">\n",
       "  <thead>\n",
       "    <tr style=\"text-align: right;\">\n",
       "      <th></th>\n",
       "      <th>ID</th>\n",
       "      <th>LABEL</th>\n",
       "      <th>umls_type</th>\n",
       "      <th>umls_type_label</th>\n",
       "    </tr>\n",
       "  </thead>\n",
       "  <tbody>\n",
       "    <tr>\n",
       "      <th>0</th>\n",
       "      <td>C0061133</td>\n",
       "      <td>gastrin releasing peptide (14-27)</td>\n",
       "      <td>{T116}</td>\n",
       "      <td>{Amino Acid, Peptide, or Protein}</td>\n",
       "    </tr>\n",
       "    <tr>\n",
       "      <th>1</th>\n",
       "      <td>C1523610</td>\n",
       "      <td>regulation of tube length, open tracheal system</td>\n",
       "      <td>{T042}</td>\n",
       "      <td>{Organ or Tissue Function}</td>\n",
       "    </tr>\n",
       "    <tr>\n",
       "      <th>2</th>\n",
       "      <td>C0312636</td>\n",
       "      <td>Antibody to hepatitis E virus</td>\n",
       "      <td>{T116, T129}</td>\n",
       "      <td>{Immunologic Factor, Amino Acid, Peptide, or Protein}</td>\n",
       "    </tr>\n",
       "    <tr>\n",
       "      <th>3</th>\n",
       "      <td>C1532578</td>\n",
       "      <td>mL/cm H2O</td>\n",
       "      <td>{T081}</td>\n",
       "      <td>{Quantitative Concept}</td>\n",
       "    </tr>\n",
       "    <tr>\n",
       "      <th>4</th>\n",
       "      <td>C0539817</td>\n",
       "      <td>cytochrome p30</td>\n",
       "      <td>{T126, T116}</td>\n",
       "      <td>{Amino Acid, Peptide, or Protein, Enzyme}</td>\n",
       "    </tr>\n",
       "  </tbody>\n",
       "</table>\n",
       "</div>"
      ],
      "text/plain": [
       "         ID                                            LABEL     umls_type  \\\n",
       "0  C0061133                gastrin releasing peptide (14-27)        {T116}   \n",
       "1  C1523610  regulation of tube length, open tracheal system        {T042}   \n",
       "2  C0312636                    Antibody to hepatitis E virus  {T116, T129}   \n",
       "3  C1532578                                        mL/cm H2O        {T081}   \n",
       "4  C0539817                                   cytochrome p30  {T126, T116}   \n",
       "\n",
       "                                         umls_type_label  \n",
       "0                      {Amino Acid, Peptide, or Protein}  \n",
       "1                             {Organ or Tissue Function}  \n",
       "2  {Immunologic Factor, Amino Acid, Peptide, or Protein}  \n",
       "3                                 {Quantitative Concept}  \n",
       "4              {Amino Acid, Peptide, or Protein, Enzyme}  "
      ]
     },
     "execution_count": 32,
     "metadata": {},
     "output_type": "execute_result"
    }
   ],
   "source": [
    "nodes.head()"
   ]
  },
  {
   "cell_type": "code",
   "execution_count": 33,
   "metadata": {},
   "outputs": [
    {
     "name": "stdout",
     "output_type": "stream",
     "text": [
      "259227\n",
      "259227\n"
     ]
    }
   ],
   "source": [
    "# toss those with no umls types\n",
    "print(len(nodes))\n",
    "nodes.dropna(subset=['umls_type'], inplace=True)\n",
    "print(len(nodes))"
   ]
  },
  {
   "cell_type": "code",
   "execution_count": 41,
   "metadata": {},
   "outputs": [
    {
     "data": {
      "text/plain": [
       "{'activity_and_behavior': {'Activity',\n",
       "  'Behavior',\n",
       "  'Daily or Recreational Activity',\n",
       "  'Individual Behavior',\n",
       "  'Occupational Activity',\n",
       "  'Social Behavior'},\n",
       " 'anatomical_entity': {'Body Location or Region',\n",
       "  'Body Space or Junction',\n",
       "  'Body Substance'},\n",
       " 'biological_process_or_activity': {'Biologic Function',\n",
       "  'Cell Function',\n",
       "  'Genetic Function',\n",
       "  'Mental Process',\n",
       "  'Molecular Function',\n",
       "  'Organ or Tissue Function',\n",
       "  'Organism Function'},\n",
       " 'cell': {'cell'},\n",
       " 'cell_component': {'cell component'},\n",
       " 'chemical_substance': {'Antibiotic',\n",
       "  'Biologically Active Substance',\n",
       "  'Biomedical or Dental Material',\n",
       "  'Carbohydrate',\n",
       "  'Chemical',\n",
       "  'Chemical Viewed Functionally',\n",
       "  'Chemical Viewed Structurally',\n",
       "  'Clinical Drug',\n",
       "  'Eicosanoid',\n",
       "  'Element, Ion, or Isotope',\n",
       "  'Hazardous or Poisonous Substance',\n",
       "  'Hormone',\n",
       "  'Immunologic Factor',\n",
       "  'Indicator, Reagent, or Diagnostic Aid',\n",
       "  'Inorganic Chemical',\n",
       "  'Lipid',\n",
       "  'Neuroreactive Substance or Biogenic Amine',\n",
       "  'Organic Chemical',\n",
       "  'Organophosphorus Compound',\n",
       "  'Pharmacologic Substance',\n",
       "  'Receptor',\n",
       "  'Steroid',\n",
       "  'Vitamin'},\n",
       " 'disease_or_phenotypic_feature': {'Acquired Abnormality',\n",
       "  'Anatomical Abnormality',\n",
       "  'Cell or Molecular Dysfunction',\n",
       "  'Congenital Abnormality',\n",
       "  'Disease or Syndrome',\n",
       "  'Experimental Model of Disease',\n",
       "  'Finding',\n",
       "  'Injury or Poisoning',\n",
       "  'Mental or Behavioral Dysfunction',\n",
       "  'Neoplastic Process',\n",
       "  'Pathologic Function',\n",
       "  'Sign or Symptom'},\n",
       " 'gene': {'Gene or Genome'},\n",
       " 'genomic_entity': {'Amino Acid Sequence', 'Nucleotide Sequence'},\n",
       " 'gross_anatomical_structure': {'Body Part, Organ, or Organ Component',\n",
       "  'Body System',\n",
       "  'Embryonic Structure',\n",
       "  'Fully Formed Anatomical Structure',\n",
       "  'Tissue'},\n",
       " 'individual_organism': {'Living Beings'},\n",
       " 'named_thing': {'Objects'},\n",
       " 'phenotypic_feature': {'Laboratory or Test Result'},\n",
       " 'protein': {'Amino Acid, Peptide, or Protein', 'Enzyme'}}"
      ]
     },
     "execution_count": 41,
     "metadata": {},
     "output_type": "execute_result"
    }
   ],
   "source": [
    "import json\n",
    "\n",
    "blm_to_umls = json.load(open(\"blm_to_umls_nodes.json\"))\n",
    "blm_to_umls = {k:set(v) for k,v in blm_to_umls.items()}\n",
    "blm_to_umls"
   ]
  },
  {
   "cell_type": "code",
   "execution_count": 42,
   "metadata": {},
   "outputs": [],
   "source": [
    "umls_to_blm_check = defaultdict(set)\n",
    "umls_to_blm = dict()\n",
    "for k,vv in blm_to_umls.items():\n",
    "    for v in vv:\n",
    "        umls_to_blm_check[v.lower()].add(k.lower())\n",
    "        umls_to_blm[v.lower()] = k.lower()\n",
    "assert set(len(x) for x in umls_to_blm_check.values()) == {1}\n",
    "# umls_to_blm"
   ]
  },
  {
   "cell_type": "code",
   "execution_count": 43,
   "metadata": {},
   "outputs": [
    {
     "data": {
      "text/html": [
       "<div>\n",
       "<style scoped>\n",
       "    .dataframe tbody tr th:only-of-type {\n",
       "        vertical-align: middle;\n",
       "    }\n",
       "\n",
       "    .dataframe tbody tr th {\n",
       "        vertical-align: top;\n",
       "    }\n",
       "\n",
       "    .dataframe thead th {\n",
       "        text-align: right;\n",
       "    }\n",
       "</style>\n",
       "<table border=\"1\" class=\"dataframe\">\n",
       "  <thead>\n",
       "    <tr style=\"text-align: right;\">\n",
       "      <th></th>\n",
       "      <th>ID</th>\n",
       "      <th>LABEL</th>\n",
       "      <th>umls_type</th>\n",
       "      <th>umls_type_label</th>\n",
       "      <th>blm_type</th>\n",
       "    </tr>\n",
       "  </thead>\n",
       "  <tbody>\n",
       "    <tr>\n",
       "      <th>0</th>\n",
       "      <td>C0061133</td>\n",
       "      <td>gastrin releasing peptide (14-27)</td>\n",
       "      <td>{T116}</td>\n",
       "      <td>{Amino Acid, Peptide, or Protein}</td>\n",
       "      <td>{protein}</td>\n",
       "    </tr>\n",
       "    <tr>\n",
       "      <th>1</th>\n",
       "      <td>C1523610</td>\n",
       "      <td>regulation of tube length, open tracheal system</td>\n",
       "      <td>{T042}</td>\n",
       "      <td>{Organ or Tissue Function}</td>\n",
       "      <td>{biological_process_or_activity}</td>\n",
       "    </tr>\n",
       "    <tr>\n",
       "      <th>2</th>\n",
       "      <td>C0312636</td>\n",
       "      <td>Antibody to hepatitis E virus</td>\n",
       "      <td>{T116, T129}</td>\n",
       "      <td>{Immunologic Factor, Amino Acid, Peptide, or Protein}</td>\n",
       "      <td>{chemical_substance, protein}</td>\n",
       "    </tr>\n",
       "    <tr>\n",
       "      <th>4</th>\n",
       "      <td>C0539817</td>\n",
       "      <td>cytochrome p30</td>\n",
       "      <td>{T126, T116}</td>\n",
       "      <td>{Amino Acid, Peptide, or Protein, Enzyme}</td>\n",
       "      <td>{protein}</td>\n",
       "    </tr>\n",
       "    <tr>\n",
       "      <th>6</th>\n",
       "      <td>C0406240</td>\n",
       "      <td>Photosensitive atopic dermatitis</td>\n",
       "      <td>{T047}</td>\n",
       "      <td>{Disease or Syndrome}</td>\n",
       "      <td>{disease_or_phenotypic_feature}</td>\n",
       "    </tr>\n",
       "  </tbody>\n",
       "</table>\n",
       "</div>"
      ],
      "text/plain": [
       "         ID                                            LABEL     umls_type  \\\n",
       "0  C0061133                gastrin releasing peptide (14-27)        {T116}   \n",
       "1  C1523610  regulation of tube length, open tracheal system        {T042}   \n",
       "2  C0312636                    Antibody to hepatitis E virus  {T116, T129}   \n",
       "4  C0539817                                   cytochrome p30  {T126, T116}   \n",
       "6  C0406240                 Photosensitive atopic dermatitis        {T047}   \n",
       "\n",
       "                                         umls_type_label  \\\n",
       "0                      {Amino Acid, Peptide, or Protein}   \n",
       "1                             {Organ or Tissue Function}   \n",
       "2  {Immunologic Factor, Amino Acid, Peptide, or Protein}   \n",
       "4              {Amino Acid, Peptide, or Protein, Enzyme}   \n",
       "6                                  {Disease or Syndrome}   \n",
       "\n",
       "                           blm_type  \n",
       "0                         {protein}  \n",
       "1  {biological_process_or_activity}  \n",
       "2     {chemical_substance, protein}  \n",
       "4                         {protein}  \n",
       "6   {disease_or_phenotypic_feature}  "
      ]
     },
     "execution_count": 43,
     "metadata": {},
     "output_type": "execute_result"
    }
   ],
   "source": [
    "nodes['blm_type'] = nodes.umls_type_label.map(lambda x: {umls_to_blm.get(xx.lower()) for xx in x})\n",
    "nodes.blm_type = nodes.blm_type.map(lambda v: {x for x in v if x})\n",
    "nodes.blm_type = nodes.blm_type.map(lambda v: v if v else pd.np.NAN)\n",
    "nodes.dropna(subset=['blm_type'], inplace=True)\n",
    "nodes.head()"
   ]
  },
  {
   "cell_type": "code",
   "execution_count": 44,
   "metadata": {},
   "outputs": [
    {
     "data": {
      "text/html": [
       "<div>\n",
       "<style scoped>\n",
       "    .dataframe tbody tr th:only-of-type {\n",
       "        vertical-align: middle;\n",
       "    }\n",
       "\n",
       "    .dataframe tbody tr th {\n",
       "        vertical-align: top;\n",
       "    }\n",
       "\n",
       "    .dataframe thead th {\n",
       "        text-align: right;\n",
       "    }\n",
       "</style>\n",
       "<table border=\"1\" class=\"dataframe\">\n",
       "  <thead>\n",
       "    <tr style=\"text-align: right;\">\n",
       "      <th></th>\n",
       "      <th>ID</th>\n",
       "      <th>LABEL</th>\n",
       "      <th>umls_type</th>\n",
       "      <th>umls_type_label</th>\n",
       "      <th>blm_type</th>\n",
       "    </tr>\n",
       "  </thead>\n",
       "  <tbody>\n",
       "    <tr>\n",
       "      <th>38578</th>\n",
       "      <td>C0006875</td>\n",
       "      <td>Cannibalism</td>\n",
       "      <td>{T054}</td>\n",
       "      <td>{Social Behavior}</td>\n",
       "      <td>{activity_and_behavior}</td>\n",
       "    </tr>\n",
       "    <tr>\n",
       "      <th>149173</th>\n",
       "      <td>C0079904</td>\n",
       "      <td>NF-kappa B</td>\n",
       "      <td>{T116, T129}</td>\n",
       "      <td>{Immunologic Factor, Amino Acid, Peptide, or Protein}</td>\n",
       "      <td>{chemical_substance, protein}</td>\n",
       "    </tr>\n",
       "    <tr>\n",
       "      <th>157271</th>\n",
       "      <td>C0879593</td>\n",
       "      <td>therapeutic autologous dendritic cells</td>\n",
       "      <td>{T025, T121}</td>\n",
       "      <td>{Pharmacologic Substance, Cell}</td>\n",
       "      <td>{chemical_substance, cell}</td>\n",
       "    </tr>\n",
       "  </tbody>\n",
       "</table>\n",
       "</div>"
      ],
      "text/plain": [
       "              ID                                   LABEL     umls_type  \\\n",
       "38578   C0006875                             Cannibalism        {T054}   \n",
       "149173  C0079904                              NF-kappa B  {T116, T129}   \n",
       "157271  C0879593  therapeutic autologous dendritic cells  {T025, T121}   \n",
       "\n",
       "                                              umls_type_label  \\\n",
       "38578                                       {Social Behavior}   \n",
       "149173  {Immunologic Factor, Amino Acid, Peptide, or Protein}   \n",
       "157271                        {Pharmacologic Substance, Cell}   \n",
       "\n",
       "                             blm_type  \n",
       "38578         {activity_and_behavior}  \n",
       "149173  {chemical_substance, protein}  \n",
       "157271     {chemical_substance, cell}  "
      ]
     },
     "execution_count": 44,
     "metadata": {},
     "output_type": "execute_result"
    }
   ],
   "source": [
    "nodes[nodes.ID.isin({\"C0079904\", \"C0879593\", \"C0006875\"})]"
   ]
  },
  {
   "cell_type": "code",
   "execution_count": 45,
   "metadata": {},
   "outputs": [
    {
     "data": {
      "text/plain": [
       "(chemical_substance, protein)    15944\n",
       "(chemical_substance, cell)           3\n",
       "Name: blm_type, dtype: int64"
      ]
     },
     "execution_count": 45,
     "metadata": {},
     "output_type": "execute_result"
    }
   ],
   "source": [
    "# the only nodes with two types:\n",
    "nodes[nodes.blm_type.map(len)>1].blm_type.map(frozenset).value_counts()"
   ]
  },
  {
   "cell_type": "code",
   "execution_count": 46,
   "metadata": {},
   "outputs": [
    {
     "data": {
      "text/plain": [
       "[(frozenset({'Amino Acid, Peptide, or Protein',\n",
       "             'Biologically Active Substance'}),\n",
       "  7326),\n",
       " (frozenset({'Amino Acid, Peptide, or Protein', 'Pharmacologic Substance'}),\n",
       "  2567),\n",
       " (frozenset({'Amino Acid, Peptide, or Protein', 'Immunologic Factor'}), 2064),\n",
       " (frozenset({'Amino Acid, Peptide, or Protein', 'Receptor'}), 1359),\n",
       " (frozenset({'Amino Acid, Peptide, or Protein',\n",
       "             'Immunologic Factor',\n",
       "             'Pharmacologic Substance'}),\n",
       "  534),\n",
       " (frozenset({'Amino Acid, Peptide, or Protein',\n",
       "             'Enzyme',\n",
       "             'Pharmacologic Substance'}),\n",
       "  264),\n",
       " (frozenset({'Amino Acid, Peptide, or Protein',\n",
       "             'Hormone',\n",
       "             'Pharmacologic Substance'}),\n",
       "  262),\n",
       " (frozenset({'Amino Acid, Peptide, or Protein',\n",
       "             'Biologically Active Substance',\n",
       "             'Hazardous or Poisonous Substance'}),\n",
       "  251),\n",
       " (frozenset({'Amino Acid, Peptide, or Protein', 'Antibiotic'}), 216),\n",
       " (frozenset({'Amino Acid, Peptide, or Protein', 'Hormone'}), 194)]"
      ]
     },
     "execution_count": 46,
     "metadata": {},
     "output_type": "execute_result"
    }
   ],
   "source": [
    "# within the nodes with more than 1 blm types:\n",
    "# what are the most common umls types\n",
    "nodes2 = nodes[nodes.blm_type.map(len)>1]\n",
    "Counter(nodes2[nodes2.umls_type_label.map(len)>1].umls_type_label.map(frozenset)).most_common(10)"
   ]
  },
  {
   "cell_type": "code",
   "execution_count": 47,
   "metadata": {},
   "outputs": [],
   "source": [
    "nodes.loc[nodes.blm_type == {'protein', 'chemical_substance'}, \"blm_type\"] = {\"biological_entity\"}\n",
    "nodes.loc[nodes.blm_type == {'cell', 'chemical_substance'}, \"blm_type\"] = {\"biological_entity\"}\n",
    "nodes.loc[nodes.blm_type == {'genomic_entity', 'chemical_substance'}, \"blm_type\"] = {\"biological_entity\"}\n",
    "nodes.blm_type = nodes.blm_type.map(lambda x:list(x)[0])"
   ]
  },
  {
   "cell_type": "code",
   "execution_count": 48,
   "metadata": {},
   "outputs": [
    {
     "data": {
      "text/html": [
       "<div>\n",
       "<style scoped>\n",
       "    .dataframe tbody tr th:only-of-type {\n",
       "        vertical-align: middle;\n",
       "    }\n",
       "\n",
       "    .dataframe tbody tr th {\n",
       "        vertical-align: top;\n",
       "    }\n",
       "\n",
       "    .dataframe thead th {\n",
       "        text-align: right;\n",
       "    }\n",
       "</style>\n",
       "<table border=\"1\" class=\"dataframe\">\n",
       "  <thead>\n",
       "    <tr style=\"text-align: right;\">\n",
       "      <th></th>\n",
       "      <th>ID</th>\n",
       "      <th>LABEL</th>\n",
       "      <th>umls_type</th>\n",
       "      <th>umls_type_label</th>\n",
       "      <th>blm_type</th>\n",
       "    </tr>\n",
       "  </thead>\n",
       "  <tbody>\n",
       "    <tr>\n",
       "      <th>38578</th>\n",
       "      <td>C0006875</td>\n",
       "      <td>Cannibalism</td>\n",
       "      <td>{T054}</td>\n",
       "      <td>{Social Behavior}</td>\n",
       "      <td>activity_and_behavior</td>\n",
       "    </tr>\n",
       "    <tr>\n",
       "      <th>149173</th>\n",
       "      <td>C0079904</td>\n",
       "      <td>NF-kappa B</td>\n",
       "      <td>{T116, T129}</td>\n",
       "      <td>{Immunologic Factor, Amino Acid, Peptide, or Protein}</td>\n",
       "      <td>biological_entity</td>\n",
       "    </tr>\n",
       "    <tr>\n",
       "      <th>157271</th>\n",
       "      <td>C0879593</td>\n",
       "      <td>therapeutic autologous dendritic cells</td>\n",
       "      <td>{T025, T121}</td>\n",
       "      <td>{Pharmacologic Substance, Cell}</td>\n",
       "      <td>biological_entity</td>\n",
       "    </tr>\n",
       "  </tbody>\n",
       "</table>\n",
       "</div>"
      ],
      "text/plain": [
       "              ID                                   LABEL     umls_type  \\\n",
       "38578   C0006875                             Cannibalism        {T054}   \n",
       "149173  C0079904                              NF-kappa B  {T116, T129}   \n",
       "157271  C0879593  therapeutic autologous dendritic cells  {T025, T121}   \n",
       "\n",
       "                                              umls_type_label  \\\n",
       "38578                                       {Social Behavior}   \n",
       "149173  {Immunologic Factor, Amino Acid, Peptide, or Protein}   \n",
       "157271                        {Pharmacologic Substance, Cell}   \n",
       "\n",
       "                     blm_type  \n",
       "38578   activity_and_behavior  \n",
       "149173      biological_entity  \n",
       "157271      biological_entity  "
      ]
     },
     "execution_count": 48,
     "metadata": {},
     "output_type": "execute_result"
    }
   ],
   "source": [
    "nodes[nodes.ID.isin({\"C0079904\", \"C0879593\", \"C0006875\"})]"
   ]
  },
  {
   "cell_type": "code",
   "execution_count": 49,
   "metadata": {},
   "outputs": [
    {
     "data": {
      "text/plain": [
       "(Disease or Syndrome)                                  16363\n",
       "(Finding)                                               8691\n",
       "(Neoplastic Process)                                    4871\n",
       "(Pathologic Function)                                   2287\n",
       "(Injury or Poisoning)                                   2050\n",
       "(Sign or Symptom)                                       1928\n",
       "(Congenital Abnormality)                                1696\n",
       "(Mental or Behavioral Dysfunction)                      1414\n",
       "(Acquired Abnormality)                                   625\n",
       "(Anatomical Abnormality)                                 578\n",
       "(Cell or Molecular Dysfunction)                          406\n",
       "(Congenital Abnormality, Disease or Syndrome)             91\n",
       "(Experimental Model of Disease)                           36\n",
       "(Experimental Model of Disease, Neoplastic Process)       25\n",
       "(Anatomical Abnormality, Disease or Syndrome)              5\n",
       "Name: umls_type_label, dtype: int64"
      ]
     },
     "execution_count": 49,
     "metadata": {},
     "output_type": "execute_result"
    }
   ],
   "source": [
    "nodes[nodes.blm_type==\"disease_or_phenotypic_feature\"].umls_type_label.map(frozenset).value_counts()"
   ]
  },
  {
   "cell_type": "code",
   "execution_count": 26,
   "metadata": {},
   "outputs": [
    {
     "data": {
      "text/plain": [
       "chemical_substance                64827\n",
       "disease_or_phenotypic_feature     41066\n",
       "gene                              21129\n",
       "biological_entity                 15947\n",
       "protein                           13658\n",
       "gross_anatomical_structure         8787\n",
       "biological_process_or_activity     7439\n",
       "anatomical_entity                  2822\n",
       "cell_component                     1679\n",
       "activity_and_behavior              1280\n",
       "cell                               1149\n",
       "phenotypic_feature                  531\n",
       "genomic_entity                      177\n",
       "Name: blm_type, dtype: int64"
      ]
     },
     "execution_count": 26,
     "metadata": {},
     "output_type": "execute_result"
    }
   ],
   "source": [
    "nodes.blm_type.value_counts()"
   ]
  },
  {
   "cell_type": "code",
   "execution_count": 27,
   "metadata": {},
   "outputs": [],
   "source": [
    "nodes.umls_type_label = nodes.umls_type_label.apply(\"|\".join)\n",
    "nodes.umls_type = nodes.umls_type.apply(\"|\".join)"
   ]
  },
  {
   "cell_type": "code",
   "execution_count": 28,
   "metadata": {},
   "outputs": [
    {
     "data": {
      "text/html": [
       "<div>\n",
       "<style scoped>\n",
       "    .dataframe tbody tr th:only-of-type {\n",
       "        vertical-align: middle;\n",
       "    }\n",
       "\n",
       "    .dataframe tbody tr th {\n",
       "        vertical-align: top;\n",
       "    }\n",
       "\n",
       "    .dataframe thead th {\n",
       "        text-align: right;\n",
       "    }\n",
       "</style>\n",
       "<table border=\"1\" class=\"dataframe\">\n",
       "  <thead>\n",
       "    <tr style=\"text-align: right;\">\n",
       "      <th></th>\n",
       "      <th>ID</th>\n",
       "      <th>LABEL</th>\n",
       "      <th>umls_type</th>\n",
       "      <th>umls_type_label</th>\n",
       "      <th>blm_type</th>\n",
       "    </tr>\n",
       "  </thead>\n",
       "  <tbody>\n",
       "    <tr>\n",
       "      <th>38578</th>\n",
       "      <td>C0006875</td>\n",
       "      <td>Cannibalism</td>\n",
       "      <td>T054</td>\n",
       "      <td>Social Behavior</td>\n",
       "      <td>activity_and_behavior</td>\n",
       "    </tr>\n",
       "    <tr>\n",
       "      <th>149173</th>\n",
       "      <td>C0079904</td>\n",
       "      <td>NF-kappa B</td>\n",
       "      <td>T116|T129</td>\n",
       "      <td>Amino Acid, Peptide, or Protein|Immunologic Factor</td>\n",
       "      <td>biological_entity</td>\n",
       "    </tr>\n",
       "    <tr>\n",
       "      <th>157271</th>\n",
       "      <td>C0879593</td>\n",
       "      <td>therapeutic autologous dendritic cells</td>\n",
       "      <td>T121|T025</td>\n",
       "      <td>Pharmacologic Substance|Cell</td>\n",
       "      <td>biological_entity</td>\n",
       "    </tr>\n",
       "  </tbody>\n",
       "</table>\n",
       "</div>"
      ],
      "text/plain": [
       "              ID                                   LABEL  umls_type  \\\n",
       "38578   C0006875                             Cannibalism       T054   \n",
       "149173  C0079904                              NF-kappa B  T116|T129   \n",
       "157271  C0879593  therapeutic autologous dendritic cells  T121|T025   \n",
       "\n",
       "                                           umls_type_label  \\\n",
       "38578                                      Social Behavior   \n",
       "149173  Amino Acid, Peptide, or Protein|Immunologic Factor   \n",
       "157271                        Pharmacologic Substance|Cell   \n",
       "\n",
       "                     blm_type  \n",
       "38578   activity_and_behavior  \n",
       "149173      biological_entity  \n",
       "157271      biological_entity  "
      ]
     },
     "execution_count": 28,
     "metadata": {},
     "output_type": "execute_result"
    }
   ],
   "source": [
    "nodes[nodes.ID.isin({\"C0079904\", \"C0879593\", \"C0006875\", \"C0815111\"})]"
   ]
  },
  {
   "cell_type": "code",
   "execution_count": 29,
   "metadata": {},
   "outputs": [],
   "source": [
    "nodes.to_csv(\"nodes_blm.csv\")"
   ]
  }
 ],
 "metadata": {
  "kernelspec": {
   "display_name": "Python 3",
   "language": "python",
   "name": "python3"
  },
  "language_info": {
   "codemirror_mode": {
    "name": "ipython",
    "version": 3
   },
   "file_extension": ".py",
   "mimetype": "text/x-python",
   "name": "python",
   "nbconvert_exporter": "python",
   "pygments_lexer": "ipython3",
   "version": "3.7.6"
  }
 },
 "nbformat": 4,
 "nbformat_minor": 4
}
