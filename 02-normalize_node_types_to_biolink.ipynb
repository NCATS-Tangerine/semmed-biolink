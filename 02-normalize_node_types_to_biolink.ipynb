{
 "cells": [
  {
   "cell_type": "markdown",
   "metadata": {},
   "source": [
    "# 02-normalize_node_types_to_biolink\n",
    "- For each node, get the UMLS semantic type for each umls cui\n",
    "(get types from the UMLS mapping file: MRSTY.RRF)\n",
    "- Map umls semantic types to Biolink concept node category (blm_to_umls_nodes.json)\n",
    "- Nodes with no matching Biolink type are removed\n",
    "- Multiple Biolink category mappings are now \"passed through\" as piped strings"
   ]
  },
  {
   "cell_type": "code",
   "execution_count": 1,
   "metadata": {},
   "outputs": [
    {
     "data": {
      "text/html": [
       "<style>.container { width:90% !important; }</style>"
      ],
      "text/plain": [
       "<IPython.core.display.HTML object>"
      ]
     },
     "metadata": {},
     "output_type": "display_data"
    }
   ],
   "source": [
    "import os\n",
    "import pickle\n",
    "%matplotlib inline\n",
    "import pandas as pd\n",
    "from numpy import nan\n",
    "import seaborn as sns\n",
    "import shelve\n",
    "from itertools import chain\n",
    "import re\n",
    "from collections import defaultdict, Counter\n",
    "from tqdm import tqdm\n",
    "import requests\n",
    "from IPython.core.display import display, HTML\n",
    "display(HTML(\"<style>.container { width:90% !important; }</style>\"))\n",
    "pd.options.display.max_colwidth = 80\n",
    "from semmed_biolink_environment import *"
   ]
  },
  {
   "cell_type": "code",
   "execution_count": 2,
   "metadata": {},
   "outputs": [
    {
     "data": {
      "text/html": [
       "<div>\n",
       "<style scoped>\n",
       "    .dataframe tbody tr th:only-of-type {\n",
       "        vertical-align: middle;\n",
       "    }\n",
       "\n",
       "    .dataframe tbody tr th {\n",
       "        vertical-align: top;\n",
       "    }\n",
       "\n",
       "    .dataframe thead th {\n",
       "        text-align: right;\n",
       "    }\n",
       "</style>\n",
       "<table border=\"1\" class=\"dataframe\">\n",
       "  <thead>\n",
       "    <tr style=\"text-align: right;\">\n",
       "      <th></th>\n",
       "      <th>abv</th>\n",
       "      <th>group</th>\n",
       "      <th>id</th>\n",
       "      <th>label</th>\n",
       "    </tr>\n",
       "  </thead>\n",
       "  <tbody>\n",
       "    <tr>\n",
       "      <th>0</th>\n",
       "      <td>ACTI</td>\n",
       "      <td>Activities &amp; Behaviors</td>\n",
       "      <td>T052</td>\n",
       "      <td>Activity</td>\n",
       "    </tr>\n",
       "    <tr>\n",
       "      <th>1</th>\n",
       "      <td>ACTI</td>\n",
       "      <td>Activities &amp; Behaviors</td>\n",
       "      <td>T053</td>\n",
       "      <td>Behavior</td>\n",
       "    </tr>\n",
       "    <tr>\n",
       "      <th>2</th>\n",
       "      <td>ACTI</td>\n",
       "      <td>Activities &amp; Behaviors</td>\n",
       "      <td>T056</td>\n",
       "      <td>Daily or Recreational Activity</td>\n",
       "    </tr>\n",
       "    <tr>\n",
       "      <th>3</th>\n",
       "      <td>ACTI</td>\n",
       "      <td>Activities &amp; Behaviors</td>\n",
       "      <td>T051</td>\n",
       "      <td>Event</td>\n",
       "    </tr>\n",
       "    <tr>\n",
       "      <th>4</th>\n",
       "      <td>ACTI</td>\n",
       "      <td>Activities &amp; Behaviors</td>\n",
       "      <td>T064</td>\n",
       "      <td>Governmental or Regulatory Activity</td>\n",
       "    </tr>\n",
       "  </tbody>\n",
       "</table>\n",
       "</div>"
      ],
      "text/plain": [
       "    abv                   group    id                                label\n",
       "0  ACTI  Activities & Behaviors  T052                             Activity\n",
       "1  ACTI  Activities & Behaviors  T053                             Behavior\n",
       "2  ACTI  Activities & Behaviors  T056       Daily or Recreational Activity\n",
       "3  ACTI  Activities & Behaviors  T051                                Event\n",
       "4  ACTI  Activities & Behaviors  T064  Governmental or Regulatory Activity"
      ]
     },
     "execution_count": 2,
     "metadata": {},
     "output_type": "execute_result"
    }
   ],
   "source": [
    "groups = pd.read_csv(SEMGROUPS, sep=\"|\", names=['abv', 'group', 'id', 'label'])\n",
    "groups.head()"
   ]
  },
  {
   "cell_type": "code",
   "execution_count": 3,
   "metadata": {},
   "outputs": [
    {
     "name": "stdout",
     "output_type": "stream",
     "text": [
      "['Acquired Abnormality', 'Anatomical Abnormality', 'Cell or Molecular Dysfunction', 'Congenital Abnormality', 'Disease or Syndrome', 'Experimental Model of Disease', 'Finding', 'Injury or Poisoning', 'Mental or Behavioral Dysfunction', 'Neoplastic Process', 'Pathologic Function', 'Sign or Symptom']\n"
     ]
    }
   ],
   "source": [
    "print(sorted(list(groups.query(\"group == 'Disorders'\").label)))"
   ]
  },
  {
   "cell_type": "code",
   "execution_count": 4,
   "metadata": {},
   "outputs": [
    {
     "data": {
      "text/html": [
       "<div>\n",
       "<style scoped>\n",
       "    .dataframe tbody tr th:only-of-type {\n",
       "        vertical-align: middle;\n",
       "    }\n",
       "\n",
       "    .dataframe tbody tr th {\n",
       "        vertical-align: top;\n",
       "    }\n",
       "\n",
       "    .dataframe thead th {\n",
       "        text-align: right;\n",
       "    }\n",
       "</style>\n",
       "<table border=\"1\" class=\"dataframe\">\n",
       "  <thead>\n",
       "    <tr style=\"text-align: right;\">\n",
       "      <th></th>\n",
       "      <th>abv</th>\n",
       "      <th>ID</th>\n",
       "      <th>label</th>\n",
       "    </tr>\n",
       "  </thead>\n",
       "  <tbody>\n",
       "    <tr>\n",
       "      <th>0</th>\n",
       "      <td>aapp</td>\n",
       "      <td>T116</td>\n",
       "      <td>Amino Acid, Peptide, or Protein</td>\n",
       "    </tr>\n",
       "    <tr>\n",
       "      <th>1</th>\n",
       "      <td>acab</td>\n",
       "      <td>T020</td>\n",
       "      <td>Acquired Abnormality</td>\n",
       "    </tr>\n",
       "    <tr>\n",
       "      <th>2</th>\n",
       "      <td>acty</td>\n",
       "      <td>T052</td>\n",
       "      <td>Activity</td>\n",
       "    </tr>\n",
       "    <tr>\n",
       "      <th>3</th>\n",
       "      <td>aggp</td>\n",
       "      <td>T100</td>\n",
       "      <td>Age Group</td>\n",
       "    </tr>\n",
       "    <tr>\n",
       "      <th>4</th>\n",
       "      <td>amas</td>\n",
       "      <td>T087</td>\n",
       "      <td>Amino Acid Sequence</td>\n",
       "    </tr>\n",
       "  </tbody>\n",
       "</table>\n",
       "</div>"
      ],
      "text/plain": [
       "    abv    ID                            label\n",
       "0  aapp  T116  Amino Acid, Peptide, or Protein\n",
       "1  acab  T020             Acquired Abnormality\n",
       "2  acty  T052                         Activity\n",
       "3  aggp  T100                        Age Group\n",
       "4  amas  T087              Amino Acid Sequence"
      ]
     },
     "execution_count": 4,
     "metadata": {},
     "output_type": "execute_result"
    }
   ],
   "source": [
    "names = pd.read_csv(SEMTYPES, sep=\"|\", names=['abv', 'ID', 'label'])\n",
    "names.head()"
   ]
  },
  {
   "cell_type": "code",
   "execution_count": 5,
   "metadata": {},
   "outputs": [],
   "source": [
    "type_label = dict(zip(names.ID, names.label))"
   ]
  },
  {
   "cell_type": "code",
   "execution_count": 6,
   "metadata": {},
   "outputs": [
    {
     "data": {
      "text/html": [
       "<div>\n",
       "<style scoped>\n",
       "    .dataframe tbody tr th:only-of-type {\n",
       "        vertical-align: middle;\n",
       "    }\n",
       "\n",
       "    .dataframe tbody tr th {\n",
       "        vertical-align: top;\n",
       "    }\n",
       "\n",
       "    .dataframe thead th {\n",
       "        text-align: right;\n",
       "    }\n",
       "</style>\n",
       "<table border=\"1\" class=\"dataframe\">\n",
       "  <thead>\n",
       "    <tr style=\"text-align: right;\">\n",
       "      <th></th>\n",
       "      <th>ID</th>\n",
       "      <th>TYPE</th>\n",
       "    </tr>\n",
       "  </thead>\n",
       "  <tbody>\n",
       "    <tr>\n",
       "      <th>0</th>\n",
       "      <td>C0000005</td>\n",
       "      <td>T116</td>\n",
       "    </tr>\n",
       "    <tr>\n",
       "      <th>1</th>\n",
       "      <td>C0000005</td>\n",
       "      <td>T121</td>\n",
       "    </tr>\n",
       "    <tr>\n",
       "      <th>2</th>\n",
       "      <td>C0000005</td>\n",
       "      <td>T130</td>\n",
       "    </tr>\n",
       "    <tr>\n",
       "      <th>3</th>\n",
       "      <td>C0000039</td>\n",
       "      <td>T109</td>\n",
       "    </tr>\n",
       "    <tr>\n",
       "      <th>4</th>\n",
       "      <td>C0000039</td>\n",
       "      <td>T121</td>\n",
       "    </tr>\n",
       "  </tbody>\n",
       "</table>\n",
       "</div>"
      ],
      "text/plain": [
       "         ID  TYPE\n",
       "0  C0000005  T116\n",
       "1  C0000005  T121\n",
       "2  C0000005  T130\n",
       "3  C0000039  T109\n",
       "4  C0000039  T121"
      ]
     },
     "execution_count": 6,
     "metadata": {},
     "output_type": "execute_result"
    }
   ],
   "source": [
    "# See README regarding MRSTY_ARCHIVE\n",
    "df = pd.read_csv(MRSTY_ARCHIVE, sep=\"|\", names=['ID', 'TYPE', 'a', 'b', 'c', 'd'], index_col=False, usecols=['ID', 'TYPE'], dtype=str)\n",
    "df.head()"
   ]
  },
  {
   "cell_type": "code",
   "execution_count": 7,
   "metadata": {},
   "outputs": [],
   "source": [
    "id_type = df.groupby(\"ID\").TYPE.aggregate(set).to_dict()"
   ]
  },
  {
   "cell_type": "code",
   "execution_count": 8,
   "metadata": {},
   "outputs": [
    {
     "data": {
      "text/plain": [
       "{'Amino Acid, Peptide, or Protein',\n",
       " 'Indicator, Reagent, or Diagnostic Aid',\n",
       " 'Pharmacologic Substance'}"
      ]
     },
     "execution_count": 8,
     "metadata": {},
     "output_type": "execute_result"
    }
   ],
   "source": [
    "id_type_label = {k:{type_label.get(x) for x in v} for k,v in id_type.items()}\n",
    "id_type_label['C0000005']"
   ]
  },
  {
   "cell_type": "code",
   "execution_count": 9,
   "metadata": {},
   "outputs": [
    {
     "data": {
      "text/html": [
       "<div>\n",
       "<style scoped>\n",
       "    .dataframe tbody tr th:only-of-type {\n",
       "        vertical-align: middle;\n",
       "    }\n",
       "\n",
       "    .dataframe tbody tr th {\n",
       "        vertical-align: top;\n",
       "    }\n",
       "\n",
       "    .dataframe thead th {\n",
       "        text-align: right;\n",
       "    }\n",
       "</style>\n",
       "<table border=\"1\" class=\"dataframe\">\n",
       "  <thead>\n",
       "    <tr style=\"text-align: right;\">\n",
       "      <th></th>\n",
       "      <th>ID</th>\n",
       "      <th>LABEL</th>\n",
       "    </tr>\n",
       "  </thead>\n",
       "  <tbody>\n",
       "    <tr>\n",
       "      <th>0</th>\n",
       "      <td>C1516083</td>\n",
       "      <td>Attachment Plaque</td>\n",
       "    </tr>\n",
       "    <tr>\n",
       "      <th>1</th>\n",
       "      <td>C0656503</td>\n",
       "      <td>4-nonyl-3,5-diethoxycarbonyl-1,4-dihydro-2,6-dimethylpyridine</td>\n",
       "    </tr>\n",
       "    <tr>\n",
       "      <th>2</th>\n",
       "      <td>C0320957</td>\n",
       "      <td>Nyctotherus cordiformis</td>\n",
       "    </tr>\n",
       "    <tr>\n",
       "      <th>3</th>\n",
       "      <td>C0234143</td>\n",
       "      <td>Neurological muscle weakness</td>\n",
       "    </tr>\n",
       "    <tr>\n",
       "      <th>4</th>\n",
       "      <td>C0242348</td>\n",
       "      <td>Serotherapy</td>\n",
       "    </tr>\n",
       "  </tbody>\n",
       "</table>\n",
       "</div>"
      ],
      "text/plain": [
       "         ID                                                          LABEL\n",
       "0  C1516083                                              Attachment Plaque\n",
       "1  C0656503  4-nonyl-3,5-diethoxycarbonyl-1,4-dihydro-2,6-dimethylpyridine\n",
       "2  C0320957                                        Nyctotherus cordiformis\n",
       "3  C0234143                                   Neurological muscle weakness\n",
       "4  C0242348                                                    Serotherapy"
      ]
     },
     "execution_count": 9,
     "metadata": {},
     "output_type": "execute_result"
    }
   ],
   "source": [
    "nodes = pd.read_csv(NODES1_CSV, index_col=0)\n",
    "nodes.head()"
   ]
  },
  {
   "cell_type": "code",
   "execution_count": 10,
   "metadata": {},
   "outputs": [],
   "source": [
    "nodes['umls_type'] = nodes.ID.map(lambda x: id_type.get(x))\n",
    "nodes['umls_type_label'] = nodes.umls_type.map(lambda x:{type_label.get(y) for y in x} if x else None)"
   ]
  },
  {
   "cell_type": "code",
   "execution_count": 11,
   "metadata": {},
   "outputs": [
    {
     "data": {
      "text/html": [
       "<div>\n",
       "<style scoped>\n",
       "    .dataframe tbody tr th:only-of-type {\n",
       "        vertical-align: middle;\n",
       "    }\n",
       "\n",
       "    .dataframe tbody tr th {\n",
       "        vertical-align: top;\n",
       "    }\n",
       "\n",
       "    .dataframe thead th {\n",
       "        text-align: right;\n",
       "    }\n",
       "</style>\n",
       "<table border=\"1\" class=\"dataframe\">\n",
       "  <thead>\n",
       "    <tr style=\"text-align: right;\">\n",
       "      <th></th>\n",
       "      <th>ID</th>\n",
       "      <th>LABEL</th>\n",
       "      <th>umls_type</th>\n",
       "      <th>umls_type_label</th>\n",
       "    </tr>\n",
       "  </thead>\n",
       "  <tbody>\n",
       "    <tr>\n",
       "      <th>0</th>\n",
       "      <td>C1516083</td>\n",
       "      <td>Attachment Plaque</td>\n",
       "      <td>{T026}</td>\n",
       "      <td>{Cell Component}</td>\n",
       "    </tr>\n",
       "    <tr>\n",
       "      <th>1</th>\n",
       "      <td>C0656503</td>\n",
       "      <td>4-nonyl-3,5-diethoxycarbonyl-1,4-dihydro-2,6-dimethylpyridine</td>\n",
       "      <td>{T121, T109}</td>\n",
       "      <td>{Organic Chemical, Pharmacologic Substance}</td>\n",
       "    </tr>\n",
       "    <tr>\n",
       "      <th>2</th>\n",
       "      <td>C0320957</td>\n",
       "      <td>Nyctotherus cordiformis</td>\n",
       "      <td>{T204}</td>\n",
       "      <td>{Eukaryote}</td>\n",
       "    </tr>\n",
       "    <tr>\n",
       "      <th>3</th>\n",
       "      <td>C0234143</td>\n",
       "      <td>Neurological muscle weakness</td>\n",
       "      <td>{T047}</td>\n",
       "      <td>{Disease or Syndrome}</td>\n",
       "    </tr>\n",
       "    <tr>\n",
       "      <th>4</th>\n",
       "      <td>C0242348</td>\n",
       "      <td>Serotherapy</td>\n",
       "      <td>{T061}</td>\n",
       "      <td>{Therapeutic or Preventive Procedure}</td>\n",
       "    </tr>\n",
       "  </tbody>\n",
       "</table>\n",
       "</div>"
      ],
      "text/plain": [
       "         ID                                                          LABEL  \\\n",
       "0  C1516083                                              Attachment Plaque   \n",
       "1  C0656503  4-nonyl-3,5-diethoxycarbonyl-1,4-dihydro-2,6-dimethylpyridine   \n",
       "2  C0320957                                        Nyctotherus cordiformis   \n",
       "3  C0234143                                   Neurological muscle weakness   \n",
       "4  C0242348                                                    Serotherapy   \n",
       "\n",
       "      umls_type                              umls_type_label  \n",
       "0        {T026}                             {Cell Component}  \n",
       "1  {T121, T109}  {Organic Chemical, Pharmacologic Substance}  \n",
       "2        {T204}                                  {Eukaryote}  \n",
       "3        {T047}                        {Disease or Syndrome}  \n",
       "4        {T061}        {Therapeutic or Preventive Procedure}  "
      ]
     },
     "execution_count": 11,
     "metadata": {},
     "output_type": "execute_result"
    }
   ],
   "source": [
    "nodes.head()"
   ]
  },
  {
   "cell_type": "code",
   "execution_count": 12,
   "metadata": {},
   "outputs": [
    {
     "name": "stdout",
     "output_type": "stream",
     "text": [
      "264338\n",
      "264338\n"
     ]
    }
   ],
   "source": [
    "# toss those with no umls types\n",
    "print(len(nodes))\n",
    "nodes.dropna(subset=['umls_type'], inplace=True)\n",
    "print(len(nodes))"
   ]
  },
  {
   "cell_type": "code",
   "execution_count": 13,
   "metadata": {},
   "outputs": [
    {
     "data": {
      "text/plain": [
       "{'Gene': {'Gene or Genome'},\n",
       " 'Protein': {'Amino Acid, Peptide, or Protein', 'Enzyme'},\n",
       " 'CellularComponent': {'cell component'},\n",
       " 'BiologicalProcessOrActivity': {'Biologic Function',\n",
       "  'Cell Function',\n",
       "  'Genetic Function',\n",
       "  'Mental Process',\n",
       "  'Molecular Function',\n",
       "  'Organ or Tissue Function',\n",
       "  'Organism Function'},\n",
       " 'Cell': {'cell'},\n",
       " 'ActivityAndBehavior': {'Activity',\n",
       "  'Behavior',\n",
       "  'Daily or Recreational Activity',\n",
       "  'Individual Behavior',\n",
       "  'Occupational Activity',\n",
       "  'Social Behavior'},\n",
       " 'GenomicEntity': {'Amino Acid Sequence', 'Nucleotide Sequence'},\n",
       " 'AnatomicalEntity': {'Body Location or Region',\n",
       "  'Body Space or Junction',\n",
       "  'Body Substance'},\n",
       " 'GrossAnatomicalStructure': {'Anatomical Structure',\n",
       "  'Body Part, Organ, or Organ Component',\n",
       "  'Body System',\n",
       "  'Embryonic Structure',\n",
       "  'Fully Formed Anatomical Structure',\n",
       "  'Tissue'},\n",
       " 'ChemicalSubstance': {'Antibiotic',\n",
       "  'Biologically Active Substance',\n",
       "  'Biomedical or Dental Material',\n",
       "  'Carbohydrate',\n",
       "  'Chemical',\n",
       "  'Chemical Viewed Functionally',\n",
       "  'Chemical Viewed Structurally',\n",
       "  'Clinical Drug',\n",
       "  'Eicosanoid',\n",
       "  'Element, Ion, or Isotope',\n",
       "  'Hazardous or Poisonous Substance',\n",
       "  'Hormone',\n",
       "  'Immunologic Factor',\n",
       "  'Indicator, Reagent, or Diagnostic Aid',\n",
       "  'Inorganic Chemical',\n",
       "  'Lipid',\n",
       "  'Neuroreactive Substance or Biogenic Amine',\n",
       "  'Organic Chemical',\n",
       "  'Organophosphorus Compound',\n",
       "  'Pharmacologic Substance',\n",
       "  'Receptor',\n",
       "  'Steroid',\n",
       "  'Vitamin'},\n",
       " 'DiseaseOrPhenotypicFeature': {'Acquired Abnormality',\n",
       "  'Anatomical Abnormality',\n",
       "  'Cell or Molecular Dysfunction',\n",
       "  'Congenital Abnormality',\n",
       "  'Disease or Syndrome',\n",
       "  'Experimental Model of Disease',\n",
       "  'Finding',\n",
       "  'Injury or Poisoning',\n",
       "  'Mental or Behavioral Dysfunction',\n",
       "  'Neoplastic Process',\n",
       "  'Pathologic Function',\n",
       "  'Sign or Symptom'},\n",
       " 'IndividualOrganism': {'Living Beings'},\n",
       " 'PhenotypicFeature': {'Laboratory or Test Result'},\n",
       " 'NamedThing': {'Objects'}}"
      ]
     },
     "execution_count": 13,
     "metadata": {},
     "output_type": "execute_result"
    }
   ],
   "source": [
    "import json\n",
    "\n",
    "blm_to_umls = json.load(open(\"blm_to_umls_nodes.json\"))\n",
    "blm_to_umls = {k:set(v) for k,v in blm_to_umls.items()}\n",
    "blm_to_umls"
   ]
  },
  {
   "cell_type": "code",
   "execution_count": 14,
   "metadata": {},
   "outputs": [],
   "source": [
    "umls_to_blm_check = defaultdict(set)\n",
    "umls_to_blm = dict()\n",
    "for k,vv in blm_to_umls.items():\n",
    "    for v in vv:\n",
    "        umls_to_blm_check[v.lower()].add(k)\n",
    "        umls_to_blm[v.lower()] = k\n",
    "assert set(len(x) for x in umls_to_blm_check.values()) == {1}\n",
    "# umls_to_blm"
   ]
  },
  {
   "cell_type": "code",
   "execution_count": 15,
   "metadata": {},
   "outputs": [
    {
     "data": {
      "text/html": [
       "<div>\n",
       "<style scoped>\n",
       "    .dataframe tbody tr th:only-of-type {\n",
       "        vertical-align: middle;\n",
       "    }\n",
       "\n",
       "    .dataframe tbody tr th {\n",
       "        vertical-align: top;\n",
       "    }\n",
       "\n",
       "    .dataframe thead th {\n",
       "        text-align: right;\n",
       "    }\n",
       "</style>\n",
       "<table border=\"1\" class=\"dataframe\">\n",
       "  <thead>\n",
       "    <tr style=\"text-align: right;\">\n",
       "      <th></th>\n",
       "      <th>ID</th>\n",
       "      <th>LABEL</th>\n",
       "      <th>umls_type</th>\n",
       "      <th>umls_type_label</th>\n",
       "      <th>blm_category</th>\n",
       "    </tr>\n",
       "  </thead>\n",
       "  <tbody>\n",
       "    <tr>\n",
       "      <th>0</th>\n",
       "      <td>C1516083</td>\n",
       "      <td>Attachment Plaque</td>\n",
       "      <td>{T026}</td>\n",
       "      <td>{Cell Component}</td>\n",
       "      <td>{CellularComponent}</td>\n",
       "    </tr>\n",
       "    <tr>\n",
       "      <th>1</th>\n",
       "      <td>C0656503</td>\n",
       "      <td>4-nonyl-3,5-diethoxycarbonyl-1,4-dihydro-2,6-dimethylpyridine</td>\n",
       "      <td>{T121, T109}</td>\n",
       "      <td>{Organic Chemical, Pharmacologic Substance}</td>\n",
       "      <td>{ChemicalSubstance}</td>\n",
       "    </tr>\n",
       "    <tr>\n",
       "      <th>3</th>\n",
       "      <td>C0234143</td>\n",
       "      <td>Neurological muscle weakness</td>\n",
       "      <td>{T047}</td>\n",
       "      <td>{Disease or Syndrome}</td>\n",
       "      <td>{DiseaseOrPhenotypicFeature}</td>\n",
       "    </tr>\n",
       "    <tr>\n",
       "      <th>5</th>\n",
       "      <td>C0861091</td>\n",
       "      <td>Methanol increased</td>\n",
       "      <td>{T033}</td>\n",
       "      <td>{Finding}</td>\n",
       "      <td>{DiseaseOrPhenotypicFeature}</td>\n",
       "    </tr>\n",
       "    <tr>\n",
       "      <th>6</th>\n",
       "      <td>C0074127</td>\n",
       "      <td>scarlet red</td>\n",
       "      <td>{T121, T109, T130}</td>\n",
       "      <td>{Organic Chemical, Pharmacologic Substance, Indicator, Reagent, or Diagnosti...</td>\n",
       "      <td>{ChemicalSubstance}</td>\n",
       "    </tr>\n",
       "  </tbody>\n",
       "</table>\n",
       "</div>"
      ],
      "text/plain": [
       "         ID                                                          LABEL  \\\n",
       "0  C1516083                                              Attachment Plaque   \n",
       "1  C0656503  4-nonyl-3,5-diethoxycarbonyl-1,4-dihydro-2,6-dimethylpyridine   \n",
       "3  C0234143                                   Neurological muscle weakness   \n",
       "5  C0861091                                             Methanol increased   \n",
       "6  C0074127                                                    scarlet red   \n",
       "\n",
       "            umls_type  \\\n",
       "0              {T026}   \n",
       "1        {T121, T109}   \n",
       "3              {T047}   \n",
       "5              {T033}   \n",
       "6  {T121, T109, T130}   \n",
       "\n",
       "                                                                   umls_type_label  \\\n",
       "0                                                                 {Cell Component}   \n",
       "1                                      {Organic Chemical, Pharmacologic Substance}   \n",
       "3                                                            {Disease or Syndrome}   \n",
       "5                                                                        {Finding}   \n",
       "6  {Organic Chemical, Pharmacologic Substance, Indicator, Reagent, or Diagnosti...   \n",
       "\n",
       "                   blm_category  \n",
       "0           {CellularComponent}  \n",
       "1           {ChemicalSubstance}  \n",
       "3  {DiseaseOrPhenotypicFeature}  \n",
       "5  {DiseaseOrPhenotypicFeature}  \n",
       "6           {ChemicalSubstance}  "
      ]
     },
     "execution_count": 15,
     "metadata": {},
     "output_type": "execute_result"
    }
   ],
   "source": [
    "nodes['blm_category'] = nodes.umls_type_label.map(lambda x: {umls_to_blm.get(xx.lower()) for xx in x})\n",
    "nodes.blm_category = nodes.blm_category.map(lambda v: {x for x in v if x})\n",
    "nodes.blm_category = nodes.blm_category.map(lambda v: v if v else nan)\n",
    "# drop nodes unmapped to at least one concept BLM category\n",
    "nodes.dropna(subset=['blm_category'], inplace=True)\n",
    "nodes.head()"
   ]
  },
  {
   "cell_type": "code",
   "execution_count": 16,
   "metadata": {},
   "outputs": [
    {
     "data": {
      "text/html": [
       "<div>\n",
       "<style scoped>\n",
       "    .dataframe tbody tr th:only-of-type {\n",
       "        vertical-align: middle;\n",
       "    }\n",
       "\n",
       "    .dataframe tbody tr th {\n",
       "        vertical-align: top;\n",
       "    }\n",
       "\n",
       "    .dataframe thead th {\n",
       "        text-align: right;\n",
       "    }\n",
       "</style>\n",
       "<table border=\"1\" class=\"dataframe\">\n",
       "  <thead>\n",
       "    <tr style=\"text-align: right;\">\n",
       "      <th></th>\n",
       "      <th>ID</th>\n",
       "      <th>LABEL</th>\n",
       "      <th>umls_type</th>\n",
       "      <th>umls_type_label</th>\n",
       "      <th>blm_category</th>\n",
       "    </tr>\n",
       "  </thead>\n",
       "  <tbody>\n",
       "    <tr>\n",
       "      <th>5594</th>\n",
       "      <td>C0006875</td>\n",
       "      <td>Cannibalism</td>\n",
       "      <td>{T054}</td>\n",
       "      <td>{Social Behavior}</td>\n",
       "      <td>{ActivityAndBehavior}</td>\n",
       "    </tr>\n",
       "    <tr>\n",
       "      <th>185771</th>\n",
       "      <td>C0079904</td>\n",
       "      <td>NF-kappa B</td>\n",
       "      <td>{T116, T129}</td>\n",
       "      <td>{Immunologic Factor, Amino Acid, Peptide, or Protein}</td>\n",
       "      <td>{Protein, ChemicalSubstance}</td>\n",
       "    </tr>\n",
       "    <tr>\n",
       "      <th>257773</th>\n",
       "      <td>C0879593</td>\n",
       "      <td>therapeutic autologous dendritic cells</td>\n",
       "      <td>{T121, T025}</td>\n",
       "      <td>{Cell, Pharmacologic Substance}</td>\n",
       "      <td>{Cell, ChemicalSubstance}</td>\n",
       "    </tr>\n",
       "  </tbody>\n",
       "</table>\n",
       "</div>"
      ],
      "text/plain": [
       "              ID                                   LABEL     umls_type  \\\n",
       "5594    C0006875                             Cannibalism        {T054}   \n",
       "185771  C0079904                              NF-kappa B  {T116, T129}   \n",
       "257773  C0879593  therapeutic autologous dendritic cells  {T121, T025}   \n",
       "\n",
       "                                              umls_type_label  \\\n",
       "5594                                        {Social Behavior}   \n",
       "185771  {Immunologic Factor, Amino Acid, Peptide, or Protein}   \n",
       "257773                        {Cell, Pharmacologic Substance}   \n",
       "\n",
       "                        blm_category  \n",
       "5594           {ActivityAndBehavior}  \n",
       "185771  {Protein, ChemicalSubstance}  \n",
       "257773     {Cell, ChemicalSubstance}  "
      ]
     },
     "execution_count": 16,
     "metadata": {},
     "output_type": "execute_result"
    }
   ],
   "source": [
    "nodes[nodes.ID.isin({\"C0079904\", \"C0879593\", \"C0006875\"})]"
   ]
  },
  {
   "cell_type": "code",
   "execution_count": 17,
   "metadata": {},
   "outputs": [
    {
     "data": {
      "text/plain": [
       "(Protein, ChemicalSubstance)    16307\n",
       "(Cell, ChemicalSubstance)           3\n",
       "Name: blm_category, dtype: int64"
      ]
     },
     "execution_count": 17,
     "metadata": {},
     "output_type": "execute_result"
    }
   ],
   "source": [
    "# the only nodes with two types:\n",
    "nodes[nodes.blm_category.map(len)>1].blm_category.map(frozenset).value_counts()"
   ]
  },
  {
   "cell_type": "code",
   "execution_count": 18,
   "metadata": {},
   "outputs": [
    {
     "data": {
      "text/plain": [
       "[(frozenset({'Amino Acid, Peptide, or Protein',\n",
       "             'Biologically Active Substance'}),\n",
       "  7436),\n",
       " (frozenset({'Amino Acid, Peptide, or Protein', 'Pharmacologic Substance'}),\n",
       "  2580),\n",
       " (frozenset({'Amino Acid, Peptide, or Protein', 'Immunologic Factor'}), 2178),\n",
       " (frozenset({'Amino Acid, Peptide, or Protein', 'Receptor'}), 1387),\n",
       " (frozenset({'Amino Acid, Peptide, or Protein',\n",
       "             'Immunologic Factor',\n",
       "             'Pharmacologic Substance'}),\n",
       "  616),\n",
       " (frozenset({'Amino Acid, Peptide, or Protein',\n",
       "             'Hormone',\n",
       "             'Pharmacologic Substance'}),\n",
       "  262),\n",
       " (frozenset({'Amino Acid, Peptide, or Protein',\n",
       "             'Enzyme',\n",
       "             'Pharmacologic Substance'}),\n",
       "  255),\n",
       " (frozenset({'Amino Acid, Peptide, or Protein',\n",
       "             'Biologically Active Substance',\n",
       "             'Hazardous or Poisonous Substance'}),\n",
       "  252),\n",
       " (frozenset({'Amino Acid, Peptide, or Protein', 'Antibiotic'}), 215),\n",
       " (frozenset({'Amino Acid, Peptide, or Protein', 'Hormone'}), 202)]"
      ]
     },
     "execution_count": 18,
     "metadata": {},
     "output_type": "execute_result"
    }
   ],
   "source": [
    "# within the nodes with more than 1 blm types:\n",
    "# what are the most common umls types\n",
    "nodes2 = nodes[nodes.blm_category.map(len)>1]\n",
    "Counter(nodes2[nodes2.umls_type_label.map(len)>1].umls_type_label.map(frozenset)).most_common(10)"
   ]
  },
  {
   "cell_type": "code",
   "execution_count": 19,
   "metadata": {},
   "outputs": [],
   "source": [
    "nodes.loc[nodes.blm_category == {'Protein', 'ChemicalSubstance'}, \"blm_category\"] = {\"Protein\"}\n",
    "nodes.loc[nodes.blm_category == {'Cell', 'ChemicalSubstance'}, \"blm_category\"] = {\"Cell\"}\n",
    "nodes.loc[nodes.blm_category == {'GenomicEntity', 'ChemicalSubstance'}, \"blm_category\"] = {\"GenomicEntity\"}\n",
    "nodes.blm_category = nodes.blm_category.map(lambda x:list(x)[0])"
   ]
  },
  {
   "cell_type": "code",
   "execution_count": 20,
   "metadata": {},
   "outputs": [
    {
     "data": {
      "text/html": [
       "<div>\n",
       "<style scoped>\n",
       "    .dataframe tbody tr th:only-of-type {\n",
       "        vertical-align: middle;\n",
       "    }\n",
       "\n",
       "    .dataframe tbody tr th {\n",
       "        vertical-align: top;\n",
       "    }\n",
       "\n",
       "    .dataframe thead th {\n",
       "        text-align: right;\n",
       "    }\n",
       "</style>\n",
       "<table border=\"1\" class=\"dataframe\">\n",
       "  <thead>\n",
       "    <tr style=\"text-align: right;\">\n",
       "      <th></th>\n",
       "      <th>ID</th>\n",
       "      <th>LABEL</th>\n",
       "      <th>umls_type</th>\n",
       "      <th>umls_type_label</th>\n",
       "      <th>blm_category</th>\n",
       "    </tr>\n",
       "  </thead>\n",
       "  <tbody>\n",
       "    <tr>\n",
       "      <th>5594</th>\n",
       "      <td>C0006875</td>\n",
       "      <td>Cannibalism</td>\n",
       "      <td>{T054}</td>\n",
       "      <td>{Social Behavior}</td>\n",
       "      <td>ActivityAndBehavior</td>\n",
       "    </tr>\n",
       "    <tr>\n",
       "      <th>185771</th>\n",
       "      <td>C0079904</td>\n",
       "      <td>NF-kappa B</td>\n",
       "      <td>{T116, T129}</td>\n",
       "      <td>{Immunologic Factor, Amino Acid, Peptide, or Protein}</td>\n",
       "      <td>Protein</td>\n",
       "    </tr>\n",
       "    <tr>\n",
       "      <th>257773</th>\n",
       "      <td>C0879593</td>\n",
       "      <td>therapeutic autologous dendritic cells</td>\n",
       "      <td>{T121, T025}</td>\n",
       "      <td>{Cell, Pharmacologic Substance}</td>\n",
       "      <td>Cell</td>\n",
       "    </tr>\n",
       "  </tbody>\n",
       "</table>\n",
       "</div>"
      ],
      "text/plain": [
       "              ID                                   LABEL     umls_type  \\\n",
       "5594    C0006875                             Cannibalism        {T054}   \n",
       "185771  C0079904                              NF-kappa B  {T116, T129}   \n",
       "257773  C0879593  therapeutic autologous dendritic cells  {T121, T025}   \n",
       "\n",
       "                                              umls_type_label  \\\n",
       "5594                                        {Social Behavior}   \n",
       "185771  {Immunologic Factor, Amino Acid, Peptide, or Protein}   \n",
       "257773                        {Cell, Pharmacologic Substance}   \n",
       "\n",
       "               blm_category  \n",
       "5594    ActivityAndBehavior  \n",
       "185771              Protein  \n",
       "257773                 Cell  "
      ]
     },
     "execution_count": 20,
     "metadata": {},
     "output_type": "execute_result"
    }
   ],
   "source": [
    "nodes[nodes.ID.isin({\"C0079904\", \"C0879593\", \"C0006875\"})]"
   ]
  },
  {
   "cell_type": "code",
   "execution_count": 21,
   "metadata": {},
   "outputs": [
    {
     "data": {
      "text/plain": [
       "(Disease or Syndrome)                                  16206\n",
       "(Finding)                                               8784\n",
       "(Neoplastic Process)                                    5150\n",
       "(Pathologic Function)                                   2536\n",
       "(Injury or Poisoning)                                   2049\n",
       "(Sign or Symptom)                                       1871\n",
       "(Congenital Abnormality)                                1709\n",
       "(Mental or Behavioral Dysfunction)                      1372\n",
       "(Acquired Abnormality)                                   591\n",
       "(Anatomical Abnormality)                                 590\n",
       "(Cell or Molecular Dysfunction)                          433\n",
       "(Congenital Abnormality, Disease or Syndrome)             92\n",
       "(Experimental Model of Disease)                           44\n",
       "(Experimental Model of Disease, Neoplastic Process)       26\n",
       "(Anatomical Abnormality, Disease or Syndrome)              4\n",
       "Name: umls_type_label, dtype: int64"
      ]
     },
     "execution_count": 21,
     "metadata": {},
     "output_type": "execute_result"
    }
   ],
   "source": [
    "nodes[nodes.blm_category==\"DiseaseOrPhenotypicFeature\"].umls_type_label.map(frozenset).value_counts()"
   ]
  },
  {
   "cell_type": "code",
   "execution_count": 22,
   "metadata": {},
   "outputs": [
    {
     "data": {
      "text/plain": [
       "ChemicalSubstance              63724\n",
       "DiseaseOrPhenotypicFeature     41457\n",
       "Protein                        30072\n",
       "Gene                           24402\n",
       "GrossAnatomicalStructure        9438\n",
       "BiologicalProcessOrActivity     8564\n",
       "AnatomicalEntity                2851\n",
       "CellularComponent               1768\n",
       "Cell                            1313\n",
       "ActivityAndBehavior             1160\n",
       "PhenotypicFeature                567\n",
       "GenomicEntity                    177\n",
       "Name: blm_category, dtype: int64"
      ]
     },
     "execution_count": 22,
     "metadata": {},
     "output_type": "execute_result"
    }
   ],
   "source": [
    "nodes.blm_category.value_counts()"
   ]
  },
  {
   "cell_type": "markdown",
   "metadata": {},
   "source": [
    "## Here we continue our processing by merging UMLS and BLM label array sets into piped strings"
   ]
  },
  {
   "cell_type": "code",
   "execution_count": 23,
   "metadata": {},
   "outputs": [],
   "source": [
    "nodes.umls_type_label = nodes.umls_type_label.apply(\"|\".join)\n",
    "nodes.umls_type = nodes.umls_type.apply(\"|\".join)"
   ]
  },
  {
   "cell_type": "code",
   "execution_count": 24,
   "metadata": {},
   "outputs": [
    {
     "data": {
      "text/html": [
       "<div>\n",
       "<style scoped>\n",
       "    .dataframe tbody tr th:only-of-type {\n",
       "        vertical-align: middle;\n",
       "    }\n",
       "\n",
       "    .dataframe tbody tr th {\n",
       "        vertical-align: top;\n",
       "    }\n",
       "\n",
       "    .dataframe thead th {\n",
       "        text-align: right;\n",
       "    }\n",
       "</style>\n",
       "<table border=\"1\" class=\"dataframe\">\n",
       "  <thead>\n",
       "    <tr style=\"text-align: right;\">\n",
       "      <th></th>\n",
       "      <th>ID</th>\n",
       "      <th>LABEL</th>\n",
       "      <th>umls_type</th>\n",
       "      <th>umls_type_label</th>\n",
       "      <th>blm_category</th>\n",
       "    </tr>\n",
       "  </thead>\n",
       "  <tbody>\n",
       "    <tr>\n",
       "      <th>5594</th>\n",
       "      <td>C0006875</td>\n",
       "      <td>Cannibalism</td>\n",
       "      <td>T054</td>\n",
       "      <td>Social Behavior</td>\n",
       "      <td>ActivityAndBehavior</td>\n",
       "    </tr>\n",
       "    <tr>\n",
       "      <th>185771</th>\n",
       "      <td>C0079904</td>\n",
       "      <td>NF-kappa B</td>\n",
       "      <td>T116|T129</td>\n",
       "      <td>Immunologic Factor|Amino Acid, Peptide, or Protein</td>\n",
       "      <td>Protein</td>\n",
       "    </tr>\n",
       "    <tr>\n",
       "      <th>257773</th>\n",
       "      <td>C0879593</td>\n",
       "      <td>therapeutic autologous dendritic cells</td>\n",
       "      <td>T121|T025</td>\n",
       "      <td>Cell|Pharmacologic Substance</td>\n",
       "      <td>Cell</td>\n",
       "    </tr>\n",
       "  </tbody>\n",
       "</table>\n",
       "</div>"
      ],
      "text/plain": [
       "              ID                                   LABEL  umls_type  \\\n",
       "5594    C0006875                             Cannibalism       T054   \n",
       "185771  C0079904                              NF-kappa B  T116|T129   \n",
       "257773  C0879593  therapeutic autologous dendritic cells  T121|T025   \n",
       "\n",
       "                                           umls_type_label  \\\n",
       "5594                                       Social Behavior   \n",
       "185771  Immunologic Factor|Amino Acid, Peptide, or Protein   \n",
       "257773                        Cell|Pharmacologic Substance   \n",
       "\n",
       "               blm_category  \n",
       "5594    ActivityAndBehavior  \n",
       "185771              Protein  \n",
       "257773                 Cell  "
      ]
     },
     "execution_count": 24,
     "metadata": {},
     "output_type": "execute_result"
    }
   ],
   "source": [
    "nodes[nodes.ID.isin({\"C0079904\", \"C0879593\", \"C0006875\", \"C0815111\"})]"
   ]
  },
  {
   "cell_type": "code",
   "execution_count": 25,
   "metadata": {},
   "outputs": [],
   "source": [
    "nodes.to_csv(NODES_BLM_CSV)"
   ]
  },
  {
   "cell_type": "code",
   "execution_count": null,
   "metadata": {},
   "outputs": [],
   "source": []
  }
 ],
 "metadata": {
  "kernelspec": {
   "display_name": "Python 3",
   "language": "python",
   "name": "python3"
  },
  "language_info": {
   "codemirror_mode": {
    "name": "ipython",
    "version": 3
   },
   "file_extension": ".py",
   "mimetype": "text/x-python",
   "name": "python",
   "nbconvert_exporter": "python",
   "pygments_lexer": "ipython3",
   "version": "3.8.1"
  }
 },
 "nbformat": 4,
 "nbformat_minor": 4
}
