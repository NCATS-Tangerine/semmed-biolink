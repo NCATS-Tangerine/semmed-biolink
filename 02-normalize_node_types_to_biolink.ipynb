{
 "cells": [
  {
   "cell_type": "raw",
   "metadata": {},
   "source": [
    "Remove/Ignore the SEmmed TYPE columns\n",
    "get the UMLS semantic type for each umls ID (node)\n",
    "(get types from the UMLS mapping file: MRSTY.RRF)\n",
    "Map umls semantic types to biolink node types"
   ]
  },
  {
   "cell_type": "code",
   "execution_count": 1,
   "metadata": {},
   "outputs": [],
   "source": [
    "import os\n",
    "import pickle\n",
    "%matplotlib inline\n",
    "import pandas as pd\n",
    "import seaborn as sns\n",
    "import shelve\n",
    "from itertools import chain\n",
    "import re\n",
    "from collections import defaultdict, Counter\n",
    "from tqdm import tqdm\n",
    "import requests"
   ]
  },
  {
   "cell_type": "code",
   "execution_count": 2,
   "metadata": {},
   "outputs": [],
   "source": [
    "pd.options.display.max_colwidth = 80"
   ]
  },
  {
   "cell_type": "code",
   "execution_count": 3,
   "metadata": {},
   "outputs": [
    {
     "data": {
      "text/html": [
       "<div>\n",
       "<style scoped>\n",
       "    .dataframe tbody tr th:only-of-type {\n",
       "        vertical-align: middle;\n",
       "    }\n",
       "\n",
       "    .dataframe tbody tr th {\n",
       "        vertical-align: top;\n",
       "    }\n",
       "\n",
       "    .dataframe thead th {\n",
       "        text-align: right;\n",
       "    }\n",
       "</style>\n",
       "<table border=\"1\" class=\"dataframe\">\n",
       "  <thead>\n",
       "    <tr style=\"text-align: right;\">\n",
       "      <th></th>\n",
       "      <th>abv</th>\n",
       "      <th>group</th>\n",
       "      <th>id</th>\n",
       "      <th>label</th>\n",
       "    </tr>\n",
       "  </thead>\n",
       "  <tbody>\n",
       "    <tr>\n",
       "      <th>0</th>\n",
       "      <td>ACTI</td>\n",
       "      <td>Activities &amp; Behaviors</td>\n",
       "      <td>T052</td>\n",
       "      <td>Activity</td>\n",
       "    </tr>\n",
       "    <tr>\n",
       "      <th>1</th>\n",
       "      <td>ACTI</td>\n",
       "      <td>Activities &amp; Behaviors</td>\n",
       "      <td>T053</td>\n",
       "      <td>Behavior</td>\n",
       "    </tr>\n",
       "    <tr>\n",
       "      <th>2</th>\n",
       "      <td>ACTI</td>\n",
       "      <td>Activities &amp; Behaviors</td>\n",
       "      <td>T056</td>\n",
       "      <td>Daily or Recreational Activity</td>\n",
       "    </tr>\n",
       "    <tr>\n",
       "      <th>3</th>\n",
       "      <td>ACTI</td>\n",
       "      <td>Activities &amp; Behaviors</td>\n",
       "      <td>T051</td>\n",
       "      <td>Event</td>\n",
       "    </tr>\n",
       "    <tr>\n",
       "      <th>4</th>\n",
       "      <td>ACTI</td>\n",
       "      <td>Activities &amp; Behaviors</td>\n",
       "      <td>T064</td>\n",
       "      <td>Governmental or Regulatory Activity</td>\n",
       "    </tr>\n",
       "  </tbody>\n",
       "</table>\n",
       "</div>"
      ],
      "text/plain": [
       "    abv                   group    id                                label\n",
       "0  ACTI  Activities & Behaviors  T052                             Activity\n",
       "1  ACTI  Activities & Behaviors  T053                             Behavior\n",
       "2  ACTI  Activities & Behaviors  T056       Daily or Recreational Activity\n",
       "3  ACTI  Activities & Behaviors  T051                                Event\n",
       "4  ACTI  Activities & Behaviors  T064  Governmental or Regulatory Activity"
      ]
     },
     "execution_count": 3,
     "metadata": {},
     "output_type": "execute_result"
    }
   ],
   "source": [
    "groups = pd.read_csv(\"https://metamap.nlm.nih.gov/Docs/SemGroups_2013.txt\", sep=\"|\",\n",
    "                    names=['abv', 'group', 'id', 'label'])\n",
    "groups.head()"
   ]
  },
  {
   "cell_type": "code",
   "execution_count": 4,
   "metadata": {},
   "outputs": [
    {
     "name": "stdout",
     "output_type": "stream",
     "text": [
      "['Acquired Abnormality', 'Anatomical Abnormality', 'Cell or Molecular Dysfunction', 'Congenital Abnormality', 'Disease or Syndrome', 'Experimental Model of Disease', 'Finding', 'Injury or Poisoning', 'Mental or Behavioral Dysfunction', 'Neoplastic Process', 'Pathologic Function', 'Sign or Symptom']\n"
     ]
    }
   ],
   "source": [
    "print(sorted(list(groups.query(\"group == 'Disorders'\").label)))"
   ]
  },
  {
   "cell_type": "code",
   "execution_count": 5,
   "metadata": {},
   "outputs": [
    {
     "data": {
      "text/html": [
       "<div>\n",
       "<style scoped>\n",
       "    .dataframe tbody tr th:only-of-type {\n",
       "        vertical-align: middle;\n",
       "    }\n",
       "\n",
       "    .dataframe tbody tr th {\n",
       "        vertical-align: top;\n",
       "    }\n",
       "\n",
       "    .dataframe thead th {\n",
       "        text-align: right;\n",
       "    }\n",
       "</style>\n",
       "<table border=\"1\" class=\"dataframe\">\n",
       "  <thead>\n",
       "    <tr style=\"text-align: right;\">\n",
       "      <th></th>\n",
       "      <th>abv</th>\n",
       "      <th>ID</th>\n",
       "      <th>label</th>\n",
       "    </tr>\n",
       "  </thead>\n",
       "  <tbody>\n",
       "    <tr>\n",
       "      <th>0</th>\n",
       "      <td>aapp</td>\n",
       "      <td>T116</td>\n",
       "      <td>Amino Acid, Peptide, or Protein</td>\n",
       "    </tr>\n",
       "    <tr>\n",
       "      <th>1</th>\n",
       "      <td>acab</td>\n",
       "      <td>T020</td>\n",
       "      <td>Acquired Abnormality</td>\n",
       "    </tr>\n",
       "    <tr>\n",
       "      <th>2</th>\n",
       "      <td>acty</td>\n",
       "      <td>T052</td>\n",
       "      <td>Activity</td>\n",
       "    </tr>\n",
       "    <tr>\n",
       "      <th>3</th>\n",
       "      <td>aggp</td>\n",
       "      <td>T100</td>\n",
       "      <td>Age Group</td>\n",
       "    </tr>\n",
       "    <tr>\n",
       "      <th>4</th>\n",
       "      <td>amas</td>\n",
       "      <td>T087</td>\n",
       "      <td>Amino Acid Sequence</td>\n",
       "    </tr>\n",
       "  </tbody>\n",
       "</table>\n",
       "</div>"
      ],
      "text/plain": [
       "    abv    ID                            label\n",
       "0  aapp  T116  Amino Acid, Peptide, or Protein\n",
       "1  acab  T020             Acquired Abnormality\n",
       "2  acty  T052                         Activity\n",
       "3  aggp  T100                        Age Group\n",
       "4  amas  T087              Amino Acid Sequence"
      ]
     },
     "execution_count": 5,
     "metadata": {},
     "output_type": "execute_result"
    }
   ],
   "source": [
    "names = pd.read_csv(\"https://metamap.nlm.nih.gov/Docs/SemanticTypes_2013AA.txt\", sep=\"|\", \n",
    "                   names=['abv', 'ID', 'label'])\n",
    "names.head()"
   ]
  },
  {
   "cell_type": "code",
   "execution_count": 6,
   "metadata": {},
   "outputs": [],
   "source": [
    "type_label = dict(zip(names.ID, names.label))"
   ]
  },
  {
   "cell_type": "code",
   "execution_count": 7,
   "metadata": {},
   "outputs": [],
   "source": [
    "df = pd.read_csv(\"MRSTY.RRF\", sep=\"|\", names=['ID', 'TYPE', 'who', 'the', 'fuck', 'knows'], index_col=False)"
   ]
  },
  {
   "cell_type": "code",
   "execution_count": 8,
   "metadata": {},
   "outputs": [],
   "source": [
    "id_type = df.groupby(\"ID\").TYPE.apply(set)"
   ]
  },
  {
   "cell_type": "code",
   "execution_count": 9,
   "metadata": {},
   "outputs": [
    {
     "data": {
      "text/plain": [
       "{'T116', 'T121', 'T130'}"
      ]
     },
     "execution_count": 9,
     "metadata": {},
     "output_type": "execute_result"
    }
   ],
   "source": [
    "id_type = id_type.to_dict()\n",
    "id_type['C0000005']"
   ]
  },
  {
   "cell_type": "code",
   "execution_count": 10,
   "metadata": {},
   "outputs": [
    {
     "data": {
      "text/plain": [
       "{'Amino Acid, Peptide, or Protein',\n",
       " 'Indicator, Reagent, or Diagnostic Aid',\n",
       " 'Pharmacologic Substance'}"
      ]
     },
     "execution_count": 10,
     "metadata": {},
     "output_type": "execute_result"
    }
   ],
   "source": [
    "id_type_label = {k:{type_label.get(x) for x in v} for k,v in id_type.items()}\n",
    "id_type_label['C0000005']"
   ]
  },
  {
   "cell_type": "code",
   "execution_count": 11,
   "metadata": {},
   "outputs": [
    {
     "data": {
      "text/html": [
       "<div>\n",
       "<style scoped>\n",
       "    .dataframe tbody tr th:only-of-type {\n",
       "        vertical-align: middle;\n",
       "    }\n",
       "\n",
       "    .dataframe tbody tr th {\n",
       "        vertical-align: top;\n",
       "    }\n",
       "\n",
       "    .dataframe thead th {\n",
       "        text-align: right;\n",
       "    }\n",
       "</style>\n",
       "<table border=\"1\" class=\"dataframe\">\n",
       "  <thead>\n",
       "    <tr style=\"text-align: right;\">\n",
       "      <th></th>\n",
       "      <th>ID</th>\n",
       "      <th>label</th>\n",
       "      <th>umls_type</th>\n",
       "      <th>umls_type_label</th>\n",
       "    </tr>\n",
       "  </thead>\n",
       "  <tbody>\n",
       "    <tr>\n",
       "      <th>0</th>\n",
       "      <td>C0038195</td>\n",
       "      <td>State Medicine</td>\n",
       "      <td>{'T064'}</td>\n",
       "      <td>{'Governmental or Regulatory Activity'}</td>\n",
       "    </tr>\n",
       "    <tr>\n",
       "      <th>1</th>\n",
       "      <td>C1290952</td>\n",
       "      <td>Taking medication</td>\n",
       "      <td>{'T056'}</td>\n",
       "      <td>{'Daily or Recreational Activity'}</td>\n",
       "    </tr>\n",
       "    <tr>\n",
       "      <th>2</th>\n",
       "      <td>C0680552</td>\n",
       "      <td>legalization</td>\n",
       "      <td>{'T064'}</td>\n",
       "      <td>{'Governmental or Regulatory Activity'}</td>\n",
       "    </tr>\n",
       "    <tr>\n",
       "      <th>3</th>\n",
       "      <td>C0085092</td>\n",
       "      <td>Parenting behavior</td>\n",
       "      <td>{'T054'}</td>\n",
       "      <td>{'Social Behavior'}</td>\n",
       "    </tr>\n",
       "    <tr>\n",
       "      <th>4</th>\n",
       "      <td>C1096771</td>\n",
       "      <td>Murderer</td>\n",
       "      <td>{'T055'}</td>\n",
       "      <td>{'Individual Behavior'}</td>\n",
       "    </tr>\n",
       "  </tbody>\n",
       "</table>\n",
       "</div>"
      ],
      "text/plain": [
       "         ID               label umls_type  \\\n",
       "0  C0038195      State Medicine  {'T064'}   \n",
       "1  C1290952   Taking medication  {'T056'}   \n",
       "2  C0680552        legalization  {'T064'}   \n",
       "3  C0085092  Parenting behavior  {'T054'}   \n",
       "4  C1096771            Murderer  {'T055'}   \n",
       "\n",
       "                           umls_type_label  \n",
       "0  {'Governmental or Regulatory Activity'}  \n",
       "1       {'Daily or Recreational Activity'}  \n",
       "2  {'Governmental or Regulatory Activity'}  \n",
       "3                      {'Social Behavior'}  \n",
       "4                  {'Individual Behavior'}  "
      ]
     },
     "execution_count": 11,
     "metadata": {},
     "output_type": "execute_result"
    }
   ],
   "source": [
    "nodes = pd.read_csv(\"nodes_sanitized.csv\", index_col=0)\n",
    "del nodes['TYPE']\n",
    "nodes.head()"
   ]
  },
  {
   "cell_type": "code",
   "execution_count": 12,
   "metadata": {},
   "outputs": [],
   "source": [
    "nodes['umls_type'] = nodes.ID.map(lambda x: id_type.get(x))\n",
    "nodes['umls_type_label'] = nodes.umls_type.map(lambda x:{type_label.get(y) for y in x} if x else None)"
   ]
  },
  {
   "cell_type": "code",
   "execution_count": 13,
   "metadata": {},
   "outputs": [
    {
     "data": {
      "text/html": [
       "<div>\n",
       "<style scoped>\n",
       "    .dataframe tbody tr th:only-of-type {\n",
       "        vertical-align: middle;\n",
       "    }\n",
       "\n",
       "    .dataframe tbody tr th {\n",
       "        vertical-align: top;\n",
       "    }\n",
       "\n",
       "    .dataframe thead th {\n",
       "        text-align: right;\n",
       "    }\n",
       "</style>\n",
       "<table border=\"1\" class=\"dataframe\">\n",
       "  <thead>\n",
       "    <tr style=\"text-align: right;\">\n",
       "      <th></th>\n",
       "      <th>ID</th>\n",
       "      <th>label</th>\n",
       "      <th>umls_type</th>\n",
       "      <th>umls_type_label</th>\n",
       "    </tr>\n",
       "  </thead>\n",
       "  <tbody>\n",
       "    <tr>\n",
       "      <th>0</th>\n",
       "      <td>C0038195</td>\n",
       "      <td>State Medicine</td>\n",
       "      <td>{T064}</td>\n",
       "      <td>{Governmental or Regulatory Activity}</td>\n",
       "    </tr>\n",
       "    <tr>\n",
       "      <th>1</th>\n",
       "      <td>C1290952</td>\n",
       "      <td>Taking medication</td>\n",
       "      <td>{T056}</td>\n",
       "      <td>{Daily or Recreational Activity}</td>\n",
       "    </tr>\n",
       "    <tr>\n",
       "      <th>2</th>\n",
       "      <td>C0680552</td>\n",
       "      <td>legalization</td>\n",
       "      <td>{T064}</td>\n",
       "      <td>{Governmental or Regulatory Activity}</td>\n",
       "    </tr>\n",
       "    <tr>\n",
       "      <th>3</th>\n",
       "      <td>C0085092</td>\n",
       "      <td>Parenting behavior</td>\n",
       "      <td>{T054}</td>\n",
       "      <td>{Social Behavior}</td>\n",
       "    </tr>\n",
       "    <tr>\n",
       "      <th>4</th>\n",
       "      <td>C1096771</td>\n",
       "      <td>Murderer</td>\n",
       "      <td>{T055}</td>\n",
       "      <td>{Individual Behavior}</td>\n",
       "    </tr>\n",
       "  </tbody>\n",
       "</table>\n",
       "</div>"
      ],
      "text/plain": [
       "         ID               label umls_type  \\\n",
       "0  C0038195      State Medicine    {T064}   \n",
       "1  C1290952   Taking medication    {T056}   \n",
       "2  C0680552        legalization    {T064}   \n",
       "3  C0085092  Parenting behavior    {T054}   \n",
       "4  C1096771            Murderer    {T055}   \n",
       "\n",
       "                         umls_type_label  \n",
       "0  {Governmental or Regulatory Activity}  \n",
       "1       {Daily or Recreational Activity}  \n",
       "2  {Governmental or Regulatory Activity}  \n",
       "3                      {Social Behavior}  \n",
       "4                  {Individual Behavior}  "
      ]
     },
     "execution_count": 13,
     "metadata": {},
     "output_type": "execute_result"
    }
   ],
   "source": [
    "nodes.head()"
   ]
  },
  {
   "cell_type": "code",
   "execution_count": 14,
   "metadata": {},
   "outputs": [
    {
     "name": "stdout",
     "output_type": "stream",
     "text": [
      "268917\n",
      "259144\n"
     ]
    }
   ],
   "source": [
    "# toss those with no umls types\n",
    "print(len(nodes))\n",
    "nodes.dropna(subset=['umls_type'], inplace=True)\n",
    "print(len(nodes))"
   ]
  },
  {
   "cell_type": "code",
   "execution_count": 15,
   "metadata": {},
   "outputs": [],
   "source": [
    "blm_to_umls = {\n",
    "    'cell': {'cell'},\n",
    "    'cell_component': {'cell component'},\n",
    "    'gross_anatomical_structure': {'Body System', 'Embryonic Structure', 'Fully Formed Anatomical Structure',\n",
    "                                  'Tissue', 'Body Part, Organ, or Organ Component'},\n",
    "    'anatomical_entity': {'Body Location or Region', 'Body Space or Junction', 'Body Substance'},\n",
    "    'activity_and_behavior': {'Activity', 'Behavior', 'Daily or Recreational Activity' , 'Individual Behavior',\n",
    "                             'Social Behavior', 'Occupational Activity'},\n",
    "    'protein': {'Amino Acid, Peptide, or Protein', 'Enzyme'},\n",
    "    'genomic_entity': {'Nucleic Acid, Nucleoside, or Nucleotide'},\n",
    "    # this is everything in 'Chemicals & Drugs' minus 'Amino Acid, Peptide, or Protein', \n",
    "    # 'Enzyme', 'Nucleic Acid, Nucleoside, or Nucleotide'\n",
    "    'chemical_substance': {'Chemical Viewed Structurally', 'Organic Chemical', 'Carbohydrate', \n",
    "                           'Immunologic Factor', 'Lipid', 'Element, Ion, or Isotope', 'Organophosphorus Compound', \n",
    "                           'Biologically Active Substance', 'Pharmacologic Substance', 'Hormone', \n",
    "                           'Eicosanoid', 'Vitamin', 'Chemical Viewed Functionally', 'Hazardous or Poisonous Substance', \n",
    "                           'Inorganic Chemical', 'Clinical Drug', 'Neuroreactive Substance or Biogenic Amine', \n",
    "                           'Biomedical or Dental Material', 'Antibiotic', 'Chemical', 'Steroid', \n",
    "                           'Indicator, Reagent, or Diagnostic Aid', 'Receptor'},\n",
    "    # this is everything under 'Disorders' umls semantic group\n",
    "    'disease_or_phenotypic_feature': {'Acquired Abnormality', 'Anatomical Abnormality', \n",
    "                                      'Cell or Molecular Dysfunction', 'Congenital Abnormality', \n",
    "                                      'Disease or Syndrome', 'Experimental Model of Disease', 'Finding', \n",
    "                                      'Injury or Poisoning', 'Mental or Behavioral Dysfunction', \n",
    "                                      'Neoplastic Process', 'Pathologic Function', 'Sign or Symptom'},\n",
    "    'gene': {'Gene or Genome'},\n",
    "    'genomic_entity': {'Amino Acid Sequence', 'Nucleotide Sequence'},\n",
    "    'biological_process_or_activity': {'Biologic Function', 'Molecular Function', 'Genetic Function',\n",
    "                                      'Organism Function', 'Organ or Tissue Function', 'Cell Function',\n",
    "                                      'Mental Process'},\n",
    "    'phenotypic_feature': {'Laboratory or Test Result'},\n",
    "    'individual_organism': {'Living Beings'},\n",
    "    'named_thing': {'Objects'}\n",
    "}\n",
    "umls_to_blm_check = defaultdict(set)\n",
    "umls_to_blm = dict()\n",
    "for k,vv in blm_to_umls.items():\n",
    "    for v in vv:\n",
    "        umls_to_blm_check[v.lower()].add(k.lower())\n",
    "        umls_to_blm[v.lower()] = k.lower()\n",
    "assert set(len(x) for x in umls_to_blm_check.values()) == {1}\n",
    "# umls_to_blm"
   ]
  },
  {
   "cell_type": "code",
   "execution_count": 16,
   "metadata": {},
   "outputs": [
    {
     "data": {
      "text/html": [
       "<div>\n",
       "<style scoped>\n",
       "    .dataframe tbody tr th:only-of-type {\n",
       "        vertical-align: middle;\n",
       "    }\n",
       "\n",
       "    .dataframe tbody tr th {\n",
       "        vertical-align: top;\n",
       "    }\n",
       "\n",
       "    .dataframe thead th {\n",
       "        text-align: right;\n",
       "    }\n",
       "</style>\n",
       "<table border=\"1\" class=\"dataframe\">\n",
       "  <thead>\n",
       "    <tr style=\"text-align: right;\">\n",
       "      <th></th>\n",
       "      <th>ID</th>\n",
       "      <th>label</th>\n",
       "      <th>umls_type</th>\n",
       "      <th>umls_type_label</th>\n",
       "      <th>blm_type</th>\n",
       "    </tr>\n",
       "  </thead>\n",
       "  <tbody>\n",
       "    <tr>\n",
       "      <th>1</th>\n",
       "      <td>C1290952</td>\n",
       "      <td>Taking medication</td>\n",
       "      <td>{T056}</td>\n",
       "      <td>{Daily or Recreational Activity}</td>\n",
       "      <td>{activity_and_behavior}</td>\n",
       "    </tr>\n",
       "    <tr>\n",
       "      <th>3</th>\n",
       "      <td>C0085092</td>\n",
       "      <td>Parenting behavior</td>\n",
       "      <td>{T054}</td>\n",
       "      <td>{Social Behavior}</td>\n",
       "      <td>{activity_and_behavior}</td>\n",
       "    </tr>\n",
       "    <tr>\n",
       "      <th>4</th>\n",
       "      <td>C1096771</td>\n",
       "      <td>Murderer</td>\n",
       "      <td>{T055}</td>\n",
       "      <td>{Individual Behavior}</td>\n",
       "      <td>{activity_and_behavior}</td>\n",
       "    </tr>\n",
       "    <tr>\n",
       "      <th>6</th>\n",
       "      <td>C0006875</td>\n",
       "      <td>Cannibalism</td>\n",
       "      <td>{T054}</td>\n",
       "      <td>{Social Behavior}</td>\n",
       "      <td>{activity_and_behavior}</td>\n",
       "    </tr>\n",
       "    <tr>\n",
       "      <th>7</th>\n",
       "      <td>C0871454</td>\n",
       "      <td>Study Habits</td>\n",
       "      <td>{T055}</td>\n",
       "      <td>{Individual Behavior}</td>\n",
       "      <td>{activity_and_behavior}</td>\n",
       "    </tr>\n",
       "  </tbody>\n",
       "</table>\n",
       "</div>"
      ],
      "text/plain": [
       "         ID               label umls_type                   umls_type_label  \\\n",
       "1  C1290952   Taking medication    {T056}  {Daily or Recreational Activity}   \n",
       "3  C0085092  Parenting behavior    {T054}                 {Social Behavior}   \n",
       "4  C1096771            Murderer    {T055}             {Individual Behavior}   \n",
       "6  C0006875         Cannibalism    {T054}                 {Social Behavior}   \n",
       "7  C0871454        Study Habits    {T055}             {Individual Behavior}   \n",
       "\n",
       "                  blm_type  \n",
       "1  {activity_and_behavior}  \n",
       "3  {activity_and_behavior}  \n",
       "4  {activity_and_behavior}  \n",
       "6  {activity_and_behavior}  \n",
       "7  {activity_and_behavior}  "
      ]
     },
     "execution_count": 16,
     "metadata": {},
     "output_type": "execute_result"
    }
   ],
   "source": [
    "nodes['blm_type'] = nodes.umls_type_label.map(lambda x: {umls_to_blm.get(xx.lower()) for xx in x})\n",
    "nodes.blm_type = nodes.blm_type.map(lambda v: {x for x in v if x})\n",
    "nodes.blm_type = nodes.blm_type.map(lambda v: v if v else pd.np.NAN)\n",
    "nodes.dropna(subset=['blm_type'], inplace=True)\n",
    "nodes.head()"
   ]
  },
  {
   "cell_type": "code",
   "execution_count": 17,
   "metadata": {},
   "outputs": [
    {
     "data": {
      "text/html": [
       "<div>\n",
       "<style scoped>\n",
       "    .dataframe tbody tr th:only-of-type {\n",
       "        vertical-align: middle;\n",
       "    }\n",
       "\n",
       "    .dataframe tbody tr th {\n",
       "        vertical-align: top;\n",
       "    }\n",
       "\n",
       "    .dataframe thead th {\n",
       "        text-align: right;\n",
       "    }\n",
       "</style>\n",
       "<table border=\"1\" class=\"dataframe\">\n",
       "  <thead>\n",
       "    <tr style=\"text-align: right;\">\n",
       "      <th></th>\n",
       "      <th>ID</th>\n",
       "      <th>label</th>\n",
       "      <th>umls_type</th>\n",
       "      <th>umls_type_label</th>\n",
       "      <th>blm_type</th>\n",
       "    </tr>\n",
       "  </thead>\n",
       "  <tbody>\n",
       "    <tr>\n",
       "      <th>6</th>\n",
       "      <td>C0006875</td>\n",
       "      <td>Cannibalism</td>\n",
       "      <td>{T054}</td>\n",
       "      <td>{Social Behavior}</td>\n",
       "      <td>{activity_and_behavior}</td>\n",
       "    </tr>\n",
       "    <tr>\n",
       "      <th>22299</th>\n",
       "      <td>C0879593</td>\n",
       "      <td>autologous dendritic cells</td>\n",
       "      <td>{T121, T025}</td>\n",
       "      <td>{Cell, Pharmacologic Substance}</td>\n",
       "      <td>{chemical_substance, cell}</td>\n",
       "    </tr>\n",
       "    <tr>\n",
       "      <th>34904</th>\n",
       "      <td>C0079904</td>\n",
       "      <td>NF-kappa B</td>\n",
       "      <td>{T116, T129}</td>\n",
       "      <td>{Immunologic Factor, Amino Acid, Peptide, or Protein}</td>\n",
       "      <td>{chemical_substance, protein}</td>\n",
       "    </tr>\n",
       "  </tbody>\n",
       "</table>\n",
       "</div>"
      ],
      "text/plain": [
       "             ID                       label     umls_type  \\\n",
       "6      C0006875                 Cannibalism        {T054}   \n",
       "22299  C0879593  autologous dendritic cells  {T121, T025}   \n",
       "34904  C0079904                  NF-kappa B  {T116, T129}   \n",
       "\n",
       "                                             umls_type_label  \\\n",
       "6                                          {Social Behavior}   \n",
       "22299                        {Cell, Pharmacologic Substance}   \n",
       "34904  {Immunologic Factor, Amino Acid, Peptide, or Protein}   \n",
       "\n",
       "                            blm_type  \n",
       "6            {activity_and_behavior}  \n",
       "22299     {chemical_substance, cell}  \n",
       "34904  {chemical_substance, protein}  "
      ]
     },
     "execution_count": 17,
     "metadata": {},
     "output_type": "execute_result"
    }
   ],
   "source": [
    "nodes[nodes.ID.isin({\"C0079904\", \"C0879593\", \"C0006875\"})]"
   ]
  },
  {
   "cell_type": "code",
   "execution_count": 18,
   "metadata": {},
   "outputs": [
    {
     "data": {
      "text/plain": [
       "(chemical_substance, protein)           16117\n",
       "(chemical_substance, cell)                  3\n",
       "(chemical_substance, genomic_entity)        1\n",
       "Name: blm_type, dtype: int64"
      ]
     },
     "execution_count": 18,
     "metadata": {},
     "output_type": "execute_result"
    }
   ],
   "source": [
    "# the only nodes with two types:\n",
    "nodes[nodes.blm_type.map(len)>1].blm_type.map(frozenset).value_counts()"
   ]
  },
  {
   "cell_type": "code",
   "execution_count": 19,
   "metadata": {},
   "outputs": [
    {
     "data": {
      "text/plain": [
       "[(frozenset({'Amino Acid, Peptide, or Protein',\n",
       "             'Biologically Active Substance'}),\n",
       "  7375),\n",
       " (frozenset({'Amino Acid, Peptide, or Protein', 'Pharmacologic Substance'}),\n",
       "  2568),\n",
       " (frozenset({'Amino Acid, Peptide, or Protein', 'Immunologic Factor'}), 2156),\n",
       " (frozenset({'Amino Acid, Peptide, or Protein', 'Receptor'}), 1367),\n",
       " (frozenset({'Amino Acid, Peptide, or Protein',\n",
       "             'Immunologic Factor',\n",
       "             'Pharmacologic Substance'}),\n",
       "  536),\n",
       " (frozenset({'Amino Acid, Peptide, or Protein',\n",
       "             'Enzyme',\n",
       "             'Pharmacologic Substance'}),\n",
       "  269),\n",
       " (frozenset({'Amino Acid, Peptide, or Protein',\n",
       "             'Hormone',\n",
       "             'Pharmacologic Substance'}),\n",
       "  264),\n",
       " (frozenset({'Amino Acid, Peptide, or Protein',\n",
       "             'Biologically Active Substance',\n",
       "             'Hazardous or Poisonous Substance'}),\n",
       "  254),\n",
       " (frozenset({'Amino Acid, Peptide, or Protein', 'Antibiotic'}), 216),\n",
       " (frozenset({'Amino Acid, Peptide, or Protein', 'Hormone'}), 198)]"
      ]
     },
     "execution_count": 19,
     "metadata": {},
     "output_type": "execute_result"
    }
   ],
   "source": [
    "# within the nodes with more than 1 blm types:\n",
    "# what are the most common umls types\n",
    "nodes2 = nodes[nodes.blm_type.map(len)>1]\n",
    "Counter(nodes2[nodes2.umls_type_label.map(len)>1].umls_type_label.map(frozenset)).most_common(10)"
   ]
  },
  {
   "cell_type": "code",
   "execution_count": 20,
   "metadata": {},
   "outputs": [],
   "source": [
    "nodes.loc[nodes.blm_type == {'protein', 'chemical_substance'}, \"blm_type\"] = {\"biological_entity\"}\n",
    "nodes.loc[nodes.blm_type == {'cell', 'chemical_substance'}, \"blm_type\"] = {\"biological_entity\"}\n",
    "nodes.loc[nodes.blm_type == {'genomic_entity', 'chemical_substance'}, \"blm_type\"] = {\"biological_entity\"}\n",
    "nodes.blm_type = nodes.blm_type.map(lambda x:list(x)[0])"
   ]
  },
  {
   "cell_type": "code",
   "execution_count": 21,
   "metadata": {},
   "outputs": [
    {
     "data": {
      "text/html": [
       "<div>\n",
       "<style scoped>\n",
       "    .dataframe tbody tr th:only-of-type {\n",
       "        vertical-align: middle;\n",
       "    }\n",
       "\n",
       "    .dataframe tbody tr th {\n",
       "        vertical-align: top;\n",
       "    }\n",
       "\n",
       "    .dataframe thead th {\n",
       "        text-align: right;\n",
       "    }\n",
       "</style>\n",
       "<table border=\"1\" class=\"dataframe\">\n",
       "  <thead>\n",
       "    <tr style=\"text-align: right;\">\n",
       "      <th></th>\n",
       "      <th>ID</th>\n",
       "      <th>label</th>\n",
       "      <th>umls_type</th>\n",
       "      <th>umls_type_label</th>\n",
       "      <th>blm_type</th>\n",
       "    </tr>\n",
       "  </thead>\n",
       "  <tbody>\n",
       "    <tr>\n",
       "      <th>6</th>\n",
       "      <td>C0006875</td>\n",
       "      <td>Cannibalism</td>\n",
       "      <td>{T054}</td>\n",
       "      <td>{Social Behavior}</td>\n",
       "      <td>activity_and_behavior</td>\n",
       "    </tr>\n",
       "    <tr>\n",
       "      <th>22299</th>\n",
       "      <td>C0879593</td>\n",
       "      <td>autologous dendritic cells</td>\n",
       "      <td>{T121, T025}</td>\n",
       "      <td>{Cell, Pharmacologic Substance}</td>\n",
       "      <td>biological_entity</td>\n",
       "    </tr>\n",
       "    <tr>\n",
       "      <th>34904</th>\n",
       "      <td>C0079904</td>\n",
       "      <td>NF-kappa B</td>\n",
       "      <td>{T116, T129}</td>\n",
       "      <td>{Immunologic Factor, Amino Acid, Peptide, or Protein}</td>\n",
       "      <td>biological_entity</td>\n",
       "    </tr>\n",
       "  </tbody>\n",
       "</table>\n",
       "</div>"
      ],
      "text/plain": [
       "             ID                       label     umls_type  \\\n",
       "6      C0006875                 Cannibalism        {T054}   \n",
       "22299  C0879593  autologous dendritic cells  {T121, T025}   \n",
       "34904  C0079904                  NF-kappa B  {T116, T129}   \n",
       "\n",
       "                                             umls_type_label  \\\n",
       "6                                          {Social Behavior}   \n",
       "22299                        {Cell, Pharmacologic Substance}   \n",
       "34904  {Immunologic Factor, Amino Acid, Peptide, or Protein}   \n",
       "\n",
       "                    blm_type  \n",
       "6      activity_and_behavior  \n",
       "22299      biological_entity  \n",
       "34904      biological_entity  "
      ]
     },
     "execution_count": 21,
     "metadata": {},
     "output_type": "execute_result"
    }
   ],
   "source": [
    "nodes[nodes.ID.isin({\"C0079904\", \"C0879593\", \"C0006875\"})]"
   ]
  },
  {
   "cell_type": "code",
   "execution_count": 22,
   "metadata": {},
   "outputs": [
    {
     "data": {
      "text/plain": [
       "(Disease or Syndrome)                                  16445\n",
       "(Finding)                                               8702\n",
       "(Neoplastic Process)                                    5024\n",
       "(Pathologic Function)                                   2423\n",
       "(Injury or Poisoning)                                   2104\n",
       "(Sign or Symptom)                                       1979\n",
       "(Congenital Abnormality)                                1720\n",
       "(Mental or Behavioral Dysfunction)                      1408\n",
       "(Acquired Abnormality)                                   658\n",
       "(Anatomical Abnormality)                                 612\n",
       "(Cell or Molecular Dysfunction)                          410\n",
       "(Congenital Abnormality, Disease or Syndrome)            124\n",
       "(Experimental Model of Disease)                           36\n",
       "(Neoplastic Process, Experimental Model of Disease)       25\n",
       "(Anatomical Abnormality, Disease or Syndrome)             13\n",
       "Name: umls_type_label, dtype: int64"
      ]
     },
     "execution_count": 22,
     "metadata": {},
     "output_type": "execute_result"
    }
   ],
   "source": [
    "nodes[nodes.blm_type==\"disease_or_phenotypic_feature\"].umls_type_label.map(frozenset).value_counts()"
   ]
  },
  {
   "cell_type": "code",
   "execution_count": 23,
   "metadata": {},
   "outputs": [
    {
     "data": {
      "text/plain": [
       "chemical_substance                65061\n",
       "disease_or_phenotypic_feature     41683\n",
       "gene                              18932\n",
       "biological_entity                 16121\n",
       "protein                           13813\n",
       "gross_anatomical_structure         9260\n",
       "biological_process_or_activity     7446\n",
       "anatomical_entity                  2896\n",
       "cell_component                     1685\n",
       "activity_and_behavior              1281\n",
       "cell                               1241\n",
       "phenotypic_feature                  550\n",
       "genomic_entity                      182\n",
       "Name: blm_type, dtype: int64"
      ]
     },
     "execution_count": 23,
     "metadata": {},
     "output_type": "execute_result"
    }
   ],
   "source": [
    "nodes.blm_type.value_counts()"
   ]
  },
  {
   "cell_type": "code",
   "execution_count": 24,
   "metadata": {},
   "outputs": [],
   "source": [
    "nodes.umls_type_label = nodes.umls_type_label.apply(\"|\".join)\n",
    "nodes.umls_type = nodes.umls_type.apply(\"|\".join)"
   ]
  },
  {
   "cell_type": "code",
   "execution_count": 25,
   "metadata": {},
   "outputs": [
    {
     "data": {
      "text/html": [
       "<div>\n",
       "<style scoped>\n",
       "    .dataframe tbody tr th:only-of-type {\n",
       "        vertical-align: middle;\n",
       "    }\n",
       "\n",
       "    .dataframe tbody tr th {\n",
       "        vertical-align: top;\n",
       "    }\n",
       "\n",
       "    .dataframe thead th {\n",
       "        text-align: right;\n",
       "    }\n",
       "</style>\n",
       "<table border=\"1\" class=\"dataframe\">\n",
       "  <thead>\n",
       "    <tr style=\"text-align: right;\">\n",
       "      <th></th>\n",
       "      <th>ID</th>\n",
       "      <th>label</th>\n",
       "      <th>umls_type</th>\n",
       "      <th>umls_type_label</th>\n",
       "      <th>blm_type</th>\n",
       "    </tr>\n",
       "  </thead>\n",
       "  <tbody>\n",
       "    <tr>\n",
       "      <th>6</th>\n",
       "      <td>C0006875</td>\n",
       "      <td>Cannibalism</td>\n",
       "      <td>T054</td>\n",
       "      <td>Social Behavior</td>\n",
       "      <td>activity_and_behavior</td>\n",
       "    </tr>\n",
       "    <tr>\n",
       "      <th>22299</th>\n",
       "      <td>C0879593</td>\n",
       "      <td>autologous dendritic cells</td>\n",
       "      <td>T121|T025</td>\n",
       "      <td>Cell|Pharmacologic Substance</td>\n",
       "      <td>biological_entity</td>\n",
       "    </tr>\n",
       "    <tr>\n",
       "      <th>34904</th>\n",
       "      <td>C0079904</td>\n",
       "      <td>NF-kappa B</td>\n",
       "      <td>T116|T129</td>\n",
       "      <td>Immunologic Factor|Amino Acid, Peptide, or Protein</td>\n",
       "      <td>biological_entity</td>\n",
       "    </tr>\n",
       "  </tbody>\n",
       "</table>\n",
       "</div>"
      ],
      "text/plain": [
       "             ID                       label  umls_type  \\\n",
       "6      C0006875                 Cannibalism       T054   \n",
       "22299  C0879593  autologous dendritic cells  T121|T025   \n",
       "34904  C0079904                  NF-kappa B  T116|T129   \n",
       "\n",
       "                                          umls_type_label  \\\n",
       "6                                         Social Behavior   \n",
       "22299                        Cell|Pharmacologic Substance   \n",
       "34904  Immunologic Factor|Amino Acid, Peptide, or Protein   \n",
       "\n",
       "                    blm_type  \n",
       "6      activity_and_behavior  \n",
       "22299      biological_entity  \n",
       "34904      biological_entity  "
      ]
     },
     "execution_count": 25,
     "metadata": {},
     "output_type": "execute_result"
    }
   ],
   "source": [
    "nodes[nodes.ID.isin({\"C0079904\", \"C0879593\", \"C0006875\", \"C0815111\"})]"
   ]
  },
  {
   "cell_type": "code",
   "execution_count": 27,
   "metadata": {},
   "outputs": [],
   "source": [
    "nodes.to_csv(\"nodes_blm.csv\")"
   ]
  }
 ],
 "metadata": {
  "kernelspec": {
   "display_name": "Python 3",
   "language": "python",
   "name": "python3"
  },
  "language_info": {
   "codemirror_mode": {
    "name": "ipython",
    "version": 3
   },
   "file_extension": ".py",
   "mimetype": "text/x-python",
   "name": "python",
   "nbconvert_exporter": "python",
   "pygments_lexer": "ipython3",
   "version": "3.5.2"
  }
 },
 "nbformat": 4,
 "nbformat_minor": 2
}
