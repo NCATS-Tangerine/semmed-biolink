{
 "cells": [
  {
   "cell_type": "markdown",
   "metadata": {},
   "source": [
    "# 02-normalize_node_types_to_biolink\n",
    "- For each node, get the UMLS semantic type for each umls cui\n",
    "(get types from the UMLS mapping file: MRSTY.RRF)\n",
    "- Map umls semantic types to Biolink concept node category (blm_to_umls_nodes.json)\n",
    "- Nodes with no matching Biolink type are removed\n",
    "- Multiple Biolink category mappings are now \"passed through\" as piped strings"
   ]
  },
  {
   "cell_type": "code",
   "execution_count": 1,
   "metadata": {},
   "outputs": [
    {
     "data": {
      "text/html": [
       "<style>.container { width:90% !important; }</style>"
      ],
      "text/plain": [
       "<IPython.core.display.HTML object>"
      ]
     },
     "metadata": {},
     "output_type": "display_data"
    }
   ],
   "source": [
    "import os\n",
    "import pickle\n",
    "%matplotlib inline\n",
    "import pandas as pd\n",
    "from numpy import nan\n",
    "from collections import defaultdict, Counter\n",
    "from IPython.core.display import display, HTML\n",
    "display(HTML(\"<style>.container { width:90% !important; }</style>\"))\n",
    "pd.options.display.max_colwidth = 80\n",
    "from semmeddb_biolink_environment import *"
   ]
  },
  {
   "cell_type": "code",
   "execution_count": 2,
   "metadata": {},
   "outputs": [
    {
     "data": {
      "text/html": [
       "<div>\n",
       "<style scoped>\n",
       "    .dataframe tbody tr th:only-of-type {\n",
       "        vertical-align: middle;\n",
       "    }\n",
       "\n",
       "    .dataframe tbody tr th {\n",
       "        vertical-align: top;\n",
       "    }\n",
       "\n",
       "    .dataframe thead th {\n",
       "        text-align: right;\n",
       "    }\n",
       "</style>\n",
       "<table border=\"1\" class=\"dataframe\">\n",
       "  <thead>\n",
       "    <tr style=\"text-align: right;\">\n",
       "      <th></th>\n",
       "      <th>abv</th>\n",
       "      <th>group</th>\n",
       "      <th>id</th>\n",
       "      <th>label</th>\n",
       "    </tr>\n",
       "  </thead>\n",
       "  <tbody>\n",
       "    <tr>\n",
       "      <th>0</th>\n",
       "      <td>ACTI</td>\n",
       "      <td>Activities &amp; Behaviors</td>\n",
       "      <td>T052</td>\n",
       "      <td>Activity</td>\n",
       "    </tr>\n",
       "    <tr>\n",
       "      <th>1</th>\n",
       "      <td>ACTI</td>\n",
       "      <td>Activities &amp; Behaviors</td>\n",
       "      <td>T053</td>\n",
       "      <td>Behavior</td>\n",
       "    </tr>\n",
       "    <tr>\n",
       "      <th>2</th>\n",
       "      <td>ACTI</td>\n",
       "      <td>Activities &amp; Behaviors</td>\n",
       "      <td>T056</td>\n",
       "      <td>Daily or Recreational Activity</td>\n",
       "    </tr>\n",
       "    <tr>\n",
       "      <th>3</th>\n",
       "      <td>ACTI</td>\n",
       "      <td>Activities &amp; Behaviors</td>\n",
       "      <td>T051</td>\n",
       "      <td>Event</td>\n",
       "    </tr>\n",
       "    <tr>\n",
       "      <th>4</th>\n",
       "      <td>ACTI</td>\n",
       "      <td>Activities &amp; Behaviors</td>\n",
       "      <td>T064</td>\n",
       "      <td>Governmental or Regulatory Activity</td>\n",
       "    </tr>\n",
       "  </tbody>\n",
       "</table>\n",
       "</div>"
      ],
      "text/plain": [
       "    abv                   group    id                                label\n",
       "0  ACTI  Activities & Behaviors  T052                             Activity\n",
       "1  ACTI  Activities & Behaviors  T053                             Behavior\n",
       "2  ACTI  Activities & Behaviors  T056       Daily or Recreational Activity\n",
       "3  ACTI  Activities & Behaviors  T051                                Event\n",
       "4  ACTI  Activities & Behaviors  T064  Governmental or Regulatory Activity"
      ]
     },
     "execution_count": 2,
     "metadata": {},
     "output_type": "execute_result"
    }
   ],
   "source": [
    "groups = pd.read_csv(SEMGROUPS, sep=\"|\", names=['abv', 'group', 'id', 'label'])\n",
    "groups.head()"
   ]
  },
  {
   "cell_type": "code",
   "execution_count": 3,
   "metadata": {},
   "outputs": [
    {
     "name": "stdout",
     "output_type": "stream",
     "text": [
      "['Acquired Abnormality', 'Anatomical Abnormality', 'Cell or Molecular Dysfunction', 'Congenital Abnormality', 'Disease or Syndrome', 'Experimental Model of Disease', 'Finding', 'Injury or Poisoning', 'Mental or Behavioral Dysfunction', 'Neoplastic Process', 'Pathologic Function', 'Sign or Symptom']\n"
     ]
    }
   ],
   "source": [
    "print(sorted(list(groups.query(\"group == 'Disorders'\").label)))"
   ]
  },
  {
   "cell_type": "code",
   "execution_count": 4,
   "metadata": {},
   "outputs": [
    {
     "data": {
      "text/html": [
       "<div>\n",
       "<style scoped>\n",
       "    .dataframe tbody tr th:only-of-type {\n",
       "        vertical-align: middle;\n",
       "    }\n",
       "\n",
       "    .dataframe tbody tr th {\n",
       "        vertical-align: top;\n",
       "    }\n",
       "\n",
       "    .dataframe thead th {\n",
       "        text-align: right;\n",
       "    }\n",
       "</style>\n",
       "<table border=\"1\" class=\"dataframe\">\n",
       "  <thead>\n",
       "    <tr style=\"text-align: right;\">\n",
       "      <th></th>\n",
       "      <th>abv</th>\n",
       "      <th>ID</th>\n",
       "      <th>label</th>\n",
       "    </tr>\n",
       "  </thead>\n",
       "  <tbody>\n",
       "    <tr>\n",
       "      <th>0</th>\n",
       "      <td>aapp</td>\n",
       "      <td>T116</td>\n",
       "      <td>Amino Acid, Peptide, or Protein</td>\n",
       "    </tr>\n",
       "    <tr>\n",
       "      <th>1</th>\n",
       "      <td>acab</td>\n",
       "      <td>T020</td>\n",
       "      <td>Acquired Abnormality</td>\n",
       "    </tr>\n",
       "    <tr>\n",
       "      <th>2</th>\n",
       "      <td>acty</td>\n",
       "      <td>T052</td>\n",
       "      <td>Activity</td>\n",
       "    </tr>\n",
       "    <tr>\n",
       "      <th>3</th>\n",
       "      <td>aggp</td>\n",
       "      <td>T100</td>\n",
       "      <td>Age Group</td>\n",
       "    </tr>\n",
       "    <tr>\n",
       "      <th>4</th>\n",
       "      <td>amas</td>\n",
       "      <td>T087</td>\n",
       "      <td>Amino Acid Sequence</td>\n",
       "    </tr>\n",
       "  </tbody>\n",
       "</table>\n",
       "</div>"
      ],
      "text/plain": [
       "    abv    ID                            label\n",
       "0  aapp  T116  Amino Acid, Peptide, or Protein\n",
       "1  acab  T020             Acquired Abnormality\n",
       "2  acty  T052                         Activity\n",
       "3  aggp  T100                        Age Group\n",
       "4  amas  T087              Amino Acid Sequence"
      ]
     },
     "execution_count": 4,
     "metadata": {},
     "output_type": "execute_result"
    }
   ],
   "source": [
    "names = pd.read_csv(SEMTYPES, sep=\"|\", names=['abv', 'ID', 'label'])\n",
    "names.head()"
   ]
  },
  {
   "cell_type": "code",
   "execution_count": 5,
   "metadata": {},
   "outputs": [],
   "source": [
    "type_label = dict(zip(names.ID, names.label))"
   ]
  },
  {
   "cell_type": "code",
   "execution_count": 6,
   "metadata": {},
   "outputs": [
    {
     "data": {
      "text/html": [
       "<div>\n",
       "<style scoped>\n",
       "    .dataframe tbody tr th:only-of-type {\n",
       "        vertical-align: middle;\n",
       "    }\n",
       "\n",
       "    .dataframe tbody tr th {\n",
       "        vertical-align: top;\n",
       "    }\n",
       "\n",
       "    .dataframe thead th {\n",
       "        text-align: right;\n",
       "    }\n",
       "</style>\n",
       "<table border=\"1\" class=\"dataframe\">\n",
       "  <thead>\n",
       "    <tr style=\"text-align: right;\">\n",
       "      <th></th>\n",
       "      <th>ID</th>\n",
       "      <th>TYPE</th>\n",
       "    </tr>\n",
       "  </thead>\n",
       "  <tbody>\n",
       "    <tr>\n",
       "      <th>0</th>\n",
       "      <td>C0000005</td>\n",
       "      <td>T116</td>\n",
       "    </tr>\n",
       "    <tr>\n",
       "      <th>1</th>\n",
       "      <td>C0000005</td>\n",
       "      <td>T121</td>\n",
       "    </tr>\n",
       "    <tr>\n",
       "      <th>2</th>\n",
       "      <td>C0000005</td>\n",
       "      <td>T130</td>\n",
       "    </tr>\n",
       "    <tr>\n",
       "      <th>3</th>\n",
       "      <td>C0000039</td>\n",
       "      <td>T109</td>\n",
       "    </tr>\n",
       "    <tr>\n",
       "      <th>4</th>\n",
       "      <td>C0000039</td>\n",
       "      <td>T121</td>\n",
       "    </tr>\n",
       "  </tbody>\n",
       "</table>\n",
       "</div>"
      ],
      "text/plain": [
       "         ID  TYPE\n",
       "0  C0000005  T116\n",
       "1  C0000005  T121\n",
       "2  C0000005  T130\n",
       "3  C0000039  T109\n",
       "4  C0000039  T121"
      ]
     },
     "execution_count": 6,
     "metadata": {},
     "output_type": "execute_result"
    }
   ],
   "source": [
    "# See README regarding MRSTY_ARCHIVE\n",
    "df = pd.read_csv(MRSTY_ARCHIVE, sep=\"|\", names=['ID', 'TYPE', 'a', 'b', 'c', 'd'], index_col=False, usecols=['ID', 'TYPE'], dtype=str)\n",
    "df.head()"
   ]
  },
  {
   "cell_type": "code",
   "execution_count": 7,
   "metadata": {},
   "outputs": [],
   "source": [
    "id_type = df.groupby(\"ID\").TYPE.aggregate(set).to_dict()"
   ]
  },
  {
   "cell_type": "code",
   "execution_count": 8,
   "metadata": {},
   "outputs": [
    {
     "data": {
      "text/plain": [
       "{'Amino Acid, Peptide, or Protein',\n",
       " 'Indicator, Reagent, or Diagnostic Aid',\n",
       " 'Pharmacologic Substance'}"
      ]
     },
     "execution_count": 8,
     "metadata": {},
     "output_type": "execute_result"
    }
   ],
   "source": [
    "id_type_label = {k:{type_label.get(x) for x in v} for k,v in id_type.items()}\n",
    "id_type_label['C0000005']"
   ]
  },
  {
   "cell_type": "code",
   "execution_count": 9,
   "metadata": {},
   "outputs": [
    {
     "data": {
      "text/html": [
       "<div>\n",
       "<style scoped>\n",
       "    .dataframe tbody tr th:only-of-type {\n",
       "        vertical-align: middle;\n",
       "    }\n",
       "\n",
       "    .dataframe tbody tr th {\n",
       "        vertical-align: top;\n",
       "    }\n",
       "\n",
       "    .dataframe thead th {\n",
       "        text-align: right;\n",
       "    }\n",
       "</style>\n",
       "<table border=\"1\" class=\"dataframe\">\n",
       "  <thead>\n",
       "    <tr style=\"text-align: right;\">\n",
       "      <th></th>\n",
       "      <th>ID</th>\n",
       "      <th>LABEL</th>\n",
       "    </tr>\n",
       "  </thead>\n",
       "  <tbody>\n",
       "    <tr>\n",
       "      <th>0</th>\n",
       "      <td>C0007952</td>\n",
       "      <td>Personality Character</td>\n",
       "    </tr>\n",
       "    <tr>\n",
       "      <th>1</th>\n",
       "      <td>C3574797</td>\n",
       "      <td>Pbunavirus</td>\n",
       "    </tr>\n",
       "    <tr>\n",
       "      <th>2</th>\n",
       "      <td>C0948102</td>\n",
       "      <td>Salivary gland adenoma</td>\n",
       "    </tr>\n",
       "    <tr>\n",
       "      <th>3</th>\n",
       "      <td>C0210064</td>\n",
       "      <td>quinotolast</td>\n",
       "    </tr>\n",
       "    <tr>\n",
       "      <th>4</th>\n",
       "      <td>C1008523</td>\n",
       "      <td>Silene viscosa</td>\n",
       "    </tr>\n",
       "  </tbody>\n",
       "</table>\n",
       "</div>"
      ],
      "text/plain": [
       "         ID                   LABEL\n",
       "0  C0007952   Personality Character\n",
       "1  C3574797              Pbunavirus\n",
       "2  C0948102  Salivary gland adenoma\n",
       "3  C0210064             quinotolast\n",
       "4  C1008523          Silene viscosa"
      ]
     },
     "execution_count": 9,
     "metadata": {},
     "output_type": "execute_result"
    }
   ],
   "source": [
    "nodes = pd.read_csv(NODES1_TSV, sep='\\t', index_col=0)\n",
    "nodes.head()"
   ]
  },
  {
   "cell_type": "code",
   "execution_count": 10,
   "metadata": {},
   "outputs": [],
   "source": [
    "nodes['umls_type'] = nodes.ID.map(lambda x: id_type.get(x))\n",
    "nodes['umls_type_label'] = nodes.umls_type.map(lambda x:{type_label.get(y) for y in x} if x else None)"
   ]
  },
  {
   "cell_type": "code",
   "execution_count": 11,
   "metadata": {},
   "outputs": [
    {
     "data": {
      "text/html": [
       "<div>\n",
       "<style scoped>\n",
       "    .dataframe tbody tr th:only-of-type {\n",
       "        vertical-align: middle;\n",
       "    }\n",
       "\n",
       "    .dataframe tbody tr th {\n",
       "        vertical-align: top;\n",
       "    }\n",
       "\n",
       "    .dataframe thead th {\n",
       "        text-align: right;\n",
       "    }\n",
       "</style>\n",
       "<table border=\"1\" class=\"dataframe\">\n",
       "  <thead>\n",
       "    <tr style=\"text-align: right;\">\n",
       "      <th></th>\n",
       "      <th>ID</th>\n",
       "      <th>LABEL</th>\n",
       "      <th>umls_type</th>\n",
       "      <th>umls_type_label</th>\n",
       "    </tr>\n",
       "  </thead>\n",
       "  <tbody>\n",
       "    <tr>\n",
       "      <th>0</th>\n",
       "      <td>C0007952</td>\n",
       "      <td>Personality Character</td>\n",
       "      <td>{T041}</td>\n",
       "      <td>{Mental Process}</td>\n",
       "    </tr>\n",
       "    <tr>\n",
       "      <th>1</th>\n",
       "      <td>C3574797</td>\n",
       "      <td>Pbunavirus</td>\n",
       "      <td>{T005}</td>\n",
       "      <td>{Virus}</td>\n",
       "    </tr>\n",
       "    <tr>\n",
       "      <th>2</th>\n",
       "      <td>C0948102</td>\n",
       "      <td>Salivary gland adenoma</td>\n",
       "      <td>{T191}</td>\n",
       "      <td>{Neoplastic Process}</td>\n",
       "    </tr>\n",
       "    <tr>\n",
       "      <th>3</th>\n",
       "      <td>C0210064</td>\n",
       "      <td>quinotolast</td>\n",
       "      <td>{T121, T109}</td>\n",
       "      <td>{Pharmacologic Substance, Organic Chemical}</td>\n",
       "    </tr>\n",
       "    <tr>\n",
       "      <th>4</th>\n",
       "      <td>C1008523</td>\n",
       "      <td>Silene viscosa</td>\n",
       "      <td>{T002}</td>\n",
       "      <td>{Plant}</td>\n",
       "    </tr>\n",
       "  </tbody>\n",
       "</table>\n",
       "</div>"
      ],
      "text/plain": [
       "         ID                   LABEL     umls_type  \\\n",
       "0  C0007952   Personality Character        {T041}   \n",
       "1  C3574797              Pbunavirus        {T005}   \n",
       "2  C0948102  Salivary gland adenoma        {T191}   \n",
       "3  C0210064             quinotolast  {T121, T109}   \n",
       "4  C1008523          Silene viscosa        {T002}   \n",
       "\n",
       "                               umls_type_label  \n",
       "0                             {Mental Process}  \n",
       "1                                      {Virus}  \n",
       "2                         {Neoplastic Process}  \n",
       "3  {Pharmacologic Substance, Organic Chemical}  \n",
       "4                                      {Plant}  "
      ]
     },
     "execution_count": 11,
     "metadata": {},
     "output_type": "execute_result"
    }
   ],
   "source": [
    "nodes.head()"
   ]
  },
  {
   "cell_type": "code",
   "execution_count": 12,
   "metadata": {},
   "outputs": [
    {
     "name": "stdout",
     "output_type": "stream",
     "text": [
      "311175\n",
      "311175\n"
     ]
    }
   ],
   "source": [
    "# toss those with no umls types\n",
    "print(len(nodes))\n",
    "nodes.dropna(subset=['umls_type'], inplace=True)\n",
    "print(len(nodes))"
   ]
  },
  {
   "cell_type": "code",
   "execution_count": 13,
   "metadata": {},
   "outputs": [
    {
     "data": {
      "text/plain": [
       "{'NamedThing': {'Entity'},\n",
       " 'OrganismTaxon': {'Amphibian',\n",
       "  'Animal',\n",
       "  'Archaeon',\n",
       "  'Bacterium',\n",
       "  'Bird',\n",
       "  'Eukaryote',\n",
       "  'Fish',\n",
       "  'Fungus',\n",
       "  'Human',\n",
       "  'Mammal',\n",
       "  'Plant',\n",
       "  'Reptile',\n",
       "  'Vertebrate',\n",
       "  'Virus'},\n",
       " 'Agent': {'Group',\n",
       "  'Health Care Related Organization',\n",
       "  'Organization',\n",
       "  'Professional Society',\n",
       "  'Self-help or Relief Organization'},\n",
       " 'Event': {'Event'},\n",
       " 'InformationContentEntity': {'Classification',\n",
       "  'Conceptual Entity',\n",
       "  'Functional Concept',\n",
       "  'Group Attribute',\n",
       "  'Idea or Concept',\n",
       "  'Language',\n",
       "  'Qualitative Concept',\n",
       "  'Quantitative Concept',\n",
       "  'Regulation or Law',\n",
       "  'Spatial Concept',\n",
       "  'Temporal Concept'},\n",
       " 'Publication': {'Intellectual Product'},\n",
       " 'PhysicalEntity': {'Manufactured Object', 'Physical Object'},\n",
       " 'Activity': {'Activity',\n",
       "  'Daily or Recreational Activity',\n",
       "  'Educational Activity',\n",
       "  'Governmental or Regulatory Activity',\n",
       "  'Health Care Activity',\n",
       "  'Machine Activity',\n",
       "  'Occupational Activity',\n",
       "  'Research Activity'},\n",
       " 'Procedure': {'Diagnostic Procedure',\n",
       "  'Laboratory Procedure',\n",
       "  'Molecular Biology Research Technique',\n",
       "  'Therapeutic or Preventive Procedure'},\n",
       " 'Phenomenon': {'Biologic Function',\n",
       "  'Environmental Effect of Humans',\n",
       "  'Human-caused Phenomenon or Process',\n",
       "  'Laboratory or Test Result',\n",
       "  'Natural Phenomenon or Process',\n",
       "  'Phenomena',\n",
       "  'Phenomenon or Process'},\n",
       " 'Device': {'Biomedical or Dental Material',\n",
       "  'Devices',\n",
       "  'Drug Delivery Device',\n",
       "  'Medical Device',\n",
       "  'Research Device'},\n",
       " 'GeographicLocation': {'Geographic Area'},\n",
       " 'BiologicalEntity': {'Experimental Model of Disease'},\n",
       " 'MolecularEntity': {'Biologically Active Substance',\n",
       "  'Carbohydrate',\n",
       "  'Chemical Viewed Functionally',\n",
       "  'Chemical Viewed Structurally',\n",
       "  'Inorganic Chemical',\n",
       "  'Molecular Sequence',\n",
       "  'Organic Chemical'},\n",
       " 'ChemicalMixture': {'Chemical'},\n",
       " 'ComplexMolecularMixture': {'Substance'},\n",
       " 'ProcessedMaterial': {'Indicator, Reagent, or Diagnostic Aid'},\n",
       " 'SmallMolecule': {'Eicosanoid',\n",
       "  'Element, Ion, or Isotope',\n",
       "  'Hormone',\n",
       "  'Immunologic Factor'},\n",
       " 'NucleicAcidEntity': {'Gene or Genome',\n",
       "  'Nucleic Acid, Nucleoside, or Nucleotide',\n",
       "  'Nucleotide Sequence'},\n",
       " 'MolecularActivity': {'Molecular Function'},\n",
       " 'PhysiologicalProcess': {'Cell Function',\n",
       "  'Genetic Function',\n",
       "  'Organ or Tissue Function',\n",
       "  'Organism Function',\n",
       "  'Physiologic Function'},\n",
       " 'Behavior': {'Behavior',\n",
       "  'Individual Behavior',\n",
       "  'Mental Process',\n",
       "  'Social Behavior'},\n",
       " 'Drug': {'Antibiotic', 'Clinical Drug', 'Pharmacologic Substance'},\n",
       " 'Vitamin': {'Vitamin'},\n",
       " 'Food': {'Food'},\n",
       " 'IndividualOrganism': {'Organism'},\n",
       " 'PopulationOfIndividualOrganisms': {'Population Group'},\n",
       " 'DiseaseOrPhenotypicFeature': {'Finding'},\n",
       " 'Disease': {'Acquired Abnormality',\n",
       "  'Anatomical Abnormality',\n",
       "  'Cell or Molecular Dysfunction',\n",
       "  'Congenital Abnormality',\n",
       "  'Disease or Syndrome',\n",
       "  'Injury or Poisoning',\n",
       "  'Mental or Behavioral Dysfunction',\n",
       "  'Neoplastic Process',\n",
       "  'Pathologic Function'},\n",
       " 'PhenotypicFeature': {'Clinical Attribute',\n",
       "  'Organism Attribute',\n",
       "  'Sign or Symptom'},\n",
       " 'AnatomicalEntity': {'Body Location or Region',\n",
       "  'Body Space or Junction',\n",
       "  'Body Substance',\n",
       "  'Body System'},\n",
       " 'CellularComponent': {'cell component'},\n",
       " 'Cell': {'cell'},\n",
       " 'GrossAnatomicalStructure': {'Anatomical Structure',\n",
       "  'Body Part, Organ, or Organ Component',\n",
       "  'Embryonic Structure',\n",
       "  'Fully Formed Anatomical Structure',\n",
       "  'Tissue'},\n",
       " 'Polypeptide': {'Amino Acid Sequence', 'Amino Acid, Peptide, or Protein'},\n",
       " 'Protein': {'Enzyme', 'Receptor'},\n",
       " 'Cohort': {'Age Group',\n",
       "  'Family Group',\n",
       "  'Patient or Disabled Group',\n",
       "  'Professional or Occupational Group'}}"
      ]
     },
     "execution_count": 13,
     "metadata": {},
     "output_type": "execute_result"
    }
   ],
   "source": [
    "import json\n",
    "# TODO: this could be directly generated from *_mapping in the Biolink Model using the Biolink Model Toolkit\n",
    "# TODO: The Biolink Model mappings need to be validated again against the 2018 release of the semantic types & groups?\n",
    "# TODO: are any semantics types  mapped  against cateogry mixins? maybe won't be picked up in that case?\n",
    "blm_to_umls = json.load(open(\"blm_to_umls_nodes.json\"))\n",
    "blm_to_umls = {k:set(v) for k,v in blm_to_umls.items()}\n",
    "blm_to_umls"
   ]
  },
  {
   "cell_type": "code",
   "execution_count": 14,
   "metadata": {},
   "outputs": [],
   "source": [
    "# Checkpoint for duplicate category mappings\n",
    "umls_to_blm_check = defaultdict(set)\n",
    "umls_to_blm = dict()\n",
    "for k,vv in blm_to_umls.items():\n",
    "    for v in vv:\n",
    "        umls_to_blm_check[v.lower()].add(k)\n",
    "        umls_to_blm[v.lower()] = k\n",
    "assert set(len(x) for x in umls_to_blm_check.values()) == {1}\n",
    "# umls_to_blm"
   ]
  },
  {
   "cell_type": "code",
   "execution_count": 15,
   "metadata": {},
   "outputs": [
    {
     "data": {
      "text/html": [
       "<div>\n",
       "<style scoped>\n",
       "    .dataframe tbody tr th:only-of-type {\n",
       "        vertical-align: middle;\n",
       "    }\n",
       "\n",
       "    .dataframe tbody tr th {\n",
       "        vertical-align: top;\n",
       "    }\n",
       "\n",
       "    .dataframe thead th {\n",
       "        text-align: right;\n",
       "    }\n",
       "</style>\n",
       "<table border=\"1\" class=\"dataframe\">\n",
       "  <thead>\n",
       "    <tr style=\"text-align: right;\">\n",
       "      <th></th>\n",
       "      <th>ID</th>\n",
       "      <th>LABEL</th>\n",
       "      <th>umls_type</th>\n",
       "      <th>umls_type_label</th>\n",
       "      <th>blm_category</th>\n",
       "    </tr>\n",
       "  </thead>\n",
       "  <tbody>\n",
       "    <tr>\n",
       "      <th>0</th>\n",
       "      <td>C0007952</td>\n",
       "      <td>Personality Character</td>\n",
       "      <td>{T041}</td>\n",
       "      <td>{Mental Process}</td>\n",
       "      <td>{Behavior}</td>\n",
       "    </tr>\n",
       "    <tr>\n",
       "      <th>1</th>\n",
       "      <td>C3574797</td>\n",
       "      <td>Pbunavirus</td>\n",
       "      <td>{T005}</td>\n",
       "      <td>{Virus}</td>\n",
       "      <td>{OrganismTaxon}</td>\n",
       "    </tr>\n",
       "    <tr>\n",
       "      <th>2</th>\n",
       "      <td>C0948102</td>\n",
       "      <td>Salivary gland adenoma</td>\n",
       "      <td>{T191}</td>\n",
       "      <td>{Neoplastic Process}</td>\n",
       "      <td>{Disease}</td>\n",
       "    </tr>\n",
       "    <tr>\n",
       "      <th>3</th>\n",
       "      <td>C0210064</td>\n",
       "      <td>quinotolast</td>\n",
       "      <td>{T121, T109}</td>\n",
       "      <td>{Pharmacologic Substance, Organic Chemical}</td>\n",
       "      <td>{MolecularEntity, Drug}</td>\n",
       "    </tr>\n",
       "    <tr>\n",
       "      <th>4</th>\n",
       "      <td>C1008523</td>\n",
       "      <td>Silene viscosa</td>\n",
       "      <td>{T002}</td>\n",
       "      <td>{Plant}</td>\n",
       "      <td>{OrganismTaxon}</td>\n",
       "    </tr>\n",
       "  </tbody>\n",
       "</table>\n",
       "</div>"
      ],
      "text/plain": [
       "         ID                   LABEL     umls_type  \\\n",
       "0  C0007952   Personality Character        {T041}   \n",
       "1  C3574797              Pbunavirus        {T005}   \n",
       "2  C0948102  Salivary gland adenoma        {T191}   \n",
       "3  C0210064             quinotolast  {T121, T109}   \n",
       "4  C1008523          Silene viscosa        {T002}   \n",
       "\n",
       "                               umls_type_label             blm_category  \n",
       "0                             {Mental Process}               {Behavior}  \n",
       "1                                      {Virus}          {OrganismTaxon}  \n",
       "2                         {Neoplastic Process}                {Disease}  \n",
       "3  {Pharmacologic Substance, Organic Chemical}  {MolecularEntity, Drug}  \n",
       "4                                      {Plant}          {OrganismTaxon}  "
      ]
     },
     "execution_count": 15,
     "metadata": {},
     "output_type": "execute_result"
    }
   ],
   "source": [
    "nodes['blm_category'] = nodes.umls_type_label.map(lambda x: {umls_to_blm.get(xx.lower()) for xx in x})\n",
    "nodes.blm_category = nodes.blm_category.map(lambda v: {x for x in v if x})\n",
    "nodes.blm_category = nodes.blm_category.map(lambda v: v if v else nan)\n",
    "# drop nodes unmapped to at least one concept BLM category\n",
    "nodes.dropna(subset=['blm_category'], inplace=True)\n",
    "nodes.head()"
   ]
  },
  {
   "cell_type": "code",
   "execution_count": 16,
   "metadata": {},
   "outputs": [
    {
     "data": {
      "text/html": [
       "<div>\n",
       "<style scoped>\n",
       "    .dataframe tbody tr th:only-of-type {\n",
       "        vertical-align: middle;\n",
       "    }\n",
       "\n",
       "    .dataframe tbody tr th {\n",
       "        vertical-align: top;\n",
       "    }\n",
       "\n",
       "    .dataframe thead th {\n",
       "        text-align: right;\n",
       "    }\n",
       "</style>\n",
       "<table border=\"1\" class=\"dataframe\">\n",
       "  <thead>\n",
       "    <tr style=\"text-align: right;\">\n",
       "      <th></th>\n",
       "      <th>ID</th>\n",
       "      <th>LABEL</th>\n",
       "      <th>umls_type</th>\n",
       "      <th>umls_type_label</th>\n",
       "      <th>blm_category</th>\n",
       "    </tr>\n",
       "  </thead>\n",
       "  <tbody>\n",
       "    <tr>\n",
       "      <th>54669</th>\n",
       "      <td>C0079904</td>\n",
       "      <td>NF-kappa B</td>\n",
       "      <td>{T116, T129}</td>\n",
       "      <td>{Amino Acid, Peptide, or Protein, Immunologic Factor}</td>\n",
       "      <td>{Polypeptide, SmallMolecule}</td>\n",
       "    </tr>\n",
       "    <tr>\n",
       "      <th>229641</th>\n",
       "      <td>C0006875</td>\n",
       "      <td>Cannibalism</td>\n",
       "      <td>{T054}</td>\n",
       "      <td>{Social Behavior}</td>\n",
       "      <td>{Behavior}</td>\n",
       "    </tr>\n",
       "    <tr>\n",
       "      <th>313240</th>\n",
       "      <td>C0879593</td>\n",
       "      <td>therapeutic autologous dendritic cells</td>\n",
       "      <td>{T121, T025}</td>\n",
       "      <td>{Pharmacologic Substance, Cell}</td>\n",
       "      <td>{Drug, Cell}</td>\n",
       "    </tr>\n",
       "  </tbody>\n",
       "</table>\n",
       "</div>"
      ],
      "text/plain": [
       "              ID                                   LABEL     umls_type  \\\n",
       "54669   C0079904                              NF-kappa B  {T116, T129}   \n",
       "229641  C0006875                             Cannibalism        {T054}   \n",
       "313240  C0879593  therapeutic autologous dendritic cells  {T121, T025}   \n",
       "\n",
       "                                              umls_type_label  \\\n",
       "54669   {Amino Acid, Peptide, or Protein, Immunologic Factor}   \n",
       "229641                                      {Social Behavior}   \n",
       "313240                        {Pharmacologic Substance, Cell}   \n",
       "\n",
       "                        blm_category  \n",
       "54669   {Polypeptide, SmallMolecule}  \n",
       "229641                    {Behavior}  \n",
       "313240                  {Drug, Cell}  "
      ]
     },
     "execution_count": 16,
     "metadata": {},
     "output_type": "execute_result"
    }
   ],
   "source": [
    "nodes[nodes.ID.isin({\"C0079904\", \"C0879593\", \"C0006875\"})]"
   ]
  },
  {
   "cell_type": "code",
   "execution_count": 17,
   "metadata": {},
   "outputs": [
    {
     "data": {
      "text/plain": [
       "(MolecularEntity, Drug)               32433\n",
       "(Polypeptide, Protein)                10620\n",
       "(MolecularEntity, Polypeptide)         8735\n",
       "(Polypeptide, Drug)                    3088\n",
       "(Polypeptide, SmallMolecule)           2731\n",
       "                                      ...  \n",
       "(Food, Drug)                              1\n",
       "(Vitamin, Drug, NucleicAcidEntity)        1\n",
       "(Device, Publication)                     1\n",
       "(Drug, Protein)                           1\n",
       "(Vitamin, NucleicAcidEntity)              1\n",
       "Name: blm_category, Length: 62, dtype: int64"
      ]
     },
     "execution_count": 17,
     "metadata": {},
     "output_type": "execute_result"
    }
   ],
   "source": [
    "# the only nodes with two types:\n",
    "nodes[nodes.blm_category.map(len)>1].blm_category.map(frozenset).value_counts()"
   ]
  },
  {
   "cell_type": "code",
   "execution_count": 18,
   "metadata": {},
   "outputs": [
    {
     "data": {
      "text/plain": [
       "[(frozenset({'Organic Chemical', 'Pharmacologic Substance'}), 29601),\n",
       " (frozenset({'Amino Acid, Peptide, or Protein', 'Enzyme'}), 8918),\n",
       " (frozenset({'Amino Acid, Peptide, or Protein',\n",
       "             'Biologically Active Substance'}),\n",
       "  8478),\n",
       " (frozenset({'Amino Acid, Peptide, or Protein', 'Pharmacologic Substance'}),\n",
       "  2840),\n",
       " (frozenset({'Amino Acid, Peptide, or Protein', 'Immunologic Factor'}), 2513),\n",
       " (frozenset({'Indicator, Reagent, or Diagnostic Aid', 'Organic Chemical'}),\n",
       "  1787),\n",
       " (frozenset({'Amino Acid, Peptide, or Protein', 'Receptor'}), 1566),\n",
       " (frozenset({'Antibiotic', 'Organic Chemical'}), 1330),\n",
       " (frozenset({'Amino Acid, Peptide, or Protein',\n",
       "             'Immunologic Factor',\n",
       "             'Pharmacologic Substance'}),\n",
       "  1042),\n",
       " (frozenset({'Nucleic Acid, Nucleoside, or Nucleotide',\n",
       "             'Pharmacologic Substance'}),\n",
       "  933)]"
      ]
     },
     "execution_count": 18,
     "metadata": {},
     "output_type": "execute_result"
    }
   ],
   "source": [
    "# within the nodes with more than 1 blm types:\n",
    "# what are the most common umls types\n",
    "nodes2 = nodes[nodes.blm_category.map(len)>1]\n",
    "Counter(nodes2[nodes2.umls_type_label.map(len)>1].umls_type_label.map(frozenset)).most_common(10)"
   ]
  },
  {
   "cell_type": "code",
   "execution_count": 19,
   "metadata": {},
   "outputs": [],
   "source": [
    "nodes.loc[nodes.blm_category == {'Protein', 'ChemicalSubstance'}, \"blm_category\"] = {\"Protein\"}\n",
    "nodes.loc[nodes.blm_category == {'Cell', 'ChemicalSubstance'}, \"blm_category\"] = {\"Cell\"}\n",
    "nodes.loc[nodes.blm_category == {'GenomicEntity', 'ChemicalSubstance'}, \"blm_category\"] = {\"GenomicEntity\"}\n",
    "nodes.blm_category = nodes.blm_category.map(lambda x:list(x)[0])"
   ]
  },
  {
   "cell_type": "code",
   "execution_count": 20,
   "metadata": {},
   "outputs": [
    {
     "data": {
      "text/html": [
       "<div>\n",
       "<style scoped>\n",
       "    .dataframe tbody tr th:only-of-type {\n",
       "        vertical-align: middle;\n",
       "    }\n",
       "\n",
       "    .dataframe tbody tr th {\n",
       "        vertical-align: top;\n",
       "    }\n",
       "\n",
       "    .dataframe thead th {\n",
       "        text-align: right;\n",
       "    }\n",
       "</style>\n",
       "<table border=\"1\" class=\"dataframe\">\n",
       "  <thead>\n",
       "    <tr style=\"text-align: right;\">\n",
       "      <th></th>\n",
       "      <th>ID</th>\n",
       "      <th>LABEL</th>\n",
       "      <th>umls_type</th>\n",
       "      <th>umls_type_label</th>\n",
       "      <th>blm_category</th>\n",
       "    </tr>\n",
       "  </thead>\n",
       "  <tbody>\n",
       "    <tr>\n",
       "      <th>54669</th>\n",
       "      <td>C0079904</td>\n",
       "      <td>NF-kappa B</td>\n",
       "      <td>{T116, T129}</td>\n",
       "      <td>{Amino Acid, Peptide, or Protein, Immunologic Factor}</td>\n",
       "      <td>Polypeptide</td>\n",
       "    </tr>\n",
       "    <tr>\n",
       "      <th>229641</th>\n",
       "      <td>C0006875</td>\n",
       "      <td>Cannibalism</td>\n",
       "      <td>{T054}</td>\n",
       "      <td>{Social Behavior}</td>\n",
       "      <td>Behavior</td>\n",
       "    </tr>\n",
       "    <tr>\n",
       "      <th>313240</th>\n",
       "      <td>C0879593</td>\n",
       "      <td>therapeutic autologous dendritic cells</td>\n",
       "      <td>{T121, T025}</td>\n",
       "      <td>{Pharmacologic Substance, Cell}</td>\n",
       "      <td>Drug</td>\n",
       "    </tr>\n",
       "  </tbody>\n",
       "</table>\n",
       "</div>"
      ],
      "text/plain": [
       "              ID                                   LABEL     umls_type  \\\n",
       "54669   C0079904                              NF-kappa B  {T116, T129}   \n",
       "229641  C0006875                             Cannibalism        {T054}   \n",
       "313240  C0879593  therapeutic autologous dendritic cells  {T121, T025}   \n",
       "\n",
       "                                              umls_type_label blm_category  \n",
       "54669   {Amino Acid, Peptide, or Protein, Immunologic Factor}  Polypeptide  \n",
       "229641                                      {Social Behavior}     Behavior  \n",
       "313240                        {Pharmacologic Substance, Cell}         Drug  "
      ]
     },
     "execution_count": 20,
     "metadata": {},
     "output_type": "execute_result"
    }
   ],
   "source": [
    "nodes[nodes.ID.isin({\"C0079904\", \"C0879593\", \"C0006875\"})]"
   ]
  },
  {
   "cell_type": "code",
   "execution_count": 21,
   "metadata": {},
   "outputs": [
    {
     "data": {
      "text/plain": [
       "(Finding)    15193\n",
       "Name: umls_type_label, dtype: int64"
      ]
     },
     "execution_count": 21,
     "metadata": {},
     "output_type": "execute_result"
    }
   ],
   "source": [
    "nodes[nodes.blm_category==\"DiseaseOrPhenotypicFeature\"].umls_type_label.map(frozenset).value_counts()"
   ]
  },
  {
   "cell_type": "code",
   "execution_count": 22,
   "metadata": {},
   "outputs": [
    {
     "data": {
      "text/plain": [
       "MolecularEntity                    70450\n",
       "OrganismTaxon                      51914\n",
       "Disease                            38678\n",
       "NucleicAcidEntity                  27221\n",
       "Polypeptide                        24575\n",
       "Procedure                          18001\n",
       "DiseaseOrPhenotypicFeature         15193\n",
       "GrossAnatomicalStructure           10949\n",
       "Drug                                6899\n",
       "Device                              6250\n",
       "PhysiologicalProcess                6043\n",
       "MolecularActivity                   5017\n",
       "AnatomicalEntity                    3568\n",
       "Activity                            3274\n",
       "PhenotypicFeature                   3017\n",
       "InformationContentEntity            2893\n",
       "CellularComponent                   2549\n",
       "Cohort                              1938\n",
       "Phenomenon                          1684\n",
       "Behavior                            1623\n",
       "Cell                                1567\n",
       "SmallMolecule                       1449\n",
       "Agent                               1171\n",
       "PhysicalEntity                      1056\n",
       "Food                                 891\n",
       "PopulationOfIndividualOrganisms      774\n",
       "GeographicLocation                   428\n",
       "Publication                          416\n",
       "ProcessedMaterial                    347\n",
       "ComplexMolecularMixture              165\n",
       "IndividualOrganism                    79\n",
       "BiologicalEntity                      67\n",
       "Protein                               51\n",
       "Vitamin                               44\n",
       "ChemicalMixture                       12\n",
       "Event                                 10\n",
       "NamedThing                             1\n",
       "Name: blm_category, dtype: int64"
      ]
     },
     "execution_count": 22,
     "metadata": {},
     "output_type": "execute_result"
    }
   ],
   "source": [
    "nodes.blm_category.value_counts()"
   ]
  },
  {
   "cell_type": "markdown",
   "metadata": {},
   "source": [
    "## Here we continue our processing by merging UMLS and BLM label array sets into piped strings"
   ]
  },
  {
   "cell_type": "code",
   "execution_count": 23,
   "metadata": {},
   "outputs": [],
   "source": [
    "nodes.umls_type_label = nodes.umls_type_label.apply(\"|\".join)\n",
    "nodes.umls_type = nodes.umls_type.apply(\"|\".join)"
   ]
  },
  {
   "cell_type": "code",
   "execution_count": 24,
   "metadata": {},
   "outputs": [
    {
     "data": {
      "text/html": [
       "<div>\n",
       "<style scoped>\n",
       "    .dataframe tbody tr th:only-of-type {\n",
       "        vertical-align: middle;\n",
       "    }\n",
       "\n",
       "    .dataframe tbody tr th {\n",
       "        vertical-align: top;\n",
       "    }\n",
       "\n",
       "    .dataframe thead th {\n",
       "        text-align: right;\n",
       "    }\n",
       "</style>\n",
       "<table border=\"1\" class=\"dataframe\">\n",
       "  <thead>\n",
       "    <tr style=\"text-align: right;\">\n",
       "      <th></th>\n",
       "      <th>ID</th>\n",
       "      <th>LABEL</th>\n",
       "      <th>umls_type</th>\n",
       "      <th>umls_type_label</th>\n",
       "      <th>blm_category</th>\n",
       "    </tr>\n",
       "  </thead>\n",
       "  <tbody>\n",
       "    <tr>\n",
       "      <th>54669</th>\n",
       "      <td>C0079904</td>\n",
       "      <td>NF-kappa B</td>\n",
       "      <td>T116|T129</td>\n",
       "      <td>Amino Acid, Peptide, or Protein|Immunologic Factor</td>\n",
       "      <td>Polypeptide</td>\n",
       "    </tr>\n",
       "    <tr>\n",
       "      <th>229641</th>\n",
       "      <td>C0006875</td>\n",
       "      <td>Cannibalism</td>\n",
       "      <td>T054</td>\n",
       "      <td>Social Behavior</td>\n",
       "      <td>Behavior</td>\n",
       "    </tr>\n",
       "    <tr>\n",
       "      <th>313240</th>\n",
       "      <td>C0879593</td>\n",
       "      <td>therapeutic autologous dendritic cells</td>\n",
       "      <td>T121|T025</td>\n",
       "      <td>Pharmacologic Substance|Cell</td>\n",
       "      <td>Drug</td>\n",
       "    </tr>\n",
       "  </tbody>\n",
       "</table>\n",
       "</div>"
      ],
      "text/plain": [
       "              ID                                   LABEL  umls_type  \\\n",
       "54669   C0079904                              NF-kappa B  T116|T129   \n",
       "229641  C0006875                             Cannibalism       T054   \n",
       "313240  C0879593  therapeutic autologous dendritic cells  T121|T025   \n",
       "\n",
       "                                           umls_type_label blm_category  \n",
       "54669   Amino Acid, Peptide, or Protein|Immunologic Factor  Polypeptide  \n",
       "229641                                     Social Behavior     Behavior  \n",
       "313240                        Pharmacologic Substance|Cell         Drug  "
      ]
     },
     "execution_count": 24,
     "metadata": {},
     "output_type": "execute_result"
    }
   ],
   "source": [
    "nodes[nodes.ID.isin({\"C0079904\", \"C0879593\", \"C0006875\", \"C0815111\"})]"
   ]
  },
  {
   "cell_type": "code",
   "execution_count": 25,
   "metadata": {},
   "outputs": [],
   "source": [
    "nodes.to_csv(NODES_BLM_TSV, sep='\\t')"
   ]
  },
  {
   "cell_type": "code",
   "execution_count": null,
   "metadata": {},
   "outputs": [],
   "source": []
  }
 ],
 "metadata": {
  "kernelspec": {
   "display_name": "Python 3",
   "language": "python",
   "name": "python3"
  },
  "language_info": {
   "codemirror_mode": {
    "name": "ipython",
    "version": 3
   },
   "file_extension": ".py",
   "mimetype": "text/x-python",
   "name": "python",
   "nbconvert_exporter": "python",
   "pygments_lexer": "ipython3",
   "version": "3.8.1"
  }
 },
 "nbformat": 4,
 "nbformat_minor": 4
}
