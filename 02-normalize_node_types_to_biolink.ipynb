{
 "cells": [
  {
   "cell_type": "markdown",
   "metadata": {},
   "source": [
    "# 02-normalize_node_types_to_biolink\n",
    "- For each node, get the UMLS semantic type for each umls cui\n",
    "(get types from the UMLS mapping file: MRSTY.RRF)\n",
    "- Map umls semantic types to Biolink concept node category (blm_to_umls_nodes.json)\n",
    "- Nodes with no matching Biolink type are removed\n",
    "- Multiple Biolink category mappings are now \"passed through\" as piped strings"
   ]
  },
  {
   "cell_type": "code",
   "execution_count": 1,
   "metadata": {},
   "outputs": [
    {
     "data": {
      "text/html": [
       "<style>.container { width:90% !important; }</style>"
      ],
      "text/plain": [
       "<IPython.core.display.HTML object>"
      ]
     },
     "metadata": {},
     "output_type": "display_data"
    }
   ],
   "source": [
    "import os\n",
    "import pickle\n",
    "%matplotlib inline\n",
    "import pandas as pd\n",
    "from numpy import nan\n",
    "import seaborn as sns\n",
    "import shelve\n",
    "from itertools import chain\n",
    "import re\n",
    "from collections import defaultdict, Counter\n",
    "from tqdm import tqdm\n",
    "import requests\n",
    "from IPython.core.display import display, HTML\n",
    "display(HTML(\"<style>.container { width:90% !important; }</style>\"))\n",
    "pd.options.display.max_colwidth = 80"
   ]
  },
  {
   "cell_type": "code",
   "execution_count": 2,
   "metadata": {},
   "outputs": [],
   "source": [
    "SEMGROUPS = \"https://metamap.nlm.nih.gov/Docs/SemGroups_2013.txt\"\n",
    "SEMTYPES = \"https://metamap.nlm.nih.gov/Docs/SemanticTypes_2013AA.txt\"\n",
    "DATA  = 'data/'\n",
    "UMLS  = DATA+\"2020AA-full/2020AA/META/\"\n",
    "MRSTY_ARCHIVE = UMLS+\"MRSTY.RRF.gz\"\n",
    "NODES1_CSV = DATA+\"nodes1.csv\"\n",
    "NODES_BLM_CSV = DATA+\"nodes_blm.csv\""
   ]
  },
  {
   "cell_type": "code",
   "execution_count": 3,
   "metadata": {},
   "outputs": [
    {
     "data": {
      "text/html": [
       "<div>\n",
       "<style scoped>\n",
       "    .dataframe tbody tr th:only-of-type {\n",
       "        vertical-align: middle;\n",
       "    }\n",
       "\n",
       "    .dataframe tbody tr th {\n",
       "        vertical-align: top;\n",
       "    }\n",
       "\n",
       "    .dataframe thead th {\n",
       "        text-align: right;\n",
       "    }\n",
       "</style>\n",
       "<table border=\"1\" class=\"dataframe\">\n",
       "  <thead>\n",
       "    <tr style=\"text-align: right;\">\n",
       "      <th></th>\n",
       "      <th>abv</th>\n",
       "      <th>group</th>\n",
       "      <th>id</th>\n",
       "      <th>label</th>\n",
       "    </tr>\n",
       "  </thead>\n",
       "  <tbody>\n",
       "    <tr>\n",
       "      <th>0</th>\n",
       "      <td>ACTI</td>\n",
       "      <td>Activities &amp; Behaviors</td>\n",
       "      <td>T052</td>\n",
       "      <td>Activity</td>\n",
       "    </tr>\n",
       "    <tr>\n",
       "      <th>1</th>\n",
       "      <td>ACTI</td>\n",
       "      <td>Activities &amp; Behaviors</td>\n",
       "      <td>T053</td>\n",
       "      <td>Behavior</td>\n",
       "    </tr>\n",
       "    <tr>\n",
       "      <th>2</th>\n",
       "      <td>ACTI</td>\n",
       "      <td>Activities &amp; Behaviors</td>\n",
       "      <td>T056</td>\n",
       "      <td>Daily or Recreational Activity</td>\n",
       "    </tr>\n",
       "    <tr>\n",
       "      <th>3</th>\n",
       "      <td>ACTI</td>\n",
       "      <td>Activities &amp; Behaviors</td>\n",
       "      <td>T051</td>\n",
       "      <td>Event</td>\n",
       "    </tr>\n",
       "    <tr>\n",
       "      <th>4</th>\n",
       "      <td>ACTI</td>\n",
       "      <td>Activities &amp; Behaviors</td>\n",
       "      <td>T064</td>\n",
       "      <td>Governmental or Regulatory Activity</td>\n",
       "    </tr>\n",
       "  </tbody>\n",
       "</table>\n",
       "</div>"
      ],
      "text/plain": [
       "    abv                   group    id                                label\n",
       "0  ACTI  Activities & Behaviors  T052                             Activity\n",
       "1  ACTI  Activities & Behaviors  T053                             Behavior\n",
       "2  ACTI  Activities & Behaviors  T056       Daily or Recreational Activity\n",
       "3  ACTI  Activities & Behaviors  T051                                Event\n",
       "4  ACTI  Activities & Behaviors  T064  Governmental or Regulatory Activity"
      ]
     },
     "execution_count": 3,
     "metadata": {},
     "output_type": "execute_result"
    }
   ],
   "source": [
    "groups = pd.read_csv(SEMGROUPS, sep=\"|\", names=['abv', 'group', 'id', 'label'])\n",
    "groups.head()"
   ]
  },
  {
   "cell_type": "code",
   "execution_count": 4,
   "metadata": {},
   "outputs": [
    {
     "name": "stdout",
     "output_type": "stream",
     "text": [
      "['Acquired Abnormality', 'Anatomical Abnormality', 'Cell or Molecular Dysfunction', 'Congenital Abnormality', 'Disease or Syndrome', 'Experimental Model of Disease', 'Finding', 'Injury or Poisoning', 'Mental or Behavioral Dysfunction', 'Neoplastic Process', 'Pathologic Function', 'Sign or Symptom']\n"
     ]
    }
   ],
   "source": [
    "print(sorted(list(groups.query(\"group == 'Disorders'\").label)))"
   ]
  },
  {
   "cell_type": "code",
   "execution_count": 5,
   "metadata": {},
   "outputs": [
    {
     "data": {
      "text/html": [
       "<div>\n",
       "<style scoped>\n",
       "    .dataframe tbody tr th:only-of-type {\n",
       "        vertical-align: middle;\n",
       "    }\n",
       "\n",
       "    .dataframe tbody tr th {\n",
       "        vertical-align: top;\n",
       "    }\n",
       "\n",
       "    .dataframe thead th {\n",
       "        text-align: right;\n",
       "    }\n",
       "</style>\n",
       "<table border=\"1\" class=\"dataframe\">\n",
       "  <thead>\n",
       "    <tr style=\"text-align: right;\">\n",
       "      <th></th>\n",
       "      <th>abv</th>\n",
       "      <th>ID</th>\n",
       "      <th>label</th>\n",
       "    </tr>\n",
       "  </thead>\n",
       "  <tbody>\n",
       "    <tr>\n",
       "      <th>0</th>\n",
       "      <td>aapp</td>\n",
       "      <td>T116</td>\n",
       "      <td>Amino Acid, Peptide, or Protein</td>\n",
       "    </tr>\n",
       "    <tr>\n",
       "      <th>1</th>\n",
       "      <td>acab</td>\n",
       "      <td>T020</td>\n",
       "      <td>Acquired Abnormality</td>\n",
       "    </tr>\n",
       "    <tr>\n",
       "      <th>2</th>\n",
       "      <td>acty</td>\n",
       "      <td>T052</td>\n",
       "      <td>Activity</td>\n",
       "    </tr>\n",
       "    <tr>\n",
       "      <th>3</th>\n",
       "      <td>aggp</td>\n",
       "      <td>T100</td>\n",
       "      <td>Age Group</td>\n",
       "    </tr>\n",
       "    <tr>\n",
       "      <th>4</th>\n",
       "      <td>amas</td>\n",
       "      <td>T087</td>\n",
       "      <td>Amino Acid Sequence</td>\n",
       "    </tr>\n",
       "  </tbody>\n",
       "</table>\n",
       "</div>"
      ],
      "text/plain": [
       "    abv    ID                            label\n",
       "0  aapp  T116  Amino Acid, Peptide, or Protein\n",
       "1  acab  T020             Acquired Abnormality\n",
       "2  acty  T052                         Activity\n",
       "3  aggp  T100                        Age Group\n",
       "4  amas  T087              Amino Acid Sequence"
      ]
     },
     "execution_count": 5,
     "metadata": {},
     "output_type": "execute_result"
    }
   ],
   "source": [
    "names = pd.read_csv(SEMTYPES, sep=\"|\", names=['abv', 'ID', 'label'])\n",
    "names.head()"
   ]
  },
  {
   "cell_type": "code",
   "execution_count": 6,
   "metadata": {},
   "outputs": [],
   "source": [
    "type_label = dict(zip(names.ID, names.label))"
   ]
  },
  {
   "cell_type": "code",
   "execution_count": 7,
   "metadata": {},
   "outputs": [
    {
     "data": {
      "text/html": [
       "<div>\n",
       "<style scoped>\n",
       "    .dataframe tbody tr th:only-of-type {\n",
       "        vertical-align: middle;\n",
       "    }\n",
       "\n",
       "    .dataframe tbody tr th {\n",
       "        vertical-align: top;\n",
       "    }\n",
       "\n",
       "    .dataframe thead th {\n",
       "        text-align: right;\n",
       "    }\n",
       "</style>\n",
       "<table border=\"1\" class=\"dataframe\">\n",
       "  <thead>\n",
       "    <tr style=\"text-align: right;\">\n",
       "      <th></th>\n",
       "      <th>ID</th>\n",
       "      <th>TYPE</th>\n",
       "    </tr>\n",
       "  </thead>\n",
       "  <tbody>\n",
       "    <tr>\n",
       "      <th>0</th>\n",
       "      <td>C0000005</td>\n",
       "      <td>T116</td>\n",
       "    </tr>\n",
       "    <tr>\n",
       "      <th>1</th>\n",
       "      <td>C0000005</td>\n",
       "      <td>T121</td>\n",
       "    </tr>\n",
       "    <tr>\n",
       "      <th>2</th>\n",
       "      <td>C0000005</td>\n",
       "      <td>T130</td>\n",
       "    </tr>\n",
       "    <tr>\n",
       "      <th>3</th>\n",
       "      <td>C0000039</td>\n",
       "      <td>T109</td>\n",
       "    </tr>\n",
       "    <tr>\n",
       "      <th>4</th>\n",
       "      <td>C0000039</td>\n",
       "      <td>T121</td>\n",
       "    </tr>\n",
       "  </tbody>\n",
       "</table>\n",
       "</div>"
      ],
      "text/plain": [
       "         ID  TYPE\n",
       "0  C0000005  T116\n",
       "1  C0000005  T121\n",
       "2  C0000005  T130\n",
       "3  C0000039  T109\n",
       "4  C0000039  T121"
      ]
     },
     "execution_count": 7,
     "metadata": {},
     "output_type": "execute_result"
    }
   ],
   "source": [
    "# See README regarding MRSTY_ARCHIVE\n",
    "df = pd.read_csv(MRSTY_ARCHIVE, sep=\"|\", names=['ID', 'TYPE', 'a', 'b', 'c', 'd'], index_col=False, usecols=['ID', 'TYPE'], dtype=str)\n",
    "df.head()"
   ]
  },
  {
   "cell_type": "code",
   "execution_count": 8,
   "metadata": {},
   "outputs": [],
   "source": [
    "id_type = df.groupby(\"ID\").TYPE.aggregate(set).to_dict()"
   ]
  },
  {
   "cell_type": "code",
   "execution_count": 9,
   "metadata": {},
   "outputs": [
    {
     "data": {
      "text/plain": [
       "{'Amino Acid, Peptide, or Protein',\n",
       " 'Indicator, Reagent, or Diagnostic Aid',\n",
       " 'Pharmacologic Substance'}"
      ]
     },
     "execution_count": 9,
     "metadata": {},
     "output_type": "execute_result"
    }
   ],
   "source": [
    "id_type_label = {k:{type_label.get(x) for x in v} for k,v in id_type.items()}\n",
    "id_type_label['C0000005']"
   ]
  },
  {
   "cell_type": "code",
   "execution_count": 28,
   "metadata": {},
   "outputs": [
    {
     "data": {
      "text/html": [
       "<div>\n",
       "<style scoped>\n",
       "    .dataframe tbody tr th:only-of-type {\n",
       "        vertical-align: middle;\n",
       "    }\n",
       "\n",
       "    .dataframe tbody tr th {\n",
       "        vertical-align: top;\n",
       "    }\n",
       "\n",
       "    .dataframe thead th {\n",
       "        text-align: right;\n",
       "    }\n",
       "</style>\n",
       "<table border=\"1\" class=\"dataframe\">\n",
       "  <thead>\n",
       "    <tr style=\"text-align: right;\">\n",
       "      <th></th>\n",
       "      <th>ID</th>\n",
       "      <th>LABEL</th>\n",
       "    </tr>\n",
       "  </thead>\n",
       "  <tbody>\n",
       "    <tr>\n",
       "      <th>0</th>\n",
       "      <td>C3842672</td>\n",
       "      <td>Day 7</td>\n",
       "    </tr>\n",
       "    <tr>\n",
       "      <th>1</th>\n",
       "      <td>C1002758</td>\n",
       "      <td>Brachypodium pinnatum</td>\n",
       "    </tr>\n",
       "    <tr>\n",
       "      <th>6</th>\n",
       "      <td>C0020684</td>\n",
       "      <td>Hypoxanthine</td>\n",
       "    </tr>\n",
       "    <tr>\n",
       "      <th>7</th>\n",
       "      <td>C0853225</td>\n",
       "      <td>INR Increased</td>\n",
       "    </tr>\n",
       "    <tr>\n",
       "      <th>8</th>\n",
       "      <td>C1513022</td>\n",
       "      <td>Mature Centriole</td>\n",
       "    </tr>\n",
       "  </tbody>\n",
       "</table>\n",
       "</div>"
      ],
      "text/plain": [
       "         ID                  LABEL\n",
       "0  C3842672                  Day 7\n",
       "1  C1002758  Brachypodium pinnatum\n",
       "6  C0020684           Hypoxanthine\n",
       "7  C0853225          INR Increased\n",
       "8  C1513022       Mature Centriole"
      ]
     },
     "execution_count": 28,
     "metadata": {},
     "output_type": "execute_result"
    }
   ],
   "source": [
    "nodes = pd.read_csv(NODES1_CSV, index_col=0)\n",
    "nodes.head()"
   ]
  },
  {
   "cell_type": "code",
   "execution_count": 29,
   "metadata": {},
   "outputs": [],
   "source": [
    "nodes['umls_type'] = nodes.ID.map(lambda x: id_type.get(x))\n",
    "nodes['umls_type_label'] = nodes.umls_type.map(lambda x:{type_label.get(y) for y in x} if x else None)"
   ]
  },
  {
   "cell_type": "code",
   "execution_count": 30,
   "metadata": {},
   "outputs": [
    {
     "data": {
      "text/html": [
       "<div>\n",
       "<style scoped>\n",
       "    .dataframe tbody tr th:only-of-type {\n",
       "        vertical-align: middle;\n",
       "    }\n",
       "\n",
       "    .dataframe tbody tr th {\n",
       "        vertical-align: top;\n",
       "    }\n",
       "\n",
       "    .dataframe thead th {\n",
       "        text-align: right;\n",
       "    }\n",
       "</style>\n",
       "<table border=\"1\" class=\"dataframe\">\n",
       "  <thead>\n",
       "    <tr style=\"text-align: right;\">\n",
       "      <th></th>\n",
       "      <th>ID</th>\n",
       "      <th>LABEL</th>\n",
       "      <th>umls_type</th>\n",
       "      <th>umls_type_label</th>\n",
       "    </tr>\n",
       "  </thead>\n",
       "  <tbody>\n",
       "    <tr>\n",
       "      <th>0</th>\n",
       "      <td>C3842672</td>\n",
       "      <td>Day 7</td>\n",
       "      <td>{T033}</td>\n",
       "      <td>{Finding}</td>\n",
       "    </tr>\n",
       "    <tr>\n",
       "      <th>1</th>\n",
       "      <td>C1002758</td>\n",
       "      <td>Brachypodium pinnatum</td>\n",
       "      <td>{T002}</td>\n",
       "      <td>{Plant}</td>\n",
       "    </tr>\n",
       "    <tr>\n",
       "      <th>6</th>\n",
       "      <td>C0020684</td>\n",
       "      <td>Hypoxanthine</td>\n",
       "      <td>{T123, T109}</td>\n",
       "      <td>{Biologically Active Substance, Organic Chemical}</td>\n",
       "    </tr>\n",
       "    <tr>\n",
       "      <th>7</th>\n",
       "      <td>C0853225</td>\n",
       "      <td>INR Increased</td>\n",
       "      <td>{T033}</td>\n",
       "      <td>{Finding}</td>\n",
       "    </tr>\n",
       "    <tr>\n",
       "      <th>8</th>\n",
       "      <td>C1513022</td>\n",
       "      <td>Mature Centriole</td>\n",
       "      <td>{T026}</td>\n",
       "      <td>{Cell Component}</td>\n",
       "    </tr>\n",
       "  </tbody>\n",
       "</table>\n",
       "</div>"
      ],
      "text/plain": [
       "         ID                  LABEL     umls_type  \\\n",
       "0  C3842672                  Day 7        {T033}   \n",
       "1  C1002758  Brachypodium pinnatum        {T002}   \n",
       "6  C0020684           Hypoxanthine  {T123, T109}   \n",
       "7  C0853225          INR Increased        {T033}   \n",
       "8  C1513022       Mature Centriole        {T026}   \n",
       "\n",
       "                                     umls_type_label  \n",
       "0                                          {Finding}  \n",
       "1                                            {Plant}  \n",
       "6  {Biologically Active Substance, Organic Chemical}  \n",
       "7                                          {Finding}  \n",
       "8                                   {Cell Component}  "
      ]
     },
     "execution_count": 30,
     "metadata": {},
     "output_type": "execute_result"
    }
   ],
   "source": [
    "nodes.head()"
   ]
  },
  {
   "cell_type": "code",
   "execution_count": 31,
   "metadata": {},
   "outputs": [
    {
     "name": "stdout",
     "output_type": "stream",
     "text": [
      "235430\n",
      "235430\n"
     ]
    }
   ],
   "source": [
    "# toss those with no umls types\n",
    "print(len(nodes))\n",
    "nodes.dropna(subset=['umls_type'], inplace=True)\n",
    "print(len(nodes))"
   ]
  },
  {
   "cell_type": "code",
   "execution_count": 32,
   "metadata": {},
   "outputs": [
    {
     "data": {
      "text/plain": [
       "{'gene': {'Gene or Genome'},\n",
       " 'protein': {'Amino Acid, Peptide, or Protein', 'Enzyme'},\n",
       " 'cell_component': {'cell component'},\n",
       " 'biological_process_or_activity': {'Biologic Function',\n",
       "  'Cell Function',\n",
       "  'Genetic Function',\n",
       "  'Mental Process',\n",
       "  'Molecular Function',\n",
       "  'Organ or Tissue Function',\n",
       "  'Organism Function'},\n",
       " 'cell': {'cell'},\n",
       " 'activity_and_behavior': {'Activity',\n",
       "  'Behavior',\n",
       "  'Daily or Recreational Activity',\n",
       "  'Individual Behavior',\n",
       "  'Occupational Activity',\n",
       "  'Social Behavior'},\n",
       " 'genomic_entity': {'Amino Acid Sequence', 'Nucleotide Sequence'},\n",
       " 'anatomical_entity': {'Body Location or Region',\n",
       "  'Body Space or Junction',\n",
       "  'Body Substance'},\n",
       " 'gross_anatomical_structure': {'Anatomical Structure',\n",
       "  'Body Part, Organ, or Organ Component',\n",
       "  'Body System',\n",
       "  'Embryonic Structure',\n",
       "  'Fully Formed Anatomical Structure',\n",
       "  'Tissue'},\n",
       " 'chemical_substance': {'Antibiotic',\n",
       "  'Biologically Active Substance',\n",
       "  'Biomedical or Dental Material',\n",
       "  'Carbohydrate',\n",
       "  'Chemical',\n",
       "  'Chemical Viewed Functionally',\n",
       "  'Chemical Viewed Structurally',\n",
       "  'Clinical Drug',\n",
       "  'Eicosanoid',\n",
       "  'Element, Ion, or Isotope',\n",
       "  'Hazardous or Poisonous Substance',\n",
       "  'Hormone',\n",
       "  'Immunologic Factor',\n",
       "  'Indicator, Reagent, or Diagnostic Aid',\n",
       "  'Inorganic Chemical',\n",
       "  'Lipid',\n",
       "  'Neuroreactive Substance or Biogenic Amine',\n",
       "  'Organic Chemical',\n",
       "  'Organophosphorus Compound',\n",
       "  'Pharmacologic Substance',\n",
       "  'Receptor',\n",
       "  'Steroid',\n",
       "  'Vitamin'},\n",
       " 'disease_or_phenotypic_feature': {'Acquired Abnormality',\n",
       "  'Anatomical Abnormality',\n",
       "  'Cell or Molecular Dysfunction',\n",
       "  'Congenital Abnormality',\n",
       "  'Disease or Syndrome',\n",
       "  'Experimental Model of Disease',\n",
       "  'Finding',\n",
       "  'Injury or Poisoning',\n",
       "  'Mental or Behavioral Dysfunction',\n",
       "  'Neoplastic Process',\n",
       "  'Pathologic Function',\n",
       "  'Sign or Symptom'},\n",
       " 'individual_organism': {'Living Beings'},\n",
       " 'phenotypic_feature': {'Laboratory or Test Result'},\n",
       " 'named_thing': {'Objects'}}"
      ]
     },
     "execution_count": 32,
     "metadata": {},
     "output_type": "execute_result"
    }
   ],
   "source": [
    "import json\n",
    "\n",
    "blm_to_umls = json.load(open(\"blm_to_umls_nodes.json\"))\n",
    "blm_to_umls = {k:set(v) for k,v in blm_to_umls.items()}\n",
    "blm_to_umls"
   ]
  },
  {
   "cell_type": "code",
   "execution_count": 33,
   "metadata": {},
   "outputs": [],
   "source": [
    "umls_to_blm_check = defaultdict(set)\n",
    "umls_to_blm = dict()\n",
    "for k,vv in blm_to_umls.items():\n",
    "    for v in vv:\n",
    "        umls_to_blm_check[v.lower()].add(k.lower())\n",
    "        umls_to_blm[v.lower()] = k.lower()\n",
    "assert set(len(x) for x in umls_to_blm_check.values()) == {1}\n",
    "# umls_to_blm"
   ]
  },
  {
   "cell_type": "code",
   "execution_count": 34,
   "metadata": {},
   "outputs": [
    {
     "data": {
      "text/html": [
       "<div>\n",
       "<style scoped>\n",
       "    .dataframe tbody tr th:only-of-type {\n",
       "        vertical-align: middle;\n",
       "    }\n",
       "\n",
       "    .dataframe tbody tr th {\n",
       "        vertical-align: top;\n",
       "    }\n",
       "\n",
       "    .dataframe thead th {\n",
       "        text-align: right;\n",
       "    }\n",
       "</style>\n",
       "<table border=\"1\" class=\"dataframe\">\n",
       "  <thead>\n",
       "    <tr style=\"text-align: right;\">\n",
       "      <th></th>\n",
       "      <th>ID</th>\n",
       "      <th>LABEL</th>\n",
       "      <th>umls_type</th>\n",
       "      <th>umls_type_label</th>\n",
       "      <th>blm_category</th>\n",
       "    </tr>\n",
       "  </thead>\n",
       "  <tbody>\n",
       "    <tr>\n",
       "      <th>0</th>\n",
       "      <td>C3842672</td>\n",
       "      <td>Day 7</td>\n",
       "      <td>{T033}</td>\n",
       "      <td>{Finding}</td>\n",
       "      <td>{disease_or_phenotypic_feature}</td>\n",
       "    </tr>\n",
       "    <tr>\n",
       "      <th>6</th>\n",
       "      <td>C0020684</td>\n",
       "      <td>Hypoxanthine</td>\n",
       "      <td>{T123, T109}</td>\n",
       "      <td>{Biologically Active Substance, Organic Chemical}</td>\n",
       "      <td>{chemical_substance}</td>\n",
       "    </tr>\n",
       "    <tr>\n",
       "      <th>7</th>\n",
       "      <td>C0853225</td>\n",
       "      <td>INR Increased</td>\n",
       "      <td>{T033}</td>\n",
       "      <td>{Finding}</td>\n",
       "      <td>{disease_or_phenotypic_feature}</td>\n",
       "    </tr>\n",
       "    <tr>\n",
       "      <th>8</th>\n",
       "      <td>C1513022</td>\n",
       "      <td>Mature Centriole</td>\n",
       "      <td>{T026}</td>\n",
       "      <td>{Cell Component}</td>\n",
       "      <td>{cell_component}</td>\n",
       "    </tr>\n",
       "    <tr>\n",
       "      <th>10</th>\n",
       "      <td>C0267183</td>\n",
       "      <td>Hourglass stricture or stenosis of stomach</td>\n",
       "      <td>{T047}</td>\n",
       "      <td>{Disease or Syndrome}</td>\n",
       "      <td>{disease_or_phenotypic_feature}</td>\n",
       "    </tr>\n",
       "  </tbody>\n",
       "</table>\n",
       "</div>"
      ],
      "text/plain": [
       "          ID                                       LABEL     umls_type  \\\n",
       "0   C3842672                                       Day 7        {T033}   \n",
       "6   C0020684                                Hypoxanthine  {T123, T109}   \n",
       "7   C0853225                               INR Increased        {T033}   \n",
       "8   C1513022                            Mature Centriole        {T026}   \n",
       "10  C0267183  Hourglass stricture or stenosis of stomach        {T047}   \n",
       "\n",
       "                                      umls_type_label  \\\n",
       "0                                           {Finding}   \n",
       "6   {Biologically Active Substance, Organic Chemical}   \n",
       "7                                           {Finding}   \n",
       "8                                    {Cell Component}   \n",
       "10                              {Disease or Syndrome}   \n",
       "\n",
       "                       blm_category  \n",
       "0   {disease_or_phenotypic_feature}  \n",
       "6              {chemical_substance}  \n",
       "7   {disease_or_phenotypic_feature}  \n",
       "8                  {cell_component}  \n",
       "10  {disease_or_phenotypic_feature}  "
      ]
     },
     "execution_count": 34,
     "metadata": {},
     "output_type": "execute_result"
    }
   ],
   "source": [
    "nodes['blm_category'] = nodes.umls_type_label.map(lambda x: {umls_to_blm.get(xx.lower()) for xx in x})\n",
    "nodes.blm_category = nodes.blm_category.map(lambda v: {x for x in v if x})\n",
    "nodes.blm_category = nodes.blm_category.map(lambda v: v if v else nan)\n",
    "# drop nodes unmapped to at least one concept BLM category\n",
    "nodes.dropna(subset=['blm_category'], inplace=True)\n",
    "nodes.head()"
   ]
  },
  {
   "cell_type": "code",
   "execution_count": 35,
   "metadata": {},
   "outputs": [
    {
     "data": {
      "text/html": [
       "<div>\n",
       "<style scoped>\n",
       "    .dataframe tbody tr th:only-of-type {\n",
       "        vertical-align: middle;\n",
       "    }\n",
       "\n",
       "    .dataframe tbody tr th {\n",
       "        vertical-align: top;\n",
       "    }\n",
       "\n",
       "    .dataframe thead th {\n",
       "        text-align: right;\n",
       "    }\n",
       "</style>\n",
       "<table border=\"1\" class=\"dataframe\">\n",
       "  <thead>\n",
       "    <tr style=\"text-align: right;\">\n",
       "      <th></th>\n",
       "      <th>ID</th>\n",
       "      <th>LABEL</th>\n",
       "      <th>umls_type</th>\n",
       "      <th>umls_type_label</th>\n",
       "      <th>blm_category</th>\n",
       "    </tr>\n",
       "  </thead>\n",
       "  <tbody>\n",
       "    <tr>\n",
       "      <th>7687</th>\n",
       "      <td>C0006875</td>\n",
       "      <td>Cannibalism</td>\n",
       "      <td>{T054}</td>\n",
       "      <td>{Social Behavior}</td>\n",
       "      <td>{activity_and_behavior}</td>\n",
       "    </tr>\n",
       "    <tr>\n",
       "      <th>156056</th>\n",
       "      <td>C0079904</td>\n",
       "      <td>NF-kappa B</td>\n",
       "      <td>{T116, T129}</td>\n",
       "      <td>{Amino Acid, Peptide, or Protein, Immunologic Factor}</td>\n",
       "      <td>{protein, chemical_substance}</td>\n",
       "    </tr>\n",
       "    <tr>\n",
       "      <th>209339</th>\n",
       "      <td>C0879593</td>\n",
       "      <td>therapeutic autologous dendritic cells</td>\n",
       "      <td>{T121, T025}</td>\n",
       "      <td>{Cell, Pharmacologic Substance}</td>\n",
       "      <td>{cell, chemical_substance}</td>\n",
       "    </tr>\n",
       "  </tbody>\n",
       "</table>\n",
       "</div>"
      ],
      "text/plain": [
       "              ID                                   LABEL     umls_type  \\\n",
       "7687    C0006875                             Cannibalism        {T054}   \n",
       "156056  C0079904                              NF-kappa B  {T116, T129}   \n",
       "209339  C0879593  therapeutic autologous dendritic cells  {T121, T025}   \n",
       "\n",
       "                                              umls_type_label  \\\n",
       "7687                                        {Social Behavior}   \n",
       "156056  {Amino Acid, Peptide, or Protein, Immunologic Factor}   \n",
       "209339                        {Cell, Pharmacologic Substance}   \n",
       "\n",
       "                         blm_category  \n",
       "7687          {activity_and_behavior}  \n",
       "156056  {protein, chemical_substance}  \n",
       "209339     {cell, chemical_substance}  "
      ]
     },
     "execution_count": 35,
     "metadata": {},
     "output_type": "execute_result"
    }
   ],
   "source": [
    "nodes[nodes.ID.isin({\"C0079904\", \"C0879593\", \"C0006875\"})]"
   ]
  },
  {
   "cell_type": "code",
   "execution_count": 36,
   "metadata": {},
   "outputs": [
    {
     "data": {
      "text/plain": [
       "(protein, chemical_substance)    15692\n",
       "(cell, chemical_substance)           3\n",
       "Name: blm_category, dtype: int64"
      ]
     },
     "execution_count": 36,
     "metadata": {},
     "output_type": "execute_result"
    }
   ],
   "source": [
    "# the only nodes with two types:\n",
    "nodes[nodes.blm_category.map(len)>1].blm_category.map(frozenset).value_counts()"
   ]
  },
  {
   "cell_type": "code",
   "execution_count": 37,
   "metadata": {},
   "outputs": [
    {
     "data": {
      "text/plain": [
       "[(frozenset({'Amino Acid, Peptide, or Protein',\n",
       "             'Biologically Active Substance'}),\n",
       "  7346),\n",
       " (frozenset({'Amino Acid, Peptide, or Protein', 'Pharmacologic Substance'}),\n",
       "  2539),\n",
       " (frozenset({'Amino Acid, Peptide, or Protein', 'Immunologic Factor'}), 1863),\n",
       " (frozenset({'Amino Acid, Peptide, or Protein', 'Receptor'}), 1389),\n",
       " (frozenset({'Amino Acid, Peptide, or Protein',\n",
       "             'Immunologic Factor',\n",
       "             'Pharmacologic Substance'}),\n",
       "  500),\n",
       " (frozenset({'Amino Acid, Peptide, or Protein',\n",
       "             'Hormone',\n",
       "             'Pharmacologic Substance'}),\n",
       "  250),\n",
       " (frozenset({'Amino Acid, Peptide, or Protein',\n",
       "             'Enzyme',\n",
       "             'Pharmacologic Substance'}),\n",
       "  249),\n",
       " (frozenset({'Amino Acid, Peptide, or Protein',\n",
       "             'Biologically Active Substance',\n",
       "             'Hazardous or Poisonous Substance'}),\n",
       "  243),\n",
       " (frozenset({'Amino Acid, Peptide, or Protein', 'Antibiotic'}), 213),\n",
       " (frozenset({'Amino Acid, Peptide, or Protein', 'Hormone'}), 198)]"
      ]
     },
     "execution_count": 37,
     "metadata": {},
     "output_type": "execute_result"
    }
   ],
   "source": [
    "# within the nodes with more than 1 blm types:\n",
    "# what are the most common umls types\n",
    "nodes2 = nodes[nodes.blm_category.map(len)>1]\n",
    "Counter(nodes2[nodes2.umls_type_label.map(len)>1].umls_type_label.map(frozenset)).most_common(10)"
   ]
  },
  {
   "cell_type": "code",
   "execution_count": 38,
   "metadata": {},
   "outputs": [],
   "source": [
    "nodes.loc[nodes.blm_category == {'protein', 'chemical_substance'}, \"blm_category\"] = {\"protein\"}\n",
    "nodes.loc[nodes.blm_category == {'cell', 'chemical_substance'}, \"blm_category\"] = {\"cell\"}\n",
    "nodes.loc[nodes.blm_category == {'genomic_entity', 'chemical_substance'}, \"blm_category\"] = {\"genomic_entity\"}\n",
    "nodes.blm_category = nodes.blm_category.map(lambda x:list(x)[0])"
   ]
  },
  {
   "cell_type": "code",
   "execution_count": 39,
   "metadata": {},
   "outputs": [
    {
     "data": {
      "text/html": [
       "<div>\n",
       "<style scoped>\n",
       "    .dataframe tbody tr th:only-of-type {\n",
       "        vertical-align: middle;\n",
       "    }\n",
       "\n",
       "    .dataframe tbody tr th {\n",
       "        vertical-align: top;\n",
       "    }\n",
       "\n",
       "    .dataframe thead th {\n",
       "        text-align: right;\n",
       "    }\n",
       "</style>\n",
       "<table border=\"1\" class=\"dataframe\">\n",
       "  <thead>\n",
       "    <tr style=\"text-align: right;\">\n",
       "      <th></th>\n",
       "      <th>ID</th>\n",
       "      <th>LABEL</th>\n",
       "      <th>umls_type</th>\n",
       "      <th>umls_type_label</th>\n",
       "      <th>blm_category</th>\n",
       "    </tr>\n",
       "  </thead>\n",
       "  <tbody>\n",
       "    <tr>\n",
       "      <th>7687</th>\n",
       "      <td>C0006875</td>\n",
       "      <td>Cannibalism</td>\n",
       "      <td>{T054}</td>\n",
       "      <td>{Social Behavior}</td>\n",
       "      <td>activity_and_behavior</td>\n",
       "    </tr>\n",
       "    <tr>\n",
       "      <th>156056</th>\n",
       "      <td>C0079904</td>\n",
       "      <td>NF-kappa B</td>\n",
       "      <td>{T116, T129}</td>\n",
       "      <td>{Amino Acid, Peptide, or Protein, Immunologic Factor}</td>\n",
       "      <td>protein</td>\n",
       "    </tr>\n",
       "    <tr>\n",
       "      <th>209339</th>\n",
       "      <td>C0879593</td>\n",
       "      <td>therapeutic autologous dendritic cells</td>\n",
       "      <td>{T121, T025}</td>\n",
       "      <td>{Cell, Pharmacologic Substance}</td>\n",
       "      <td>cell</td>\n",
       "    </tr>\n",
       "  </tbody>\n",
       "</table>\n",
       "</div>"
      ],
      "text/plain": [
       "              ID                                   LABEL     umls_type  \\\n",
       "7687    C0006875                             Cannibalism        {T054}   \n",
       "156056  C0079904                              NF-kappa B  {T116, T129}   \n",
       "209339  C0879593  therapeutic autologous dendritic cells  {T121, T025}   \n",
       "\n",
       "                                              umls_type_label  \\\n",
       "7687                                        {Social Behavior}   \n",
       "156056  {Amino Acid, Peptide, or Protein, Immunologic Factor}   \n",
       "209339                        {Cell, Pharmacologic Substance}   \n",
       "\n",
       "                 blm_category  \n",
       "7687    activity_and_behavior  \n",
       "156056                protein  \n",
       "209339                   cell  "
      ]
     },
     "execution_count": 39,
     "metadata": {},
     "output_type": "execute_result"
    }
   ],
   "source": [
    "nodes[nodes.ID.isin({\"C0079904\", \"C0879593\", \"C0006875\"})]"
   ]
  },
  {
   "cell_type": "code",
   "execution_count": 40,
   "metadata": {},
   "outputs": [
    {
     "data": {
      "text/plain": [
       "(Disease or Syndrome)                                  10998\n",
       "(Finding)                                               5942\n",
       "(Neoplastic Process)                                    4652\n",
       "(Pathologic Function)                                   1540\n",
       "(Sign or Symptom)                                       1361\n",
       "(Injury or Poisoning)                                   1232\n",
       "(Congenital Abnormality)                                1181\n",
       "(Mental or Behavioral Dysfunction)                      1054\n",
       "(Anatomical Abnormality)                                 369\n",
       "(Cell or Molecular Dysfunction)                          324\n",
       "(Acquired Abnormality)                                   323\n",
       "(Congenital Abnormality, Disease or Syndrome)             68\n",
       "(Experimental Model of Disease)                           44\n",
       "(Neoplastic Process, Experimental Model of Disease)       26\n",
       "(Disease or Syndrome, Anatomical Abnormality)              2\n",
       "Name: umls_type_label, dtype: int64"
      ]
     },
     "execution_count": 40,
     "metadata": {},
     "output_type": "execute_result"
    }
   ],
   "source": [
    "nodes[nodes.blm_category==\"disease_or_phenotypic_feature\"].umls_type_label.map(frozenset).value_counts()"
   ]
  },
  {
   "cell_type": "code",
   "execution_count": 41,
   "metadata": {},
   "outputs": [
    {
     "data": {
      "text/plain": [
       "chemical_substance                61954\n",
       "protein                           29244\n",
       "disease_or_phenotypic_feature     29116\n",
       "gene                              24322\n",
       "gross_anatomical_structure         8517\n",
       "biological_process_or_activity     8038\n",
       "anatomical_entity                  2336\n",
       "cell_component                     1709\n",
       "cell                               1240\n",
       "activity_and_behavior              1118\n",
       "phenotypic_feature                  313\n",
       "genomic_entity                      175\n",
       "Name: blm_category, dtype: int64"
      ]
     },
     "execution_count": 41,
     "metadata": {},
     "output_type": "execute_result"
    }
   ],
   "source": [
    "nodes.blm_category.value_counts()"
   ]
  },
  {
   "cell_type": "markdown",
   "metadata": {},
   "source": [
    "## Here we continue our processing by merging UMLS and BLM label array sets into piped strings"
   ]
  },
  {
   "cell_type": "code",
   "execution_count": 42,
   "metadata": {},
   "outputs": [],
   "source": [
    "nodes.umls_type_label = nodes.umls_type_label.apply(\"|\".join)\n",
    "nodes.umls_type = nodes.umls_type.apply(\"|\".join)"
   ]
  },
  {
   "cell_type": "code",
   "execution_count": 43,
   "metadata": {},
   "outputs": [
    {
     "data": {
      "text/html": [
       "<div>\n",
       "<style scoped>\n",
       "    .dataframe tbody tr th:only-of-type {\n",
       "        vertical-align: middle;\n",
       "    }\n",
       "\n",
       "    .dataframe tbody tr th {\n",
       "        vertical-align: top;\n",
       "    }\n",
       "\n",
       "    .dataframe thead th {\n",
       "        text-align: right;\n",
       "    }\n",
       "</style>\n",
       "<table border=\"1\" class=\"dataframe\">\n",
       "  <thead>\n",
       "    <tr style=\"text-align: right;\">\n",
       "      <th></th>\n",
       "      <th>ID</th>\n",
       "      <th>LABEL</th>\n",
       "      <th>umls_type</th>\n",
       "      <th>umls_type_label</th>\n",
       "      <th>blm_category</th>\n",
       "    </tr>\n",
       "  </thead>\n",
       "  <tbody>\n",
       "    <tr>\n",
       "      <th>7687</th>\n",
       "      <td>C0006875</td>\n",
       "      <td>Cannibalism</td>\n",
       "      <td>T054</td>\n",
       "      <td>Social Behavior</td>\n",
       "      <td>activity_and_behavior</td>\n",
       "    </tr>\n",
       "    <tr>\n",
       "      <th>156056</th>\n",
       "      <td>C0079904</td>\n",
       "      <td>NF-kappa B</td>\n",
       "      <td>T116|T129</td>\n",
       "      <td>Amino Acid, Peptide, or Protein|Immunologic Factor</td>\n",
       "      <td>protein</td>\n",
       "    </tr>\n",
       "    <tr>\n",
       "      <th>209339</th>\n",
       "      <td>C0879593</td>\n",
       "      <td>therapeutic autologous dendritic cells</td>\n",
       "      <td>T121|T025</td>\n",
       "      <td>Cell|Pharmacologic Substance</td>\n",
       "      <td>cell</td>\n",
       "    </tr>\n",
       "  </tbody>\n",
       "</table>\n",
       "</div>"
      ],
      "text/plain": [
       "              ID                                   LABEL  umls_type  \\\n",
       "7687    C0006875                             Cannibalism       T054   \n",
       "156056  C0079904                              NF-kappa B  T116|T129   \n",
       "209339  C0879593  therapeutic autologous dendritic cells  T121|T025   \n",
       "\n",
       "                                           umls_type_label  \\\n",
       "7687                                       Social Behavior   \n",
       "156056  Amino Acid, Peptide, or Protein|Immunologic Factor   \n",
       "209339                        Cell|Pharmacologic Substance   \n",
       "\n",
       "                 blm_category  \n",
       "7687    activity_and_behavior  \n",
       "156056                protein  \n",
       "209339                   cell  "
      ]
     },
     "execution_count": 43,
     "metadata": {},
     "output_type": "execute_result"
    }
   ],
   "source": [
    "nodes[nodes.ID.isin({\"C0079904\", \"C0879593\", \"C0006875\", \"C0815111\"})]"
   ]
  },
  {
   "cell_type": "code",
   "execution_count": 44,
   "metadata": {},
   "outputs": [],
   "source": [
    "nodes.to_csv(NODES_BLM_CSV)"
   ]
  },
  {
   "cell_type": "code",
   "execution_count": null,
   "metadata": {},
   "outputs": [],
   "source": []
  }
 ],
 "metadata": {
  "kernelspec": {
   "display_name": "Python 3",
   "language": "python",
   "name": "python3"
  },
  "language_info": {
   "codemirror_mode": {
    "name": "ipython",
    "version": 3
   },
   "file_extension": ".py",
   "mimetype": "text/x-python",
   "name": "python",
   "nbconvert_exporter": "python",
   "pygments_lexer": "ipython3",
   "version": "3.7.6"
  }
 },
 "nbformat": 4,
 "nbformat_minor": 4
}
