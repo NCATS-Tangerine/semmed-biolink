{
 "cells": [
  {
   "cell_type": "markdown",
   "metadata": {},
   "source": [
    "05-xrefs\n",
    "Get xrefs from a variety of sources\n",
    "- Drugs: \n",
    "UMLS has mesh xrefs. From mesh, we can get UNII and CAS. From UNII_FDA, we can get inchikeys \n",
    "(lookup using cas or unii). From chembl, we can get chembl IDs from the inchikeys\n",
    "So: UMLS -> mesh -> unii/cas -> inchikey -> chembl\n",
    "insane, I know.\n",
    "- Anatomy: uberon has umls xrefs\n",
    "- disease: DO has umls, umls has NCI, ICD10PCS, SNOMEDCT_US, ICD10CM, OMIM\n",
    "- proteins: umls has uniprot xrefs\n",
    "- biological_process_or_activity/activity_and_behavior: umls has GO\n",
    "- gene: umls has HGNC and OMIM"
   ]
  },
  {
   "cell_type": "code",
   "execution_count": 1,
   "metadata": {},
   "outputs": [],
   "source": [
    "import os\n",
    "import pickle\n",
    "%matplotlib inline\n",
    "import pandas as pd\n",
    "import seaborn as sns\n",
    "import shelve\n",
    "import re\n",
    "from collections import defaultdict, Counter\n",
    "from tqdm import tqdm, tqdm_notebook\n",
    "from itertools import chain\n",
    "from more_itertools import chunked\n",
    "from collections import Counter\n",
    "from pprint import pprint\n",
    "import requests\n",
    "from pyquery import PyQuery as pq"
   ]
  },
  {
   "cell_type": "code",
   "execution_count": 2,
   "metadata": {},
   "outputs": [],
   "source": [
    "uri_to_curie = lambda s: s.split(\"/\")[-1].replace(\"_\", \":\")"
   ]
  },
  {
   "cell_type": "code",
   "execution_count": 3,
   "metadata": {},
   "outputs": [],
   "source": [
    "# edges = pd.read_csv('edges_biolink.csv')\n",
    "nodes = pd.read_csv(\"nodes_biolink.csv\", index_col=0)"
   ]
  },
  {
   "cell_type": "code",
   "execution_count": 4,
   "metadata": {},
   "outputs": [
    {
     "data": {
      "text/html": [
       "<div>\n",
       "<style scoped>\n",
       "    .dataframe tbody tr th:only-of-type {\n",
       "        vertical-align: middle;\n",
       "    }\n",
       "\n",
       "    .dataframe tbody tr th {\n",
       "        vertical-align: top;\n",
       "    }\n",
       "\n",
       "    .dataframe thead th {\n",
       "        text-align: right;\n",
       "    }\n",
       "</style>\n",
       "<table border=\"1\" class=\"dataframe\">\n",
       "  <thead>\n",
       "    <tr style=\"text-align: right;\">\n",
       "      <th></th>\n",
       "      <th>LABEL</th>\n",
       "      <th>umls_type</th>\n",
       "      <th>umls_type_label</th>\n",
       "      <th>blm_type</th>\n",
       "    </tr>\n",
       "    <tr>\n",
       "      <th>ID</th>\n",
       "      <th></th>\n",
       "      <th></th>\n",
       "      <th></th>\n",
       "      <th></th>\n",
       "    </tr>\n",
       "  </thead>\n",
       "  <tbody>\n",
       "    <tr>\n",
       "      <th>C0061133</th>\n",
       "      <td>gastrin releasing peptide (14-27)</td>\n",
       "      <td>T116</td>\n",
       "      <td>Amino Acid, Peptide, or Protein</td>\n",
       "      <td>protein</td>\n",
       "    </tr>\n",
       "    <tr>\n",
       "      <th>C1523610</th>\n",
       "      <td>regulation of tube length, open tracheal system</td>\n",
       "      <td>T042</td>\n",
       "      <td>Organ or Tissue Function</td>\n",
       "      <td>biological_process_or_activity</td>\n",
       "    </tr>\n",
       "    <tr>\n",
       "      <th>C0312636</th>\n",
       "      <td>Antibody to hepatitis E virus</td>\n",
       "      <td>T116|T129</td>\n",
       "      <td>Amino Acid, Peptide, or Protein|Immunologic Fa...</td>\n",
       "      <td>biological_entity</td>\n",
       "    </tr>\n",
       "    <tr>\n",
       "      <th>C0539817</th>\n",
       "      <td>cytochrome p30</td>\n",
       "      <td>T116|T126</td>\n",
       "      <td>Amino Acid, Peptide, or Protein|Enzyme</td>\n",
       "      <td>protein</td>\n",
       "    </tr>\n",
       "    <tr>\n",
       "      <th>C0406240</th>\n",
       "      <td>Photosensitive atopic dermatitis</td>\n",
       "      <td>T047</td>\n",
       "      <td>Disease or Syndrome</td>\n",
       "      <td>disease_or_phenotypic_feature</td>\n",
       "    </tr>\n",
       "  </tbody>\n",
       "</table>\n",
       "</div>"
      ],
      "text/plain": [
       "                                                    LABEL  umls_type  \\\n",
       "ID                                                                     \n",
       "C0061133                gastrin releasing peptide (14-27)       T116   \n",
       "C1523610  regulation of tube length, open tracheal system       T042   \n",
       "C0312636                    Antibody to hepatitis E virus  T116|T129   \n",
       "C0539817                                   cytochrome p30  T116|T126   \n",
       "C0406240                 Photosensitive atopic dermatitis       T047   \n",
       "\n",
       "                                            umls_type_label  \\\n",
       "ID                                                            \n",
       "C0061133                    Amino Acid, Peptide, or Protein   \n",
       "C1523610                           Organ or Tissue Function   \n",
       "C0312636  Amino Acid, Peptide, or Protein|Immunologic Fa...   \n",
       "C0539817             Amino Acid, Peptide, or Protein|Enzyme   \n",
       "C0406240                                Disease or Syndrome   \n",
       "\n",
       "                                blm_type  \n",
       "ID                                        \n",
       "C0061133                         protein  \n",
       "C1523610  biological_process_or_activity  \n",
       "C0312636               biological_entity  \n",
       "C0539817                         protein  \n",
       "C0406240   disease_or_phenotypic_feature  "
      ]
     },
     "execution_count": 4,
     "metadata": {},
     "output_type": "execute_result"
    }
   ],
   "source": [
    "nodes.head()"
   ]
  },
  {
   "cell_type": "code",
   "execution_count": 5,
   "metadata": {},
   "outputs": [
    {
     "data": {
      "text/plain": [
       "chemical_substance                58812\n",
       "disease_or_phenotypic_feature     36248\n",
       "gene                              20695\n",
       "biological_entity                 14905\n",
       "protein                           12644\n",
       "gross_anatomical_structure         8472\n",
       "biological_process_or_activity     6887\n",
       "anatomical_entity                  2750\n",
       "cell_component                     1644\n",
       "cell                               1099\n",
       "activity_and_behavior               935\n",
       "phenotypic_feature                  393\n",
       "genomic_entity                      174\n",
       "Name: blm_type, dtype: int64"
      ]
     },
     "execution_count": 5,
     "metadata": {},
     "output_type": "execute_result"
    }
   ],
   "source": [
    "nodes.blm_type.value_counts()"
   ]
  },
  {
   "cell_type": "raw",
   "metadata": {},
   "source": [
    "## used by xray\n",
    "anatomical_entity: uberon  # we can map through NCI\n",
    "biological_process: GO\n",
    "chemical_substance: CHEMBL  # MSH RXNORM NDFRT DRUGBANK UNII\n",
    "disease: DOID  # NCI, ICD10PCS, SNOMEDCT_US, ICD10CM, OMIM, \n",
    "microRNA: NCBIGene  # NCBI, HGNC\n",
    "pathway: reactome  # map through go?\n",
    "phenotypic_feature: HP  # HPO\n",
    "protein: uniprot\n",
    "\n",
    "# we need:\n",
    "anatomical_entity:\n",
    "chemical_substance\n",
    "disease\n",
    "genomic_entity # NCBI, HGNC\n",
    "biological_process\n",
    "\n",
    "# need to get externally:\n",
    "UBERON, CHEMBL, DOID, UNIPROT"
   ]
  },
  {
   "cell_type": "code",
   "execution_count": 6,
   "metadata": {},
   "outputs": [],
   "source": [
    "## parse UMLS flat file to get all UMLS xrefs\n",
    "# see: https://www.ncbi.nlm.nih.gov/books/NBK9685/"
   ]
  },
  {
   "cell_type": "code",
   "execution_count": 7,
   "metadata": {},
   "outputs": [
    {
     "name": "stderr",
     "output_type": "stream",
     "text": [
      "/usr/local/lib/python3.5/dist-packages/IPython/core/interactiveshell.py:2785: DtypeWarning: Columns (9,10,13) have mixed types. Specify dtype option on import or set low_memory=False.\n",
      "  interactivity=interactivity, compiler=compiler, result=result)\n"
     ]
    }
   ],
   "source": [
    "names = \"CUI,LAT,TS,LUI,STT,SUI,ISPREF,AUI,SAUI,SCUI,SDUI,SAB,TTY,CODE,STR,SRL,SUPPRESS,CVF,X\".split(\",\")\n",
    "umls = pd.read_csv(\"MRCONSO_ENG.RRF.gz\", delimiter=\"|\", names=names, index_col=None)\n",
    "# only get CUIs in our list of nodes\n",
    "umls = umls[umls.CUI.isin(nodes.index)]"
   ]
  },
  {
   "cell_type": "code",
   "execution_count": 8,
   "metadata": {},
   "outputs": [],
   "source": [
    "umls['xref'] = umls.SAB + \":\" + umls.CODE.map(str)\n",
    "# fix this MSH MESH nonsense\n",
    "umls.xref = umls.xref.str.replace(\"MSH:\", \"MESH:\")\n",
    "# NCI_FDA is UNII\n",
    "umls.xref = umls.xref.str.replace(\"NCI_FDA:\", \"UNII:\")"
   ]
  },
  {
   "cell_type": "code",
   "execution_count": 9,
   "metadata": {},
   "outputs": [
    {
     "data": {
      "text/html": [
       "<div>\n",
       "<style scoped>\n",
       "    .dataframe tbody tr th:only-of-type {\n",
       "        vertical-align: middle;\n",
       "    }\n",
       "\n",
       "    .dataframe tbody tr th {\n",
       "        vertical-align: top;\n",
       "    }\n",
       "\n",
       "    .dataframe thead th {\n",
       "        text-align: right;\n",
       "    }\n",
       "</style>\n",
       "<table border=\"1\" class=\"dataframe\">\n",
       "  <thead>\n",
       "    <tr style=\"text-align: right;\">\n",
       "      <th></th>\n",
       "      <th>CUI</th>\n",
       "      <th>LAT</th>\n",
       "      <th>TS</th>\n",
       "      <th>LUI</th>\n",
       "      <th>STT</th>\n",
       "      <th>SUI</th>\n",
       "      <th>ISPREF</th>\n",
       "      <th>AUI</th>\n",
       "      <th>SAUI</th>\n",
       "      <th>SCUI</th>\n",
       "      <th>SDUI</th>\n",
       "      <th>SAB</th>\n",
       "      <th>TTY</th>\n",
       "      <th>CODE</th>\n",
       "      <th>STR</th>\n",
       "      <th>SRL</th>\n",
       "      <th>SUPPRESS</th>\n",
       "      <th>CVF</th>\n",
       "      <th>X</th>\n",
       "      <th>xref</th>\n",
       "    </tr>\n",
       "  </thead>\n",
       "  <tbody>\n",
       "    <tr>\n",
       "      <th>2</th>\n",
       "      <td>C0000039</td>\n",
       "      <td>ENG</td>\n",
       "      <td>P</td>\n",
       "      <td>L0000039</td>\n",
       "      <td>PF</td>\n",
       "      <td>S17175117</td>\n",
       "      <td>N</td>\n",
       "      <td>A28315139</td>\n",
       "      <td>9194921.0</td>\n",
       "      <td>1926948</td>\n",
       "      <td>NaN</td>\n",
       "      <td>RXNORM</td>\n",
       "      <td>IN</td>\n",
       "      <td>1926948</td>\n",
       "      <td>1,2-dipalmitoylphosphatidylcholine</td>\n",
       "      <td>0</td>\n",
       "      <td>N</td>\n",
       "      <td>256.0</td>\n",
       "      <td>NaN</td>\n",
       "      <td>RXNORM:1926948</td>\n",
       "    </tr>\n",
       "    <tr>\n",
       "      <th>3</th>\n",
       "      <td>C0000039</td>\n",
       "      <td>ENG</td>\n",
       "      <td>P</td>\n",
       "      <td>L0000039</td>\n",
       "      <td>PF</td>\n",
       "      <td>S17175117</td>\n",
       "      <td>Y</td>\n",
       "      <td>A28572604</td>\n",
       "      <td>NaN</td>\n",
       "      <td>NaN</td>\n",
       "      <td>NaN</td>\n",
       "      <td>MTH</td>\n",
       "      <td>PN</td>\n",
       "      <td>NOCODE</td>\n",
       "      <td>1,2-dipalmitoylphosphatidylcholine</td>\n",
       "      <td>0</td>\n",
       "      <td>N</td>\n",
       "      <td>256.0</td>\n",
       "      <td>NaN</td>\n",
       "      <td>MTH:NOCODE</td>\n",
       "    </tr>\n",
       "  </tbody>\n",
       "</table>\n",
       "</div>"
      ],
      "text/plain": [
       "        CUI  LAT TS       LUI STT        SUI ISPREF        AUI       SAUI  \\\n",
       "2  C0000039  ENG  P  L0000039  PF  S17175117      N  A28315139  9194921.0   \n",
       "3  C0000039  ENG  P  L0000039  PF  S17175117      Y  A28572604        NaN   \n",
       "\n",
       "      SCUI SDUI     SAB TTY     CODE                                 STR  SRL  \\\n",
       "2  1926948  NaN  RXNORM  IN  1926948  1,2-dipalmitoylphosphatidylcholine    0   \n",
       "3      NaN  NaN     MTH  PN   NOCODE  1,2-dipalmitoylphosphatidylcholine    0   \n",
       "\n",
       "  SUPPRESS    CVF   X            xref  \n",
       "2        N  256.0 NaN  RXNORM:1926948  \n",
       "3        N  256.0 NaN      MTH:NOCODE  "
      ]
     },
     "execution_count": 9,
     "metadata": {},
     "output_type": "execute_result"
    }
   ],
   "source": [
    "umls.head(2)"
   ]
  },
  {
   "cell_type": "code",
   "execution_count": 10,
   "metadata": {},
   "outputs": [
    {
     "name": "stdout",
     "output_type": "stream",
     "text": [
      "{'RXNORM:151775', 'RCD:x02cs', 'CHV:0000041179', 'MESH:D000068298'}\n"
     ]
    }
   ],
   "source": [
    "XREF = dict(umls.groupby(\"CUI\")['xref'].apply(set))\n",
    "XREF = defaultdict(set, XREF)\n",
    "print(XREF['C0591520'])"
   ]
  },
  {
   "cell_type": "code",
   "execution_count": 12,
   "metadata": {},
   "outputs": [],
   "source": [
    "# all xrefs we get from umls\n",
    "# Counter(list(chain(*[list(map(lambda x:x.split(\":\",1)[0], y)) for y in XREF.values()])))"
   ]
  },
  {
   "cell_type": "markdown",
   "metadata": {},
   "source": [
    "### Chemicals and drugs"
   ]
  },
  {
   "cell_type": "raw",
   "metadata": {},
   "source": [
    "plan: UMLS has mesh xrefs. From mesh, we can get UNII and CAS. From UNII_FDA, we can get inchikeys \n",
    "(lookup using cas or unii). From chembl, we can get chembl IDs from the inchikeys\n",
    "So: UMLS -> mesh -> unii/cas -> inchikey -> chembl\n",
    "insane, I know."
   ]
  },
  {
   "cell_type": "code",
   "execution_count": 13,
   "metadata": {},
   "outputs": [
    {
     "name": "stdout",
     "output_type": "stream",
     "text": [
      "58812\n",
      "[('MESH', 51017),\n",
      " ('SNOMEDCT_US', 14733),\n",
      " ('NCI', 10568),\n",
      " ('RXNORM', 9325),\n",
      " ('NDFRT', 9165),\n",
      " ('CHV', 8270),\n",
      " ('MMSL', 7835),\n",
      " ('UNII', 6264),\n",
      " ('NDDF', 6209),\n",
      " ('MTHSPL', 6006),\n",
      " ('RCD', 5985),\n",
      " ('SNMI', 5369),\n",
      " ('MTH', 5339),\n",
      " ('LNC', 5261),\n",
      " ('VANDF', 3962),\n",
      " ('DRUGBANK', 3284),\n",
      " ('ATC', 3113),\n",
      " ('CSP', 2891),\n",
      " ('MEDCIN', 2817),\n",
      " ('SNM', 2665),\n",
      " ('PDQ', 2288),\n",
      " ('AOD', 1932),\n",
      " ('LCH_NW', 1809),\n",
      " ('NCI_NCI-GLOSS', 1501),\n",
      " ('USPMG', 1205)]\n"
     ]
    }
   ],
   "source": [
    "# what xrefs are on chemicals?\n",
    "chem_umls = nodes[nodes.blm_type == \"chemical_substance\"].index\n",
    "xref_chem = {k:v for k,v in XREF.items() if k in chem_umls}\n",
    "print(len(chem_umls))\n",
    "c = Counter(list(chain(*[list(map(lambda x:x.split(\":\",1)[0], y)) for y in xref_chem.values()])))\n",
    "pprint(c.most_common(25))\n",
    "# nearly all have a mesh ID. not much of anything else\n",
    "# neither mesh nor umls have inchikeys, or inchi, or smiles or anything usefull for linking out\n",
    "# blech"
   ]
  },
  {
   "cell_type": "code",
   "execution_count": 14,
   "metadata": {},
   "outputs": [],
   "source": [
    "import pandas as pd\n",
    "import requests\n",
    "pd.set_option(\"display.width\", 120)\n",
    "import sys, os\n",
    "sys.path.insert(0, \"/home/gstupp/projects/WikidataIntegrator\")\n",
    "from wikidataintegrator import wdi_helpers, wdi_core, wdi_login\n",
    "\n",
    "URL = \"http://id.nlm.nih.gov/mesh/sparql\"\n",
    "PREFIX = \"\"\"\n",
    "PREFIX rdf: <http://www.w3.org/1999/02/22-rdf-syntax-ns#>\n",
    "PREFIX rdfs: <http://www.w3.org/2000/01/rdf-schema#>\n",
    "PREFIX xsd: <http://www.w3.org/2001/XMLSchema#>\n",
    "PREFIX owl: <http://www.w3.org/2002/07/owl#>\n",
    "PREFIX meshv: <http://id.nlm.nih.gov/mesh/vocab#>\n",
    "PREFIX mesh: <http://id.nlm.nih.gov/mesh/>\n",
    "\"\"\"\n",
    "\n",
    "def sparql_query(query):\n",
    "    params = {'query': PREFIX + query, 'format': 'JSON', 'limit': 1000, 'offset': 0}\n",
    "    r = requests.get(URL, params=params)\n",
    "    res = [{k: v['value'] for k, v in x.items()} for x in r.json()['results']['bindings']]\n",
    "    t = tqdm()\n",
    "    while True:\n",
    "        t.update(1)\n",
    "        params['offset'] += 1000\n",
    "        r = requests.get(URL, params=params).json()['results']['bindings']\n",
    "        if not r:\n",
    "            break\n",
    "        res.extend([{k: v['value'] for k, v in x.items()} for x in r])\n",
    "    df = pd.DataFrame(res)\n",
    "    return df"
   ]
  },
  {
   "cell_type": "code",
   "execution_count": 15,
   "metadata": {},
   "outputs": [
    {
     "name": "stderr",
     "output_type": "stream",
     "text": [
      "214it [06:12,  2.48s/it]"
     ]
    }
   ],
   "source": [
    "query = \"\"\"\n",
    "SELECT distinct ?mesh ?meshLabel ?r ?rr\n",
    "FROM <http://id.nlm.nih.gov/mesh> WHERE {\n",
    "  ?mesh meshv:active 1 .\n",
    "  ?mesh meshv:preferredMappedTo ?p .\n",
    "  ?p meshv:treeNumber ?treeNum .\n",
    "  FILTER(STRSTARTS(STR(?treeNum), \"http://id.nlm.nih.gov/mesh/D\")) .\n",
    "  ?mesh rdfs:label ?meshLabel .\n",
    "  ?mesh meshv:preferredConcept [meshv:registryNumber ?r] .\n",
    "  #OPTIONAL {?mesh meshv:preferredConcept [meshv:relatedRegistryNumber ?rr]}\n",
    "}\n",
    "\"\"\"\n",
    "df = sparql_query(query)"
   ]
  },
  {
   "cell_type": "code",
   "execution_count": 16,
   "metadata": {},
   "outputs": [],
   "source": [
    "df.r = df.r.replace(\"0\", pd.np.NaN)\n",
    "df.dropna(subset=[\"r\"], inplace=True)\n",
    "df = df[~df.r.str.startswith(\"EC \")]\n",
    "df.mesh = df.mesh.str.replace(\"http://id.nlm.nih.gov/mesh/\", \"\")\n",
    "df.set_index(\"mesh\", inplace=True)"
   ]
  },
  {
   "cell_type": "code",
   "execution_count": 17,
   "metadata": {},
   "outputs": [
    {
     "data": {
      "text/html": [
       "<div>\n",
       "<style scoped>\n",
       "    .dataframe tbody tr th:only-of-type {\n",
       "        vertical-align: middle;\n",
       "    }\n",
       "\n",
       "    .dataframe tbody tr th {\n",
       "        vertical-align: top;\n",
       "    }\n",
       "\n",
       "    .dataframe thead th {\n",
       "        text-align: right;\n",
       "    }\n",
       "</style>\n",
       "<table border=\"1\" class=\"dataframe\">\n",
       "  <thead>\n",
       "    <tr style=\"text-align: right;\">\n",
       "      <th></th>\n",
       "      <th>meshLabel</th>\n",
       "      <th>r</th>\n",
       "    </tr>\n",
       "    <tr>\n",
       "      <th>mesh</th>\n",
       "      <th></th>\n",
       "      <th></th>\n",
       "    </tr>\n",
       "  </thead>\n",
       "  <tbody>\n",
       "    <tr>\n",
       "      <th>C016271</th>\n",
       "      <td>bromine chloride</td>\n",
       "      <td>7G62XY5724</td>\n",
       "    </tr>\n",
       "    <tr>\n",
       "      <th>C016769</th>\n",
       "      <td>Syn-ergel</td>\n",
       "      <td>66799-40-4</td>\n",
       "    </tr>\n",
       "    <tr>\n",
       "      <th>C017138</th>\n",
       "      <td>CMB-dextran</td>\n",
       "      <td>37307-31-6</td>\n",
       "    </tr>\n",
       "    <tr>\n",
       "      <th>C017827</th>\n",
       "      <td>bacterio-opsin</td>\n",
       "      <td>54577-62-7</td>\n",
       "    </tr>\n",
       "    <tr>\n",
       "      <th>C017911</th>\n",
       "      <td>2-(methylamino)isobutyric acid</td>\n",
       "      <td>2566-34-9</td>\n",
       "    </tr>\n",
       "  </tbody>\n",
       "</table>\n",
       "</div>"
      ],
      "text/plain": [
       "                              meshLabel           r\n",
       "mesh                                               \n",
       "C016271                bromine chloride  7G62XY5724\n",
       "C016769                       Syn-ergel  66799-40-4\n",
       "C017138                     CMB-dextran  37307-31-6\n",
       "C017827                  bacterio-opsin  54577-62-7\n",
       "C017911  2-(methylamino)isobutyric acid   2566-34-9"
      ]
     },
     "execution_count": 17,
     "metadata": {},
     "output_type": "execute_result"
    }
   ],
   "source": [
    "df.to_csv(\"mesh_xrefs.csv\")\n",
    "df.head()"
   ]
  },
  {
   "cell_type": "code",
   "execution_count": 18,
   "metadata": {},
   "outputs": [
    {
     "data": {
      "text/plain": [
       "37158"
      ]
     },
     "execution_count": 18,
     "metadata": {},
     "output_type": "execute_result"
    }
   ],
   "source": [
    "mesh_xrefs = pd.read_csv(\"mesh_xrefs.csv\", index_col=0)\n",
    "mesh_xrefs.r = mesh_xrefs.r.apply(lambda x: \"CAS:\" + x if \"-\" in x else \"UNII:\" + x)\n",
    "mesh_xrefs = mesh_xrefs.groupby(\"mesh\").r.apply(set).to_dict()\n",
    "mesh_xrefs = {\"MESH:\"+k:v for k,v in mesh_xrefs.items()}\n",
    "len(mesh_xrefs)"
   ]
  },
  {
   "cell_type": "code",
   "execution_count": 19,
   "metadata": {},
   "outputs": [],
   "source": [
    "for k,v in xref_chem.items():\n",
    "    for vv in list(v):\n",
    "        if vv in mesh_xrefs:\n",
    "            v.update(mesh_xrefs[vv])"
   ]
  },
  {
   "cell_type": "code",
   "execution_count": 20,
   "metadata": {},
   "outputs": [],
   "source": [
    "# download: 'http://fdasis.nlm.nih.gov/srs/download/srs/UNII_Data.zip'\n",
    "unii_df = pd.read_csv(\"UNII Records 20Jun2018.txt\", dtype=str, sep='\\t', low_memory=False)\n",
    "unii_df.dropna(subset=['INCHIKEY'], inplace=True)"
   ]
  },
  {
   "cell_type": "code",
   "execution_count": 21,
   "metadata": {},
   "outputs": [
    {
     "data": {
      "text/html": [
       "<div>\n",
       "<style scoped>\n",
       "    .dataframe tbody tr th:only-of-type {\n",
       "        vertical-align: middle;\n",
       "    }\n",
       "\n",
       "    .dataframe tbody tr th {\n",
       "        vertical-align: top;\n",
       "    }\n",
       "\n",
       "    .dataframe thead th {\n",
       "        text-align: right;\n",
       "    }\n",
       "</style>\n",
       "<table border=\"1\" class=\"dataframe\">\n",
       "  <thead>\n",
       "    <tr style=\"text-align: right;\">\n",
       "      <th></th>\n",
       "      <th>UNII</th>\n",
       "      <th>PT</th>\n",
       "      <th>RN</th>\n",
       "      <th>EC</th>\n",
       "      <th>NCIT</th>\n",
       "      <th>RXCUI</th>\n",
       "      <th>PUBCHEM</th>\n",
       "      <th>ITIS</th>\n",
       "      <th>NCBI</th>\n",
       "      <th>PLANTS</th>\n",
       "      <th>GRIN</th>\n",
       "      <th>MPNS</th>\n",
       "      <th>INN_ID</th>\n",
       "      <th>MF</th>\n",
       "      <th>INCHIKEY</th>\n",
       "      <th>SMILES</th>\n",
       "      <th>INGREDIENT_TYPE</th>\n",
       "    </tr>\n",
       "  </thead>\n",
       "  <tbody>\n",
       "    <tr>\n",
       "      <th>0</th>\n",
       "      <td>0001H6R5H1</td>\n",
       "      <td>CEROUS SALICYLATE</td>\n",
       "      <td>526-17-0</td>\n",
       "      <td>NaN</td>\n",
       "      <td>NaN</td>\n",
       "      <td>NaN</td>\n",
       "      <td>76966289</td>\n",
       "      <td>NaN</td>\n",
       "      <td>NaN</td>\n",
       "      <td>NaN</td>\n",
       "      <td>NaN</td>\n",
       "      <td>NaN</td>\n",
       "      <td>NaN</td>\n",
       "      <td>3C7H5O3.Ce</td>\n",
       "      <td>RBJPAJHTYHKKTB-UHFFFAOYSA-K</td>\n",
       "      <td>[Ce+3].OC1=C(C=CC=C1)C([O-])=O.OC2=C(C=CC=C2)C...</td>\n",
       "      <td>INGREDIENT SUBSTANCE</td>\n",
       "    </tr>\n",
       "    <tr>\n",
       "      <th>1</th>\n",
       "      <td>000360VJE1</td>\n",
       "      <td>DI(DEHYDROABIETYL)AMINE ACETATE</td>\n",
       "      <td>53404-27-6</td>\n",
       "      <td>NaN</td>\n",
       "      <td>NaN</td>\n",
       "      <td>NaN</td>\n",
       "      <td>76969106</td>\n",
       "      <td>NaN</td>\n",
       "      <td>NaN</td>\n",
       "      <td>NaN</td>\n",
       "      <td>NaN</td>\n",
       "      <td>NaN</td>\n",
       "      <td>NaN</td>\n",
       "      <td>C40H59N.C2H4O2</td>\n",
       "      <td>SETIUTJHVNMKFM-TUICDNFPSA-N</td>\n",
       "      <td>CC(O)=O.CC(C)C1=CC=C2C(CC[C@H]3[C@](C)(CNC[C@]...</td>\n",
       "      <td>INGREDIENT SUBSTANCE</td>\n",
       "    </tr>\n",
       "    <tr>\n",
       "      <th>4</th>\n",
       "      <td>00072J7XWS</td>\n",
       "      <td>GERMANIUM</td>\n",
       "      <td>7440-56-4</td>\n",
       "      <td>231-164-3</td>\n",
       "      <td>C95170</td>\n",
       "      <td>4784</td>\n",
       "      <td>6326954</td>\n",
       "      <td>NaN</td>\n",
       "      <td>NaN</td>\n",
       "      <td>NaN</td>\n",
       "      <td>NaN</td>\n",
       "      <td>NaN</td>\n",
       "      <td>NaN</td>\n",
       "      <td>Ge</td>\n",
       "      <td>QUZPNFFHZPRKJD-UHFFFAOYSA-N</td>\n",
       "      <td>[Ge]</td>\n",
       "      <td>INGREDIENT SUBSTANCE</td>\n",
       "    </tr>\n",
       "    <tr>\n",
       "      <th>7</th>\n",
       "      <td>0009YL8Y42</td>\n",
       "      <td>5-(3-BROMO-4,5-DIMETHOXYBENZYL)PYRIMIDINE-2,4-...</td>\n",
       "      <td>NaN</td>\n",
       "      <td>NaN</td>\n",
       "      <td>NaN</td>\n",
       "      <td>NaN</td>\n",
       "      <td>76963562</td>\n",
       "      <td>NaN</td>\n",
       "      <td>NaN</td>\n",
       "      <td>NaN</td>\n",
       "      <td>NaN</td>\n",
       "      <td>NaN</td>\n",
       "      <td>NaN</td>\n",
       "      <td>C13H15BrN4O3</td>\n",
       "      <td>WXKLFFZKCBICOL-UHFFFAOYSA-N</td>\n",
       "      <td>COC1=C(OC)C(OBr)=CC(CC2=C(N)N=C(N)N=C2)=C1</td>\n",
       "      <td>INGREDIENT SUBSTANCE</td>\n",
       "    </tr>\n",
       "    <tr>\n",
       "      <th>9</th>\n",
       "      <td>000F949089</td>\n",
       "      <td>SPIROFYLLINE</td>\n",
       "      <td>98204-48-9</td>\n",
       "      <td>NaN</td>\n",
       "      <td>C74214</td>\n",
       "      <td>NaN</td>\n",
       "      <td>3086451</td>\n",
       "      <td>NaN</td>\n",
       "      <td>NaN</td>\n",
       "      <td>NaN</td>\n",
       "      <td>NaN</td>\n",
       "      <td>NaN</td>\n",
       "      <td>6195</td>\n",
       "      <td>C24H28N6O5</td>\n",
       "      <td>DSRGPEAMMDAUGF-UHFFFAOYSA-N</td>\n",
       "      <td>CN1C2=C(N(CC(=O)N3CC4(CCN(CCC5=CC=CC=C5)CC4)OC...</td>\n",
       "      <td>INGREDIENT SUBSTANCE</td>\n",
       "    </tr>\n",
       "  </tbody>\n",
       "</table>\n",
       "</div>"
      ],
      "text/plain": [
       "         UNII                                                 PT          RN         EC    NCIT RXCUI   PUBCHEM ITIS  \\\n",
       "0  0001H6R5H1                                  CEROUS SALICYLATE    526-17-0        NaN     NaN   NaN  76966289  NaN   \n",
       "1  000360VJE1                    DI(DEHYDROABIETYL)AMINE ACETATE  53404-27-6        NaN     NaN   NaN  76969106  NaN   \n",
       "4  00072J7XWS                                          GERMANIUM   7440-56-4  231-164-3  C95170  4784   6326954  NaN   \n",
       "7  0009YL8Y42  5-(3-BROMO-4,5-DIMETHOXYBENZYL)PYRIMIDINE-2,4-...         NaN        NaN     NaN   NaN  76963562  NaN   \n",
       "9  000F949089                                       SPIROFYLLINE  98204-48-9        NaN  C74214   NaN   3086451  NaN   \n",
       "\n",
       "  NCBI PLANTS GRIN MPNS INN_ID              MF                     INCHIKEY  \\\n",
       "0  NaN    NaN  NaN  NaN    NaN      3C7H5O3.Ce  RBJPAJHTYHKKTB-UHFFFAOYSA-K   \n",
       "1  NaN    NaN  NaN  NaN    NaN  C40H59N.C2H4O2  SETIUTJHVNMKFM-TUICDNFPSA-N   \n",
       "4  NaN    NaN  NaN  NaN    NaN              Ge  QUZPNFFHZPRKJD-UHFFFAOYSA-N   \n",
       "7  NaN    NaN  NaN  NaN    NaN    C13H15BrN4O3  WXKLFFZKCBICOL-UHFFFAOYSA-N   \n",
       "9  NaN    NaN  NaN  NaN   6195      C24H28N6O5  DSRGPEAMMDAUGF-UHFFFAOYSA-N   \n",
       "\n",
       "                                              SMILES       INGREDIENT_TYPE  \n",
       "0  [Ce+3].OC1=C(C=CC=C1)C([O-])=O.OC2=C(C=CC=C2)C...  INGREDIENT SUBSTANCE  \n",
       "1  CC(O)=O.CC(C)C1=CC=C2C(CC[C@H]3[C@](C)(CNC[C@]...  INGREDIENT SUBSTANCE  \n",
       "4                                               [Ge]  INGREDIENT SUBSTANCE  \n",
       "7         COC1=C(OC)C(OBr)=CC(CC2=C(N)N=C(N)N=C2)=C1  INGREDIENT SUBSTANCE  \n",
       "9  CN1C2=C(N(CC(=O)N3CC4(CCN(CCC5=CC=CC=C5)CC4)OC...  INGREDIENT SUBSTANCE  "
      ]
     },
     "execution_count": 21,
     "metadata": {},
     "output_type": "execute_result"
    }
   ],
   "source": [
    "unii_df.head()"
   ]
  },
  {
   "cell_type": "code",
   "execution_count": 24,
   "metadata": {},
   "outputs": [
    {
     "data": {
      "application/vnd.jupyter.widget-view+json": {
       "model_id": "69787a2ed49f4b9e810a8c522b878878",
       "version_major": 2,
       "version_minor": 0
      },
      "text/plain": [
       "HBox(children=(IntProgress(value=0, max=58812), HTML(value='')))"
      ]
     },
     "metadata": {},
     "output_type": "display_data"
    },
    {
     "name": "stdout",
     "output_type": "stream",
     "text": [
      "\n"
     ]
    }
   ],
   "source": [
    "n=0\n",
    "for k,v in tqdm_notebook(xref_chem.items()):\n",
    "    for vv in list(v):\n",
    "        if vv.startswith(\"UNII:\"):\n",
    "            xref = vv.replace(\"UNII:\", \"\")\n",
    "            s = unii_df.query(\"UNII == @xref\").INCHIKEY\n",
    "            if not s.empty:\n",
    "                n+=1\n",
    "                v.add(\"INCHIKEY:\" + list(s)[0])"
   ]
  },
  {
   "cell_type": "code",
   "execution_count": 25,
   "metadata": {},
   "outputs": [
    {
     "name": "stdout",
     "output_type": "stream",
     "text": [
      "9531\n"
     ]
    },
    {
     "data": {
      "text/plain": [
       "[('C0055257', 'GXGJIOMUZAGVEH-UHFFFAOYSA-N'),\n",
       " ('C0072534', 'ZPUCINDJVBIVPJ-XGUBFFRZSA-N'),\n",
       " ('C0600197', 'UKPBEPCQTDRZSE-UHFFFAOYSA-N'),\n",
       " ('C0764864', 'CHBOSHOWERDCMH-UHFFFAOYSA-N')]"
      ]
     },
     "execution_count": 25,
     "metadata": {},
     "output_type": "execute_result"
    }
   ],
   "source": [
    "xref_inchi = {k:v for k,v in xref_chem.items() if any(vv.startswith(\"INCHIKEY:\") for vv in v)}\n",
    "xref_inchi = {k:[vv for vv in v if vv.startswith(\"INCHIKEY:\")][0].replace(\"INCHIKEY:\", \"\") for k,v in xref_inchi.items()}\n",
    "print(len(xref_inchi))\n",
    "list(xref_inchi.items())[:4]"
   ]
  },
  {
   "cell_type": "code",
   "execution_count": 26,
   "metadata": {},
   "outputs": [
    {
     "name": "stderr",
     "output_type": "stream",
     "text": [
      "\n",
      "  0%|          | 0/95.31 [00:00<?, ?it/s]\u001b[A\n",
      "96it [16:36, 10.38s/it]                           \n"
     ]
    }
   ],
   "source": [
    "url = \"https://www.ebi.ac.uk/chembl/api/data/molecule?molecule_structures__standard_inchi_key__in={}&format=json&limit=100\"\n",
    "for chunk in tqdm(chunked(xref_inchi.items(), 100), total=len(xref_inchi)/100):\n",
    "    chunk = dict(chunk)\n",
    "    chunk = {v:k for k,v in chunk.items()}\n",
    "    inchis = \",\".join(chunk)\n",
    "    mols = requests.get(url.format(inchis)).json()['molecules']\n",
    "    for m in mols:\n",
    "        chembl = m['molecule_chembl_id']\n",
    "        inchi = m['molecule_structures']['standard_inchi_key']\n",
    "        XREF[chunk[inchi]].add(\"CHEMBL:\" + chembl)"
   ]
  },
  {
   "cell_type": "code",
   "execution_count": 27,
   "metadata": {},
   "outputs": [
    {
     "data": {
      "text/plain": [
       "7718"
      ]
     },
     "execution_count": 27,
     "metadata": {},
     "output_type": "execute_result"
    }
   ],
   "source": [
    "len({k:v for k,v in XREF.items() if any(vv.startswith(\"CHEMBL:\") for vv in v)})"
   ]
  },
  {
   "cell_type": "code",
   "execution_count": 28,
   "metadata": {},
   "outputs": [],
   "source": [
    "with open(\"xrefs.shelve\", 'wb') as f:\n",
    "    pickle.dump(XREF, f)"
   ]
  },
  {
   "cell_type": "code",
   "execution_count": 29,
   "metadata": {},
   "outputs": [],
   "source": [
    "## UBERON"
   ]
  },
  {
   "cell_type": "code",
   "execution_count": 30,
   "metadata": {},
   "outputs": [
    {
     "name": "stdout",
     "output_type": "stream",
     "text": [
      "--2018-07-02 16:38:41--  http://purl.obolibrary.org/obo/uberon.owl\n",
      "Resolving purl.obolibrary.org (purl.obolibrary.org)... 52.3.123.63\n",
      "Connecting to purl.obolibrary.org (purl.obolibrary.org)|52.3.123.63|:80... connected.\n",
      "HTTP request sent, awaiting response... 302 Found\n",
      "Location: http://ontologies.berkeleybop.org/uberon.owl [following]\n",
      "--2018-07-02 16:38:41--  http://ontologies.berkeleybop.org/uberon.owl\n",
      "Resolving ontologies.berkeleybop.org (ontologies.berkeleybop.org)... 54.230.86.136, 54.230.86.32, 54.230.86.160, ...\n",
      "Connecting to ontologies.berkeleybop.org (ontologies.berkeleybop.org)|54.230.86.136|:80... connected.\n",
      "HTTP request sent, awaiting response... 200 OK\n",
      "Length: 67963495 (65M) [application/rdf+xml]\n",
      "Saving to: ‘uberon.owl’\n",
      "\n",
      "uberon.owl          100%[===================>]  64.81M  9.90MB/s    in 7.6s    \n",
      "\n",
      "2018-07-02 16:38:49 (8.56 MB/s) - ‘uberon.owl’ saved [67963495/67963495]\n",
      "\n"
     ]
    }
   ],
   "source": [
    "!wget -N http://purl.obolibrary.org/obo/uberon.owl"
   ]
  },
  {
   "cell_type": "code",
   "execution_count": 31,
   "metadata": {},
   "outputs": [],
   "source": [
    "s = \"\"\"\n",
    "PREFIX rdfs: <http://www.w3.org/2000/01/rdf-schema#>\n",
    "PREFIX rdf: <http://www.w3.org/1999/02/22-rdf-syntax-ns#>\n",
    "PREFIX owl: <http://www.w3.org/2002/07/owl#>\n",
    "PREFIX oboInOwl: <http://www.geneontology.org/formats/oboInOwl#>\n",
    "\n",
    "SELECT * WHERE {\n",
    "  ?item oboInOwl:hasDbXref ?xref\n",
    "}\n",
    "\"\"\"\n",
    "with open(\"query.sparql\", 'w') as f:\n",
    "    f.write(s)"
   ]
  },
  {
   "cell_type": "code",
   "execution_count": 32,
   "metadata": {},
   "outputs": [],
   "source": [
    "!robot query --input uberon.owl --query query.sparql uberon.csv"
   ]
  },
  {
   "cell_type": "code",
   "execution_count": 33,
   "metadata": {},
   "outputs": [
    {
     "data": {
      "text/html": [
       "<div>\n",
       "<style scoped>\n",
       "    .dataframe tbody tr th:only-of-type {\n",
       "        vertical-align: middle;\n",
       "    }\n",
       "\n",
       "    .dataframe tbody tr th {\n",
       "        vertical-align: top;\n",
       "    }\n",
       "\n",
       "    .dataframe thead th {\n",
       "        text-align: right;\n",
       "    }\n",
       "</style>\n",
       "<table border=\"1\" class=\"dataframe\">\n",
       "  <thead>\n",
       "    <tr style=\"text-align: right;\">\n",
       "      <th></th>\n",
       "      <th>item</th>\n",
       "      <th>xref</th>\n",
       "    </tr>\n",
       "  </thead>\n",
       "  <tbody>\n",
       "    <tr>\n",
       "      <th>6</th>\n",
       "      <td>UBERON:0006472</td>\n",
       "      <td>C1272528</td>\n",
       "    </tr>\n",
       "    <tr>\n",
       "      <th>73</th>\n",
       "      <td>UBERON:0001439</td>\n",
       "      <td>C0222661</td>\n",
       "    </tr>\n",
       "    <tr>\n",
       "      <th>96</th>\n",
       "      <td>UBERON:0001072</td>\n",
       "      <td>C0042458</td>\n",
       "    </tr>\n",
       "    <tr>\n",
       "      <th>153</th>\n",
       "      <td>UBERON:0001705</td>\n",
       "      <td>C0027342</td>\n",
       "    </tr>\n",
       "    <tr>\n",
       "      <th>183</th>\n",
       "      <td>UBERON:0002370</td>\n",
       "      <td>C0040113</td>\n",
       "    </tr>\n",
       "  </tbody>\n",
       "</table>\n",
       "</div>"
      ],
      "text/plain": [
       "               item      xref\n",
       "6    UBERON:0006472  C1272528\n",
       "73   UBERON:0001439  C0222661\n",
       "96   UBERON:0001072  C0042458\n",
       "153  UBERON:0001705  C0027342\n",
       "183  UBERON:0002370  C0040113"
      ]
     },
     "execution_count": 33,
     "metadata": {},
     "output_type": "execute_result"
    }
   ],
   "source": [
    "df = pd.read_csv(\"uberon.csv\")\n",
    "df = df[df.xref.str.startswith(\"UMLS:\")]\n",
    "df.xref = df.xref.str.replace(\"UMLS:\", \"\")\n",
    "df.item = df.item.apply(uri_to_curie)\n",
    "df.head()"
   ]
  },
  {
   "cell_type": "code",
   "execution_count": 34,
   "metadata": {},
   "outputs": [],
   "source": [
    "s = df.groupby(\"xref\")['item'].apply(set)\n",
    "for umls, x in dict(s).items():\n",
    "    XREF[umls].update(x)"
   ]
  },
  {
   "cell_type": "code",
   "execution_count": 35,
   "metadata": {},
   "outputs": [
    {
     "data": {
      "text/plain": [
       "{'UBERON:0006472'}"
      ]
     },
     "execution_count": 35,
     "metadata": {},
     "output_type": "execute_result"
    }
   ],
   "source": [
    "XREF['C1272528']"
   ]
  },
  {
   "cell_type": "code",
   "execution_count": 36,
   "metadata": {},
   "outputs": [],
   "source": [
    "## DOID"
   ]
  },
  {
   "cell_type": "code",
   "execution_count": 37,
   "metadata": {},
   "outputs": [
    {
     "name": "stdout",
     "output_type": "stream",
     "text": [
      "--2018-07-02 16:39:03--  http://purl.obolibrary.org/obo/doid.owl\n",
      "Resolving purl.obolibrary.org (purl.obolibrary.org)... 52.3.123.63\n",
      "Connecting to purl.obolibrary.org (purl.obolibrary.org)|52.3.123.63|:80... connected.\n",
      "HTTP request sent, awaiting response... 302 Found\n",
      "Location: https://raw.githubusercontent.com/DiseaseOntology/HumanDiseaseOntology/master/src/ontology/doid.owl [following]\n",
      "--2018-07-02 16:39:03--  https://raw.githubusercontent.com/DiseaseOntology/HumanDiseaseOntology/master/src/ontology/doid.owl\n",
      "Resolving raw.githubusercontent.com (raw.githubusercontent.com)... 151.101.24.133\n",
      "Connecting to raw.githubusercontent.com (raw.githubusercontent.com)|151.101.24.133|:443... connected.\n",
      "HTTP request sent, awaiting response... 200 OK\n",
      "Length: 26462213 (25M) [text/plain]\n",
      "Saving to: ‘doid.owl’\n",
      "\n",
      "doid.owl            100%[===================>]  25.24M  17.5MB/s    in 1.4s    \n",
      "\n",
      "Last-modified header missing -- time-stamps turned off.\n",
      "2018-07-02 16:39:05 (17.5 MB/s) - ‘doid.owl’ saved [26462213/26462213]\n",
      "\n"
     ]
    }
   ],
   "source": [
    "!wget -N http://purl.obolibrary.org/obo/doid.owl"
   ]
  },
  {
   "cell_type": "code",
   "execution_count": 38,
   "metadata": {},
   "outputs": [],
   "source": [
    "!robot query --input doid.owl --query query.sparql doid.csv"
   ]
  },
  {
   "cell_type": "code",
   "execution_count": 39,
   "metadata": {},
   "outputs": [
    {
     "data": {
      "text/html": [
       "<div>\n",
       "<style scoped>\n",
       "    .dataframe tbody tr th:only-of-type {\n",
       "        vertical-align: middle;\n",
       "    }\n",
       "\n",
       "    .dataframe tbody tr th {\n",
       "        vertical-align: top;\n",
       "    }\n",
       "\n",
       "    .dataframe thead th {\n",
       "        text-align: right;\n",
       "    }\n",
       "</style>\n",
       "<table border=\"1\" class=\"dataframe\">\n",
       "  <thead>\n",
       "    <tr style=\"text-align: right;\">\n",
       "      <th></th>\n",
       "      <th>item</th>\n",
       "      <th>xref</th>\n",
       "    </tr>\n",
       "  </thead>\n",
       "  <tbody>\n",
       "    <tr>\n",
       "      <th>5</th>\n",
       "      <td>DOID:1943</td>\n",
       "      <td>C0263518</td>\n",
       "    </tr>\n",
       "    <tr>\n",
       "      <th>7</th>\n",
       "      <td>DOID:12960</td>\n",
       "      <td>C1510455</td>\n",
       "    </tr>\n",
       "    <tr>\n",
       "      <th>14</th>\n",
       "      <td>DOID:9455</td>\n",
       "      <td>C0029591</td>\n",
       "    </tr>\n",
       "    <tr>\n",
       "      <th>18</th>\n",
       "      <td>DOID:9123</td>\n",
       "      <td>C0936250</td>\n",
       "    </tr>\n",
       "    <tr>\n",
       "      <th>38</th>\n",
       "      <td>DOID:5591</td>\n",
       "      <td>C1367774</td>\n",
       "    </tr>\n",
       "  </tbody>\n",
       "</table>\n",
       "</div>"
      ],
      "text/plain": [
       "          item      xref\n",
       "5    DOID:1943  C0263518\n",
       "7   DOID:12960  C1510455\n",
       "14   DOID:9455  C0029591\n",
       "18   DOID:9123  C0936250\n",
       "38   DOID:5591  C1367774"
      ]
     },
     "execution_count": 39,
     "metadata": {},
     "output_type": "execute_result"
    }
   ],
   "source": [
    "df = pd.read_csv(\"doid.csv\")\n",
    "df.dropna(inplace=True)\n",
    "df = df[df.xref.str.startswith(\"UMLS_CUI:\")]\n",
    "df.xref = df.xref.str.replace(\"UMLS_CUI:\", \"\")\n",
    "df.item = df.item.apply(uri_to_curie)\n",
    "df.head()"
   ]
  },
  {
   "cell_type": "code",
   "execution_count": 40,
   "metadata": {},
   "outputs": [],
   "source": [
    "s = df.groupby(\"xref\")['item'].apply(set)\n",
    "for umls, x in dict(s).items():\n",
    "    XREF[umls].update(x)"
   ]
  },
  {
   "cell_type": "code",
   "execution_count": 41,
   "metadata": {},
   "outputs": [
    {
     "data": {
      "text/plain": [
       "{'CCPSS:0019168',\n",
       " 'DOID:1943',\n",
       " 'HPO:HP:0025470',\n",
       " 'ICD10:L65.0',\n",
       " 'ICD10AM:L65.0',\n",
       " 'ICD10CM:L65.0',\n",
       " 'ICD9CM:704.02',\n",
       " 'ICPC2ICD10ENG:MTHU025078',\n",
       " 'ICPC2ICD10ENG:MTHU073653',\n",
       " 'MDR:10043200',\n",
       " 'MEDCIN:37106',\n",
       " 'MTH:NOCODE',\n",
       " 'NCI:C112200',\n",
       " 'NCI_NICHD:C112200',\n",
       " 'RCD:X509q',\n",
       " 'SNM:M-58770',\n",
       " 'SNMI:D0-53710',\n",
       " 'SNOMEDCT_US:201147004',\n",
       " 'SNOMEDCT_US:39479004'}"
      ]
     },
     "execution_count": 41,
     "metadata": {},
     "output_type": "execute_result"
    }
   ],
   "source": [
    "XREF['C0263518']"
   ]
  },
  {
   "cell_type": "code",
   "execution_count": 42,
   "metadata": {},
   "outputs": [
    {
     "data": {
      "text/plain": [
       "{'CHV:0000041179', 'MESH:D000068298', 'RCD:x02cs', 'RXNORM:151775'}"
      ]
     },
     "execution_count": 42,
     "metadata": {},
     "output_type": "execute_result"
    }
   ],
   "source": [
    "XREF['C0591520']"
   ]
  },
  {
   "cell_type": "markdown",
   "metadata": {},
   "source": [
    "## proteins"
   ]
  },
  {
   "cell_type": "code",
   "execution_count": 44,
   "metadata": {
    "scrolled": true
   },
   "outputs": [
    {
     "name": "stderr",
     "output_type": "stream",
     "text": [
      " 41%|████▏     | 28/67.668372 [00:54<01:17,  1.95s/it]/usr/local/lib/python3.5/dist-packages/IPython/core/interactiveshell.py:2903: DtypeWarning: Columns (7,10) have mixed types. Specify dtype option on import or set low_memory=False.\n",
      "  if self.run_code(code, result):\n",
      " 46%|████▌     | 31/67.668372 [01:00<01:11,  1.94s/it]/usr/local/lib/python3.5/dist-packages/IPython/core/interactiveshell.py:2903: DtypeWarning: Columns (7) have mixed types. Specify dtype option on import or set low_memory=False.\n",
      "  if self.run_code(code, result):\n",
      "71it [02:11,  1.85s/it]                               \n"
     ]
    }
   ],
   "source": [
    "# I did: cat MRSAT.RRF.a* > MRSAT.RRF\n",
    "names = list(\"abcdefghijklmn\")\n",
    "iter_csv = pd.read_csv(\"MRSAT.RRF.gz\", delimiter=\"|\", names=names, index_col=None, chunksize=1000000)\n",
    "chunks = []\n",
    "umls_uniprot = dict()\n",
    "for chunk in tqdm(iter_csv, total=67668372/1000000):\n",
    "    chunk.fillna(method='ffill', inplace=True)\n",
    "    chunk = chunk[chunk.i == \"SWISS_PROT\"]\n",
    "    d = dict(zip(chunk.a, chunk.k))\n",
    "    umls_uniprot.update(d)"
   ]
  },
  {
   "cell_type": "code",
   "execution_count": 45,
   "metadata": {
    "scrolled": true
   },
   "outputs": [
    {
     "data": {
      "text/plain": [
       "4493"
      ]
     },
     "execution_count": 45,
     "metadata": {},
     "output_type": "execute_result"
    }
   ],
   "source": [
    "len(umls_uniprot)"
   ]
  },
  {
   "cell_type": "code",
   "execution_count": 46,
   "metadata": {},
   "outputs": [],
   "source": [
    "for umls, uniprot in umls_uniprot.items():\n",
    "    XREF[umls].add(\"UNIPROT:\" + uniprot)"
   ]
  },
  {
   "cell_type": "code",
   "execution_count": 47,
   "metadata": {},
   "outputs": [
    {
     "data": {
      "text/plain": [
       "{'MESH:C081092', 'MTH:NOCODE', 'NCI:C127008', 'UNIPROT:Q04756'}"
      ]
     },
     "execution_count": 47,
     "metadata": {},
     "output_type": "execute_result"
    }
   ],
   "source": [
    "XREF['C0215993']"
   ]
  },
  {
   "cell_type": "code",
   "execution_count": 48,
   "metadata": {},
   "outputs": [],
   "source": [
    "with open(\"xrefs.shelve\", 'wb') as f:\n",
    "    pickle.dump(XREF, f)"
   ]
  },
  {
   "cell_type": "code",
   "execution_count": 49,
   "metadata": {},
   "outputs": [],
   "source": [
    "nodes['xrefs'] = nodes.index.map(lambda x: \";\".join(XREF.get(x,list())))"
   ]
  },
  {
   "cell_type": "code",
   "execution_count": 50,
   "metadata": {},
   "outputs": [
    {
     "data": {
      "text/html": [
       "<div>\n",
       "<style scoped>\n",
       "    .dataframe tbody tr th:only-of-type {\n",
       "        vertical-align: middle;\n",
       "    }\n",
       "\n",
       "    .dataframe tbody tr th {\n",
       "        vertical-align: top;\n",
       "    }\n",
       "\n",
       "    .dataframe thead th {\n",
       "        text-align: right;\n",
       "    }\n",
       "</style>\n",
       "<table border=\"1\" class=\"dataframe\">\n",
       "  <thead>\n",
       "    <tr style=\"text-align: right;\">\n",
       "      <th></th>\n",
       "      <th>LABEL</th>\n",
       "      <th>umls_type</th>\n",
       "      <th>umls_type_label</th>\n",
       "      <th>blm_type</th>\n",
       "      <th>xrefs</th>\n",
       "    </tr>\n",
       "    <tr>\n",
       "      <th>ID</th>\n",
       "      <th></th>\n",
       "      <th></th>\n",
       "      <th></th>\n",
       "      <th></th>\n",
       "      <th></th>\n",
       "    </tr>\n",
       "  </thead>\n",
       "  <tbody>\n",
       "    <tr>\n",
       "      <th>C0061133</th>\n",
       "      <td>gastrin releasing peptide (14-27)</td>\n",
       "      <td>T116</td>\n",
       "      <td>Amino Acid, Peptide, or Protein</td>\n",
       "      <td>protein</td>\n",
       "      <td>MESH:C041922</td>\n",
       "    </tr>\n",
       "    <tr>\n",
       "      <th>C1523610</th>\n",
       "      <td>regulation of tube length, open tracheal system</td>\n",
       "      <td>T042</td>\n",
       "      <td>Organ or Tissue Function</td>\n",
       "      <td>biological_process_or_activity</td>\n",
       "      <td>GO:GO:0035159</td>\n",
       "    </tr>\n",
       "    <tr>\n",
       "      <th>C0312636</th>\n",
       "      <td>Antibody to hepatitis E virus</td>\n",
       "      <td>T116|T129</td>\n",
       "      <td>Amino Acid, Peptide, or Protein|Immunologic Fa...</td>\n",
       "      <td>biological_entity</td>\n",
       "      <td>LNC:MTHU004056;SNMI:F-C2A90;MTH:NOCODE;SNOMEDC...</td>\n",
       "    </tr>\n",
       "    <tr>\n",
       "      <th>C0539817</th>\n",
       "      <td>cytochrome p30</td>\n",
       "      <td>T116|T126</td>\n",
       "      <td>Amino Acid, Peptide, or Protein|Enzyme</td>\n",
       "      <td>protein</td>\n",
       "      <td>MESH:C106367</td>\n",
       "    </tr>\n",
       "    <tr>\n",
       "      <th>C0406240</th>\n",
       "      <td>Photosensitive atopic dermatitis</td>\n",
       "      <td>T047</td>\n",
       "      <td>Disease or Syndrome</td>\n",
       "      <td>disease_or_phenotypic_feature</td>\n",
       "      <td>RCD:X505U;SNOMEDCT_US:238548006;SNOMEDCT_US:23...</td>\n",
       "    </tr>\n",
       "  </tbody>\n",
       "</table>\n",
       "</div>"
      ],
      "text/plain": [
       "                                                    LABEL  umls_type  \\\n",
       "ID                                                                     \n",
       "C0061133                gastrin releasing peptide (14-27)       T116   \n",
       "C1523610  regulation of tube length, open tracheal system       T042   \n",
       "C0312636                    Antibody to hepatitis E virus  T116|T129   \n",
       "C0539817                                   cytochrome p30  T116|T126   \n",
       "C0406240                 Photosensitive atopic dermatitis       T047   \n",
       "\n",
       "                                            umls_type_label                        blm_type  \\\n",
       "ID                                                                                            \n",
       "C0061133                    Amino Acid, Peptide, or Protein                         protein   \n",
       "C1523610                           Organ or Tissue Function  biological_process_or_activity   \n",
       "C0312636  Amino Acid, Peptide, or Protein|Immunologic Fa...               biological_entity   \n",
       "C0539817             Amino Acid, Peptide, or Protein|Enzyme                         protein   \n",
       "C0406240                                Disease or Syndrome   disease_or_phenotypic_feature   \n",
       "\n",
       "                                                      xrefs  \n",
       "ID                                                           \n",
       "C0061133                                       MESH:C041922  \n",
       "C1523610                                      GO:GO:0035159  \n",
       "C0312636  LNC:MTHU004056;SNMI:F-C2A90;MTH:NOCODE;SNOMEDC...  \n",
       "C0539817                                       MESH:C106367  \n",
       "C0406240  RCD:X505U;SNOMEDCT_US:238548006;SNOMEDCT_US:23...  "
      ]
     },
     "execution_count": 50,
     "metadata": {},
     "output_type": "execute_result"
    }
   ],
   "source": [
    "nodes.head()"
   ]
  },
  {
   "cell_type": "code",
   "execution_count": 51,
   "metadata": {},
   "outputs": [],
   "source": [
    "nodes.to_csv(\"nodes_xref.csv\")"
   ]
  }
 ],
 "metadata": {
  "kernelspec": {
   "display_name": "Python 3",
   "language": "python",
   "name": "python3"
  },
  "language_info": {
   "codemirror_mode": {
    "name": "ipython",
    "version": 3
   },
   "file_extension": ".py",
   "mimetype": "text/x-python",
   "name": "python",
   "nbconvert_exporter": "python",
   "pygments_lexer": "ipython3",
   "version": "3.5.2"
  }
 },
 "nbformat": 4,
 "nbformat_minor": 2
}
