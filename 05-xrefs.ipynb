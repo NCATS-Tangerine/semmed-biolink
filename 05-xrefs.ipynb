{
 "cells": [
  {
   "cell_type": "code",
   "execution_count": 15,
   "metadata": {},
   "outputs": [],
   "source": [
    "import os\n",
    "import pickle\n",
    "%matplotlib inline\n",
    "import pandas as pd\n",
    "import seaborn as sns\n",
    "import shelve\n",
    "import re\n",
    "from collections import defaultdict, Counter\n",
    "from tqdm import tqdm\n",
    "from itertools import chain\n",
    "from more_itertools import chunked\n",
    "from collections import Counter\n",
    "from pprint import pprint\n",
    "import requests\n",
    "from pyquery import PyQuery as pq"
   ]
  },
  {
   "cell_type": "code",
   "execution_count": 2,
   "metadata": {},
   "outputs": [],
   "source": [
    "uri_to_curie = lambda s: s.split(\"/\")[-1].replace(\"_\", \":\")"
   ]
  },
  {
   "cell_type": "code",
   "execution_count": 3,
   "metadata": {},
   "outputs": [],
   "source": [
    "# edges = pd.read_csv('edges_biolink.csv')\n",
    "nodes = pd.read_csv(\"nodes_biolink.csv\", index_col=0)"
   ]
  },
  {
   "cell_type": "code",
   "execution_count": 6,
   "metadata": {},
   "outputs": [
    {
     "data": {
      "text/html": [
       "<div>\n",
       "<style scoped>\n",
       "    .dataframe tbody tr th:only-of-type {\n",
       "        vertical-align: middle;\n",
       "    }\n",
       "\n",
       "    .dataframe tbody tr th {\n",
       "        vertical-align: top;\n",
       "    }\n",
       "\n",
       "    .dataframe thead th {\n",
       "        text-align: right;\n",
       "    }\n",
       "</style>\n",
       "<table border=\"1\" class=\"dataframe\">\n",
       "  <thead>\n",
       "    <tr style=\"text-align: right;\">\n",
       "      <th></th>\n",
       "      <th>label</th>\n",
       "      <th>TYPE</th>\n",
       "      <th>bl_type</th>\n",
       "    </tr>\n",
       "    <tr>\n",
       "      <th>ID</th>\n",
       "      <th></th>\n",
       "      <th></th>\n",
       "      <th></th>\n",
       "    </tr>\n",
       "  </thead>\n",
       "  <tbody>\n",
       "    <tr>\n",
       "      <th>C0038195</th>\n",
       "      <td>State Medicine</td>\n",
       "      <td>Activities &amp; Behaviors</td>\n",
       "      <td>activity_and_behavior</td>\n",
       "    </tr>\n",
       "    <tr>\n",
       "      <th>C1290952</th>\n",
       "      <td>Taking medication</td>\n",
       "      <td>Activities &amp; Behaviors</td>\n",
       "      <td>activity_and_behavior</td>\n",
       "    </tr>\n",
       "    <tr>\n",
       "      <th>C0085092</th>\n",
       "      <td>Parenting behavior</td>\n",
       "      <td>Activities &amp; Behaviors</td>\n",
       "      <td>activity_and_behavior</td>\n",
       "    </tr>\n",
       "    <tr>\n",
       "      <th>C1096771</th>\n",
       "      <td>Murderer</td>\n",
       "      <td>Activities &amp; Behaviors</td>\n",
       "      <td>activity_and_behavior</td>\n",
       "    </tr>\n",
       "    <tr>\n",
       "      <th>C1299651</th>\n",
       "      <td>Serious reportable event</td>\n",
       "      <td>Activities &amp; Behaviors</td>\n",
       "      <td>activity_and_behavior</td>\n",
       "    </tr>\n",
       "  </tbody>\n",
       "</table>\n",
       "</div>"
      ],
      "text/plain": [
       "                             label                    TYPE  \\\n",
       "ID                                                           \n",
       "C0038195            State Medicine  Activities & Behaviors   \n",
       "C1290952         Taking medication  Activities & Behaviors   \n",
       "C0085092        Parenting behavior  Activities & Behaviors   \n",
       "C1096771                  Murderer  Activities & Behaviors   \n",
       "C1299651  Serious reportable event  Activities & Behaviors   \n",
       "\n",
       "                        bl_type  \n",
       "ID                               \n",
       "C0038195  activity_and_behavior  \n",
       "C1290952  activity_and_behavior  \n",
       "C0085092  activity_and_behavior  \n",
       "C1096771  activity_and_behavior  \n",
       "C1299651  activity_and_behavior  "
      ]
     },
     "execution_count": 6,
     "metadata": {},
     "output_type": "execute_result"
    }
   ],
   "source": [
    "nodes.head()"
   ]
  },
  {
   "cell_type": "code",
   "execution_count": 7,
   "metadata": {},
   "outputs": [
    {
     "data": {
      "text/plain": [
       "chemical_substance       60964\n",
       "individual_organism      41618\n",
       "disease                  38245\n",
       "protein                  28504\n",
       "genomic_entity           22456\n",
       "anatomical_entity        15181\n",
       "biological_process        9163\n",
       "named_thing               1342\n",
       "activity_and_behavior     1011\n",
       "Name: bl_type, dtype: int64"
      ]
     },
     "execution_count": 7,
     "metadata": {},
     "output_type": "execute_result"
    }
   ],
   "source": [
    "nodes.bl_type.value_counts()"
   ]
  },
  {
   "cell_type": "raw",
   "metadata": {},
   "source": [
    "## used by xray\n",
    "anatomical_entity: uberon  # we can map through NCI\n",
    "biological_process: GO\n",
    "chemical_substance: CHEMBL  # MSH RXNORM NDFRT DRUGBANK UNII\n",
    "disease: DOID  # NCI, ICD10PCS, SNOMEDCT_US, ICD10CM, OMIM, \n",
    "microRNA: NCBIGene  # NCBI, HGNC\n",
    "pathway: reactome  # map through go?\n",
    "phenotypic_feature: HP  # HPO\n",
    "protein: uniprot\n",
    "\n",
    "# we need:\n",
    "anatomical_entity:\n",
    "chemical_substance\n",
    "disease\n",
    "genomic_entity # NCBI, HGNC\n",
    "biological_process\n",
    "\n",
    "# need to get externally:\n",
    "UBERON, CHEMBL, DOID, UNIPROT"
   ]
  },
  {
   "cell_type": "code",
   "execution_count": 8,
   "metadata": {},
   "outputs": [],
   "source": [
    "## parse UMLS flat file to get all UMLS xrefs\n",
    "# see: https://www.ncbi.nlm.nih.gov/books/NBK9685/"
   ]
  },
  {
   "cell_type": "code",
   "execution_count": 186,
   "metadata": {},
   "outputs": [],
   "source": [
    "names = \"CUI,LAT,TS,LUI,STT,SUI,ISPREF,AUI,SAUI,SCUI,SDUI,SAB,TTY,CODE,STR,SRL,SUPPRESS,CVF,X\".split(\",\")\n",
    "iter_csv = pd.read_csv(\"MRCONSO.RRF\", delimiter=\"|\", names=names, index_col=None, chunksize=10000)\n",
    "# only get english\n",
    "umls = pd.concat([chunk[chunk['LAT'] == \"ENG\"] for chunk in iter_csv])\n",
    "# only get CUIs in our list of nodes\n",
    "umls = umls[umls.CUI.isin(nodes.index)]"
   ]
  },
  {
   "cell_type": "code",
   "execution_count": 187,
   "metadata": {},
   "outputs": [],
   "source": [
    "# only keep resources with >x counts\n",
    "# keep_sources = {k for k,v in umls.SAB.value_counts().items() if v>=4000}\n",
    "# umls = umls[umls.SAB.isin(keep_sources)]"
   ]
  },
  {
   "cell_type": "code",
   "execution_count": 188,
   "metadata": {},
   "outputs": [],
   "source": [
    "umls['xref'] = umls.SAB + \":\" + umls.CODE.map(str)\n",
    "# fix this MSH MESH nonsense\n",
    "umls.xref = umls.xref.str.replace(\"MSH:\", \"MESH:\")\n",
    "# NCI_FDA is UNII\n",
    "umls.xref = umls.xref.str.replace(\"NCI_FDA:\", \"UNII:\")"
   ]
  },
  {
   "cell_type": "code",
   "execution_count": 189,
   "metadata": {},
   "outputs": [
    {
     "data": {
      "text/html": [
       "<div>\n",
       "<style scoped>\n",
       "    .dataframe tbody tr th:only-of-type {\n",
       "        vertical-align: middle;\n",
       "    }\n",
       "\n",
       "    .dataframe tbody tr th {\n",
       "        vertical-align: top;\n",
       "    }\n",
       "\n",
       "    .dataframe thead th {\n",
       "        text-align: right;\n",
       "    }\n",
       "</style>\n",
       "<table border=\"1\" class=\"dataframe\">\n",
       "  <thead>\n",
       "    <tr style=\"text-align: right;\">\n",
       "      <th></th>\n",
       "      <th>CUI</th>\n",
       "      <th>LAT</th>\n",
       "      <th>TS</th>\n",
       "      <th>LUI</th>\n",
       "      <th>STT</th>\n",
       "      <th>SUI</th>\n",
       "      <th>ISPREF</th>\n",
       "      <th>AUI</th>\n",
       "      <th>SAUI</th>\n",
       "      <th>SCUI</th>\n",
       "      <th>SDUI</th>\n",
       "      <th>SAB</th>\n",
       "      <th>TTY</th>\n",
       "      <th>CODE</th>\n",
       "      <th>STR</th>\n",
       "      <th>SRL</th>\n",
       "      <th>SUPPRESS</th>\n",
       "      <th>CVF</th>\n",
       "      <th>X</th>\n",
       "      <th>xref</th>\n",
       "    </tr>\n",
       "  </thead>\n",
       "  <tbody>\n",
       "    <tr>\n",
       "      <th>6</th>\n",
       "      <td>C0000039</td>\n",
       "      <td>ENG</td>\n",
       "      <td>P</td>\n",
       "      <td>L0000039</td>\n",
       "      <td>PF</td>\n",
       "      <td>S0007564</td>\n",
       "      <td>N</td>\n",
       "      <td>A0016515</td>\n",
       "      <td>NaN</td>\n",
       "      <td>M0023172</td>\n",
       "      <td>D015060</td>\n",
       "      <td>MSH</td>\n",
       "      <td>MH</td>\n",
       "      <td>D015060</td>\n",
       "      <td>1,2-Dipalmitoylphosphatidylcholine</td>\n",
       "      <td>0</td>\n",
       "      <td>N</td>\n",
       "      <td>256.0</td>\n",
       "      <td>NaN</td>\n",
       "      <td>MESH:D015060</td>\n",
       "    </tr>\n",
       "    <tr>\n",
       "      <th>7</th>\n",
       "      <td>C0000039</td>\n",
       "      <td>ENG</td>\n",
       "      <td>P</td>\n",
       "      <td>L0000039</td>\n",
       "      <td>PF</td>\n",
       "      <td>S0007564</td>\n",
       "      <td>N</td>\n",
       "      <td>A17972823</td>\n",
       "      <td>NaN</td>\n",
       "      <td>N0000007747</td>\n",
       "      <td>NaN</td>\n",
       "      <td>NDFRT</td>\n",
       "      <td>PT</td>\n",
       "      <td>N0000007747</td>\n",
       "      <td>1,2-Dipalmitoylphosphatidylcholine</td>\n",
       "      <td>0</td>\n",
       "      <td>N</td>\n",
       "      <td>256.0</td>\n",
       "      <td>NaN</td>\n",
       "      <td>NDFRT:N0000007747</td>\n",
       "    </tr>\n",
       "  </tbody>\n",
       "</table>\n",
       "</div>"
      ],
      "text/plain": [
       "        CUI  LAT TS       LUI STT       SUI ISPREF        AUI  SAUI         SCUI     SDUI    SAB TTY         CODE  \\\n",
       "6  C0000039  ENG  P  L0000039  PF  S0007564      N   A0016515   NaN     M0023172  D015060    MSH  MH      D015060   \n",
       "7  C0000039  ENG  P  L0000039  PF  S0007564      N  A17972823   NaN  N0000007747      NaN  NDFRT  PT  N0000007747   \n",
       "\n",
       "                                  STR  SRL SUPPRESS    CVF   X               xref  \n",
       "6  1,2-Dipalmitoylphosphatidylcholine    0        N  256.0 NaN       MESH:D015060  \n",
       "7  1,2-Dipalmitoylphosphatidylcholine    0        N  256.0 NaN  NDFRT:N0000007747  "
      ]
     },
     "execution_count": 189,
     "metadata": {},
     "output_type": "execute_result"
    }
   ],
   "source": [
    "umls.head(2)"
   ]
  },
  {
   "cell_type": "code",
   "execution_count": 190,
   "metadata": {},
   "outputs": [
    {
     "name": "stdout",
     "output_type": "stream",
     "text": [
      "{'CHV:0000041179', 'RXNORM:151775', 'MESH:D000068298', 'RCD:x02cs'}\n"
     ]
    }
   ],
   "source": [
    "XREF = dict(umls.groupby(\"CUI\")['xref'].apply(set))\n",
    "XREF = defaultdict(set, XREF)\n",
    "print(XREF['C0591520'])"
   ]
  },
  {
   "cell_type": "code",
   "execution_count": 117,
   "metadata": {},
   "outputs": [],
   "source": [
    "# all xrefs we get from umls\n",
    "# Counter(list(chain(*[list(map(lambda x:x.split(\":\",1)[0], y)) for y in XREF.values()])))"
   ]
  },
  {
   "cell_type": "markdown",
   "metadata": {},
   "source": [
    "### Chemicals and drugs"
   ]
  },
  {
   "cell_type": "raw",
   "metadata": {},
   "source": [
    "plan: UMLS has mesh xrefs. From mesh, we can get UNII and CAS. From UNII_FDA, we can get inchikeys \n",
    "(lookup using cas or unii). From chembl, we can get chembl IDs from the inchikeys\n",
    "So: UMLS -> mesh -> unii/cas -> inchikey -> chembl\n",
    "insane, I know."
   ]
  },
  {
   "cell_type": "code",
   "execution_count": 118,
   "metadata": {},
   "outputs": [
    {
     "name": "stdout",
     "output_type": "stream",
     "text": [
      "60964\n",
      "[('MESH', 51016),\n",
      " ('SNOMEDCT_US', 14463),\n",
      " ('NCI', 10448),\n",
      " ('RXNORM', 9297),\n",
      " ('NDFRT', 8986),\n",
      " ('CHV', 8200),\n",
      " ('MMSL', 7749),\n",
      " ('UNII', 6210),\n",
      " ('NDDF', 6165),\n",
      " ('RCD', 5967),\n",
      " ('MTHSPL', 5967),\n",
      " ('SNMI', 5314),\n",
      " ('MTH', 5115),\n",
      " ('LNC', 5053),\n",
      " ('VANDF', 3921),\n",
      " ('CSP', 2807),\n",
      " ('MEDCIN', 2798),\n",
      " ('DRUGBANK', 2764),\n",
      " ('SNM', 2628),\n",
      " ('PDQ', 2284),\n",
      " ('AOD', 1860),\n",
      " ('LCH_NW', 1768),\n",
      " ('NCI_NCI-GLOSS', 1481),\n",
      " ('LCH', 1154),\n",
      " ('PSY', 546)]\n"
     ]
    }
   ],
   "source": [
    "# what xrefs are on chemicals?\n",
    "chem_umls = nodes[nodes.bl_type == \"chemical_substance\"].index\n",
    "xref_chem = {k:v for k,v in XREF.items() if k in chem_umls}\n",
    "print(len(chem_umls))\n",
    "c = Counter(list(chain(*[list(map(lambda x:x.split(\":\",1)[0], y)) for y in xref_chem.values()])))\n",
    "pprint(c.most_common(25))\n",
    "# nearly all have a mesh ID. not much of anything else\n",
    "# neither mesh nor umls have inchikeys, or inchi, or smiles or anything usefull for linking out\n",
    "# blech"
   ]
  },
  {
   "cell_type": "code",
   "execution_count": 32,
   "metadata": {},
   "outputs": [],
   "source": [
    "import pandas as pd\n",
    "import requests\n",
    "pd.set_option(\"display.width\", 120)\n",
    "import sys, os\n",
    "sys.path.insert(0, \"/home/gstupp/projects/WikidataIntegrator\")\n",
    "from wikidataintegrator import wdi_helpers, wdi_core, wdi_login\n",
    "\n",
    "URL = \"http://id.nlm.nih.gov/mesh/sparql\"\n",
    "PREFIX = \"\"\"\n",
    "PREFIX rdf: <http://www.w3.org/1999/02/22-rdf-syntax-ns#>\n",
    "PREFIX rdfs: <http://www.w3.org/2000/01/rdf-schema#>\n",
    "PREFIX xsd: <http://www.w3.org/2001/XMLSchema#>\n",
    "PREFIX owl: <http://www.w3.org/2002/07/owl#>\n",
    "PREFIX meshv: <http://id.nlm.nih.gov/mesh/vocab#>\n",
    "PREFIX mesh: <http://id.nlm.nih.gov/mesh/>\n",
    "\"\"\"\n",
    "\n",
    "def sparql_query(query):\n",
    "    params = {'query': PREFIX + query, 'format': 'JSON', 'limit': 1000, 'offset': 0}\n",
    "    r = requests.get(URL, params=params)\n",
    "    res = [{k: v['value'] for k, v in x.items()} for x in r.json()['results']['bindings']]\n",
    "    t = tqdm()\n",
    "    while True:\n",
    "        t.update(1)\n",
    "        params['offset'] += 1000\n",
    "        r = requests.get(URL, params=params).json()['results']['bindings']\n",
    "        if not r:\n",
    "            break\n",
    "        res.extend([{k: v['value'] for k, v in x.items()} for x in r])\n",
    "    df = pd.DataFrame(res)\n",
    "    return df"
   ]
  },
  {
   "cell_type": "code",
   "execution_count": null,
   "metadata": {},
   "outputs": [],
   "source": [
    "query = \"\"\"\n",
    "SELECT distinct ?mesh ?meshLabel ?r ?rr\n",
    "FROM <http://id.nlm.nih.gov/mesh> WHERE {\n",
    "  ?mesh meshv:active 1 .\n",
    "  ?mesh meshv:preferredMappedTo ?p .\n",
    "  ?p meshv:treeNumber ?treeNum .\n",
    "  FILTER(STRSTARTS(STR(?treeNum), \"http://id.nlm.nih.gov/mesh/D\")) .\n",
    "  ?mesh rdfs:label ?meshLabel .\n",
    "  ?mesh meshv:preferredConcept [meshv:registryNumber ?r] .\n",
    "  #OPTIONAL {?mesh meshv:preferredConcept [meshv:relatedRegistryNumber ?rr]}\n",
    "}\n",
    "\"\"\"\n",
    "df = sparql_query(query)"
   ]
  },
  {
   "cell_type": "code",
   "execution_count": null,
   "metadata": {},
   "outputs": [],
   "source": [
    "df.r = df.r.replace(\"0\", pd.np.NaN)\n",
    "df.dropna(subset=[\"r\"], inplace=True)\n",
    "df = df[~df.r.str.startswith(\"EC \")]\n",
    "df.mesh = df.mesh.str.replace(\"http://id.nlm.nih.gov/mesh/\", \"\")\n",
    "df.set_index(\"mesh\", inplace=True)"
   ]
  },
  {
   "cell_type": "code",
   "execution_count": 55,
   "metadata": {},
   "outputs": [
    {
     "data": {
      "text/html": [
       "<div>\n",
       "<style scoped>\n",
       "    .dataframe tbody tr th:only-of-type {\n",
       "        vertical-align: middle;\n",
       "    }\n",
       "\n",
       "    .dataframe tbody tr th {\n",
       "        vertical-align: top;\n",
       "    }\n",
       "\n",
       "    .dataframe thead th {\n",
       "        text-align: right;\n",
       "    }\n",
       "</style>\n",
       "<table border=\"1\" class=\"dataframe\">\n",
       "  <thead>\n",
       "    <tr style=\"text-align: right;\">\n",
       "      <th></th>\n",
       "      <th>meshLabel</th>\n",
       "      <th>r</th>\n",
       "    </tr>\n",
       "    <tr>\n",
       "      <th>mesh</th>\n",
       "      <th></th>\n",
       "      <th></th>\n",
       "    </tr>\n",
       "  </thead>\n",
       "  <tbody>\n",
       "    <tr>\n",
       "      <th>C000603935</th>\n",
       "      <td>aripiprazole lauroxil</td>\n",
       "      <td>B786J7A343</td>\n",
       "    </tr>\n",
       "    <tr>\n",
       "      <th>C070576</th>\n",
       "      <td>PML protein, human</td>\n",
       "      <td>143220-95-5</td>\n",
       "    </tr>\n",
       "    <tr>\n",
       "      <th>C008700</th>\n",
       "      <td>2-octyl-gamma-bromoacetoacetate</td>\n",
       "      <td>40529-35-9</td>\n",
       "    </tr>\n",
       "    <tr>\n",
       "      <th>C009034</th>\n",
       "      <td>prenol</td>\n",
       "      <td>55MY0HM445</td>\n",
       "    </tr>\n",
       "    <tr>\n",
       "      <th>C010279</th>\n",
       "      <td>1-pentyn-3-ol</td>\n",
       "      <td>4187-86-4</td>\n",
       "    </tr>\n",
       "  </tbody>\n",
       "</table>\n",
       "</div>"
      ],
      "text/plain": [
       "                                  meshLabel            r\n",
       "mesh                                                    \n",
       "C000603935            aripiprazole lauroxil   B786J7A343\n",
       "C070576                  PML protein, human  143220-95-5\n",
       "C008700     2-octyl-gamma-bromoacetoacetate   40529-35-9\n",
       "C009034                              prenol   55MY0HM445\n",
       "C010279                       1-pentyn-3-ol    4187-86-4"
      ]
     },
     "execution_count": 55,
     "metadata": {},
     "output_type": "execute_result"
    }
   ],
   "source": [
    "df.to_csv(\"mesh_xrefs.csv\")\n",
    "df.head()"
   ]
  },
  {
   "cell_type": "code",
   "execution_count": 120,
   "metadata": {},
   "outputs": [
    {
     "data": {
      "text/plain": [
       "38952"
      ]
     },
     "execution_count": 120,
     "metadata": {},
     "output_type": "execute_result"
    }
   ],
   "source": [
    "mesh_xrefs = pd.read_csv(\"mesh_xrefs.csv\", index_col=0)\n",
    "mesh_xrefs.r = mesh_xrefs.r.apply(lambda x: \"CAS:\" + x if \"-\" in x else \"UNII:\" + x)\n",
    "mesh_xrefs = mesh_xrefs.groupby(\"mesh\").r.apply(set).to_dict()\n",
    "mesh_xrefs = {\"MESH:\"+k:v for k,v in mesh_xrefs.items()}\n",
    "len(mesh_xrefs)"
   ]
  },
  {
   "cell_type": "code",
   "execution_count": 121,
   "metadata": {},
   "outputs": [],
   "source": [
    "for k,v in xref_chem.items():\n",
    "    for vv in list(v):\n",
    "        if vv in mesh_xrefs:\n",
    "            v.update(mesh_xrefs[vv])"
   ]
  },
  {
   "cell_type": "code",
   "execution_count": 142,
   "metadata": {},
   "outputs": [],
   "source": [
    "# download: 'http://fdasis.nlm.nih.gov/srs/download/srs/UNII_Data.zip'\n",
    "unii_df = pd.read_csv(\"UNII Records 15Nov2017.txt\", dtype=str, sep='\\t', low_memory=False)\n",
    "unii_df.dropna(subset=['INCHIKEY'], inplace=True)"
   ]
  },
  {
   "cell_type": "code",
   "execution_count": 143,
   "metadata": {},
   "outputs": [
    {
     "data": {
      "text/html": [
       "<div>\n",
       "<style scoped>\n",
       "    .dataframe tbody tr th:only-of-type {\n",
       "        vertical-align: middle;\n",
       "    }\n",
       "\n",
       "    .dataframe tbody tr th {\n",
       "        vertical-align: top;\n",
       "    }\n",
       "\n",
       "    .dataframe thead th {\n",
       "        text-align: right;\n",
       "    }\n",
       "</style>\n",
       "<table border=\"1\" class=\"dataframe\">\n",
       "  <thead>\n",
       "    <tr style=\"text-align: right;\">\n",
       "      <th></th>\n",
       "      <th>UNII</th>\n",
       "      <th>PT</th>\n",
       "      <th>RN</th>\n",
       "      <th>EC</th>\n",
       "      <th>NCIT</th>\n",
       "      <th>RXCUI</th>\n",
       "      <th>PUBCHEM</th>\n",
       "      <th>ITIS</th>\n",
       "      <th>NCBI</th>\n",
       "      <th>PLANTS</th>\n",
       "      <th>GRIN</th>\n",
       "      <th>MPNS</th>\n",
       "      <th>INN_ID</th>\n",
       "      <th>MF</th>\n",
       "      <th>INCHIKEY</th>\n",
       "      <th>SMILES</th>\n",
       "      <th>INGREDIENT_TYPE</th>\n",
       "    </tr>\n",
       "  </thead>\n",
       "  <tbody>\n",
       "    <tr>\n",
       "      <th>0</th>\n",
       "      <td>0001H6R5H1</td>\n",
       "      <td>CEROUS SALICYLATE</td>\n",
       "      <td>526-17-0</td>\n",
       "      <td>NaN</td>\n",
       "      <td>NaN</td>\n",
       "      <td>NaN</td>\n",
       "      <td>76966289</td>\n",
       "      <td>NaN</td>\n",
       "      <td>NaN</td>\n",
       "      <td>NaN</td>\n",
       "      <td>NaN</td>\n",
       "      <td>NaN</td>\n",
       "      <td>NaN</td>\n",
       "      <td>3C7H5O3.Ce</td>\n",
       "      <td>RBJPAJHTYHKKTB-UHFFFAOYSA-K</td>\n",
       "      <td>[Ce+3].OC1=C(C=CC=C1)C([O-])=O.OC2=C(C=CC=C2)C...</td>\n",
       "      <td>INGREDIENT SUBSTANCE</td>\n",
       "    </tr>\n",
       "    <tr>\n",
       "      <th>1</th>\n",
       "      <td>000360VJE1</td>\n",
       "      <td>DI(DEHYDROABIETYL)AMINE ACETATE</td>\n",
       "      <td>53404-27-6</td>\n",
       "      <td>NaN</td>\n",
       "      <td>NaN</td>\n",
       "      <td>NaN</td>\n",
       "      <td>76969106</td>\n",
       "      <td>NaN</td>\n",
       "      <td>NaN</td>\n",
       "      <td>NaN</td>\n",
       "      <td>NaN</td>\n",
       "      <td>NaN</td>\n",
       "      <td>NaN</td>\n",
       "      <td>C40H59N.C2H4O2</td>\n",
       "      <td>SETIUTJHVNMKFM-TUICDNFPSA-N</td>\n",
       "      <td>CC(O)=O.CC(C)C1=CC=C2C(CC[C@H]3[C@](C)(CNC[C@]...</td>\n",
       "      <td>INGREDIENT SUBSTANCE</td>\n",
       "    </tr>\n",
       "    <tr>\n",
       "      <th>4</th>\n",
       "      <td>00072J7XWS</td>\n",
       "      <td>GERMANIUM</td>\n",
       "      <td>7440-56-4</td>\n",
       "      <td>231-164-3</td>\n",
       "      <td>C95170</td>\n",
       "      <td>4784</td>\n",
       "      <td>6326954</td>\n",
       "      <td>NaN</td>\n",
       "      <td>NaN</td>\n",
       "      <td>NaN</td>\n",
       "      <td>NaN</td>\n",
       "      <td>NaN</td>\n",
       "      <td>NaN</td>\n",
       "      <td>Ge</td>\n",
       "      <td>QUZPNFFHZPRKJD-UHFFFAOYSA-N</td>\n",
       "      <td>[Ge]</td>\n",
       "      <td>INGREDIENT SUBSTANCE</td>\n",
       "    </tr>\n",
       "    <tr>\n",
       "      <th>7</th>\n",
       "      <td>0009YL8Y42</td>\n",
       "      <td>5-(3-BROMO-4,5-DIMETHOXYBENZYL)PYRIMIDINE-2,4-...</td>\n",
       "      <td>NaN</td>\n",
       "      <td>NaN</td>\n",
       "      <td>NaN</td>\n",
       "      <td>NaN</td>\n",
       "      <td>76963562</td>\n",
       "      <td>NaN</td>\n",
       "      <td>NaN</td>\n",
       "      <td>NaN</td>\n",
       "      <td>NaN</td>\n",
       "      <td>NaN</td>\n",
       "      <td>NaN</td>\n",
       "      <td>C13H15BrN4O3</td>\n",
       "      <td>WXKLFFZKCBICOL-UHFFFAOYSA-N</td>\n",
       "      <td>COC1=C(OC)C(OBr)=CC(CC2=C(N)N=C(N)N=C2)=C1</td>\n",
       "      <td>INGREDIENT SUBSTANCE</td>\n",
       "    </tr>\n",
       "    <tr>\n",
       "      <th>9</th>\n",
       "      <td>000F949089</td>\n",
       "      <td>SPIROFYLLINE</td>\n",
       "      <td>98204-48-9</td>\n",
       "      <td>NaN</td>\n",
       "      <td>C74214</td>\n",
       "      <td>NaN</td>\n",
       "      <td>3086451</td>\n",
       "      <td>NaN</td>\n",
       "      <td>NaN</td>\n",
       "      <td>NaN</td>\n",
       "      <td>NaN</td>\n",
       "      <td>NaN</td>\n",
       "      <td>6195</td>\n",
       "      <td>C24H28N6O5</td>\n",
       "      <td>DSRGPEAMMDAUGF-UHFFFAOYSA-N</td>\n",
       "      <td>CN1C2=C(N(CC(=O)N3CC4(CCN(CCC5=CC=CC=C5)CC4)OC...</td>\n",
       "      <td>INGREDIENT SUBSTANCE</td>\n",
       "    </tr>\n",
       "  </tbody>\n",
       "</table>\n",
       "</div>"
      ],
      "text/plain": [
       "         UNII                                                 PT          RN         EC    NCIT RXCUI   PUBCHEM ITIS  \\\n",
       "0  0001H6R5H1                                  CEROUS SALICYLATE    526-17-0        NaN     NaN   NaN  76966289  NaN   \n",
       "1  000360VJE1                    DI(DEHYDROABIETYL)AMINE ACETATE  53404-27-6        NaN     NaN   NaN  76969106  NaN   \n",
       "4  00072J7XWS                                          GERMANIUM   7440-56-4  231-164-3  C95170  4784   6326954  NaN   \n",
       "7  0009YL8Y42  5-(3-BROMO-4,5-DIMETHOXYBENZYL)PYRIMIDINE-2,4-...         NaN        NaN     NaN   NaN  76963562  NaN   \n",
       "9  000F949089                                       SPIROFYLLINE  98204-48-9        NaN  C74214   NaN   3086451  NaN   \n",
       "\n",
       "  NCBI PLANTS GRIN MPNS INN_ID              MF                     INCHIKEY  \\\n",
       "0  NaN    NaN  NaN  NaN    NaN      3C7H5O3.Ce  RBJPAJHTYHKKTB-UHFFFAOYSA-K   \n",
       "1  NaN    NaN  NaN  NaN    NaN  C40H59N.C2H4O2  SETIUTJHVNMKFM-TUICDNFPSA-N   \n",
       "4  NaN    NaN  NaN  NaN    NaN              Ge  QUZPNFFHZPRKJD-UHFFFAOYSA-N   \n",
       "7  NaN    NaN  NaN  NaN    NaN    C13H15BrN4O3  WXKLFFZKCBICOL-UHFFFAOYSA-N   \n",
       "9  NaN    NaN  NaN  NaN   6195      C24H28N6O5  DSRGPEAMMDAUGF-UHFFFAOYSA-N   \n",
       "\n",
       "                                              SMILES       INGREDIENT_TYPE  \n",
       "0  [Ce+3].OC1=C(C=CC=C1)C([O-])=O.OC2=C(C=CC=C2)C...  INGREDIENT SUBSTANCE  \n",
       "1  CC(O)=O.CC(C)C1=CC=C2C(CC[C@H]3[C@](C)(CNC[C@]...  INGREDIENT SUBSTANCE  \n",
       "4                                               [Ge]  INGREDIENT SUBSTANCE  \n",
       "7         COC1=C(OC)C(OBr)=CC(CC2=C(N)N=C(N)N=C2)=C1  INGREDIENT SUBSTANCE  \n",
       "9  CN1C2=C(N(CC(=O)N3CC4(CCN(CCC5=CC=CC=C5)CC4)OC...  INGREDIENT SUBSTANCE  "
      ]
     },
     "execution_count": 143,
     "metadata": {},
     "output_type": "execute_result"
    }
   ],
   "source": [
    "unii_df.head()"
   ]
  },
  {
   "cell_type": "code",
   "execution_count": 147,
   "metadata": {},
   "outputs": [
    {
     "name": "stderr",
     "output_type": "stream",
     "text": [
      "100%|██████████| 58721/58721 [00:41<00:00, 1422.90it/s]\n"
     ]
    }
   ],
   "source": [
    "n=0\n",
    "for k,v in tqdm(xref_chem.items()):\n",
    "    for vv in list(v):\n",
    "        if vv.startswith(\"UNII:\"):\n",
    "            xref = vv.replace(\"UNII:\", \"\")\n",
    "            s = unii_df.query(\"UNII == @xref\").INCHIKEY\n",
    "            if not s.empty:\n",
    "                n+=1\n",
    "                v.add(\"INCHIKEY:\" + list(s)[0])"
   ]
  },
  {
   "cell_type": "code",
   "execution_count": 153,
   "metadata": {},
   "outputs": [
    {
     "name": "stdout",
     "output_type": "stream",
     "text": [
      "10030\n"
     ]
    },
    {
     "data": {
      "text/plain": [
       "[('C0048306', 'OSVMTWJCGUFAOD-KZQROQTASA-N'),\n",
       " ('C0044554', 'KWKAKUADMBZCLK-UHFFFAOYSA-N'),\n",
       " ('C0066326', 'AFBPFSWMIHJQDM-UHFFFAOYSA-N'),\n",
       " ('C0055402', 'CFKMVGJGLGKFKI-UHFFFAOYSA-N')]"
      ]
     },
     "execution_count": 153,
     "metadata": {},
     "output_type": "execute_result"
    }
   ],
   "source": [
    "xref_inchi = {k:v for k,v in xref_chem.items() if any(vv.startswith(\"INCHIKEY:\") for vv in v)}\n",
    "xref_inchi = {k:[vv for vv in v if vv.startswith(\"INCHIKEY:\")][0].replace(\"INCHIKEY:\", \"\") for k,v in xref_inchi.items()}\n",
    "print(len(xref_inchi))\n",
    "list(xref_inchi.items())[:4]"
   ]
  },
  {
   "cell_type": "code",
   "execution_count": 177,
   "metadata": {},
   "outputs": [
    {
     "name": "stderr",
     "output_type": "stream",
     "text": [
      "101it [06:58,  4.15s/it]                           \n"
     ]
    }
   ],
   "source": [
    "url = \"https://www.ebi.ac.uk/chembl/api/data/molecule?molecule_structures__standard_inchi_key__in={}&format=json&limit=100\"\n",
    "for chunk in tqdm(chunked(xref_inchi.items(), 100), total=len(xref_inchi)/100):\n",
    "    chunk = dict(chunk)\n",
    "    chunk = {v:k for k,v in chunk.items()}\n",
    "    inchis = \",\".join(chunk)\n",
    "    mols = requests.get(url.format(inchis)).json()['molecules']\n",
    "    for m in mols:\n",
    "        chembl = m['molecule_chembl_id']\n",
    "        inchi = m['molecule_structures']['standard_inchi_key']\n",
    "        XREF[chunk[inchi]].add(\"CHEMBL:\" + chembl)"
   ]
  },
  {
   "cell_type": "code",
   "execution_count": 179,
   "metadata": {},
   "outputs": [
    {
     "data": {
      "text/plain": [
       "7887"
      ]
     },
     "execution_count": 179,
     "metadata": {},
     "output_type": "execute_result"
    }
   ],
   "source": [
    "len({k:v for k,v in XREF.items() if any(vv.startswith(\"CHEMBL:\") for vv in v)})"
   ]
  },
  {
   "cell_type": "code",
   "execution_count": null,
   "metadata": {},
   "outputs": [],
   "source": [
    "## UBERON"
   ]
  },
  {
   "cell_type": "code",
   "execution_count": 2,
   "metadata": {},
   "outputs": [
    {
     "name": "stdout",
     "output_type": "stream",
     "text": [
      "--2018-05-10 11:46:53--  http://purl.obolibrary.org/obo/uberon.owl\n",
      "Resolving purl.obolibrary.org (purl.obolibrary.org)... 52.3.123.63\n",
      "Connecting to purl.obolibrary.org (purl.obolibrary.org)|52.3.123.63|:80... connected.\n",
      "HTTP request sent, awaiting response... 302 Found\n",
      "Location: http://ontologies.berkeleybop.org/uberon.owl [following]\n",
      "--2018-05-10 11:46:53--  http://ontologies.berkeleybop.org/uberon.owl\n",
      "Resolving ontologies.berkeleybop.org (ontologies.berkeleybop.org)... 13.33.227.43, 13.33.227.230, 13.33.227.162, ...\n",
      "Connecting to ontologies.berkeleybop.org (ontologies.berkeleybop.org)|13.33.227.43|:80... connected.\n",
      "HTTP request sent, awaiting response... 200 OK\n",
      "Length: 68929267 (66M) [application/rdf+xml]\n",
      "Saving to: ‘uberon.owl’\n",
      "\n",
      "uberon.owl          100%[===================>]  65.74M  18.1MB/s    in 5.9s    \n",
      "\n",
      "2018-05-10 11:46:59 (11.2 MB/s) - ‘uberon.owl’ saved [68929267/68929267]\n",
      "\n"
     ]
    }
   ],
   "source": [
    "!wget -N http://purl.obolibrary.org/obo/uberon.owl"
   ]
  },
  {
   "cell_type": "code",
   "execution_count": 3,
   "metadata": {},
   "outputs": [],
   "source": [
    "s = \"\"\"\n",
    "PREFIX rdfs: <http://www.w3.org/2000/01/rdf-schema#>\n",
    "PREFIX rdf: <http://www.w3.org/1999/02/22-rdf-syntax-ns#>\n",
    "PREFIX owl: <http://www.w3.org/2002/07/owl#>\n",
    "PREFIX oboInOwl: <http://www.geneontology.org/formats/oboInOwl#>\n",
    "\n",
    "SELECT * WHERE {\n",
    "  ?item oboInOwl:hasDbXref ?xref\n",
    "}\n",
    "\"\"\"\n",
    "with open(\"query.sparql\", 'w') as f:\n",
    "    f.write(s)"
   ]
  },
  {
   "cell_type": "code",
   "execution_count": 4,
   "metadata": {},
   "outputs": [],
   "source": [
    "!robot query --input uberon.owl --query query.sparql uberon.csv"
   ]
  },
  {
   "cell_type": "code",
   "execution_count": 36,
   "metadata": {},
   "outputs": [
    {
     "data": {
      "text/html": [
       "<div>\n",
       "<style scoped>\n",
       "    .dataframe tbody tr th:only-of-type {\n",
       "        vertical-align: middle;\n",
       "    }\n",
       "\n",
       "    .dataframe tbody tr th {\n",
       "        vertical-align: top;\n",
       "    }\n",
       "\n",
       "    .dataframe thead th {\n",
       "        text-align: right;\n",
       "    }\n",
       "</style>\n",
       "<table border=\"1\" class=\"dataframe\">\n",
       "  <thead>\n",
       "    <tr style=\"text-align: right;\">\n",
       "      <th></th>\n",
       "      <th>item</th>\n",
       "      <th>xref</th>\n",
       "    </tr>\n",
       "  </thead>\n",
       "  <tbody>\n",
       "    <tr>\n",
       "      <th>6</th>\n",
       "      <td>UBERON:0006472</td>\n",
       "      <td>C1272528</td>\n",
       "    </tr>\n",
       "    <tr>\n",
       "      <th>66</th>\n",
       "      <td>UBERON:0001439</td>\n",
       "      <td>C0222661</td>\n",
       "    </tr>\n",
       "    <tr>\n",
       "      <th>87</th>\n",
       "      <td>UBERON:0001072</td>\n",
       "      <td>C0042458</td>\n",
       "    </tr>\n",
       "    <tr>\n",
       "      <th>144</th>\n",
       "      <td>UBERON:0001705</td>\n",
       "      <td>C0027342</td>\n",
       "    </tr>\n",
       "    <tr>\n",
       "      <th>179</th>\n",
       "      <td>UBERON:0002370</td>\n",
       "      <td>C0040113</td>\n",
       "    </tr>\n",
       "  </tbody>\n",
       "</table>\n",
       "</div>"
      ],
      "text/plain": [
       "               item      xref\n",
       "6    UBERON:0006472  C1272528\n",
       "66   UBERON:0001439  C0222661\n",
       "87   UBERON:0001072  C0042458\n",
       "144  UBERON:0001705  C0027342\n",
       "179  UBERON:0002370  C0040113"
      ]
     },
     "execution_count": 36,
     "metadata": {},
     "output_type": "execute_result"
    }
   ],
   "source": [
    "df = pd.read_csv(\"uberon.csv\")\n",
    "df = df[df.xref.str.startswith(\"UMLS:\")]\n",
    "df.xref = df.xref.str.replace(\"UMLS:\", \"\")\n",
    "df.item = df.item.apply(uri_to_curie)\n",
    "df.head()"
   ]
  },
  {
   "cell_type": "code",
   "execution_count": 62,
   "metadata": {},
   "outputs": [],
   "source": [
    "s = df.groupby(\"xref\")['item'].apply(set)\n",
    "for umls, x in dict(s).items():\n",
    "    XREF[umls].update(x)"
   ]
  },
  {
   "cell_type": "code",
   "execution_count": 64,
   "metadata": {},
   "outputs": [
    {
     "data": {
      "text/plain": [
       "{'SNOMEDCT_US:384765009', 'UBERON:0006472'}"
      ]
     },
     "execution_count": 64,
     "metadata": {},
     "output_type": "execute_result"
    }
   ],
   "source": [
    "XREF['C1272528']"
   ]
  },
  {
   "cell_type": "code",
   "execution_count": 65,
   "metadata": {},
   "outputs": [],
   "source": [
    "## DOID"
   ]
  },
  {
   "cell_type": "code",
   "execution_count": 66,
   "metadata": {},
   "outputs": [
    {
     "name": "stdout",
     "output_type": "stream",
     "text": [
      "--2018-05-10 12:23:52--  http://purl.obolibrary.org/obo/doid.owl\n",
      "Resolving purl.obolibrary.org (purl.obolibrary.org)... 52.3.123.63\n",
      "Connecting to purl.obolibrary.org (purl.obolibrary.org)|52.3.123.63|:80... connected.\n",
      "HTTP request sent, awaiting response... 302 Found\n",
      "Location: https://raw.githubusercontent.com/DiseaseOntology/HumanDiseaseOntology/master/src/ontology/doid.owl [following]\n",
      "--2018-05-10 12:23:52--  https://raw.githubusercontent.com/DiseaseOntology/HumanDiseaseOntology/master/src/ontology/doid.owl\n",
      "Resolving raw.githubusercontent.com (raw.githubusercontent.com)... 151.101.24.133\n",
      "Connecting to raw.githubusercontent.com (raw.githubusercontent.com)|151.101.24.133|:443... connected.\n",
      "HTTP request sent, awaiting response... 200 OK\n",
      "Length: 26195817 (25M) [text/plain]\n",
      "Saving to: ‘doid.owl’\n",
      "\n",
      "doid.owl            100%[===================>]  24.98M  20.1MB/s    in 1.2s    \n",
      "\n",
      "Last-modified header missing -- time-stamps turned off.\n",
      "2018-05-10 12:23:54 (20.1 MB/s) - ‘doid.owl’ saved [26195817/26195817]\n",
      "\n"
     ]
    }
   ],
   "source": [
    "!wget -N http://purl.obolibrary.org/obo/doid.owl"
   ]
  },
  {
   "cell_type": "code",
   "execution_count": 67,
   "metadata": {},
   "outputs": [],
   "source": [
    "!robot query --input doid.owl --query query.sparql doid.csv"
   ]
  },
  {
   "cell_type": "code",
   "execution_count": 84,
   "metadata": {},
   "outputs": [
    {
     "data": {
      "text/html": [
       "<div>\n",
       "<style scoped>\n",
       "    .dataframe tbody tr th:only-of-type {\n",
       "        vertical-align: middle;\n",
       "    }\n",
       "\n",
       "    .dataframe tbody tr th {\n",
       "        vertical-align: top;\n",
       "    }\n",
       "\n",
       "    .dataframe thead th {\n",
       "        text-align: right;\n",
       "    }\n",
       "</style>\n",
       "<table border=\"1\" class=\"dataframe\">\n",
       "  <thead>\n",
       "    <tr style=\"text-align: right;\">\n",
       "      <th></th>\n",
       "      <th>item</th>\n",
       "      <th>xref</th>\n",
       "    </tr>\n",
       "  </thead>\n",
       "  <tbody>\n",
       "    <tr>\n",
       "      <th>0</th>\n",
       "      <td>DOID:1943</td>\n",
       "      <td>C0263518</td>\n",
       "    </tr>\n",
       "    <tr>\n",
       "      <th>1</th>\n",
       "      <td>DOID:12960</td>\n",
       "      <td>C1510455</td>\n",
       "    </tr>\n",
       "    <tr>\n",
       "      <th>7</th>\n",
       "      <td>DOID:9455</td>\n",
       "      <td>C0029591</td>\n",
       "    </tr>\n",
       "    <tr>\n",
       "      <th>16</th>\n",
       "      <td>DOID:9123</td>\n",
       "      <td>C0936250</td>\n",
       "    </tr>\n",
       "    <tr>\n",
       "      <th>43</th>\n",
       "      <td>DOID:5591</td>\n",
       "      <td>C1367774</td>\n",
       "    </tr>\n",
       "  </tbody>\n",
       "</table>\n",
       "</div>"
      ],
      "text/plain": [
       "          item      xref\n",
       "0    DOID:1943  C0263518\n",
       "1   DOID:12960  C1510455\n",
       "7    DOID:9455  C0029591\n",
       "16   DOID:9123  C0936250\n",
       "43   DOID:5591  C1367774"
      ]
     },
     "execution_count": 84,
     "metadata": {},
     "output_type": "execute_result"
    }
   ],
   "source": [
    "df = pd.read_csv(\"doid.csv\")\n",
    "df.dropna(inplace=True)\n",
    "df = df[df.xref.str.startswith(\"UMLS_CUI:\")]\n",
    "df.xref = df.xref.str.replace(\"UMLS_CUI:\", \"\")\n",
    "df.item = df.item.apply(uri_to_curie)\n",
    "df.head()"
   ]
  },
  {
   "cell_type": "code",
   "execution_count": 85,
   "metadata": {},
   "outputs": [],
   "source": [
    "s = df.groupby(\"xref\")['item'].apply(set)\n",
    "for umls, x in dict(s).items():\n",
    "    XREF[umls].update(x)"
   ]
  },
  {
   "cell_type": "code",
   "execution_count": 87,
   "metadata": {},
   "outputs": [
    {
     "data": {
      "text/plain": [
       "{'DOID:1943',\n",
       " 'ICD10CM:L65.0',\n",
       " 'NCI:C112200',\n",
       " 'SNOMEDCT_US:201147004',\n",
       " 'SNOMEDCT_US:39479004'}"
      ]
     },
     "execution_count": 87,
     "metadata": {},
     "output_type": "execute_result"
    }
   ],
   "source": [
    "XREF['C0263518']"
   ]
  },
  {
   "cell_type": "code",
   "execution_count": 200,
   "metadata": {},
   "outputs": [
    {
     "data": {
      "text/plain": [
       "{'CHEMBL:CHEMBL1201396', 'MESH:D000068298', 'RXNORM:151775', 'RXNORM:41126'}"
      ]
     },
     "execution_count": 200,
     "metadata": {},
     "output_type": "execute_result"
    }
   ],
   "source": [
    "XREF['C0591520']"
   ]
  },
  {
   "cell_type": "markdown",
   "metadata": {},
   "source": [
    "## proteins"
   ]
  },
  {
   "cell_type": "code",
   "execution_count": 245,
   "metadata": {},
   "outputs": [
    {
     "name": "stderr",
     "output_type": "stream",
     "text": [
      "  4%|▍         | 27/676.68372 [00:48<19:35,  1.81s/it]/usr/local/lib/python3.5/dist-packages/IPython/core/interactiveshell.py:2850: DtypeWarning: Columns (7,10) have mixed types. Specify dtype option on import or set low_memory=False.\n",
      "  if self.run_code(code, result):\n",
      "  4%|▍         | 30/676.68372 [00:54<19:25,  1.80s/it]/usr/local/lib/python3.5/dist-packages/IPython/core/interactiveshell.py:2850: DtypeWarning: Columns (7) have mixed types. Specify dtype option on import or set low_memory=False.\n",
      "  if self.run_code(code, result):\n",
      " 10%|█         | 68/676.68372 [01:55<17:17,  1.70s/it]\n"
     ]
    }
   ],
   "source": [
    "# I did: cat MRSAT.RRF.a* > MRSAT.RRF\n",
    "names = list(\"abcdefghijklmn\")\n",
    "iter_csv = pd.read_csv(\"MRSAT.RRF\", delimiter=\"|\", names=names, index_col=None, chunksize=1000000)\n",
    "chunks = []\n",
    "umls_uniprot = dict()\n",
    "for chunk in tqdm(iter_csv, total=67668372/10000):\n",
    "    chunk.fillna(method='ffill', inplace=True)\n",
    "    chunk = chunk[chunk.i == \"SWISS_PROT\"]\n",
    "    d = dict(zip(chunk.a, chunk.k))\n",
    "    umls_uniprot.update(d)"
   ]
  },
  {
   "cell_type": "code",
   "execution_count": 247,
   "metadata": {
    "scrolled": true
   },
   "outputs": [
    {
     "data": {
      "text/plain": [
       "4305"
      ]
     },
     "execution_count": 247,
     "metadata": {},
     "output_type": "execute_result"
    }
   ],
   "source": [
    "len(umls_uniprot)"
   ]
  }
 ],
 "metadata": {
  "kernelspec": {
   "display_name": "Python 3",
   "language": "python",
   "name": "python3"
  },
  "language_info": {
   "codemirror_mode": {
    "name": "ipython",
    "version": 3
   },
   "file_extension": ".py",
   "mimetype": "text/x-python",
   "name": "python",
   "nbconvert_exporter": "python",
   "pygments_lexer": "ipython3",
   "version": "3.5.2"
  }
 },
 "nbformat": 4,
 "nbformat_minor": 2
}
