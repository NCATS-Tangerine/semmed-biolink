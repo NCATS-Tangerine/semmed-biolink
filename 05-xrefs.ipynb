{
 "cells": [
  {
   "cell_type": "markdown",
   "metadata": {},
   "source": [
    "05-xrefs\n",
    "Get xrefs from a variety of sources\n",
    "- Drugs: \n",
    "UMLS has mesh xrefs. From mesh, we can get UNII and CAS. From UNII_FDA, we can get inchikeys \n",
    "(lookup using cas or unii). From chembl, we can get chembl IDs from the inchikeys\n",
    "So: UMLS -> mesh -> unii/cas -> inchikey -> chembl\n",
    "insane, I know.\n",
    "- Anatomy: uberon has umls xrefs\n",
    "- disease: DO has umls, umls has NCI, ICD10PCS, SNOMEDCT_US, ICD10CM, OMIM\n",
    "- proteins: umls has uniprot xrefs\n",
    "- biological_process_or_activity/activity_and_behavior: umls has GO\n",
    "- gene: umls has HGNC and OMIM"
   ]
  },
  {
   "cell_type": "code",
   "execution_count": 1,
   "metadata": {},
   "outputs": [],
   "source": [
    "import sys\n",
    "import os\n",
    "import pickle\n",
    "%matplotlib inline\n",
    "import pandas as pd\n",
    "from numpy import nan\n",
    "import seaborn as sns\n",
    "import shelve\n",
    "import re\n",
    "from collections import defaultdict, Counter\n",
    "from tqdm import tqdm\n",
    "from tqdm.notebook import tqdm as tqdm_notebook\n",
    "from itertools import chain\n",
    "from more_itertools import chunked\n",
    "from collections import Counter\n",
    "from pprint import pprint\n",
    "import requests\n",
    "from pyquery import PyQuery as pq\n",
    "from wikidataintegrator import wdi_helpers, wdi_core, wdi_login"
   ]
  },
  {
   "cell_type": "code",
   "execution_count": 2,
   "metadata": {},
   "outputs": [],
   "source": [
    "DATA  = 'data/'\n",
    "\n",
    "UMLS  = DATA+\"2020AA-full/2020AA/META/\"\n",
    "MRCONSO_ENG_ARCHIVE = UMLS+\"MRCONSO_ENG.RRF.gz\"\n",
    "MRSAT_ARCHIVE = UMLS+\"MRSAT.RRF.gz\"\n",
    "\n",
    "EDGES_BIOLINK_CSV = DATA+\"edges_biolink.csv\"\n",
    "NODES_BIOLINK_CSV = DATA+\"nodes_biolink.csv\"\n",
    "\n",
    "UNII_RECORDS = DATA+\"UNII_Records_23May2020.txt\"\n",
    "\n",
    "XREFS_SHELVE = DATA+\"xrefs.shelve\"\n",
    "\n",
    "UBERON_CSV = DATA+\"uberon.csv\"\n",
    "DOID_CSV = DATA+\"doid.csv\"\n",
    "\n",
    "MESH_XREFS_CSV = DATA+\"mesh_xrefs.csv\"\n",
    "NODES_XREF_CSV = DATA+\"nodes_xref.csv\""
   ]
  },
  {
   "cell_type": "code",
   "execution_count": 3,
   "metadata": {},
   "outputs": [],
   "source": [
    "uri_to_curie = lambda s: s.split(\"/\")[-1].replace(\"_\", \":\")"
   ]
  },
  {
   "cell_type": "code",
   "execution_count": 4,
   "metadata": {},
   "outputs": [],
   "source": [
    "nodes = pd.read_csv(NODES_BIOLINK_CSV, index_col=0)"
   ]
  },
  {
   "cell_type": "code",
   "execution_count": 5,
   "metadata": {},
   "outputs": [
    {
     "data": {
      "text/html": [
       "<div>\n",
       "<style scoped>\n",
       "    .dataframe tbody tr th:only-of-type {\n",
       "        vertical-align: middle;\n",
       "    }\n",
       "\n",
       "    .dataframe tbody tr th {\n",
       "        vertical-align: top;\n",
       "    }\n",
       "\n",
       "    .dataframe thead th {\n",
       "        text-align: right;\n",
       "    }\n",
       "</style>\n",
       "<table border=\"1\" class=\"dataframe\">\n",
       "  <thead>\n",
       "    <tr style=\"text-align: right;\">\n",
       "      <th></th>\n",
       "      <th>LABEL</th>\n",
       "      <th>umls_type</th>\n",
       "      <th>umls_type_label</th>\n",
       "      <th>blm_category</th>\n",
       "    </tr>\n",
       "    <tr>\n",
       "      <th>ID</th>\n",
       "      <th></th>\n",
       "      <th></th>\n",
       "      <th></th>\n",
       "      <th></th>\n",
       "    </tr>\n",
       "  </thead>\n",
       "  <tbody>\n",
       "    <tr>\n",
       "      <th>C3842672</th>\n",
       "      <td>Day 7</td>\n",
       "      <td>T033</td>\n",
       "      <td>Finding</td>\n",
       "      <td>disease_or_phenotypic_feature</td>\n",
       "    </tr>\n",
       "    <tr>\n",
       "      <th>C0020684</th>\n",
       "      <td>Hypoxanthine</td>\n",
       "      <td>T123|T109</td>\n",
       "      <td>Biologically Active Substance|Organic Chemical</td>\n",
       "      <td>chemical_substance</td>\n",
       "    </tr>\n",
       "    <tr>\n",
       "      <th>C0853225</th>\n",
       "      <td>INR Increased</td>\n",
       "      <td>T033</td>\n",
       "      <td>Finding</td>\n",
       "      <td>disease_or_phenotypic_feature</td>\n",
       "    </tr>\n",
       "    <tr>\n",
       "      <th>C1513022</th>\n",
       "      <td>Mature Centriole</td>\n",
       "      <td>T026</td>\n",
       "      <td>Cell Component</td>\n",
       "      <td>cell_component</td>\n",
       "    </tr>\n",
       "    <tr>\n",
       "      <th>C0267183</th>\n",
       "      <td>Hourglass stricture or stenosis of stomach</td>\n",
       "      <td>T047</td>\n",
       "      <td>Disease or Syndrome</td>\n",
       "      <td>disease_or_phenotypic_feature</td>\n",
       "    </tr>\n",
       "  </tbody>\n",
       "</table>\n",
       "</div>"
      ],
      "text/plain": [
       "                                               LABEL  umls_type  \\\n",
       "ID                                                                \n",
       "C3842672                                       Day 7       T033   \n",
       "C0020684                                Hypoxanthine  T123|T109   \n",
       "C0853225                               INR Increased       T033   \n",
       "C1513022                            Mature Centriole       T026   \n",
       "C0267183  Hourglass stricture or stenosis of stomach       T047   \n",
       "\n",
       "                                         umls_type_label  \\\n",
       "ID                                                         \n",
       "C3842672                                         Finding   \n",
       "C0020684  Biologically Active Substance|Organic Chemical   \n",
       "C0853225                                         Finding   \n",
       "C1513022                                  Cell Component   \n",
       "C0267183                             Disease or Syndrome   \n",
       "\n",
       "                           blm_category  \n",
       "ID                                       \n",
       "C3842672  disease_or_phenotypic_feature  \n",
       "C0020684             chemical_substance  \n",
       "C0853225  disease_or_phenotypic_feature  \n",
       "C1513022                 cell_component  \n",
       "C0267183  disease_or_phenotypic_feature  "
      ]
     },
     "execution_count": 5,
     "metadata": {},
     "output_type": "execute_result"
    }
   ],
   "source": [
    "nodes.head()"
   ]
  },
  {
   "cell_type": "code",
   "execution_count": 6,
   "metadata": {},
   "outputs": [
    {
     "data": {
      "text/plain": [
       "chemical_substance                57087\n",
       "protein                           27274\n",
       "disease_or_phenotypic_feature     26634\n",
       "gene                              23704\n",
       "gross_anatomical_structure         8211\n",
       "biological_process_or_activity     7260\n",
       "anatomical_entity                  2275\n",
       "cell_component                     1673\n",
       "cell                               1193\n",
       "activity_and_behavior               845\n",
       "phenotypic_feature                  252\n",
       "genomic_entity                      170\n",
       "Name: blm_category, dtype: int64"
      ]
     },
     "execution_count": 6,
     "metadata": {},
     "output_type": "execute_result"
    }
   ],
   "source": [
    "nodes.blm_category.value_counts()"
   ]
  },
  {
   "cell_type": "raw",
   "metadata": {},
   "source": [
    "## used by xray\n",
    "anatomical_entity: uberon  # we can map through NCI\n",
    "biological_process: GO\n",
    "chemical_substance: CHEMBL  # MSH RXNORM NDFRT DRUGBANK UNII\n",
    "disease: DOID  # NCI, ICD10PCS, SNOMEDCT_US, ICD10CM, OMIM, \n",
    "microRNA: NCBIGene  # NCBI, HGNC\n",
    "pathway: reactome  # map through go?\n",
    "phenotypic_feature: HP  # HPO\n",
    "protein: uniprot\n",
    "\n",
    "# we need:\n",
    "anatomical_entity:\n",
    "chemical_substance\n",
    "disease\n",
    "genomic_entity # NCBI, HGNC\n",
    "biological_process\n",
    "\n",
    "# need to get externally:\n",
    "UBERON, CHEMBL, DOID, UNIPROT"
   ]
  },
  {
   "cell_type": "code",
   "execution_count": 7,
   "metadata": {},
   "outputs": [],
   "source": [
    "## parse UMLS flat file to get all UMLS xrefs\n",
    "# see: https://www.ncbi.nlm.nih.gov/books/NBK9685/"
   ]
  },
  {
   "cell_type": "code",
   "execution_count": 8,
   "metadata": {},
   "outputs": [
    {
     "name": "stderr",
     "output_type": "stream",
     "text": [
      "/Users/richard/opt/anaconda3/lib/python3.7/site-packages/IPython/core/interactiveshell.py:3063: DtypeWarning: Columns (9,10,13) have mixed types.Specify dtype option on import or set low_memory=False.\n",
      "  interactivity=interactivity, compiler=compiler, result=result)\n"
     ]
    }
   ],
   "source": [
    "names = \"CUI,LAT,TS,LUI,STT,SUI,ISPREF,AUI,SAUI,SCUI,SDUI,SAB,TTY,CODE,STR,SRL,SUPPRESS,CVF,X\".split(\",\")\n",
    "umls = pd.read_csv(MRCONSO_ENG_ARCHIVE, delimiter=\"|\", names=names, index_col=None)\n",
    "# only get CUIs in our list of nodes\n",
    "umls = umls[umls.CUI.isin(nodes.index)]"
   ]
  },
  {
   "cell_type": "code",
   "execution_count": 9,
   "metadata": {},
   "outputs": [],
   "source": [
    "umls['xref'] = umls.SAB + \":\" + umls.CODE.map(str)\n",
    "# fix this MSH MESH nonsense\n",
    "umls.xref = umls.xref.str.replace(\"MSH:\", \"MESH:\")\n",
    "# NCI_FDA is UNII\n",
    "umls.xref = umls.xref.str.replace(\"NCI_FDA:\", \"UNII:\")"
   ]
  },
  {
   "cell_type": "code",
   "execution_count": 10,
   "metadata": {},
   "outputs": [
    {
     "data": {
      "text/html": [
       "<div>\n",
       "<style scoped>\n",
       "    .dataframe tbody tr th:only-of-type {\n",
       "        vertical-align: middle;\n",
       "    }\n",
       "\n",
       "    .dataframe tbody tr th {\n",
       "        vertical-align: top;\n",
       "    }\n",
       "\n",
       "    .dataframe thead th {\n",
       "        text-align: right;\n",
       "    }\n",
       "</style>\n",
       "<table border=\"1\" class=\"dataframe\">\n",
       "  <thead>\n",
       "    <tr style=\"text-align: right;\">\n",
       "      <th></th>\n",
       "      <th>CUI</th>\n",
       "      <th>LAT</th>\n",
       "      <th>TS</th>\n",
       "      <th>LUI</th>\n",
       "      <th>STT</th>\n",
       "      <th>SUI</th>\n",
       "      <th>ISPREF</th>\n",
       "      <th>AUI</th>\n",
       "      <th>SAUI</th>\n",
       "      <th>SCUI</th>\n",
       "      <th>SDUI</th>\n",
       "      <th>SAB</th>\n",
       "      <th>TTY</th>\n",
       "      <th>CODE</th>\n",
       "      <th>STR</th>\n",
       "      <th>SRL</th>\n",
       "      <th>SUPPRESS</th>\n",
       "      <th>CVF</th>\n",
       "      <th>X</th>\n",
       "      <th>xref</th>\n",
       "    </tr>\n",
       "  </thead>\n",
       "  <tbody>\n",
       "    <tr>\n",
       "      <th>2</th>\n",
       "      <td>C0000039</td>\n",
       "      <td>ENG</td>\n",
       "      <td>P</td>\n",
       "      <td>L0000039</td>\n",
       "      <td>PF</td>\n",
       "      <td>S17175117</td>\n",
       "      <td>N</td>\n",
       "      <td>A28315139</td>\n",
       "      <td>9194921.0</td>\n",
       "      <td>1926948</td>\n",
       "      <td>NaN</td>\n",
       "      <td>RXNORM</td>\n",
       "      <td>IN</td>\n",
       "      <td>1926948</td>\n",
       "      <td>1,2-dipalmitoylphosphatidylcholine</td>\n",
       "      <td>0</td>\n",
       "      <td>N</td>\n",
       "      <td>256.0</td>\n",
       "      <td>NaN</td>\n",
       "      <td>RXNORM:1926948</td>\n",
       "    </tr>\n",
       "    <tr>\n",
       "      <th>3</th>\n",
       "      <td>C0000039</td>\n",
       "      <td>ENG</td>\n",
       "      <td>P</td>\n",
       "      <td>L0000039</td>\n",
       "      <td>PF</td>\n",
       "      <td>S17175117</td>\n",
       "      <td>Y</td>\n",
       "      <td>A28572604</td>\n",
       "      <td>NaN</td>\n",
       "      <td>NaN</td>\n",
       "      <td>NaN</td>\n",
       "      <td>MTH</td>\n",
       "      <td>PN</td>\n",
       "      <td>NOCODE</td>\n",
       "      <td>1,2-dipalmitoylphosphatidylcholine</td>\n",
       "      <td>0</td>\n",
       "      <td>N</td>\n",
       "      <td>256.0</td>\n",
       "      <td>NaN</td>\n",
       "      <td>MTH:NOCODE</td>\n",
       "    </tr>\n",
       "  </tbody>\n",
       "</table>\n",
       "</div>"
      ],
      "text/plain": [
       "        CUI  LAT TS       LUI STT        SUI ISPREF        AUI       SAUI  \\\n",
       "2  C0000039  ENG  P  L0000039  PF  S17175117      N  A28315139  9194921.0   \n",
       "3  C0000039  ENG  P  L0000039  PF  S17175117      Y  A28572604        NaN   \n",
       "\n",
       "      SCUI SDUI     SAB TTY     CODE                                 STR  SRL  \\\n",
       "2  1926948  NaN  RXNORM  IN  1926948  1,2-dipalmitoylphosphatidylcholine    0   \n",
       "3      NaN  NaN     MTH  PN   NOCODE  1,2-dipalmitoylphosphatidylcholine    0   \n",
       "\n",
       "  SUPPRESS    CVF   X            xref  \n",
       "2        N  256.0 NaN  RXNORM:1926948  \n",
       "3        N  256.0 NaN      MTH:NOCODE  "
      ]
     },
     "execution_count": 10,
     "metadata": {},
     "output_type": "execute_result"
    }
   ],
   "source": [
    "umls.head(2)"
   ]
  },
  {
   "cell_type": "code",
   "execution_count": 11,
   "metadata": {},
   "outputs": [
    {
     "name": "stdout",
     "output_type": "stream",
     "text": [
      "{'CHV:0000041179', 'MESH:D000068298'}\n"
     ]
    }
   ],
   "source": [
    "XREF = dict(umls.groupby(\"CUI\")['xref'].apply(set))\n",
    "XREF = defaultdict(set, XREF)\n",
    "print(XREF['C0591520'])"
   ]
  },
  {
   "cell_type": "code",
   "execution_count": 12,
   "metadata": {},
   "outputs": [],
   "source": [
    "# all xrefs we get from umls\n",
    "# Counter(list(chain(*[list(map(lambda x:x.split(\":\",1)[0], y)) for y in XREF.values()])))"
   ]
  },
  {
   "cell_type": "markdown",
   "metadata": {},
   "source": [
    "### Chemicals and drugs"
   ]
  },
  {
   "cell_type": "raw",
   "metadata": {},
   "source": [
    "plan: UMLS has mesh xrefs. From mesh, we can get UNII and CAS. From UNII_FDA, we can get inchikeys \n",
    "(lookup using cas or unii). From chembl, we can get chembl IDs from the inchikeys\n",
    "So: UMLS -> mesh -> unii/cas -> inchikey -> chembl\n",
    "insane, I know."
   ]
  },
  {
   "cell_type": "code",
   "execution_count": 13,
   "metadata": {},
   "outputs": [
    {
     "name": "stdout",
     "output_type": "stream",
     "text": [
      "57087\n",
      "[('MESH', 51116),\n",
      " ('NCI', 11037),\n",
      " ('RXNORM', 9120),\n",
      " ('CHV', 8325),\n",
      " ('MTH', 7286),\n",
      " ('MTHSPL', 6650),\n",
      " ('UNII', 6567),\n",
      " ('LNC', 5556),\n",
      " ('VANDF', 4038),\n",
      " ('DRUGBANK', 3496),\n",
      " ('ATC', 3204),\n",
      " ('PDQ', 2963),\n",
      " ('CSP', 2896),\n",
      " ('AOD', 1945),\n",
      " ('USP', 1884),\n",
      " ('LCH_NW', 1825),\n",
      " ('NCI_NCI-GLOSS', 1506),\n",
      " ('LCH', 1173),\n",
      " ('NCI_CTRP', 1007),\n",
      " ('USPMG', 938),\n",
      " ('NCI_DTP', 834),\n",
      " ('NCI_DCP', 734),\n",
      " ('NCI_CRCH', 235),\n",
      " ('HL7V3.0', 167),\n",
      " ('SPN', 137)]\n"
     ]
    }
   ],
   "source": [
    "# what xrefs are on chemicals?\n",
    "chem_umls = nodes[nodes.blm_category == \"chemical_substance\"].index\n",
    "xref_chem = {k:v for k,v in XREF.items() if k in chem_umls}\n",
    "print(len(chem_umls))\n",
    "c = Counter(list(chain(*[list(map(lambda x:x.split(\":\",1)[0], y)) for y in xref_chem.values()])))\n",
    "pprint(c.most_common(25))\n",
    "# nearly all have a mesh ID. not much of anything else\n",
    "# neither mesh nor umls have inchikeys, or inchi, or smiles or anything usefull for linking out\n",
    "# blech"
   ]
  },
  {
   "cell_type": "code",
   "execution_count": 14,
   "metadata": {},
   "outputs": [],
   "source": [
    "pd.set_option(\"display.width\", 120)\n",
    "\n",
    "URL = \"http://id.nlm.nih.gov/mesh/sparql\"\n",
    "PREFIX = \"\"\"\n",
    "PREFIX rdf: <http://www.w3.org/1999/02/22-rdf-syntax-ns#>\n",
    "PREFIX rdfs: <http://www.w3.org/2000/01/rdf-schema#>\n",
    "PREFIX xsd: <http://www.w3.org/2001/XMLSchema#>\n",
    "PREFIX owl: <http://www.w3.org/2002/07/owl#>\n",
    "PREFIX meshv: <http://id.nlm.nih.gov/mesh/vocab#>\n",
    "PREFIX mesh: <http://id.nlm.nih.gov/mesh/>\n",
    "\"\"\"\n",
    "\n",
    "def sparql_query(query):\n",
    "    params = {'query': PREFIX + query, 'format': 'JSON', 'limit': 1000, 'offset': 0}\n",
    "    r = requests.get(URL, params=params)\n",
    "    res = [{k: v['value'] for k, v in x.items()} for x in r.json()['results']['bindings']]\n",
    "    t = tqdm()\n",
    "    while True:\n",
    "        t.update(1)\n",
    "        params['offset'] += 1000\n",
    "        r = requests.get(URL, params=params).json()['results']['bindings']\n",
    "        if not r:\n",
    "            break\n",
    "        res.extend([{k: v['value'] for k, v in x.items()} for x in r])\n",
    "    df = pd.DataFrame(res)\n",
    "    return df"
   ]
  },
  {
   "cell_type": "code",
   "execution_count": 15,
   "metadata": {},
   "outputs": [
    {
     "name": "stderr",
     "output_type": "stream",
     "text": [
      "218it [08:23,  2.78s/it]"
     ]
    }
   ],
   "source": [
    "query = \"\"\"\n",
    "SELECT distinct ?mesh ?meshLabel ?r ?rr\n",
    "FROM <http://id.nlm.nih.gov/mesh> WHERE {\n",
    "  ?mesh meshv:active 1 .\n",
    "  ?mesh meshv:preferredMappedTo ?p .\n",
    "  ?p meshv:treeNumber ?treeNum .\n",
    "  FILTER(STRSTARTS(STR(?treeNum), \"http://id.nlm.nih.gov/mesh/D\")) .\n",
    "  ?mesh rdfs:label ?meshLabel .\n",
    "  ?mesh meshv:preferredConcept [meshv:registryNumber ?r] .\n",
    "  #OPTIONAL {?mesh meshv:preferredConcept [meshv:relatedRegistryNumber ?rr]}\n",
    "}\n",
    "\"\"\"\n",
    "df = sparql_query(query)"
   ]
  },
  {
   "cell_type": "code",
   "execution_count": 16,
   "metadata": {},
   "outputs": [],
   "source": [
    "df.r = df.r.replace(\"0\", nan)\n",
    "df.dropna(subset=[\"r\"], inplace=True)\n",
    "df = df[~df.r.str.startswith(\"EC \")]\n",
    "df.mesh = df.mesh.str.replace(\"http://id.nlm.nih.gov/mesh/\", \"\")\n",
    "df.set_index(\"mesh\", inplace=True)"
   ]
  },
  {
   "cell_type": "code",
   "execution_count": 17,
   "metadata": {},
   "outputs": [
    {
     "data": {
      "text/html": [
       "<div>\n",
       "<style scoped>\n",
       "    .dataframe tbody tr th:only-of-type {\n",
       "        vertical-align: middle;\n",
       "    }\n",
       "\n",
       "    .dataframe tbody tr th {\n",
       "        vertical-align: top;\n",
       "    }\n",
       "\n",
       "    .dataframe thead th {\n",
       "        text-align: right;\n",
       "    }\n",
       "</style>\n",
       "<table border=\"1\" class=\"dataframe\">\n",
       "  <thead>\n",
       "    <tr style=\"text-align: right;\">\n",
       "      <th></th>\n",
       "      <th>meshLabel</th>\n",
       "      <th>r</th>\n",
       "    </tr>\n",
       "    <tr>\n",
       "      <th>mesh</th>\n",
       "      <th></th>\n",
       "      <th></th>\n",
       "    </tr>\n",
       "  </thead>\n",
       "  <tbody>\n",
       "    <tr>\n",
       "      <th>C000629587</th>\n",
       "      <td>boron tribromide</td>\n",
       "      <td>A453DV9339</td>\n",
       "    </tr>\n",
       "    <tr>\n",
       "      <th>C016271</th>\n",
       "      <td>bromine chloride</td>\n",
       "      <td>7G62XY5724</td>\n",
       "    </tr>\n",
       "    <tr>\n",
       "      <th>C016769</th>\n",
       "      <td>Syn-ergel</td>\n",
       "      <td>66799-40-4</td>\n",
       "    </tr>\n",
       "    <tr>\n",
       "      <th>C017138</th>\n",
       "      <td>CMB-dextran</td>\n",
       "      <td>37307-31-6</td>\n",
       "    </tr>\n",
       "    <tr>\n",
       "      <th>C017827</th>\n",
       "      <td>bacterio-opsin</td>\n",
       "      <td>54577-62-7</td>\n",
       "    </tr>\n",
       "  </tbody>\n",
       "</table>\n",
       "</div>"
      ],
      "text/plain": [
       "                   meshLabel           r\n",
       "mesh                                    \n",
       "C000629587  boron tribromide  A453DV9339\n",
       "C016271     bromine chloride  7G62XY5724\n",
       "C016769            Syn-ergel  66799-40-4\n",
       "C017138          CMB-dextran  37307-31-6\n",
       "C017827       bacterio-opsin  54577-62-7"
      ]
     },
     "execution_count": 17,
     "metadata": {},
     "output_type": "execute_result"
    }
   ],
   "source": [
    "df.to_csv(MESH_XREFS_CSV)\n",
    "df.head()"
   ]
  },
  {
   "cell_type": "code",
   "execution_count": 18,
   "metadata": {},
   "outputs": [
    {
     "data": {
      "text/plain": [
       "47623"
      ]
     },
     "execution_count": 18,
     "metadata": {},
     "output_type": "execute_result"
    }
   ],
   "source": [
    "mesh_xrefs = pd.read_csv(MESH_XREFS_CSV, index_col=0)\n",
    "mesh_xrefs.r = mesh_xrefs.r.apply(lambda x: \"CAS:\" + x if \"-\" in x else \"UNII:\" + x)\n",
    "mesh_xrefs = mesh_xrefs.groupby(\"mesh\").r.apply(set).to_dict()\n",
    "mesh_xrefs = {\"MESH:\"+k:v for k,v in mesh_xrefs.items()}\n",
    "len(mesh_xrefs)"
   ]
  },
  {
   "cell_type": "code",
   "execution_count": 19,
   "metadata": {},
   "outputs": [],
   "source": [
    "for k,v in xref_chem.items():\n",
    "    for vv in list(v):\n",
    "        if vv in mesh_xrefs:\n",
    "            v.update(mesh_xrefs[vv])"
   ]
  },
  {
   "cell_type": "code",
   "execution_count": 20,
   "metadata": {},
   "outputs": [],
   "source": [
    "# download: 'http://fdasis.nlm.nih.gov/srs/download/srs/UNII_Data.zip'\n",
    "unii_df = pd.read_csv(UNII_RECORDS, dtype=str, sep='\\t', low_memory=False)\n",
    "unii_df.dropna(subset=['INCHIKEY'], inplace=True)"
   ]
  },
  {
   "cell_type": "code",
   "execution_count": 21,
   "metadata": {},
   "outputs": [
    {
     "data": {
      "text/html": [
       "<div>\n",
       "<style scoped>\n",
       "    .dataframe tbody tr th:only-of-type {\n",
       "        vertical-align: middle;\n",
       "    }\n",
       "\n",
       "    .dataframe tbody tr th {\n",
       "        vertical-align: top;\n",
       "    }\n",
       "\n",
       "    .dataframe thead th {\n",
       "        text-align: right;\n",
       "    }\n",
       "</style>\n",
       "<table border=\"1\" class=\"dataframe\">\n",
       "  <thead>\n",
       "    <tr style=\"text-align: right;\">\n",
       "      <th></th>\n",
       "      <th>UNII</th>\n",
       "      <th>PT</th>\n",
       "      <th>RN</th>\n",
       "      <th>EC</th>\n",
       "      <th>NCIT</th>\n",
       "      <th>RXCUI</th>\n",
       "      <th>PUBCHEM</th>\n",
       "      <th>ITIS</th>\n",
       "      <th>NCBI</th>\n",
       "      <th>PLANTS</th>\n",
       "      <th>GRIN</th>\n",
       "      <th>MPNS</th>\n",
       "      <th>INN_ID</th>\n",
       "      <th>MF</th>\n",
       "      <th>INCHIKEY</th>\n",
       "      <th>SMILES</th>\n",
       "      <th>INGREDIENT_TYPE</th>\n",
       "    </tr>\n",
       "  </thead>\n",
       "  <tbody>\n",
       "    <tr>\n",
       "      <th>0</th>\n",
       "      <td>00174624E2</td>\n",
       "      <td>CHF-6333 CATION</td>\n",
       "      <td>1613620-10-2</td>\n",
       "      <td>NaN</td>\n",
       "      <td>NaN</td>\n",
       "      <td>NaN</td>\n",
       "      <td>76285164</td>\n",
       "      <td>NaN</td>\n",
       "      <td>NaN</td>\n",
       "      <td>NaN</td>\n",
       "      <td>NaN</td>\n",
       "      <td>NaN</td>\n",
       "      <td>NaN</td>\n",
       "      <td>C27H28F3N6O3</td>\n",
       "      <td>IHTRPSMRGYWUIM-HSZRJFAPSA-O</td>\n",
       "      <td>COC(=O)C1=C(C)N(C2=NNC(=O)N2[C@@H]1C3=CC=C(C=C...</td>\n",
       "      <td>IONIC MOIETY</td>\n",
       "    </tr>\n",
       "    <tr>\n",
       "      <th>1</th>\n",
       "      <td>0129526470</td>\n",
       "      <td>5,8-DIMETHOXY(1,2,4)TRIAZOLO(1,5-C)PYRIMIDIN-2...</td>\n",
       "      <td>219715-62-5</td>\n",
       "      <td>NaN</td>\n",
       "      <td>NaN</td>\n",
       "      <td>NaN</td>\n",
       "      <td>11446888</td>\n",
       "      <td>NaN</td>\n",
       "      <td>NaN</td>\n",
       "      <td>NaN</td>\n",
       "      <td>NaN</td>\n",
       "      <td>NaN</td>\n",
       "      <td>NaN</td>\n",
       "      <td>C7H9N5O2</td>\n",
       "      <td>DBJPBHJHAPAUQU-UHFFFAOYSA-N</td>\n",
       "      <td>COC1=CN=C(OC)N2N=C(N)N=C12</td>\n",
       "      <td>INGREDIENT SUBSTANCE</td>\n",
       "    </tr>\n",
       "    <tr>\n",
       "      <th>3</th>\n",
       "      <td>0377415922</td>\n",
       "      <td>N-DESMETHYLVENLAFAXINE, (S)-</td>\n",
       "      <td>392332-59-1</td>\n",
       "      <td>NaN</td>\n",
       "      <td>NaN</td>\n",
       "      <td>NaN</td>\n",
       "      <td>9860056</td>\n",
       "      <td>NaN</td>\n",
       "      <td>NaN</td>\n",
       "      <td>NaN</td>\n",
       "      <td>NaN</td>\n",
       "      <td>NaN</td>\n",
       "      <td>NaN</td>\n",
       "      <td>C16H25NO2</td>\n",
       "      <td>MKAFOJAJJMUXLW-OAHLLOKOSA-N</td>\n",
       "      <td>CNC[C@H](C1=CC=C(OC)C=C1)C2(O)CCCCC2</td>\n",
       "      <td>INGREDIENT SUBSTANCE</td>\n",
       "    </tr>\n",
       "    <tr>\n",
       "      <th>5</th>\n",
       "      <td>0480546720</td>\n",
       "      <td>HOMOCYCLOLEUCINE HYDROCHLORIDE</td>\n",
       "      <td>39692-17-6</td>\n",
       "      <td>254-594-3</td>\n",
       "      <td>NaN</td>\n",
       "      <td>NaN</td>\n",
       "      <td>2724466</td>\n",
       "      <td>NaN</td>\n",
       "      <td>NaN</td>\n",
       "      <td>NaN</td>\n",
       "      <td>NaN</td>\n",
       "      <td>NaN</td>\n",
       "      <td>NaN</td>\n",
       "      <td>C7H13NO2.ClH</td>\n",
       "      <td>GTKXSYHXQSKWNP-UHFFFAOYSA-N</td>\n",
       "      <td>Cl.NC1(CCCCC1)C(O)=O</td>\n",
       "      <td>INGREDIENT SUBSTANCE</td>\n",
       "    </tr>\n",
       "    <tr>\n",
       "      <th>6</th>\n",
       "      <td>0503177591</td>\n",
       "      <td>SUCCINALDEHYDE</td>\n",
       "      <td>638-37-9</td>\n",
       "      <td>211-333-8</td>\n",
       "      <td>NaN</td>\n",
       "      <td>NaN</td>\n",
       "      <td>12524</td>\n",
       "      <td>NaN</td>\n",
       "      <td>NaN</td>\n",
       "      <td>NaN</td>\n",
       "      <td>NaN</td>\n",
       "      <td>NaN</td>\n",
       "      <td>NaN</td>\n",
       "      <td>C4H6O2</td>\n",
       "      <td>PCSMJKASWLYICJ-UHFFFAOYSA-N</td>\n",
       "      <td>O=CCCC=O</td>\n",
       "      <td>INGREDIENT SUBSTANCE</td>\n",
       "    </tr>\n",
       "  </tbody>\n",
       "</table>\n",
       "</div>"
      ],
      "text/plain": [
       "         UNII                                                 PT            RN         EC NCIT RXCUI   PUBCHEM ITIS  \\\n",
       "0  00174624E2                                    CHF-6333 CATION  1613620-10-2        NaN  NaN   NaN  76285164  NaN   \n",
       "1  0129526470  5,8-DIMETHOXY(1,2,4)TRIAZOLO(1,5-C)PYRIMIDIN-2...   219715-62-5        NaN  NaN   NaN  11446888  NaN   \n",
       "3  0377415922                       N-DESMETHYLVENLAFAXINE, (S)-   392332-59-1        NaN  NaN   NaN   9860056  NaN   \n",
       "5  0480546720                     HOMOCYCLOLEUCINE HYDROCHLORIDE    39692-17-6  254-594-3  NaN   NaN   2724466  NaN   \n",
       "6  0503177591                                     SUCCINALDEHYDE      638-37-9  211-333-8  NaN   NaN     12524  NaN   \n",
       "\n",
       "  NCBI PLANTS GRIN MPNS INN_ID            MF                     INCHIKEY  \\\n",
       "0  NaN    NaN  NaN  NaN    NaN  C27H28F3N6O3  IHTRPSMRGYWUIM-HSZRJFAPSA-O   \n",
       "1  NaN    NaN  NaN  NaN    NaN      C7H9N5O2  DBJPBHJHAPAUQU-UHFFFAOYSA-N   \n",
       "3  NaN    NaN  NaN  NaN    NaN     C16H25NO2  MKAFOJAJJMUXLW-OAHLLOKOSA-N   \n",
       "5  NaN    NaN  NaN  NaN    NaN  C7H13NO2.ClH  GTKXSYHXQSKWNP-UHFFFAOYSA-N   \n",
       "6  NaN    NaN  NaN  NaN    NaN        C4H6O2  PCSMJKASWLYICJ-UHFFFAOYSA-N   \n",
       "\n",
       "                                              SMILES       INGREDIENT_TYPE  \n",
       "0  COC(=O)C1=C(C)N(C2=NNC(=O)N2[C@@H]1C3=CC=C(C=C...          IONIC MOIETY  \n",
       "1                         COC1=CN=C(OC)N2N=C(N)N=C12  INGREDIENT SUBSTANCE  \n",
       "3               CNC[C@H](C1=CC=C(OC)C=C1)C2(O)CCCCC2  INGREDIENT SUBSTANCE  \n",
       "5                               Cl.NC1(CCCCC1)C(O)=O  INGREDIENT SUBSTANCE  \n",
       "6                                           O=CCCC=O  INGREDIENT SUBSTANCE  "
      ]
     },
     "execution_count": 21,
     "metadata": {},
     "output_type": "execute_result"
    }
   ],
   "source": [
    "unii_df.head()"
   ]
  },
  {
   "cell_type": "code",
   "execution_count": 22,
   "metadata": {},
   "outputs": [
    {
     "data": {
      "application/vnd.jupyter.widget-view+json": {
       "model_id": "322d08295a7a41d3bee2e5e77a1df9c3",
       "version_major": 2,
       "version_minor": 0
      },
      "text/plain": [
       "HBox(children=(FloatProgress(value=0.0, max=57087.0), HTML(value='')))"
      ]
     },
     "metadata": {},
     "output_type": "display_data"
    },
    {
     "name": "stdout",
     "output_type": "stream",
     "text": [
      "\n"
     ]
    }
   ],
   "source": [
    "n=0\n",
    "for k,v in tqdm_notebook(xref_chem.items()):\n",
    "    for vv in list(v):\n",
    "        if vv.startswith(\"UNII:\"):\n",
    "            xref = vv.replace(\"UNII:\", \"\")\n",
    "            s = unii_df.query(\"UNII == @xref\").INCHIKEY\n",
    "            if not s.empty:\n",
    "                n+=1\n",
    "                v.add(\"INCHIKEY:\" + list(s)[0])"
   ]
  },
  {
   "cell_type": "code",
   "execution_count": 23,
   "metadata": {},
   "outputs": [
    {
     "name": "stdout",
     "output_type": "stream",
     "text": [
      "11269\n"
     ]
    },
    {
     "data": {
      "text/plain": [
       "[('C0000248', 'CZIHNRWJTSTCEX-UHFFFAOYSA-N'),\n",
       " ('C0000294', 'XOGTZOOQQBDUSI-UHFFFAOYSA-M'),\n",
       " ('C0000378', 'QXWYKJLNLSIPIN-JGVFFNPUSA-N'),\n",
       " ('C0000399', 'CBOKZNLSFMZJJA-PEBGCTIMSA-N')]"
      ]
     },
     "execution_count": 23,
     "metadata": {},
     "output_type": "execute_result"
    }
   ],
   "source": [
    "xref_inchi = {k:v for k,v in xref_chem.items() if any(vv.startswith(\"INCHIKEY:\") for vv in v)}\n",
    "xref_inchi = {k:[vv for vv in v if vv.startswith(\"INCHIKEY:\")][0].replace(\"INCHIKEY:\", \"\") for k,v in xref_inchi.items()}\n",
    "print(len(xref_inchi))\n",
    "list(xref_inchi.items())[:4]"
   ]
  },
  {
   "cell_type": "code",
   "execution_count": 24,
   "metadata": {},
   "outputs": [
    {
     "name": "stderr",
     "output_type": "stream",
     "text": [
      "\n",
      "  0%|          | 0/112.69 [00:00<?, ?it/s]\u001b[A\n",
      "  1%|          | 1/112.69 [00:04<09:15,  4.98s/it]\u001b[A\n",
      "  2%|▏         | 2/112.69 [00:09<08:40,  4.70s/it]\u001b[A\n",
      "  3%|▎         | 3/112.69 [00:13<08:32,  4.68s/it]\u001b[A\n",
      "  4%|▎         | 4/112.69 [00:18<08:22,  4.62s/it]\u001b[A\n",
      "  4%|▍         | 5/112.69 [00:22<08:17,  4.62s/it]\u001b[A\n",
      "  5%|▌         | 6/112.69 [00:26<07:51,  4.42s/it]\u001b[A\n",
      "  6%|▌         | 7/112.69 [00:30<07:21,  4.17s/it]\u001b[A\n",
      "  7%|▋         | 8/112.69 [00:33<06:49,  3.92s/it]\u001b[A\n",
      "  8%|▊         | 9/112.69 [00:37<06:37,  3.83s/it]\u001b[A\n",
      "  9%|▉         | 10/112.69 [00:44<08:17,  4.85s/it]\u001b[A\n",
      " 10%|▉         | 11/112.69 [00:51<09:24,  5.55s/it]\u001b[A\n",
      " 11%|█         | 12/112.69 [00:56<09:07,  5.43s/it]\u001b[A\n",
      " 12%|█▏        | 13/112.69 [01:00<08:22,  5.04s/it]\u001b[A\n",
      " 12%|█▏        | 14/112.69 [01:05<08:01,  4.88s/it]\u001b[A\n",
      " 13%|█▎        | 15/112.69 [01:09<07:29,  4.60s/it]\u001b[A\n",
      " 14%|█▍        | 16/112.69 [01:13<06:56,  4.31s/it]\u001b[A\n",
      " 15%|█▌        | 17/112.69 [01:18<07:17,  4.57s/it]\u001b[A\n",
      " 16%|█▌        | 18/112.69 [01:22<07:00,  4.44s/it]\u001b[A\n",
      " 17%|█▋        | 19/112.69 [01:26<06:46,  4.34s/it]\u001b[A\n",
      " 18%|█▊        | 20/112.69 [01:30<06:22,  4.13s/it]\u001b[A\n",
      " 19%|█▊        | 21/112.69 [01:33<06:03,  3.96s/it]\u001b[A\n",
      " 20%|█▉        | 22/112.69 [01:37<06:00,  3.98s/it]\u001b[A\n",
      " 20%|██        | 23/112.69 [01:41<05:47,  3.88s/it]\u001b[A\n",
      " 21%|██▏       | 24/112.69 [01:44<05:34,  3.77s/it]\u001b[A\n",
      " 22%|██▏       | 25/112.69 [01:49<05:44,  3.93s/it]\u001b[A\n",
      " 23%|██▎       | 26/112.69 [01:52<05:31,  3.83s/it]\u001b[A\n",
      " 24%|██▍       | 27/112.69 [01:59<06:31,  4.57s/it]\u001b[A\n",
      " 25%|██▍       | 28/112.69 [02:02<06:04,  4.31s/it]\u001b[A\n",
      " 26%|██▌       | 29/112.69 [02:07<06:24,  4.59s/it]\u001b[A\n",
      " 27%|██▋       | 30/112.69 [02:11<05:54,  4.29s/it]\u001b[A\n",
      " 28%|██▊       | 31/112.69 [02:16<06:06,  4.48s/it]\u001b[A\n",
      " 28%|██▊       | 32/112.69 [02:20<05:54,  4.39s/it]\u001b[A\n",
      " 29%|██▉       | 33/112.69 [02:23<05:21,  4.03s/it]\u001b[A\n",
      " 30%|███       | 34/112.69 [02:27<05:17,  4.03s/it]\u001b[A\n",
      " 31%|███       | 35/112.69 [02:31<05:08,  3.97s/it]\u001b[A\n",
      " 32%|███▏      | 36/112.69 [02:38<06:07,  4.79s/it]\u001b[A\n",
      " 33%|███▎      | 37/112.69 [02:43<06:03,  4.80s/it]\u001b[A\n",
      " 34%|███▎      | 38/112.69 [02:46<05:30,  4.43s/it]\u001b[A\n",
      " 35%|███▍      | 39/112.69 [02:52<05:45,  4.69s/it]\u001b[A\n",
      " 35%|███▌      | 40/112.69 [02:56<05:26,  4.49s/it]\u001b[A\n",
      " 36%|███▋      | 41/112.69 [02:59<05:07,  4.29s/it]\u001b[A\n",
      " 37%|███▋      | 42/112.69 [03:03<04:52,  4.14s/it]\u001b[A\n",
      " 38%|███▊      | 43/112.69 [03:09<05:17,  4.55s/it]\u001b[A\n",
      " 39%|███▉      | 44/112.69 [03:13<05:05,  4.45s/it]\u001b[A\n",
      " 40%|███▉      | 45/112.69 [03:18<05:22,  4.76s/it]\u001b[A\n",
      " 41%|████      | 46/112.69 [03:22<04:59,  4.50s/it]\u001b[A\n",
      " 42%|████▏     | 47/112.69 [03:27<04:54,  4.48s/it]\u001b[A\n",
      " 43%|████▎     | 48/112.69 [03:31<04:44,  4.41s/it]\u001b[A\n",
      " 43%|████▎     | 49/112.69 [03:35<04:24,  4.16s/it]\u001b[A\n",
      " 44%|████▍     | 50/112.69 [03:40<04:48,  4.61s/it]\u001b[A\n",
      " 45%|████▌     | 51/112.69 [03:44<04:26,  4.32s/it]\u001b[A\n",
      " 46%|████▌     | 52/112.69 [03:48<04:23,  4.34s/it]\u001b[A\n",
      " 47%|████▋     | 53/112.69 [03:52<04:05,  4.11s/it]\u001b[A\n",
      " 48%|████▊     | 54/112.69 [03:55<03:46,  3.86s/it]\u001b[A\n",
      " 49%|████▉     | 55/112.69 [03:59<03:38,  3.79s/it]\u001b[A\n",
      " 50%|████▉     | 56/112.69 [04:03<03:41,  3.90s/it]\u001b[A\n",
      " 51%|█████     | 57/112.69 [04:06<03:31,  3.79s/it]\u001b[A\n",
      " 51%|█████▏    | 58/112.69 [04:10<03:19,  3.64s/it]\u001b[A\n",
      " 52%|█████▏    | 59/112.69 [04:14<03:18,  3.71s/it]\u001b[A\n",
      " 53%|█████▎    | 60/112.69 [04:17<03:12,  3.65s/it]\u001b[A\n",
      " 54%|█████▍    | 61/112.69 [04:20<03:03,  3.55s/it]\u001b[A\n",
      " 55%|█████▌    | 62/112.69 [04:24<03:04,  3.64s/it]\u001b[A\n",
      " 56%|█████▌    | 63/112.69 [04:27<02:49,  3.41s/it]\u001b[A\n",
      " 57%|█████▋    | 64/112.69 [04:30<02:41,  3.32s/it]\u001b[A\n",
      " 58%|█████▊    | 65/112.69 [04:33<02:36,  3.28s/it]\u001b[A\n",
      " 59%|█████▊    | 66/112.69 [04:37<02:40,  3.43s/it]\u001b[A\n",
      " 59%|█████▉    | 67/112.69 [04:41<02:40,  3.51s/it]\u001b[A\n",
      " 60%|██████    | 68/112.69 [04:45<02:37,  3.53s/it]\u001b[A\n",
      " 61%|██████    | 69/112.69 [04:49<02:42,  3.73s/it]\u001b[A\n",
      " 62%|██████▏   | 70/112.69 [04:54<02:58,  4.18s/it]\u001b[A\n",
      " 63%|██████▎   | 71/112.69 [04:58<02:51,  4.11s/it]\u001b[A\n",
      " 64%|██████▍   | 72/112.69 [05:02<02:42,  3.98s/it]\u001b[A\n",
      " 65%|██████▍   | 73/112.69 [05:07<02:55,  4.42s/it]\u001b[A\n",
      " 66%|██████▌   | 74/112.69 [05:13<03:06,  4.82s/it]\u001b[A\n",
      " 67%|██████▋   | 75/112.69 [05:18<03:00,  4.80s/it]\u001b[A\n",
      " 67%|██████▋   | 76/112.69 [05:24<03:11,  5.21s/it]\u001b[A\n",
      " 68%|██████▊   | 77/112.69 [05:28<02:50,  4.79s/it]\u001b[A\n",
      " 69%|██████▉   | 78/112.69 [05:31<02:29,  4.30s/it]\u001b[A\n",
      " 70%|███████   | 79/112.69 [05:35<02:20,  4.17s/it]\u001b[A\n",
      " 71%|███████   | 80/112.69 [05:38<02:07,  3.90s/it]\u001b[A\n",
      " 72%|███████▏  | 81/112.69 [05:42<02:02,  3.86s/it]\u001b[A\n",
      " 73%|███████▎  | 82/112.69 [05:45<01:57,  3.84s/it]\u001b[A\n",
      " 74%|███████▎  | 83/112.69 [05:49<01:49,  3.70s/it]\u001b[A\n",
      " 75%|███████▍  | 84/112.69 [05:53<01:47,  3.76s/it]\u001b[A\n",
      " 75%|███████▌  | 85/112.69 [05:58<01:57,  4.24s/it]\u001b[A\n",
      " 76%|███████▋  | 86/112.69 [06:01<01:43,  3.89s/it]\u001b[A\n",
      " 77%|███████▋  | 87/112.69 [06:04<01:31,  3.55s/it]\u001b[A\n",
      " 78%|███████▊  | 88/112.69 [06:07<01:26,  3.50s/it]\u001b[A\n",
      " 79%|███████▉  | 89/112.69 [06:11<01:24,  3.56s/it]\u001b[A\n",
      " 80%|███████▉  | 90/112.69 [06:15<01:23,  3.69s/it]\u001b[A\n",
      " 81%|████████  | 91/112.69 [06:19<01:21,  3.74s/it]\u001b[A\n",
      " 82%|████████▏ | 92/112.69 [06:24<01:24,  4.08s/it]\u001b[A\n",
      " 83%|████████▎ | 93/112.69 [06:27<01:19,  4.01s/it]\u001b[A\n",
      " 83%|████████▎ | 94/112.69 [06:31<01:11,  3.81s/it]\u001b[A\n",
      " 84%|████████▍ | 95/112.69 [06:34<01:04,  3.67s/it]\u001b[A\n",
      " 85%|████████▌ | 96/112.69 [06:38<00:59,  3.58s/it]\u001b[A\n",
      " 86%|████████▌ | 97/112.69 [06:41<00:55,  3.54s/it]\u001b[A\n",
      " 87%|████████▋ | 98/112.69 [06:44<00:50,  3.40s/it]\u001b[A\n",
      " 88%|████████▊ | 99/112.69 [06:47<00:44,  3.23s/it]\u001b[A\n",
      " 89%|████████▊ | 100/112.69 [06:50<00:41,  3.29s/it]\u001b[A\n",
      " 90%|████████▉ | 101/112.69 [06:54<00:39,  3.36s/it]\u001b[A\n",
      " 91%|█████████ | 102/112.69 [06:58<00:36,  3.46s/it]\u001b[A\n",
      " 91%|█████████▏| 103/112.69 [07:01<00:33,  3.45s/it]\u001b[A\n",
      " 92%|█████████▏| 104/112.69 [07:04<00:28,  3.33s/it]\u001b[A\n",
      " 93%|█████████▎| 105/112.69 [07:07<00:25,  3.37s/it]\u001b[A\n",
      " 94%|█████████▍| 106/112.69 [07:11<00:23,  3.47s/it]\u001b[A\n",
      " 95%|█████████▍| 107/112.69 [07:15<00:19,  3.51s/it]\u001b[A\n",
      " 96%|█████████▌| 108/112.69 [07:21<00:19,  4.26s/it]\u001b[A\n",
      " 97%|█████████▋| 109/112.69 [07:25<00:15,  4.26s/it]\u001b[A\n",
      " 98%|█████████▊| 110/112.69 [07:29<00:11,  4.22s/it]\u001b[A\n",
      " 99%|█████████▊| 111/112.69 [07:33<00:06,  3.99s/it]\u001b[A\n",
      " 99%|█████████▉| 112/112.69 [07:37<00:02,  3.96s/it]\u001b[A\n",
      "/Users/richard/opt/anaconda3/lib/python3.7/site-packages/tqdm/std.py:484: TqdmWarning: clamping frac to range [0, 1]\n",
      "  charset=Bar.ASCII if ascii is True else ascii or Bar.UTF)\n",
      "100%|██████████| 113/112.69 [07:41<-1:59:59,  4.08s/it]\u001b[A\n"
     ]
    }
   ],
   "source": [
    "url = \"https://www.ebi.ac.uk/chembl/api/data/molecule?molecule_structures__standard_inchi_key__in={}&format=json&limit=100\"\n",
    "for chunk in tqdm(chunked(xref_inchi.items(), 100), total=len(xref_inchi)/100):\n",
    "    chunk = dict(chunk)\n",
    "    chunk = {v:k for k,v in chunk.items()}\n",
    "    inchis = \",\".join(chunk)\n",
    "    mols = requests.get(url.format(inchis)).json()['molecules']\n",
    "    for m in mols:\n",
    "        chembl = m['molecule_chembl_id']\n",
    "        inchi = m['molecule_structures']['standard_inchi_key']\n",
    "        XREF[chunk[inchi]].add(\"CHEMBL:\" + chembl)"
   ]
  },
  {
   "cell_type": "code",
   "execution_count": 25,
   "metadata": {},
   "outputs": [
    {
     "data": {
      "text/plain": [
       "8736"
      ]
     },
     "execution_count": 25,
     "metadata": {},
     "output_type": "execute_result"
    }
   ],
   "source": [
    "len({k:v for k,v in XREF.items() if any(vv.startswith(\"CHEMBL:\") for vv in v)})"
   ]
  },
  {
   "cell_type": "code",
   "execution_count": 26,
   "metadata": {},
   "outputs": [],
   "source": [
    "with open(XREFS_SHELVE, 'wb') as f:\n",
    "    pickle.dump(XREF, f)"
   ]
  },
  {
   "cell_type": "code",
   "execution_count": 27,
   "metadata": {},
   "outputs": [],
   "source": [
    "## UBERON, uses uberon.csv generated from the uberon.owl file previously downloaded (see README)"
   ]
  },
  {
   "cell_type": "code",
   "execution_count": 28,
   "metadata": {},
   "outputs": [
    {
     "data": {
      "text/html": [
       "<div>\n",
       "<style scoped>\n",
       "    .dataframe tbody tr th:only-of-type {\n",
       "        vertical-align: middle;\n",
       "    }\n",
       "\n",
       "    .dataframe tbody tr th {\n",
       "        vertical-align: top;\n",
       "    }\n",
       "\n",
       "    .dataframe thead th {\n",
       "        text-align: right;\n",
       "    }\n",
       "</style>\n",
       "<table border=\"1\" class=\"dataframe\">\n",
       "  <thead>\n",
       "    <tr style=\"text-align: right;\">\n",
       "      <th></th>\n",
       "      <th>item</th>\n",
       "      <th>xref</th>\n",
       "    </tr>\n",
       "  </thead>\n",
       "  <tbody>\n",
       "    <tr>\n",
       "      <th>9755</th>\n",
       "      <td>UBERON:0007227</td>\n",
       "      <td>C0228757</td>\n",
       "    </tr>\n",
       "    <tr>\n",
       "      <th>11788</th>\n",
       "      <td>UBERON:0002965</td>\n",
       "      <td>C0175263</td>\n",
       "    </tr>\n",
       "    <tr>\n",
       "      <th>11853</th>\n",
       "      <td>UBERON:0001532</td>\n",
       "      <td>C0007276</td>\n",
       "    </tr>\n",
       "    <tr>\n",
       "      <th>11897</th>\n",
       "      <td>UBERON:0014636</td>\n",
       "      <td>C0228627</td>\n",
       "    </tr>\n",
       "    <tr>\n",
       "      <th>11904</th>\n",
       "      <td>UBERON:0002610</td>\n",
       "      <td>C0152411</td>\n",
       "    </tr>\n",
       "  </tbody>\n",
       "</table>\n",
       "</div>"
      ],
      "text/plain": [
       "                 item      xref\n",
       "9755   UBERON:0007227  C0228757\n",
       "11788  UBERON:0002965  C0175263\n",
       "11853  UBERON:0001532  C0007276\n",
       "11897  UBERON:0014636  C0228627\n",
       "11904  UBERON:0002610  C0152411"
      ]
     },
     "execution_count": 28,
     "metadata": {},
     "output_type": "execute_result"
    }
   ],
   "source": [
    "df = pd.read_csv(UBERON_CSV)\n",
    "df = df[df.xref.str.startswith(\"UMLS:\")]\n",
    "df.xref = df.xref.str.replace(\"UMLS:\", \"\")\n",
    "df.item = df.item.apply(uri_to_curie)\n",
    "df.head()"
   ]
  },
  {
   "cell_type": "code",
   "execution_count": 29,
   "metadata": {},
   "outputs": [],
   "source": [
    "s = df.groupby(\"xref\")['item'].apply(set)\n",
    "for umls, x in dict(s).items():\n",
    "    XREF[umls].update(x)"
   ]
  },
  {
   "cell_type": "code",
   "execution_count": 30,
   "metadata": {},
   "outputs": [
    {
     "data": {
      "text/plain": [
       "{'MTH:NOCODE', 'UBERON:0006472'}"
      ]
     },
     "execution_count": 30,
     "metadata": {},
     "output_type": "execute_result"
    }
   ],
   "source": [
    "XREF['C1272528']"
   ]
  },
  {
   "cell_type": "code",
   "execution_count": 31,
   "metadata": {},
   "outputs": [],
   "source": [
    "## DOID, uses doid.csv generated from the doi.owl file previously downloaded (see README)"
   ]
  },
  {
   "cell_type": "code",
   "execution_count": 32,
   "metadata": {},
   "outputs": [
    {
     "data": {
      "text/html": [
       "<div>\n",
       "<style scoped>\n",
       "    .dataframe tbody tr th:only-of-type {\n",
       "        vertical-align: middle;\n",
       "    }\n",
       "\n",
       "    .dataframe tbody tr th {\n",
       "        vertical-align: top;\n",
       "    }\n",
       "\n",
       "    .dataframe thead th {\n",
       "        text-align: right;\n",
       "    }\n",
       "</style>\n",
       "<table border=\"1\" class=\"dataframe\">\n",
       "  <thead>\n",
       "    <tr style=\"text-align: right;\">\n",
       "      <th></th>\n",
       "      <th>item</th>\n",
       "      <th>xref</th>\n",
       "    </tr>\n",
       "  </thead>\n",
       "  <tbody>\n",
       "    <tr>\n",
       "      <th>6</th>\n",
       "      <td>DOID:3864</td>\n",
       "      <td>C1332188</td>\n",
       "    </tr>\n",
       "    <tr>\n",
       "      <th>7</th>\n",
       "      <td>DOID:3864</td>\n",
       "      <td>C0278876</td>\n",
       "    </tr>\n",
       "    <tr>\n",
       "      <th>21</th>\n",
       "      <td>DOID:699</td>\n",
       "      <td>C0162670</td>\n",
       "    </tr>\n",
       "    <tr>\n",
       "      <th>27</th>\n",
       "      <td>DOID:0111831</td>\n",
       "      <td>C1844936</td>\n",
       "    </tr>\n",
       "    <tr>\n",
       "      <th>34</th>\n",
       "      <td>DOID:0111618</td>\n",
       "      <td>C1853116</td>\n",
       "    </tr>\n",
       "  </tbody>\n",
       "</table>\n",
       "</div>"
      ],
      "text/plain": [
       "            item      xref\n",
       "6      DOID:3864  C1332188\n",
       "7      DOID:3864  C0278876\n",
       "21      DOID:699  C0162670\n",
       "27  DOID:0111831  C1844936\n",
       "34  DOID:0111618  C1853116"
      ]
     },
     "execution_count": 32,
     "metadata": {},
     "output_type": "execute_result"
    }
   ],
   "source": [
    "df = pd.read_csv(DOID_CSV)\n",
    "df.dropna(inplace=True)\n",
    "df = df[df.xref.str.startswith(\"UMLS_CUI:\")]\n",
    "df.xref = df.xref.str.replace(\"UMLS_CUI:\", \"\")\n",
    "df.item = df.item.apply(uri_to_curie)\n",
    "df.head()"
   ]
  },
  {
   "cell_type": "code",
   "execution_count": 33,
   "metadata": {},
   "outputs": [],
   "source": [
    "s = df.groupby(\"xref\")['item'].apply(set)\n",
    "for umls, x in dict(s).items():\n",
    "    XREF[umls].update(x)"
   ]
  },
  {
   "cell_type": "code",
   "execution_count": 34,
   "metadata": {},
   "outputs": [
    {
     "data": {
      "text/plain": [
       "{'DOID:1943',\n",
       " 'HPO:HP:0025470',\n",
       " 'ICD9CM:704.02',\n",
       " 'MTH:NOCODE',\n",
       " 'NCI:C112200',\n",
       " 'NCI_NICHD:C112200'}"
      ]
     },
     "execution_count": 34,
     "metadata": {},
     "output_type": "execute_result"
    }
   ],
   "source": [
    "XREF['C0263518']"
   ]
  },
  {
   "cell_type": "code",
   "execution_count": 35,
   "metadata": {},
   "outputs": [
    {
     "data": {
      "text/plain": [
       "{'CHV:0000041179', 'MESH:D000068298'}"
      ]
     },
     "execution_count": 35,
     "metadata": {},
     "output_type": "execute_result"
    }
   ],
   "source": [
    "XREF['C0591520']"
   ]
  },
  {
   "cell_type": "markdown",
   "metadata": {},
   "source": [
    "## proteins"
   ]
  },
  {
   "cell_type": "code",
   "execution_count": 36,
   "metadata": {
    "scrolled": true
   },
   "outputs": [
    {
     "name": "stderr",
     "output_type": "stream",
     "text": [
      "\n",
      "  0%|          | 0/67.668372 [00:00<?, ?it/s]\u001b[A\n",
      "  1%|▏         | 1/67.668372 [00:03<03:33,  3.20s/it]\u001b[A\n",
      "  3%|▎         | 2/67.668372 [00:06<03:25,  3.14s/it]\u001b[A\n",
      "  4%|▍         | 3/67.668372 [00:09<03:22,  3.13s/it]\u001b[A\n",
      "  6%|▌         | 4/67.668372 [00:12<03:14,  3.06s/it]\u001b[A\n",
      "  7%|▋         | 5/67.668372 [00:15<03:09,  3.03s/it]\u001b[A\n",
      "  9%|▉         | 6/67.668372 [00:18<03:06,  3.02s/it]\u001b[A\n",
      " 10%|█         | 7/67.668372 [00:20<02:59,  2.96s/it]\u001b[A\n",
      " 12%|█▏        | 8/67.668372 [00:23<02:54,  2.93s/it]\u001b[A\n",
      " 13%|█▎        | 9/67.668372 [00:26<02:51,  2.91s/it]\u001b[A\n",
      " 15%|█▍        | 10/67.668372 [00:29<02:44,  2.85s/it]\u001b[A\n",
      " 16%|█▋        | 11/67.668372 [00:32<02:41,  2.85s/it]\u001b[A\n",
      " 18%|█▊        | 12/67.668372 [00:34<02:35,  2.79s/it]\u001b[A\n",
      " 19%|█▉        | 13/67.668372 [00:37<02:32,  2.79s/it]\u001b[A\n",
      " 21%|██        | 14/67.668372 [00:40<02:27,  2.75s/it]\u001b[A\n",
      " 22%|██▏       | 15/67.668372 [00:43<02:24,  2.75s/it]\u001b[A\n",
      " 24%|██▎       | 16/67.668372 [00:45<02:22,  2.75s/it]\u001b[A\n",
      " 25%|██▌       | 17/67.668372 [00:48<02:21,  2.79s/it]\u001b[A/Users/richard/opt/anaconda3/lib/python3.7/site-packages/IPython/core/interactiveshell.py:3254: DtypeWarning: Columns (5) have mixed types.Specify dtype option on import or set low_memory=False.\n",
      "  if (await self.run_code(code, result,  async_=asy)):\n",
      "\n",
      " 27%|██▋       | 18/67.668372 [00:51<02:16,  2.74s/it]\u001b[A\n",
      " 28%|██▊       | 19/67.668372 [00:54<02:14,  2.76s/it]\u001b[A\n",
      " 30%|██▉       | 20/67.668372 [00:56<02:10,  2.73s/it]\u001b[A\n",
      " 31%|███       | 21/67.668372 [00:59<02:07,  2.73s/it]\u001b[A\n",
      " 33%|███▎      | 22/67.668372 [01:02<02:04,  2.73s/it]\u001b[A\n",
      " 34%|███▍      | 23/67.668372 [01:05<02:01,  2.72s/it]\u001b[A\n",
      " 35%|███▌      | 24/67.668372 [01:07<01:56,  2.67s/it]\u001b[A\n",
      " 37%|███▋      | 25/67.668372 [01:10<01:54,  2.67s/it]\u001b[A\n",
      " 38%|███▊      | 26/67.668372 [01:13<01:52,  2.70s/it]\u001b[A\n",
      " 40%|███▉      | 27/67.668372 [01:15<01:50,  2.71s/it]\u001b[A\n",
      " 41%|████▏     | 28/67.668372 [01:18<01:44,  2.64s/it]\u001b[A/Users/richard/opt/anaconda3/lib/python3.7/site-packages/IPython/core/interactiveshell.py:3254: DtypeWarning: Columns (1,2,3,5) have mixed types.Specify dtype option on import or set low_memory=False.\n",
      "  if (await self.run_code(code, result,  async_=asy)):\n",
      "\n",
      " 43%|████▎     | 29/67.668372 [01:20<01:47,  2.77s/it]\u001b[A\n"
     ]
    }
   ],
   "source": [
    "# See README regarding MRSAT_ARCHIVE\n",
    "names = list(\"abcdefghijklmn\")\n",
    "iter_csv = pd.read_csv(MRSAT_ARCHIVE, delimiter=\"|\", names=names, index_col=None, chunksize=1000000)\n",
    "chunks = []\n",
    "umls_uniprot = dict()\n",
    "for chunk in tqdm(iter_csv, total=67668372/1000000):\n",
    "    chunk.fillna(method='ffill', inplace=True)\n",
    "    chunk = chunk[chunk.i == \"SWISS_PROT\"]\n",
    "    d = dict(zip(chunk.a, chunk.k))\n",
    "    umls_uniprot.update(d)"
   ]
  },
  {
   "cell_type": "code",
   "execution_count": 37,
   "metadata": {
    "scrolled": true
   },
   "outputs": [
    {
     "data": {
      "text/plain": [
       "4916"
      ]
     },
     "execution_count": 37,
     "metadata": {},
     "output_type": "execute_result"
    }
   ],
   "source": [
    "len(umls_uniprot)"
   ]
  },
  {
   "cell_type": "code",
   "execution_count": 38,
   "metadata": {},
   "outputs": [],
   "source": [
    "for umls, uniprot in umls_uniprot.items():\n",
    "    XREF[umls].add(\"UNIPROT:\" + uniprot)"
   ]
  },
  {
   "cell_type": "code",
   "execution_count": 39,
   "metadata": {},
   "outputs": [
    {
     "data": {
      "text/plain": [
       "{'MESH:C081092',\n",
       " 'MTH:NOCODE',\n",
       " 'NCI:C127008',\n",
       " 'NCI_CTRP:C127008',\n",
       " 'UNIPROT:Q04756'}"
      ]
     },
     "execution_count": 39,
     "metadata": {},
     "output_type": "execute_result"
    }
   ],
   "source": [
    "XREF['C0215993']"
   ]
  },
  {
   "cell_type": "code",
   "execution_count": 40,
   "metadata": {},
   "outputs": [],
   "source": [
    "with open(XREFS_SHELVE, 'wb') as f:\n",
    "    pickle.dump(XREF, f)"
   ]
  },
  {
   "cell_type": "code",
   "execution_count": 41,
   "metadata": {},
   "outputs": [],
   "source": [
    "nodes['xrefs'] = nodes.index.map(lambda x: \";\".join(XREF.get(x,list())))"
   ]
  },
  {
   "cell_type": "code",
   "execution_count": 42,
   "metadata": {},
   "outputs": [
    {
     "data": {
      "text/html": [
       "<div>\n",
       "<style scoped>\n",
       "    .dataframe tbody tr th:only-of-type {\n",
       "        vertical-align: middle;\n",
       "    }\n",
       "\n",
       "    .dataframe tbody tr th {\n",
       "        vertical-align: top;\n",
       "    }\n",
       "\n",
       "    .dataframe thead th {\n",
       "        text-align: right;\n",
       "    }\n",
       "</style>\n",
       "<table border=\"1\" class=\"dataframe\">\n",
       "  <thead>\n",
       "    <tr style=\"text-align: right;\">\n",
       "      <th></th>\n",
       "      <th>LABEL</th>\n",
       "      <th>umls_type</th>\n",
       "      <th>umls_type_label</th>\n",
       "      <th>blm_category</th>\n",
       "      <th>xrefs</th>\n",
       "    </tr>\n",
       "    <tr>\n",
       "      <th>ID</th>\n",
       "      <th></th>\n",
       "      <th></th>\n",
       "      <th></th>\n",
       "      <th></th>\n",
       "      <th></th>\n",
       "    </tr>\n",
       "  </thead>\n",
       "  <tbody>\n",
       "    <tr>\n",
       "      <th>C3842672</th>\n",
       "      <td>Day 7</td>\n",
       "      <td>T033</td>\n",
       "      <td>Finding</td>\n",
       "      <td>disease_or_phenotypic_feature</td>\n",
       "      <td>LNC:LA16590-4</td>\n",
       "    </tr>\n",
       "    <tr>\n",
       "      <th>C0020684</th>\n",
       "      <td>Hypoxanthine</td>\n",
       "      <td>T123|T109</td>\n",
       "      <td>Biologically Active Substance|Organic Chemical</td>\n",
       "      <td>chemical_substance</td>\n",
       "      <td>LNC:LP15651-0;NCI:C29105;CHV:0000006506;MESH:D...</td>\n",
       "    </tr>\n",
       "    <tr>\n",
       "      <th>C0853225</th>\n",
       "      <td>INR Increased</td>\n",
       "      <td>T033</td>\n",
       "      <td>Finding</td>\n",
       "      <td>disease_or_phenotypic_feature</td>\n",
       "      <td>OMIM:MTHU055758;NCI_CTCAE:E12175;NCI:C78366;CH...</td>\n",
       "    </tr>\n",
       "    <tr>\n",
       "      <th>C1513022</th>\n",
       "      <td>Mature Centriole</td>\n",
       "      <td>T026</td>\n",
       "      <td>Cell Component</td>\n",
       "      <td>cell_component</td>\n",
       "      <td>NCI:C33060</td>\n",
       "    </tr>\n",
       "    <tr>\n",
       "      <th>C0267183</th>\n",
       "      <td>Hourglass stricture or stenosis of stomach</td>\n",
       "      <td>T047</td>\n",
       "      <td>Disease or Syndrome</td>\n",
       "      <td>disease_or_phenotypic_feature</td>\n",
       "      <td>MTHICD9:537.6;ICD9CM:537.6;DOID:12234</td>\n",
       "    </tr>\n",
       "  </tbody>\n",
       "</table>\n",
       "</div>"
      ],
      "text/plain": [
       "                                               LABEL  umls_type                                 umls_type_label  \\\n",
       "ID                                                                                                                \n",
       "C3842672                                       Day 7       T033                                         Finding   \n",
       "C0020684                                Hypoxanthine  T123|T109  Biologically Active Substance|Organic Chemical   \n",
       "C0853225                               INR Increased       T033                                         Finding   \n",
       "C1513022                            Mature Centriole       T026                                  Cell Component   \n",
       "C0267183  Hourglass stricture or stenosis of stomach       T047                             Disease or Syndrome   \n",
       "\n",
       "                           blm_category                                              xrefs  \n",
       "ID                                                                                          \n",
       "C3842672  disease_or_phenotypic_feature                                      LNC:LA16590-4  \n",
       "C0020684             chemical_substance  LNC:LP15651-0;NCI:C29105;CHV:0000006506;MESH:D...  \n",
       "C0853225  disease_or_phenotypic_feature  OMIM:MTHU055758;NCI_CTCAE:E12175;NCI:C78366;CH...  \n",
       "C1513022                 cell_component                                         NCI:C33060  \n",
       "C0267183  disease_or_phenotypic_feature              MTHICD9:537.6;ICD9CM:537.6;DOID:12234  "
      ]
     },
     "execution_count": 42,
     "metadata": {},
     "output_type": "execute_result"
    }
   ],
   "source": [
    "nodes.head()"
   ]
  },
  {
   "cell_type": "code",
   "execution_count": 43,
   "metadata": {},
   "outputs": [],
   "source": [
    "nodes.to_csv(NODES_XREF_CSV)"
   ]
  },
  {
   "cell_type": "code",
   "execution_count": null,
   "metadata": {},
   "outputs": [],
   "source": []
  }
 ],
 "metadata": {
  "kernelspec": {
   "display_name": "Python 3",
   "language": "python",
   "name": "python3"
  },
  "language_info": {
   "codemirror_mode": {
    "name": "ipython",
    "version": 3
   },
   "file_extension": ".py",
   "mimetype": "text/x-python",
   "name": "python",
   "nbconvert_exporter": "python",
   "pygments_lexer": "ipython3",
   "version": "3.7.6"
  }
 },
 "nbformat": 4,
 "nbformat_minor": 4
}
